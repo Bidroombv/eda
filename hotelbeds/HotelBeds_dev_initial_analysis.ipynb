{
 "cells": [
  {
   "cell_type": "code",
   "execution_count": 2,
   "id": "bearing-branch",
   "metadata": {
    "ExecuteTime": {
     "end_time": "2022-07-26T12:23:04.033674Z",
     "start_time": "2022-07-26T12:23:04.026339Z"
    }
   },
   "outputs": [
    {
     "name": "stderr",
     "output_type": "stream",
     "text": [
      "<ipython-input-2-c852ab0c67f9>:1: DeprecationWarning: Importing display from IPython.core.display is deprecated since IPython 7.14, please import from IPython display\n",
      "  from IPython.core.display import display, HTML\n"
     ]
    },
    {
     "data": {
      "text/html": [
       "<style>.container { width:80% !important; }</style>"
      ],
      "text/plain": [
       "<IPython.core.display.HTML object>"
      ]
     },
     "metadata": {},
     "output_type": "display_data"
    }
   ],
   "source": [
    "from IPython.core.display import display, HTML\n",
    "display(HTML(\"<style>.container { width:80% !important; }</style>\"))"
   ]
  },
  {
   "cell_type": "code",
   "execution_count": 3,
   "id": "touched-victorian",
   "metadata": {
    "ExecuteTime": {
     "end_time": "2022-07-26T12:23:08.400703Z",
     "start_time": "2022-07-26T12:23:04.364929Z"
    }
   },
   "outputs": [],
   "source": [
    "import pandas as pd\n",
    "import io\n",
    "import os\n",
    "import pyarrow.parquet as pq\n",
    "import numpy as np\n",
    "import glob\n",
    "import json"
   ]
  },
  {
   "cell_type": "code",
   "execution_count": 4,
   "id": "unexpected-formula",
   "metadata": {
    "ExecuteTime": {
     "end_time": "2022-07-26T12:23:08.407109Z",
     "start_time": "2022-07-26T12:23:08.405057Z"
    }
   },
   "outputs": [],
   "source": [
    "pd.set_option('display.max_columns', None)\n",
    "pd.set_option('display.expand_frame_repr', False)"
   ]
  },
  {
   "cell_type": "markdown",
   "id": "solar-kitchen",
   "metadata": {},
   "source": [
    "# Loading data"
   ]
  },
  {
   "cell_type": "code",
   "execution_count": 5,
   "id": "expressed-tackle",
   "metadata": {
    "ExecuteTime": {
     "end_time": "2022-07-26T12:23:08.798230Z",
     "start_time": "2022-07-26T12:23:08.777151Z"
    }
   },
   "outputs": [],
   "source": [
    "path_to_json = '/home/michal/python_scripts/hotelBeds/hotels.dev/'\n",
    "json_pattern = os.path.join(path_to_json,'*.json')\n",
    "file_list = glob.glob(json_pattern)"
   ]
  },
  {
   "cell_type": "code",
   "execution_count": 6,
   "id": "human-apparel",
   "metadata": {
    "ExecuteTime": {
     "end_time": "2022-07-26T12:27:49.252182Z",
     "start_time": "2022-07-26T12:23:33.142150Z"
    }
   },
   "outputs": [
    {
     "name": "stdout",
     "output_type": "stream",
     "text": [
      "/home/michal/python_scripts/hotelBeds/hotels.dev/hotels.58501.59001.json\n",
      "/home/michal/python_scripts/hotelBeds/hotels.dev/hotels.73001.73501.json\n",
      "/home/michal/python_scripts/hotelBeds/hotels.dev/hotels.135001.135501.json\n",
      "/home/michal/python_scripts/hotelBeds/hotels.dev/hotels.20001.20501.json\n",
      "/home/michal/python_scripts/hotelBeds/hotels.dev/hotels.30001.30501.json\n",
      "/home/michal/python_scripts/hotelBeds/hotels.dev/hotels.141501.142001.json\n",
      "/home/michal/python_scripts/hotelBeds/hotels.dev/hotels.78501.79001.json\n",
      "/home/michal/python_scripts/hotelBeds/hotels.dev/hotels.122501.123001.json\n",
      "/home/michal/python_scripts/hotelBeds/hotels.dev/hotels.147501.148001.json\n",
      "/home/michal/python_scripts/hotelBeds/hotels.dev/hotels.140501.141001.json\n",
      "/home/michal/python_scripts/hotelBeds/hotels.dev/hotels.103501.104001.json\n",
      "/home/michal/python_scripts/hotelBeds/hotels.dev/hotels.158501.159001.json\n",
      "/home/michal/python_scripts/hotelBeds/hotels.dev/hotels.90001.90501.json\n",
      "/home/michal/python_scripts/hotelBeds/hotels.dev/hotels.102001.102501.json\n",
      "/home/michal/python_scripts/hotelBeds/hotels.dev/hotels.102501.103001.json\n",
      "/home/michal/python_scripts/hotelBeds/hotels.dev/hotels.32001.32501.json\n",
      "/home/michal/python_scripts/hotelBeds/hotels.dev/hotels.92501.93001.json\n",
      "/home/michal/python_scripts/hotelBeds/hotels.dev/hotels.35001.35501.json\n",
      "/home/michal/python_scripts/hotelBeds/hotels.dev/hotels.43001.43501.json\n",
      "/home/michal/python_scripts/hotelBeds/hotels.dev/hotels.150001.150501.json\n",
      "/home/michal/python_scripts/hotelBeds/hotels.dev/hotels.114501.115001.json\n",
      "/home/michal/python_scripts/hotelBeds/hotels.dev/hotels.144501.145001.json\n",
      "/home/michal/python_scripts/hotelBeds/hotels.dev/hotels.153001.153501.json\n",
      "/home/michal/python_scripts/hotelBeds/hotels.dev/hotels.107001.107501.json\n",
      "/home/michal/python_scripts/hotelBeds/hotels.dev/hotels.22501.23001.json\n",
      "/home/michal/python_scripts/hotelBeds/hotels.dev/hotels.151501.152001.json\n",
      "/home/michal/python_scripts/hotelBeds/hotels.dev/hotels.76001.76501.json\n",
      "/home/michal/python_scripts/hotelBeds/hotels.dev/hotels.114001.114501.json\n",
      "/home/michal/python_scripts/hotelBeds/hotels.dev/hotels.143501.144001.json\n",
      "/home/michal/python_scripts/hotelBeds/hotels.dev/hotels.16001.16501.json\n",
      "/home/michal/python_scripts/hotelBeds/hotels.dev/hotels.112001.112501.json\n",
      "/home/michal/python_scripts/hotelBeds/hotels.dev/hotels.33001.33501.json\n",
      "/home/michal/python_scripts/hotelBeds/hotels.dev/hotels.61001.61501.json\n",
      "/home/michal/python_scripts/hotelBeds/hotels.dev/hotels.116001.116501.json\n",
      "/home/michal/python_scripts/hotelBeds/hotels.dev/hotels.83501.84001.json\n",
      "/home/michal/python_scripts/hotelBeds/hotels.dev/hotels.51501.52001.json\n",
      "/home/michal/python_scripts/hotelBeds/hotels.dev/hotels.121001.121501.json\n",
      "/home/michal/python_scripts/hotelBeds/hotels.dev/hotels.68501.69001.json\n",
      "/home/michal/python_scripts/hotelBeds/hotels.dev/hotels.1.501.json\n",
      "/home/michal/python_scripts/hotelBeds/hotels.dev/hotels.25001.25501.json\n",
      "/home/michal/python_scripts/hotelBeds/hotels.dev/hotels.65001.65501.json\n",
      "/home/michal/python_scripts/hotelBeds/hotels.dev/hotels.74501.75001.json\n",
      "/home/michal/python_scripts/hotelBeds/hotels.dev/hotels.89001.89501.json\n",
      "/home/michal/python_scripts/hotelBeds/hotels.dev/hotels.93001.93501.json\n",
      "/home/michal/python_scripts/hotelBeds/hotels.dev/hotels.123001.123501.json\n",
      "/home/michal/python_scripts/hotelBeds/hotels.dev/hotels.82501.83001.json\n",
      "/home/michal/python_scripts/hotelBeds/hotels.dev/hotels.9501.10001.json\n",
      "/home/michal/python_scripts/hotelBeds/hotels.dev/hotels.12001.12501.json\n",
      "/home/michal/python_scripts/hotelBeds/hotels.dev/hotels.28001.28501.json\n",
      "/home/michal/python_scripts/hotelBeds/hotels.dev/hotels.67001.67501.json\n",
      "/home/michal/python_scripts/hotelBeds/hotels.dev/hotels.161001.161501.json\n",
      "/home/michal/python_scripts/hotelBeds/hotels.dev/hotels.145501.146001.json\n",
      "/home/michal/python_scripts/hotelBeds/hotels.dev/hotels.163501.164001.json\n",
      "/home/michal/python_scripts/hotelBeds/hotels.dev/hotels.99501.100001.json\n",
      "/home/michal/python_scripts/hotelBeds/hotels.dev/hotels.119001.119501.json\n",
      "/home/michal/python_scripts/hotelBeds/hotels.dev/hotels.56501.57001.json\n",
      "/home/michal/python_scripts/hotelBeds/hotels.dev/hotels.84001.84501.json\n",
      "/home/michal/python_scripts/hotelBeds/hotels.dev/hotels.128501.129001.json\n",
      "/home/michal/python_scripts/hotelBeds/hotels.dev/hotels.79001.79501.json\n",
      "/home/michal/python_scripts/hotelBeds/hotels.dev/hotels.84501.85001.json\n",
      "/home/michal/python_scripts/hotelBeds/hotels.dev/hotels.35501.36001.json\n",
      "/home/michal/python_scripts/hotelBeds/hotels.dev/hotels.73501.74001.json\n",
      "/home/michal/python_scripts/hotelBeds/hotels.dev/hotels.125001.125501.json\n",
      "/home/michal/python_scripts/hotelBeds/hotels.dev/hotels.81001.81501.json\n",
      "/home/michal/python_scripts/hotelBeds/hotels.dev/hotels.77501.78001.json\n",
      "/home/michal/python_scripts/hotelBeds/hotels.dev/hotels.146501.147001.json\n",
      "/home/michal/python_scripts/hotelBeds/hotels.dev/hotels.36001.36501.json\n",
      "/home/michal/python_scripts/hotelBeds/hotels.dev/hotels.116501.117001.json\n",
      "/home/michal/python_scripts/hotelBeds/hotels.dev/hotels.149501.150001.json\n",
      "/home/michal/python_scripts/hotelBeds/hotels.dev/hotels.31001.31501.json\n",
      "/home/michal/python_scripts/hotelBeds/hotels.dev/hotels.38001.38501.json\n",
      "/home/michal/python_scripts/hotelBeds/hotels.dev/hotels.95001.95501.json\n",
      "/home/michal/python_scripts/hotelBeds/hotels.dev/hotels.109501.110001.json\n",
      "/home/michal/python_scripts/hotelBeds/hotels.dev/hotels.167001.167501.json\n",
      "/home/michal/python_scripts/hotelBeds/hotels.dev/hotels.14001.14501.json\n",
      "/home/michal/python_scripts/hotelBeds/hotels.dev/hotels.51001.51501.json\n",
      "/home/michal/python_scripts/hotelBeds/hotels.dev/hotels.2001.2501.json\n",
      "/home/michal/python_scripts/hotelBeds/hotels.dev/hotels.132001.132501.json\n",
      "/home/michal/python_scripts/hotelBeds/hotels.dev/hotels.109001.109501.json\n",
      "/home/michal/python_scripts/hotelBeds/hotels.dev/hotels.26001.26501.json\n",
      "/home/michal/python_scripts/hotelBeds/hotels.dev/hotels.44001.44501.json\n",
      "/home/michal/python_scripts/hotelBeds/hotels.dev/hotels.106501.107001.json\n",
      "/home/michal/python_scripts/hotelBeds/hotels.dev/hotels.162501.163001.json\n",
      "/home/michal/python_scripts/hotelBeds/hotels.dev/hotels.39001.39501.json\n",
      "/home/michal/python_scripts/hotelBeds/hotels.dev/hotels.100001.100501.json\n",
      "/home/michal/python_scripts/hotelBeds/hotels.dev/hotels.143001.143501.json\n",
      "/home/michal/python_scripts/hotelBeds/hotels.dev/hotels.128001.128501.json\n",
      "/home/michal/python_scripts/hotelBeds/hotels.dev/hotels.42501.43001.json\n",
      "/home/michal/python_scripts/hotelBeds/hotels.dev/hotels.6001.6501.json\n",
      "/home/michal/python_scripts/hotelBeds/hotels.dev/hotels.3001.3501.json\n",
      "/home/michal/python_scripts/hotelBeds/hotels.dev/hotels.159001.159501.json\n",
      "/home/michal/python_scripts/hotelBeds/hotels.dev/hotels.105501.106001.json\n",
      "/home/michal/python_scripts/hotelBeds/hotels.dev/hotels.164001.164501.json\n",
      "/home/michal/python_scripts/hotelBeds/hotels.dev/hotels.58001.58501.json\n",
      "/home/michal/python_scripts/hotelBeds/hotels.dev/hotels.160001.160501.json\n",
      "/home/michal/python_scripts/hotelBeds/hotels.dev/hotels.45501.46001.json\n",
      "/home/michal/python_scripts/hotelBeds/hotels.dev/hotels.132501.133001.json\n",
      "/home/michal/python_scripts/hotelBeds/hotels.dev/hotels.24001.24501.json\n",
      "/home/michal/python_scripts/hotelBeds/hotels.dev/hotels.95501.96001.json\n",
      "/home/michal/python_scripts/hotelBeds/hotels.dev/hotels.138501.139001.json\n",
      "/home/michal/python_scripts/hotelBeds/hotels.dev/hotels.97501.98001.json\n",
      "/home/michal/python_scripts/hotelBeds/hotels.dev/hotels.112501.113001.json\n",
      "/home/michal/python_scripts/hotelBeds/hotels.dev/hotels.31501.32001.json\n",
      "/home/michal/python_scripts/hotelBeds/hotels.dev/hotels.40501.41001.json\n",
      "/home/michal/python_scripts/hotelBeds/hotels.dev/hotels.44501.45001.json\n",
      "/home/michal/python_scripts/hotelBeds/hotels.dev/hotels.18501.19001.json\n",
      "/home/michal/python_scripts/hotelBeds/hotels.dev/hotels.88001.88501.json\n",
      "/home/michal/python_scripts/hotelBeds/hotels.dev/hotels.159501.160001.json\n",
      "/home/michal/python_scripts/hotelBeds/hotels.dev/hotels.156501.157001.json\n",
      "/home/michal/python_scripts/hotelBeds/hotels.dev/hotels.100501.101001.json\n",
      "/home/michal/python_scripts/hotelBeds/hotels.dev/hotels.72501.73001.json\n",
      "/home/michal/python_scripts/hotelBeds/hotels.dev/hotels.110001.110501.json\n",
      "/home/michal/python_scripts/hotelBeds/hotels.dev/hotels.72001.72501.json\n",
      "/home/michal/python_scripts/hotelBeds/hotels.dev/hotels.52501.53001.json\n",
      "/home/michal/python_scripts/hotelBeds/hotels.dev/hotels.45001.45501.json\n",
      "/home/michal/python_scripts/hotelBeds/hotels.dev/hotels.13001.13501.json\n",
      "/home/michal/python_scripts/hotelBeds/hotels.dev/hotels.139001.139501.json\n",
      "/home/michal/python_scripts/hotelBeds/hotels.dev/hotels.70001.70501.json\n",
      "/home/michal/python_scripts/hotelBeds/hotels.dev/hotels.147001.147501.json\n",
      "/home/michal/python_scripts/hotelBeds/hotels.dev/hotels.7501.8001.json\n",
      "/home/michal/python_scripts/hotelBeds/hotels.dev/hotels.17001.17501.json\n",
      "/home/michal/python_scripts/hotelBeds/hotels.dev/hotels.29501.30001.json\n",
      "/home/michal/python_scripts/hotelBeds/hotels.dev/hotels.27001.27501.json\n",
      "/home/michal/python_scripts/hotelBeds/hotels.dev/hotels.75501.76001.json\n",
      "/home/michal/python_scripts/hotelBeds/hotels.dev/hotels.22001.22501.json\n",
      "/home/michal/python_scripts/hotelBeds/hotels.dev/hotels.106001.106501.json\n",
      "/home/michal/python_scripts/hotelBeds/hotels.dev/hotels.161501.162001.json\n",
      "/home/michal/python_scripts/hotelBeds/hotels.dev/hotels.37001.37501.json\n",
      "/home/michal/python_scripts/hotelBeds/hotels.dev/hotels.9001.9501.json\n",
      "/home/michal/python_scripts/hotelBeds/hotels.dev/hotels.107501.108001.json\n",
      "/home/michal/python_scripts/hotelBeds/hotels.dev/hotels.135501.136001.json\n",
      "/home/michal/python_scripts/hotelBeds/hotels.dev/hotels.130001.130501.json\n",
      "/home/michal/python_scripts/hotelBeds/hotels.dev/hotels.81501.82001.json\n",
      "/home/michal/python_scripts/hotelBeds/hotels.dev/hotels.90501.91001.json\n",
      "/home/michal/python_scripts/hotelBeds/hotels.dev/hotels.50501.51001.json\n",
      "/home/michal/python_scripts/hotelBeds/hotels.dev/hotels.151001.151501.json\n",
      "/home/michal/python_scripts/hotelBeds/hotels.dev/hotels.108001.108501.json\n",
      "/home/michal/python_scripts/hotelBeds/hotels.dev/hotels.46501.47001.json\n",
      "/home/michal/python_scripts/hotelBeds/hotels.dev/hotels.24501.25001.json\n",
      "/home/michal/python_scripts/hotelBeds/hotels.dev/hotels.29001.29501.json\n",
      "/home/michal/python_scripts/hotelBeds/hotels.dev/hotels.137001.137501.json\n",
      "/home/michal/python_scripts/hotelBeds/hotels.dev/hotels.32501.33001.json\n",
      "/home/michal/python_scripts/hotelBeds/hotels.dev/hotels.115001.115501.json\n",
      "/home/michal/python_scripts/hotelBeds/hotels.dev/hotels.101001.101501.json\n",
      "/home/michal/python_scripts/hotelBeds/hotels.dev/hotels.74001.74501.json\n",
      "/home/michal/python_scripts/hotelBeds/hotels.dev/hotels.124501.125001.json\n",
      "/home/michal/python_scripts/hotelBeds/hotels.dev/hotels.12501.13001.json\n",
      "/home/michal/python_scripts/hotelBeds/hotels.dev/hotels.23001.23501.json\n",
      "/home/michal/python_scripts/hotelBeds/hotels.dev/hotels.40001.40501.json\n",
      "/home/michal/python_scripts/hotelBeds/hotels.dev/hotels.64001.64501.json\n",
      "/home/michal/python_scripts/hotelBeds/hotels.dev/hotels.154001.154501.json\n",
      "/home/michal/python_scripts/hotelBeds/hotels.dev/hotels.88501.89001.json\n",
      "/home/michal/python_scripts/hotelBeds/hotels.dev/hotels.77001.77501.json\n",
      "/home/michal/python_scripts/hotelBeds/hotels.dev/hotels.98501.99001.json\n",
      "/home/michal/python_scripts/hotelBeds/hotels.dev/hotels.57001.57501.json\n",
      "/home/michal/python_scripts/hotelBeds/hotels.dev/hotels.64501.65001.json\n",
      "/home/michal/python_scripts/hotelBeds/hotels.dev/hotels.129501.130001.json\n",
      "/home/michal/python_scripts/hotelBeds/hotels.dev/hotels.8501.9001.json\n",
      "/home/michal/python_scripts/hotelBeds/hotels.dev/hotels.27501.28001.json\n",
      "/home/michal/python_scripts/hotelBeds/hotels.dev/hotels.15501.16001.json\n",
      "/home/michal/python_scripts/hotelBeds/hotels.dev/hotels.162001.162501.json\n",
      "/home/michal/python_scripts/hotelBeds/hotels.dev/hotels.110501.111001.json\n",
      "/home/michal/python_scripts/hotelBeds/hotels.dev/hotels.19001.19501.json\n",
      "/home/michal/python_scripts/hotelBeds/hotels.dev/hotels.20501.21001.json\n",
      "/home/michal/python_scripts/hotelBeds/hotels.dev/hotels.108501.109001.json\n",
      "/home/michal/python_scripts/hotelBeds/hotels.dev/hotels.69001.69501.json\n",
      "/home/michal/python_scripts/hotelBeds/hotels.dev/hotels.138001.138501.json\n",
      "/home/michal/python_scripts/hotelBeds/hotels.dev/hotels.160501.161001.json\n",
      "/home/michal/python_scripts/hotelBeds/hotels.dev/hotels.33501.34001.json\n",
      "/home/michal/python_scripts/hotelBeds/hotels.dev/hotels.34001.34501.json\n",
      "/home/michal/python_scripts/hotelBeds/hotels.dev/hotels.98001.98501.json\n",
      "/home/michal/python_scripts/hotelBeds/hotels.dev/hotels.117501.118001.json\n",
      "/home/michal/python_scripts/hotelBeds/hotels.dev/hotels.7001.7501.json\n",
      "/home/michal/python_scripts/hotelBeds/hotels.dev/hotels.157501.158001.json\n",
      "/home/michal/python_scripts/hotelBeds/hotels.dev/hotels.85001.85501.json\n",
      "/home/michal/python_scripts/hotelBeds/hotels.dev/hotels.144001.144501.json\n",
      "/home/michal/python_scripts/hotelBeds/hotels.dev/hotels.134501.135001.json\n",
      "/home/michal/python_scripts/hotelBeds/hotels.dev/hotels.49001.49501.json\n",
      "/home/michal/python_scripts/hotelBeds/hotels.dev/hotels.166001.166501.json\n",
      "/home/michal/python_scripts/hotelBeds/hotels.dev/hotels.49501.50001.json\n",
      "/home/michal/python_scripts/hotelBeds/hotels.dev/hotels.23501.24001.json\n",
      "/home/michal/python_scripts/hotelBeds/hotels.dev/hotels.63001.63501.json\n",
      "/home/michal/python_scripts/hotelBeds/hotels.dev/hotels.80001.80501.json\n",
      "/home/michal/python_scripts/hotelBeds/hotels.dev/hotels.10501.11001.json\n",
      "/home/michal/python_scripts/hotelBeds/hotels.dev/hotels.154501.155001.json\n",
      "/home/michal/python_scripts/hotelBeds/hotels.dev/hotels.105001.105501.json\n",
      "/home/michal/python_scripts/hotelBeds/hotels.dev/hotels.68001.68501.json\n",
      "/home/michal/python_scripts/hotelBeds/hotels.dev/hotels.148501.149001.json\n",
      "/home/michal/python_scripts/hotelBeds/hotels.dev/hotels.8001.8501.json\n",
      "/home/michal/python_scripts/hotelBeds/hotels.dev/hotels.165001.165501.json\n",
      "/home/michal/python_scripts/hotelBeds/hotels.dev/hotels.103001.103501.json\n",
      "/home/michal/python_scripts/hotelBeds/hotels.dev/hotels.47001.47501.json\n",
      "/home/michal/python_scripts/hotelBeds/hotels.dev/hotels.25501.26001.json\n",
      "/home/michal/python_scripts/hotelBeds/hotels.dev/hotels.92001.92501.json\n",
      "/home/michal/python_scripts/hotelBeds/hotels.dev/hotels.54001.54501.json\n",
      "/home/michal/python_scripts/hotelBeds/hotels.dev/hotels.126001.126501.json\n",
      "/home/michal/python_scripts/hotelBeds/hotels.dev/hotels.82001.82501.json\n",
      "/home/michal/python_scripts/hotelBeds/hotels.dev/hotels.1501.2001.json\n",
      "/home/michal/python_scripts/hotelBeds/hotels.dev/hotels.1001.1501.json\n",
      "/home/michal/python_scripts/hotelBeds/hotels.dev/hotels.54501.55001.json\n",
      "/home/michal/python_scripts/hotelBeds/hotels.dev/hotels.120001.120501.json\n",
      "/home/michal/python_scripts/hotelBeds/hotels.dev/hotels.6501.7001.json\n",
      "/home/michal/python_scripts/hotelBeds/hotels.dev/hotels.152501.153001.json\n",
      "/home/michal/python_scripts/hotelBeds/hotels.dev/hotels.87001.87501.json\n",
      "/home/michal/python_scripts/hotelBeds/hotels.dev/hotels.115501.116001.json\n",
      "/home/michal/python_scripts/hotelBeds/hotels.dev/hotels.48001.48501.json\n",
      "/home/michal/python_scripts/hotelBeds/hotels.dev/hotels.5501.6001.json\n",
      "/home/michal/python_scripts/hotelBeds/hotels.dev/hotels.121501.122001.json\n",
      "/home/michal/python_scripts/hotelBeds/hotels.dev/hotels.52001.52501.json\n",
      "/home/michal/python_scripts/hotelBeds/hotels.dev/hotels.19501.20001.json\n",
      "/home/michal/python_scripts/hotelBeds/hotels.dev/hotels.167501.168001.json\n",
      "/home/michal/python_scripts/hotelBeds/hotels.dev/hotels.56001.56501.json\n",
      "/home/michal/python_scripts/hotelBeds/hotels.dev/hotels.4001.4501.json\n",
      "/home/michal/python_scripts/hotelBeds/hotels.dev/hotels.123501.124001.json\n",
      "/home/michal/python_scripts/hotelBeds/hotels.dev/hotels.134001.134501.json\n",
      "/home/michal/python_scripts/hotelBeds/hotels.dev/hotels.133501.134001.json\n",
      "/home/michal/python_scripts/hotelBeds/hotels.dev/hotels.16501.17001.json\n",
      "/home/michal/python_scripts/hotelBeds/hotels.dev/hotels.42001.42501.json\n",
      "/home/michal/python_scripts/hotelBeds/hotels.dev/hotels.76501.77001.json\n",
      "/home/michal/python_scripts/hotelBeds/hotels.dev/hotels.104001.104501.json\n",
      "/home/michal/python_scripts/hotelBeds/hotels.dev/hotels.155501.156001.json\n",
      "/home/michal/python_scripts/hotelBeds/hotels.dev/hotels.11001.11501.json\n",
      "/home/michal/python_scripts/hotelBeds/hotels.dev/hotels.63501.64001.json\n",
      "/home/michal/python_scripts/hotelBeds/hotels.dev/hotels.113001.113501.json\n",
      "/home/michal/python_scripts/hotelBeds/hotels.dev/hotels.111501.112001.json\n",
      "/home/michal/python_scripts/hotelBeds/hotels.dev/hotels.30501.31001.json\n",
      "/home/michal/python_scripts/hotelBeds/hotels.dev/hotels.156001.156501.json\n",
      "/home/michal/python_scripts/hotelBeds/hotels.dev/hotels.120501.121001.json\n",
      "/home/michal/python_scripts/hotelBeds/hotels.dev/hotels.150501.151001.json\n",
      "/home/michal/python_scripts/hotelBeds/hotels.dev/hotels.71001.71501.json\n",
      "/home/michal/python_scripts/hotelBeds/hotels.dev/hotels.119501.120001.json\n",
      "/home/michal/python_scripts/hotelBeds/hotels.dev/hotels.158001.158501.json\n",
      "/home/michal/python_scripts/hotelBeds/hotels.dev/hotels.136501.137001.json\n",
      "/home/michal/python_scripts/hotelBeds/hotels.dev/hotels.142001.142501.json\n",
      "/home/michal/python_scripts/hotelBeds/hotels.dev/hotels.86001.86501.json\n",
      "/home/michal/python_scripts/hotelBeds/hotels.dev/hotels.118501.119001.json\n",
      "/home/michal/python_scripts/hotelBeds/hotels.dev/hotels.46001.46501.json\n",
      "/home/michal/python_scripts/hotelBeds/hotels.dev/hotels.36501.37001.json\n",
      "/home/michal/python_scripts/hotelBeds/hotels.dev/hotels.48501.49001.json\n",
      "/home/michal/python_scripts/hotelBeds/hotels.dev/hotels.70501.71001.json\n",
      "/home/michal/python_scripts/hotelBeds/hotels.dev/hotels.61501.62001.json\n",
      "/home/michal/python_scripts/hotelBeds/hotels.dev/hotels.47501.48001.json\n",
      "/home/michal/python_scripts/hotelBeds/hotels.dev/hotels.15001.15501.json\n",
      "/home/michal/python_scripts/hotelBeds/hotels.dev/hotels.127001.127501.json\n",
      "/home/michal/python_scripts/hotelBeds/hotels.dev/hotels.96001.96501.json\n",
      "/home/michal/python_scripts/hotelBeds/hotels.dev/hotels.117001.117501.json\n",
      "/home/michal/python_scripts/hotelBeds/hotels.dev/hotels.152001.152501.json\n",
      "/home/michal/python_scripts/hotelBeds/hotels.dev/hotels.125501.126001.json\n",
      "/home/michal/python_scripts/hotelBeds/hotels.dev/hotels.5001.5501.json\n",
      "/home/michal/python_scripts/hotelBeds/hotels.dev/hotels.79501.80001.json\n",
      "/home/michal/python_scripts/hotelBeds/hotels.dev/hotels.136001.136501.json\n",
      "/home/michal/python_scripts/hotelBeds/hotels.dev/hotels.118001.118501.json\n",
      "/home/michal/python_scripts/hotelBeds/hotels.dev/hotels.124001.124501.json\n",
      "/home/michal/python_scripts/hotelBeds/hotels.dev/hotels.113501.114001.json\n",
      "/home/michal/python_scripts/hotelBeds/hotels.dev/hotels.130501.131001.json\n",
      "/home/michal/python_scripts/hotelBeds/hotels.dev/hotels.78001.78501.json\n",
      "/home/michal/python_scripts/hotelBeds/hotels.dev/hotels.163001.163501.json\n",
      "/home/michal/python_scripts/hotelBeds/hotels.dev/hotels.141001.141501.json\n",
      "/home/michal/python_scripts/hotelBeds/hotels.dev/hotels.10001.10501.json\n",
      "/home/michal/python_scripts/hotelBeds/hotels.dev/hotels.91001.91501.json\n",
      "/home/michal/python_scripts/hotelBeds/hotels.dev/hotels.94501.95001.json\n",
      "/home/michal/python_scripts/hotelBeds/hotels.dev/hotels.62001.62501.json\n",
      "/home/michal/python_scripts/hotelBeds/hotels.dev/hotels.67501.68001.json\n",
      "/home/michal/python_scripts/hotelBeds/hotels.dev/hotels.55501.56001.json\n",
      "/home/michal/python_scripts/hotelBeds/hotels.dev/hotels.2501.3001.json\n",
      "/home/michal/python_scripts/hotelBeds/hotels.dev/hotels.94001.94501.json\n",
      "/home/michal/python_scripts/hotelBeds/hotels.dev/hotels.55001.55501.json\n",
      "/home/michal/python_scripts/hotelBeds/hotels.dev/hotels.168001.168501.json\n",
      "/home/michal/python_scripts/hotelBeds/hotels.dev/hotels.21001.21501.json\n",
      "/home/michal/python_scripts/hotelBeds/hotels.dev/hotels.34501.35001.json\n",
      "/home/michal/python_scripts/hotelBeds/hotels.dev/hotels.101501.102001.json\n",
      "/home/michal/python_scripts/hotelBeds/hotels.dev/hotels.26501.27001.json\n",
      "/home/michal/python_scripts/hotelBeds/hotels.dev/hotels.14501.15001.json\n",
      "/home/michal/python_scripts/hotelBeds/hotels.dev/hotels.157001.157501.json\n",
      "/home/michal/python_scripts/hotelBeds/hotels.dev/hotels.21501.22001.json\n",
      "/home/michal/python_scripts/hotelBeds/hotels.dev/hotels.93501.94001.json\n",
      "/home/michal/python_scripts/hotelBeds/hotels.dev/hotels.139501.140001.json\n",
      "/home/michal/python_scripts/hotelBeds/hotels.dev/hotels.126501.127001.json\n",
      "/home/michal/python_scripts/hotelBeds/hotels.dev/hotels.18001.18501.json\n",
      "/home/michal/python_scripts/hotelBeds/hotels.dev/hotels.129001.129501.json\n",
      "/home/michal/python_scripts/hotelBeds/hotels.dev/hotels.91501.92001.json\n",
      "/home/michal/python_scripts/hotelBeds/hotels.dev/hotels.148001.148501.json\n",
      "/home/michal/python_scripts/hotelBeds/hotels.dev/hotels.131001.131501.json\n",
      "/home/michal/python_scripts/hotelBeds/hotels.dev/hotels.65501.66001.json\n",
      "/home/michal/python_scripts/hotelBeds/hotels.dev/hotels.87501.88001.json\n",
      "/home/michal/python_scripts/hotelBeds/hotels.dev/hotels.149001.149501.json\n",
      "/home/michal/python_scripts/hotelBeds/hotels.dev/hotels.71501.72001.json\n",
      "/home/michal/python_scripts/hotelBeds/hotels.dev/hotels.62501.63001.json\n",
      "/home/michal/python_scripts/hotelBeds/hotels.dev/hotels.75001.75501.json\n",
      "/home/michal/python_scripts/hotelBeds/hotels.dev/hotels.37501.38001.json\n",
      "/home/michal/python_scripts/hotelBeds/hotels.dev/hotels.11501.12001.json\n",
      "/home/michal/python_scripts/hotelBeds/hotels.dev/hotels.53001.53501.json\n",
      "/home/michal/python_scripts/hotelBeds/hotels.dev/hotels.85501.86001.json\n",
      "/home/michal/python_scripts/hotelBeds/hotels.dev/hotels.41501.42001.json\n",
      "/home/michal/python_scripts/hotelBeds/hotels.dev/hotels.165501.166001.json\n",
      "/home/michal/python_scripts/hotelBeds/hotels.dev/hotels.145001.145501.json\n",
      "/home/michal/python_scripts/hotelBeds/hotels.dev/hotels.111001.111501.json\n",
      "/home/michal/python_scripts/hotelBeds/hotels.dev/hotels.86501.87001.json\n",
      "/home/michal/python_scripts/hotelBeds/hotels.dev/hotels.127501.128001.json\n",
      "/home/michal/python_scripts/hotelBeds/hotels.dev/hotels.164501.165001.json\n",
      "/home/michal/python_scripts/hotelBeds/hotels.dev/hotels.17501.18001.json\n",
      "/home/michal/python_scripts/hotelBeds/hotels.dev/hotels.122001.122501.json\n",
      "/home/michal/python_scripts/hotelBeds/hotels.dev/hotels.43501.44001.json\n",
      "/home/michal/python_scripts/hotelBeds/hotels.dev/hotels.501.1001.json\n",
      "/home/michal/python_scripts/hotelBeds/hotels.dev/hotels.13501.14001.json\n",
      "/home/michal/python_scripts/hotelBeds/hotels.dev/hotels.41001.41501.json\n",
      "/home/michal/python_scripts/hotelBeds/hotels.dev/hotels.99001.99501.json\n",
      "/home/michal/python_scripts/hotelBeds/hotels.dev/hotels.153501.154001.json\n",
      "/home/michal/python_scripts/hotelBeds/hotels.dev/hotels.59001.59501.json\n",
      "/home/michal/python_scripts/hotelBeds/hotels.dev/hotels.38501.39001.json\n",
      "/home/michal/python_scripts/hotelBeds/hotels.dev/hotels.80501.81001.json\n",
      "/home/michal/python_scripts/hotelBeds/hotels.dev/hotels.140001.140501.json\n",
      "/home/michal/python_scripts/hotelBeds/hotels.dev/hotels.50001.50501.json\n",
      "/home/michal/python_scripts/hotelBeds/hotels.dev/hotels.137501.138001.json\n",
      "/home/michal/python_scripts/hotelBeds/hotels.dev/hotels.53501.54001.json\n",
      "/home/michal/python_scripts/hotelBeds/hotels.dev/hotels.104501.105001.json\n",
      "/home/michal/python_scripts/hotelBeds/hotels.dev/hotels.69501.70001.json\n",
      "/home/michal/python_scripts/hotelBeds/hotels.dev/hotels.89501.90001.json\n",
      "/home/michal/python_scripts/hotelBeds/hotels.dev/hotels.142501.143001.json\n",
      "/home/michal/python_scripts/hotelBeds/hotels.dev/hotels.3501.4001.json\n",
      "/home/michal/python_scripts/hotelBeds/hotels.dev/hotels.60501.61001.json\n",
      "/home/michal/python_scripts/hotelBeds/hotels.dev/hotels.4501.5001.json\n",
      "/home/michal/python_scripts/hotelBeds/hotels.dev/hotels.83001.83501.json\n",
      "/home/michal/python_scripts/hotelBeds/hotels.dev/hotels.133001.133501.json\n",
      "/home/michal/python_scripts/hotelBeds/hotels.dev/hotels.97001.97501.json\n",
      "/home/michal/python_scripts/hotelBeds/hotels.dev/hotels.66501.67001.json\n",
      "/home/michal/python_scripts/hotelBeds/hotels.dev/hotels.96501.97001.json\n",
      "/home/michal/python_scripts/hotelBeds/hotels.dev/hotels.57501.58001.json\n",
      "/home/michal/python_scripts/hotelBeds/hotels.dev/hotels.59501.60001.json\n",
      "/home/michal/python_scripts/hotelBeds/hotels.dev/hotels.66001.66501.json\n",
      "/home/michal/python_scripts/hotelBeds/hotels.dev/hotels.166501.167001.json\n",
      "/home/michal/python_scripts/hotelBeds/hotels.dev/hotels.28501.29001.json\n",
      "/home/michal/python_scripts/hotelBeds/hotels.dev/hotels.60001.60501.json\n",
      "/home/michal/python_scripts/hotelBeds/hotels.dev/hotels.146001.146501.json\n",
      "/home/michal/python_scripts/hotelBeds/hotels.dev/hotels.39501.40001.json\n",
      "/home/michal/python_scripts/hotelBeds/hotels.dev/hotels.155001.155501.json\n",
      "/home/michal/python_scripts/hotelBeds/hotels.dev/hotels.131501.132001.json\n"
     ]
    }
   ],
   "source": [
    "temp_inventory = []\n",
    "for file in file_list:\n",
    "    print(str(file))\n",
    "    with open(file) as f:\n",
    "        data = json.load(f)\n",
    "        hotels = pd.DataFrame.from_dict(pd.json_normalize(data[\"hotels\"]), orient=\"columns\")\n",
    "    temp_inventory.append(hotels)\n",
    "inventory = pd.concat(temp_inventory, ignore_index=True) # concatenate all the data frames in the list."
   ]
  },
  {
   "cell_type": "code",
   "execution_count": 7,
   "id": "municipal-appraisal",
   "metadata": {
    "ExecuteTime": {
     "end_time": "2022-07-26T07:16:54.974282Z",
     "start_time": "2022-07-26T07:16:54.734114Z"
    }
   },
   "outputs": [
    {
     "data": {
      "text/html": [
       "<div>\n",
       "<style scoped>\n",
       "    .dataframe tbody tr th:only-of-type {\n",
       "        vertical-align: middle;\n",
       "    }\n",
       "\n",
       "    .dataframe tbody tr th {\n",
       "        vertical-align: top;\n",
       "    }\n",
       "\n",
       "    .dataframe thead th {\n",
       "        text-align: right;\n",
       "    }\n",
       "</style>\n",
       "<table border=\"1\" class=\"dataframe\">\n",
       "  <thead>\n",
       "    <tr style=\"text-align: right;\">\n",
       "      <th></th>\n",
       "      <th>code</th>\n",
       "      <th>countryCode</th>\n",
       "      <th>stateCode</th>\n",
       "      <th>destinationCode</th>\n",
       "      <th>zoneCode</th>\n",
       "      <th>categoryCode</th>\n",
       "      <th>categoryGroupCode</th>\n",
       "      <th>accommodationTypeCode</th>\n",
       "      <th>boardCodes</th>\n",
       "      <th>segmentCodes</th>\n",
       "      <th>amenityCodes</th>\n",
       "      <th>postalCode</th>\n",
       "      <th>email</th>\n",
       "      <th>phones</th>\n",
       "      <th>rooms</th>\n",
       "      <th>facilities</th>\n",
       "      <th>terminals</th>\n",
       "      <th>issues</th>\n",
       "      <th>interestPoints</th>\n",
       "      <th>images</th>\n",
       "      <th>web</th>\n",
       "      <th>lastUpdate</th>\n",
       "      <th>ranking</th>\n",
       "      <th>name.content</th>\n",
       "      <th>description.content</th>\n",
       "      <th>coordinates.longitude</th>\n",
       "      <th>coordinates.latitude</th>\n",
       "      <th>address.content</th>\n",
       "      <th>address.street</th>\n",
       "      <th>address.number</th>\n",
       "      <th>city.content</th>\n",
       "      <th>license</th>\n",
       "      <th>S2C</th>\n",
       "      <th>wildcards</th>\n",
       "      <th>chainCode</th>\n",
       "      <th>address.floor</th>\n",
       "      <th>address.door</th>\n",
       "    </tr>\n",
       "  </thead>\n",
       "  <tbody>\n",
       "    <tr>\n",
       "      <th>0</th>\n",
       "      <td>206750</td>\n",
       "      <td>IT</td>\n",
       "      <td>07</td>\n",
       "      <td>SIC</td>\n",
       "      <td>15.0</td>\n",
       "      <td>4EST</td>\n",
       "      <td>GRUPO4</td>\n",
       "      <td>H</td>\n",
       "      <td>[BB, HB, FB]</td>\n",
       "      <td>[34]</td>\n",
       "      <td>[83, 84, 85, 88, 90, 107, 108, 110]</td>\n",
       "      <td>97015</td>\n",
       "      <td>info@torredonvirgilio.it</td>\n",
       "      <td>[{'phoneNumber': '+390932909116', 'phoneType':...</td>\n",
       "      <td>[{'roomCode': 'SGL.SU', 'isParentRoom': False,...</td>\n",
       "      <td>[{'facilityCode': 70, 'facilityGroupCode': 10,...</td>\n",
       "      <td>[{'terminalCode': 'CTA', 'distance': 114}, {'t...</td>\n",
       "      <td>[{'issueCode': 'COVID', 'issueType': 'COVID', ...</td>\n",
       "      <td>[{'facilityCode': 10, 'facilityGroupCode': 100...</td>\n",
       "      <td>[{'imageTypeCode': 'GEN', 'path': '20/206750/2...</td>\n",
       "      <td>http://www.torredonvirgilio.it/en/</td>\n",
       "      <td>2022-04-13</td>\n",
       "      <td>70</td>\n",
       "      <td>Torre Don Virgilio Country Hotel</td>\n",
       "      <td>Torre Don Virgilio Resort is in an ancient, fo...</td>\n",
       "      <td>14.853975</td>\n",
       "      <td>36.867617</td>\n",
       "      <td>Strada Provinciale Rocciola-Scrofani, 260</td>\n",
       "      <td>Strada Provinciale Rocciola-Scrofani</td>\n",
       "      <td>260</td>\n",
       "      <td>MODICA</td>\n",
       "      <td>NaN</td>\n",
       "      <td>NaN</td>\n",
       "      <td>NaN</td>\n",
       "      <td>NaN</td>\n",
       "      <td>NaN</td>\n",
       "      <td>NaN</td>\n",
       "    </tr>\n",
       "    <tr>\n",
       "      <th>1</th>\n",
       "      <td>206752</td>\n",
       "      <td>MA</td>\n",
       "      <td>07</td>\n",
       "      <td>RAK</td>\n",
       "      <td>1.0</td>\n",
       "      <td>2EST</td>\n",
       "      <td>GRUPO2</td>\n",
       "      <td>H</td>\n",
       "      <td>[BB]</td>\n",
       "      <td>[]</td>\n",
       "      <td>[83, 85]</td>\n",
       "      <td>40000</td>\n",
       "      <td>aderbaz@menara.ma</td>\n",
       "      <td>[{'phoneNumber': '0033689346339', 'phoneType':...</td>\n",
       "      <td>[{'roomCode': 'DBT.ST', 'isParentRoom': False,...</td>\n",
       "      <td>[{'facilityCode': 70, 'facilityGroupCode': 10,...</td>\n",
       "      <td>NaN</td>\n",
       "      <td>[{'issueCode': 'COVID', 'issueType': 'COVID', ...</td>\n",
       "      <td>NaN</td>\n",
       "      <td>[{'imageTypeCode': 'GEN', 'path': '20/206752/2...</td>\n",
       "      <td>NaN</td>\n",
       "      <td>2021-12-07</td>\n",
       "      <td>45</td>\n",
       "      <td>Riad Aderbaz</td>\n",
       "      <td>Riad Aderbaz A warm welcome awaits you at the ...</td>\n",
       "      <td>-7.992830</td>\n",
       "      <td>31.619990</td>\n",
       "      <td>40 Derb Al Foundouk</td>\n",
       "      <td>40 Derb Al Foundouk</td>\n",
       "      <td>NaN</td>\n",
       "      <td>MARRAKECH</td>\n",
       "      <td>NaN</td>\n",
       "      <td>NaN</td>\n",
       "      <td>NaN</td>\n",
       "      <td>NaN</td>\n",
       "      <td>NaN</td>\n",
       "      <td>NaN</td>\n",
       "    </tr>\n",
       "    <tr>\n",
       "      <th>2</th>\n",
       "      <td>206755</td>\n",
       "      <td>MA</td>\n",
       "      <td>07</td>\n",
       "      <td>RAK</td>\n",
       "      <td>1.0</td>\n",
       "      <td>4EST</td>\n",
       "      <td>GRUPO4</td>\n",
       "      <td>G</td>\n",
       "      <td>[BB, HB, FB, RO]</td>\n",
       "      <td>[36]</td>\n",
       "      <td>[107, 108, 110, 113, 83, 84, 85, 117, 86, 87, ...</td>\n",
       "      <td>40000</td>\n",
       "      <td>riadnerja@menara.ma</td>\n",
       "      <td>[{'phoneNumber': '+00212524391811', 'phoneType...</td>\n",
       "      <td>[{'roomCode': 'SUI.ST', 'isParentRoom': False,...</td>\n",
       "      <td>[{'facilityCode': 20, 'facilityGroupCode': 10,...</td>\n",
       "      <td>[{'terminalCode': 'TRAK', 'distance': 3}]</td>\n",
       "      <td>[{'issueCode': 'COVID', 'issueType': 'COVID', ...</td>\n",
       "      <td>[{'facilityCode': 10, 'facilityGroupCode': 100...</td>\n",
       "      <td>[{'imageTypeCode': 'RES', 'path': '20/206755/2...</td>\n",
       "      <td>www.riadnerja.com</td>\n",
       "      <td>2022-06-04</td>\n",
       "      <td>21</td>\n",
       "      <td>Riad Nerja</td>\n",
       "      <td>Located 20 minutes from the Menara - Marrakech...</td>\n",
       "      <td>-7.977974</td>\n",
       "      <td>31.630354</td>\n",
       "      <td>152 Derb Caid Rassou Bab Aylane</td>\n",
       "      <td>152 Derb Caid Rassou Bab Aylane</td>\n",
       "      <td>NaN</td>\n",
       "      <td>MARRAKECH</td>\n",
       "      <td>20189</td>\n",
       "      <td>1*</td>\n",
       "      <td>NaN</td>\n",
       "      <td>NaN</td>\n",
       "      <td>NaN</td>\n",
       "      <td>NaN</td>\n",
       "    </tr>\n",
       "    <tr>\n",
       "      <th>3</th>\n",
       "      <td>206756</td>\n",
       "      <td>MA</td>\n",
       "      <td>07</td>\n",
       "      <td>RAK</td>\n",
       "      <td>1.0</td>\n",
       "      <td>4EST</td>\n",
       "      <td>GRUPO4</td>\n",
       "      <td>H</td>\n",
       "      <td>[BB, HB, RO]</td>\n",
       "      <td>[100]</td>\n",
       "      <td>[83, 85, 117, 86, 88, 90, 107, 92, 108, 110]</td>\n",
       "      <td>40000</td>\n",
       "      <td>contact@riadelgrablymarrakech.com</td>\n",
       "      <td>[{'phoneNumber': '+00212661922801', 'phoneType...</td>\n",
       "      <td>[{'roomCode': 'DBL.SU', 'isParentRoom': False,...</td>\n",
       "      <td>[{'facilityCode': 30, 'facilityGroupCode': 10,...</td>\n",
       "      <td>[{'terminalCode': 'TRAK', 'distance': 5}, {'te...</td>\n",
       "      <td>[{'issueCode': 'COVID', 'issueType': 'COVID', ...</td>\n",
       "      <td>[{'facilityCode': 10, 'facilityGroupCode': 100...</td>\n",
       "      <td>[{'imageTypeCode': 'RES', 'path': '20/206756/2...</td>\n",
       "      <td>https://www.riadelgrably-marrakech.com</td>\n",
       "      <td>2022-01-23</td>\n",
       "      <td>37</td>\n",
       "      <td>Riad El Grably</td>\n",
       "      <td>Situated in the centre of the Medina, this sma...</td>\n",
       "      <td>-7.983880</td>\n",
       "      <td>31.621800</td>\n",
       "      <td>Derb El Arsa/Riad Zitoun Jdid, 8</td>\n",
       "      <td>Derb El Arsa/Riad Zitoun Jdid</td>\n",
       "      <td>8</td>\n",
       "      <td>MARRAKECH</td>\n",
       "      <td>45990128</td>\n",
       "      <td>3*</td>\n",
       "      <td>NaN</td>\n",
       "      <td>NaN</td>\n",
       "      <td>NaN</td>\n",
       "      <td>NaN</td>\n",
       "    </tr>\n",
       "    <tr>\n",
       "      <th>4</th>\n",
       "      <td>206758</td>\n",
       "      <td>IT</td>\n",
       "      <td>07</td>\n",
       "      <td>SAY</td>\n",
       "      <td>5.0</td>\n",
       "      <td>3EST</td>\n",
       "      <td>GRUPO3</td>\n",
       "      <td>H</td>\n",
       "      <td>NaN</td>\n",
       "      <td>[34]</td>\n",
       "      <td>[83, 84, 85]</td>\n",
       "      <td>53042</td>\n",
       "      <td>info@htlposta.it</td>\n",
       "      <td>[{'phoneNumber': '0039945557', 'phoneType': 'P...</td>\n",
       "      <td>[{'roomCode': 'DBL.ST', 'isParentRoom': False,...</td>\n",
       "      <td>[{'facilityCode': 70, 'facilityGroupCode': 10,...</td>\n",
       "      <td>NaN</td>\n",
       "      <td>[{'issueCode': 'ITALY', 'issueType': 'COVIDPCR...</td>\n",
       "      <td>NaN</td>\n",
       "      <td>[{'imageTypeCode': 'RES', 'path': '20/206758/2...</td>\n",
       "      <td>NaN</td>\n",
       "      <td>2022-01-01</td>\n",
       "      <td>56</td>\n",
       "      <td>Hotel Posta</td>\n",
       "      <td>Hotel Posta A warm welcome awaits you at the l...</td>\n",
       "      <td>11.809342</td>\n",
       "      <td>43.044083</td>\n",
       "      <td>Via Ugo Foscolo, 48</td>\n",
       "      <td>Via Ugo Foscolo</td>\n",
       "      <td>48</td>\n",
       "      <td>CHIANCIANO TERME</td>\n",
       "      <td>NaN</td>\n",
       "      <td>NaN</td>\n",
       "      <td>NaN</td>\n",
       "      <td>NaN</td>\n",
       "      <td>NaN</td>\n",
       "      <td>NaN</td>\n",
       "    </tr>\n",
       "    <tr>\n",
       "      <th>...</th>\n",
       "      <td>...</td>\n",
       "      <td>...</td>\n",
       "      <td>...</td>\n",
       "      <td>...</td>\n",
       "      <td>...</td>\n",
       "      <td>...</td>\n",
       "      <td>...</td>\n",
       "      <td>...</td>\n",
       "      <td>...</td>\n",
       "      <td>...</td>\n",
       "      <td>...</td>\n",
       "      <td>...</td>\n",
       "      <td>...</td>\n",
       "      <td>...</td>\n",
       "      <td>...</td>\n",
       "      <td>...</td>\n",
       "      <td>...</td>\n",
       "      <td>...</td>\n",
       "      <td>...</td>\n",
       "      <td>...</td>\n",
       "      <td>...</td>\n",
       "      <td>...</td>\n",
       "      <td>...</td>\n",
       "      <td>...</td>\n",
       "      <td>...</td>\n",
       "      <td>...</td>\n",
       "      <td>...</td>\n",
       "      <td>...</td>\n",
       "      <td>...</td>\n",
       "      <td>...</td>\n",
       "      <td>...</td>\n",
       "      <td>...</td>\n",
       "      <td>...</td>\n",
       "      <td>...</td>\n",
       "      <td>...</td>\n",
       "      <td>...</td>\n",
       "      <td>...</td>\n",
       "    </tr>\n",
       "    <tr>\n",
       "      <th>168670</th>\n",
       "      <td>680160</td>\n",
       "      <td>TW</td>\n",
       "      <td>07</td>\n",
       "      <td>TW3</td>\n",
       "      <td>1.0</td>\n",
       "      <td>4EST</td>\n",
       "      <td>GRUPO4</td>\n",
       "      <td>H</td>\n",
       "      <td>[BB]</td>\n",
       "      <td>[81, 34, 39]</td>\n",
       "      <td>[83, 84, 85, 86, 87, 109]</td>\n",
       "      <td>262</td>\n",
       "      <td>NaN</td>\n",
       "      <td>[{'phoneNumber': '+88639889889', 'phoneType': ...</td>\n",
       "      <td>[{'roomCode': 'ROO.ST', 'isParentRoom': False,...</td>\n",
       "      <td>[{'facilityCode': 70, 'facilityGroupCode': 10,...</td>\n",
       "      <td>NaN</td>\n",
       "      <td>[{'issueCode': 'COVID', 'issueType': 'COVID', ...</td>\n",
       "      <td>NaN</td>\n",
       "      <td>[{'imageTypeCode': 'COM', 'path': '68/680160/6...</td>\n",
       "      <td>NaN</td>\n",
       "      <td>2022-02-17</td>\n",
       "      <td>2147483647</td>\n",
       "      <td>Chuang-Tang Spring SPA Hotel - Deyang</td>\n",
       "      <td>Chuang-Tang Spring SPA Hotel is a popular choi...</td>\n",
       "      <td>121.771957</td>\n",
       "      <td>24.828268</td>\n",
       "      <td>No. 43, Deyang Road</td>\n",
       "      <td>No. 43, Deyang Road</td>\n",
       "      <td>NaN</td>\n",
       "      <td>Yilan</td>\n",
       "      <td>NaN</td>\n",
       "      <td>NaN</td>\n",
       "      <td>NaN</td>\n",
       "      <td>NaN</td>\n",
       "      <td>NaN</td>\n",
       "      <td>NaN</td>\n",
       "    </tr>\n",
       "    <tr>\n",
       "      <th>168671</th>\n",
       "      <td>680161</td>\n",
       "      <td>TW</td>\n",
       "      <td>07</td>\n",
       "      <td>TW1</td>\n",
       "      <td>3.0</td>\n",
       "      <td>3EST</td>\n",
       "      <td>GRUPO3</td>\n",
       "      <td>H</td>\n",
       "      <td>[BB, RO]</td>\n",
       "      <td>[]</td>\n",
       "      <td>[83, 85, 87]</td>\n",
       "      <td>320</td>\n",
       "      <td>NaN</td>\n",
       "      <td>[{'phoneNumber': '+88634222188', 'phoneType': ...</td>\n",
       "      <td>[{'roomCode': 'ROO.BS', 'isParentRoom': False,...</td>\n",
       "      <td>[{'facilityCode': 70, 'facilityGroupCode': 10,...</td>\n",
       "      <td>NaN</td>\n",
       "      <td>[{'issueCode': 'COVID', 'issueType': 'COVID', ...</td>\n",
       "      <td>NaN</td>\n",
       "      <td>[{'imageTypeCode': 'COM', 'path': '68/680161/6...</td>\n",
       "      <td>NaN</td>\n",
       "      <td>2021-11-08</td>\n",
       "      <td>2147483647</td>\n",
       "      <td>The Young Hotel</td>\n",
       "      <td>The Young Hotel is perfectly located for both ...</td>\n",
       "      <td>121.223858</td>\n",
       "      <td>24.953515</td>\n",
       "      <td>No. 180, Zhonghe Rd.</td>\n",
       "      <td>No. 180, Zhonghe Rd.</td>\n",
       "      <td>NaN</td>\n",
       "      <td>Taoyuan</td>\n",
       "      <td>NaN</td>\n",
       "      <td>NaN</td>\n",
       "      <td>NaN</td>\n",
       "      <td>NaN</td>\n",
       "      <td>NaN</td>\n",
       "      <td>NaN</td>\n",
       "    </tr>\n",
       "    <tr>\n",
       "      <th>168672</th>\n",
       "      <td>680162</td>\n",
       "      <td>TW</td>\n",
       "      <td>07</td>\n",
       "      <td>TXG</td>\n",
       "      <td>1.0</td>\n",
       "      <td>4EST</td>\n",
       "      <td>GRUPO4</td>\n",
       "      <td>H</td>\n",
       "      <td>[BB, RO]</td>\n",
       "      <td>[]</td>\n",
       "      <td>[83, 84, 85]</td>\n",
       "      <td>403</td>\n",
       "      <td>NaN</td>\n",
       "      <td>[{'phoneNumber': '+886435019388', 'phoneType':...</td>\n",
       "      <td>[{'roomCode': 'DBL.IN-1', 'isParentRoom': Fals...</td>\n",
       "      <td>[{'facilityCode': 70, 'facilityGroupCode': 10,...</td>\n",
       "      <td>NaN</td>\n",
       "      <td>[{'issueCode': 'COVID', 'issueType': 'COVID', ...</td>\n",
       "      <td>NaN</td>\n",
       "      <td>[{'imageTypeCode': 'COM', 'path': '68/680162/6...</td>\n",
       "      <td>NaN</td>\n",
       "      <td>2021-11-12</td>\n",
       "      <td>2147483647</td>\n",
       "      <td>Calligraphy Greenway Hotel</td>\n",
       "      <td>Calligraphy Greenway Hotel is perfectly locate...</td>\n",
       "      <td>120.665178</td>\n",
       "      <td>24.150704</td>\n",
       "      <td>No.512, Yingcai Rd.</td>\n",
       "      <td>No.512, Yingcai Rd.</td>\n",
       "      <td>NaN</td>\n",
       "      <td>Taichung</td>\n",
       "      <td>NaN</td>\n",
       "      <td>NaN</td>\n",
       "      <td>NaN</td>\n",
       "      <td>NaN</td>\n",
       "      <td>NaN</td>\n",
       "      <td>NaN</td>\n",
       "    </tr>\n",
       "    <tr>\n",
       "      <th>168673</th>\n",
       "      <td>680163</td>\n",
       "      <td>TW</td>\n",
       "      <td>07</td>\n",
       "      <td>TW1</td>\n",
       "      <td>2.0</td>\n",
       "      <td>3EST</td>\n",
       "      <td>GRUPO3</td>\n",
       "      <td>H</td>\n",
       "      <td>[RO]</td>\n",
       "      <td>[]</td>\n",
       "      <td>[83, 84, 87]</td>\n",
       "      <td>320</td>\n",
       "      <td>CHUNGLI@DISCOVERYGROUP.COM.TW</td>\n",
       "      <td>[{'phoneNumber': '+886334226556', 'phoneType':...</td>\n",
       "      <td>[{'roomCode': 'DBL.IN-1', 'isParentRoom': Fals...</td>\n",
       "      <td>[{'facilityCode': 70, 'facilityGroupCode': 10,...</td>\n",
       "      <td>NaN</td>\n",
       "      <td>[{'issueCode': 'COVID', 'issueType': 'COVID', ...</td>\n",
       "      <td>NaN</td>\n",
       "      <td>[{'imageTypeCode': 'GEN', 'path': '68/680163/6...</td>\n",
       "      <td>NaN</td>\n",
       "      <td>2021-11-09</td>\n",
       "      <td>2147483647</td>\n",
       "      <td>Xinshe Hotel - Chungli</td>\n",
       "      <td>New homes business trip is conveniently locate...</td>\n",
       "      <td>121.220358</td>\n",
       "      <td>24.958519</td>\n",
       "      <td>30F., No.120, Sec. 1, Zhongyang W. Rd.</td>\n",
       "      <td>30F., No.120, Sec. 1, Zhongyang W. Rd.</td>\n",
       "      <td>NaN</td>\n",
       "      <td>Taoyuan</td>\n",
       "      <td>NaN</td>\n",
       "      <td>NaN</td>\n",
       "      <td>NaN</td>\n",
       "      <td>NaN</td>\n",
       "      <td>NaN</td>\n",
       "      <td>NaN</td>\n",
       "    </tr>\n",
       "    <tr>\n",
       "      <th>168674</th>\n",
       "      <td>680170</td>\n",
       "      <td>TH</td>\n",
       "      <td>07</td>\n",
       "      <td>TH7</td>\n",
       "      <td>1.0</td>\n",
       "      <td>3EST</td>\n",
       "      <td>GRUPO3</td>\n",
       "      <td>H</td>\n",
       "      <td>[RO]</td>\n",
       "      <td>[]</td>\n",
       "      <td>[83, 85]</td>\n",
       "      <td>21160</td>\n",
       "      <td>ORIGINAL335@HOTMAIL.COM</td>\n",
       "      <td>[{'phoneNumber': '+6638644134', 'phoneType': '...</td>\n",
       "      <td>[{'roomCode': 'TWN.EY-1', 'isParentRoom': Fals...</td>\n",
       "      <td>[{'facilityCode': 10, 'facilityGroupCode': 20,...</td>\n",
       "      <td>NaN</td>\n",
       "      <td>[{'issueCode': 'COVID', 'issueType': 'COVID', ...</td>\n",
       "      <td>NaN</td>\n",
       "      <td>[{'imageTypeCode': 'GEN', 'path': '68/680170/6...</td>\n",
       "      <td>NaN</td>\n",
       "      <td>2021-11-19</td>\n",
       "      <td>11</td>\n",
       "      <td>Sinsamut Hotel Koh Samed</td>\n",
       "      <td>Stop at Sinsamut Hotel Koh Samed to discover t...</td>\n",
       "      <td>101.464347</td>\n",
       "      <td>12.567126</td>\n",
       "      <td>91 Moo. 4, Ban Phe, Koh Samet</td>\n",
       "      <td>91 Moo. 4, Ban Phe, Koh Samet</td>\n",
       "      <td>NaN</td>\n",
       "      <td>Koh Samet</td>\n",
       "      <td>NaN</td>\n",
       "      <td>NaN</td>\n",
       "      <td>NaN</td>\n",
       "      <td>NaN</td>\n",
       "      <td>NaN</td>\n",
       "      <td>NaN</td>\n",
       "    </tr>\n",
       "  </tbody>\n",
       "</table>\n",
       "<p>168675 rows × 37 columns</p>\n",
       "</div>"
      ],
      "text/plain": [
       "          code countryCode stateCode destinationCode  zoneCode categoryCode categoryGroupCode accommodationTypeCode        boardCodes  segmentCodes                                       amenityCodes postalCode                              email                                             phones                                              rooms                                         facilities                                          terminals                                             issues                                     interestPoints                                             images                                     web  lastUpdate     ranking                           name.content                                description.content  coordinates.longitude  coordinates.latitude                            address.content                          address.street address.number      city.content   license  S2C wildcards chainCode address.floor address.door\n",
       "0       206750          IT        07             SIC      15.0         4EST            GRUPO4                     H      [BB, HB, FB]          [34]                [83, 84, 85, 88, 90, 107, 108, 110]      97015           info@torredonvirgilio.it  [{'phoneNumber': '+390932909116', 'phoneType':...  [{'roomCode': 'SGL.SU', 'isParentRoom': False,...  [{'facilityCode': 70, 'facilityGroupCode': 10,...  [{'terminalCode': 'CTA', 'distance': 114}, {'t...  [{'issueCode': 'COVID', 'issueType': 'COVID', ...  [{'facilityCode': 10, 'facilityGroupCode': 100...  [{'imageTypeCode': 'GEN', 'path': '20/206750/2...      http://www.torredonvirgilio.it/en/  2022-04-13          70       Torre Don Virgilio Country Hotel  Torre Don Virgilio Resort is in an ancient, fo...              14.853975             36.867617  Strada Provinciale Rocciola-Scrofani, 260    Strada Provinciale Rocciola-Scrofani            260            MODICA       NaN  NaN       NaN       NaN           NaN          NaN\n",
       "1       206752          MA        07             RAK       1.0         2EST            GRUPO2                     H              [BB]            []                                           [83, 85]      40000                  aderbaz@menara.ma  [{'phoneNumber': '0033689346339', 'phoneType':...  [{'roomCode': 'DBT.ST', 'isParentRoom': False,...  [{'facilityCode': 70, 'facilityGroupCode': 10,...                                                NaN  [{'issueCode': 'COVID', 'issueType': 'COVID', ...                                                NaN  [{'imageTypeCode': 'GEN', 'path': '20/206752/2...                                     NaN  2021-12-07          45                           Riad Aderbaz  Riad Aderbaz A warm welcome awaits you at the ...              -7.992830             31.619990                        40 Derb Al Foundouk                     40 Derb Al Foundouk            NaN         MARRAKECH       NaN  NaN       NaN       NaN           NaN          NaN\n",
       "2       206755          MA        07             RAK       1.0         4EST            GRUPO4                     G  [BB, HB, FB, RO]          [36]  [107, 108, 110, 113, 83, 84, 85, 117, 86, 87, ...      40000                riadnerja@menara.ma  [{'phoneNumber': '+00212524391811', 'phoneType...  [{'roomCode': 'SUI.ST', 'isParentRoom': False,...  [{'facilityCode': 20, 'facilityGroupCode': 10,...          [{'terminalCode': 'TRAK', 'distance': 3}]  [{'issueCode': 'COVID', 'issueType': 'COVID', ...  [{'facilityCode': 10, 'facilityGroupCode': 100...  [{'imageTypeCode': 'RES', 'path': '20/206755/2...                       www.riadnerja.com  2022-06-04          21                             Riad Nerja  Located 20 minutes from the Menara - Marrakech...              -7.977974             31.630354            152 Derb Caid Rassou Bab Aylane         152 Derb Caid Rassou Bab Aylane            NaN         MARRAKECH     20189   1*       NaN       NaN           NaN          NaN\n",
       "3       206756          MA        07             RAK       1.0         4EST            GRUPO4                     H      [BB, HB, RO]         [100]       [83, 85, 117, 86, 88, 90, 107, 92, 108, 110]      40000  contact@riadelgrablymarrakech.com  [{'phoneNumber': '+00212661922801', 'phoneType...  [{'roomCode': 'DBL.SU', 'isParentRoom': False,...  [{'facilityCode': 30, 'facilityGroupCode': 10,...  [{'terminalCode': 'TRAK', 'distance': 5}, {'te...  [{'issueCode': 'COVID', 'issueType': 'COVID', ...  [{'facilityCode': 10, 'facilityGroupCode': 100...  [{'imageTypeCode': 'RES', 'path': '20/206756/2...  https://www.riadelgrably-marrakech.com  2022-01-23          37                         Riad El Grably  Situated in the centre of the Medina, this sma...              -7.983880             31.621800           Derb El Arsa/Riad Zitoun Jdid, 8           Derb El Arsa/Riad Zitoun Jdid              8         MARRAKECH  45990128   3*       NaN       NaN           NaN          NaN\n",
       "4       206758          IT        07             SAY       5.0         3EST            GRUPO3                     H               NaN          [34]                                       [83, 84, 85]      53042                   info@htlposta.it  [{'phoneNumber': '0039945557', 'phoneType': 'P...  [{'roomCode': 'DBL.ST', 'isParentRoom': False,...  [{'facilityCode': 70, 'facilityGroupCode': 10,...                                                NaN  [{'issueCode': 'ITALY', 'issueType': 'COVIDPCR...                                                NaN  [{'imageTypeCode': 'RES', 'path': '20/206758/2...                                     NaN  2022-01-01          56                            Hotel Posta  Hotel Posta A warm welcome awaits you at the l...              11.809342             43.044083                        Via Ugo Foscolo, 48                         Via Ugo Foscolo             48  CHIANCIANO TERME       NaN  NaN       NaN       NaN           NaN          NaN\n",
       "...        ...         ...       ...             ...       ...          ...               ...                   ...               ...           ...                                                ...        ...                                ...                                                ...                                                ...                                                ...                                                ...                                                ...                                                ...                                                ...                                     ...         ...         ...                                    ...                                                ...                    ...                   ...                                        ...                                     ...            ...               ...       ...  ...       ...       ...           ...          ...\n",
       "168670  680160          TW        07             TW3       1.0         4EST            GRUPO4                     H              [BB]  [81, 34, 39]                          [83, 84, 85, 86, 87, 109]        262                                NaN  [{'phoneNumber': '+88639889889', 'phoneType': ...  [{'roomCode': 'ROO.ST', 'isParentRoom': False,...  [{'facilityCode': 70, 'facilityGroupCode': 10,...                                                NaN  [{'issueCode': 'COVID', 'issueType': 'COVID', ...                                                NaN  [{'imageTypeCode': 'COM', 'path': '68/680160/6...                                     NaN  2022-02-17  2147483647  Chuang-Tang Spring SPA Hotel - Deyang  Chuang-Tang Spring SPA Hotel is a popular choi...             121.771957             24.828268                        No. 43, Deyang Road                     No. 43, Deyang Road            NaN             Yilan       NaN  NaN       NaN       NaN           NaN          NaN\n",
       "168671  680161          TW        07             TW1       3.0         3EST            GRUPO3                     H          [BB, RO]            []                                       [83, 85, 87]        320                                NaN  [{'phoneNumber': '+88634222188', 'phoneType': ...  [{'roomCode': 'ROO.BS', 'isParentRoom': False,...  [{'facilityCode': 70, 'facilityGroupCode': 10,...                                                NaN  [{'issueCode': 'COVID', 'issueType': 'COVID', ...                                                NaN  [{'imageTypeCode': 'COM', 'path': '68/680161/6...                                     NaN  2021-11-08  2147483647                        The Young Hotel  The Young Hotel is perfectly located for both ...             121.223858             24.953515                       No. 180, Zhonghe Rd.                    No. 180, Zhonghe Rd.            NaN           Taoyuan       NaN  NaN       NaN       NaN           NaN          NaN\n",
       "168672  680162          TW        07             TXG       1.0         4EST            GRUPO4                     H          [BB, RO]            []                                       [83, 84, 85]        403                                NaN  [{'phoneNumber': '+886435019388', 'phoneType':...  [{'roomCode': 'DBL.IN-1', 'isParentRoom': Fals...  [{'facilityCode': 70, 'facilityGroupCode': 10,...                                                NaN  [{'issueCode': 'COVID', 'issueType': 'COVID', ...                                                NaN  [{'imageTypeCode': 'COM', 'path': '68/680162/6...                                     NaN  2021-11-12  2147483647             Calligraphy Greenway Hotel  Calligraphy Greenway Hotel is perfectly locate...             120.665178             24.150704                        No.512, Yingcai Rd.                     No.512, Yingcai Rd.            NaN          Taichung       NaN  NaN       NaN       NaN           NaN          NaN\n",
       "168673  680163          TW        07             TW1       2.0         3EST            GRUPO3                     H              [RO]            []                                       [83, 84, 87]        320      CHUNGLI@DISCOVERYGROUP.COM.TW  [{'phoneNumber': '+886334226556', 'phoneType':...  [{'roomCode': 'DBL.IN-1', 'isParentRoom': Fals...  [{'facilityCode': 70, 'facilityGroupCode': 10,...                                                NaN  [{'issueCode': 'COVID', 'issueType': 'COVID', ...                                                NaN  [{'imageTypeCode': 'GEN', 'path': '68/680163/6...                                     NaN  2021-11-09  2147483647                 Xinshe Hotel - Chungli  New homes business trip is conveniently locate...             121.220358             24.958519     30F., No.120, Sec. 1, Zhongyang W. Rd.  30F., No.120, Sec. 1, Zhongyang W. Rd.            NaN           Taoyuan       NaN  NaN       NaN       NaN           NaN          NaN\n",
       "168674  680170          TH        07             TH7       1.0         3EST            GRUPO3                     H              [RO]            []                                           [83, 85]      21160            ORIGINAL335@HOTMAIL.COM  [{'phoneNumber': '+6638644134', 'phoneType': '...  [{'roomCode': 'TWN.EY-1', 'isParentRoom': Fals...  [{'facilityCode': 10, 'facilityGroupCode': 20,...                                                NaN  [{'issueCode': 'COVID', 'issueType': 'COVID', ...                                                NaN  [{'imageTypeCode': 'GEN', 'path': '68/680170/6...                                     NaN  2021-11-19          11               Sinsamut Hotel Koh Samed  Stop at Sinsamut Hotel Koh Samed to discover t...             101.464347             12.567126              91 Moo. 4, Ban Phe, Koh Samet           91 Moo. 4, Ban Phe, Koh Samet            NaN         Koh Samet       NaN  NaN       NaN       NaN           NaN          NaN\n",
       "\n",
       "[168675 rows x 37 columns]"
      ]
     },
     "execution_count": 7,
     "metadata": {},
     "output_type": "execute_result"
    }
   ],
   "source": [
    "inventory"
   ]
  },
  {
   "cell_type": "code",
   "execution_count": 8,
   "id": "binary-geology",
   "metadata": {
    "ExecuteTime": {
     "end_time": "2022-07-26T12:30:01.225500Z",
     "start_time": "2022-07-26T12:30:01.222800Z"
    }
   },
   "outputs": [
    {
     "data": {
      "text/plain": [
       "pandas.core.frame.DataFrame"
      ]
     },
     "execution_count": 8,
     "metadata": {},
     "output_type": "execute_result"
    }
   ],
   "source": [
    "type(inventory)"
   ]
  },
  {
   "cell_type": "markdown",
   "id": "therapeutic-convenience",
   "metadata": {},
   "source": [
    "# Data analysis"
   ]
  },
  {
   "cell_type": "code",
   "execution_count": 9,
   "id": "former-ticket",
   "metadata": {
    "ExecuteTime": {
     "end_time": "2022-07-26T17:17:04.388581Z",
     "start_time": "2022-07-26T17:17:04.384963Z"
    }
   },
   "outputs": [
    {
     "data": {
      "text/html": [
       "\n",
       "    <div class=\"bk-root\">\n",
       "        <a href=\"https://bokeh.org\" target=\"_blank\" class=\"bk-logo bk-logo-small bk-logo-notebook\"></a>\n",
       "        <span id=\"1002\">Loading BokehJS ...</span>\n",
       "    </div>"
      ]
     },
     "metadata": {},
     "output_type": "display_data"
    },
    {
     "data": {
      "application/javascript": "\n(function(root) {\n  function now() {\n    return new Date();\n  }\n\n  var force = true;\n\n  if (typeof root._bokeh_onload_callbacks === \"undefined\" || force === true) {\n    root._bokeh_onload_callbacks = [];\n    root._bokeh_is_loading = undefined;\n  }\n\n  var JS_MIME_TYPE = 'application/javascript';\n  var HTML_MIME_TYPE = 'text/html';\n  var EXEC_MIME_TYPE = 'application/vnd.bokehjs_exec.v0+json';\n  var CLASS_NAME = 'output_bokeh rendered_html';\n\n  /**\n   * Render data to the DOM node\n   */\n  function render(props, node) {\n    var script = document.createElement(\"script\");\n    node.appendChild(script);\n  }\n\n  /**\n   * Handle when an output is cleared or removed\n   */\n  function handleClearOutput(event, handle) {\n    var cell = handle.cell;\n\n    var id = cell.output_area._bokeh_element_id;\n    var server_id = cell.output_area._bokeh_server_id;\n    // Clean up Bokeh references\n    if (id != null && id in Bokeh.index) {\n      Bokeh.index[id].model.document.clear();\n      delete Bokeh.index[id];\n    }\n\n    if (server_id !== undefined) {\n      // Clean up Bokeh references\n      var cmd = \"from bokeh.io.state import curstate; print(curstate().uuid_to_server['\" + server_id + \"'].get_sessions()[0].document.roots[0]._id)\";\n      cell.notebook.kernel.execute(cmd, {\n        iopub: {\n          output: function(msg) {\n            var id = msg.content.text.trim();\n            if (id in Bokeh.index) {\n              Bokeh.index[id].model.document.clear();\n              delete Bokeh.index[id];\n            }\n          }\n        }\n      });\n      // Destroy server and session\n      var cmd = \"import bokeh.io.notebook as ion; ion.destroy_server('\" + server_id + \"')\";\n      cell.notebook.kernel.execute(cmd);\n    }\n  }\n\n  /**\n   * Handle when a new output is added\n   */\n  function handleAddOutput(event, handle) {\n    var output_area = handle.output_area;\n    var output = handle.output;\n\n    // limit handleAddOutput to display_data with EXEC_MIME_TYPE content only\n    if ((output.output_type != \"display_data\") || (!Object.prototype.hasOwnProperty.call(output.data, EXEC_MIME_TYPE))) {\n      return\n    }\n\n    var toinsert = output_area.element.find(\".\" + CLASS_NAME.split(' ')[0]);\n\n    if (output.metadata[EXEC_MIME_TYPE][\"id\"] !== undefined) {\n      toinsert[toinsert.length - 1].firstChild.textContent = output.data[JS_MIME_TYPE];\n      // store reference to embed id on output_area\n      output_area._bokeh_element_id = output.metadata[EXEC_MIME_TYPE][\"id\"];\n    }\n    if (output.metadata[EXEC_MIME_TYPE][\"server_id\"] !== undefined) {\n      var bk_div = document.createElement(\"div\");\n      bk_div.innerHTML = output.data[HTML_MIME_TYPE];\n      var script_attrs = bk_div.children[0].attributes;\n      for (var i = 0; i < script_attrs.length; i++) {\n        toinsert[toinsert.length - 1].firstChild.setAttribute(script_attrs[i].name, script_attrs[i].value);\n        toinsert[toinsert.length - 1].firstChild.textContent = bk_div.children[0].textContent\n      }\n      // store reference to server id on output_area\n      output_area._bokeh_server_id = output.metadata[EXEC_MIME_TYPE][\"server_id\"];\n    }\n  }\n\n  function register_renderer(events, OutputArea) {\n\n    function append_mime(data, metadata, element) {\n      // create a DOM node to render to\n      var toinsert = this.create_output_subarea(\n        metadata,\n        CLASS_NAME,\n        EXEC_MIME_TYPE\n      );\n      this.keyboard_manager.register_events(toinsert);\n      // Render to node\n      var props = {data: data, metadata: metadata[EXEC_MIME_TYPE]};\n      render(props, toinsert[toinsert.length - 1]);\n      element.append(toinsert);\n      return toinsert\n    }\n\n    /* Handle when an output is cleared or removed */\n    events.on('clear_output.CodeCell', handleClearOutput);\n    events.on('delete.Cell', handleClearOutput);\n\n    /* Handle when a new output is added */\n    events.on('output_added.OutputArea', handleAddOutput);\n\n    /**\n     * Register the mime type and append_mime function with output_area\n     */\n    OutputArea.prototype.register_mime_type(EXEC_MIME_TYPE, append_mime, {\n      /* Is output safe? */\n      safe: true,\n      /* Index of renderer in `output_area.display_order` */\n      index: 0\n    });\n  }\n\n  // register the mime type if in Jupyter Notebook environment and previously unregistered\n  if (root.Jupyter !== undefined) {\n    var events = require('base/js/events');\n    var OutputArea = require('notebook/js/outputarea').OutputArea;\n\n    if (OutputArea.prototype.mime_types().indexOf(EXEC_MIME_TYPE) == -1) {\n      register_renderer(events, OutputArea);\n    }\n  }\n\n  \n  if (typeof (root._bokeh_timeout) === \"undefined\" || force === true) {\n    root._bokeh_timeout = Date.now() + 5000;\n    root._bokeh_failed_load = false;\n  }\n\n  var NB_LOAD_WARNING = {'data': {'text/html':\n     \"<div style='background-color: #fdd'>\\n\"+\n     \"<p>\\n\"+\n     \"BokehJS does not appear to have successfully loaded. If loading BokehJS from CDN, this \\n\"+\n     \"may be due to a slow or bad network connection. Possible fixes:\\n\"+\n     \"</p>\\n\"+\n     \"<ul>\\n\"+\n     \"<li>re-rerun `output_notebook()` to attempt to load from CDN again, or</li>\\n\"+\n     \"<li>use INLINE resources instead, as so:</li>\\n\"+\n     \"</ul>\\n\"+\n     \"<code>\\n\"+\n     \"from bokeh.resources import INLINE\\n\"+\n     \"output_notebook(resources=INLINE)\\n\"+\n     \"</code>\\n\"+\n     \"</div>\"}};\n\n  function display_loaded() {\n    var el = document.getElementById(\"1002\");\n    if (el != null) {\n      el.textContent = \"BokehJS is loading...\";\n    }\n    if (root.Bokeh !== undefined) {\n      if (el != null) {\n        el.textContent = \"BokehJS \" + root.Bokeh.version + \" successfully loaded.\";\n      }\n    } else if (Date.now() < root._bokeh_timeout) {\n      setTimeout(display_loaded, 100)\n    }\n  }\n\n\n  function run_callbacks() {\n    try {\n      root._bokeh_onload_callbacks.forEach(function(callback) {\n        if (callback != null)\n          callback();\n      });\n    } finally {\n      delete root._bokeh_onload_callbacks\n    }\n    console.debug(\"Bokeh: all callbacks have finished\");\n  }\n\n  function load_libs(css_urls, js_urls, callback) {\n    if (css_urls == null) css_urls = [];\n    if (js_urls == null) js_urls = [];\n\n    root._bokeh_onload_callbacks.push(callback);\n    if (root._bokeh_is_loading > 0) {\n      console.debug(\"Bokeh: BokehJS is being loaded, scheduling callback at\", now());\n      return null;\n    }\n    if (js_urls == null || js_urls.length === 0) {\n      run_callbacks();\n      return null;\n    }\n    console.debug(\"Bokeh: BokehJS not loaded, scheduling load and callback at\", now());\n    root._bokeh_is_loading = css_urls.length + js_urls.length;\n\n    function on_load() {\n      root._bokeh_is_loading--;\n      if (root._bokeh_is_loading === 0) {\n        console.debug(\"Bokeh: all BokehJS libraries/stylesheets loaded\");\n        run_callbacks()\n      }\n    }\n\n    function on_error(url) {\n      console.error(\"failed to load \" + url);\n    }\n\n    for (let i = 0; i < css_urls.length; i++) {\n      const url = css_urls[i];\n      const element = document.createElement(\"link\");\n      element.onload = on_load;\n      element.onerror = on_error.bind(null, url);\n      element.rel = \"stylesheet\";\n      element.type = \"text/css\";\n      element.href = url;\n      console.debug(\"Bokeh: injecting link tag for BokehJS stylesheet: \", url);\n      document.body.appendChild(element);\n    }\n\n    const hashes = {\"https://cdn.bokeh.org/bokeh/release/bokeh-2.3.0.min.js\": \"HjagQp6T0/7bxYTAXbLotF1MLAGWmhkY5siA1Gc/pcEgvgRPtMsRn0gQtMwGKiw1\", \"https://cdn.bokeh.org/bokeh/release/bokeh-widgets-2.3.0.min.js\": \"ZEPPTjL+mdyqgIq+/pl9KTwzji8Kow2NnI3zWY8+sFinWP/SYJ80BnfeJsa45iYj\", \"https://cdn.bokeh.org/bokeh/release/bokeh-tables-2.3.0.min.js\": \"exLqv2ACDRIaV7ZK1iL8aGzGYQvKVuT3U2CT7FsQREBxRah6JrkVCoFy0koY1YqV\"};\n\n    for (let i = 0; i < js_urls.length; i++) {\n      const url = js_urls[i];\n      const element = document.createElement('script');\n      element.onload = on_load;\n      element.onerror = on_error.bind(null, url);\n      element.async = false;\n      element.src = url;\n      if (url in hashes) {\n        element.crossOrigin = \"anonymous\";\n        element.integrity = \"sha384-\" + hashes[url];\n      }\n      console.debug(\"Bokeh: injecting script tag for BokehJS library: \", url);\n      document.head.appendChild(element);\n    }\n  };\n\n  function inject_raw_css(css) {\n    const element = document.createElement(\"style\");\n    element.appendChild(document.createTextNode(css));\n    document.body.appendChild(element);\n  }\n\n  \n  var js_urls = [\"https://cdn.bokeh.org/bokeh/release/bokeh-2.3.0.min.js\", \"https://cdn.bokeh.org/bokeh/release/bokeh-widgets-2.3.0.min.js\", \"https://cdn.bokeh.org/bokeh/release/bokeh-tables-2.3.0.min.js\"];\n  var css_urls = [];\n  \n\n  var inline_js = [\n    function(Bokeh) {\n      Bokeh.set_log_level(\"info\");\n    },\n    function(Bokeh) {\n    \n    \n    }\n  ];\n\n  function run_inline_js() {\n    \n    if (root.Bokeh !== undefined || force === true) {\n      \n    for (var i = 0; i < inline_js.length; i++) {\n      inline_js[i].call(root, root.Bokeh);\n    }\n    if (force === true) {\n        display_loaded();\n      }} else if (Date.now() < root._bokeh_timeout) {\n      setTimeout(run_inline_js, 100);\n    } else if (!root._bokeh_failed_load) {\n      console.log(\"Bokeh: BokehJS failed to load within specified timeout.\");\n      root._bokeh_failed_load = true;\n    } else if (force !== true) {\n      var cell = $(document.getElementById(\"1002\")).parents('.cell').data().cell;\n      cell.output_area.append_execute_result(NB_LOAD_WARNING)\n    }\n\n  }\n\n  if (root._bokeh_is_loading === 0) {\n    console.debug(\"Bokeh: BokehJS loaded, going straight to plotting\");\n    run_inline_js();\n  } else {\n    load_libs(css_urls, js_urls, function() {\n      console.debug(\"Bokeh: BokehJS plotting callback run at\", now());\n      run_inline_js();\n    });\n  }\n}(window));",
      "application/vnd.bokehjs_load.v0+json": ""
     },
     "metadata": {},
     "output_type": "display_data"
    }
   ],
   "source": [
    "import seaborn as sns\n",
    "import matplotlib.pyplot as plt\n",
    "import matplotlib\n",
    "%matplotlib inline\n",
    "from math import pi\n",
    "from bokeh.palettes import Category20c, turbo\n",
    "from bokeh.plotting import figure, show\n",
    "from bokeh.transform import cumsum\n",
    "import bokeh.io\n",
    "bokeh.io.reset_output()\n",
    "bokeh.io.output_notebook()\n",
    "from bokeh.tile_providers import get_provider\n",
    "from pyproj import Proj, transform"
   ]
  },
  {
   "cell_type": "code",
   "execution_count": 10,
   "id": "boring-blake",
   "metadata": {
    "ExecuteTime": {
     "end_time": "2022-07-26T12:31:35.440707Z",
     "start_time": "2022-07-26T12:31:35.427102Z"
    }
   },
   "outputs": [
    {
     "data": {
      "text/plain": [
       "153561    2\n",
       "127778    2\n",
       "905823    2\n",
       "252615    2\n",
       "72755     2\n",
       "         ..\n",
       "591114    1\n",
       "855307    1\n",
       "79116     1\n",
       "343309    1\n",
       "4094      1\n",
       "Name: code, Length: 168339, dtype: int64"
      ]
     },
     "execution_count": 10,
     "metadata": {},
     "output_type": "execute_result"
    }
   ],
   "source": [
    "inventory['code'].value_counts()"
   ]
  },
  {
   "cell_type": "code",
   "execution_count": 11,
   "id": "negative-lincoln",
   "metadata": {
    "ExecuteTime": {
     "end_time": "2022-07-26T12:32:19.285166Z",
     "start_time": "2022-07-26T12:32:18.894762Z"
    }
   },
   "outputs": [
    {
     "data": {
      "text/plain": [
       "336"
      ]
     },
     "execution_count": 11,
     "metadata": {},
     "output_type": "execute_result"
    }
   ],
   "source": [
    "sum(inventory['code'].value_counts() == 2)"
   ]
  },
  {
   "cell_type": "code",
   "execution_count": 12,
   "id": "quantitative-elephant",
   "metadata": {
    "ExecuteTime": {
     "end_time": "2022-07-26T12:33:03.488431Z",
     "start_time": "2022-07-26T12:33:03.467977Z"
    }
   },
   "outputs": [
    {
     "data": {
      "text/plain": [
       "0"
      ]
     },
     "execution_count": 12,
     "metadata": {},
     "output_type": "execute_result"
    }
   ],
   "source": [
    "sum(inventory['code'].value_counts() == 3)"
   ]
  },
  {
   "cell_type": "code",
   "execution_count": 13,
   "id": "regulation-queue",
   "metadata": {
    "ExecuteTime": {
     "end_time": "2022-07-26T12:33:47.823687Z",
     "start_time": "2022-07-26T12:33:47.322353Z"
    }
   },
   "outputs": [
    {
     "data": {
      "text/html": [
       "<div>\n",
       "<style scoped>\n",
       "    .dataframe tbody tr th:only-of-type {\n",
       "        vertical-align: middle;\n",
       "    }\n",
       "\n",
       "    .dataframe tbody tr th {\n",
       "        vertical-align: top;\n",
       "    }\n",
       "\n",
       "    .dataframe thead th {\n",
       "        text-align: right;\n",
       "    }\n",
       "</style>\n",
       "<table border=\"1\" class=\"dataframe\">\n",
       "  <thead>\n",
       "    <tr style=\"text-align: right;\">\n",
       "      <th></th>\n",
       "      <th>code</th>\n",
       "      <th>countryCode</th>\n",
       "      <th>stateCode</th>\n",
       "      <th>destinationCode</th>\n",
       "      <th>zoneCode</th>\n",
       "      <th>categoryCode</th>\n",
       "      <th>categoryGroupCode</th>\n",
       "      <th>accommodationTypeCode</th>\n",
       "      <th>boardCodes</th>\n",
       "      <th>segmentCodes</th>\n",
       "      <th>amenityCodes</th>\n",
       "      <th>postalCode</th>\n",
       "      <th>email</th>\n",
       "      <th>phones</th>\n",
       "      <th>rooms</th>\n",
       "      <th>facilities</th>\n",
       "      <th>terminals</th>\n",
       "      <th>issues</th>\n",
       "      <th>interestPoints</th>\n",
       "      <th>images</th>\n",
       "      <th>web</th>\n",
       "      <th>lastUpdate</th>\n",
       "      <th>ranking</th>\n",
       "      <th>name.content</th>\n",
       "      <th>description.content</th>\n",
       "      <th>coordinates.longitude</th>\n",
       "      <th>coordinates.latitude</th>\n",
       "      <th>address.content</th>\n",
       "      <th>address.street</th>\n",
       "      <th>address.number</th>\n",
       "      <th>city.content</th>\n",
       "      <th>license</th>\n",
       "      <th>S2C</th>\n",
       "      <th>wildcards</th>\n",
       "      <th>chainCode</th>\n",
       "      <th>address.floor</th>\n",
       "      <th>address.door</th>\n",
       "    </tr>\n",
       "  </thead>\n",
       "  <tbody>\n",
       "    <tr>\n",
       "      <th>146631</th>\n",
       "      <td>153561</td>\n",
       "      <td>GR</td>\n",
       "      <td>07</td>\n",
       "      <td>KSS</td>\n",
       "      <td>3.0</td>\n",
       "      <td>3EST</td>\n",
       "      <td>GRUPO3</td>\n",
       "      <td>H</td>\n",
       "      <td>[BB, HB]</td>\n",
       "      <td>[]</td>\n",
       "      <td>[83, 85, 87, 88, 90, 108, 111]</td>\n",
       "      <td>85300</td>\n",
       "      <td>mammis@otenet.gr</td>\n",
       "      <td>[{'phoneNumber': '2242022104', 'phoneType': 'P...</td>\n",
       "      <td>[{'roomCode': 'STU.C3', 'isParentRoom': False,...</td>\n",
       "      <td>[{'facilityCode': 20, 'facilityGroupCode': 10,...</td>\n",
       "      <td>NaN</td>\n",
       "      <td>[{'issueCode': 'COVID', 'issueType': 'COVID', ...</td>\n",
       "      <td>NaN</td>\n",
       "      <td>[{'imageTypeCode': 'RES', 'path': '15/153561/1...</td>\n",
       "      <td>www.mammisbeach.com</td>\n",
       "      <td>2022-05-26</td>\n",
       "      <td>26</td>\n",
       "      <td>Mammis Beach</td>\n",
       "      <td>The hotel is situated near to a quiet road abo...</td>\n",
       "      <td>27.161303</td>\n",
       "      <td>36.801362</td>\n",
       "      <td>Kardamena</td>\n",
       "      <td>Kardamena</td>\n",
       "      <td>NaN</td>\n",
       "      <td>KARDAMENA, KOS</td>\n",
       "      <td>NaN</td>\n",
       "      <td>2*</td>\n",
       "      <td>NaN</td>\n",
       "      <td>NaN</td>\n",
       "      <td>NaN</td>\n",
       "      <td>NaN</td>\n",
       "    </tr>\n",
       "    <tr>\n",
       "      <th>153143</th>\n",
       "      <td>153561</td>\n",
       "      <td>GR</td>\n",
       "      <td>07</td>\n",
       "      <td>KSS</td>\n",
       "      <td>3.0</td>\n",
       "      <td>3EST</td>\n",
       "      <td>GRUPO3</td>\n",
       "      <td>H</td>\n",
       "      <td>[BB, HB]</td>\n",
       "      <td>[]</td>\n",
       "      <td>[83, 85, 87, 88, 90, 108, 111]</td>\n",
       "      <td>85300</td>\n",
       "      <td>mammis@otenet.gr</td>\n",
       "      <td>[{'phoneNumber': '2242022104', 'phoneType': 'P...</td>\n",
       "      <td>[{'roomCode': 'STU.C3', 'isParentRoom': False,...</td>\n",
       "      <td>[{'facilityCode': 20, 'facilityGroupCode': 10,...</td>\n",
       "      <td>NaN</td>\n",
       "      <td>[{'issueCode': 'COVID', 'issueType': 'COVID', ...</td>\n",
       "      <td>NaN</td>\n",
       "      <td>[{'imageTypeCode': 'RES', 'path': '15/153561/1...</td>\n",
       "      <td>www.mammisbeach.com</td>\n",
       "      <td>2022-05-26</td>\n",
       "      <td>26</td>\n",
       "      <td>Mammis Beach</td>\n",
       "      <td>The hotel is situated near to a quiet road abo...</td>\n",
       "      <td>27.161303</td>\n",
       "      <td>36.801362</td>\n",
       "      <td>Kardamena</td>\n",
       "      <td>Kardamena</td>\n",
       "      <td>NaN</td>\n",
       "      <td>KARDAMENA, KOS</td>\n",
       "      <td>NaN</td>\n",
       "      <td>2*</td>\n",
       "      <td>NaN</td>\n",
       "      <td>NaN</td>\n",
       "      <td>NaN</td>\n",
       "      <td>NaN</td>\n",
       "    </tr>\n",
       "  </tbody>\n",
       "</table>\n",
       "</div>"
      ],
      "text/plain": [
       "          code countryCode stateCode destinationCode  zoneCode categoryCode categoryGroupCode accommodationTypeCode boardCodes segmentCodes                    amenityCodes postalCode             email                                             phones                                              rooms                                         facilities terminals                                             issues interestPoints                                             images                  web  lastUpdate  ranking  name.content                                description.content  coordinates.longitude  coordinates.latitude address.content address.street address.number    city.content license S2C wildcards chainCode address.floor address.door\n",
       "146631  153561          GR        07             KSS       3.0         3EST            GRUPO3                     H   [BB, HB]           []  [83, 85, 87, 88, 90, 108, 111]      85300  mammis@otenet.gr  [{'phoneNumber': '2242022104', 'phoneType': 'P...  [{'roomCode': 'STU.C3', 'isParentRoom': False,...  [{'facilityCode': 20, 'facilityGroupCode': 10,...       NaN  [{'issueCode': 'COVID', 'issueType': 'COVID', ...            NaN  [{'imageTypeCode': 'RES', 'path': '15/153561/1...  www.mammisbeach.com  2022-05-26       26  Mammis Beach  The hotel is situated near to a quiet road abo...              27.161303             36.801362       Kardamena      Kardamena            NaN  KARDAMENA, KOS     NaN  2*       NaN       NaN           NaN          NaN\n",
       "153143  153561          GR        07             KSS       3.0         3EST            GRUPO3                     H   [BB, HB]           []  [83, 85, 87, 88, 90, 108, 111]      85300  mammis@otenet.gr  [{'phoneNumber': '2242022104', 'phoneType': 'P...  [{'roomCode': 'STU.C3', 'isParentRoom': False,...  [{'facilityCode': 20, 'facilityGroupCode': 10,...       NaN  [{'issueCode': 'COVID', 'issueType': 'COVID', ...            NaN  [{'imageTypeCode': 'RES', 'path': '15/153561/1...  www.mammisbeach.com  2022-05-26       26  Mammis Beach  The hotel is situated near to a quiet road abo...              27.161303             36.801362       Kardamena      Kardamena            NaN  KARDAMENA, KOS     NaN  2*       NaN       NaN           NaN          NaN"
      ]
     },
     "execution_count": 13,
     "metadata": {},
     "output_type": "execute_result"
    }
   ],
   "source": [
    "inventory[inventory[\"code\"] == 153561]"
   ]
  },
  {
   "cell_type": "code",
   "execution_count": 14,
   "id": "auburn-wright",
   "metadata": {
    "ExecuteTime": {
     "end_time": "2022-07-26T12:34:31.590642Z",
     "start_time": "2022-07-26T12:34:31.530780Z"
    }
   },
   "outputs": [
    {
     "data": {
      "text/html": [
       "<div>\n",
       "<style scoped>\n",
       "    .dataframe tbody tr th:only-of-type {\n",
       "        vertical-align: middle;\n",
       "    }\n",
       "\n",
       "    .dataframe tbody tr th {\n",
       "        vertical-align: top;\n",
       "    }\n",
       "\n",
       "    .dataframe thead th {\n",
       "        text-align: right;\n",
       "    }\n",
       "</style>\n",
       "<table border=\"1\" class=\"dataframe\">\n",
       "  <thead>\n",
       "    <tr style=\"text-align: right;\">\n",
       "      <th></th>\n",
       "      <th>code</th>\n",
       "      <th>countryCode</th>\n",
       "      <th>stateCode</th>\n",
       "      <th>destinationCode</th>\n",
       "      <th>zoneCode</th>\n",
       "      <th>categoryCode</th>\n",
       "      <th>categoryGroupCode</th>\n",
       "      <th>accommodationTypeCode</th>\n",
       "      <th>boardCodes</th>\n",
       "      <th>segmentCodes</th>\n",
       "      <th>amenityCodes</th>\n",
       "      <th>postalCode</th>\n",
       "      <th>email</th>\n",
       "      <th>phones</th>\n",
       "      <th>rooms</th>\n",
       "      <th>facilities</th>\n",
       "      <th>terminals</th>\n",
       "      <th>issues</th>\n",
       "      <th>interestPoints</th>\n",
       "      <th>images</th>\n",
       "      <th>web</th>\n",
       "      <th>lastUpdate</th>\n",
       "      <th>ranking</th>\n",
       "      <th>name.content</th>\n",
       "      <th>description.content</th>\n",
       "      <th>coordinates.longitude</th>\n",
       "      <th>coordinates.latitude</th>\n",
       "      <th>address.content</th>\n",
       "      <th>address.street</th>\n",
       "      <th>address.number</th>\n",
       "      <th>city.content</th>\n",
       "      <th>license</th>\n",
       "      <th>S2C</th>\n",
       "      <th>wildcards</th>\n",
       "      <th>chainCode</th>\n",
       "      <th>address.floor</th>\n",
       "      <th>address.door</th>\n",
       "    </tr>\n",
       "  </thead>\n",
       "  <tbody>\n",
       "    <tr>\n",
       "      <th>14529</th>\n",
       "      <td>72755</td>\n",
       "      <td>US</td>\n",
       "      <td>AL</td>\n",
       "      <td>BIR</td>\n",
       "      <td>3.0</td>\n",
       "      <td>2EST</td>\n",
       "      <td>GRUPO2</td>\n",
       "      <td>H</td>\n",
       "      <td>[BB, AI, HB, FB, RO]</td>\n",
       "      <td>[34]</td>\n",
       "      <td>[83, 84, 117, 85, 88, 89]</td>\n",
       "      <td>35023</td>\n",
       "      <td>gm.AL445@choicehotels.com</td>\n",
       "      <td>[{'phoneNumber': '(877) 424-6423', 'phoneType'...</td>\n",
       "      <td>[{'roomCode': 'DBL.H6-KG', 'isParentRoom': Fal...</td>\n",
       "      <td>[{'facilityCode': 70, 'facilityGroupCode': 10,...</td>\n",
       "      <td>NaN</td>\n",
       "      <td>[{'issueCode': 'COVID', 'issueType': 'COVID', ...</td>\n",
       "      <td>NaN</td>\n",
       "      <td>[{'imageTypeCode': 'GEN', 'path': '07/072755/0...</td>\n",
       "      <td>NaN</td>\n",
       "      <td>2022-05-19</td>\n",
       "      <td>34</td>\n",
       "      <td>Sleep Inn Bessemer Helena</td>\n",
       "      <td>Dream better at the Sleep Inn Bessemer Helena ...</td>\n",
       "      <td>-86.921868</td>\n",
       "      <td>33.337464</td>\n",
       "      <td>1259 Greenmor Dr.</td>\n",
       "      <td>1259 Greenmor Dr.</td>\n",
       "      <td>NaN</td>\n",
       "      <td>BESSEMER</td>\n",
       "      <td>NaN</td>\n",
       "      <td>NaN</td>\n",
       "      <td>[{'roomType': 'DBL.QN', 'roomCode': 'DBL', 'ch...</td>\n",
       "      <td>CHOIC</td>\n",
       "      <td>NaN</td>\n",
       "      <td>NaN</td>\n",
       "    </tr>\n",
       "    <tr>\n",
       "      <th>80159</th>\n",
       "      <td>72755</td>\n",
       "      <td>US</td>\n",
       "      <td>AL</td>\n",
       "      <td>BIR</td>\n",
       "      <td>3.0</td>\n",
       "      <td>2EST</td>\n",
       "      <td>GRUPO2</td>\n",
       "      <td>H</td>\n",
       "      <td>[BB, AI, HB, FB, RO]</td>\n",
       "      <td>[34]</td>\n",
       "      <td>[83, 84, 117, 85, 88, 89]</td>\n",
       "      <td>35023</td>\n",
       "      <td>gm.AL445@choicehotels.com</td>\n",
       "      <td>[{'phoneNumber': '(877) 424-6423', 'phoneType'...</td>\n",
       "      <td>[{'roomCode': 'DBL.H6-KG', 'isParentRoom': Fal...</td>\n",
       "      <td>[{'facilityCode': 70, 'facilityGroupCode': 10,...</td>\n",
       "      <td>NaN</td>\n",
       "      <td>[{'issueCode': 'COVID', 'issueType': 'COVID', ...</td>\n",
       "      <td>NaN</td>\n",
       "      <td>[{'imageTypeCode': 'GEN', 'path': '07/072755/0...</td>\n",
       "      <td>NaN</td>\n",
       "      <td>2022-05-19</td>\n",
       "      <td>34</td>\n",
       "      <td>Sleep Inn Bessemer Helena</td>\n",
       "      <td>Dream better at the Sleep Inn Bessemer Helena ...</td>\n",
       "      <td>-86.921868</td>\n",
       "      <td>33.337464</td>\n",
       "      <td>1259 Greenmor Dr.</td>\n",
       "      <td>1259 Greenmor Dr.</td>\n",
       "      <td>NaN</td>\n",
       "      <td>BESSEMER</td>\n",
       "      <td>NaN</td>\n",
       "      <td>NaN</td>\n",
       "      <td>[{'roomType': 'DBL.QN', 'roomCode': 'DBL', 'ch...</td>\n",
       "      <td>CHOIC</td>\n",
       "      <td>NaN</td>\n",
       "      <td>NaN</td>\n",
       "    </tr>\n",
       "  </tbody>\n",
       "</table>\n",
       "</div>"
      ],
      "text/plain": [
       "        code countryCode stateCode destinationCode  zoneCode categoryCode categoryGroupCode accommodationTypeCode            boardCodes segmentCodes               amenityCodes postalCode                      email                                             phones                                              rooms                                         facilities terminals                                             issues interestPoints                                             images  web  lastUpdate  ranking               name.content                                description.content  coordinates.longitude  coordinates.latitude    address.content     address.street address.number city.content license  S2C                                          wildcards chainCode address.floor address.door\n",
       "14529  72755          US        AL             BIR       3.0         2EST            GRUPO2                     H  [BB, AI, HB, FB, RO]         [34]  [83, 84, 117, 85, 88, 89]      35023  gm.AL445@choicehotels.com  [{'phoneNumber': '(877) 424-6423', 'phoneType'...  [{'roomCode': 'DBL.H6-KG', 'isParentRoom': Fal...  [{'facilityCode': 70, 'facilityGroupCode': 10,...       NaN  [{'issueCode': 'COVID', 'issueType': 'COVID', ...            NaN  [{'imageTypeCode': 'GEN', 'path': '07/072755/0...  NaN  2022-05-19       34  Sleep Inn Bessemer Helena  Dream better at the Sleep Inn Bessemer Helena ...             -86.921868             33.337464  1259 Greenmor Dr.  1259 Greenmor Dr.            NaN     BESSEMER     NaN  NaN  [{'roomType': 'DBL.QN', 'roomCode': 'DBL', 'ch...     CHOIC           NaN          NaN\n",
       "80159  72755          US        AL             BIR       3.0         2EST            GRUPO2                     H  [BB, AI, HB, FB, RO]         [34]  [83, 84, 117, 85, 88, 89]      35023  gm.AL445@choicehotels.com  [{'phoneNumber': '(877) 424-6423', 'phoneType'...  [{'roomCode': 'DBL.H6-KG', 'isParentRoom': Fal...  [{'facilityCode': 70, 'facilityGroupCode': 10,...       NaN  [{'issueCode': 'COVID', 'issueType': 'COVID', ...            NaN  [{'imageTypeCode': 'GEN', 'path': '07/072755/0...  NaN  2022-05-19       34  Sleep Inn Bessemer Helena  Dream better at the Sleep Inn Bessemer Helena ...             -86.921868             33.337464  1259 Greenmor Dr.  1259 Greenmor Dr.            NaN     BESSEMER     NaN  NaN  [{'roomType': 'DBL.QN', 'roomCode': 'DBL', 'ch...     CHOIC           NaN          NaN"
      ]
     },
     "execution_count": 14,
     "metadata": {},
     "output_type": "execute_result"
    }
   ],
   "source": [
    "inventory[inventory[\"code\"] == 72755]"
   ]
  },
  {
   "cell_type": "code",
   "execution_count": 15,
   "id": "theoretical-reading",
   "metadata": {
    "ExecuteTime": {
     "end_time": "2022-07-26T12:35:15.635392Z",
     "start_time": "2022-07-26T12:35:15.379419Z"
    }
   },
   "outputs": [],
   "source": [
    "inventory = inventory.drop_duplicates(subset=['code'])"
   ]
  },
  {
   "cell_type": "code",
   "execution_count": 16,
   "id": "strategic-camel",
   "metadata": {
    "ExecuteTime": {
     "end_time": "2022-07-26T12:35:59.988113Z",
     "start_time": "2022-07-26T12:35:59.416096Z"
    }
   },
   "outputs": [
    {
     "name": "stdout",
     "output_type": "stream",
     "text": [
      "<class 'pandas.core.frame.DataFrame'>\n",
      "Int64Index: 168339 entries, 0 to 168673\n",
      "Data columns (total 37 columns):\n",
      " #   Column                 Non-Null Count   Dtype  \n",
      "---  ------                 --------------   -----  \n",
      " 0   code                   168339 non-null  int64  \n",
      " 1   countryCode            168339 non-null  object \n",
      " 2   stateCode              168339 non-null  object \n",
      " 3   destinationCode        168339 non-null  object \n",
      " 4   zoneCode               168333 non-null  float64\n",
      " 5   categoryCode           168339 non-null  object \n",
      " 6   categoryGroupCode      167941 non-null  object \n",
      " 7   accommodationTypeCode  168198 non-null  object \n",
      " 8   boardCodes             154486 non-null  object \n",
      " 9   segmentCodes           156926 non-null  object \n",
      " 10  amenityCodes           156926 non-null  object \n",
      " 11  postalCode             159491 non-null  object \n",
      " 12  email                  119051 non-null  object \n",
      " 13  phones                 167377 non-null  object \n",
      " 14  rooms                  167543 non-null  object \n",
      " 15  facilities             168106 non-null  object \n",
      " 16  terminals              28452 non-null   object \n",
      " 17  issues                 145088 non-null  object \n",
      " 18  interestPoints         50665 non-null   object \n",
      " 19  images                 158741 non-null  object \n",
      " 20  web                    79694 non-null   object \n",
      " 21  lastUpdate             168339 non-null  object \n",
      " 22  ranking                168339 non-null  int64  \n",
      " 23  name.content           168339 non-null  object \n",
      " 24  description.content    167942 non-null  object \n",
      " 25  coordinates.longitude  168339 non-null  float64\n",
      " 26  coordinates.latitude   168339 non-null  float64\n",
      " 27  address.content        168339 non-null  object \n",
      " 28  address.street         168339 non-null  object \n",
      " 29  address.number         55237 non-null   object \n",
      " 30  city.content           168339 non-null  object \n",
      " 31  license                8610 non-null    object \n",
      " 32  S2C                    66119 non-null   object \n",
      " 33  wildcards              69236 non-null   object \n",
      " 34  chainCode              83452 non-null   object \n",
      " 35  address.floor          3743 non-null    object \n",
      " 36  address.door           1480 non-null    object \n",
      "dtypes: float64(3), int64(2), object(32)\n",
      "memory usage: 48.8+ MB\n"
     ]
    }
   ],
   "source": [
    "inventory.info()"
   ]
  },
  {
   "cell_type": "code",
   "execution_count": 17,
   "id": "alien-printing",
   "metadata": {
    "ExecuteTime": {
     "end_time": "2022-07-26T12:36:43.542057Z",
     "start_time": "2022-07-26T12:36:43.540095Z"
    }
   },
   "outputs": [],
   "source": [
    "font = {'family' : 'sans serif',\n",
    "        'weight' : 'bold',\n",
    "        'size'   : 22}\n",
    "\n",
    "matplotlib.rc('font', **font)"
   ]
  },
  {
   "cell_type": "code",
   "execution_count": 18,
   "id": "sudden-shoot",
   "metadata": {
    "ExecuteTime": {
     "end_time": "2022-07-26T10:33:07.912453Z",
     "start_time": "2022-07-26T10:33:07.725095Z"
    }
   },
   "outputs": [
    {
     "data": {
      "text/html": [
       "<div>\n",
       "<style scoped>\n",
       "    .dataframe tbody tr th:only-of-type {\n",
       "        vertical-align: middle;\n",
       "    }\n",
       "\n",
       "    .dataframe tbody tr th {\n",
       "        vertical-align: top;\n",
       "    }\n",
       "\n",
       "    .dataframe thead th {\n",
       "        text-align: right;\n",
       "    }\n",
       "</style>\n",
       "<table border=\"1\" class=\"dataframe\">\n",
       "  <thead>\n",
       "    <tr style=\"text-align: right;\">\n",
       "      <th></th>\n",
       "      <th>code</th>\n",
       "      <th>countryCode</th>\n",
       "      <th>stateCode</th>\n",
       "      <th>destinationCode</th>\n",
       "      <th>zoneCode</th>\n",
       "      <th>categoryCode</th>\n",
       "      <th>categoryGroupCode</th>\n",
       "      <th>accommodationTypeCode</th>\n",
       "      <th>boardCodes</th>\n",
       "      <th>segmentCodes</th>\n",
       "      <th>amenityCodes</th>\n",
       "      <th>postalCode</th>\n",
       "      <th>email</th>\n",
       "      <th>phones</th>\n",
       "      <th>rooms</th>\n",
       "      <th>facilities</th>\n",
       "      <th>terminals</th>\n",
       "      <th>issues</th>\n",
       "      <th>interestPoints</th>\n",
       "      <th>images</th>\n",
       "      <th>web</th>\n",
       "      <th>lastUpdate</th>\n",
       "      <th>ranking</th>\n",
       "      <th>name.content</th>\n",
       "      <th>description.content</th>\n",
       "      <th>coordinates.longitude</th>\n",
       "      <th>coordinates.latitude</th>\n",
       "      <th>address.content</th>\n",
       "      <th>address.street</th>\n",
       "      <th>address.number</th>\n",
       "      <th>city.content</th>\n",
       "      <th>license</th>\n",
       "      <th>S2C</th>\n",
       "      <th>wildcards</th>\n",
       "      <th>chainCode</th>\n",
       "      <th>address.floor</th>\n",
       "      <th>address.door</th>\n",
       "    </tr>\n",
       "  </thead>\n",
       "  <tbody>\n",
       "    <tr>\n",
       "      <th>0</th>\n",
       "      <td>206750</td>\n",
       "      <td>IT</td>\n",
       "      <td>07</td>\n",
       "      <td>SIC</td>\n",
       "      <td>15.0</td>\n",
       "      <td>4EST</td>\n",
       "      <td>GRUPO4</td>\n",
       "      <td>H</td>\n",
       "      <td>[BB, HB, FB]</td>\n",
       "      <td>[34]</td>\n",
       "      <td>[83, 84, 85, 88, 90, 107, 108, 110]</td>\n",
       "      <td>97015</td>\n",
       "      <td>info@torredonvirgilio.it</td>\n",
       "      <td>[{'phoneNumber': '+390932909116', 'phoneType':...</td>\n",
       "      <td>[{'roomCode': 'SGL.SU', 'isParentRoom': False,...</td>\n",
       "      <td>[{'facilityCode': 70, 'facilityGroupCode': 10,...</td>\n",
       "      <td>[{'terminalCode': 'CTA', 'distance': 114}, {'t...</td>\n",
       "      <td>[{'issueCode': 'COVID', 'issueType': 'COVID', ...</td>\n",
       "      <td>[{'facilityCode': 10, 'facilityGroupCode': 100...</td>\n",
       "      <td>[{'imageTypeCode': 'GEN', 'path': '20/206750/2...</td>\n",
       "      <td>http://www.torredonvirgilio.it/en/</td>\n",
       "      <td>2022-04-13</td>\n",
       "      <td>70</td>\n",
       "      <td>Torre Don Virgilio Country Hotel</td>\n",
       "      <td>Torre Don Virgilio Resort is in an ancient, fo...</td>\n",
       "      <td>14.853975</td>\n",
       "      <td>36.867617</td>\n",
       "      <td>Strada Provinciale Rocciola-Scrofani, 260</td>\n",
       "      <td>Strada Provinciale Rocciola-Scrofani</td>\n",
       "      <td>260</td>\n",
       "      <td>MODICA</td>\n",
       "      <td>NaN</td>\n",
       "      <td>NaN</td>\n",
       "      <td>NaN</td>\n",
       "      <td>NaN</td>\n",
       "      <td>NaN</td>\n",
       "      <td>NaN</td>\n",
       "    </tr>\n",
       "    <tr>\n",
       "      <th>1</th>\n",
       "      <td>206752</td>\n",
       "      <td>MA</td>\n",
       "      <td>07</td>\n",
       "      <td>RAK</td>\n",
       "      <td>1.0</td>\n",
       "      <td>2EST</td>\n",
       "      <td>GRUPO2</td>\n",
       "      <td>H</td>\n",
       "      <td>[BB]</td>\n",
       "      <td>[]</td>\n",
       "      <td>[83, 85]</td>\n",
       "      <td>40000</td>\n",
       "      <td>aderbaz@menara.ma</td>\n",
       "      <td>[{'phoneNumber': '0033689346339', 'phoneType':...</td>\n",
       "      <td>[{'roomCode': 'DBT.ST', 'isParentRoom': False,...</td>\n",
       "      <td>[{'facilityCode': 70, 'facilityGroupCode': 10,...</td>\n",
       "      <td>NaN</td>\n",
       "      <td>[{'issueCode': 'COVID', 'issueType': 'COVID', ...</td>\n",
       "      <td>NaN</td>\n",
       "      <td>[{'imageTypeCode': 'GEN', 'path': '20/206752/2...</td>\n",
       "      <td>NaN</td>\n",
       "      <td>2021-12-07</td>\n",
       "      <td>45</td>\n",
       "      <td>Riad Aderbaz</td>\n",
       "      <td>Riad Aderbaz A warm welcome awaits you at the ...</td>\n",
       "      <td>-7.992830</td>\n",
       "      <td>31.619990</td>\n",
       "      <td>40 Derb Al Foundouk</td>\n",
       "      <td>40 Derb Al Foundouk</td>\n",
       "      <td>NaN</td>\n",
       "      <td>MARRAKECH</td>\n",
       "      <td>NaN</td>\n",
       "      <td>NaN</td>\n",
       "      <td>NaN</td>\n",
       "      <td>NaN</td>\n",
       "      <td>NaN</td>\n",
       "      <td>NaN</td>\n",
       "    </tr>\n",
       "    <tr>\n",
       "      <th>2</th>\n",
       "      <td>206755</td>\n",
       "      <td>MA</td>\n",
       "      <td>07</td>\n",
       "      <td>RAK</td>\n",
       "      <td>1.0</td>\n",
       "      <td>4EST</td>\n",
       "      <td>GRUPO4</td>\n",
       "      <td>G</td>\n",
       "      <td>[BB, HB, FB, RO]</td>\n",
       "      <td>[36]</td>\n",
       "      <td>[107, 108, 110, 113, 83, 84, 85, 117, 86, 87, ...</td>\n",
       "      <td>40000</td>\n",
       "      <td>riadnerja@menara.ma</td>\n",
       "      <td>[{'phoneNumber': '+00212524391811', 'phoneType...</td>\n",
       "      <td>[{'roomCode': 'SUI.ST', 'isParentRoom': False,...</td>\n",
       "      <td>[{'facilityCode': 20, 'facilityGroupCode': 10,...</td>\n",
       "      <td>[{'terminalCode': 'TRAK', 'distance': 3}]</td>\n",
       "      <td>[{'issueCode': 'COVID', 'issueType': 'COVID', ...</td>\n",
       "      <td>[{'facilityCode': 10, 'facilityGroupCode': 100...</td>\n",
       "      <td>[{'imageTypeCode': 'RES', 'path': '20/206755/2...</td>\n",
       "      <td>www.riadnerja.com</td>\n",
       "      <td>2022-06-04</td>\n",
       "      <td>21</td>\n",
       "      <td>Riad Nerja</td>\n",
       "      <td>Located 20 minutes from the Menara - Marrakech...</td>\n",
       "      <td>-7.977974</td>\n",
       "      <td>31.630354</td>\n",
       "      <td>152 Derb Caid Rassou Bab Aylane</td>\n",
       "      <td>152 Derb Caid Rassou Bab Aylane</td>\n",
       "      <td>NaN</td>\n",
       "      <td>MARRAKECH</td>\n",
       "      <td>20189</td>\n",
       "      <td>1*</td>\n",
       "      <td>NaN</td>\n",
       "      <td>NaN</td>\n",
       "      <td>NaN</td>\n",
       "      <td>NaN</td>\n",
       "    </tr>\n",
       "    <tr>\n",
       "      <th>3</th>\n",
       "      <td>206756</td>\n",
       "      <td>MA</td>\n",
       "      <td>07</td>\n",
       "      <td>RAK</td>\n",
       "      <td>1.0</td>\n",
       "      <td>4EST</td>\n",
       "      <td>GRUPO4</td>\n",
       "      <td>H</td>\n",
       "      <td>[BB, HB, RO]</td>\n",
       "      <td>[100]</td>\n",
       "      <td>[83, 85, 117, 86, 88, 90, 107, 92, 108, 110]</td>\n",
       "      <td>40000</td>\n",
       "      <td>contact@riadelgrablymarrakech.com</td>\n",
       "      <td>[{'phoneNumber': '+00212661922801', 'phoneType...</td>\n",
       "      <td>[{'roomCode': 'DBL.SU', 'isParentRoom': False,...</td>\n",
       "      <td>[{'facilityCode': 30, 'facilityGroupCode': 10,...</td>\n",
       "      <td>[{'terminalCode': 'TRAK', 'distance': 5}, {'te...</td>\n",
       "      <td>[{'issueCode': 'COVID', 'issueType': 'COVID', ...</td>\n",
       "      <td>[{'facilityCode': 10, 'facilityGroupCode': 100...</td>\n",
       "      <td>[{'imageTypeCode': 'RES', 'path': '20/206756/2...</td>\n",
       "      <td>https://www.riadelgrably-marrakech.com</td>\n",
       "      <td>2022-01-23</td>\n",
       "      <td>37</td>\n",
       "      <td>Riad El Grably</td>\n",
       "      <td>Situated in the centre of the Medina, this sma...</td>\n",
       "      <td>-7.983880</td>\n",
       "      <td>31.621800</td>\n",
       "      <td>Derb El Arsa/Riad Zitoun Jdid, 8</td>\n",
       "      <td>Derb El Arsa/Riad Zitoun Jdid</td>\n",
       "      <td>8</td>\n",
       "      <td>MARRAKECH</td>\n",
       "      <td>45990128</td>\n",
       "      <td>3*</td>\n",
       "      <td>NaN</td>\n",
       "      <td>NaN</td>\n",
       "      <td>NaN</td>\n",
       "      <td>NaN</td>\n",
       "    </tr>\n",
       "    <tr>\n",
       "      <th>4</th>\n",
       "      <td>206758</td>\n",
       "      <td>IT</td>\n",
       "      <td>07</td>\n",
       "      <td>SAY</td>\n",
       "      <td>5.0</td>\n",
       "      <td>3EST</td>\n",
       "      <td>GRUPO3</td>\n",
       "      <td>H</td>\n",
       "      <td>NaN</td>\n",
       "      <td>[34]</td>\n",
       "      <td>[83, 84, 85]</td>\n",
       "      <td>53042</td>\n",
       "      <td>info@htlposta.it</td>\n",
       "      <td>[{'phoneNumber': '0039945557', 'phoneType': 'P...</td>\n",
       "      <td>[{'roomCode': 'DBL.ST', 'isParentRoom': False,...</td>\n",
       "      <td>[{'facilityCode': 70, 'facilityGroupCode': 10,...</td>\n",
       "      <td>NaN</td>\n",
       "      <td>[{'issueCode': 'ITALY', 'issueType': 'COVIDPCR...</td>\n",
       "      <td>NaN</td>\n",
       "      <td>[{'imageTypeCode': 'RES', 'path': '20/206758/2...</td>\n",
       "      <td>NaN</td>\n",
       "      <td>2022-01-01</td>\n",
       "      <td>56</td>\n",
       "      <td>Hotel Posta</td>\n",
       "      <td>Hotel Posta A warm welcome awaits you at the l...</td>\n",
       "      <td>11.809342</td>\n",
       "      <td>43.044083</td>\n",
       "      <td>Via Ugo Foscolo, 48</td>\n",
       "      <td>Via Ugo Foscolo</td>\n",
       "      <td>48</td>\n",
       "      <td>CHIANCIANO TERME</td>\n",
       "      <td>NaN</td>\n",
       "      <td>NaN</td>\n",
       "      <td>NaN</td>\n",
       "      <td>NaN</td>\n",
       "      <td>NaN</td>\n",
       "      <td>NaN</td>\n",
       "    </tr>\n",
       "    <tr>\n",
       "      <th>...</th>\n",
       "      <td>...</td>\n",
       "      <td>...</td>\n",
       "      <td>...</td>\n",
       "      <td>...</td>\n",
       "      <td>...</td>\n",
       "      <td>...</td>\n",
       "      <td>...</td>\n",
       "      <td>...</td>\n",
       "      <td>...</td>\n",
       "      <td>...</td>\n",
       "      <td>...</td>\n",
       "      <td>...</td>\n",
       "      <td>...</td>\n",
       "      <td>...</td>\n",
       "      <td>...</td>\n",
       "      <td>...</td>\n",
       "      <td>...</td>\n",
       "      <td>...</td>\n",
       "      <td>...</td>\n",
       "      <td>...</td>\n",
       "      <td>...</td>\n",
       "      <td>...</td>\n",
       "      <td>...</td>\n",
       "      <td>...</td>\n",
       "      <td>...</td>\n",
       "      <td>...</td>\n",
       "      <td>...</td>\n",
       "      <td>...</td>\n",
       "      <td>...</td>\n",
       "      <td>...</td>\n",
       "      <td>...</td>\n",
       "      <td>...</td>\n",
       "      <td>...</td>\n",
       "      <td>...</td>\n",
       "      <td>...</td>\n",
       "      <td>...</td>\n",
       "      <td>...</td>\n",
       "    </tr>\n",
       "    <tr>\n",
       "      <th>168669</th>\n",
       "      <td>680159</td>\n",
       "      <td>TW</td>\n",
       "      <td>07</td>\n",
       "      <td>CYI</td>\n",
       "      <td>1.0</td>\n",
       "      <td>3EST</td>\n",
       "      <td>GRUPO3</td>\n",
       "      <td>H</td>\n",
       "      <td>[BB]</td>\n",
       "      <td>[81, 34]</td>\n",
       "      <td>[83, 85, 87, 88, 111]</td>\n",
       "      <td>600</td>\n",
       "      <td>NaN</td>\n",
       "      <td>[{'phoneNumber': '+88652285999', 'phoneType': ...</td>\n",
       "      <td>[{'roomCode': 'DBL.DB', 'isParentRoom': False,...</td>\n",
       "      <td>[{'facilityCode': 70, 'facilityGroupCode': 10,...</td>\n",
       "      <td>NaN</td>\n",
       "      <td>[{'issueCode': 'COVID', 'issueType': 'COVID', ...</td>\n",
       "      <td>NaN</td>\n",
       "      <td>[{'imageTypeCode': 'GEN', 'path': '68/680159/6...</td>\n",
       "      <td>NaN</td>\n",
       "      <td>2022-01-01</td>\n",
       "      <td>2147483647</td>\n",
       "      <td>Chiayi Look Hotel</td>\n",
       "      <td>Ideally located in the prime touristic area of...</td>\n",
       "      <td>120.447865</td>\n",
       "      <td>23.483774</td>\n",
       "      <td>No.155, Linsen West Rd.</td>\n",
       "      <td>No.155, Linsen West Rd.</td>\n",
       "      <td>NaN</td>\n",
       "      <td>Chiayi</td>\n",
       "      <td>NaN</td>\n",
       "      <td>NaN</td>\n",
       "      <td>NaN</td>\n",
       "      <td>NaN</td>\n",
       "      <td>NaN</td>\n",
       "      <td>NaN</td>\n",
       "    </tr>\n",
       "    <tr>\n",
       "      <th>168670</th>\n",
       "      <td>680160</td>\n",
       "      <td>TW</td>\n",
       "      <td>07</td>\n",
       "      <td>TW3</td>\n",
       "      <td>1.0</td>\n",
       "      <td>4EST</td>\n",
       "      <td>GRUPO4</td>\n",
       "      <td>H</td>\n",
       "      <td>[BB]</td>\n",
       "      <td>[81, 34, 39]</td>\n",
       "      <td>[83, 84, 85, 86, 87, 109]</td>\n",
       "      <td>262</td>\n",
       "      <td>NaN</td>\n",
       "      <td>[{'phoneNumber': '+88639889889', 'phoneType': ...</td>\n",
       "      <td>[{'roomCode': 'ROO.ST', 'isParentRoom': False,...</td>\n",
       "      <td>[{'facilityCode': 70, 'facilityGroupCode': 10,...</td>\n",
       "      <td>NaN</td>\n",
       "      <td>[{'issueCode': 'COVID', 'issueType': 'COVID', ...</td>\n",
       "      <td>NaN</td>\n",
       "      <td>[{'imageTypeCode': 'COM', 'path': '68/680160/6...</td>\n",
       "      <td>NaN</td>\n",
       "      <td>2022-02-17</td>\n",
       "      <td>2147483647</td>\n",
       "      <td>Chuang-Tang Spring SPA Hotel - Deyang</td>\n",
       "      <td>Chuang-Tang Spring SPA Hotel is a popular choi...</td>\n",
       "      <td>121.771957</td>\n",
       "      <td>24.828268</td>\n",
       "      <td>No. 43, Deyang Road</td>\n",
       "      <td>No. 43, Deyang Road</td>\n",
       "      <td>NaN</td>\n",
       "      <td>Yilan</td>\n",
       "      <td>NaN</td>\n",
       "      <td>NaN</td>\n",
       "      <td>NaN</td>\n",
       "      <td>NaN</td>\n",
       "      <td>NaN</td>\n",
       "      <td>NaN</td>\n",
       "    </tr>\n",
       "    <tr>\n",
       "      <th>168671</th>\n",
       "      <td>680161</td>\n",
       "      <td>TW</td>\n",
       "      <td>07</td>\n",
       "      <td>TW1</td>\n",
       "      <td>3.0</td>\n",
       "      <td>3EST</td>\n",
       "      <td>GRUPO3</td>\n",
       "      <td>H</td>\n",
       "      <td>[BB, RO]</td>\n",
       "      <td>[]</td>\n",
       "      <td>[83, 85, 87]</td>\n",
       "      <td>320</td>\n",
       "      <td>NaN</td>\n",
       "      <td>[{'phoneNumber': '+88634222188', 'phoneType': ...</td>\n",
       "      <td>[{'roomCode': 'ROO.BS', 'isParentRoom': False,...</td>\n",
       "      <td>[{'facilityCode': 70, 'facilityGroupCode': 10,...</td>\n",
       "      <td>NaN</td>\n",
       "      <td>[{'issueCode': 'COVID', 'issueType': 'COVID', ...</td>\n",
       "      <td>NaN</td>\n",
       "      <td>[{'imageTypeCode': 'COM', 'path': '68/680161/6...</td>\n",
       "      <td>NaN</td>\n",
       "      <td>2021-11-08</td>\n",
       "      <td>2147483647</td>\n",
       "      <td>The Young Hotel</td>\n",
       "      <td>The Young Hotel is perfectly located for both ...</td>\n",
       "      <td>121.223858</td>\n",
       "      <td>24.953515</td>\n",
       "      <td>No. 180, Zhonghe Rd.</td>\n",
       "      <td>No. 180, Zhonghe Rd.</td>\n",
       "      <td>NaN</td>\n",
       "      <td>Taoyuan</td>\n",
       "      <td>NaN</td>\n",
       "      <td>NaN</td>\n",
       "      <td>NaN</td>\n",
       "      <td>NaN</td>\n",
       "      <td>NaN</td>\n",
       "      <td>NaN</td>\n",
       "    </tr>\n",
       "    <tr>\n",
       "      <th>168672</th>\n",
       "      <td>680162</td>\n",
       "      <td>TW</td>\n",
       "      <td>07</td>\n",
       "      <td>TXG</td>\n",
       "      <td>1.0</td>\n",
       "      <td>4EST</td>\n",
       "      <td>GRUPO4</td>\n",
       "      <td>H</td>\n",
       "      <td>[BB, RO]</td>\n",
       "      <td>[]</td>\n",
       "      <td>[83, 84, 85]</td>\n",
       "      <td>403</td>\n",
       "      <td>NaN</td>\n",
       "      <td>[{'phoneNumber': '+886435019388', 'phoneType':...</td>\n",
       "      <td>[{'roomCode': 'DBL.IN-1', 'isParentRoom': Fals...</td>\n",
       "      <td>[{'facilityCode': 70, 'facilityGroupCode': 10,...</td>\n",
       "      <td>NaN</td>\n",
       "      <td>[{'issueCode': 'COVID', 'issueType': 'COVID', ...</td>\n",
       "      <td>NaN</td>\n",
       "      <td>[{'imageTypeCode': 'COM', 'path': '68/680162/6...</td>\n",
       "      <td>NaN</td>\n",
       "      <td>2021-11-12</td>\n",
       "      <td>2147483647</td>\n",
       "      <td>Calligraphy Greenway Hotel</td>\n",
       "      <td>Calligraphy Greenway Hotel is perfectly locate...</td>\n",
       "      <td>120.665178</td>\n",
       "      <td>24.150704</td>\n",
       "      <td>No.512, Yingcai Rd.</td>\n",
       "      <td>No.512, Yingcai Rd.</td>\n",
       "      <td>NaN</td>\n",
       "      <td>Taichung</td>\n",
       "      <td>NaN</td>\n",
       "      <td>NaN</td>\n",
       "      <td>NaN</td>\n",
       "      <td>NaN</td>\n",
       "      <td>NaN</td>\n",
       "      <td>NaN</td>\n",
       "    </tr>\n",
       "    <tr>\n",
       "      <th>168673</th>\n",
       "      <td>680163</td>\n",
       "      <td>TW</td>\n",
       "      <td>07</td>\n",
       "      <td>TW1</td>\n",
       "      <td>2.0</td>\n",
       "      <td>3EST</td>\n",
       "      <td>GRUPO3</td>\n",
       "      <td>H</td>\n",
       "      <td>[RO]</td>\n",
       "      <td>[]</td>\n",
       "      <td>[83, 84, 87]</td>\n",
       "      <td>320</td>\n",
       "      <td>CHUNGLI@DISCOVERYGROUP.COM.TW</td>\n",
       "      <td>[{'phoneNumber': '+886334226556', 'phoneType':...</td>\n",
       "      <td>[{'roomCode': 'DBL.IN-1', 'isParentRoom': Fals...</td>\n",
       "      <td>[{'facilityCode': 70, 'facilityGroupCode': 10,...</td>\n",
       "      <td>NaN</td>\n",
       "      <td>[{'issueCode': 'COVID', 'issueType': 'COVID', ...</td>\n",
       "      <td>NaN</td>\n",
       "      <td>[{'imageTypeCode': 'GEN', 'path': '68/680163/6...</td>\n",
       "      <td>NaN</td>\n",
       "      <td>2021-11-09</td>\n",
       "      <td>2147483647</td>\n",
       "      <td>Xinshe Hotel - Chungli</td>\n",
       "      <td>New homes business trip is conveniently locate...</td>\n",
       "      <td>121.220358</td>\n",
       "      <td>24.958519</td>\n",
       "      <td>30F., No.120, Sec. 1, Zhongyang W. Rd.</td>\n",
       "      <td>30F., No.120, Sec. 1, Zhongyang W. Rd.</td>\n",
       "      <td>NaN</td>\n",
       "      <td>Taoyuan</td>\n",
       "      <td>NaN</td>\n",
       "      <td>NaN</td>\n",
       "      <td>NaN</td>\n",
       "      <td>NaN</td>\n",
       "      <td>NaN</td>\n",
       "      <td>NaN</td>\n",
       "    </tr>\n",
       "  </tbody>\n",
       "</table>\n",
       "<p>168339 rows × 37 columns</p>\n",
       "</div>"
      ],
      "text/plain": [
       "          code countryCode stateCode destinationCode  zoneCode categoryCode categoryGroupCode accommodationTypeCode        boardCodes  segmentCodes                                       amenityCodes postalCode                              email                                             phones                                              rooms                                         facilities                                          terminals                                             issues                                     interestPoints                                             images                                     web  lastUpdate     ranking                           name.content                                description.content  coordinates.longitude  coordinates.latitude                            address.content                          address.street address.number      city.content   license  S2C wildcards chainCode address.floor address.door\n",
       "0       206750          IT        07             SIC      15.0         4EST            GRUPO4                     H      [BB, HB, FB]          [34]                [83, 84, 85, 88, 90, 107, 108, 110]      97015           info@torredonvirgilio.it  [{'phoneNumber': '+390932909116', 'phoneType':...  [{'roomCode': 'SGL.SU', 'isParentRoom': False,...  [{'facilityCode': 70, 'facilityGroupCode': 10,...  [{'terminalCode': 'CTA', 'distance': 114}, {'t...  [{'issueCode': 'COVID', 'issueType': 'COVID', ...  [{'facilityCode': 10, 'facilityGroupCode': 100...  [{'imageTypeCode': 'GEN', 'path': '20/206750/2...      http://www.torredonvirgilio.it/en/  2022-04-13          70       Torre Don Virgilio Country Hotel  Torre Don Virgilio Resort is in an ancient, fo...              14.853975             36.867617  Strada Provinciale Rocciola-Scrofani, 260    Strada Provinciale Rocciola-Scrofani            260            MODICA       NaN  NaN       NaN       NaN           NaN          NaN\n",
       "1       206752          MA        07             RAK       1.0         2EST            GRUPO2                     H              [BB]            []                                           [83, 85]      40000                  aderbaz@menara.ma  [{'phoneNumber': '0033689346339', 'phoneType':...  [{'roomCode': 'DBT.ST', 'isParentRoom': False,...  [{'facilityCode': 70, 'facilityGroupCode': 10,...                                                NaN  [{'issueCode': 'COVID', 'issueType': 'COVID', ...                                                NaN  [{'imageTypeCode': 'GEN', 'path': '20/206752/2...                                     NaN  2021-12-07          45                           Riad Aderbaz  Riad Aderbaz A warm welcome awaits you at the ...              -7.992830             31.619990                        40 Derb Al Foundouk                     40 Derb Al Foundouk            NaN         MARRAKECH       NaN  NaN       NaN       NaN           NaN          NaN\n",
       "2       206755          MA        07             RAK       1.0         4EST            GRUPO4                     G  [BB, HB, FB, RO]          [36]  [107, 108, 110, 113, 83, 84, 85, 117, 86, 87, ...      40000                riadnerja@menara.ma  [{'phoneNumber': '+00212524391811', 'phoneType...  [{'roomCode': 'SUI.ST', 'isParentRoom': False,...  [{'facilityCode': 20, 'facilityGroupCode': 10,...          [{'terminalCode': 'TRAK', 'distance': 3}]  [{'issueCode': 'COVID', 'issueType': 'COVID', ...  [{'facilityCode': 10, 'facilityGroupCode': 100...  [{'imageTypeCode': 'RES', 'path': '20/206755/2...                       www.riadnerja.com  2022-06-04          21                             Riad Nerja  Located 20 minutes from the Menara - Marrakech...              -7.977974             31.630354            152 Derb Caid Rassou Bab Aylane         152 Derb Caid Rassou Bab Aylane            NaN         MARRAKECH     20189   1*       NaN       NaN           NaN          NaN\n",
       "3       206756          MA        07             RAK       1.0         4EST            GRUPO4                     H      [BB, HB, RO]         [100]       [83, 85, 117, 86, 88, 90, 107, 92, 108, 110]      40000  contact@riadelgrablymarrakech.com  [{'phoneNumber': '+00212661922801', 'phoneType...  [{'roomCode': 'DBL.SU', 'isParentRoom': False,...  [{'facilityCode': 30, 'facilityGroupCode': 10,...  [{'terminalCode': 'TRAK', 'distance': 5}, {'te...  [{'issueCode': 'COVID', 'issueType': 'COVID', ...  [{'facilityCode': 10, 'facilityGroupCode': 100...  [{'imageTypeCode': 'RES', 'path': '20/206756/2...  https://www.riadelgrably-marrakech.com  2022-01-23          37                         Riad El Grably  Situated in the centre of the Medina, this sma...              -7.983880             31.621800           Derb El Arsa/Riad Zitoun Jdid, 8           Derb El Arsa/Riad Zitoun Jdid              8         MARRAKECH  45990128   3*       NaN       NaN           NaN          NaN\n",
       "4       206758          IT        07             SAY       5.0         3EST            GRUPO3                     H               NaN          [34]                                       [83, 84, 85]      53042                   info@htlposta.it  [{'phoneNumber': '0039945557', 'phoneType': 'P...  [{'roomCode': 'DBL.ST', 'isParentRoom': False,...  [{'facilityCode': 70, 'facilityGroupCode': 10,...                                                NaN  [{'issueCode': 'ITALY', 'issueType': 'COVIDPCR...                                                NaN  [{'imageTypeCode': 'RES', 'path': '20/206758/2...                                     NaN  2022-01-01          56                            Hotel Posta  Hotel Posta A warm welcome awaits you at the l...              11.809342             43.044083                        Via Ugo Foscolo, 48                         Via Ugo Foscolo             48  CHIANCIANO TERME       NaN  NaN       NaN       NaN           NaN          NaN\n",
       "...        ...         ...       ...             ...       ...          ...               ...                   ...               ...           ...                                                ...        ...                                ...                                                ...                                                ...                                                ...                                                ...                                                ...                                                ...                                                ...                                     ...         ...         ...                                    ...                                                ...                    ...                   ...                                        ...                                     ...            ...               ...       ...  ...       ...       ...           ...          ...\n",
       "168669  680159          TW        07             CYI       1.0         3EST            GRUPO3                     H              [BB]      [81, 34]                              [83, 85, 87, 88, 111]        600                                NaN  [{'phoneNumber': '+88652285999', 'phoneType': ...  [{'roomCode': 'DBL.DB', 'isParentRoom': False,...  [{'facilityCode': 70, 'facilityGroupCode': 10,...                                                NaN  [{'issueCode': 'COVID', 'issueType': 'COVID', ...                                                NaN  [{'imageTypeCode': 'GEN', 'path': '68/680159/6...                                     NaN  2022-01-01  2147483647                      Chiayi Look Hotel  Ideally located in the prime touristic area of...             120.447865             23.483774                    No.155, Linsen West Rd.                 No.155, Linsen West Rd.            NaN            Chiayi       NaN  NaN       NaN       NaN           NaN          NaN\n",
       "168670  680160          TW        07             TW3       1.0         4EST            GRUPO4                     H              [BB]  [81, 34, 39]                          [83, 84, 85, 86, 87, 109]        262                                NaN  [{'phoneNumber': '+88639889889', 'phoneType': ...  [{'roomCode': 'ROO.ST', 'isParentRoom': False,...  [{'facilityCode': 70, 'facilityGroupCode': 10,...                                                NaN  [{'issueCode': 'COVID', 'issueType': 'COVID', ...                                                NaN  [{'imageTypeCode': 'COM', 'path': '68/680160/6...                                     NaN  2022-02-17  2147483647  Chuang-Tang Spring SPA Hotel - Deyang  Chuang-Tang Spring SPA Hotel is a popular choi...             121.771957             24.828268                        No. 43, Deyang Road                     No. 43, Deyang Road            NaN             Yilan       NaN  NaN       NaN       NaN           NaN          NaN\n",
       "168671  680161          TW        07             TW1       3.0         3EST            GRUPO3                     H          [BB, RO]            []                                       [83, 85, 87]        320                                NaN  [{'phoneNumber': '+88634222188', 'phoneType': ...  [{'roomCode': 'ROO.BS', 'isParentRoom': False,...  [{'facilityCode': 70, 'facilityGroupCode': 10,...                                                NaN  [{'issueCode': 'COVID', 'issueType': 'COVID', ...                                                NaN  [{'imageTypeCode': 'COM', 'path': '68/680161/6...                                     NaN  2021-11-08  2147483647                        The Young Hotel  The Young Hotel is perfectly located for both ...             121.223858             24.953515                       No. 180, Zhonghe Rd.                    No. 180, Zhonghe Rd.            NaN           Taoyuan       NaN  NaN       NaN       NaN           NaN          NaN\n",
       "168672  680162          TW        07             TXG       1.0         4EST            GRUPO4                     H          [BB, RO]            []                                       [83, 84, 85]        403                                NaN  [{'phoneNumber': '+886435019388', 'phoneType':...  [{'roomCode': 'DBL.IN-1', 'isParentRoom': Fals...  [{'facilityCode': 70, 'facilityGroupCode': 10,...                                                NaN  [{'issueCode': 'COVID', 'issueType': 'COVID', ...                                                NaN  [{'imageTypeCode': 'COM', 'path': '68/680162/6...                                     NaN  2021-11-12  2147483647             Calligraphy Greenway Hotel  Calligraphy Greenway Hotel is perfectly locate...             120.665178             24.150704                        No.512, Yingcai Rd.                     No.512, Yingcai Rd.            NaN          Taichung       NaN  NaN       NaN       NaN           NaN          NaN\n",
       "168673  680163          TW        07             TW1       2.0         3EST            GRUPO3                     H              [RO]            []                                       [83, 84, 87]        320      CHUNGLI@DISCOVERYGROUP.COM.TW  [{'phoneNumber': '+886334226556', 'phoneType':...  [{'roomCode': 'DBL.IN-1', 'isParentRoom': Fals...  [{'facilityCode': 70, 'facilityGroupCode': 10,...                                                NaN  [{'issueCode': 'COVID', 'issueType': 'COVID', ...                                                NaN  [{'imageTypeCode': 'GEN', 'path': '68/680163/6...                                     NaN  2021-11-09  2147483647                 Xinshe Hotel - Chungli  New homes business trip is conveniently locate...             121.220358             24.958519     30F., No.120, Sec. 1, Zhongyang W. Rd.  30F., No.120, Sec. 1, Zhongyang W. Rd.            NaN           Taoyuan       NaN  NaN       NaN       NaN           NaN          NaN\n",
       "\n",
       "[168339 rows x 37 columns]"
      ]
     },
     "execution_count": 18,
     "metadata": {},
     "output_type": "execute_result"
    }
   ],
   "source": [
    "inventory"
   ]
  },
  {
   "cell_type": "code",
   "execution_count": 19,
   "id": "acquired-miller",
   "metadata": {
    "ExecuteTime": {
     "end_time": "2022-07-26T12:37:27.788647Z",
     "start_time": "2022-07-26T12:37:27.022209Z"
    }
   },
   "outputs": [
    {
     "data": {
      "image/png": "[encoded data removed]",
      "text/plain": [
       "<Figure size 1440x504 with 1 Axes>"
      ]
     },
     "metadata": {
      "needs_background": "light"
     },
     "output_type": "display_data"
    }
   ],
   "source": [
    "countplt, ax = plt.subplots(figsize = (20,7))\n",
    "ax = sns.countplot(x=\"countryCode\", data=inventory, order=inventory.countryCode.value_counts().iloc[:15].index)"
   ]
  },
  {
   "cell_type": "code",
   "execution_count": 20,
   "id": "related-noise",
   "metadata": {
    "ExecuteTime": {
     "end_time": "2022-07-26T12:38:12.740874Z",
     "start_time": "2022-07-26T12:38:12.245526Z"
    }
   },
   "outputs": [
    {
     "data": {
      "image/png": "[encoded data removed]",
      "text/plain": [
       "<Figure size 1440x504 with 1 Axes>"
      ]
     },
     "metadata": {
      "needs_background": "light"
     },
     "output_type": "display_data"
    }
   ],
   "source": [
    "countplt, ax = plt.subplots(figsize = (20,7))\n",
    "ax = sns.countplot(x=\"city.content\", data=inventory, order=inventory[\"city.content\"].value_counts().iloc[:15].index)\n",
    "ax = plt.xticks(rotation=90)"
   ]
  },
  {
   "cell_type": "code",
   "execution_count": 21,
   "id": "anticipated-paper",
   "metadata": {
    "ExecuteTime": {
     "end_time": "2022-07-26T16:58:06.609981Z",
     "start_time": "2022-07-26T16:58:06.591871Z"
    }
   },
   "outputs": [
    {
     "data": {
      "text/plain": [
       "H      153219\n",
       "A        3070\n",
       "W        2040\n",
       "K        1684\n",
       "P        1508\n",
       "G        1393\n",
       "Q        1045\n",
       "S        1012\n",
       "M         727\n",
       "N         581\n",
       "D         342\n",
       "O         295\n",
       "V         284\n",
       "Z         269\n",
       "C         170\n",
       "Y         142\n",
       "nan       141\n",
       "R         120\n",
       "T          86\n",
       "E          83\n",
       "X          61\n",
       "I          56\n",
       "B           8\n",
       "L           2\n",
       "U           1\n",
       "Name: accommodationTypeCode, dtype: int64"
      ]
     },
     "execution_count": 21,
     "metadata": {},
     "output_type": "execute_result"
    }
   ],
   "source": [
    "accommodation = inventory['accommodationTypeCode'].astype(str).value_counts()\n",
    "accommodation"
   ]
  },
  {
   "cell_type": "markdown",
   "id": "adequate-negative",
   "metadata": {
    "ExecuteTime": {
     "end_time": "2022-07-22T14:10:43.432409Z",
     "start_time": "2022-07-22T14:10:43.419970Z"
    }
   },
   "source": [
    "Legend:  \n",
    "    A - Apartment  \n",
    "    B - Botel  \n",
    "    C - Vacation condo or apartment  \n",
    "    D - Lodge  \n",
    "    E - Camping  \n",
    "    G - Guest house  \n",
    "    H - Hotel  \n",
    "    I - Riad  \n",
    "    K - Bed and breakfast  \n",
    "    M - Motel  \n",
    "    N - Residence  \n",
    "    O - Pousada  \n",
    "    P - Aparthotel  \n",
    "    Q - Boutique  \n",
    "    R - Vacation resort  \n",
    "    S - Hostel  \n",
    "    T - Vacation Townhouse  \n",
    "    U - Cruise  \n",
    "    V - Vacation home or villa  \n",
    "    W - Resort  \n",
    "    X - Historical hotel Luxurious  \n",
    "    Y - Rural house  \n",
    "    Z - Rural hotel  "
   ]
  },
  {
   "cell_type": "code",
   "execution_count": 22,
   "id": "inappropriate-generic",
   "metadata": {
    "ExecuteTime": {
     "end_time": "2022-07-26T17:17:49.322314Z",
     "start_time": "2022-07-26T17:17:49.233670Z"
    }
   },
   "outputs": [
    {
     "data": {
      "text/html": [
       "\n",
       "\n",
       "\n",
       "\n",
       "\n",
       "\n",
       "  <div class=\"bk-root\" id=\"a893b353-15c0-4ce6-8548-e2595c631c5b\" data-root-id=\"1003\"></div>\n"
      ]
     },
     "metadata": {},
     "output_type": "display_data"
    },
    {
     "data": {
      "application/javascript": "(function(root) {\n  function embed_document(root) {\n    \n  var docs_json = {\"35fc1136-e605-4cf8-aa0f-35762769b983\":{\"defs\":[{\"extends\":null,\"module\":null,\"name\":\"DataModel\",\"overrides\":[],\"properties\":[]}],\"roots\":{\"references\":[{\"attributes\":{\"below\":[{\"id\":\"1014\"}],\"center\":[{\"id\":\"1017\"},{\"id\":\"1021\"},{\"id\":\"1042\"}],\"height\":350,\"left\":[{\"id\":\"1018\"}],\"renderers\":[{\"id\":\"1031\"}],\"title\":{\"id\":\"1004\"},\"toolbar\":{\"id\":\"1023\"},\"toolbar_location\":null,\"x_range\":{\"id\":\"1006\"},\"x_scale\":{\"id\":\"1010\"},\"y_range\":{\"id\":\"1008\"},\"y_scale\":{\"id\":\"1012\"}},\"id\":\"1003\",\"subtype\":\"Figure\",\"type\":\"Plot\"},{\"attributes\":{\"callback\":null,\"tooltips\":\"@accommodation: @value @percent{0.00%}\"},\"id\":\"1022\",\"type\":\"HoverTool\"},{\"attributes\":{\"active_multi\":null,\"tools\":[{\"id\":\"1022\"}]},\"id\":\"1023\",\"type\":\"Toolbar\"},{\"attributes\":{},\"id\":\"1036\",\"type\":\"AllLabels\"},{\"attributes\":{\"label\":{\"field\":\"accommodation\"},\"renderers\":[{\"id\":\"1031\"}]},\"id\":\"1043\",\"type\":\"LegendItem\"},{\"attributes\":{},\"id\":\"1038\",\"type\":\"BasicTickFormatter\"},{\"attributes\":{},\"id\":\"1008\",\"type\":\"DataRange1d\"},{\"attributes\":{},\"id\":\"1039\",\"type\":\"AllLabels\"},{\"attributes\":{\"field\":\"angle\"},\"id\":\"1026\",\"type\":\"CumSum\"},{\"attributes\":{\"field\":\"angle\",\"include_zero\":true},\"id\":\"1025\",\"type\":\"CumSum\"},{\"attributes\":{\"start\":-0.5},\"id\":\"1006\",\"type\":\"Range1d\"},{\"attributes\":{\"axis_label\":null,\"formatter\":{\"id\":\"1035\"},\"major_label_policy\":{\"id\":\"1036\"},\"ticker\":{\"id\":\"1015\"},\"visible\":false},\"id\":\"1014\",\"type\":\"LinearAxis\"},{\"attributes\":{},\"id\":\"1012\",\"type\":\"LinearScale\"},{\"attributes\":{\"data\":{\"accommodation\":[\"H\",\"A\",\"W\",\"K\",\"P\",\"G\",\"Q\",\"S\",\"M\",\"N\",\"D\",\"O\",\"V\",\"Z\",\"C\",\"Y\",\"nan\",\"R\",\"T\",\"E\",\"X\",\"I\",\"B\",\"L\",\"U\"],\"angle\":{\"__ndarray__\":\"SNCD6RbgFkBJbt2qilW9PwnIbMINfrM/2l7sjT0XsD/ROwm3c9GsP2ZIzRDZnqo/NhOQ5lv4oz/bKqmD6lajP9/WYM9FyZs/7O18XL80lj86/ansiiSKP5IPtanOjIY/GS+B0Iy1hT9GFMZ5BJCEPwxg5q1n/Xk/GS+B0Iy1dT/rkb2RaY51PzatsWuFWHI/ZpptK65Laj9X69ey2mBpP5DnOOnLpmI/zMOUdWsfYT+fls5hn5EzP5+WzmGfkRM/n5bOYZ+RAz8=\",\"dtype\":\"float64\",\"order\":\"little\",\"shape\":[25]},\"color\":[\"#30123b\",\"#3b2f7f\",\"#434eba\",\"#4668e0\",\"#4584f9\",\"#3ba0fc\",\"#2ab9ed\",\"#1ad1d2\",\"#1ae4b6\",\"#2ff09a\",\"#55fa76\",\"#7cfe56\",\"#a1fc3d\",\"#bef334\",\"#d6e535\",\"#ecd139\",\"#f9ba38\",\"#fea12f\",\"#fb8022\",\"#f36315\",\"#e5460a\",\"#d23005\",\"#bb1f01\",\"#9d1001\",\"#7a0402\"],\"index\":[0,1,2,3,4,5,6,7,8,9,10,11,12,13,14,15,16,17,18,19,20,21,22,23,24],\"percent\":{\"__ndarray__\":\"bRkraTQg7T8NAGoDuaySP8Y4pKSI0Yg/uwwEo8d8hD+z5fm+oViCP9W3hIh38oA/f4/480FteT/cwHS+s594P/+wGTZzsHE/NslumgtGbD95jNrgmqRgPwOXWaAqtlw/f4NUrhekWz8ogPDvWi5aP4TQwm2wi1A/f4NUrhekSz+VCyXIQnJLP281QObLW0c/bUjyU4W9QD+x4GOhBihAP0Iln7J1vzc/I3bEtCTNNT+69LsXc+oIP7r0uxdz6ug+uvS7F3Pq2D4=\",\"dtype\":\"float64\",\"order\":\"little\",\"shape\":[25]},\"value\":[153219,3070,2040,1684,1508,1393,1045,1012,727,581,342,295,284,269,170,142,141,120,86,83,61,56,8,2,1]},\"selected\":{\"id\":\"1040\"},\"selection_policy\":{\"id\":\"1041\"}},\"id\":\"1027\",\"type\":\"ColumnDataSource\"},{\"attributes\":{\"items\":[{\"id\":\"1043\"}]},\"id\":\"1042\",\"type\":\"Legend\"},{\"attributes\":{\"text\":\"Accommodation type\"},\"id\":\"1004\",\"type\":\"Title\"},{\"attributes\":{\"end_angle\":{\"expr\":{\"id\":\"1026\"}},\"fill_alpha\":{\"value\":0.1},\"fill_color\":{\"field\":\"color\"},\"line_alpha\":{\"value\":0.1},\"line_color\":{\"value\":\"white\"},\"radius\":{\"value\":0.4},\"start_angle\":{\"expr\":{\"id\":\"1025\"}},\"x\":{\"value\":0},\"y\":{\"value\":1}},\"id\":\"1030\",\"type\":\"Wedge\"},{\"attributes\":{\"axis\":{\"id\":\"1014\"},\"grid_line_color\":null,\"ticker\":null},\"id\":\"1017\",\"type\":\"Grid\"},{\"attributes\":{\"source\":{\"id\":\"1027\"}},\"id\":\"1032\",\"type\":\"CDSView\"},{\"attributes\":{\"axis_label\":null,\"formatter\":{\"id\":\"1038\"},\"major_label_policy\":{\"id\":\"1039\"},\"ticker\":{\"id\":\"1019\"},\"visible\":false},\"id\":\"1018\",\"type\":\"LinearAxis\"},{\"attributes\":{\"data_source\":{\"id\":\"1027\"},\"glyph\":{\"id\":\"1029\"},\"hover_glyph\":null,\"muted_glyph\":null,\"nonselection_glyph\":{\"id\":\"1030\"},\"view\":{\"id\":\"1032\"}},\"id\":\"1031\",\"type\":\"GlyphRenderer\"},{\"attributes\":{},\"id\":\"1010\",\"type\":\"LinearScale\"},{\"attributes\":{\"axis\":{\"id\":\"1018\"},\"dimension\":1,\"grid_line_color\":null,\"ticker\":null},\"id\":\"1021\",\"type\":\"Grid\"},{\"attributes\":{},\"id\":\"1035\",\"type\":\"BasicTickFormatter\"},{\"attributes\":{\"end_angle\":{\"expr\":{\"id\":\"1026\"}},\"fill_color\":{\"field\":\"color\"},\"line_color\":{\"value\":\"white\"},\"radius\":{\"value\":0.4},\"start_angle\":{\"expr\":{\"id\":\"1025\"}},\"x\":{\"value\":0},\"y\":{\"value\":1}},\"id\":\"1029\",\"type\":\"Wedge\"},{\"attributes\":{},\"id\":\"1015\",\"type\":\"BasicTicker\"},{\"attributes\":{},\"id\":\"1040\",\"type\":\"Selection\"},{\"attributes\":{},\"id\":\"1019\",\"type\":\"BasicTicker\"},{\"attributes\":{},\"id\":\"1041\",\"type\":\"UnionRenderers\"}],\"root_ids\":[\"1003\"]},\"title\":\"Bokeh Application\",\"version\":\"2.3.0\"}};\n  var render_items = [{\"docid\":\"35fc1136-e605-4cf8-aa0f-35762769b983\",\"root_ids\":[\"1003\"],\"roots\":{\"1003\":\"a893b353-15c0-4ce6-8548-e2595c631c5b\"}}];\n  root.Bokeh.embed.embed_items_notebook(docs_json, render_items);\n\n  }\n  if (root.Bokeh !== undefined) {\n    embed_document(root);\n  } else {\n    var attempts = 0;\n    var timer = setInterval(function(root) {\n      if (root.Bokeh !== undefined) {\n        clearInterval(timer);\n        embed_document(root);\n      } else {\n        attempts++;\n        if (attempts > 100) {\n          clearInterval(timer);\n          console.log(\"Bokeh: ERROR: Unable to run BokehJS code because BokehJS library is missing\");\n        }\n      }\n    }, 10, root)\n  }\n})(window);",
      "application/vnd.bokehjs_exec.v0+json": ""
     },
     "metadata": {
      "application/vnd.bokehjs_exec.v0+json": {
       "id": "1003"
      }
     },
     "output_type": "display_data"
    }
   ],
   "source": [
    "data = accommodation.reset_index(name='value').rename(columns={'index': 'accommodation'})\n",
    "data['angle'] = data['value']/data['value'].sum() * 2*pi\n",
    "data['color'] = turbo(len(accommodation))\n",
    "data['percent'] = data['value']/sum(accommodation)\n",
    "\n",
    "p = figure(height=350, title=\"Accommodation type\", toolbar_location=None,\n",
    "           tools=\"hover\", tooltips=\"@accommodation: @value @percent{0.00%}\", x_range=(-0.5, 1.0))\n",
    "\n",
    "p.wedge(x=0, y=1, radius=0.4,\n",
    "        start_angle=cumsum('angle', include_zero=True), end_angle=cumsum('angle'),\n",
    "        line_color=\"white\", fill_color='color', legend_field='accommodation', source=data)\n",
    "\n",
    "p.axis.axis_label = None\n",
    "p.axis.visible = False\n",
    "p.grid.grid_line_color = None\n",
    "\n",
    "show(p)"
   ]
  },
  {
   "cell_type": "code",
   "execution_count": 23,
   "id": "arctic-stopping",
   "metadata": {
    "ExecuteTime": {
     "end_time": "2022-07-26T13:02:18.094736Z",
     "start_time": "2022-07-26T13:02:18.013128Z"
    }
   },
   "outputs": [],
   "source": [
    "s2c = inventory['S2C'].astype(str).value_counts()"
   ]
  },
  {
   "cell_type": "code",
   "execution_count": 24,
   "id": "worth-allergy",
   "metadata": {
    "ExecuteTime": {
     "end_time": "2022-07-26T13:03:07.757037Z",
     "start_time": "2022-07-26T13:03:07.753859Z"
    }
   },
   "outputs": [
    {
     "data": {
      "text/plain": [
       "nan       102220\n",
       "4*         35119\n",
       "3*         17050\n",
       "2*         10428\n",
       "1*          3457\n",
       "denied        65\n",
       "Name: S2C, dtype: int64"
      ]
     },
     "execution_count": 24,
     "metadata": {},
     "output_type": "execute_result"
    }
   ],
   "source": [
    "s2c"
   ]
  },
  {
   "cell_type": "code",
   "execution_count": 25,
   "id": "fancy-hypothetical",
   "metadata": {
    "ExecuteTime": {
     "end_time": "2022-07-26T13:39:09.429573Z",
     "start_time": "2022-07-26T13:39:09.398458Z"
    },
    "code_folding": []
   },
   "outputs": [
    {
     "data": {
      "text/html": [
       "\n",
       "\n",
       "\n",
       "\n",
       "\n",
       "\n",
       "  <div class=\"bk-root\" id=\"f18e3720-e59e-4c76-b2ed-1c5f23d3f4b5\" data-root-id=\"1098\"></div>\n"
      ]
     },
     "metadata": {},
     "output_type": "display_data"
    },
    {
     "data": {
      "application/javascript": "(function(root) {\n  function embed_document(root) {\n    \n  var docs_json = {\"36a2483d-73e6-45f0-b186-8ec2524fbfad\":{\"defs\":[{\"extends\":null,\"module\":null,\"name\":\"DataModel\",\"overrides\":[],\"properties\":[]}],\"roots\":{\"references\":[{\"attributes\":{\"below\":[{\"id\":\"1109\"}],\"center\":[{\"id\":\"1112\"},{\"id\":\"1116\"},{\"id\":\"1137\"}],\"height\":350,\"left\":[{\"id\":\"1113\"}],\"renderers\":[{\"id\":\"1126\"}],\"title\":{\"id\":\"1099\"},\"toolbar\":{\"id\":\"1118\"},\"toolbar_location\":null,\"x_range\":{\"id\":\"1101\"},\"x_scale\":{\"id\":\"1105\"},\"y_range\":{\"id\":\"1103\"},\"y_scale\":{\"id\":\"1107\"}},\"id\":\"1098\",\"subtype\":\"Figure\",\"type\":\"Plot\"},{\"attributes\":{},\"id\":\"1130\",\"type\":\"BasicTickFormatter\"},{\"attributes\":{},\"id\":\"1135\",\"type\":\"Selection\"},{\"attributes\":{},\"id\":\"1131\",\"type\":\"AllLabels\"},{\"attributes\":{},\"id\":\"1136\",\"type\":\"UnionRenderers\"},{\"attributes\":{\"axis_label\":null,\"formatter\":{\"id\":\"1130\"},\"major_label_policy\":{\"id\":\"1131\"},\"ticker\":{\"id\":\"1110\"},\"visible\":false},\"id\":\"1109\",\"type\":\"LinearAxis\"},{\"attributes\":{},\"id\":\"1107\",\"type\":\"LinearScale\"},{\"attributes\":{\"items\":[{\"id\":\"1138\"}]},\"id\":\"1137\",\"type\":\"Legend\"},{\"attributes\":{\"start\":-0.5},\"id\":\"1101\",\"type\":\"Range1d\"},{\"attributes\":{\"axis\":{\"id\":\"1109\"},\"grid_line_color\":null,\"ticker\":null},\"id\":\"1112\",\"type\":\"Grid\"},{\"attributes\":{\"data_source\":{\"id\":\"1122\"},\"glyph\":{\"id\":\"1124\"},\"hover_glyph\":null,\"muted_glyph\":null,\"nonselection_glyph\":{\"id\":\"1125\"},\"view\":{\"id\":\"1127\"}},\"id\":\"1126\",\"type\":\"GlyphRenderer\"},{\"attributes\":{\"end_angle\":{\"expr\":{\"id\":\"1121\"}},\"fill_color\":{\"field\":\"color\"},\"line_color\":{\"value\":\"white\"},\"radius\":{\"value\":0.4},\"start_angle\":{\"expr\":{\"id\":\"1120\"}},\"x\":{\"value\":0},\"y\":{\"value\":1}},\"id\":\"1124\",\"type\":\"Wedge\"},{\"attributes\":{},\"id\":\"1133\",\"type\":\"BasicTickFormatter\"},{\"attributes\":{\"field\":\"angle\",\"include_zero\":true},\"id\":\"1120\",\"type\":\"CumSum\"},{\"attributes\":{\"end_angle\":{\"expr\":{\"id\":\"1121\"}},\"fill_alpha\":{\"value\":0.1},\"fill_color\":{\"field\":\"color\"},\"line_alpha\":{\"value\":0.1},\"line_color\":{\"value\":\"white\"},\"radius\":{\"value\":0.4},\"start_angle\":{\"expr\":{\"id\":\"1120\"}},\"x\":{\"value\":0},\"y\":{\"value\":1}},\"id\":\"1125\",\"type\":\"Wedge\"},{\"attributes\":{},\"id\":\"1134\",\"type\":\"AllLabels\"},{\"attributes\":{\"field\":\"angle\"},\"id\":\"1121\",\"type\":\"CumSum\"},{\"attributes\":{\"text\":\"Hotels stars nmb\"},\"id\":\"1099\",\"type\":\"Title\"},{\"attributes\":{\"data\":{\"angle\":{\"__ndarray__\":\"GAbCpMaFDkASBzUPDPn0P29kYMRCXeQ//dmgwv7o2D8AbHyUF4TAP/rQVd/l32M/\",\"dtype\":\"float64\",\"order\":\"little\",\"shape\":[6]},\"color\":[\"#3182bd\",\"#6baed6\",\"#9ecae1\",\"#c6dbef\",\"#e6550d\",\"#fd8d3c\"],\"index\":[0,1,2,3,4,5],\"percent\":{\"__ndarray__\":\"Hn8Ufmdu4z/z4qlFFbTKP6XwatW67bk/J2LWQXG3rz89EjjDXweVP43kGuQcTjk/\",\"dtype\":\"float64\",\"order\":\"little\",\"shape\":[6]},\"stars\":[\"nan\",\"4*\",\"3*\",\"2*\",\"1*\",\"denied\"],\"value\":[102220,35119,17050,10428,3457,65]},\"selected\":{\"id\":\"1135\"},\"selection_policy\":{\"id\":\"1136\"}},\"id\":\"1122\",\"type\":\"ColumnDataSource\"},{\"attributes\":{\"axis\":{\"id\":\"1113\"},\"dimension\":1,\"grid_line_color\":null,\"ticker\":null},\"id\":\"1116\",\"type\":\"Grid\"},{\"attributes\":{},\"id\":\"1114\",\"type\":\"BasicTicker\"},{\"attributes\":{},\"id\":\"1103\",\"type\":\"DataRange1d\"},{\"attributes\":{\"active_multi\":null,\"tools\":[{\"id\":\"1117\"}]},\"id\":\"1118\",\"type\":\"Toolbar\"},{\"attributes\":{},\"id\":\"1105\",\"type\":\"LinearScale\"},{\"attributes\":{},\"id\":\"1110\",\"type\":\"BasicTicker\"},{\"attributes\":{\"axis_label\":null,\"formatter\":{\"id\":\"1133\"},\"major_label_policy\":{\"id\":\"1134\"},\"ticker\":{\"id\":\"1114\"},\"visible\":false},\"id\":\"1113\",\"type\":\"LinearAxis\"},{\"attributes\":{\"label\":{\"field\":\"stars\"},\"renderers\":[{\"id\":\"1126\"}]},\"id\":\"1138\",\"type\":\"LegendItem\"},{\"attributes\":{\"callback\":null,\"tooltips\":\"@stars: @value @percent{0.00%}\"},\"id\":\"1117\",\"type\":\"HoverTool\"},{\"attributes\":{\"source\":{\"id\":\"1122\"}},\"id\":\"1127\",\"type\":\"CDSView\"}],\"root_ids\":[\"1098\"]},\"title\":\"Bokeh Application\",\"version\":\"2.3.0\"}};\n  var render_items = [{\"docid\":\"36a2483d-73e6-45f0-b186-8ec2524fbfad\",\"root_ids\":[\"1098\"],\"roots\":{\"1098\":\"f18e3720-e59e-4c76-b2ed-1c5f23d3f4b5\"}}];\n  root.Bokeh.embed.embed_items_notebook(docs_json, render_items);\n\n  }\n  if (root.Bokeh !== undefined) {\n    embed_document(root);\n  } else {\n    var attempts = 0;\n    var timer = setInterval(function(root) {\n      if (root.Bokeh !== undefined) {\n        clearInterval(timer);\n        embed_document(root);\n      } else {\n        attempts++;\n        if (attempts > 100) {\n          clearInterval(timer);\n          console.log(\"Bokeh: ERROR: Unable to run BokehJS code because BokehJS library is missing\");\n        }\n      }\n    }, 10, root)\n  }\n})(window);",
      "application/vnd.bokehjs_exec.v0+json": ""
     },
     "metadata": {
      "application/vnd.bokehjs_exec.v0+json": {
       "id": "1098"
      }
     },
     "output_type": "display_data"
    }
   ],
   "source": [
    "data = s2c.reset_index(name='value').rename(columns={'index': 'stars'})\n",
    "data['angle'] = data['value']/data['value'].sum() * 2*pi\n",
    "data['color'] = Category20c[len(s2c)]\n",
    "data['percent'] = data['value']/sum(s2c)\n",
    "\n",
    "p = figure(height=350, title=\"Hotels stars nmb\", toolbar_location=None,\n",
    "           tools=\"hover\", tooltips=\"@stars: @value @percent{0.00%}\", x_range=(-0.5, 1.0))\n",
    "\n",
    "p.wedge(x=0, y=1, radius=0.4,\n",
    "        start_angle=cumsum('angle', include_zero=True), end_angle=cumsum('angle'),\n",
    "        line_color=\"white\", fill_color='color', legend_field='stars', source=data)\n",
    "\n",
    "p.axis.axis_label = None\n",
    "p.axis.visible = False\n",
    "p.grid.grid_line_color = None\n",
    "\n",
    "show(p)"
   ]
  },
  {
   "cell_type": "code",
   "execution_count": 26,
   "id": "unlike-occurrence",
   "metadata": {
    "ExecuteTime": {
     "end_time": "2022-07-26T13:11:06.849115Z",
     "start_time": "2022-07-26T13:11:06.779299Z"
    }
   },
   "outputs": [
    {
     "data": {
      "text/plain": [
       "nan      84887\n",
       "WYNDH     7353\n",
       "HILTO     6710\n",
       "CHOIC     6180\n",
       "INTCO     5886\n",
       "         ...  \n",
       "AACR         1\n",
       "HAC          1\n",
       "EIGHT        1\n",
       "FHI          1\n",
       "HISPA        1\n",
       "Name: chainCode, Length: 2660, dtype: int64"
      ]
     },
     "execution_count": 26,
     "metadata": {},
     "output_type": "execute_result"
    }
   ],
   "source": [
    "inventory['chainCode'].astype(str).value_counts()"
   ]
  },
  {
   "cell_type": "code",
   "execution_count": 27,
   "id": "diagnostic-price",
   "metadata": {
    "ExecuteTime": {
     "end_time": "2022-07-26T13:25:40.021734Z",
     "start_time": "2022-07-26T13:25:39.976656Z"
    }
   },
   "outputs": [
    {
     "name": "stderr",
     "output_type": "stream",
     "text": [
      "<ipython-input-27-169803bc7792>:1: SettingWithCopyWarning: \n",
      "A value is trying to be set on a copy of a slice from a DataFrame.\n",
      "Try using .loc[row_indexer,col_indexer] = value instead\n",
      "\n",
      "See the caveats in the documentation: https://pandas.pydata.org/pandas-docs/stable/user_guide/indexing.html#returning-a-view-versus-a-copy\n",
      "  inventory['chainCode'] = inventory['chainCode'].astype(str)\n"
     ]
    }
   ],
   "source": [
    "inventory['chainCode'] = inventory['chainCode'].astype(str)"
   ]
  },
  {
   "cell_type": "code",
   "execution_count": 28,
   "id": "insured-samba",
   "metadata": {
    "ExecuteTime": {
     "end_time": "2022-07-26T13:26:28.171436Z",
     "start_time": "2022-07-26T13:26:27.792355Z"
    }
   },
   "outputs": [
    {
     "data": {
      "image/png": "[encoded data removed]",
      "text/plain": [
       "<Figure size 1440x504 with 1 Axes>"
      ]
     },
     "metadata": {
      "needs_background": "light"
     },
     "output_type": "display_data"
    }
   ],
   "source": [
    "countplt, ax = plt.subplots(figsize = (20,7))\n",
    "ax = sns.countplot(x=\"chainCode\", data=inventory, order=inventory[\"chainCode\"].value_counts().iloc[:15].index)\n",
    "ax = plt.xticks(rotation=90)"
   ]
  },
  {
   "cell_type": "code",
   "execution_count": 29,
   "id": "geographic-average",
   "metadata": {
    "ExecuteTime": {
     "end_time": "2022-07-26T17:25:22.543205Z",
     "start_time": "2022-07-26T17:25:22.463848Z"
    }
   },
   "outputs": [],
   "source": [
    "wyndham = inventory[inventory[\"chainCode\"] == \"WYNDH\"]\n",
    "accor = inventory[inventory[\"chainCode\"] == \"ACCOR\"]\n",
    "red_lions = inventory[inventory[\"chainCode\"] == \"REDLI\"]"
   ]
  },
  {
   "cell_type": "code",
   "execution_count": 30,
   "id": "monthly-cricket",
   "metadata": {
    "ExecuteTime": {
     "end_time": "2022-07-26T17:24:12.986488Z",
     "start_time": "2022-07-26T17:24:12.806405Z"
    }
   },
   "outputs": [
    {
     "data": {
      "image/png": "[encoded data removed]",
      "text/plain": [
       "<Figure size 1440x504 with 1 Axes>"
      ]
     },
     "metadata": {
      "needs_background": "light"
     },
     "output_type": "display_data"
    }
   ],
   "source": [
    "countplt, ax = plt.subplots(figsize = (20,7))\n",
    "ax = sns.countplot(x=\"countryCode\", data=wyndham, order=wyndham[\"countryCode\"].value_counts().iloc[:15].index).set(title='Wyndham hotels by country')\n",
    "ax = plt.xticks(rotation=90)"
   ]
  },
  {
   "cell_type": "code",
   "execution_count": 31,
   "id": "worst-scanner",
   "metadata": {
    "ExecuteTime": {
     "end_time": "2022-07-26T17:26:07.532559Z",
     "start_time": "2022-07-26T17:26:07.367527Z"
    }
   },
   "outputs": [
    {
     "data": {
      "image/png": "[encoded data removed]",
      "text/plain": [
       "<Figure size 1440x504 with 1 Axes>"
      ]
     },
     "metadata": {
      "needs_background": "light"
     },
     "output_type": "display_data"
    }
   ],
   "source": [
    "countplt, ax = plt.subplots(figsize = (20,7))\n",
    "ax = sns.countplot(x=\"countryCode\", data=accor, order=accor[\"countryCode\"].value_counts().iloc[:15].index).set(title='Accor hotels by country')\n",
    "ax = plt.xticks(rotation=90)"
   ]
  },
  {
   "cell_type": "code",
   "execution_count": 32,
   "id": "hungarian-appendix",
   "metadata": {
    "ExecuteTime": {
     "end_time": "2022-07-26T17:26:53.138340Z",
     "start_time": "2022-07-26T17:26:53.048952Z"
    }
   },
   "outputs": [
    {
     "data": {
      "image/png": "[encoded data removed]",
      "text/plain": [
       "<Figure size 1440x504 with 1 Axes>"
      ]
     },
     "metadata": {
      "needs_background": "light"
     },
     "output_type": "display_data"
    }
   ],
   "source": [
    "countplt, ax = plt.subplots(figsize = (20,7))\n",
    "ax = sns.countplot(x=\"countryCode\", data=red_lions, order=red_lions[\"countryCode\"].value_counts().iloc[:15].index).set(title='Red lions hotels by country')\n",
    "ax = plt.xticks(rotation=90)"
   ]
  },
  {
   "cell_type": "code",
   "execution_count": 33,
   "id": "embedded-opinion",
   "metadata": {
    "ExecuteTime": {
     "end_time": "2022-07-26T13:41:39.149248Z",
     "start_time": "2022-07-26T13:41:39.140782Z"
    }
   },
   "outputs": [
    {
     "name": "stderr",
     "output_type": "stream",
     "text": [
      "/home/michal/anaconda3/lib/python3.8/site-packages/pyproj/crs/crs.py:130: FutureWarning: '+init=<authority>:<code>' syntax is deprecated. '<authority>:<code>' is the preferred initialization method. When making the change, be mindful of axis order changes: https://pyproj4.github.io/pyproj/stable/gotchas.html#axis-order-changes-in-proj-6\n",
      "  in_crs_string = _prepare_from_proj_string(in_crs_string)\n",
      "/home/michal/anaconda3/lib/python3.8/site-packages/pyproj/crs/crs.py:130: FutureWarning: '+init=<authority>:<code>' syntax is deprecated. '<authority>:<code>' is the preferred initialization method. When making the change, be mindful of axis order changes: https://pyproj4.github.io/pyproj/stable/gotchas.html#axis-order-changes-in-proj-6\n",
      "  in_crs_string = _prepare_from_proj_string(in_crs_string)\n"
     ]
    }
   ],
   "source": [
    "inProj = Proj(init='epsg:3857')\n",
    "outProj = Proj(init='epsg:4326')"
   ]
  },
  {
   "cell_type": "code",
   "execution_count": 34,
   "id": "dental-transfer",
   "metadata": {
    "ExecuteTime": {
     "end_time": "2022-07-26T13:42:23.548467Z",
     "start_time": "2022-07-26T13:42:23.545464Z"
    }
   },
   "outputs": [],
   "source": [
    "def calculate_mercator_points(inv, country_code):\n",
    "    print\n",
    "    country_inv = inv[inv[\"countryCode\"] == country_code]\n",
    "    lons, lats = [], []\n",
    "    for lon, lat in list(zip(country_inv[\"coordinates.longitude\"], country_inv[\"coordinates.latitude\"])):\n",
    "        x, y = transform(outProj,inProj,lon,lat)\n",
    "        lons.append(x)\n",
    "        lats.append(y)\n",
    "    country_inv[\"MercatorX\"] = lons\n",
    "    country_inv[\"MercatorY\"] = lats\n",
    "    return country_inv"
   ]
  },
  {
   "cell_type": "code",
   "execution_count": 35,
   "id": "subjective-anaheim",
   "metadata": {
    "ExecuteTime": {
     "end_time": "2022-07-26T13:56:00.098068Z",
     "start_time": "2022-07-26T13:43:07.782953Z"
    }
   },
   "outputs": [
    {
     "name": "stderr",
     "output_type": "stream",
     "text": [
      "<ipython-input-34-aa8c3169a43c>:6: DeprecationWarning: This function is deprecated. See: https://pyproj4.github.io/pyproj/stable/gotchas.html#upgrading-to-pyproj-2-from-pyproj-1\n",
      "  x, y = transform(outProj,inProj,lon,lat)\n",
      "<ipython-input-34-aa8c3169a43c>:9: SettingWithCopyWarning: \n",
      "A value is trying to be set on a copy of a slice from a DataFrame.\n",
      "Try using .loc[row_indexer,col_indexer] = value instead\n",
      "\n",
      "See the caveats in the documentation: https://pandas.pydata.org/pandas-docs/stable/user_guide/indexing.html#returning-a-view-versus-a-copy\n",
      "  country_inv[\"MercatorX\"] = lons\n",
      "<ipython-input-34-aa8c3169a43c>:10: SettingWithCopyWarning: \n",
      "A value is trying to be set on a copy of a slice from a DataFrame.\n",
      "Try using .loc[row_indexer,col_indexer] = value instead\n",
      "\n",
      "See the caveats in the documentation: https://pandas.pydata.org/pandas-docs/stable/user_guide/indexing.html#returning-a-view-versus-a-copy\n",
      "  country_inv[\"MercatorY\"] = lats\n"
     ]
    }
   ],
   "source": [
    "italy = calculate_mercator_points(inventory, \"IT\")\n",
    "spain = calculate_mercator_points(inventory, \"ES\")\n",
    "united_states = calculate_mercator_points(inventory, \"US\")\n",
    "china = calculate_mercator_points(inventory, \"CN\")\n",
    "france = calculate_mercator_points(inventory, \"FR\")"
   ]
  },
  {
   "cell_type": "code",
   "execution_count": 36,
   "id": "sorted-peace",
   "metadata": {
    "ExecuteTime": {
     "end_time": "2022-07-26T15:19:30.518496Z",
     "start_time": "2022-07-26T15:19:30.502478Z"
    }
   },
   "outputs": [],
   "source": [
    "def make_map(country_inv, x_min, x_max, y_min, y_max):\n",
    "    osm = get_provider(\"OSM\")\n",
    "\n",
    "    # range bounds supplied in web mercator coordinates\n",
    "    p = figure(x_range=(x_min, x_max), y_range=(y_min, y_max),\n",
    "               x_axis_type=\"mercator\", y_axis_type=\"mercator\",\n",
    "               tooltips=[\n",
    "                        (\"name\", \"@{name.content}\"), (\"address\", \"@{address.content}\"), (\"(Long, Lat)\", \"(@{coordinates.longitude}, @{coordinates.latitude})\")\n",
    "                        ],)\n",
    "    p.add_tile(osm)\n",
    "\n",
    "    p.circle(x=\"MercatorX\", y=\"MercatorY\",\n",
    "             size=2,\n",
    "             fill_color=\"dodgerblue\", line_color=\"dodgerblue\",\n",
    "             fill_alpha=0.3,\n",
    "             source=country_inv)\n",
    "\n",
    "    show(p)"
   ]
  },
  {
   "cell_type": "code",
   "execution_count": 37,
   "id": "latest-gilbert",
   "metadata": {
    "ExecuteTime": {
     "end_time": "2022-07-26T16:04:26.610033Z",
     "start_time": "2022-07-26T16:04:18.581855Z"
    }
   },
   "outputs": [
    {
     "data": {
      "text/html": [
       "\n",
       "\n",
       "\n",
       "\n",
       "\n",
       "\n",
       "  <div class=\"bk-root\" id=\"7373125c-56a2-48d6-a50c-0b4211de2ec8\" data-root-id=\"1203\"></div>\n"
      ]
     },
     "metadata": {},
     "output_type": "display_data"
    }
   ],
   "source": [
    "make_map(italy, 510000, 2200000, 4300000, 6000000)"
   ]
  },
  {
   "cell_type": "code",
   "execution_count": null,
   "id": "excessive-haiti",
   "metadata": {
    "ExecuteTime": {
     "end_time": "2022-07-26T15:58:15.200461Z",
     "start_time": "2022-07-26T15:58:01.719775Z"
    }
   },
   "outputs": [],
   "source": [
    "make_map(spain, -2113750, 510805, 3198635, 5419133)"
   ]
  },
  {
   "cell_type": "code",
   "execution_count": null,
   "id": "central-estonia",
   "metadata": {
    "ExecuteTime": {
     "end_time": "2022-07-26T16:46:45.244119Z",
     "start_time": "2022-07-26T16:46:39.995462Z"
    }
   },
   "outputs": [],
   "source": [
    "make_map(china, 8237642, 15028131, 2037548, 7361866)"
   ]
  },
  {
   "cell_type": "code",
   "execution_count": null,
   "id": "received-bride",
   "metadata": {
    "ExecuteTime": {
     "end_time": "2022-07-26T15:36:52.503693Z",
     "start_time": "2022-07-26T15:36:43.980749Z"
    }
   },
   "outputs": [],
   "source": [
    "make_map(france, 50000, 500000, 5000000, 6800000)"
   ]
  },
  {
   "cell_type": "markdown",
   "id": "devoted-organ",
   "metadata": {
    "ExecuteTime": {
     "end_time": "2022-07-22T11:52:39.387314Z",
     "start_time": "2022-07-22T11:52:39.385035Z"
    }
   },
   "source": [
    "# Sum up"
   ]
  },
  {
   "cell_type": "markdown",
   "id": "eleven-thread",
   "metadata": {},
   "source": [
    "1. There are 336 duplicated properties coming from HotelBeds dev data. \n",
    "2. Around quater of all properties all from United States, next countries are Italy, China, Spain and France.  \n",
    "3. City with the biggest number of properties around 1200 is Paris, followed by London, Bangkok and Rome.\n",
    "4. Dominant property type is hotel (around 90%) next are Apartment and Resort.\n",
    "5. Most properties does not have data about stars number (around 60%). Apart from them respectively 20% are four star and 10% are three star.\n",
    "6. Half of properties does not have data about chain. Apart from them most popular chains are Wyndham, Hilton and Choice."
   ]
  },
  {
   "cell_type": "code",
   "execution_count": null,
   "id": "sporting-colon",
   "metadata": {},
   "outputs": [],
   "source": []
  }
 ],
 "metadata": {
  "hide_input": false,
  "kernelspec": {
   "display_name": "Python 3.8.5 ('base')",
   "language": "python",
   "name": "python3"
  },
  "language_info": {
   "codemirror_mode": {
    "name": "ipython",
    "version": 3
   },
   "file_extension": ".py",
   "mimetype": "text/x-python",
   "name": "python",
   "nbconvert_exporter": "python",
   "pygments_lexer": "ipython3",
   "version": "3.8.5"
  },
  "latex_envs": {
   "LaTeX_envs_menu_present": true,
   "autoclose": false,
   "autocomplete": true,
   "bibliofile": "biblio.bib",
   "cite_by": "apalike",
   "current_citInitial": 1,
   "eqLabelWithNumbers": true,
   "eqNumInitial": 1,
   "hotkeys": {
    "equation": "Ctrl-E",
    "itemize": "Ctrl-I"
   },
   "labels_anchors": false,
   "latex_user_defs": false,
   "report_style_numbering": false,
   "user_envs_cfg": false
  },
  "toc": {
   "base_numbering": 1,
   "nav_menu": {},
   "number_sections": true,
   "sideBar": true,
   "skip_h1_title": false,
   "title_cell": "Table of Contents",
   "title_sidebar": "Contents",
   "toc_cell": false,
   "toc_position": {},
   "toc_section_display": true,
   "toc_window_display": false
  },
  "varInspector": {
   "cols": {
    "lenName": 16,
    "lenType": 16,
    "lenVar": 40
   },
   "kernels_config": {
    "python": {
     "delete_cmd_postfix": "",
     "delete_cmd_prefix": "del ",
     "library": "var_list.py",
     "varRefreshCmd": "print(var_dic_list())"
    },
    "r": {
     "delete_cmd_postfix": ") ",
     "delete_cmd_prefix": "rm(",
     "library": "var_list.r",
     "varRefreshCmd": "cat(var_dic_list()) "
    }
   },
   "types_to_exclude": [
    "module",
    "function",
    "builtin_function_or_method",
    "instance",
    "_Feature"
   ],
   "window_display": false
  },
  "vscode": {
   "interpreter": {
    "hash": "31dca9b9ee8cbd0c32cc854109fa72488c93dc0b9bf0becddd230d6e94c6411a"
   }
  }
 },
 "nbformat": 4,
 "nbformat_minor": 5
}
