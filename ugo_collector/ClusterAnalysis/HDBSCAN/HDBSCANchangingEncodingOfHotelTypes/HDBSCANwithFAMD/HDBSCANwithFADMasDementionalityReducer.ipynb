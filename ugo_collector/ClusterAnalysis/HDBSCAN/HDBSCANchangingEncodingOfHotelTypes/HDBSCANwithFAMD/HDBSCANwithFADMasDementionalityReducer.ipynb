{
 "cells": [
  {
   "cell_type": "markdown",
   "metadata": {},
   "source": [
    "# <br> HDBSCAN Clustering analysis performed for hotels' data coming from Bidroom DB + FADM\n",
    "### Information about data set:<br>\n",
    "#### 1. Analysis was performed for sample about 1000 data from database. \n",
    "#### 2. Data were taken for two cities with the higest number of active hotels. <br> \n"
   ]
  },
  {
   "cell_type": "code",
   "execution_count": 96,
   "metadata": {},
   "outputs": [
    {
     "data": {
      "text/html": [
       "\n",
       "<style>\n",
       "    div#notebook-container    { width: 95%; }\n",
       "    div#menubar-container     { width: 65%; }\n",
       "    div#maintoolbar-container { width: 99%; }\n",
       "</style>\n"
      ],
      "text/plain": [
       "<IPython.core.display.HTML object>"
      ]
     },
     "metadata": {},
     "output_type": "display_data"
    }
   ],
   "source": [
    "from IPython.display import display, HTML\n",
    "\n",
    "display(HTML(data=\"\"\"\n",
    "<style>\n",
    "    div#notebook-container    { width: 95%; }\n",
    "    div#menubar-container     { width: 65%; }\n",
    "    div#maintoolbar-container { width: 99%; }\n",
    "</style>\n",
    "\"\"\"))"
   ]
  },
  {
   "cell_type": "markdown",
   "metadata": {},
   "source": [
    "## Importing Libraries"
   ]
  },
  {
   "cell_type": "code",
   "execution_count": 97,
   "metadata": {},
   "outputs": [],
   "source": [
    "import pandas as pd \n",
    "import numpy as np\n",
    "import matplotlib.pyplot as plt\n",
    "import seaborn as sns\n",
    "import plotly.express as px\n",
    "sns.set()\n",
    "### libraries to reduce data\n",
    "from statsmodels.stats.outliers_influence import variance_inflation_factor\n",
    "from statsmodels.tools import add_constant\n",
    "from sklearn import metrics\n",
    "import umap\n",
    "import hdbscan\n",
    "##libraries needed for clustering analysis\n",
    "from sklearn.preprocessing import StandardScaler\n",
    "from scipy.spatial.distance import euclidean, cityblock\n",
    "from DBCV.DBCV import DBCV\n",
    "\n",
    "pd.set_option('display.max_columns', 100)\n",
    "pd.set_option('display.expand_frame_repr', True)\n"
   ]
  },
  {
   "cell_type": "markdown",
   "metadata": {},
   "source": [
    "## Importing file with data and creating its copy"
   ]
  },
  {
   "cell_type": "markdown",
   "metadata": {},
   "source": [
    "#### <br> This set of characteristics was discussed and chosen as the most valuable/informative out of other available in database with Thomas <br>"
   ]
  },
  {
   "cell_type": "code",
   "execution_count": 98,
   "metadata": {},
   "outputs": [
    {
     "name": "stdout",
     "output_type": "stream",
     "text": [
      "<class 'pandas.core.frame.DataFrame'>\n",
      "RangeIndex: 1040 entries, 0 to 1039\n",
      "Data columns (total 13 columns):\n",
      " #   Column               Non-Null Count  Dtype  \n",
      "---  ------               --------------  -----  \n",
      " 0   hotel_id             1040 non-null   int64  \n",
      " 1   hotel_city           1040 non-null   int64  \n",
      " 2   hotel_type           1040 non-null   int64  \n",
      " 3   hotel_country        1040 non-null   object \n",
      " 4   hotel_currency_code  1040 non-null   object \n",
      " 5   hotel_lat            1040 non-null   float64\n",
      " 6   hotel_lon            1040 non-null   float64\n",
      " 7   hotel_distance       881 non-null    float64\n",
      " 8   rooms_count          1040 non-null   int64  \n",
      " 9   room_type_en         188 non-null    object \n",
      " 10  room_type_no         238 non-null    float64\n",
      " 11  label                0 non-null      float64\n",
      " 12  amenity              1038 non-null   object \n",
      "dtypes: float64(5), int64(4), object(4)\n",
      "memory usage: 105.8+ KB\n"
     ]
    }
   ],
   "source": [
    "file = pd.read_csv(\"../Documents/clustering/dbscan/idGBdata.csv\")\n",
    "fileWorking = file.copy()\n",
    "fileWorking.info()"
   ]
  },
  {
   "cell_type": "markdown",
   "metadata": {},
   "source": [
    "#### <br> This analysis is provided for characteristics without the room_types that is why I am removing from original file thwo columns: room_type_no and room_type_en  <br>"
   ]
  },
  {
   "cell_type": "code",
   "execution_count": 99,
   "metadata": {},
   "outputs": [],
   "source": [
    "fileWorking = fileWorking.drop(columns=[\"room_type_no\",\"room_type_en\"])"
   ]
  },
  {
   "cell_type": "markdown",
   "metadata": {},
   "source": [
    "### <br>**Expectations/hypothesis behind chosen characteristics:**<br>\n",
    "#### - **hotel_currency_code** will probably be highly correlated with eg Country, here is just taken to confirm that and remove from future analysis;\n",
    "#### - **hotel_distnace** should be very informative and diverging characteristics because it calculates the distance from the city center;\n",
    "#### - **amenities list**  amenities are chosen because, in my and Thomas opinion, to compare prices we should compare them among not only hotels with the same type but also with the same offer according to what is available for the guest to make their stay more comfortable;\n",
    "#### - **rooms_count** were chosen because we should compare prices among hotels which are more or less the same size, if a guest prefers small hotels he will be comparying prices among the small ones;\n",
    "#### This analysis is a first of such type for the data we are storing in our database and I didn't wanted to miss any level that cound be crucial for hotels categorization<br>"
   ]
  },
  {
   "cell_type": "markdown",
   "metadata": {},
   "source": [
    "## Data Preprocessing"
   ]
  },
  {
   "cell_type": "code",
   "execution_count": 100,
   "metadata": {},
   "outputs": [
    {
     "data": {
      "text/html": [
       "<div>\n",
       "<style scoped>\n",
       "    .dataframe tbody tr th:only-of-type {\n",
       "        vertical-align: middle;\n",
       "    }\n",
       "\n",
       "    .dataframe tbody tr th {\n",
       "        vertical-align: top;\n",
       "    }\n",
       "\n",
       "    .dataframe thead th {\n",
       "        text-align: right;\n",
       "    }\n",
       "</style>\n",
       "<table border=\"1\" class=\"dataframe\">\n",
       "  <thead>\n",
       "    <tr style=\"text-align: right;\">\n",
       "      <th></th>\n",
       "      <th>hotel_id</th>\n",
       "      <th>hotel_city</th>\n",
       "      <th>hotel_type</th>\n",
       "      <th>hotel_country</th>\n",
       "      <th>hotel_currency_code</th>\n",
       "      <th>hotel_lat</th>\n",
       "      <th>hotel_lon</th>\n",
       "      <th>hotel_distance</th>\n",
       "      <th>rooms_count</th>\n",
       "      <th>label</th>\n",
       "      <th>amenity</th>\n",
       "    </tr>\n",
       "  </thead>\n",
       "  <tbody>\n",
       "    <tr>\n",
       "      <th>0</th>\n",
       "      <td>5622</td>\n",
       "      <td>1174</td>\n",
       "      <td>4</td>\n",
       "      <td>GB</td>\n",
       "      <td>GBP</td>\n",
       "      <td>51.521259</td>\n",
       "      <td>-0.155856</td>\n",
       "      <td>3.12</td>\n",
       "      <td>34</td>\n",
       "      <td>NaN</td>\n",
       "      <td>Free WIFI,Elevator / Lift,Air Conditioned,Free...</td>\n",
       "    </tr>\n",
       "    <tr>\n",
       "      <th>1</th>\n",
       "      <td>5630</td>\n",
       "      <td>1174</td>\n",
       "      <td>3</td>\n",
       "      <td>GB</td>\n",
       "      <td>GBP</td>\n",
       "      <td>51.512071</td>\n",
       "      <td>-0.185206</td>\n",
       "      <td>4.30</td>\n",
       "      <td>45</td>\n",
       "      <td>NaN</td>\n",
       "      <td>Free WIFI,Elevator / Lift,Free WIFI,Elevator /...</td>\n",
       "    </tr>\n",
       "    <tr>\n",
       "      <th>2</th>\n",
       "      <td>5640</td>\n",
       "      <td>1174</td>\n",
       "      <td>4</td>\n",
       "      <td>GB</td>\n",
       "      <td>GBP</td>\n",
       "      <td>51.507706</td>\n",
       "      <td>-0.147138</td>\n",
       "      <td>1.67</td>\n",
       "      <td>106</td>\n",
       "      <td>NaN</td>\n",
       "      <td>Free WIFI,Elevator / Lift,Parking,Fitness Room...</td>\n",
       "    </tr>\n",
       "    <tr>\n",
       "      <th>3</th>\n",
       "      <td>5671</td>\n",
       "      <td>1174</td>\n",
       "      <td>4</td>\n",
       "      <td>GB</td>\n",
       "      <td>GBP</td>\n",
       "      <td>51.490098</td>\n",
       "      <td>-0.138130</td>\n",
       "      <td>1.39</td>\n",
       "      <td>72</td>\n",
       "      <td>NaN</td>\n",
       "      <td>Free WIFI,Elevator / Lift,Air Conditioned,Free...</td>\n",
       "    </tr>\n",
       "    <tr>\n",
       "      <th>4</th>\n",
       "      <td>5681</td>\n",
       "      <td>1174</td>\n",
       "      <td>5</td>\n",
       "      <td>GB</td>\n",
       "      <td>GBP</td>\n",
       "      <td>51.496872</td>\n",
       "      <td>-0.167604</td>\n",
       "      <td>2.89</td>\n",
       "      <td>28</td>\n",
       "      <td>NaN</td>\n",
       "      <td>Free WIFI,Elevator / Lift,Parking,Pet Friendly...</td>\n",
       "    </tr>\n",
       "  </tbody>\n",
       "</table>\n",
       "</div>"
      ],
      "text/plain": [
       "   hotel_id  hotel_city  hotel_type hotel_country hotel_currency_code  \\\n",
       "0      5622        1174           4            GB                 GBP   \n",
       "1      5630        1174           3            GB                 GBP   \n",
       "2      5640        1174           4            GB                 GBP   \n",
       "3      5671        1174           4            GB                 GBP   \n",
       "4      5681        1174           5            GB                 GBP   \n",
       "\n",
       "   hotel_lat  hotel_lon  hotel_distance  rooms_count  label  \\\n",
       "0  51.521259  -0.155856            3.12           34    NaN   \n",
       "1  51.512071  -0.185206            4.30           45    NaN   \n",
       "2  51.507706  -0.147138            1.67          106    NaN   \n",
       "3  51.490098  -0.138130            1.39           72    NaN   \n",
       "4  51.496872  -0.167604            2.89           28    NaN   \n",
       "\n",
       "                                             amenity  \n",
       "0  Free WIFI,Elevator / Lift,Air Conditioned,Free...  \n",
       "1  Free WIFI,Elevator / Lift,Free WIFI,Elevator /...  \n",
       "2  Free WIFI,Elevator / Lift,Parking,Fitness Room...  \n",
       "3  Free WIFI,Elevator / Lift,Air Conditioned,Free...  \n",
       "4  Free WIFI,Elevator / Lift,Parking,Pet Friendly...  "
      ]
     },
     "execution_count": 100,
     "metadata": {},
     "output_type": "execute_result"
    }
   ],
   "source": [
    "fileWorking.head()"
   ]
  },
  {
   "cell_type": "code",
   "execution_count": 101,
   "metadata": {},
   "outputs": [
    {
     "name": "stdout",
     "output_type": "stream",
     "text": [
      "<class 'pandas.core.frame.DataFrame'>\n",
      "RangeIndex: 1040 entries, 0 to 1039\n",
      "Data columns (total 11 columns):\n",
      " #   Column               Non-Null Count  Dtype  \n",
      "---  ------               --------------  -----  \n",
      " 0   hotel_id             1040 non-null   int64  \n",
      " 1   hotel_city           1040 non-null   int64  \n",
      " 2   hotel_type           1040 non-null   int64  \n",
      " 3   hotel_country        1040 non-null   object \n",
      " 4   hotel_currency_code  1040 non-null   object \n",
      " 5   hotel_lat            1040 non-null   float64\n",
      " 6   hotel_lon            1040 non-null   float64\n",
      " 7   hotel_distance       881 non-null    float64\n",
      " 8   rooms_count          1040 non-null   int64  \n",
      " 9   label                0 non-null      float64\n",
      " 10  amenity              1038 non-null   object \n",
      "dtypes: float64(4), int64(4), object(3)\n",
      "memory usage: 89.5+ KB\n"
     ]
    }
   ],
   "source": [
    "fileWorking.info()"
   ]
  },
  {
   "cell_type": "code",
   "execution_count": 102,
   "metadata": {},
   "outputs": [],
   "source": [
    "def hotel_type_to_columns(df):\n",
    "    import category_encoders as ce\n",
    "    hotel_type_dict = {\n",
    "        1:2,\n",
    "        2:2,\n",
    "        3:3,\n",
    "        4:4,\n",
    "        5:5,\n",
    "        8:4, \n",
    "        9:3,\n",
    "        10:3,\n",
    "        11:3,\n",
    "        12:3,\n",
    "        13:4,\n",
    "        15:4,\n",
    "        16:1, \n",
    "        23:4,\n",
    "        25:5,\n",
    "        30:3,\n",
    "        32:2,\n",
    "        33:5,\n",
    "        34:3,\n",
    "        36:3\n",
    "    }   \n",
    "    df[\"hotel_type_ordinary\"] = df.hotel_type.map(hotel_type_dict)\n",
    "    df.columns = df.columns.str.lower()\n",
    "    df = df.drop(columns=[\"hotel_type\"])\n",
    "    return df\n",
    "fileWorking = hotel_type_to_columns(fileWorking)"
   ]
  },
  {
   "cell_type": "markdown",
   "metadata": {},
   "source": [
    "### Creating separate sets of amenities for each city"
   ]
  },
  {
   "cell_type": "markdown",
   "metadata": {},
   "source": [
    "#### Creating working file for Jakarta in Indonesia"
   ]
  },
  {
   "cell_type": "code",
   "execution_count": 103,
   "metadata": {},
   "outputs": [
    {
     "name": "stdout",
     "output_type": "stream",
     "text": [
      "<class 'pandas.core.frame.DataFrame'>\n",
      "Int64Index: 648 entries, 17 to 995\n",
      "Data columns (total 11 columns):\n",
      " #   Column               Non-Null Count  Dtype  \n",
      "---  ------               --------------  -----  \n",
      " 0   hotel_id             648 non-null    int64  \n",
      " 1   hotel_city           648 non-null    int64  \n",
      " 2   hotel_country        648 non-null    object \n",
      " 3   hotel_currency_code  648 non-null    object \n",
      " 4   hotel_lat            648 non-null    float64\n",
      " 5   hotel_lon            648 non-null    float64\n",
      " 6   hotel_distance       636 non-null    float64\n",
      " 7   rooms_count          648 non-null    int64  \n",
      " 8   label                0 non-null      float64\n",
      " 9   amenity              648 non-null    object \n",
      " 10  hotel_type_ordinary  648 non-null    int64  \n",
      "dtypes: float64(4), int64(4), object(3)\n",
      "memory usage: 60.8+ KB\n"
     ]
    }
   ],
   "source": [
    "fileWorkingID = fileWorking.loc[fileWorking.hotel_country==\"ID\"]\n",
    "fileWorkingID.info()"
   ]
  },
  {
   "cell_type": "markdown",
   "metadata": {},
   "source": [
    "#### Creating working file for London in Great Britain"
   ]
  },
  {
   "cell_type": "code",
   "execution_count": 104,
   "metadata": {},
   "outputs": [
    {
     "name": "stdout",
     "output_type": "stream",
     "text": [
      "<class 'pandas.core.frame.DataFrame'>\n",
      "Int64Index: 392 entries, 0 to 1039\n",
      "Data columns (total 11 columns):\n",
      " #   Column               Non-Null Count  Dtype  \n",
      "---  ------               --------------  -----  \n",
      " 0   hotel_id             392 non-null    int64  \n",
      " 1   hotel_city           392 non-null    int64  \n",
      " 2   hotel_country        392 non-null    object \n",
      " 3   hotel_currency_code  392 non-null    object \n",
      " 4   hotel_lat            392 non-null    float64\n",
      " 5   hotel_lon            392 non-null    float64\n",
      " 6   hotel_distance       245 non-null    float64\n",
      " 7   rooms_count          392 non-null    int64  \n",
      " 8   label                0 non-null      float64\n",
      " 9   amenity              390 non-null    object \n",
      " 10  hotel_type_ordinary  392 non-null    int64  \n",
      "dtypes: float64(4), int64(4), object(3)\n",
      "memory usage: 36.8+ KB\n"
     ]
    }
   ],
   "source": [
    "fileWorkingGB = fileWorking.loc[fileWorking.hotel_country==\"GB\"]\n",
    "fileWorkingGB.info()"
   ]
  },
  {
   "cell_type": "code",
   "execution_count": 105,
   "metadata": {},
   "outputs": [
    {
     "name": "stderr",
     "output_type": "stream",
     "text": [
      "<ipython-input-105-b7a18e951cdb>:16: SettingWithCopyWarning:\n",
      "\n",
      "\n",
      "A value is trying to be set on a copy of a slice from a DataFrame.\n",
      "Try using .loc[row_indexer,col_indexer] = value instead\n",
      "\n",
      "See the caveats in the documentation: https://pandas.pydata.org/pandas-docs/stable/user_guide/indexing.html#returning-a-view-versus-a-copy\n",
      "\n"
     ]
    }
   ],
   "source": [
    "def handleAmenities(df):\n",
    "    import re\n",
    "    amenities =  []\n",
    "    for num, x in enumerate(df[\"amenity\"]):\n",
    "        try:\n",
    "            x = x.split(sep=',')\n",
    "            amenities = amenities + x\n",
    "        except:\n",
    "            amenities.append(x)\n",
    "    amenities = list(set(amenities))\n",
    "    for x in amenities:\n",
    "        if x != x:\n",
    "            continue\n",
    "        else:\n",
    "            com = '(.*)?('+ x +')(.*)?'\n",
    "            df[x]=[1 if re.search(com,str(a)) is not None else 0 for a in df[\"amenity\"]]\n",
    "    df = df.drop(columns=[\"amenity\"])\n",
    "    return df\n",
    "\n",
    "amenitiesID = handleAmenities(fileWorkingID[[\"hotel_id\",\"amenity\"]])\n",
    "amenitiesGB = handleAmenities(fileWorkingGB[[\"hotel_id\",\"amenity\"]])"
   ]
  },
  {
   "cell_type": "markdown",
   "metadata": {},
   "source": [
    "### Creating final dataset for clustering analysis"
   ]
  },
  {
   "cell_type": "code",
   "execution_count": 106,
   "metadata": {},
   "outputs": [],
   "source": [
    "# for Jakarta\n",
    "fileWorkingID = fileWorkingID.merge(amenitiesID, how=\"left\", on=\"hotel_id\").drop(columns=[\"amenity\"])\n",
    "fileWorkingID.columns = fileWorkingID.columns.str.lower()\n",
    "\n",
    "# for London\n",
    "fileWorkingGB = fileWorkingGB.merge(amenitiesGB, how=\"left\", on=\"hotel_id\").drop(columns=[\"amenity\"])\n",
    "fileWorkingGB.columns = fileWorkingGB.columns.str.lower()"
   ]
  },
  {
   "cell_type": "code",
   "execution_count": 107,
   "metadata": {},
   "outputs": [
    {
     "name": "stdout",
     "output_type": "stream",
     "text": [
      "<class 'pandas.core.frame.DataFrame'>\n",
      "Int64Index: 648 entries, 0 to 647\n",
      "Data columns (total 19 columns):\n",
      " #   Column                 Non-Null Count  Dtype  \n",
      "---  ------                 --------------  -----  \n",
      " 0   hotel_id               648 non-null    int64  \n",
      " 1   hotel_city             648 non-null    int64  \n",
      " 2   hotel_country          648 non-null    object \n",
      " 3   hotel_currency_code    648 non-null    object \n",
      " 4   hotel_lat              648 non-null    float64\n",
      " 5   hotel_lon              648 non-null    float64\n",
      " 6   hotel_distance         636 non-null    float64\n",
      " 7   rooms_count            648 non-null    int64  \n",
      " 8   label                  0 non-null      float64\n",
      " 9   hotel_type_ordinary    648 non-null    int64  \n",
      " 10  parking                648 non-null    int64  \n",
      " 11  fitness room/gym       648 non-null    int64  \n",
      " 12  business centre        648 non-null    int64  \n",
      " 13  disabled access        648 non-null    int64  \n",
      " 14  spa & wellness centre  648 non-null    int64  \n",
      " 15  swimming pool          648 non-null    int64  \n",
      " 16  air conditioned        648 non-null    int64  \n",
      " 17  elevator / lift        648 non-null    int64  \n",
      " 18  free wifi              648 non-null    int64  \n",
      "dtypes: float64(4), int64(13), object(2)\n",
      "memory usage: 101.2+ KB\n"
     ]
    }
   ],
   "source": [
    "fileWorkingID.info()"
   ]
  },
  {
   "cell_type": "markdown",
   "metadata": {},
   "source": [
    "## Data Cleaning"
   ]
  },
  {
   "cell_type": "markdown",
   "metadata": {},
   "source": [
    "### Removing duplicates"
   ]
  },
  {
   "cell_type": "code",
   "execution_count": 108,
   "metadata": {},
   "outputs": [],
   "source": [
    "# for Jakarta\n",
    "filesWorkingIDCleaned = fileWorkingID.drop_duplicates(subset=[\"hotel_id\"], keep=\"first\")\n",
    "# for London\n",
    "filesWorkingGBCleaned = fileWorkingGB.drop_duplicates(subset=[\"hotel_id\"], keep=\"first\")"
   ]
  },
  {
   "cell_type": "markdown",
   "metadata": {},
   "source": [
    "### Handling inconsistent data"
   ]
  },
  {
   "cell_type": "markdown",
   "metadata": {},
   "source": [
    "#### handling information for hotel_distance "
   ]
  },
  {
   "cell_type": "code",
   "execution_count": 109,
   "metadata": {},
   "outputs": [
    {
     "data": {
      "text/plain": [
       "0      False\n",
       "1      False\n",
       "2      False\n",
       "3      False\n",
       "4      False\n",
       "       ...  \n",
       "643     True\n",
       "644     True\n",
       "645     True\n",
       "646     True\n",
       "647     True\n",
       "Name: hotel_distance, Length: 648, dtype: bool"
      ]
     },
     "execution_count": 109,
     "metadata": {},
     "output_type": "execute_result"
    }
   ],
   "source": [
    "filesWorkingIDCleaned[\"hotel_distance\"].isna()"
   ]
  },
  {
   "cell_type": "code",
   "execution_count": 110,
   "metadata": {},
   "outputs": [
    {
     "data": {
      "text/plain": [
       "3.90     20\n",
       "4.15     14\n",
       "10.84    14\n",
       "NaN      12\n",
       "13.62     7\n",
       "         ..\n",
       "4.39      1\n",
       "6.12      1\n",
       "8.38      1\n",
       "7.39      1\n",
       "10.75     1\n",
       "Name: hotel_distance, Length: 383, dtype: int64"
      ]
     },
     "execution_count": 110,
     "metadata": {},
     "output_type": "execute_result"
    }
   ],
   "source": [
    "filesWorkingIDCleaned[\"hotel_distance\"].value_counts(dropna=False)"
   ]
  },
  {
   "cell_type": "code",
   "execution_count": 111,
   "metadata": {},
   "outputs": [
    {
     "data": {
      "text/plain": [
       "NaN     147\n",
       "3.84      4\n",
       "2.96      3\n",
       "4.46      3\n",
       "2.39      3\n",
       "       ... \n",
       "2.67      1\n",
       "7.13      1\n",
       "4.53      1\n",
       "1.04      1\n",
       "8.00      1\n",
       "Name: hotel_distance, Length: 203, dtype: int64"
      ]
     },
     "execution_count": 111,
     "metadata": {},
     "output_type": "execute_result"
    }
   ],
   "source": [
    "filesWorkingGBCleaned[\"hotel_distance\"].value_counts(dropna=False)"
   ]
  },
  {
   "cell_type": "markdown",
   "metadata": {},
   "source": [
    "#### There is lack of calculated hotel distance for 147 hotels in London and 12 for Jakarta so I used mean calculated per city o fill that data"
   ]
  },
  {
   "cell_type": "code",
   "execution_count": 112,
   "metadata": {},
   "outputs": [],
   "source": [
    "mean1  = filesWorkingIDCleaned[\"hotel_distance\"].mean()\n",
    "mean2  = filesWorkingGBCleaned[\"hotel_distance\"].mean()\n",
    "filesWorkingIDCleaned[\"hotel_distance\"].fillna(mean2, inplace=True)\n",
    "filesWorkingGBCleaned[\"hotel_distance\"].fillna(mean1, inplace=True)"
   ]
  },
  {
   "cell_type": "code",
   "execution_count": 113,
   "metadata": {},
   "outputs": [
    {
     "data": {
      "text/plain": [
       "False    648\n",
       "Name: hotel_distance, dtype: int64"
      ]
     },
     "execution_count": 113,
     "metadata": {},
     "output_type": "execute_result"
    }
   ],
   "source": [
    "filesWorkingIDCleaned[\"hotel_distance\"].isna().value_counts()"
   ]
  },
  {
   "cell_type": "code",
   "execution_count": 114,
   "metadata": {},
   "outputs": [
    {
     "data": {
      "text/plain": [
       "False    648\n",
       "Name: hotel_lat, dtype: int64"
      ]
     },
     "execution_count": 114,
     "metadata": {},
     "output_type": "execute_result"
    }
   ],
   "source": [
    "filesWorkingIDCleaned[\"hotel_lat\"].isna().value_counts()"
   ]
  },
  {
   "cell_type": "code",
   "execution_count": 115,
   "metadata": {},
   "outputs": [
    {
     "data": {
      "text/plain": [
       "False    648\n",
       "Name: hotel_lon, dtype: int64"
      ]
     },
     "execution_count": 115,
     "metadata": {},
     "output_type": "execute_result"
    }
   ],
   "source": [
    "filesWorkingIDCleaned[\"hotel_lon\"].isna().value_counts()"
   ]
  },
  {
   "cell_type": "code",
   "execution_count": 116,
   "metadata": {},
   "outputs": [
    {
     "data": {
      "text/plain": [
       "False    648\n",
       "Name: rooms_count, dtype: int64"
      ]
     },
     "execution_count": 116,
     "metadata": {},
     "output_type": "execute_result"
    }
   ],
   "source": [
    "filesWorkingIDCleaned[\"rooms_count\"].isna().value_counts()"
   ]
  },
  {
   "cell_type": "markdown",
   "metadata": {},
   "source": [
    "#### dropping columns that have only one value and it is 0 "
   ]
  },
  {
   "cell_type": "code",
   "execution_count": 117,
   "metadata": {},
   "outputs": [
    {
     "name": "stdout",
     "output_type": "stream",
     "text": [
      "<class 'pandas.core.frame.DataFrame'>\n",
      "Int64Index: 648 entries, 0 to 647\n",
      "Data columns (total 19 columns):\n",
      " #   Column                 Non-Null Count  Dtype  \n",
      "---  ------                 --------------  -----  \n",
      " 0   hotel_id               648 non-null    int64  \n",
      " 1   hotel_city             648 non-null    int64  \n",
      " 2   hotel_country          648 non-null    object \n",
      " 3   hotel_currency_code    648 non-null    object \n",
      " 4   hotel_lat              648 non-null    float64\n",
      " 5   hotel_lon              648 non-null    float64\n",
      " 6   hotel_distance         648 non-null    float64\n",
      " 7   rooms_count            648 non-null    int64  \n",
      " 8   label                  0 non-null      float64\n",
      " 9   hotel_type_ordinary    648 non-null    int64  \n",
      " 10  parking                648 non-null    int64  \n",
      " 11  fitness room/gym       648 non-null    int64  \n",
      " 12  business centre        648 non-null    int64  \n",
      " 13  disabled access        648 non-null    int64  \n",
      " 14  spa & wellness centre  648 non-null    int64  \n",
      " 15  swimming pool          648 non-null    int64  \n",
      " 16  air conditioned        648 non-null    int64  \n",
      " 17  elevator / lift        648 non-null    int64  \n",
      " 18  free wifi              648 non-null    int64  \n",
      "dtypes: float64(4), int64(13), object(2)\n",
      "memory usage: 101.2+ KB\n"
     ]
    }
   ],
   "source": [
    "filesWorkingIDCleaned.info()"
   ]
  },
  {
   "cell_type": "code",
   "execution_count": 118,
   "metadata": {},
   "outputs": [],
   "source": [
    "filesWorkingIDCleaned = filesWorkingIDCleaned.drop(columns=[\"label\", \"hotel_city\", \"hotel_country\"])\n",
    "filesWorkingGBCleaned = filesWorkingGBCleaned.drop(columns=[\"label\",\"hotel_city\",\"hotel_country\"])"
   ]
  },
  {
   "cell_type": "code",
   "execution_count": 119,
   "metadata": {},
   "outputs": [
    {
     "name": "stdout",
     "output_type": "stream",
     "text": [
      "<class 'pandas.core.frame.DataFrame'>\n",
      "Int64Index: 648 entries, 0 to 647\n",
      "Data columns (total 16 columns):\n",
      " #   Column                 Non-Null Count  Dtype  \n",
      "---  ------                 --------------  -----  \n",
      " 0   hotel_id               648 non-null    int64  \n",
      " 1   hotel_currency_code    648 non-null    object \n",
      " 2   hotel_lat              648 non-null    float64\n",
      " 3   hotel_lon              648 non-null    float64\n",
      " 4   hotel_distance         648 non-null    float64\n",
      " 5   rooms_count            648 non-null    int64  \n",
      " 6   hotel_type_ordinary    648 non-null    int64  \n",
      " 7   parking                648 non-null    int64  \n",
      " 8   fitness room/gym       648 non-null    int64  \n",
      " 9   business centre        648 non-null    int64  \n",
      " 10  disabled access        648 non-null    int64  \n",
      " 11  spa & wellness centre  648 non-null    int64  \n",
      " 12  swimming pool          648 non-null    int64  \n",
      " 13  air conditioned        648 non-null    int64  \n",
      " 14  elevator / lift        648 non-null    int64  \n",
      " 15  free wifi              648 non-null    int64  \n",
      "dtypes: float64(3), int64(12), object(1)\n",
      "memory usage: 86.1+ KB\n"
     ]
    }
   ],
   "source": [
    "filesWorkingIDCleaned.info()"
   ]
  },
  {
   "cell_type": "markdown",
   "metadata": {},
   "source": [
    "## Data Reduction"
   ]
  },
  {
   "cell_type": "markdown",
   "metadata": {},
   "source": [
    "#### calc_vif - a function that detects strong correlation and returns list of characteristics that should be removed. Here in the function they are listed to ne removed only these characteristics for which the VIF score was higher than 5.¶\n",
    "#### reduce_dimensions_by_pca -a function that will be reducing dimentions if in the final dataset there will still be a lot of variables."
   ]
  },
  {
   "cell_type": "code",
   "execution_count": 120,
   "metadata": {},
   "outputs": [],
   "source": [
    "def calc_vif(df):\n",
    "    # Multicollinearity detection\n",
    "    # df - dataFrame\n",
    "    # col_names - names of columns you would like to calculate the VIF score   \n",
    "    vif = pd.DataFrame()\n",
    "\n",
    "    variables = df\n",
    "    df_vif = add_constant(variables)\n",
    "    vif[\"VIF\"] = [variance_inflation_factor(df_vif.values, i) for i in range(df_vif.shape[1])]\n",
    "    vif[\"variables\"] = df_vif.columns\n",
    "    vif[\"VIF\"].replace([np.inf, -np.inf], np.nan, inplace=True)\n",
    "    vifToReduce = vif.loc[(vif[\"VIF\"].isnull())]\n",
    "    return vifToReduce[\"variables\"].tolist()\n",
    "\n",
    "def select_variables(df, col_names):\n",
    "    # returning the \n",
    "    if \"const\" in col_names:       \n",
    "        const_to_remove = col_names.index(\"const\")\n",
    "        del col_names[const_to_remove]\n",
    "\n",
    "    df_selected_variables = df\n",
    "    df_selected_variables.drop(columns=col_names, inplace=True)\n",
    "\n",
    "    return df_selected_variables"
   ]
  },
  {
   "cell_type": "code",
   "execution_count": 121,
   "metadata": {},
   "outputs": [
    {
     "name": "stdout",
     "output_type": "stream",
     "text": [
      "<class 'pandas.core.frame.DataFrame'>\n",
      "Int64Index: 648 entries, 0 to 647\n",
      "Data columns (total 16 columns):\n",
      " #   Column                 Non-Null Count  Dtype  \n",
      "---  ------                 --------------  -----  \n",
      " 0   hotel_id               648 non-null    int64  \n",
      " 1   hotel_currency_code    648 non-null    object \n",
      " 2   hotel_lat              648 non-null    float64\n",
      " 3   hotel_lon              648 non-null    float64\n",
      " 4   hotel_distance         648 non-null    float64\n",
      " 5   rooms_count            648 non-null    int64  \n",
      " 6   hotel_type_ordinary    648 non-null    int64  \n",
      " 7   parking                648 non-null    int64  \n",
      " 8   fitness room/gym       648 non-null    int64  \n",
      " 9   business centre        648 non-null    int64  \n",
      " 10  disabled access        648 non-null    int64  \n",
      " 11  spa & wellness centre  648 non-null    int64  \n",
      " 12  swimming pool          648 non-null    int64  \n",
      " 13  air conditioned        648 non-null    int64  \n",
      " 14  elevator / lift        648 non-null    int64  \n",
      " 15  free wifi              648 non-null    int64  \n",
      "dtypes: float64(3), int64(12), object(1)\n",
      "memory usage: 86.1+ KB\n"
     ]
    }
   ],
   "source": [
    "filesWorkingIDCleaned.info()"
   ]
  },
  {
   "cell_type": "code",
   "execution_count": 122,
   "metadata": {},
   "outputs": [
    {
     "name": "stdout",
     "output_type": "stream",
     "text": [
      "<class 'pandas.core.frame.DataFrame'>\n",
      "Int64Index: 392 entries, 0 to 391\n",
      "Data columns (total 49 columns):\n",
      " #   Column                      Non-Null Count  Dtype  \n",
      "---  ------                      --------------  -----  \n",
      " 0   hotel_id                    392 non-null    int64  \n",
      " 1   hotel_currency_code         392 non-null    object \n",
      " 2   hotel_lat                   392 non-null    float64\n",
      " 3   hotel_lon                   392 non-null    float64\n",
      " 4   hotel_distance              392 non-null    float64\n",
      " 5   rooms_count                 392 non-null    int64  \n",
      " 6   hotel_type_ordinary         392 non-null    int64  \n",
      " 7   lounge area                 392 non-null    int64  \n",
      " 8   conference facilities       392 non-null    int64  \n",
      " 9   room turnaround service     392 non-null    int64  \n",
      " 10  rooftop bar                 392 non-null    int64  \n",
      " 11  fine dining restaurant      392 non-null    int64  \n",
      " 12  spa & wellness centre       392 non-null    int64  \n",
      " 13  projector                   392 non-null    int64  \n",
      " 14  elevator / lift             392 non-null    int64  \n",
      " 15  whiteboard and markers      392 non-null    int64  \n",
      " 16  bar                         392 non-null    int64  \n",
      " 17  manicure                    392 non-null    int64  \n",
      " 18  flipchart                   392 non-null    int64  \n",
      " 19  printer                     392 non-null    int64  \n",
      " 20  room service                392 non-null    int64  \n",
      " 21  24 hour front desk          392 non-null    int64  \n",
      " 22  express check-in check-out  392 non-null    int64  \n",
      " 23  ironing service             392 non-null    int64  \n",
      " 24  disabled access             392 non-null    int64  \n",
      " 25  outdoor dining area         392 non-null    int64  \n",
      " 26  swimming pool               392 non-null    int64  \n",
      " 27  24 hour security            392 non-null    int64  \n",
      " 28  fully body massage          392 non-null    int64  \n",
      " 29  air conditioned             392 non-null    int64  \n",
      " 30  microphones                 392 non-null    int64  \n",
      " 31  free wifi                   392 non-null    int64  \n",
      " 32  facial treatment            392 non-null    int64  \n",
      " 33  dry cleaning                392 non-null    int64  \n",
      " 34  fitness room/gym            392 non-null    int64  \n",
      " 35  head massage                392 non-null    int64  \n",
      " 36  taxi service                392 non-null    int64  \n",
      " 37  business centre             392 non-null    int64  \n",
      " 38  massage                     392 non-null    int64  \n",
      " 39  breakfast in the room       392 non-null    int64  \n",
      " 40  meeting room                392 non-null    int64  \n",
      " 41  restaurant                  392 non-null    int64  \n",
      " 42  bagage storage              392 non-null    int64  \n",
      " 43  parking                     392 non-null    int64  \n",
      " 44  fitness                     392 non-null    int64  \n",
      " 45  pet friendly                392 non-null    int64  \n",
      " 46  coworking space             392 non-null    int64  \n",
      " 47  video conference system     392 non-null    int64  \n",
      " 48  wake-up service             392 non-null    int64  \n",
      "dtypes: float64(3), int64(45), object(1)\n",
      "memory usage: 153.1+ KB\n"
     ]
    }
   ],
   "source": [
    "filesWorkingGBCleaned.info()"
   ]
  },
  {
   "cell_type": "code",
   "execution_count": 123,
   "metadata": {},
   "outputs": [],
   "source": [
    "indonesia = filesWorkingIDCleaned.drop(columns=[\"hotel_id\", \"hotel_currency_code\"])\n",
    "gb = filesWorkingGBCleaned.drop(columns=[\"hotel_id\", \"hotel_currency_code\"])"
   ]
  },
  {
   "cell_type": "code",
   "execution_count": 124,
   "metadata": {},
   "outputs": [
    {
     "name": "stderr",
     "output_type": "stream",
     "text": [
      "/home/agata/anaconda3/lib/python3.8/site-packages/statsmodels/stats/outliers_influence.py:193: RuntimeWarning:\n",
      "\n",
      "divide by zero encountered in double_scalars\n",
      "\n"
     ]
    }
   ],
   "source": [
    "gbToReduce = calc_vif(gb)\n",
    "idToReduce = calc_vif(indonesia)"
   ]
  },
  {
   "cell_type": "code",
   "execution_count": 125,
   "metadata": {},
   "outputs": [],
   "source": [
    "idReduced = select_variables(filesWorkingIDCleaned, idToReduce)\n",
    "gbReduced = select_variables(filesWorkingGBCleaned, gbToReduce)"
   ]
  },
  {
   "cell_type": "markdown",
   "metadata": {},
   "source": [
    "#### Creating copy that is not containing Hotel id for the analysis"
   ]
  },
  {
   "cell_type": "code",
   "execution_count": 126,
   "metadata": {},
   "outputs": [],
   "source": [
    "idReducedAnalysis = idReduced.drop(columns=[\"hotel_id\"])\n",
    "gbReducedAnalysis = gbReduced.drop(columns=[\"hotel_id\"])"
   ]
  },
  {
   "cell_type": "code",
   "execution_count": 127,
   "metadata": {},
   "outputs": [],
   "source": [
    "#### ploting correlation heatmap for final hotel characteristics"
   ]
  },
  {
   "cell_type": "code",
   "execution_count": 128,
   "metadata": {},
   "outputs": [
    {
     "data": {
      "text/plain": [
       "(648, 15)"
      ]
     },
     "execution_count": 128,
     "metadata": {},
     "output_type": "execute_result"
    },
    {
     "data": {
      "image/png": "[encoded data removed]",
      "text/plain": [
       "<Figure size 1152x432 with 2 Axes>"
      ]
     },
     "metadata": {},
     "output_type": "display_data"
    }
   ],
   "source": [
    "plt.figure(figsize=(16, 6))\n",
    "heatmap = sns.heatmap(idReducedAnalysis.corr(),vmin=-1, vmax=1, cmap = \"Blues\")\n",
    "plt.xticks(rotation=90)\n",
    "plt.rcParams.update({'font.size': 20})\n",
    "plt.savefig(\"heatmap.png\", dpi = 300)\n",
    "plt.title(\"Correlation heatmap for characteristics with VIF score lower than 5 for Jakarta\", fontsize=20)\n",
    "idReducedAnalysis.shape"
   ]
  },
  {
   "cell_type": "code",
   "execution_count": 129,
   "metadata": {},
   "outputs": [
    {
     "data": {
      "text/plain": [
       "(392, 15)"
      ]
     },
     "execution_count": 129,
     "metadata": {},
     "output_type": "execute_result"
    },
    {
     "data": {
      "image/png": "[encoded data removed]",
      "text/plain": [
       "<Figure size 1152x432 with 2 Axes>"
      ]
     },
     "metadata": {},
     "output_type": "display_data"
    }
   ],
   "source": [
    "plt.figure(figsize=(16, 6))\n",
    "heatmap = sns.heatmap(gbReducedAnalysis.corr(),vmin=-1, vmax=1, cmap = \"Blues\")\n",
    "plt.xticks(rotation=90)\n",
    "plt.rcParams.update({'font.size': 20})\n",
    "plt.savefig(\"heatmap.png\", dpi = 300)\n",
    "plt.title(\"Correlation heatmap for characteristics with VIF score lower than 5 for London\", fontsize=20)\n",
    "gbReducedAnalysis.shape"
   ]
  },
  {
   "cell_type": "markdown",
   "metadata": {},
   "source": [
    "### Conclusions\n"
   ]
  },
  {
   "cell_type": "markdown",
   "metadata": {},
   "source": [
    "## <br> Removing Dimentions with famd algorythm\n",
    "\n",
    "####  <br> This time I used FAMD to reduce dimentionality of the provided data. FAMD is more recomended by some data scientists/publications for such analysis which have mixed types of data that is why I wanted to check if for our purposes it will reduce the dimentionality of data saving the most important information to generate better estimations of clusters later.  <br>"
   ]
  },
  {
   "cell_type": "markdown",
   "metadata": {},
   "source": [
    "#### FAMD for Jakarta"
   ]
  },
  {
   "cell_type": "code",
   "execution_count": 130,
   "metadata": {},
   "outputs": [],
   "source": [
    "import prince\n",
    "\n",
    "famd = prince.FAMD(\n",
    "n_components=3,\n",
    "n_iter=3,\n",
    "copy=True,\n",
    "check_input=True,\n",
    "engine='auto',\n",
    "random_state=42\n",
    ")\n",
    "famd = famd.fit(idReducedAnalysis)"
   ]
  },
  {
   "cell_type": "code",
   "execution_count": 131,
   "metadata": {},
   "outputs": [],
   "source": [
    "reducedID = famd.row_coordinates(idReducedAnalysis)\n",
    "reducedID.values\n",
    "\n",
    "reducedID_df = pd.DataFrame(data=np.c_[reducedID.values], columns=['famd1','famd2','famd3'])"
   ]
  },
  {
   "cell_type": "code",
   "execution_count": 132,
   "metadata": {},
   "outputs": [
    {
     "name": "stderr",
     "output_type": "stream",
     "text": [
      "No handles with labels found to put in legend.\n"
     ]
    },
    {
     "data": {
      "image/png": "[encoded data removed]",
      "text/plain": [
       "<Figure size 1296x864 with 1 Axes>"
      ]
     },
     "metadata": {},
     "output_type": "display_data"
    }
   ],
   "source": [
    "ax = famd.plot_row_coordinates(\n",
    "idReducedAnalysis,\n",
    "ax=None,\n",
    "figsize=(18, 12),\n",
    "x_component=0,\n",
    "y_component=1,\n",
    "labels=idReducedAnalysis.index,\n",
    "ellipse_outline=False,\n",
    "ellipse_fill=True,\n",
    "show_points=True,\n",
    ")"
   ]
  },
  {
   "cell_type": "markdown",
   "metadata": {},
   "source": [
    "#### FAMD for London"
   ]
  },
  {
   "cell_type": "code",
   "execution_count": 133,
   "metadata": {},
   "outputs": [],
   "source": [
    "famd = prince.FAMD(\n",
    "n_components=3,\n",
    "n_iter=3,\n",
    "copy=True,\n",
    "check_input=True,\n",
    "engine='auto',\n",
    "random_state=42\n",
    ")\n",
    "famd = famd.fit(gbReducedAnalysis)"
   ]
  },
  {
   "cell_type": "code",
   "execution_count": 134,
   "metadata": {},
   "outputs": [
    {
     "data": {
      "text/html": [
       "<div>\n",
       "<style scoped>\n",
       "    .dataframe tbody tr th:only-of-type {\n",
       "        vertical-align: middle;\n",
       "    }\n",
       "\n",
       "    .dataframe tbody tr th {\n",
       "        vertical-align: top;\n",
       "    }\n",
       "\n",
       "    .dataframe thead th {\n",
       "        text-align: right;\n",
       "    }\n",
       "</style>\n",
       "<table border=\"1\" class=\"dataframe\">\n",
       "  <thead>\n",
       "    <tr style=\"text-align: right;\">\n",
       "      <th></th>\n",
       "      <th>famd1</th>\n",
       "      <th>famd2</th>\n",
       "      <th>famd3</th>\n",
       "    </tr>\n",
       "  </thead>\n",
       "  <tbody>\n",
       "    <tr>\n",
       "      <th>0</th>\n",
       "      <td>-0.953438</td>\n",
       "      <td>0.132347</td>\n",
       "      <td>-0.136061</td>\n",
       "    </tr>\n",
       "    <tr>\n",
       "      <th>1</th>\n",
       "      <td>-0.511375</td>\n",
       "      <td>-0.242973</td>\n",
       "      <td>0.303924</td>\n",
       "    </tr>\n",
       "    <tr>\n",
       "      <th>2</th>\n",
       "      <td>-0.148312</td>\n",
       "      <td>0.904100</td>\n",
       "      <td>-1.009927</td>\n",
       "    </tr>\n",
       "    <tr>\n",
       "      <th>3</th>\n",
       "      <td>-0.984772</td>\n",
       "      <td>0.165154</td>\n",
       "      <td>-0.170330</td>\n",
       "    </tr>\n",
       "    <tr>\n",
       "      <th>4</th>\n",
       "      <td>-0.464005</td>\n",
       "      <td>1.132664</td>\n",
       "      <td>-1.203998</td>\n",
       "    </tr>\n",
       "    <tr>\n",
       "      <th>...</th>\n",
       "      <td>...</td>\n",
       "      <td>...</td>\n",
       "      <td>...</td>\n",
       "    </tr>\n",
       "    <tr>\n",
       "      <th>387</th>\n",
       "      <td>3.776382</td>\n",
       "      <td>-0.105221</td>\n",
       "      <td>-0.002388</td>\n",
       "    </tr>\n",
       "    <tr>\n",
       "      <th>388</th>\n",
       "      <td>-0.418749</td>\n",
       "      <td>0.997643</td>\n",
       "      <td>-1.111239</td>\n",
       "    </tr>\n",
       "    <tr>\n",
       "      <th>389</th>\n",
       "      <td>-0.176019</td>\n",
       "      <td>-0.040981</td>\n",
       "      <td>0.158702</td>\n",
       "    </tr>\n",
       "    <tr>\n",
       "      <th>390</th>\n",
       "      <td>-0.841634</td>\n",
       "      <td>0.110327</td>\n",
       "      <td>-0.367313</td>\n",
       "    </tr>\n",
       "    <tr>\n",
       "      <th>391</th>\n",
       "      <td>-0.353097</td>\n",
       "      <td>-0.227768</td>\n",
       "      <td>0.210230</td>\n",
       "    </tr>\n",
       "  </tbody>\n",
       "</table>\n",
       "<p>392 rows × 3 columns</p>\n",
       "</div>"
      ],
      "text/plain": [
       "        famd1     famd2     famd3\n",
       "0   -0.953438  0.132347 -0.136061\n",
       "1   -0.511375 -0.242973  0.303924\n",
       "2   -0.148312  0.904100 -1.009927\n",
       "3   -0.984772  0.165154 -0.170330\n",
       "4   -0.464005  1.132664 -1.203998\n",
       "..        ...       ...       ...\n",
       "387  3.776382 -0.105221 -0.002388\n",
       "388 -0.418749  0.997643 -1.111239\n",
       "389 -0.176019 -0.040981  0.158702\n",
       "390 -0.841634  0.110327 -0.367313\n",
       "391 -0.353097 -0.227768  0.210230\n",
       "\n",
       "[392 rows x 3 columns]"
      ]
     },
     "execution_count": 134,
     "metadata": {},
     "output_type": "execute_result"
    }
   ],
   "source": [
    "reducedGB = famd.row_coordinates(gbReducedAnalysis)\n",
    "reducedGB.values\n",
    "\n",
    "reducedGB_df = pd.DataFrame(data=np.c_[reducedGB.values], columns=['famd1','famd2', 'famd3'])\n",
    "reducedGB_df "
   ]
  },
  {
   "cell_type": "code",
   "execution_count": 135,
   "metadata": {},
   "outputs": [
    {
     "data": {
      "text/plain": [
       "array([[-0.9534384 ,  0.13234722, -0.13606102],\n",
       "       [-0.51137516, -0.24297307,  0.30392429],\n",
       "       [-0.14831176,  0.90410012, -1.00992652],\n",
       "       ...,\n",
       "       [-0.1760186 , -0.04098092,  0.15870194],\n",
       "       [-0.84163388,  0.11032703, -0.36731266],\n",
       "       [-0.35309746, -0.22776771,  0.21022996]])"
      ]
     },
     "execution_count": 135,
     "metadata": {},
     "output_type": "execute_result"
    }
   ],
   "source": [
    "reducedGB.values"
   ]
  },
  {
   "cell_type": "code",
   "execution_count": 136,
   "metadata": {},
   "outputs": [
    {
     "name": "stderr",
     "output_type": "stream",
     "text": [
      "No handles with labels found to put in legend.\n"
     ]
    },
    {
     "data": {
      "image/png": "[encoded data removed]",
      "text/plain": [
       "<Figure size 1296x864 with 1 Axes>"
      ]
     },
     "metadata": {},
     "output_type": "display_data"
    }
   ],
   "source": [
    "ax = famd.plot_row_coordinates(\n",
    "gbReducedAnalysis,\n",
    "ax=None,\n",
    "figsize=(18, 12),\n",
    "x_component=0,\n",
    "y_component=1,\n",
    "labels=idReducedAnalysis.index,\n",
    "ellipse_outline=False,\n",
    "ellipse_fill=True,\n",
    "show_points=True,\n",
    ")"
   ]
  },
  {
   "cell_type": "markdown",
   "metadata": {},
   "source": [
    "## <br> HDBSCAN Clustering analysis<br>"
   ]
  },
  {
   "cell_type": "markdown",
   "metadata": {},
   "source": [
    "## <br>There were performed 2 analysis:\n",
    "#### 1. for Jakarta\n",
    "#### 2. for London<br>"
   ]
  },
  {
   "cell_type": "markdown",
   "metadata": {},
   "source": [
    "### <br> 1. Jakarta <br>\n",
    "#### min_cluster_size was found checking different value and taking into consideration these values that have the greatest **DBCV - Denstity Based Clustering Validation** <br>"
   ]
  },
  {
   "cell_type": "code",
   "execution_count": 137,
   "metadata": {},
   "outputs": [
    {
     "data": {
      "text/plain": [
       "famd1   -0.347936\n",
       "famd2    0.070639\n",
       "famd3   -0.573888\n",
       "Name: 112, dtype: float64"
      ]
     },
     "execution_count": 137,
     "metadata": {},
     "output_type": "execute_result"
    }
   ],
   "source": [
    "reducedID_df.iloc[112]"
   ]
  },
  {
   "cell_type": "code",
   "execution_count": 138,
   "metadata": {},
   "outputs": [
    {
     "name": "stderr",
     "output_type": "stream",
     "text": [
      "/home/agata/anaconda3/lib/python3.8/site-packages/hdbscan/plots.py:383: UserWarning:\n",
      "\n",
      "Infinite lambda values encountered in chosen clusters. This might be due to duplicates in the data.\n",
      "\n"
     ]
    },
    {
     "data": {
      "text/plain": [
       "array([-1,  0,  1,  2,  3,  4,  5,  6,  7,  8,  9, 10, 11, 12, 13, 14, 15,\n",
       "       16, 17, 18, 19, 20, 21, 22, 23, 24, 25, 26, 27, 28, 29, 30])"
      ]
     },
     "execution_count": 138,
     "metadata": {},
     "output_type": "execute_result"
    },
    {
     "data": {
      "image/png": "[encoded data removed]",
      "text/plain": [
       "<Figure size 1584x864 with 2 Axes>"
      ]
     },
     "metadata": {},
     "output_type": "display_data"
    }
   ],
   "source": [
    "plt.figure(figsize=(22, 12))\n",
    "plt.title(\"Condensed Tree for Jakarta, cluster no: 45, DBCV: 0.643\", fontdict={\"fontsize\":18})\n",
    "hdbscan_indo = hdbscan.HDBSCAN(min_cluster_size=6, metric='manhattan')\n",
    "labels = hdbscan_indo.fit_predict(reducedID.values)\n",
    "hdbscan_indo.condensed_tree_.plot(select_clusters=True)\n",
    "np.unique(labels)\n"
   ]
  },
  {
   "cell_type": "markdown",
   "metadata": {},
   "source": [
    "### <br> Summary of general statistics for Jakarta clusters <br>\n",
    "#### To assess the quality of produced clusters there a few metrics that can be used. Below I calculate the total number of clusters and total number of noice¶\n",
    "#### which in other words mean that number of points that where not attached to any cluster. <br>"
   ]
  },
  {
   "cell_type": "code",
   "execution_count": 139,
   "metadata": {},
   "outputs": [],
   "source": [
    "n_clusters_ = len(set(labels[:])) - (1 if -1 in labels[:] else 0)\n",
    "n_noise_ = list(labels[:]).count(-1)"
   ]
  },
  {
   "cell_type": "markdown",
   "metadata": {},
   "source": [
    "#### <br>**DBCV - Density Based Clustering Validation** computes two values:\n",
    "\n",
    "####   - the density within a cluster\n",
    "####   - the density between clusters\n",
    "#### High density within a cluster, and low density between clusters indicates good clustering assignments.<br>\n",
    "\n"
   ]
  },
  {
   "cell_type": "code",
   "execution_count": 140,
   "metadata": {},
   "outputs": [
    {
     "data": {
      "text/plain": [
       "0    10.550873\n",
       "1    -3.483634\n",
       "2    -2.024992\n",
       "Name: 640, dtype: float64"
      ]
     },
     "execution_count": 140,
     "metadata": {},
     "output_type": "execute_result"
    }
   ],
   "source": [
    "reducedID.iloc[640]"
   ]
  },
  {
   "cell_type": "code",
   "execution_count": 141,
   "metadata": {},
   "outputs": [
    {
     "data": {
      "text/plain": [
       "array([-1, 10, 30, 12, 21,  1, 18, 27, 17,  2, 30, 25, 27, -1, 10, -1, 27,\n",
       "       15, 22, 10, -1, 18, 23, 24, 17, 16, -1, 17, 17, 10, -1, 10, -1, 20,\n",
       "       14, 28, 17, 19, 22,  6, 10, 27,  2, -1, 17, 25, 22,  7,  1, -1, -1,\n",
       "       -1, 21, 27, 23, 20, -1, 30,  2, 11, -1, 28, 26, 24, 25, 22, 20, 19,\n",
       "       22,  6, 22, 25, 20, 11, -1, 22,  7,  2, 22,  7,  2, -1, -1,  2,  7,\n",
       "        7, -1, 12, 16, 20, 28,  8, 17, 26,  8, 27,  7, 11, 23, 24, 17, 13,\n",
       "        7, 11, 20, 17, 15, 17, 12, 19, 22, 19, 12, 11, 15, 23, -1, -1, 17,\n",
       "       19, 18, -1, 27, 24, 23, 10, 17,  1, -1, 18, 21, 11,  6, -1,  6, 13,\n",
       "       17, 23, -1, 11, 15,  2, 11, 11,  6, -1, 10, 24, 19, 29, 26, 15,  7,\n",
       "       10, 21, 11, 24, 11, -1, 11, 11, 15, -1, 19, 23, 23, 28, 11, 11, 12,\n",
       "        8, -1, 24, -1, 27, 11, 16, 16, 17, 21,  1, 23, -1,  1, 23, 22, 11,\n",
       "       -1, 11, 10,  2,  2,  1, 11, 11, 23, 29, 11,  2, -1, -1, 11, 17, 13,\n",
       "        8,  6, 21, -1, 20, 26, -1, 20, 21, 25, 11, 22, -1, -1, -1, 11, 27,\n",
       "       -1,  7,  6, 17, 24, 20, -1, 26, 23, 27, 11, 20, 11, 11,  7, 10, 24,\n",
       "       -1,  2, 26, 23, 23, 27, 22, 23,  8, 11, 21, 23,  1, 27, 16, 11, 23,\n",
       "       24, -1, 28, 26,  2, 15, -1,  2, 11,  6, 14, 23,  3,  1, -1,  1, -1,\n",
       "       -1, -1, -1,  2,  1, 25,  2, -1, 29, -1, 29, 15, -1, 18,  2,  8, 29,\n",
       "       18, 15, -1,  8, 21, 15,  2, 21, 12, 15, 29,  2, 14, 18, 12, 15, 25,\n",
       "        2, -1,  1, -1,  9, 29, 18, 29, 25, -1,  8, 20, -1,  2, 19, 18, 18,\n",
       "       25, 20, 30, -1, 15, 20, -1, -1, 18, 29, 29, 29, -1, -1,  2, -1,  8,\n",
       "       29,  9, 25, 14, 25, 28, 26, 10, 20, 15,  1, 28, 21, 18, 15, 13, -1,\n",
       "       18, 18, -1, 15, 25, 21, -1, 29, -1, 25, 18, 15,  8, 10, 29,  2, 15,\n",
       "       15, 15, 27, -1, 30,  2, -1,  6, 25, 25, -1,  9, -1,  2, 25, 29, 25,\n",
       "       25, -1, -1, -1,  1, 25, 21, -1,  8, 15, 25, 18, -1, 14,  1, -1, 15,\n",
       "        2,  2, -1, -1, -1, -1, 25, 25, 10, 21, -1, -1, -1, 21,  9, -1, 30,\n",
       "       -1, -1, -1, 27, 25, 17,  9, 16, 12,  9, -1, 11, 13, 13, 20, -1, 16,\n",
       "       15,  8, 26, 16, 14, 21, -1, 14, 10, -1, 25, -1, -1, 21, -1, 17, 30,\n",
       "       11,  8, -1, -1,  2, 20, 25,  9, -1, 25, 24, 19, 11, -1, -1,  2, 26,\n",
       "       28,  8, -1, -1, -1, -1, 13,  1, -1, -1, -1, -1, -1, -1, -1, -1,  4,\n",
       "        5,  5,  4,  4,  5,  5,  5,  5,  5,  5,  4,  5,  5,  4,  5,  5,  5,\n",
       "        3,  4,  5,  5,  5,  5,  4,  4,  3,  4,  5,  5,  5,  5,  4,  4,  5,\n",
       "        4,  5,  4,  5,  5,  3,  5,  4,  4,  4,  5, -1,  4,  5, -1,  5,  5,\n",
       "        4,  5,  4,  5,  5,  5,  4,  4,  5,  5,  3,  5,  5,  4,  5,  5,  5,\n",
       "        5,  5,  4,  5,  1,  5,  4,  5,  4,  5,  3,  3,  5,  5, -1,  5,  5,\n",
       "        5,  5,  4,  5,  5,  5,  3,  5,  5,  4, -1,  5,  5,  3,  5,  4,  5,\n",
       "        5,  4,  4, -1,  5,  5,  4,  5,  5,  4,  5,  5,  4,  5,  5,  5,  5,\n",
       "        5,  4,  4,  4,  4,  5,  5,  4,  4,  4, -1,  4,  5,  5,  5,  4,  4,\n",
       "        5,  5,  4,  1,  5,  5, -1, -1, -1,  0,  0,  0,  0,  0, -1,  0, -1,\n",
       "        0,  0])"
      ]
     },
     "execution_count": 141,
     "metadata": {},
     "output_type": "execute_result"
    }
   ],
   "source": [
    "labels"
   ]
  },
  {
   "cell_type": "markdown",
   "metadata": {},
   "source": [
    "### This time to estimate the lenght between two points I used different distance calculation: Manhattan not the Euclidean which was used in previous analysis. I have done this way because this distance generated slightly better estomations of DBCV values for both cities."
   ]
  },
  {
   "cell_type": "code",
   "execution_count": 142,
   "metadata": {},
   "outputs": [],
   "source": [
    "hdbscan_score = DBCV(reducedID.values, labels, dist_function=cityblock)"
   ]
  },
  {
   "cell_type": "code",
   "execution_count": 143,
   "metadata": {},
   "outputs": [
    {
     "data": {
      "text/plain": [
       "0.11036001746234247"
      ]
     },
     "execution_count": 143,
     "metadata": {},
     "output_type": "execute_result"
    }
   ],
   "source": [
    "hdbscan_score"
   ]
  },
  {
   "cell_type": "code",
   "execution_count": 144,
   "metadata": {},
   "outputs": [
    {
     "name": "stdout",
     "output_type": "stream",
     "text": [
      "SUMMARY FOR JAKARTA\n",
      "\n",
      "Estimation: number of clusters: 31\n",
      "Estimation: number of noise points: 121\n",
      "Estimation: DBCV: 0.110\n",
      "\n"
     ]
    }
   ],
   "source": [
    "print(\"SUMMARY FOR JAKARTA\")\n",
    "print()\n",
    "print(\"Estimation: number of clusters: %d\" % n_clusters_)\n",
    "print(\"Estimation: number of noise points: %d\" % n_noise_)\n",
    "print(\"Estimation: DBCV: %0.3f\" % hdbscan_score)\n",
    "print()"
   ]
  },
  {
   "cell_type": "code",
   "execution_count": 145,
   "metadata": {},
   "outputs": [],
   "source": [
    "reducedID_df[\"cluster\"] = labels\n",
    "idReducedAnalysis[\"cluster\"] = labels"
   ]
  },
  {
   "cell_type": "code",
   "execution_count": 146,
   "metadata": {},
   "outputs": [
    {
     "data": {
      "text/html": [
       "<div>\n",
       "<style scoped>\n",
       "    .dataframe tbody tr th:only-of-type {\n",
       "        vertical-align: middle;\n",
       "    }\n",
       "\n",
       "    .dataframe tbody tr th {\n",
       "        vertical-align: top;\n",
       "    }\n",
       "\n",
       "    .dataframe thead th {\n",
       "        text-align: right;\n",
       "    }\n",
       "</style>\n",
       "<table border=\"1\" class=\"dataframe\">\n",
       "  <thead>\n",
       "    <tr style=\"text-align: right;\">\n",
       "      <th></th>\n",
       "      <th>hotel_currency_code</th>\n",
       "      <th>hotel_lat</th>\n",
       "      <th>hotel_lon</th>\n",
       "      <th>hotel_distance</th>\n",
       "      <th>rooms_count</th>\n",
       "      <th>hotel_type_ordinary</th>\n",
       "      <th>parking</th>\n",
       "      <th>fitness room/gym</th>\n",
       "      <th>business centre</th>\n",
       "      <th>disabled access</th>\n",
       "      <th>spa &amp; wellness centre</th>\n",
       "      <th>swimming pool</th>\n",
       "      <th>air conditioned</th>\n",
       "      <th>elevator / lift</th>\n",
       "      <th>free wifi</th>\n",
       "      <th>cluster</th>\n",
       "    </tr>\n",
       "  </thead>\n",
       "  <tbody>\n",
       "    <tr>\n",
       "      <th>0</th>\n",
       "      <td>IDR</td>\n",
       "      <td>-6.255336</td>\n",
       "      <td>106.810825</td>\n",
       "      <td>6.18000</td>\n",
       "      <td>203</td>\n",
       "      <td>4</td>\n",
       "      <td>1</td>\n",
       "      <td>1</td>\n",
       "      <td>1</td>\n",
       "      <td>1</td>\n",
       "      <td>1</td>\n",
       "      <td>1</td>\n",
       "      <td>1</td>\n",
       "      <td>1</td>\n",
       "      <td>1</td>\n",
       "      <td>-1</td>\n",
       "    </tr>\n",
       "    <tr>\n",
       "      <th>1</th>\n",
       "      <td>IDR</td>\n",
       "      <td>-6.175420</td>\n",
       "      <td>106.729023</td>\n",
       "      <td>13.45000</td>\n",
       "      <td>1</td>\n",
       "      <td>4</td>\n",
       "      <td>1</td>\n",
       "      <td>1</td>\n",
       "      <td>0</td>\n",
       "      <td>0</td>\n",
       "      <td>0</td>\n",
       "      <td>1</td>\n",
       "      <td>1</td>\n",
       "      <td>1</td>\n",
       "      <td>1</td>\n",
       "      <td>10</td>\n",
       "    </tr>\n",
       "    <tr>\n",
       "      <th>2</th>\n",
       "      <td>IDR</td>\n",
       "      <td>-6.208347</td>\n",
       "      <td>106.818008</td>\n",
       "      <td>3.02000</td>\n",
       "      <td>1</td>\n",
       "      <td>4</td>\n",
       "      <td>1</td>\n",
       "      <td>0</td>\n",
       "      <td>0</td>\n",
       "      <td>0</td>\n",
       "      <td>0</td>\n",
       "      <td>1</td>\n",
       "      <td>1</td>\n",
       "      <td>1</td>\n",
       "      <td>1</td>\n",
       "      <td>30</td>\n",
       "    </tr>\n",
       "    <tr>\n",
       "      <th>3</th>\n",
       "      <td>IDR</td>\n",
       "      <td>-6.223455</td>\n",
       "      <td>106.784432</td>\n",
       "      <td>6.84000</td>\n",
       "      <td>1</td>\n",
       "      <td>4</td>\n",
       "      <td>1</td>\n",
       "      <td>1</td>\n",
       "      <td>0</td>\n",
       "      <td>0</td>\n",
       "      <td>0</td>\n",
       "      <td>1</td>\n",
       "      <td>1</td>\n",
       "      <td>1</td>\n",
       "      <td>1</td>\n",
       "      <td>12</td>\n",
       "    </tr>\n",
       "    <tr>\n",
       "      <th>4</th>\n",
       "      <td>IDR</td>\n",
       "      <td>-6.162375</td>\n",
       "      <td>106.832172</td>\n",
       "      <td>5.65000</td>\n",
       "      <td>1</td>\n",
       "      <td>4</td>\n",
       "      <td>1</td>\n",
       "      <td>0</td>\n",
       "      <td>0</td>\n",
       "      <td>0</td>\n",
       "      <td>0</td>\n",
       "      <td>1</td>\n",
       "      <td>1</td>\n",
       "      <td>1</td>\n",
       "      <td>1</td>\n",
       "      <td>21</td>\n",
       "    </tr>\n",
       "    <tr>\n",
       "      <th>...</th>\n",
       "      <td>...</td>\n",
       "      <td>...</td>\n",
       "      <td>...</td>\n",
       "      <td>...</td>\n",
       "      <td>...</td>\n",
       "      <td>...</td>\n",
       "      <td>...</td>\n",
       "      <td>...</td>\n",
       "      <td>...</td>\n",
       "      <td>...</td>\n",
       "      <td>...</td>\n",
       "      <td>...</td>\n",
       "      <td>...</td>\n",
       "      <td>...</td>\n",
       "      <td>...</td>\n",
       "      <td>...</td>\n",
       "    </tr>\n",
       "    <tr>\n",
       "      <th>643</th>\n",
       "      <td>USD</td>\n",
       "      <td>-6.221410</td>\n",
       "      <td>106.815778</td>\n",
       "      <td>3.92302</td>\n",
       "      <td>214</td>\n",
       "      <td>3</td>\n",
       "      <td>1</td>\n",
       "      <td>0</td>\n",
       "      <td>0</td>\n",
       "      <td>0</td>\n",
       "      <td>0</td>\n",
       "      <td>1</td>\n",
       "      <td>0</td>\n",
       "      <td>0</td>\n",
       "      <td>1</td>\n",
       "      <td>-1</td>\n",
       "    </tr>\n",
       "    <tr>\n",
       "      <th>644</th>\n",
       "      <td>EUR</td>\n",
       "      <td>-6.127151</td>\n",
       "      <td>106.790440</td>\n",
       "      <td>3.92302</td>\n",
       "      <td>300</td>\n",
       "      <td>3</td>\n",
       "      <td>1</td>\n",
       "      <td>0</td>\n",
       "      <td>1</td>\n",
       "      <td>0</td>\n",
       "      <td>0</td>\n",
       "      <td>0</td>\n",
       "      <td>0</td>\n",
       "      <td>0</td>\n",
       "      <td>1</td>\n",
       "      <td>0</td>\n",
       "    </tr>\n",
       "    <tr>\n",
       "      <th>645</th>\n",
       "      <td>USD</td>\n",
       "      <td>-6.264619</td>\n",
       "      <td>106.782179</td>\n",
       "      <td>3.92302</td>\n",
       "      <td>311</td>\n",
       "      <td>3</td>\n",
       "      <td>1</td>\n",
       "      <td>0</td>\n",
       "      <td>1</td>\n",
       "      <td>0</td>\n",
       "      <td>0</td>\n",
       "      <td>1</td>\n",
       "      <td>0</td>\n",
       "      <td>0</td>\n",
       "      <td>1</td>\n",
       "      <td>-1</td>\n",
       "    </tr>\n",
       "    <tr>\n",
       "      <th>646</th>\n",
       "      <td>EUR</td>\n",
       "      <td>-6.187198</td>\n",
       "      <td>106.821936</td>\n",
       "      <td>3.92302</td>\n",
       "      <td>222</td>\n",
       "      <td>3</td>\n",
       "      <td>1</td>\n",
       "      <td>0</td>\n",
       "      <td>1</td>\n",
       "      <td>0</td>\n",
       "      <td>0</td>\n",
       "      <td>0</td>\n",
       "      <td>0</td>\n",
       "      <td>0</td>\n",
       "      <td>1</td>\n",
       "      <td>0</td>\n",
       "    </tr>\n",
       "    <tr>\n",
       "      <th>647</th>\n",
       "      <td>EUR</td>\n",
       "      <td>-6.141225</td>\n",
       "      <td>106.853436</td>\n",
       "      <td>3.92302</td>\n",
       "      <td>272</td>\n",
       "      <td>3</td>\n",
       "      <td>1</td>\n",
       "      <td>0</td>\n",
       "      <td>1</td>\n",
       "      <td>0</td>\n",
       "      <td>0</td>\n",
       "      <td>1</td>\n",
       "      <td>0</td>\n",
       "      <td>0</td>\n",
       "      <td>1</td>\n",
       "      <td>0</td>\n",
       "    </tr>\n",
       "  </tbody>\n",
       "</table>\n",
       "<p>648 rows × 16 columns</p>\n",
       "</div>"
      ],
      "text/plain": [
       "    hotel_currency_code  hotel_lat   hotel_lon  hotel_distance  rooms_count  \\\n",
       "0                   IDR  -6.255336  106.810825         6.18000          203   \n",
       "1                   IDR  -6.175420  106.729023        13.45000            1   \n",
       "2                   IDR  -6.208347  106.818008         3.02000            1   \n",
       "3                   IDR  -6.223455  106.784432         6.84000            1   \n",
       "4                   IDR  -6.162375  106.832172         5.65000            1   \n",
       "..                  ...        ...         ...             ...          ...   \n",
       "643                 USD  -6.221410  106.815778         3.92302          214   \n",
       "644                 EUR  -6.127151  106.790440         3.92302          300   \n",
       "645                 USD  -6.264619  106.782179         3.92302          311   \n",
       "646                 EUR  -6.187198  106.821936         3.92302          222   \n",
       "647                 EUR  -6.141225  106.853436         3.92302          272   \n",
       "\n",
       "     hotel_type_ordinary  parking  fitness room/gym  business centre  \\\n",
       "0                      4        1                 1                1   \n",
       "1                      4        1                 1                0   \n",
       "2                      4        1                 0                0   \n",
       "3                      4        1                 1                0   \n",
       "4                      4        1                 0                0   \n",
       "..                   ...      ...               ...              ...   \n",
       "643                    3        1                 0                0   \n",
       "644                    3        1                 0                1   \n",
       "645                    3        1                 0                1   \n",
       "646                    3        1                 0                1   \n",
       "647                    3        1                 0                1   \n",
       "\n",
       "     disabled access  spa & wellness centre  swimming pool  air conditioned  \\\n",
       "0                  1                      1              1                1   \n",
       "1                  0                      0              1                1   \n",
       "2                  0                      0              1                1   \n",
       "3                  0                      0              1                1   \n",
       "4                  0                      0              1                1   \n",
       "..               ...                    ...            ...              ...   \n",
       "643                0                      0              1                0   \n",
       "644                0                      0              0                0   \n",
       "645                0                      0              1                0   \n",
       "646                0                      0              0                0   \n",
       "647                0                      0              1                0   \n",
       "\n",
       "     elevator / lift  free wifi  cluster  \n",
       "0                  1          1       -1  \n",
       "1                  1          1       10  \n",
       "2                  1          1       30  \n",
       "3                  1          1       12  \n",
       "4                  1          1       21  \n",
       "..               ...        ...      ...  \n",
       "643                0          1       -1  \n",
       "644                0          1        0  \n",
       "645                0          1       -1  \n",
       "646                0          1        0  \n",
       "647                0          1        0  \n",
       "\n",
       "[648 rows x 16 columns]"
      ]
     },
     "execution_count": 146,
     "metadata": {},
     "output_type": "execute_result"
    }
   ],
   "source": [
    "idReducedAnalysis"
   ]
  },
  {
   "cell_type": "code",
   "execution_count": 147,
   "metadata": {},
   "outputs": [
    {
     "data": {
      "text/html": [
       "<div>\n",
       "<style scoped>\n",
       "    .dataframe tbody tr th:only-of-type {\n",
       "        vertical-align: middle;\n",
       "    }\n",
       "\n",
       "    .dataframe tbody tr th {\n",
       "        vertical-align: top;\n",
       "    }\n",
       "\n",
       "    .dataframe thead th {\n",
       "        text-align: right;\n",
       "    }\n",
       "</style>\n",
       "<table border=\"1\" class=\"dataframe\">\n",
       "  <thead>\n",
       "    <tr style=\"text-align: right;\">\n",
       "      <th></th>\n",
       "      <th>famd1</th>\n",
       "      <th>famd2</th>\n",
       "      <th>famd3</th>\n",
       "      <th>cluster</th>\n",
       "    </tr>\n",
       "  </thead>\n",
       "  <tbody>\n",
       "    <tr>\n",
       "      <th>0</th>\n",
       "      <td>2.295306</td>\n",
       "      <td>-0.207736</td>\n",
       "      <td>-2.311967</td>\n",
       "      <td>-1</td>\n",
       "    </tr>\n",
       "    <tr>\n",
       "      <th>1</th>\n",
       "      <td>-0.374582</td>\n",
       "      <td>0.041853</td>\n",
       "      <td>-0.492463</td>\n",
       "      <td>10</td>\n",
       "    </tr>\n",
       "    <tr>\n",
       "      <th>2</th>\n",
       "      <td>-0.217001</td>\n",
       "      <td>0.028902</td>\n",
       "      <td>-0.220914</td>\n",
       "      <td>30</td>\n",
       "    </tr>\n",
       "    <tr>\n",
       "      <th>3</th>\n",
       "      <td>-0.347936</td>\n",
       "      <td>0.070639</td>\n",
       "      <td>-0.573888</td>\n",
       "      <td>12</td>\n",
       "    </tr>\n",
       "    <tr>\n",
       "      <th>4</th>\n",
       "      <td>-0.222969</td>\n",
       "      <td>-0.010194</td>\n",
       "      <td>-0.206984</td>\n",
       "      <td>21</td>\n",
       "    </tr>\n",
       "    <tr>\n",
       "      <th>...</th>\n",
       "      <td>...</td>\n",
       "      <td>...</td>\n",
       "      <td>...</td>\n",
       "      <td>...</td>\n",
       "    </tr>\n",
       "    <tr>\n",
       "      <th>643</th>\n",
       "      <td>7.817888</td>\n",
       "      <td>13.444574</td>\n",
       "      <td>0.464473</td>\n",
       "      <td>-1</td>\n",
       "    </tr>\n",
       "    <tr>\n",
       "      <th>644</th>\n",
       "      <td>10.808879</td>\n",
       "      <td>-3.925164</td>\n",
       "      <td>-1.539034</td>\n",
       "      <td>0</td>\n",
       "    </tr>\n",
       "    <tr>\n",
       "      <th>645</th>\n",
       "      <td>9.518845</td>\n",
       "      <td>13.195286</td>\n",
       "      <td>-0.115105</td>\n",
       "      <td>-1</td>\n",
       "    </tr>\n",
       "    <tr>\n",
       "      <th>646</th>\n",
       "      <td>10.436239</td>\n",
       "      <td>-3.900421</td>\n",
       "      <td>-1.452547</td>\n",
       "      <td>0</td>\n",
       "    </tr>\n",
       "    <tr>\n",
       "      <th>647</th>\n",
       "      <td>10.567836</td>\n",
       "      <td>-3.827278</td>\n",
       "      <td>-2.146629</td>\n",
       "      <td>0</td>\n",
       "    </tr>\n",
       "  </tbody>\n",
       "</table>\n",
       "<p>648 rows × 4 columns</p>\n",
       "</div>"
      ],
      "text/plain": [
       "         famd1      famd2     famd3  cluster\n",
       "0     2.295306  -0.207736 -2.311967       -1\n",
       "1    -0.374582   0.041853 -0.492463       10\n",
       "2    -0.217001   0.028902 -0.220914       30\n",
       "3    -0.347936   0.070639 -0.573888       12\n",
       "4    -0.222969  -0.010194 -0.206984       21\n",
       "..         ...        ...       ...      ...\n",
       "643   7.817888  13.444574  0.464473       -1\n",
       "644  10.808879  -3.925164 -1.539034        0\n",
       "645   9.518845  13.195286 -0.115105       -1\n",
       "646  10.436239  -3.900421 -1.452547        0\n",
       "647  10.567836  -3.827278 -2.146629        0\n",
       "\n",
       "[648 rows x 4 columns]"
      ]
     },
     "execution_count": 147,
     "metadata": {},
     "output_type": "execute_result"
    }
   ],
   "source": [
    "reducedID_df"
   ]
  },
  {
   "cell_type": "code",
   "execution_count": 148,
   "metadata": {},
   "outputs": [
    {
     "data": {
      "application/vnd.plotly.v1+json": {
       "config": {
        "plotlyServerURL": "https://plot.ly"
       },
       "data": [
        {
         "hovertemplate": "famd1=%{x}<br>famd2=%{y}<br>famd3=%{z}<br>cluster=%{marker.color}<extra></extra>",
         "legendgroup": "",
         "marker": {
          "color": [
           -1,
           10,
           30,
           12,
           21,
           1,
           18,
           27,
           17,
           2,
           30,
           25,
           27,
           -1,
           10,
           -1,
           27,
           15,
           22,
           10,
           -1,
           18,
           23,
           24,
           17,
           16,
           -1,
           17,
           17,
           10,
           -1,
           10,
           -1,
           20,
           14,
           28,
           17,
           19,
           22,
           6,
           10,
           27,
           2,
           -1,
           17,
           25,
           22,
           7,
           1,
           -1,
           -1,
           -1,
           21,
           27,
           23,
           20,
           -1,
           30,
           2,
           11,
           -1,
           28,
           26,
           24,
           25,
           22,
           20,
           19,
           22,
           6,
           22,
           25,
           20,
           11,
           -1,
           22,
           7,
           2,
           22,
           7,
           2,
           -1,
           -1,
           2,
           7,
           7,
           -1,
           12,
           16,
           20,
           28,
           8,
           17,
           26,
           8,
           27,
           7,
           11,
           23,
           24,
           17,
           13,
           7,
           11,
           20,
           17,
           15,
           17,
           12,
           19,
           22,
           19,
           12,
           11,
           15,
           23,
           -1,
           -1,
           17,
           19,
           18,
           -1,
           27,
           24,
           23,
           10,
           17,
           1,
           -1,
           18,
           21,
           11,
           6,
           -1,
           6,
           13,
           17,
           23,
           -1,
           11,
           15,
           2,
           11,
           11,
           6,
           -1,
           10,
           24,
           19,
           29,
           26,
           15,
           7,
           10,
           21,
           11,
           24,
           11,
           -1,
           11,
           11,
           15,
           -1,
           19,
           23,
           23,
           28,
           11,
           11,
           12,
           8,
           -1,
           24,
           -1,
           27,
           11,
           16,
           16,
           17,
           21,
           1,
           23,
           -1,
           1,
           23,
           22,
           11,
           -1,
           11,
           10,
           2,
           2,
           1,
           11,
           11,
           23,
           29,
           11,
           2,
           -1,
           -1,
           11,
           17,
           13,
           8,
           6,
           21,
           -1,
           20,
           26,
           -1,
           20,
           21,
           25,
           11,
           22,
           -1,
           -1,
           -1,
           11,
           27,
           -1,
           7,
           6,
           17,
           24,
           20,
           -1,
           26,
           23,
           27,
           11,
           20,
           11,
           11,
           7,
           10,
           24,
           -1,
           2,
           26,
           23,
           23,
           27,
           22,
           23,
           8,
           11,
           21,
           23,
           1,
           27,
           16,
           11,
           23,
           24,
           -1,
           28,
           26,
           2,
           15,
           -1,
           2,
           11,
           6,
           14,
           23,
           3,
           1,
           -1,
           1,
           -1,
           -1,
           -1,
           -1,
           2,
           1,
           25,
           2,
           -1,
           29,
           -1,
           29,
           15,
           -1,
           18,
           2,
           8,
           29,
           18,
           15,
           -1,
           8,
           21,
           15,
           2,
           21,
           12,
           15,
           29,
           2,
           14,
           18,
           12,
           15,
           25,
           2,
           -1,
           1,
           -1,
           9,
           29,
           18,
           29,
           25,
           -1,
           8,
           20,
           -1,
           2,
           19,
           18,
           18,
           25,
           20,
           30,
           -1,
           15,
           20,
           -1,
           -1,
           18,
           29,
           29,
           29,
           -1,
           -1,
           2,
           -1,
           8,
           29,
           9,
           25,
           14,
           25,
           28,
           26,
           10,
           20,
           15,
           1,
           28,
           21,
           18,
           15,
           13,
           -1,
           18,
           18,
           -1,
           15,
           25,
           21,
           -1,
           29,
           -1,
           25,
           18,
           15,
           8,
           10,
           29,
           2,
           15,
           15,
           15,
           27,
           -1,
           30,
           2,
           -1,
           6,
           25,
           25,
           -1,
           9,
           -1,
           2,
           25,
           29,
           25,
           25,
           -1,
           -1,
           -1,
           1,
           25,
           21,
           -1,
           8,
           15,
           25,
           18,
           -1,
           14,
           1,
           -1,
           15,
           2,
           2,
           -1,
           -1,
           -1,
           -1,
           25,
           25,
           10,
           21,
           -1,
           -1,
           -1,
           21,
           9,
           -1,
           30,
           -1,
           -1,
           -1,
           27,
           25,
           17,
           9,
           16,
           12,
           9,
           -1,
           11,
           13,
           13,
           20,
           -1,
           16,
           15,
           8,
           26,
           16,
           14,
           21,
           -1,
           14,
           10,
           -1,
           25,
           -1,
           -1,
           21,
           -1,
           17,
           30,
           11,
           8,
           -1,
           -1,
           2,
           20,
           25,
           9,
           -1,
           25,
           24,
           19,
           11,
           -1,
           -1,
           2,
           26,
           28,
           8,
           -1,
           -1,
           -1,
           -1,
           13,
           1,
           -1,
           -1,
           -1,
           -1,
           -1,
           -1,
           -1,
           -1,
           4,
           5,
           5,
           4,
           4,
           5,
           5,
           5,
           5,
           5,
           5,
           4,
           5,
           5,
           4,
           5,
           5,
           5,
           3,
           4,
           5,
           5,
           5,
           5,
           4,
           4,
           3,
           4,
           5,
           5,
           5,
           5,
           4,
           4,
           5,
           4,
           5,
           4,
           5,
           5,
           3,
           5,
           4,
           4,
           4,
           5,
           -1,
           4,
           5,
           -1,
           5,
           5,
           4,
           5,
           4,
           5,
           5,
           5,
           4,
           4,
           5,
           5,
           3,
           5,
           5,
           4,
           5,
           5,
           5,
           5,
           5,
           4,
           5,
           1,
           5,
           4,
           5,
           4,
           5,
           3,
           3,
           5,
           5,
           -1,
           5,
           5,
           5,
           5,
           4,
           5,
           5,
           5,
           3,
           5,
           5,
           4,
           -1,
           5,
           5,
           3,
           5,
           4,
           5,
           5,
           4,
           4,
           -1,
           5,
           5,
           4,
           5,
           5,
           4,
           5,
           5,
           4,
           5,
           5,
           5,
           5,
           5,
           4,
           4,
           4,
           4,
           5,
           5,
           4,
           4,
           4,
           -1,
           4,
           5,
           5,
           5,
           4,
           4,
           5,
           5,
           4,
           1,
           5,
           5,
           -1,
           -1,
           -1,
           0,
           0,
           0,
           0,
           0,
           -1,
           0,
           -1,
           0,
           0
          ],
          "coloraxis": "coloraxis",
          "opacity": 0.5,
          "symbol": "circle"
         },
         "mode": "markers",
         "name": "",
         "scene": "scene",
         "showlegend": false,
         "type": "scatter3d",
         "x": [
          2.2953057907674155,
          -0.3745820156926541,
          -0.2170011353434023,
          -0.3479356953484719,
          -0.22296937136200526,
          -0.13329990307489634,
          -0.3144057050306202,
          -0.3228556368624482,
          -0.38271782614032834,
          -0.4010305993509977,
          -0.21687005246160052,
          -0.33986211434025704,
          -0.32457341799293377,
          -0.39294023566418745,
          -0.37447437263328165,
          -0.36130762243599257,
          -0.32283451894725507,
          -0.3355380094840122,
          -0.3177749627456338,
          -0.3741431581910738,
          -0.1475884059316039,
          -0.31537120814519715,
          -0.22003864587674538,
          -0.23218179279351198,
          -0.3828319258518366,
          -0.3835186853892782,
          -0.39070753495924876,
          -0.3827135086576237,
          -0.3826605267708155,
          -0.3746195296081833,
          -0.3510896713681467,
          -0.3745820156926541,
          -0.34489503167086344,
          -0.2404670322961077,
          -0.34260702454793157,
          -0.23905984598473828,
          -0.3827135086576237,
          -0.2717869423790145,
          -0.3129208926484179,
          -0.37762489118711867,
          -0.3745820156926541,
          -0.32283451894725507,
          -0.4010645193788898,
          -0.33373524618622724,
          -0.3827135086576237,
          -0.34795821259293913,
          -0.3177981335565384,
          -0.36579519676989,
          -0.14820174382919202,
          -0.3139422537599022,
          -0.3350760216195808,
          -0.2545843492345681,
          -0.22296937136200526,
          -0.3232187542340203,
          -0.22078550626301793,
          -0.2322450595584691,
          -0.3443350426638088,
          -0.21687005246160052,
          -0.4010305993509977,
          -0.3343108220458973,
          -0.3440791011895174,
          -0.23633601539418814,
          -0.32272276946036815,
          -0.22850302288475008,
          -0.33985687644483903,
          -0.3177749627456338,
          -0.2322450595584691,
          -0.27404065858158205,
          -0.3170599193187546,
          -0.3870254609293368,
          -0.3187119585961959,
          -0.33992100737184217,
          -0.23951758764447395,
          -0.3343108220458973,
          -0.26533409911607936,
          -0.3129208926484179,
          -0.36237609603168147,
          -0.4010305993509977,
          -0.31848942661649343,
          -0.3623437025236642,
          -0.4010546804655002,
          -0.34629635847399465,
          -0.3380555361263623,
          -0.40109178332521483,
          -0.3624189175954249,
          -0.3623437025236642,
          -0.24658628023904655,
          -0.3479356953484719,
          -0.38430785516930066,
          -0.23951758764447395,
          -0.23975964221881024,
          -0.3519155006207412,
          -0.3827135086576237,
          -0.3278228345318772,
          -0.3510555948030949,
          -0.3234635409464809,
          -0.36579519676989,
          -0.33529143430336994,
          -0.2211755376051612,
          -0.22850302288475008,
          -0.3827135086576237,
          -0.35735204463777553,
          -0.3623437025236642,
          -0.33479135624737766,
          -0.24041413164312028,
          -0.3827135086576237,
          -0.3352783854311015,
          -0.38263903691651613,
          -0.3479606490511215,
          -0.2744587368803593,
          -0.32169180683697995,
          -0.27390195169321613,
          -0.3479356953484719,
          -0.3343108220458973,
          -0.3344803083074098,
          -0.21997022161486604,
          -0.3130568366042492,
          -0.33733648321540205,
          -0.3827135086576237,
          -0.2741045582137306,
          -0.31431454420108274,
          -0.39512606797286054,
          -0.32338337514840326,
          -0.22894976307518788,
          -0.22077357342710016,
          -0.3747122560630731,
          -0.38263903691651613,
          -0.1442764763539213,
          -0.3483300893783793,
          -0.3138564896813186,
          -0.25076683487509766,
          -0.3363694233857343,
          -0.3870254609293368,
          -0.32577391062285693,
          -0.38668183543326234,
          -0.35778540491880506,
          -0.3827135086576237,
          -0.2214166708793647,
          -0.379920286701522,
          -0.3343108220458973,
          -0.3346088894950667,
          -0.38511627809913346,
          -0.3343095249273748,
          -0.3343108220458973,
          -0.38668756778499597,
          -0.39540694413251787,
          -0.37408843832756133,
          -0.23051885849275752,
          -0.2822586996039517,
          -0.21368826059761686,
          -0.32720909091716927,
          -0.33587189536211165,
          -0.3623437025236642,
          -0.37407477359346236,
          -0.23060744220479273,
          -0.3343108220458973,
          -0.23051885849275752,
          -0.33600243409044706,
          -0.3364691429910261,
          -0.34045995025695647,
          -0.3343108220458973,
          -0.3356469233322528,
          -0.379919642902472,
          -0.2750220442300881,
          -0.2205427422624942,
          -0.2211755376051612,
          -0.23843079682658672,
          -0.33576657006005745,
          -0.3342518173634674,
          -0.34836788249315775,
          -0.351816841881844,
          -0.33674769273695915,
          -0.22894976307518788,
          -0.21784165096469374,
          -0.32440565531225474,
          -0.33600243409044706,
          -0.3841798432729731,
          -0.38406800696027216,
          -0.3827135086576237,
          -0.25299460754019953,
          -0.16296793562960288,
          -0.21991007815427283,
          -0.3330739675523423,
          -0.11885328535573317,
          -0.22077357342710016,
          -0.3177749627456338,
          -0.33424062326586224,
          -0.23615681743679623,
          -0.3343033568244391,
          -0.3741431581910738,
          -0.390292354943158,
          -0.3850735436733687,
          -0.1269777123557455,
          -0.33497376873945944,
          -0.33405904001309533,
          -0.22002906985043771,
          -0.20615902192110924,
          -0.33490851733207594,
          -0.3844581002195089,
          -0.3459016198242616,
          -0.29783937036024277,
          -0.3343108220458973,
          -0.3827135086576237,
          -0.3587291692342648,
          -0.35994462766222945,
          -0.387156804190059,
          -0.2511847400130129,
          -0.3441582382046104,
          -0.24032065936001273,
          -0.3254671566600836,
          -0.13616006289972774,
          -0.24036570930837284,
          -0.2298347373913034,
          -0.3349111912644267,
          -0.33485179258113973,
          -0.3148083983418343,
          -0.2627313256323446,
          -0.2562006260583425,
          -0.2435055385860398,
          -0.3343108220458973,
          -0.32334929880085816,
          -0.15593195023699474,
          -0.3623437025236642,
          -0.3867299943451475,
          -0.3827135086576237,
          -0.22850302288475008,
          -0.24016027764659312,
          -0.3588160726895274,
          -0.3259344993858509,
          -0.22077357342710016,
          -0.32459223257187064,
          -0.3357589913978942,
          -0.24052186676254406,
          -0.3343108220458973,
          -0.3343108220458973,
          -0.3623437025236642,
          -0.3745820156926541,
          -0.22850302288475008,
          -0.24148480269196054,
          -0.3830577080653612,
          -0.32431663348636885,
          -0.22077357342710016,
          -0.22077357342710016,
          -0.32314390427162387,
          -0.3177749627456338,
          -0.21999151473160003,
          -0.3519155006207412,
          -0.3343108220458973,
          -0.25076683487509766,
          -0.21987116228733805,
          -0.12324678728565842,
          -0.3243698091767137,
          -0.3841663698174016,
          -0.334790485463275,
          -0.22136533111164364,
          -0.22980200613761248,
          -0.3588160726895274,
          -0.24011487359925762,
          -0.32432818567793154,
          -0.389355202135925,
          -0.3359252647701411,
          -0.3345910300996402,
          -0.3901246691311823,
          -0.3363694233857343,
          -0.38676809712863225,
          -0.3461597964442315,
          -0.22077357342710016,
          0.13297345529899215,
          -0.06784400176938898,
          -0.34223238808269973,
          -0.12395060442120066,
          -0.3638068375053797,
          -0.3626686479529013,
          -0.36695700879972526,
          -0.22180020686328933,
          -0.389355202135925,
          -0.13361370781994303,
          -0.340308516218707,
          -0.4062378333461621,
          -0.35599274850416784,
          -0.20972891134659327,
          -0.2569818369985978,
          -0.2100143602361322,
          -0.33550639923133496,
          -0.2997576095411704,
          -0.31537120814519715,
          -0.39085568209316485,
          -0.3592882005036897,
          -0.20621188156509002,
          -0.31547876807606307,
          -0.33587189536211165,
          -0.2600472800137453,
          -0.35612088589684565,
          -0.24091499149879494,
          -0.3351136755903054,
          -0.3844596752057752,
          -0.22296937136200526,
          -0.3494717704651511,
          -0.3341157304128419,
          -0.2097645753719729,
          -0.3845411239942066,
          -0.3422671941671991,
          -0.31606736113228273,
          -0.34976100980915237,
          -0.3350139897556227,
          -0.3393347576198777,
          -0.3886678933913061,
          -0.30112459603853314,
          -0.1434671718691126,
          -0.34163948878794864,
          -0.36957782675636036,
          -0.20984552728778819,
          -0.315429240070859,
          -0.20902829716723134,
          -0.33981228936056823,
          -0.2828600942301589,
          -0.35741305014983177,
          -0.2350115342967659,
          -0.2232025417681008,
          -0.3882357885791673,
          -0.2550931290114435,
          -0.316031296095512,
          -0.315429240070859,
          -0.33999383488162405,
          -0.23679922538678438,
          -0.21367171528763854,
          -0.25030335211941346,
          -0.33636052437562874,
          -0.2367381009785747,
          -0.3580899823172843,
          -0.3005347671721443,
          -0.3154656411447084,
          -0.20998462799073356,
          -0.20985063477767696,
          -0.21008191461473102,
          -0.24424701056744513,
          -0.37570752829085047,
          -0.3886678933913061,
          -0.341278986031849,
          -0.36043106003793335,
          -0.21301643355065533,
          -0.37254164059573147,
          -0.33974662568442165,
          -0.3432794869694255,
          -0.3397331923747843,
          -0.234004490199421,
          -0.3257112543667414,
          -0.3741431581910738,
          -0.23673535031943602,
          -0.3359222974175851,
          -0.13545972924680583,
          -0.23820775477233602,
          -0.22296937136200526,
          -0.315429240070859,
          -0.33597548088753937,
          -0.3561746365350017,
          -0.24950505085353025,
          -0.315429240070859,
          -0.31611659959441873,
          -0.1697062789139383,
          -0.33603584612256276,
          -0.33992100737184217,
          -0.2301676402604826,
          -0.3194795144487857,
          -0.20990895301994497,
          -0.27859839741052345,
          -0.33992100737184217,
          -0.31587883046502174,
          -0.3359255171311342,
          -0.35615783105562165,
          -0.3747156809512713,
          -0.2099157369212044,
          -0.39060775514886276,
          -0.33597543942162983,
          -0.33597548088753937,
          -0.33522629671330856,
          -0.3231382504865916,
          -0.36130762243599257,
          -0.21704736330325894,
          -0.3900063464404685,
          -0.27296539823410443,
          -0.3910090096435704,
          -0.33836403994155534,
          -0.33992100737184217,
          -0.15939248049383326,
          -0.3686077607288621,
          -0.1361630332024147,
          -0.38173867111551363,
          -0.33992100737184217,
          -0.20902829716723134,
          -0.3394889025597034,
          -0.3399251975836159,
          -0.3722243249617246,
          -0.34274869958369963,
          -0.2599933031935206,
          -0.13521258592386465,
          -0.33571458325632775,
          -0.22309181513813361,
          -0.2449843887604015,
          -0.35917816740460756,
          -0.33636116817467876,
          -0.34072435481178137,
          -0.315429240070859,
          -0.33137947578238713,
          -0.3425784484754759,
          -0.15544958566732645,
          -0.22295572235001238,
          -0.33597548088753937,
          -0.389355202135925,
          -0.39053498169542616,
          -0.37939855220530255,
          -0.3510896713681467,
          -0.32923496037419475,
          -0.35494507265862096,
          -0.33976967421256843,
          -0.33992100737184217,
          -0.3740724973571109,
          -0.2341966621658555,
          -0.34082418135626436,
          -0.37759474154016176,
          -0.2158840076758327,
          -0.2308496638288155,
          -0.3688787990454888,
          -0.2530582350553437,
          -0.22153342551423116,
          -0.2548189225690346,
          -0.2621895683293807,
          -0.3905351850819175,
          -0.3228556368624482,
          -0.3394889025597034,
          -0.3827135086576237,
          -0.3667821127392635,
          -0.3840698503975007,
          -0.34855831129090437,
          -0.3667873460634806,
          0.925270251943173,
          -0.33600243409044706,
          -0.35778540491880506,
          -0.35616707752834287,
          -0.23951758764447395,
          -0.2555379790722017,
          -0.38402527632151146,
          -0.3357559221493862,
          -0.3592882005036897,
          -0.3266051836893813,
          -0.3840522022453946,
          -0.3433762424833945,
          -0.23730555599677644,
          -0.33747068906048944,
          -0.3398041533350263,
          -0.37136593105626603,
          -0.35561018759170004,
          -0.33992100737184217,
          -0.22342716121304756,
          -0.34040754827884906,
          -0.23716034508585004,
          -0.33747068906048944,
          -0.3827135086576237,
          -0.22067178736504497,
          -0.33632665765390474,
          -0.358998392836276,
          -0.3295338683805321,
          -0.24173083336627513,
          -0.4062378333461621,
          -0.24033785524001272,
          -0.3472671585617848,
          -0.36948298535637325,
          -0.3935140304854456,
          -0.33992100737184217,
          -0.23051885849275752,
          -0.27416919290898534,
          -0.3343108220458973,
          -0.33642716193166133,
          -0.22303838581162141,
          -0.43938836920109436,
          -0.3229947570590547,
          -0.24198462995984368,
          -0.351816841881844,
          -0.34958947682419056,
          -0.3474593684945071,
          -0.39652290736971485,
          -0.26606034139133267,
          -0.35569823362111574,
          -0.01398979426010743,
          -0.3626049324032962,
          -0.3337956705750235,
          -0.3360039695214572,
          -0.3360039695214572,
          -0.31419950760493287,
          -0.31419950760493287,
          -0.3178972350743058,
          -0.33778121386032617,
          0.28103205065910697,
          0.2621342546298017,
          0.23225942655721507,
          0.27435980341093597,
          0.2718839707521179,
          0.21014285143868464,
          0.22229317233278778,
          0.2252816577025195,
          0.24801510437425986,
          0.24371728405933551,
          0.25051760620207264,
          0.32371027216485093,
          0.2411321616240185,
          0.2067886739264813,
          0.24891308366161713,
          0.20301378206774556,
          0.200208457512942,
          0.25132884986958864,
          0.037106965260895505,
          0.2603434482785896,
          0.2443493591536081,
          0.24336237327922972,
          0.22579508057827102,
          0.19739738395982603,
          0.26093766492342296,
          0.23992256928828753,
          0.088612669835363,
          0.3203964662406209,
          0.2609656853356744,
          0.18792157114793534,
          0.25641567587501507,
          0.20127829681555542,
          0.25958239540376843,
          0.2816184283807731,
          0.2517283604714556,
          0.22406548261898726,
          0.10323935007228184,
          0.26674022952638243,
          0.23963205314184954,
          0.26068273744280346,
          0.02256220740279775,
          0.25305759998882665,
          0.4193767635384079,
          0.4157446779006271,
          0.26448198362450215,
          0.12762816915694764,
          0.4798227098856687,
          0.3158852906593977,
          0.2455358478253762,
          0.4890024880367261,
          0.19471589700110797,
          0.23989597748700311,
          0.30721119664709606,
          0.23863056913556466,
          0.2422860909790355,
          0.2437998309584012,
          0.2265613743138214,
          0.2390117301103151,
          0.24760941632629158,
          0.23383463509916172,
          0.24532833843055538,
          0.2374642149308891,
          0.06350370217046741,
          0.1800840457284679,
          0.1680911232079928,
          0.28591581383959136,
          0.19389443225198838,
          0.27258784144430775,
          0.24542911618630808,
          0.2454022867710667,
          0.23300641042271986,
          0.2599796917921324,
          0.2579919486078867,
          -0.06406787332027139,
          0.2539105797677716,
          0.2553086393351386,
          0.26311022157470537,
          0.29272085202811365,
          0.24482510645203395,
          0.07178948922870704,
          0.10438176669551953,
          0.2508413817906332,
          0.24066389867149504,
          0.14634328709826513,
          0.22010659600380034,
          0.23493511289436966,
          0.2260957467445287,
          0.20773186982640027,
          0.24732640741360548,
          0.21357599823306966,
          0.23561438711013719,
          0.2048838154656469,
          0.07461139126729859,
          0.24679033019076838,
          0.23357519371832183,
          0.3644676890330769,
          0.487708288095817,
          0.25969101800138983,
          0.2582804990673777,
          0.07401343292668262,
          0.2445093086829919,
          0.2710912883275296,
          0.25104614474871656,
          0.25365756350277857,
          0.26671190828455693,
          0.32376313228328474,
          0.10798078814544557,
          0.1893192454370413,
          0.264114863810454,
          0.20938075741773526,
          0.2255275958980575,
          0.24665552608580604,
          0.26363578493365253,
          0.20036743933515017,
          0.21509230540642263,
          0.26757506370378303,
          0.22117483598987636,
          0.23352286557706953,
          0.23324943334502815,
          0.23763276247618026,
          0.23775589125587002,
          0.39283863869264957,
          0.2230544011053483,
          0.26540310690209346,
          0.22831292860058897,
          0.23629165551910222,
          0.26944943248710473,
          0.2825929624198548,
          0.4328273740344167,
          0.2708544439288651,
          0.3458755188973167,
          0.2832626693874652,
          0.22018740193415368,
          0.20280801396501183,
          0.188465027298599,
          0.2588483236738529,
          0.25454228364226866,
          0.26246238265630817,
          0.18551189935059476,
          0.261736319582321,
          -0.21054751929097337,
          0.2554259111520543,
          0.19632024306576193,
          1.2714057356610475,
          4.275468725420706,
          7.7130575556933465,
          11.423846890084308,
          10.963300752309458,
          10.55087346510551,
          9.232806421354775,
          9.957749946806665,
          7.817888450400763,
          10.808878579982894,
          9.518845489919627,
          10.436239209786418,
          10.567835824296438
         ],
         "y": [
          -0.20773639703515853,
          0.04185299079130019,
          0.028901862351155327,
          0.07063927152654756,
          -0.010194425528470422,
          -0.06093586380429605,
          0.04522659441562249,
          0.04675181343064386,
          0.10333595689095416,
          0.1082300526118582,
          0.029344781096511303,
          0.07728647592360721,
          0.04917407392166068,
          0.1112420710127069,
          0.03433047635427377,
          0.09362306900272829,
          0.046895605416506655,
          0.00034887872403874964,
          0.06423318432251289,
          0.034699251896891915,
          0.01194810322420698,
          0.041895173864263294,
          0.0017865042752422925,
          0.024269567774372426,
          0.10335244146548495,
          0.10350089362645673,
          0.10977869184653494,
          0.10333289455718937,
          0.1033250865210746,
          0.04101112533270984,
          -0.02943478198129058,
          0.04185299079130019,
          0.08201026674524606,
          -0.04783760153305933,
          -0.011928604991341397,
          0.05220452172913005,
          0.10333289455718937,
          0.07620824218163556,
          0.05860971809866988,
          -0.013859896079329139,
          0.04185299079130019,
          0.046895605416506655,
          0.10827059730515574,
          0.054848985076694466,
          0.10333289455718937,
          0.07944136283205662,
          0.06401196289302942,
          -0.004114626884328903,
          -0.18930250226720272,
          0.0044081171511857,
          0.0581985113886251,
          -0.04314712603480877,
          -0.010194425528470422,
          0.04692819111298056,
          -0.00011255169511062376,
          -0.019502484168043302,
          0.06699752089368324,
          0.029344781096511303,
          0.1082300526118582,
          0.05231198128795463,
          0.06679934790444368,
          0.04507491486233736,
          0.06226799065567123,
          0.02414743654042578,
          0.0773609391675918,
          0.06423318432251289,
          -0.019502484168043302,
          0.07744752434428279,
          0.06361747559793529,
          0.006355977418191321,
          0.06496782793602532,
          0.07739074892972302,
          -0.04618604313077151,
          0.05231198128795463,
          -0.01659343144345252,
          0.05860971809866988,
          -0.017537555423056118,
          0.1082300526118582,
          0.0647055294058163,
          -0.017427359308939492,
          0.10826342102332101,
          -0.007817449207218136,
          0.009227195813327465,
          0.10826097439019923,
          -0.017594693325471384,
          -0.017427359308939492,
          0.05906574419137187,
          0.07063927152654756,
          0.10406552114517567,
          -0.04618604313077151,
          0.046023178135358556,
          0.04939619532411639,
          0.10333289455718937,
          0.06604498188544751,
          0.05054183050023774,
          0.047921472794190484,
          -0.004114626884328903,
          0.050697464955993206,
          0.002351746544274454,
          0.02414743654042578,
          0.10333289455718937,
          0.08387021013570066,
          -0.017427359308939492,
          0.05104024231895087,
          -0.047736811452123246,
          0.10333289455718937,
          0.0007084984606847054,
          0.1032742041809077,
          0.06952039095985087,
          0.07772554866877776,
          0.06652963449779846,
          0.06848877773092255,
          0.07063927152654756,
          0.05231198128795463,
          0.005567481091157997,
          0.001977137052314011,
          -0.07283700386015594,
          0.03860444429707148,
          0.10333289455718937,
          0.07746019021435051,
          0.04150715455522268,
          0.11683333429832488,
          0.046273574150159515,
          0.02304775933037124,
          0.01156224260378784,
          0.03463841606606765,
          0.1032742041809077,
          -0.1478816388766109,
          0.08054037275599701,
          0.04274426558527252,
          -0.03867459570953328,
          0.052495606685903216,
          0.006355977418191321,
          0.030137382833452298,
          0.006929811188275332,
          0.08485013869074631,
          0.10333289455718937,
          0.0019645484067422904,
          0.1056309521385701,
          0.05231198128795463,
          0.005350092944894385,
          0.07419496715146753,
          0.05204873139366175,
          0.05231198128795463,
          0.006953248712561328,
          0.11702823564109072,
          0.03472239178367095,
          0.024470193349615463,
          0.08340853126577323,
          0.034118783785009474,
          0.06987287262675472,
          -1.0355304756698308e-05,
          -0.017427359308939492,
          0.034471164567334164,
          -0.029666274957714477,
          0.05231198128795463,
          0.024470193349615463,
          0.052524132601311516,
          0.0693255189985563,
          0.052181560386358905,
          0.05231198128795463,
          -2.9701651427738685e-05,
          0.10562861763705772,
          0.07812458528187126,
          -8.265641784745826e-05,
          0.002351746544274454,
          0.03956258735731648,
          0.050262652727944925,
          0.05207734266494359,
          0.06976911561335221,
          0.05240496585762902,
          0.06947597697536374,
          0.02304775933037124,
          -0.040314425325183145,
          0.04701203013366526,
          0.052524132601311516,
          0.104096337198171,
          0.10400118206310327,
          0.10333289455718937,
          -0.04804660568007097,
          -0.12377878849763349,
          0.0018768968668004598,
          0.06882491755330769,
          -0.1252829905718617,
          0.01156224260378784,
          0.06423318432251289,
          0.05203502805661394,
          0.014456309840430592,
          0.05202583477700904,
          0.034699251896891915,
          0.08997094119150648,
          0.07374871710122477,
          -0.09741552765505226,
          0.05090723144703139,
          0.05248553359995255,
          0.0019437803224832775,
          0.03098343057109186,
          0.05067486311102274,
          0.09217153765003483,
          -0.012804355507509307,
          0.09443717972373207,
          0.05231198128795463,
          0.10333289455718937,
          0.08502028502131126,
          0.04677663288367314,
          0.00647131153141981,
          -0.04056341734882652,
          0.06683227006753455,
          -0.04753055847460818,
          0.06628372651091187,
          0.009346612360870908,
          -0.047662732635887835,
          -0.028152306686845298,
          0.07386170816997317,
          0.05127251623950214,
          0.061559797222289034,
          0.018189031807823306,
          -0.045517219674550094,
          0.05629123055215873,
          0.05231198128795463,
          0.0481253703569813,
          -0.06951398702356007,
          -0.017427359308939492,
          0.006892292349484113,
          0.10333289455718937,
          0.02414743654042578,
          -0.047287470329928485,
          -0.019827733980964983,
          0.06563609674309902,
          0.01156224260378784,
          0.0488286041052358,
          0.05024405317137309,
          -0.04803636883779426,
          0.05231198128795463,
          0.05231198128795463,
          -0.017427359308939492,
          0.04185299079130019,
          0.02414743654042578,
          -0.026411173648103484,
          0.07342596029203509,
          0.06654683098724587,
          0.01156224260378784,
          0.01156224260378784,
          0.04684294238305597,
          0.06423318432251289,
          0.001885812303333729,
          0.04939619532411639,
          0.05231198128795463,
          -0.03867459570953328,
          0.0019560185353024156,
          -0.08249409037689878,
          0.04687594937455919,
          0.10390434668472139,
          0.05104543617597832,
          -0.0004960215028983341,
          0.021267930107847825,
          -0.019827733980964983,
          0.05282379067809333,
          0.059129854078449985,
          0.08923655733317921,
          -0.0005475661807450969,
          0.06869033298289613,
          0.08984803517463956,
          0.052495606685903216,
          0.006180004273639541,
          -0.01945962291038582,
          0.01156224260378784,
          -0.10568221154717054,
          -0.09090984850593618,
          -0.06359813257630985,
          -0.12149073320923183,
          0.057722581268492286,
          0.057182192808320355,
          -0.03987629311988605,
          0.00401378694302524,
          0.08923655733317921,
          -0.055308305947675176,
          0.07768027950658374,
          0.06874475755277819,
          0.09010645799266649,
          0.03355518941550441,
          0.053253920441197505,
          0.03375505610803423,
          0.00022118309153515837,
          0.037400423554471304,
          0.041895173864263294,
          0.08968518227408043,
          0.050154616851570265,
          0.031004316712079562,
          0.04157677064246555,
          -1.0355304756698308e-05,
          0.06769123508211099,
          0.054395216603781,
          -0.034781065894895366,
          0.0012230576526482855,
          0.09215802720031331,
          -0.010194425528470422,
          0.07088728791472453,
          0.00302804786872076,
          0.033513987067168086,
          0.092236847346895,
          -0.01055824412802107,
          0.03946431906669117,
          0.0709582125476104,
          0.0011672039772675676,
          0.07718000807035419,
          0.09850472793380345,
          0.005071179258926659,
          -0.08005510452814069,
          0.002971496127208946,
          0.05162826027695075,
          0.033599887173820966,
          0.04161833921482085,
          0.03346056002152014,
          0.07744370566012213,
          0.07034018318627461,
          0.046954503336158714,
          -0.024186392803712077,
          0.04115137930071212,
          0.09836593620190842,
          0.05322388853338659,
          0.03958612347385495,
          0.04161833921482085,
          0.06976721466136084,
          -0.04009314973887025,
          0.029772874852077028,
          0.02692400177672291,
          -0.0014621421563396934,
          -0.03939308804707311,
          0.09128498388900033,
          0.04055994857141002,
          0.041519228446060666,
          0.03377322688857927,
          0.033610586428910315,
          0.03377885357803576,
          0.05785295378464027,
          0.09994200846357577,
          0.09850472793380345,
          0.0685508367389396,
          0.055118842001122534,
          0.03586547930270129,
          0.05198562259714553,
          0.07704158705951326,
          -0.005859955442444461,
          0.077402312086971,
          0.049279160912593274,
          0.06241989555778646,
          0.034699251896891915,
          -0.03933757643636482,
          -0.0006115172819048182,
          -0.05559727570034318,
          0.046143931018581316,
          -0.010194425528470422,
          0.04161833921482085,
          -0.0006378422125542969,
          0.08463393067109808,
          0.06129909444052935,
          0.04161833921482085,
          0.03942859382178607,
          0.00881060276896314,
          -0.000779039026235467,
          0.07739074892972302,
          -0.028802139633558706,
          0.05793741959960588,
          0.03371759693976327,
          -0.00266285809759017,
          0.07739074892972302,
          0.04026841290048853,
          -0.0005957327325733408,
          0.05432167488257008,
          0.03464062785746386,
          0.033616079829755015,
          0.09006625488475466,
          -0.0006375948860298489,
          -0.0006378422125542969,
          0.0008599872068377934,
          0.0487495498597981,
          0.09362306900272829,
          0.028162383551852282,
          0.08957134507966276,
          -0.014689980816294279,
          0.007732480323723157,
          0.07662249373773941,
          0.07739074892972302,
          -0.04490999489806356,
          0.049418299401018946,
          -0.08284735753161694,
          0.09123170579152612,
          0.07739074892972302,
          0.03346056002152014,
          0.07725195719782797,
          0.07737810507599654,
          0.09718253888110111,
          0.007236929747894769,
          0.06753842462820563,
          -0.055568015746180616,
          0.07097777692853116,
          -0.010496638244430203,
          0.05833967700610756,
          0.04902513729210627,
          -0.0014598076548273233,
          0.07683211681211449,
          0.04161833921482085,
          0.07295732306941237,
          -0.011284092492635718,
          -0.04117613851798544,
          0.04081098698130771,
          -0.0006378422125542969,
          0.08923655733317921,
          0.08954532994008109,
          0.056683404230474486,
          -0.02943478198129058,
          0.06128949608735704,
          0.08922449715764026,
          0.07725674913910592,
          0.07739074892972302,
          0.03418699857489674,
          -0.028674104904827476,
          0.011422192784018145,
          0.1043727869291644,
          0.03836508975026961,
          -0.019077450122831054,
          0.049986763799527864,
          0.06373105505888385,
          0.037064792562800625,
          0.01854756276126554,
          -0.04135472196377346,
          0.11202558036257149,
          0.04675181343064386,
          0.07725195719782797,
          0.10333289455718937,
          0.04868286421204605,
          0.10397989592831747,
          0.07056658031993872,
          0.04870104557110076,
          -0.22678035814605044,
          0.052524132601311516,
          0.08485013869074631,
          0.08460903938861215,
          -0.04618604313077151,
          -0.08325808141055553,
          0.10381423797074366,
          -0.00017486355498523158,
          0.050154616851570265,
          0.06882072498583111,
          0.10394108823960832,
          -0.009625817517707292,
          -0.033670188054665824,
          0.03871093696361026,
          -0.0006026982022502382,
          0.026264357620292677,
          0.089727742806133,
          0.07739074892972302,
          0.03312495133982819,
          0.010759609801941,
          -0.03348327495078797,
          0.03871093696361026,
          0.10333289455718937,
          0.036181178544493625,
          0.05263473809714431,
          0.04934067414870622,
          0.01185001811269629,
          0.015903478895244863,
          0.06874475755277819,
          -0.04758578683892677,
          0.07733173616616619,
          0.05020579228526178,
          0.11573148206269528,
          0.07739074892972302,
          0.024470193349615463,
          0.07757411448621854,
          0.05231198128795463,
          0.00859673767866695,
          0.0389939315202798,
          0.1332533404466313,
          0.06720008539043038,
          0.05016287980073724,
          0.05240496585762902,
          0.08009852430980378,
          -0.009316587501238347,
          0.11776771782219932,
          0.022091813610028457,
          0.08392306765867387,
          -0.012509419235847096,
          0.057154021822698506,
          0.039879868171798664,
          0.008932228664432386,
          0.008932228664432386,
          0.006141208020584272,
          0.006141208020584272,
          0.006312860345653858,
          0.03867983226937174,
          -0.23118819477483057,
          -0.18863759301317612,
          -0.14084397817033567,
          -0.24919263070740713,
          -0.2270978181699031,
          -0.1239528251905569,
          -0.14079285171846515,
          -0.13663517707454412,
          -0.15777273964964852,
          -0.1822416648466953,
          -0.1661339894685524,
          -0.2461078718035225,
          -0.19127254070235364,
          -0.16184909581934212,
          -0.2089768131731146,
          -0.15935619105775478,
          -0.23118746627944567,
          -0.1600105412104843,
          -0.09521084879233668,
          -0.27800985403665956,
          -0.1475618721105497,
          -0.2237827255395893,
          -0.15811567125290849,
          -0.11509060887423603,
          -0.24304668124221995,
          -0.18041519110465473,
          -0.08651772659257162,
          -0.2448338940757379,
          -0.17261119537335515,
          -0.10960346560240072,
          -0.18070598356340178,
          -0.21149306306421997,
          -0.19301279178792852,
          -0.2353059331339623,
          -0.20606561682504293,
          -0.16616661202847505,
          -0.22557059745511457,
          -0.24359492575266453,
          -0.21998123432182737,
          -0.17925975591081322,
          -0.1269569473495089,
          -0.20635089381363467,
          -0.27381601905204245,
          -0.25224844224182436,
          -0.2602554749004902,
          -0.08261539368113176,
          -0.28626729015764196,
          -0.30949591574865726,
          -0.21054132507510404,
          -0.2926967446753409,
          -0.11342747118881444,
          -0.2113169285149445,
          -0.28903168613374935,
          -0.148205456981968,
          -0.19670440968206793,
          -0.18108524077152197,
          -0.16780723177269066,
          -0.1474429863409821,
          -0.23009726041182138,
          -0.21658694453827562,
          -0.21713635663533914,
          -0.19998919254515402,
          -0.14092826584471196,
          -0.10440620411970324,
          -0.0971661209194993,
          -0.20810579778480454,
          -0.11282426430100796,
          -0.16882577645730895,
          -0.21557068699788037,
          -0.21798817373435952,
          -0.2312554997668329,
          -0.22399777445733468,
          -0.1795363214511295,
          -0.08203980666340384,
          -0.19896335880169935,
          -0.2390691168778294,
          -0.18362946945233607,
          -0.21264300138843314,
          -0.21315454532106964,
          -0.1214841024635907,
          -0.017824705290056878,
          -0.19078071261324378,
          -0.16495683134814498,
          -0.24976795826509604,
          -0.13238761145546304,
          -0.18760118862010353,
          -0.13676717417461068,
          -0.1661708756490129,
          -0.2814412356134581,
          -0.12618693352050203,
          -0.20441841479059863,
          -0.1524705516151364,
          -0.12792915657740667,
          -0.1995870243714162,
          -0.2234084487555252,
          -0.1694495210931543,
          -0.3597526561036906,
          -0.18635934354138403,
          -0.19682634836831825,
          -0.12792338592064784,
          -0.19679548049275639,
          -0.2078813645857869,
          -0.19794287651387696,
          -0.1572296545049987,
          -0.25156484879290647,
          -0.29423413763322204,
          -0.13219747099419876,
          -0.11119800268743141,
          -0.18534793414817438,
          -0.15566445665002487,
          -0.1538162407111049,
          -0.21647200464577582,
          -0.26192856915798196,
          -0.23681955268130175,
          -0.26690542106458176,
          -0.19565559210617586,
          -0.13241153307412012,
          -0.14325108721823016,
          -0.14727406837702545,
          -0.23252468062332557,
          -0.23234187193598807,
          -0.1787640235256868,
          -0.1700198455988268,
          -0.25941772291867493,
          -0.17308908433922285,
          -0.16703471599697364,
          -0.16927649317081594,
          -0.2142434022017516,
          -0.20580805332577562,
          -0.25299135799351,
          -0.3003961712123307,
          -0.21358593022765263,
          -0.13199143374223143,
          -0.20925163556301418,
          -0.10912144535761681,
          -0.19761207416291396,
          -0.18690560568678416,
          -0.1680434669801501,
          -0.107061444238907,
          -0.2439162957643799,
          0.0003351173034989093,
          -0.2016146687596275,
          -0.11441594339944729,
          0.03475945678095794,
          -0.08950958528424648,
          13.480622452207763,
          -3.848100990450107,
          -3.9231004215922387,
          -3.483634156785948,
          -3.590954633265142,
          -4.000097134564179,
          13.444574054451925,
          -3.9251640427086074,
          13.195286421728408,
          -3.9004214269066457,
          -3.827277711615758
         ],
         "z": [
          -2.311966623548192,
          -0.4924627093697752,
          -0.2209144505221226,
          -0.5738883005469518,
          -0.20698394799692027,
          0.3808578133598383,
          -0.6384157591779537,
          -0.616274166343536,
          -0.5360004294797046,
          -0.8950084969605369,
          -0.22152314037654236,
          -0.626607383326449,
          -0.6128223895507469,
          -0.5728861823699474,
          -0.48955343239934074,
          -0.5839512639848594,
          -0.6163408395095672,
          -0.6091439334303589,
          -0.6459900052997829,
          -0.49047222049483324,
          -0.0487991296623198,
          -0.6372122997881586,
          -0.24299654581579397,
          -0.24441935798307315,
          -0.5357553402859848,
          -0.5338642548255355,
          -0.5752655239394031,
          -0.5359858332275336,
          -0.5361255655755203,
          -0.4920037727216059,
          -0.585866876017505,
          -0.4924627093697752,
          -0.6027027087063112,
          -0.1797974599740413,
          -0.5844394461370901,
          -0.22201919664458203,
          -0.5359858332275336,
          -0.1606412663865725,
          -0.6448950060786927,
          -0.473156228319026,
          -0.4924627093697752,
          -0.6163408395095672,
          -0.8951000680845308,
          -0.5941094097353072,
          -0.5359858332275336,
          -0.6240303288132905,
          -0.6467619687941875,
          -0.5040198596961125,
          0.29916782700334354,
          -0.6235657310076902,
          -0.5931174194852601,
          -0.12104295823754525,
          -0.20698394799692027,
          -0.6154520989476682,
          -0.24171380785339264,
          -0.18056022370753805,
          -0.6364361508414056,
          -0.22152314037654236,
          -0.8950084969605369,
          -0.6459754871313327,
          -0.6366759133213982,
          -0.2327147626158316,
          -0.6253179416038325,
          -0.24616487586700161,
          -0.6264801143105614,
          -0.6459900052997829,
          -0.18056022370753805,
          -0.15542276777340427,
          -0.647330464043471,
          -0.45133537676769686,
          -0.6443721368590699,
          -0.626358322410931,
          -0.1819830813146737,
          -0.6459754871313327,
          -0.3215414118104262,
          -0.6448950060786927,
          -0.5158059702322054,
          -0.8950084969605369,
          -0.6452084965233971,
          -0.5158703976269923,
          -0.8950670823738596,
          -0.5623663708312011,
          -0.6297100826975168,
          -0.8948722544920674,
          -0.5157128058636753,
          -0.5158703976269923,
          -0.19340754627170012,
          -0.5738883005469518,
          -0.5329196662901958,
          -0.1819830813146737,
          -0.23085873090962747,
          -0.5489550520286105,
          -0.5359858332275336,
          -0.6174567746402702,
          -0.5515202513885812,
          -0.6151309694039011,
          -0.5040198596961125,
          -0.6456771651799904,
          -0.24357229011768067,
          -0.24616487586700161,
          -0.5359858332275336,
          -0.568415633540597,
          -0.5158703976269923,
          -0.6458936527335832,
          -0.17978535570721932,
          -0.5359858332275336,
          -0.6071435929431358,
          -0.5361028606986444,
          -0.5726809153210458,
          -0.15505926246136287,
          -0.6353879876467979,
          -0.13059260269548517,
          -0.5738883005469518,
          -0.6459754871313327,
          -0.5968427159922588,
          -0.24315119419224004,
          -0.5808319764017725,
          -0.5792647072027599,
          -0.5359858332275336,
          -0.15532398987741403,
          -0.6457534707201337,
          -0.5454065643908262,
          -0.6149262361690153,
          -0.24605464203188257,
          -0.2480163149198421,
          -0.48908084090144466,
          -0.5361028606986444,
          0.3934397440249019,
          -0.6223141549227308,
          -0.6477850371276143,
          -0.21958721541242032,
          -0.644988555091145,
          -0.45133537676769686,
          -0.6429498492644741,
          -0.45227306834240544,
          -0.5689381783957222,
          -0.5359858332275336,
          -0.24336695432233854,
          -0.5551605770128817,
          -0.6459754871313327,
          -0.5966281622042658,
          -0.9466417213251076,
          -0.6459781651030082,
          -0.6459754871313327,
          -0.45226530000571874,
          -0.5445593254304398,
          -0.4905609784829478,
          -0.24515644478635087,
          -0.14732404992613882,
          -0.24959045573476182,
          -0.6263541973146847,
          -0.6013725896396239,
          -0.5158703976269923,
          -0.4904927024400223,
          -0.20494730974243544,
          -0.6459754871313327,
          -0.24515644478635087,
          -0.645145954874207,
          -0.6002046332268339,
          -0.6431316328927636,
          -0.6459754871313327,
          -0.606184661516223,
          -0.5551610321832291,
          -0.15444036320152457,
          -0.24169159809275279,
          -0.24357229011768067,
          -0.23626283199074619,
          -0.6454805413180432,
          -0.6460461849392197,
          -0.5719504556501268,
          -0.5507971812286908,
          -0.5997700729455494,
          -0.24605464203188257,
          -0.015095094159336799,
          -0.6125944055365056,
          -0.645145954874207,
          -0.5333981771641381,
          -0.5334028467982413,
          -0.5359858332275336,
          -0.21290039169331237,
          0.5311423688902924,
          -0.2430285609611527,
          -0.6080480671741662,
          0.3884953893688603,
          -0.2480163149198421,
          -0.6459900052997829,
          -0.6460565143341034,
          -0.16955339341167205,
          -0.6459832690990581,
          -0.49047222049483324,
          -0.9381626001887186,
          -0.9467195824869479,
          0.43779989477189435,
          -0.6457963487741124,
          -0.6460730735456118,
          -0.24309481490089163,
          -0.2480888371274694,
          -0.6458365371277184,
          -0.9380404631875473,
          -0.6105363456819201,
          -0.13620840788368846,
          -0.6459754871313327,
          -0.5359858332275336,
          -0.5666987316150328,
          -0.5289782809999739,
          -0.45102719357859805,
          -0.21829332854922998,
          -0.6366154074164159,
          -0.17980853489195275,
          -0.6237635965877849,
          -0.01687173663016662,
          -0.17983027673796148,
          -0.20665665605135602,
          -0.6321033888514471,
          -0.6458325319836166,
          -0.6443306103000085,
          -0.10894658396428748,
          -0.11701237469793027,
          -0.194635525571577,
          -0.6459754871313327,
          -0.6154271588495527,
          0.05966046581415397,
          -0.5158703976269923,
          -0.4521757588796233,
          -0.5359858332275336,
          -0.24616487586700161,
          -0.18056909724164857,
          -0.6126946530658042,
          -0.6216676948950522,
          -0.2480163149198421,
          -0.6126677038528434,
          -0.6454734524766541,
          -0.17995533179761333,
          -0.6459754871313327,
          -0.6459754871313327,
          -0.5158703976269923,
          -0.4924627093697752,
          -0.24616487586700161,
          -0.010703295339395652,
          -0.9477280135675985,
          -0.6273759355579593,
          -0.2480163149198421,
          -0.2480163149198421,
          -0.6156046913079919,
          -0.6459900052997829,
          -0.2430117586506029,
          -0.5489550520286105,
          -0.6459754871313327,
          -0.21958721541242032,
          -0.243108003177503,
          0.36614020435742184,
          -0.6126282947071581,
          -0.5328871500378254,
          -0.6458825644812739,
          -0.24154264728288657,
          -0.24578698334588817,
          -0.6126946530658042,
          -0.22107937571329783,
          -0.6187104778985886,
          -0.9390582736584789,
          -0.6048829322975744,
          -0.604056272368353,
          -0.9383224054812644,
          -0.644988555091145,
          -0.45189837769172,
          -0.5795268555274935,
          -0.2480163149198421,
          0.8716501256035579,
          0.29016667337099544,
          -0.025997644116296393,
          0.5821471973479293,
          -0.043746772394386596,
          -0.04601509691896165,
          0.0386242535284652,
          0.26408569507448904,
          -0.9390582736584789,
          0.3880927361942048,
          -0.6258449584486918,
          -0.8368281724844028,
          -0.5915895106612796,
          -0.24279460062567682,
          -0.15075750609474925,
          -0.2423209797757175,
          -0.6066605973406631,
          -0.43708981973884137,
          -0.6372122997881586,
          -0.9381429041936049,
          -0.5321897576615168,
          -0.2479302420302981,
          -0.6370473483285412,
          -0.6013725896396239,
          -0.194054764862145,
          -0.5419576069930383,
          -0.2193481092483492,
          -0.6038990533502454,
          -0.9380662872151558,
          -0.20698394799692027,
          -0.5705252111943724,
          -0.6067391907705293,
          -0.242647791396464,
          -0.9379515721967517,
          -0.5831957518499549,
          -0.63681357766882,
          -0.5698883029398483,
          -0.6078680938495079,
          -0.6266129723825301,
          -0.9281108488471971,
          -0.2883814663442125,
          0.4689573493726703,
          -0.5715848211917849,
          -0.5091543317210008,
          -0.2425209806628269,
          -0.6371329929658825,
          -0.24454964707061805,
          -0.6261690663125843,
          -0.528300237582866,
          -0.5349614697907593,
          -0.17398693216934188,
          -0.2196995115885503,
          -0.9282178678831011,
          -0.1555175777523933,
          -0.6368456749279439,
          -0.6371329929658825,
          -0.6362790104344134,
          -0.184628834872759,
          -0.22928676779969026,
          -0.1425750487852819,
          -0.6048236407106856,
          -0.1833803481045636,
          -0.5868533034477321,
          -0.43678299566569323,
          -0.6370705623765758,
          -0.2425260160098904,
          -0.24252833043012856,
          -0.24222259036861224,
          -0.20795009224812078,
          -0.549751470653838,
          -0.9281108488471971,
          -0.6367550073853248,
          -0.5323959244222376,
          -0.23807379736497947,
          -0.5025091173059606,
          -0.6271664874650771,
          -0.5720256757131115,
          -0.6262416193716813,
          -0.22635845504825325,
          -0.6183474454093129,
          -0.49047222049483324,
          -0.18329051938061483,
          -0.6056807177884459,
          0.3875444839800033,
          -0.23111183827432474,
          -0.20698394799692027,
          -0.6371329929658825,
          -0.6055897020689313,
          -0.5730116432986337,
          -0.1915082401962778,
          -0.6371329929658825,
          -0.6367184773763123,
          0.062060303218992315,
          -0.605691088927337,
          -0.626358322410931,
          -0.20577856279258694,
          -0.6290973790640213,
          -0.24263349070361379,
          -0.0629938585087548,
          -0.626358322410931,
          -0.636664788807236,
          -0.6056726823656509,
          -0.5418617235625646,
          -0.48909272425189076,
          -0.2424448648825541,
          -0.9379665317344108,
          -0.605589174056918,
          -0.6055897020689313,
          -0.6092274232616488,
          -0.6161531415903013,
          -0.5839512639848594,
          -0.22035014847661616,
          -0.938553106298272,
          -0.2250355105277543,
          -0.4419538386364701,
          -0.6274745111244254,
          -0.626358322410931,
          0.07792043834154613,
          -0.5101710663786756,
          0.05786828045712475,
          -0.9119561585269967,
          -0.626358322410931,
          -0.24454964707061805,
          -0.6264653414468351,
          -0.6263943729112501,
          -0.5535245660099378,
          -0.6295934860619132,
          -0.1947539266283369,
          0.3875849617963445,
          -0.6364144835107056,
          -0.20686141978275863,
          -0.19823437415636827,
          -0.5318489820693343,
          -0.6048231855403383,
          -0.627771064651771,
          -0.6371329929658825,
          -0.6215261875516673,
          -0.5830506258069773,
          0.41008657870506043,
          -0.2198179181381393,
          -0.6055897020689313,
          -0.9390582736584789,
          -0.9383782031804746,
          -0.4895049770477609,
          -0.585866876017505,
          -0.6090251575435263,
          -0.5922084920739523,
          -0.6266052134451634,
          -0.626358322410931,
          -0.49052040934116997,
          -0.22070106455708155,
          -0.6322557758489501,
          -0.5604518776509035,
          -0.23557737638246692,
          -0.2290276111873733,
          -0.5098389856475639,
          -0.18669741134274298,
          -0.217764023959423,
          -0.12755464584199666,
          -0.3399619541182772,
          -0.5367477679160036,
          -0.616274166343536,
          -0.6264653414468351,
          -0.5359858332275336,
          -0.5140321454464024,
          -0.5334407422605201,
          -0.5723870910459746,
          -0.5140295601076351,
          -1.0632260417321948,
          -0.645145954874207,
          -0.5689381783957222,
          -0.5730134578198272,
          -0.1819830813146737,
          -0.3115352082189685,
          -0.5331173269718887,
          -0.6043409317015559,
          -0.5321897576615168,
          -0.6255473349974724,
          -0.5334179221410638,
          -0.5759236644809522,
          -0.21750554615628362,
          -0.5789814377005601,
          -0.5808241134695279,
          -0.49410971960780403,
          -0.5911677895593827,
          -0.626358322410931,
          -0.20921454627919525,
          -0.631722244713316,
          -0.21769005762049862,
          -0.5789814377005601,
          -0.5359858332275336,
          -0.21883861725191783,
          -0.6449670560506819,
          -0.5324231742981985,
          -0.6172394854522671,
          -0.24058742676188424,
          -0.8368281724844028,
          -0.179961160804946,
          -0.626848202955147,
          -0.508569472596758,
          -0.5485522073270541,
          -0.626358322410931,
          -0.24515644478635087,
          -0.1558076660527854,
          -0.6459754871313327,
          -0.628157340147127,
          -0.21659628791862057,
          -0.838445293612888,
          -0.6329370319102834,
          -0.22577670135220865,
          -0.5507971812286908,
          -0.6230342867852279,
          -0.6167901211875294,
          -0.543717612532214,
          -0.10325726465470003,
          -0.5730054395392871,
          0.3404062809195515,
          -0.04613640936770423,
          -0.123155473088363,
          -0.05251072780938643,
          -0.05251072780938643,
          -0.1561027336206367,
          -0.1561027336206367,
          -0.15437075016490046,
          -0.07881226366755666,
          1.9786726373316974,
          1.4807421615620995,
          1.5212319122658926,
          1.988072690889381,
          1.81517919075491,
          1.541537418566749,
          1.5498181852287993,
          1.5326614919266035,
          1.472685833704893,
          1.532812291241911,
          1.5097760582391935,
          1.783777507845558,
          1.5409378798782316,
          1.4896201888734129,
          1.9391184849452772,
          1.6150593264759483,
          1.5359368530728006,
          1.5027962638244903,
          0.9230459230097975,
          2.00355553548891,
          1.4994440914736487,
          1.5202779656890755,
          1.5610535636743237,
          1.5544482431369735,
          2.032076687820435,
          2.0340440239598414,
          1.1717535624410622,
          1.7854887253903684,
          1.488714870634137,
          1.5765724884561805,
          1.5014553188753206,
          1.642572812096297,
          1.976556463894541,
          1.9733037598427925,
          1.5059860419401971,
          2.0264680037341636,
          1.4140113228658413,
          2.0166695885809145,
          1.5399349047726814,
          1.378203492304605,
          1.1211299689481218,
          1.4976995883395794,
          2.0432791474443635,
          1.984418874445157,
          2.0173356328168257,
          1.5842767954774843,
          2.355423621080718,
          1.841718922199666,
          1.525627128605749,
          2.3415008870482747,
          1.5515384847828741,
          1.4821991575443358,
          1.8674265431268622,
          1.4847016529671224,
          1.9775659235869907,
          1.5322700480002867,
          1.5663285205851734,
          1.5162834509878815,
          2.0618676420167197,
          1.974026377916686,
          1.5208854758926913,
          1.5508964776056247,
          0.9167638556798813,
          1.561828343712181,
          1.5714311976729283,
          1.9591899244556124,
          1.552756429306851,
          1.4590476283446296,
          1.522078230916301,
          1.4929723129180874,
          1.4965916808373678,
          2.0304230594031525,
          1.4973702750622777,
          0.3804918378477032,
          1.4768087254731366,
          2.0458374634175565,
          1.4822948224930337,
          1.9487078942083027,
          1.5264276032846735,
          0.885791660754697,
          0.9172899482137525,
          1.5159543519088665,
          1.5317790101880209,
          1.3061727114454444,
          1.5376088927076461,
          1.5553902881778066,
          1.530268784466328,
          1.6088420259055092,
          1.9872325902879204,
          1.536478731752076,
          1.555707061410268,
          1.6051258869667677,
          0.8854987845134052,
          1.525914173105567,
          1.5576725301078092,
          2.0347833254027714,
          2.8995643121293857,
          1.4919961727205964,
          1.485219117621965,
          0.8868572508775221,
          1.532467450310776,
          1.9952505822769158,
          1.5140243529821287,
          1.493804372264729,
          2.014751326013789,
          1.8236533886281294,
          1.81429066309702,
          1.5480008393364895,
          1.4720221241713651,
          2.05122193021455,
          1.4844194055663096,
          1.515363167223004,
          2.01922160360215,
          1.647445271807774,
          1.5229468667337964,
          1.9746460171139908,
          1.5332343406734263,
          1.5233857539690496,
          1.5313351144204892,
          1.5356047369853894,
          1.535317869831957,
          2.0578657850663324,
          2.0606345701384736,
          2.0146067692936755,
          2.051934491823983,
          1.54327278027698,
          1.4674022941459588,
          1.9731908476565923,
          1.9998365671540848,
          1.9995049362322377,
          2.2644087228488363,
          1.9712728864366615,
          1.535633033636975,
          1.6383438085300985,
          1.568087175656523,
          1.9708658379054813,
          2.0023683878711753,
          1.4832746815578686,
          1.5710355301980252,
          2.0300250328370835,
          0.49188206885963554,
          1.4844097406418661,
          1.5553689581532613,
          0.556095558707211,
          -1.9522665780365263,
          0.5092341391343981,
          -1.2648821757062143,
          -1.6153345296665882,
          -2.02499211777187,
          -1.0057259099492615,
          -0.9875591104884904,
          0.4644734441966533,
          -1.5390341211605363,
          -0.11510529443970495,
          -1.4525470296054446,
          -2.1466288470594113
         ]
        }
       ],
       "layout": {
        "coloraxis": {
         "colorbar": {
          "title": {
           "text": "cluster"
          }
         },
         "colorscale": [
          [
           0,
           "#0d0887"
          ],
          [
           0.1111111111111111,
           "#46039f"
          ],
          [
           0.2222222222222222,
           "#7201a8"
          ],
          [
           0.3333333333333333,
           "#9c179e"
          ],
          [
           0.4444444444444444,
           "#bd3786"
          ],
          [
           0.5555555555555556,
           "#d8576b"
          ],
          [
           0.6666666666666666,
           "#ed7953"
          ],
          [
           0.7777777777777778,
           "#fb9f3a"
          ],
          [
           0.8888888888888888,
           "#fdca26"
          ],
          [
           1,
           "#f0f921"
          ]
         ]
        },
        "height": 700,
        "legend": {
         "tracegroupgap": 0
        },
        "scene": {
         "domain": {
          "x": [
           0,
           1
          ],
          "y": [
           0,
           1
          ]
         },
         "xaxis": {
          "title": {
           "text": "famd1"
          }
         },
         "yaxis": {
          "title": {
           "text": "famd2"
          }
         },
         "zaxis": {
          "title": {
           "text": "famd3"
          }
         }
        },
        "template": {
         "data": {
          "bar": [
           {
            "error_x": {
             "color": "#f2f5fa"
            },
            "error_y": {
             "color": "#f2f5fa"
            },
            "marker": {
             "line": {
              "color": "rgb(17,17,17)",
              "width": 0.5
             },
             "pattern": {
              "fillmode": "overlay",
              "size": 10,
              "solidity": 0.2
             }
            },
            "type": "bar"
           }
          ],
          "barpolar": [
           {
            "marker": {
             "line": {
              "color": "rgb(17,17,17)",
              "width": 0.5
             },
             "pattern": {
              "fillmode": "overlay",
              "size": 10,
              "solidity": 0.2
             }
            },
            "type": "barpolar"
           }
          ],
          "carpet": [
           {
            "aaxis": {
             "endlinecolor": "#A2B1C6",
             "gridcolor": "#506784",
             "linecolor": "#506784",
             "minorgridcolor": "#506784",
             "startlinecolor": "#A2B1C6"
            },
            "baxis": {
             "endlinecolor": "#A2B1C6",
             "gridcolor": "#506784",
             "linecolor": "#506784",
             "minorgridcolor": "#506784",
             "startlinecolor": "#A2B1C6"
            },
            "type": "carpet"
           }
          ],
          "choropleth": [
           {
            "colorbar": {
             "outlinewidth": 0,
             "ticks": ""
            },
            "type": "choropleth"
           }
          ],
          "contour": [
           {
            "colorbar": {
             "outlinewidth": 0,
             "ticks": ""
            },
            "colorscale": [
             [
              0,
              "#0d0887"
             ],
             [
              0.1111111111111111,
              "#46039f"
             ],
             [
              0.2222222222222222,
              "#7201a8"
             ],
             [
              0.3333333333333333,
              "#9c179e"
             ],
             [
              0.4444444444444444,
              "#bd3786"
             ],
             [
              0.5555555555555556,
              "#d8576b"
             ],
             [
              0.6666666666666666,
              "#ed7953"
             ],
             [
              0.7777777777777778,
              "#fb9f3a"
             ],
             [
              0.8888888888888888,
              "#fdca26"
             ],
             [
              1,
              "#f0f921"
             ]
            ],
            "type": "contour"
           }
          ],
          "contourcarpet": [
           {
            "colorbar": {
             "outlinewidth": 0,
             "ticks": ""
            },
            "type": "contourcarpet"
           }
          ],
          "heatmap": [
           {
            "colorbar": {
             "outlinewidth": 0,
             "ticks": ""
            },
            "colorscale": [
             [
              0,
              "#0d0887"
             ],
             [
              0.1111111111111111,
              "#46039f"
             ],
             [
              0.2222222222222222,
              "#7201a8"
             ],
             [
              0.3333333333333333,
              "#9c179e"
             ],
             [
              0.4444444444444444,
              "#bd3786"
             ],
             [
              0.5555555555555556,
              "#d8576b"
             ],
             [
              0.6666666666666666,
              "#ed7953"
             ],
             [
              0.7777777777777778,
              "#fb9f3a"
             ],
             [
              0.8888888888888888,
              "#fdca26"
             ],
             [
              1,
              "#f0f921"
             ]
            ],
            "type": "heatmap"
           }
          ],
          "heatmapgl": [
           {
            "colorbar": {
             "outlinewidth": 0,
             "ticks": ""
            },
            "colorscale": [
             [
              0,
              "#0d0887"
             ],
             [
              0.1111111111111111,
              "#46039f"
             ],
             [
              0.2222222222222222,
              "#7201a8"
             ],
             [
              0.3333333333333333,
              "#9c179e"
             ],
             [
              0.4444444444444444,
              "#bd3786"
             ],
             [
              0.5555555555555556,
              "#d8576b"
             ],
             [
              0.6666666666666666,
              "#ed7953"
             ],
             [
              0.7777777777777778,
              "#fb9f3a"
             ],
             [
              0.8888888888888888,
              "#fdca26"
             ],
             [
              1,
              "#f0f921"
             ]
            ],
            "type": "heatmapgl"
           }
          ],
          "histogram": [
           {
            "marker": {
             "pattern": {
              "fillmode": "overlay",
              "size": 10,
              "solidity": 0.2
             }
            },
            "type": "histogram"
           }
          ],
          "histogram2d": [
           {
            "colorbar": {
             "outlinewidth": 0,
             "ticks": ""
            },
            "colorscale": [
             [
              0,
              "#0d0887"
             ],
             [
              0.1111111111111111,
              "#46039f"
             ],
             [
              0.2222222222222222,
              "#7201a8"
             ],
             [
              0.3333333333333333,
              "#9c179e"
             ],
             [
              0.4444444444444444,
              "#bd3786"
             ],
             [
              0.5555555555555556,
              "#d8576b"
             ],
             [
              0.6666666666666666,
              "#ed7953"
             ],
             [
              0.7777777777777778,
              "#fb9f3a"
             ],
             [
              0.8888888888888888,
              "#fdca26"
             ],
             [
              1,
              "#f0f921"
             ]
            ],
            "type": "histogram2d"
           }
          ],
          "histogram2dcontour": [
           {
            "colorbar": {
             "outlinewidth": 0,
             "ticks": ""
            },
            "colorscale": [
             [
              0,
              "#0d0887"
             ],
             [
              0.1111111111111111,
              "#46039f"
             ],
             [
              0.2222222222222222,
              "#7201a8"
             ],
             [
              0.3333333333333333,
              "#9c179e"
             ],
             [
              0.4444444444444444,
              "#bd3786"
             ],
             [
              0.5555555555555556,
              "#d8576b"
             ],
             [
              0.6666666666666666,
              "#ed7953"
             ],
             [
              0.7777777777777778,
              "#fb9f3a"
             ],
             [
              0.8888888888888888,
              "#fdca26"
             ],
             [
              1,
              "#f0f921"
             ]
            ],
            "type": "histogram2dcontour"
           }
          ],
          "mesh3d": [
           {
            "colorbar": {
             "outlinewidth": 0,
             "ticks": ""
            },
            "type": "mesh3d"
           }
          ],
          "parcoords": [
           {
            "line": {
             "colorbar": {
              "outlinewidth": 0,
              "ticks": ""
             }
            },
            "type": "parcoords"
           }
          ],
          "pie": [
           {
            "automargin": true,
            "type": "pie"
           }
          ],
          "scatter": [
           {
            "marker": {
             "line": {
              "color": "#283442"
             }
            },
            "type": "scatter"
           }
          ],
          "scatter3d": [
           {
            "line": {
             "colorbar": {
              "outlinewidth": 0,
              "ticks": ""
             }
            },
            "marker": {
             "colorbar": {
              "outlinewidth": 0,
              "ticks": ""
             }
            },
            "type": "scatter3d"
           }
          ],
          "scattercarpet": [
           {
            "marker": {
             "colorbar": {
              "outlinewidth": 0,
              "ticks": ""
             }
            },
            "type": "scattercarpet"
           }
          ],
          "scattergeo": [
           {
            "marker": {
             "colorbar": {
              "outlinewidth": 0,
              "ticks": ""
             }
            },
            "type": "scattergeo"
           }
          ],
          "scattergl": [
           {
            "marker": {
             "line": {
              "color": "#283442"
             }
            },
            "type": "scattergl"
           }
          ],
          "scattermapbox": [
           {
            "marker": {
             "colorbar": {
              "outlinewidth": 0,
              "ticks": ""
             }
            },
            "type": "scattermapbox"
           }
          ],
          "scatterpolar": [
           {
            "marker": {
             "colorbar": {
              "outlinewidth": 0,
              "ticks": ""
             }
            },
            "type": "scatterpolar"
           }
          ],
          "scatterpolargl": [
           {
            "marker": {
             "colorbar": {
              "outlinewidth": 0,
              "ticks": ""
             }
            },
            "type": "scatterpolargl"
           }
          ],
          "scatterternary": [
           {
            "marker": {
             "colorbar": {
              "outlinewidth": 0,
              "ticks": ""
             }
            },
            "type": "scatterternary"
           }
          ],
          "surface": [
           {
            "colorbar": {
             "outlinewidth": 0,
             "ticks": ""
            },
            "colorscale": [
             [
              0,
              "#0d0887"
             ],
             [
              0.1111111111111111,
              "#46039f"
             ],
             [
              0.2222222222222222,
              "#7201a8"
             ],
             [
              0.3333333333333333,
              "#9c179e"
             ],
             [
              0.4444444444444444,
              "#bd3786"
             ],
             [
              0.5555555555555556,
              "#d8576b"
             ],
             [
              0.6666666666666666,
              "#ed7953"
             ],
             [
              0.7777777777777778,
              "#fb9f3a"
             ],
             [
              0.8888888888888888,
              "#fdca26"
             ],
             [
              1,
              "#f0f921"
             ]
            ],
            "type": "surface"
           }
          ],
          "table": [
           {
            "cells": {
             "fill": {
              "color": "#506784"
             },
             "line": {
              "color": "rgb(17,17,17)"
             }
            },
            "header": {
             "fill": {
              "color": "#2a3f5f"
             },
             "line": {
              "color": "rgb(17,17,17)"
             }
            },
            "type": "table"
           }
          ]
         },
         "layout": {
          "annotationdefaults": {
           "arrowcolor": "#f2f5fa",
           "arrowhead": 0,
           "arrowwidth": 1
          },
          "autotypenumbers": "strict",
          "coloraxis": {
           "colorbar": {
            "outlinewidth": 0,
            "ticks": ""
           }
          },
          "colorscale": {
           "diverging": [
            [
             0,
             "#8e0152"
            ],
            [
             0.1,
             "#c51b7d"
            ],
            [
             0.2,
             "#de77ae"
            ],
            [
             0.3,
             "#f1b6da"
            ],
            [
             0.4,
             "#fde0ef"
            ],
            [
             0.5,
             "#f7f7f7"
            ],
            [
             0.6,
             "#e6f5d0"
            ],
            [
             0.7,
             "#b8e186"
            ],
            [
             0.8,
             "#7fbc41"
            ],
            [
             0.9,
             "#4d9221"
            ],
            [
             1,
             "#276419"
            ]
           ],
           "sequential": [
            [
             0,
             "#0d0887"
            ],
            [
             0.1111111111111111,
             "#46039f"
            ],
            [
             0.2222222222222222,
             "#7201a8"
            ],
            [
             0.3333333333333333,
             "#9c179e"
            ],
            [
             0.4444444444444444,
             "#bd3786"
            ],
            [
             0.5555555555555556,
             "#d8576b"
            ],
            [
             0.6666666666666666,
             "#ed7953"
            ],
            [
             0.7777777777777778,
             "#fb9f3a"
            ],
            [
             0.8888888888888888,
             "#fdca26"
            ],
            [
             1,
             "#f0f921"
            ]
           ],
           "sequentialminus": [
            [
             0,
             "#0d0887"
            ],
            [
             0.1111111111111111,
             "#46039f"
            ],
            [
             0.2222222222222222,
             "#7201a8"
            ],
            [
             0.3333333333333333,
             "#9c179e"
            ],
            [
             0.4444444444444444,
             "#bd3786"
            ],
            [
             0.5555555555555556,
             "#d8576b"
            ],
            [
             0.6666666666666666,
             "#ed7953"
            ],
            [
             0.7777777777777778,
             "#fb9f3a"
            ],
            [
             0.8888888888888888,
             "#fdca26"
            ],
            [
             1,
             "#f0f921"
            ]
           ]
          },
          "colorway": [
           "#636efa",
           "#EF553B",
           "#00cc96",
           "#ab63fa",
           "#FFA15A",
           "#19d3f3",
           "#FF6692",
           "#B6E880",
           "#FF97FF",
           "#FECB52"
          ],
          "font": {
           "color": "#f2f5fa"
          },
          "geo": {
           "bgcolor": "rgb(17,17,17)",
           "lakecolor": "rgb(17,17,17)",
           "landcolor": "rgb(17,17,17)",
           "showlakes": true,
           "showland": true,
           "subunitcolor": "#506784"
          },
          "hoverlabel": {
           "align": "left"
          },
          "hovermode": "closest",
          "mapbox": {
           "style": "dark"
          },
          "paper_bgcolor": "rgb(17,17,17)",
          "plot_bgcolor": "rgb(17,17,17)",
          "polar": {
           "angularaxis": {
            "gridcolor": "#506784",
            "linecolor": "#506784",
            "ticks": ""
           },
           "bgcolor": "rgb(17,17,17)",
           "radialaxis": {
            "gridcolor": "#506784",
            "linecolor": "#506784",
            "ticks": ""
           }
          },
          "scene": {
           "xaxis": {
            "backgroundcolor": "rgb(17,17,17)",
            "gridcolor": "#506784",
            "gridwidth": 2,
            "linecolor": "#506784",
            "showbackground": true,
            "ticks": "",
            "zerolinecolor": "#C8D4E3"
           },
           "yaxis": {
            "backgroundcolor": "rgb(17,17,17)",
            "gridcolor": "#506784",
            "gridwidth": 2,
            "linecolor": "#506784",
            "showbackground": true,
            "ticks": "",
            "zerolinecolor": "#C8D4E3"
           },
           "zaxis": {
            "backgroundcolor": "rgb(17,17,17)",
            "gridcolor": "#506784",
            "gridwidth": 2,
            "linecolor": "#506784",
            "showbackground": true,
            "ticks": "",
            "zerolinecolor": "#C8D4E3"
           }
          },
          "shapedefaults": {
           "line": {
            "color": "#f2f5fa"
           }
          },
          "sliderdefaults": {
           "bgcolor": "#C8D4E3",
           "bordercolor": "rgb(17,17,17)",
           "borderwidth": 1,
           "tickwidth": 0
          },
          "ternary": {
           "aaxis": {
            "gridcolor": "#506784",
            "linecolor": "#506784",
            "ticks": ""
           },
           "baxis": {
            "gridcolor": "#506784",
            "linecolor": "#506784",
            "ticks": ""
           },
           "bgcolor": "rgb(17,17,17)",
           "caxis": {
            "gridcolor": "#506784",
            "linecolor": "#506784",
            "ticks": ""
           }
          },
          "title": {
           "x": 0.05
          },
          "updatemenudefaults": {
           "bgcolor": "#506784",
           "borderwidth": 0
          },
          "xaxis": {
           "automargin": true,
           "gridcolor": "#283442",
           "linecolor": "#506784",
           "ticks": "",
           "title": {
            "standoff": 15
           },
           "zerolinecolor": "#283442",
           "zerolinewidth": 2
          },
          "yaxis": {
           "automargin": true,
           "gridcolor": "#283442",
           "linecolor": "#506784",
           "ticks": "",
           "title": {
            "standoff": 15
           },
           "zerolinecolor": "#283442",
           "zerolinewidth": 2
          }
         }
        },
        "title": {
         "text": "FAMD - 3 components"
        },
        "width": 950
       }
      },
      "text/html": [
       "<div>                            <div id=\"b86e8a63-bef7-4949-a5bb-5c0d5e127606\" class=\"plotly-graph-div\" style=\"height:700px; width:950px;\"></div>            <script type=\"text/javascript\">                require([\"plotly\"], function(Plotly) {                    window.PLOTLYENV=window.PLOTLYENV || {};                                    if (document.getElementById(\"b86e8a63-bef7-4949-a5bb-5c0d5e127606\")) {                    Plotly.newPlot(                        \"b86e8a63-bef7-4949-a5bb-5c0d5e127606\",                        [{\"hovertemplate\":\"famd1=%{x}<br>famd2=%{y}<br>famd3=%{z}<br>cluster=%{marker.color}<extra></extra>\",\"legendgroup\":\"\",\"marker\":{\"color\":[-1,10,30,12,21,1,18,27,17,2,30,25,27,-1,10,-1,27,15,22,10,-1,18,23,24,17,16,-1,17,17,10,-1,10,-1,20,14,28,17,19,22,6,10,27,2,-1,17,25,22,7,1,-1,-1,-1,21,27,23,20,-1,30,2,11,-1,28,26,24,25,22,20,19,22,6,22,25,20,11,-1,22,7,2,22,7,2,-1,-1,2,7,7,-1,12,16,20,28,8,17,26,8,27,7,11,23,24,17,13,7,11,20,17,15,17,12,19,22,19,12,11,15,23,-1,-1,17,19,18,-1,27,24,23,10,17,1,-1,18,21,11,6,-1,6,13,17,23,-1,11,15,2,11,11,6,-1,10,24,19,29,26,15,7,10,21,11,24,11,-1,11,11,15,-1,19,23,23,28,11,11,12,8,-1,24,-1,27,11,16,16,17,21,1,23,-1,1,23,22,11,-1,11,10,2,2,1,11,11,23,29,11,2,-1,-1,11,17,13,8,6,21,-1,20,26,-1,20,21,25,11,22,-1,-1,-1,11,27,-1,7,6,17,24,20,-1,26,23,27,11,20,11,11,7,10,24,-1,2,26,23,23,27,22,23,8,11,21,23,1,27,16,11,23,24,-1,28,26,2,15,-1,2,11,6,14,23,3,1,-1,1,-1,-1,-1,-1,2,1,25,2,-1,29,-1,29,15,-1,18,2,8,29,18,15,-1,8,21,15,2,21,12,15,29,2,14,18,12,15,25,2,-1,1,-1,9,29,18,29,25,-1,8,20,-1,2,19,18,18,25,20,30,-1,15,20,-1,-1,18,29,29,29,-1,-1,2,-1,8,29,9,25,14,25,28,26,10,20,15,1,28,21,18,15,13,-1,18,18,-1,15,25,21,-1,29,-1,25,18,15,8,10,29,2,15,15,15,27,-1,30,2,-1,6,25,25,-1,9,-1,2,25,29,25,25,-1,-1,-1,1,25,21,-1,8,15,25,18,-1,14,1,-1,15,2,2,-1,-1,-1,-1,25,25,10,21,-1,-1,-1,21,9,-1,30,-1,-1,-1,27,25,17,9,16,12,9,-1,11,13,13,20,-1,16,15,8,26,16,14,21,-1,14,10,-1,25,-1,-1,21,-1,17,30,11,8,-1,-1,2,20,25,9,-1,25,24,19,11,-1,-1,2,26,28,8,-1,-1,-1,-1,13,1,-1,-1,-1,-1,-1,-1,-1,-1,4,5,5,4,4,5,5,5,5,5,5,4,5,5,4,5,5,5,3,4,5,5,5,5,4,4,3,4,5,5,5,5,4,4,5,4,5,4,5,5,3,5,4,4,4,5,-1,4,5,-1,5,5,4,5,4,5,5,5,4,4,5,5,3,5,5,4,5,5,5,5,5,4,5,1,5,4,5,4,5,3,3,5,5,-1,5,5,5,5,4,5,5,5,3,5,5,4,-1,5,5,3,5,4,5,5,4,4,-1,5,5,4,5,5,4,5,5,4,5,5,5,5,5,4,4,4,4,5,5,4,4,4,-1,4,5,5,5,4,4,5,5,4,1,5,5,-1,-1,-1,0,0,0,0,0,-1,0,-1,0,0],\"coloraxis\":\"coloraxis\",\"opacity\":0.5,\"symbol\":\"circle\"},\"mode\":\"markers\",\"name\":\"\",\"scene\":\"scene\",\"showlegend\":false,\"x\":[2.2953057907674155,-0.3745820156926541,-0.2170011353434023,-0.3479356953484719,-0.22296937136200526,-0.13329990307489634,-0.3144057050306202,-0.3228556368624482,-0.38271782614032834,-0.4010305993509977,-0.21687005246160052,-0.33986211434025704,-0.32457341799293377,-0.39294023566418745,-0.37447437263328165,-0.36130762243599257,-0.32283451894725507,-0.3355380094840122,-0.3177749627456338,-0.3741431581910738,-0.1475884059316039,-0.31537120814519715,-0.22003864587674538,-0.23218179279351198,-0.3828319258518366,-0.3835186853892782,-0.39070753495924876,-0.3827135086576237,-0.3826605267708155,-0.3746195296081833,-0.3510896713681467,-0.3745820156926541,-0.34489503167086344,-0.2404670322961077,-0.34260702454793157,-0.23905984598473828,-0.3827135086576237,-0.2717869423790145,-0.3129208926484179,-0.37762489118711867,-0.3745820156926541,-0.32283451894725507,-0.4010645193788898,-0.33373524618622724,-0.3827135086576237,-0.34795821259293913,-0.3177981335565384,-0.36579519676989,-0.14820174382919202,-0.3139422537599022,-0.3350760216195808,-0.2545843492345681,-0.22296937136200526,-0.3232187542340203,-0.22078550626301793,-0.2322450595584691,-0.3443350426638088,-0.21687005246160052,-0.4010305993509977,-0.3343108220458973,-0.3440791011895174,-0.23633601539418814,-0.32272276946036815,-0.22850302288475008,-0.33985687644483903,-0.3177749627456338,-0.2322450595584691,-0.27404065858158205,-0.3170599193187546,-0.3870254609293368,-0.3187119585961959,-0.33992100737184217,-0.23951758764447395,-0.3343108220458973,-0.26533409911607936,-0.3129208926484179,-0.36237609603168147,-0.4010305993509977,-0.31848942661649343,-0.3623437025236642,-0.4010546804655002,-0.34629635847399465,-0.3380555361263623,-0.40109178332521483,-0.3624189175954249,-0.3623437025236642,-0.24658628023904655,-0.3479356953484719,-0.38430785516930066,-0.23951758764447395,-0.23975964221881024,-0.3519155006207412,-0.3827135086576237,-0.3278228345318772,-0.3510555948030949,-0.3234635409464809,-0.36579519676989,-0.33529143430336994,-0.2211755376051612,-0.22850302288475008,-0.3827135086576237,-0.35735204463777553,-0.3623437025236642,-0.33479135624737766,-0.24041413164312028,-0.3827135086576237,-0.3352783854311015,-0.38263903691651613,-0.3479606490511215,-0.2744587368803593,-0.32169180683697995,-0.27390195169321613,-0.3479356953484719,-0.3343108220458973,-0.3344803083074098,-0.21997022161486604,-0.3130568366042492,-0.33733648321540205,-0.3827135086576237,-0.2741045582137306,-0.31431454420108274,-0.39512606797286054,-0.32338337514840326,-0.22894976307518788,-0.22077357342710016,-0.3747122560630731,-0.38263903691651613,-0.1442764763539213,-0.3483300893783793,-0.3138564896813186,-0.25076683487509766,-0.3363694233857343,-0.3870254609293368,-0.32577391062285693,-0.38668183543326234,-0.35778540491880506,-0.3827135086576237,-0.2214166708793647,-0.379920286701522,-0.3343108220458973,-0.3346088894950667,-0.38511627809913346,-0.3343095249273748,-0.3343108220458973,-0.38668756778499597,-0.39540694413251787,-0.37408843832756133,-0.23051885849275752,-0.2822586996039517,-0.21368826059761686,-0.32720909091716927,-0.33587189536211165,-0.3623437025236642,-0.37407477359346236,-0.23060744220479273,-0.3343108220458973,-0.23051885849275752,-0.33600243409044706,-0.3364691429910261,-0.34045995025695647,-0.3343108220458973,-0.3356469233322528,-0.379919642902472,-0.2750220442300881,-0.2205427422624942,-0.2211755376051612,-0.23843079682658672,-0.33576657006005745,-0.3342518173634674,-0.34836788249315775,-0.351816841881844,-0.33674769273695915,-0.22894976307518788,-0.21784165096469374,-0.32440565531225474,-0.33600243409044706,-0.3841798432729731,-0.38406800696027216,-0.3827135086576237,-0.25299460754019953,-0.16296793562960288,-0.21991007815427283,-0.3330739675523423,-0.11885328535573317,-0.22077357342710016,-0.3177749627456338,-0.33424062326586224,-0.23615681743679623,-0.3343033568244391,-0.3741431581910738,-0.390292354943158,-0.3850735436733687,-0.1269777123557455,-0.33497376873945944,-0.33405904001309533,-0.22002906985043771,-0.20615902192110924,-0.33490851733207594,-0.3844581002195089,-0.3459016198242616,-0.29783937036024277,-0.3343108220458973,-0.3827135086576237,-0.3587291692342648,-0.35994462766222945,-0.387156804190059,-0.2511847400130129,-0.3441582382046104,-0.24032065936001273,-0.3254671566600836,-0.13616006289972774,-0.24036570930837284,-0.2298347373913034,-0.3349111912644267,-0.33485179258113973,-0.3148083983418343,-0.2627313256323446,-0.2562006260583425,-0.2435055385860398,-0.3343108220458973,-0.32334929880085816,-0.15593195023699474,-0.3623437025236642,-0.3867299943451475,-0.3827135086576237,-0.22850302288475008,-0.24016027764659312,-0.3588160726895274,-0.3259344993858509,-0.22077357342710016,-0.32459223257187064,-0.3357589913978942,-0.24052186676254406,-0.3343108220458973,-0.3343108220458973,-0.3623437025236642,-0.3745820156926541,-0.22850302288475008,-0.24148480269196054,-0.3830577080653612,-0.32431663348636885,-0.22077357342710016,-0.22077357342710016,-0.32314390427162387,-0.3177749627456338,-0.21999151473160003,-0.3519155006207412,-0.3343108220458973,-0.25076683487509766,-0.21987116228733805,-0.12324678728565842,-0.3243698091767137,-0.3841663698174016,-0.334790485463275,-0.22136533111164364,-0.22980200613761248,-0.3588160726895274,-0.24011487359925762,-0.32432818567793154,-0.389355202135925,-0.3359252647701411,-0.3345910300996402,-0.3901246691311823,-0.3363694233857343,-0.38676809712863225,-0.3461597964442315,-0.22077357342710016,0.13297345529899215,-0.06784400176938898,-0.34223238808269973,-0.12395060442120066,-0.3638068375053797,-0.3626686479529013,-0.36695700879972526,-0.22180020686328933,-0.389355202135925,-0.13361370781994303,-0.340308516218707,-0.4062378333461621,-0.35599274850416784,-0.20972891134659327,-0.2569818369985978,-0.2100143602361322,-0.33550639923133496,-0.2997576095411704,-0.31537120814519715,-0.39085568209316485,-0.3592882005036897,-0.20621188156509002,-0.31547876807606307,-0.33587189536211165,-0.2600472800137453,-0.35612088589684565,-0.24091499149879494,-0.3351136755903054,-0.3844596752057752,-0.22296937136200526,-0.3494717704651511,-0.3341157304128419,-0.2097645753719729,-0.3845411239942066,-0.3422671941671991,-0.31606736113228273,-0.34976100980915237,-0.3350139897556227,-0.3393347576198777,-0.3886678933913061,-0.30112459603853314,-0.1434671718691126,-0.34163948878794864,-0.36957782675636036,-0.20984552728778819,-0.315429240070859,-0.20902829716723134,-0.33981228936056823,-0.2828600942301589,-0.35741305014983177,-0.2350115342967659,-0.2232025417681008,-0.3882357885791673,-0.2550931290114435,-0.316031296095512,-0.315429240070859,-0.33999383488162405,-0.23679922538678438,-0.21367171528763854,-0.25030335211941346,-0.33636052437562874,-0.2367381009785747,-0.3580899823172843,-0.3005347671721443,-0.3154656411447084,-0.20998462799073356,-0.20985063477767696,-0.21008191461473102,-0.24424701056744513,-0.37570752829085047,-0.3886678933913061,-0.341278986031849,-0.36043106003793335,-0.21301643355065533,-0.37254164059573147,-0.33974662568442165,-0.3432794869694255,-0.3397331923747843,-0.234004490199421,-0.3257112543667414,-0.3741431581910738,-0.23673535031943602,-0.3359222974175851,-0.13545972924680583,-0.23820775477233602,-0.22296937136200526,-0.315429240070859,-0.33597548088753937,-0.3561746365350017,-0.24950505085353025,-0.315429240070859,-0.31611659959441873,-0.1697062789139383,-0.33603584612256276,-0.33992100737184217,-0.2301676402604826,-0.3194795144487857,-0.20990895301994497,-0.27859839741052345,-0.33992100737184217,-0.31587883046502174,-0.3359255171311342,-0.35615783105562165,-0.3747156809512713,-0.2099157369212044,-0.39060775514886276,-0.33597543942162983,-0.33597548088753937,-0.33522629671330856,-0.3231382504865916,-0.36130762243599257,-0.21704736330325894,-0.3900063464404685,-0.27296539823410443,-0.3910090096435704,-0.33836403994155534,-0.33992100737184217,-0.15939248049383326,-0.3686077607288621,-0.1361630332024147,-0.38173867111551363,-0.33992100737184217,-0.20902829716723134,-0.3394889025597034,-0.3399251975836159,-0.3722243249617246,-0.34274869958369963,-0.2599933031935206,-0.13521258592386465,-0.33571458325632775,-0.22309181513813361,-0.2449843887604015,-0.35917816740460756,-0.33636116817467876,-0.34072435481178137,-0.315429240070859,-0.33137947578238713,-0.3425784484754759,-0.15544958566732645,-0.22295572235001238,-0.33597548088753937,-0.389355202135925,-0.39053498169542616,-0.37939855220530255,-0.3510896713681467,-0.32923496037419475,-0.35494507265862096,-0.33976967421256843,-0.33992100737184217,-0.3740724973571109,-0.2341966621658555,-0.34082418135626436,-0.37759474154016176,-0.2158840076758327,-0.2308496638288155,-0.3688787990454888,-0.2530582350553437,-0.22153342551423116,-0.2548189225690346,-0.2621895683293807,-0.3905351850819175,-0.3228556368624482,-0.3394889025597034,-0.3827135086576237,-0.3667821127392635,-0.3840698503975007,-0.34855831129090437,-0.3667873460634806,0.925270251943173,-0.33600243409044706,-0.35778540491880506,-0.35616707752834287,-0.23951758764447395,-0.2555379790722017,-0.38402527632151146,-0.3357559221493862,-0.3592882005036897,-0.3266051836893813,-0.3840522022453946,-0.3433762424833945,-0.23730555599677644,-0.33747068906048944,-0.3398041533350263,-0.37136593105626603,-0.35561018759170004,-0.33992100737184217,-0.22342716121304756,-0.34040754827884906,-0.23716034508585004,-0.33747068906048944,-0.3827135086576237,-0.22067178736504497,-0.33632665765390474,-0.358998392836276,-0.3295338683805321,-0.24173083336627513,-0.4062378333461621,-0.24033785524001272,-0.3472671585617848,-0.36948298535637325,-0.3935140304854456,-0.33992100737184217,-0.23051885849275752,-0.27416919290898534,-0.3343108220458973,-0.33642716193166133,-0.22303838581162141,-0.43938836920109436,-0.3229947570590547,-0.24198462995984368,-0.351816841881844,-0.34958947682419056,-0.3474593684945071,-0.39652290736971485,-0.26606034139133267,-0.35569823362111574,-0.01398979426010743,-0.3626049324032962,-0.3337956705750235,-0.3360039695214572,-0.3360039695214572,-0.31419950760493287,-0.31419950760493287,-0.3178972350743058,-0.33778121386032617,0.28103205065910697,0.2621342546298017,0.23225942655721507,0.27435980341093597,0.2718839707521179,0.21014285143868464,0.22229317233278778,0.2252816577025195,0.24801510437425986,0.24371728405933551,0.25051760620207264,0.32371027216485093,0.2411321616240185,0.2067886739264813,0.24891308366161713,0.20301378206774556,0.200208457512942,0.25132884986958864,0.037106965260895505,0.2603434482785896,0.2443493591536081,0.24336237327922972,0.22579508057827102,0.19739738395982603,0.26093766492342296,0.23992256928828753,0.088612669835363,0.3203964662406209,0.2609656853356744,0.18792157114793534,0.25641567587501507,0.20127829681555542,0.25958239540376843,0.2816184283807731,0.2517283604714556,0.22406548261898726,0.10323935007228184,0.26674022952638243,0.23963205314184954,0.26068273744280346,0.02256220740279775,0.25305759998882665,0.4193767635384079,0.4157446779006271,0.26448198362450215,0.12762816915694764,0.4798227098856687,0.3158852906593977,0.2455358478253762,0.4890024880367261,0.19471589700110797,0.23989597748700311,0.30721119664709606,0.23863056913556466,0.2422860909790355,0.2437998309584012,0.2265613743138214,0.2390117301103151,0.24760941632629158,0.23383463509916172,0.24532833843055538,0.2374642149308891,0.06350370217046741,0.1800840457284679,0.1680911232079928,0.28591581383959136,0.19389443225198838,0.27258784144430775,0.24542911618630808,0.2454022867710667,0.23300641042271986,0.2599796917921324,0.2579919486078867,-0.06406787332027139,0.2539105797677716,0.2553086393351386,0.26311022157470537,0.29272085202811365,0.24482510645203395,0.07178948922870704,0.10438176669551953,0.2508413817906332,0.24066389867149504,0.14634328709826513,0.22010659600380034,0.23493511289436966,0.2260957467445287,0.20773186982640027,0.24732640741360548,0.21357599823306966,0.23561438711013719,0.2048838154656469,0.07461139126729859,0.24679033019076838,0.23357519371832183,0.3644676890330769,0.487708288095817,0.25969101800138983,0.2582804990673777,0.07401343292668262,0.2445093086829919,0.2710912883275296,0.25104614474871656,0.25365756350277857,0.26671190828455693,0.32376313228328474,0.10798078814544557,0.1893192454370413,0.264114863810454,0.20938075741773526,0.2255275958980575,0.24665552608580604,0.26363578493365253,0.20036743933515017,0.21509230540642263,0.26757506370378303,0.22117483598987636,0.23352286557706953,0.23324943334502815,0.23763276247618026,0.23775589125587002,0.39283863869264957,0.2230544011053483,0.26540310690209346,0.22831292860058897,0.23629165551910222,0.26944943248710473,0.2825929624198548,0.4328273740344167,0.2708544439288651,0.3458755188973167,0.2832626693874652,0.22018740193415368,0.20280801396501183,0.188465027298599,0.2588483236738529,0.25454228364226866,0.26246238265630817,0.18551189935059476,0.261736319582321,-0.21054751929097337,0.2554259111520543,0.19632024306576193,1.2714057356610475,4.275468725420706,7.7130575556933465,11.423846890084308,10.963300752309458,10.55087346510551,9.232806421354775,9.957749946806665,7.817888450400763,10.808878579982894,9.518845489919627,10.436239209786418,10.567835824296438],\"y\":[-0.20773639703515853,0.04185299079130019,0.028901862351155327,0.07063927152654756,-0.010194425528470422,-0.06093586380429605,0.04522659441562249,0.04675181343064386,0.10333595689095416,0.1082300526118582,0.029344781096511303,0.07728647592360721,0.04917407392166068,0.1112420710127069,0.03433047635427377,0.09362306900272829,0.046895605416506655,0.00034887872403874964,0.06423318432251289,0.034699251896891915,0.01194810322420698,0.041895173864263294,0.0017865042752422925,0.024269567774372426,0.10335244146548495,0.10350089362645673,0.10977869184653494,0.10333289455718937,0.1033250865210746,0.04101112533270984,-0.02943478198129058,0.04185299079130019,0.08201026674524606,-0.04783760153305933,-0.011928604991341397,0.05220452172913005,0.10333289455718937,0.07620824218163556,0.05860971809866988,-0.013859896079329139,0.04185299079130019,0.046895605416506655,0.10827059730515574,0.054848985076694466,0.10333289455718937,0.07944136283205662,0.06401196289302942,-0.004114626884328903,-0.18930250226720272,0.0044081171511857,0.0581985113886251,-0.04314712603480877,-0.010194425528470422,0.04692819111298056,-0.00011255169511062376,-0.019502484168043302,0.06699752089368324,0.029344781096511303,0.1082300526118582,0.05231198128795463,0.06679934790444368,0.04507491486233736,0.06226799065567123,0.02414743654042578,0.0773609391675918,0.06423318432251289,-0.019502484168043302,0.07744752434428279,0.06361747559793529,0.006355977418191321,0.06496782793602532,0.07739074892972302,-0.04618604313077151,0.05231198128795463,-0.01659343144345252,0.05860971809866988,-0.017537555423056118,0.1082300526118582,0.0647055294058163,-0.017427359308939492,0.10826342102332101,-0.007817449207218136,0.009227195813327465,0.10826097439019923,-0.017594693325471384,-0.017427359308939492,0.05906574419137187,0.07063927152654756,0.10406552114517567,-0.04618604313077151,0.046023178135358556,0.04939619532411639,0.10333289455718937,0.06604498188544751,0.05054183050023774,0.047921472794190484,-0.004114626884328903,0.050697464955993206,0.002351746544274454,0.02414743654042578,0.10333289455718937,0.08387021013570066,-0.017427359308939492,0.05104024231895087,-0.047736811452123246,0.10333289455718937,0.0007084984606847054,0.1032742041809077,0.06952039095985087,0.07772554866877776,0.06652963449779846,0.06848877773092255,0.07063927152654756,0.05231198128795463,0.005567481091157997,0.001977137052314011,-0.07283700386015594,0.03860444429707148,0.10333289455718937,0.07746019021435051,0.04150715455522268,0.11683333429832488,0.046273574150159515,0.02304775933037124,0.01156224260378784,0.03463841606606765,0.1032742041809077,-0.1478816388766109,0.08054037275599701,0.04274426558527252,-0.03867459570953328,0.052495606685903216,0.006355977418191321,0.030137382833452298,0.006929811188275332,0.08485013869074631,0.10333289455718937,0.0019645484067422904,0.1056309521385701,0.05231198128795463,0.005350092944894385,0.07419496715146753,0.05204873139366175,0.05231198128795463,0.006953248712561328,0.11702823564109072,0.03472239178367095,0.024470193349615463,0.08340853126577323,0.034118783785009474,0.06987287262675472,-1.0355304756698308e-05,-0.017427359308939492,0.034471164567334164,-0.029666274957714477,0.05231198128795463,0.024470193349615463,0.052524132601311516,0.0693255189985563,0.052181560386358905,0.05231198128795463,-2.9701651427738685e-05,0.10562861763705772,0.07812458528187126,-8.265641784745826e-05,0.002351746544274454,0.03956258735731648,0.050262652727944925,0.05207734266494359,0.06976911561335221,0.05240496585762902,0.06947597697536374,0.02304775933037124,-0.040314425325183145,0.04701203013366526,0.052524132601311516,0.104096337198171,0.10400118206310327,0.10333289455718937,-0.04804660568007097,-0.12377878849763349,0.0018768968668004598,0.06882491755330769,-0.1252829905718617,0.01156224260378784,0.06423318432251289,0.05203502805661394,0.014456309840430592,0.05202583477700904,0.034699251896891915,0.08997094119150648,0.07374871710122477,-0.09741552765505226,0.05090723144703139,0.05248553359995255,0.0019437803224832775,0.03098343057109186,0.05067486311102274,0.09217153765003483,-0.012804355507509307,0.09443717972373207,0.05231198128795463,0.10333289455718937,0.08502028502131126,0.04677663288367314,0.00647131153141981,-0.04056341734882652,0.06683227006753455,-0.04753055847460818,0.06628372651091187,0.009346612360870908,-0.047662732635887835,-0.028152306686845298,0.07386170816997317,0.05127251623950214,0.061559797222289034,0.018189031807823306,-0.045517219674550094,0.05629123055215873,0.05231198128795463,0.0481253703569813,-0.06951398702356007,-0.017427359308939492,0.006892292349484113,0.10333289455718937,0.02414743654042578,-0.047287470329928485,-0.019827733980964983,0.06563609674309902,0.01156224260378784,0.0488286041052358,0.05024405317137309,-0.04803636883779426,0.05231198128795463,0.05231198128795463,-0.017427359308939492,0.04185299079130019,0.02414743654042578,-0.026411173648103484,0.07342596029203509,0.06654683098724587,0.01156224260378784,0.01156224260378784,0.04684294238305597,0.06423318432251289,0.001885812303333729,0.04939619532411639,0.05231198128795463,-0.03867459570953328,0.0019560185353024156,-0.08249409037689878,0.04687594937455919,0.10390434668472139,0.05104543617597832,-0.0004960215028983341,0.021267930107847825,-0.019827733980964983,0.05282379067809333,0.059129854078449985,0.08923655733317921,-0.0005475661807450969,0.06869033298289613,0.08984803517463956,0.052495606685903216,0.006180004273639541,-0.01945962291038582,0.01156224260378784,-0.10568221154717054,-0.09090984850593618,-0.06359813257630985,-0.12149073320923183,0.057722581268492286,0.057182192808320355,-0.03987629311988605,0.00401378694302524,0.08923655733317921,-0.055308305947675176,0.07768027950658374,0.06874475755277819,0.09010645799266649,0.03355518941550441,0.053253920441197505,0.03375505610803423,0.00022118309153515837,0.037400423554471304,0.041895173864263294,0.08968518227408043,0.050154616851570265,0.031004316712079562,0.04157677064246555,-1.0355304756698308e-05,0.06769123508211099,0.054395216603781,-0.034781065894895366,0.0012230576526482855,0.09215802720031331,-0.010194425528470422,0.07088728791472453,0.00302804786872076,0.033513987067168086,0.092236847346895,-0.01055824412802107,0.03946431906669117,0.0709582125476104,0.0011672039772675676,0.07718000807035419,0.09850472793380345,0.005071179258926659,-0.08005510452814069,0.002971496127208946,0.05162826027695075,0.033599887173820966,0.04161833921482085,0.03346056002152014,0.07744370566012213,0.07034018318627461,0.046954503336158714,-0.024186392803712077,0.04115137930071212,0.09836593620190842,0.05322388853338659,0.03958612347385495,0.04161833921482085,0.06976721466136084,-0.04009314973887025,0.029772874852077028,0.02692400177672291,-0.0014621421563396934,-0.03939308804707311,0.09128498388900033,0.04055994857141002,0.041519228446060666,0.03377322688857927,0.033610586428910315,0.03377885357803576,0.05785295378464027,0.09994200846357577,0.09850472793380345,0.0685508367389396,0.055118842001122534,0.03586547930270129,0.05198562259714553,0.07704158705951326,-0.005859955442444461,0.077402312086971,0.049279160912593274,0.06241989555778646,0.034699251896891915,-0.03933757643636482,-0.0006115172819048182,-0.05559727570034318,0.046143931018581316,-0.010194425528470422,0.04161833921482085,-0.0006378422125542969,0.08463393067109808,0.06129909444052935,0.04161833921482085,0.03942859382178607,0.00881060276896314,-0.000779039026235467,0.07739074892972302,-0.028802139633558706,0.05793741959960588,0.03371759693976327,-0.00266285809759017,0.07739074892972302,0.04026841290048853,-0.0005957327325733408,0.05432167488257008,0.03464062785746386,0.033616079829755015,0.09006625488475466,-0.0006375948860298489,-0.0006378422125542969,0.0008599872068377934,0.0487495498597981,0.09362306900272829,0.028162383551852282,0.08957134507966276,-0.014689980816294279,0.007732480323723157,0.07662249373773941,0.07739074892972302,-0.04490999489806356,0.049418299401018946,-0.08284735753161694,0.09123170579152612,0.07739074892972302,0.03346056002152014,0.07725195719782797,0.07737810507599654,0.09718253888110111,0.007236929747894769,0.06753842462820563,-0.055568015746180616,0.07097777692853116,-0.010496638244430203,0.05833967700610756,0.04902513729210627,-0.0014598076548273233,0.07683211681211449,0.04161833921482085,0.07295732306941237,-0.011284092492635718,-0.04117613851798544,0.04081098698130771,-0.0006378422125542969,0.08923655733317921,0.08954532994008109,0.056683404230474486,-0.02943478198129058,0.06128949608735704,0.08922449715764026,0.07725674913910592,0.07739074892972302,0.03418699857489674,-0.028674104904827476,0.011422192784018145,0.1043727869291644,0.03836508975026961,-0.019077450122831054,0.049986763799527864,0.06373105505888385,0.037064792562800625,0.01854756276126554,-0.04135472196377346,0.11202558036257149,0.04675181343064386,0.07725195719782797,0.10333289455718937,0.04868286421204605,0.10397989592831747,0.07056658031993872,0.04870104557110076,-0.22678035814605044,0.052524132601311516,0.08485013869074631,0.08460903938861215,-0.04618604313077151,-0.08325808141055553,0.10381423797074366,-0.00017486355498523158,0.050154616851570265,0.06882072498583111,0.10394108823960832,-0.009625817517707292,-0.033670188054665824,0.03871093696361026,-0.0006026982022502382,0.026264357620292677,0.089727742806133,0.07739074892972302,0.03312495133982819,0.010759609801941,-0.03348327495078797,0.03871093696361026,0.10333289455718937,0.036181178544493625,0.05263473809714431,0.04934067414870622,0.01185001811269629,0.015903478895244863,0.06874475755277819,-0.04758578683892677,0.07733173616616619,0.05020579228526178,0.11573148206269528,0.07739074892972302,0.024470193349615463,0.07757411448621854,0.05231198128795463,0.00859673767866695,0.0389939315202798,0.1332533404466313,0.06720008539043038,0.05016287980073724,0.05240496585762902,0.08009852430980378,-0.009316587501238347,0.11776771782219932,0.022091813610028457,0.08392306765867387,-0.012509419235847096,0.057154021822698506,0.039879868171798664,0.008932228664432386,0.008932228664432386,0.006141208020584272,0.006141208020584272,0.006312860345653858,0.03867983226937174,-0.23118819477483057,-0.18863759301317612,-0.14084397817033567,-0.24919263070740713,-0.2270978181699031,-0.1239528251905569,-0.14079285171846515,-0.13663517707454412,-0.15777273964964852,-0.1822416648466953,-0.1661339894685524,-0.2461078718035225,-0.19127254070235364,-0.16184909581934212,-0.2089768131731146,-0.15935619105775478,-0.23118746627944567,-0.1600105412104843,-0.09521084879233668,-0.27800985403665956,-0.1475618721105497,-0.2237827255395893,-0.15811567125290849,-0.11509060887423603,-0.24304668124221995,-0.18041519110465473,-0.08651772659257162,-0.2448338940757379,-0.17261119537335515,-0.10960346560240072,-0.18070598356340178,-0.21149306306421997,-0.19301279178792852,-0.2353059331339623,-0.20606561682504293,-0.16616661202847505,-0.22557059745511457,-0.24359492575266453,-0.21998123432182737,-0.17925975591081322,-0.1269569473495089,-0.20635089381363467,-0.27381601905204245,-0.25224844224182436,-0.2602554749004902,-0.08261539368113176,-0.28626729015764196,-0.30949591574865726,-0.21054132507510404,-0.2926967446753409,-0.11342747118881444,-0.2113169285149445,-0.28903168613374935,-0.148205456981968,-0.19670440968206793,-0.18108524077152197,-0.16780723177269066,-0.1474429863409821,-0.23009726041182138,-0.21658694453827562,-0.21713635663533914,-0.19998919254515402,-0.14092826584471196,-0.10440620411970324,-0.0971661209194993,-0.20810579778480454,-0.11282426430100796,-0.16882577645730895,-0.21557068699788037,-0.21798817373435952,-0.2312554997668329,-0.22399777445733468,-0.1795363214511295,-0.08203980666340384,-0.19896335880169935,-0.2390691168778294,-0.18362946945233607,-0.21264300138843314,-0.21315454532106964,-0.1214841024635907,-0.017824705290056878,-0.19078071261324378,-0.16495683134814498,-0.24976795826509604,-0.13238761145546304,-0.18760118862010353,-0.13676717417461068,-0.1661708756490129,-0.2814412356134581,-0.12618693352050203,-0.20441841479059863,-0.1524705516151364,-0.12792915657740667,-0.1995870243714162,-0.2234084487555252,-0.1694495210931543,-0.3597526561036906,-0.18635934354138403,-0.19682634836831825,-0.12792338592064784,-0.19679548049275639,-0.2078813645857869,-0.19794287651387696,-0.1572296545049987,-0.25156484879290647,-0.29423413763322204,-0.13219747099419876,-0.11119800268743141,-0.18534793414817438,-0.15566445665002487,-0.1538162407111049,-0.21647200464577582,-0.26192856915798196,-0.23681955268130175,-0.26690542106458176,-0.19565559210617586,-0.13241153307412012,-0.14325108721823016,-0.14727406837702545,-0.23252468062332557,-0.23234187193598807,-0.1787640235256868,-0.1700198455988268,-0.25941772291867493,-0.17308908433922285,-0.16703471599697364,-0.16927649317081594,-0.2142434022017516,-0.20580805332577562,-0.25299135799351,-0.3003961712123307,-0.21358593022765263,-0.13199143374223143,-0.20925163556301418,-0.10912144535761681,-0.19761207416291396,-0.18690560568678416,-0.1680434669801501,-0.107061444238907,-0.2439162957643799,0.0003351173034989093,-0.2016146687596275,-0.11441594339944729,0.03475945678095794,-0.08950958528424648,13.480622452207763,-3.848100990450107,-3.9231004215922387,-3.483634156785948,-3.590954633265142,-4.000097134564179,13.444574054451925,-3.9251640427086074,13.195286421728408,-3.9004214269066457,-3.827277711615758],\"z\":[-2.311966623548192,-0.4924627093697752,-0.2209144505221226,-0.5738883005469518,-0.20698394799692027,0.3808578133598383,-0.6384157591779537,-0.616274166343536,-0.5360004294797046,-0.8950084969605369,-0.22152314037654236,-0.626607383326449,-0.6128223895507469,-0.5728861823699474,-0.48955343239934074,-0.5839512639848594,-0.6163408395095672,-0.6091439334303589,-0.6459900052997829,-0.49047222049483324,-0.0487991296623198,-0.6372122997881586,-0.24299654581579397,-0.24441935798307315,-0.5357553402859848,-0.5338642548255355,-0.5752655239394031,-0.5359858332275336,-0.5361255655755203,-0.4920037727216059,-0.585866876017505,-0.4924627093697752,-0.6027027087063112,-0.1797974599740413,-0.5844394461370901,-0.22201919664458203,-0.5359858332275336,-0.1606412663865725,-0.6448950060786927,-0.473156228319026,-0.4924627093697752,-0.6163408395095672,-0.8951000680845308,-0.5941094097353072,-0.5359858332275336,-0.6240303288132905,-0.6467619687941875,-0.5040198596961125,0.29916782700334354,-0.6235657310076902,-0.5931174194852601,-0.12104295823754525,-0.20698394799692027,-0.6154520989476682,-0.24171380785339264,-0.18056022370753805,-0.6364361508414056,-0.22152314037654236,-0.8950084969605369,-0.6459754871313327,-0.6366759133213982,-0.2327147626158316,-0.6253179416038325,-0.24616487586700161,-0.6264801143105614,-0.6459900052997829,-0.18056022370753805,-0.15542276777340427,-0.647330464043471,-0.45133537676769686,-0.6443721368590699,-0.626358322410931,-0.1819830813146737,-0.6459754871313327,-0.3215414118104262,-0.6448950060786927,-0.5158059702322054,-0.8950084969605369,-0.6452084965233971,-0.5158703976269923,-0.8950670823738596,-0.5623663708312011,-0.6297100826975168,-0.8948722544920674,-0.5157128058636753,-0.5158703976269923,-0.19340754627170012,-0.5738883005469518,-0.5329196662901958,-0.1819830813146737,-0.23085873090962747,-0.5489550520286105,-0.5359858332275336,-0.6174567746402702,-0.5515202513885812,-0.6151309694039011,-0.5040198596961125,-0.6456771651799904,-0.24357229011768067,-0.24616487586700161,-0.5359858332275336,-0.568415633540597,-0.5158703976269923,-0.6458936527335832,-0.17978535570721932,-0.5359858332275336,-0.6071435929431358,-0.5361028606986444,-0.5726809153210458,-0.15505926246136287,-0.6353879876467979,-0.13059260269548517,-0.5738883005469518,-0.6459754871313327,-0.5968427159922588,-0.24315119419224004,-0.5808319764017725,-0.5792647072027599,-0.5359858332275336,-0.15532398987741403,-0.6457534707201337,-0.5454065643908262,-0.6149262361690153,-0.24605464203188257,-0.2480163149198421,-0.48908084090144466,-0.5361028606986444,0.3934397440249019,-0.6223141549227308,-0.6477850371276143,-0.21958721541242032,-0.644988555091145,-0.45133537676769686,-0.6429498492644741,-0.45227306834240544,-0.5689381783957222,-0.5359858332275336,-0.24336695432233854,-0.5551605770128817,-0.6459754871313327,-0.5966281622042658,-0.9466417213251076,-0.6459781651030082,-0.6459754871313327,-0.45226530000571874,-0.5445593254304398,-0.4905609784829478,-0.24515644478635087,-0.14732404992613882,-0.24959045573476182,-0.6263541973146847,-0.6013725896396239,-0.5158703976269923,-0.4904927024400223,-0.20494730974243544,-0.6459754871313327,-0.24515644478635087,-0.645145954874207,-0.6002046332268339,-0.6431316328927636,-0.6459754871313327,-0.606184661516223,-0.5551610321832291,-0.15444036320152457,-0.24169159809275279,-0.24357229011768067,-0.23626283199074619,-0.6454805413180432,-0.6460461849392197,-0.5719504556501268,-0.5507971812286908,-0.5997700729455494,-0.24605464203188257,-0.015095094159336799,-0.6125944055365056,-0.645145954874207,-0.5333981771641381,-0.5334028467982413,-0.5359858332275336,-0.21290039169331237,0.5311423688902924,-0.2430285609611527,-0.6080480671741662,0.3884953893688603,-0.2480163149198421,-0.6459900052997829,-0.6460565143341034,-0.16955339341167205,-0.6459832690990581,-0.49047222049483324,-0.9381626001887186,-0.9467195824869479,0.43779989477189435,-0.6457963487741124,-0.6460730735456118,-0.24309481490089163,-0.2480888371274694,-0.6458365371277184,-0.9380404631875473,-0.6105363456819201,-0.13620840788368846,-0.6459754871313327,-0.5359858332275336,-0.5666987316150328,-0.5289782809999739,-0.45102719357859805,-0.21829332854922998,-0.6366154074164159,-0.17980853489195275,-0.6237635965877849,-0.01687173663016662,-0.17983027673796148,-0.20665665605135602,-0.6321033888514471,-0.6458325319836166,-0.6443306103000085,-0.10894658396428748,-0.11701237469793027,-0.194635525571577,-0.6459754871313327,-0.6154271588495527,0.05966046581415397,-0.5158703976269923,-0.4521757588796233,-0.5359858332275336,-0.24616487586700161,-0.18056909724164857,-0.6126946530658042,-0.6216676948950522,-0.2480163149198421,-0.6126677038528434,-0.6454734524766541,-0.17995533179761333,-0.6459754871313327,-0.6459754871313327,-0.5158703976269923,-0.4924627093697752,-0.24616487586700161,-0.010703295339395652,-0.9477280135675985,-0.6273759355579593,-0.2480163149198421,-0.2480163149198421,-0.6156046913079919,-0.6459900052997829,-0.2430117586506029,-0.5489550520286105,-0.6459754871313327,-0.21958721541242032,-0.243108003177503,0.36614020435742184,-0.6126282947071581,-0.5328871500378254,-0.6458825644812739,-0.24154264728288657,-0.24578698334588817,-0.6126946530658042,-0.22107937571329783,-0.6187104778985886,-0.9390582736584789,-0.6048829322975744,-0.604056272368353,-0.9383224054812644,-0.644988555091145,-0.45189837769172,-0.5795268555274935,-0.2480163149198421,0.8716501256035579,0.29016667337099544,-0.025997644116296393,0.5821471973479293,-0.043746772394386596,-0.04601509691896165,0.0386242535284652,0.26408569507448904,-0.9390582736584789,0.3880927361942048,-0.6258449584486918,-0.8368281724844028,-0.5915895106612796,-0.24279460062567682,-0.15075750609474925,-0.2423209797757175,-0.6066605973406631,-0.43708981973884137,-0.6372122997881586,-0.9381429041936049,-0.5321897576615168,-0.2479302420302981,-0.6370473483285412,-0.6013725896396239,-0.194054764862145,-0.5419576069930383,-0.2193481092483492,-0.6038990533502454,-0.9380662872151558,-0.20698394799692027,-0.5705252111943724,-0.6067391907705293,-0.242647791396464,-0.9379515721967517,-0.5831957518499549,-0.63681357766882,-0.5698883029398483,-0.6078680938495079,-0.6266129723825301,-0.9281108488471971,-0.2883814663442125,0.4689573493726703,-0.5715848211917849,-0.5091543317210008,-0.2425209806628269,-0.6371329929658825,-0.24454964707061805,-0.6261690663125843,-0.528300237582866,-0.5349614697907593,-0.17398693216934188,-0.2196995115885503,-0.9282178678831011,-0.1555175777523933,-0.6368456749279439,-0.6371329929658825,-0.6362790104344134,-0.184628834872759,-0.22928676779969026,-0.1425750487852819,-0.6048236407106856,-0.1833803481045636,-0.5868533034477321,-0.43678299566569323,-0.6370705623765758,-0.2425260160098904,-0.24252833043012856,-0.24222259036861224,-0.20795009224812078,-0.549751470653838,-0.9281108488471971,-0.6367550073853248,-0.5323959244222376,-0.23807379736497947,-0.5025091173059606,-0.6271664874650771,-0.5720256757131115,-0.6262416193716813,-0.22635845504825325,-0.6183474454093129,-0.49047222049483324,-0.18329051938061483,-0.6056807177884459,0.3875444839800033,-0.23111183827432474,-0.20698394799692027,-0.6371329929658825,-0.6055897020689313,-0.5730116432986337,-0.1915082401962778,-0.6371329929658825,-0.6367184773763123,0.062060303218992315,-0.605691088927337,-0.626358322410931,-0.20577856279258694,-0.6290973790640213,-0.24263349070361379,-0.0629938585087548,-0.626358322410931,-0.636664788807236,-0.6056726823656509,-0.5418617235625646,-0.48909272425189076,-0.2424448648825541,-0.9379665317344108,-0.605589174056918,-0.6055897020689313,-0.6092274232616488,-0.6161531415903013,-0.5839512639848594,-0.22035014847661616,-0.938553106298272,-0.2250355105277543,-0.4419538386364701,-0.6274745111244254,-0.626358322410931,0.07792043834154613,-0.5101710663786756,0.05786828045712475,-0.9119561585269967,-0.626358322410931,-0.24454964707061805,-0.6264653414468351,-0.6263943729112501,-0.5535245660099378,-0.6295934860619132,-0.1947539266283369,0.3875849617963445,-0.6364144835107056,-0.20686141978275863,-0.19823437415636827,-0.5318489820693343,-0.6048231855403383,-0.627771064651771,-0.6371329929658825,-0.6215261875516673,-0.5830506258069773,0.41008657870506043,-0.2198179181381393,-0.6055897020689313,-0.9390582736584789,-0.9383782031804746,-0.4895049770477609,-0.585866876017505,-0.6090251575435263,-0.5922084920739523,-0.6266052134451634,-0.626358322410931,-0.49052040934116997,-0.22070106455708155,-0.6322557758489501,-0.5604518776509035,-0.23557737638246692,-0.2290276111873733,-0.5098389856475639,-0.18669741134274298,-0.217764023959423,-0.12755464584199666,-0.3399619541182772,-0.5367477679160036,-0.616274166343536,-0.6264653414468351,-0.5359858332275336,-0.5140321454464024,-0.5334407422605201,-0.5723870910459746,-0.5140295601076351,-1.0632260417321948,-0.645145954874207,-0.5689381783957222,-0.5730134578198272,-0.1819830813146737,-0.3115352082189685,-0.5331173269718887,-0.6043409317015559,-0.5321897576615168,-0.6255473349974724,-0.5334179221410638,-0.5759236644809522,-0.21750554615628362,-0.5789814377005601,-0.5808241134695279,-0.49410971960780403,-0.5911677895593827,-0.626358322410931,-0.20921454627919525,-0.631722244713316,-0.21769005762049862,-0.5789814377005601,-0.5359858332275336,-0.21883861725191783,-0.6449670560506819,-0.5324231742981985,-0.6172394854522671,-0.24058742676188424,-0.8368281724844028,-0.179961160804946,-0.626848202955147,-0.508569472596758,-0.5485522073270541,-0.626358322410931,-0.24515644478635087,-0.1558076660527854,-0.6459754871313327,-0.628157340147127,-0.21659628791862057,-0.838445293612888,-0.6329370319102834,-0.22577670135220865,-0.5507971812286908,-0.6230342867852279,-0.6167901211875294,-0.543717612532214,-0.10325726465470003,-0.5730054395392871,0.3404062809195515,-0.04613640936770423,-0.123155473088363,-0.05251072780938643,-0.05251072780938643,-0.1561027336206367,-0.1561027336206367,-0.15437075016490046,-0.07881226366755666,1.9786726373316974,1.4807421615620995,1.5212319122658926,1.988072690889381,1.81517919075491,1.541537418566749,1.5498181852287993,1.5326614919266035,1.472685833704893,1.532812291241911,1.5097760582391935,1.783777507845558,1.5409378798782316,1.4896201888734129,1.9391184849452772,1.6150593264759483,1.5359368530728006,1.5027962638244903,0.9230459230097975,2.00355553548891,1.4994440914736487,1.5202779656890755,1.5610535636743237,1.5544482431369735,2.032076687820435,2.0340440239598414,1.1717535624410622,1.7854887253903684,1.488714870634137,1.5765724884561805,1.5014553188753206,1.642572812096297,1.976556463894541,1.9733037598427925,1.5059860419401971,2.0264680037341636,1.4140113228658413,2.0166695885809145,1.5399349047726814,1.378203492304605,1.1211299689481218,1.4976995883395794,2.0432791474443635,1.984418874445157,2.0173356328168257,1.5842767954774843,2.355423621080718,1.841718922199666,1.525627128605749,2.3415008870482747,1.5515384847828741,1.4821991575443358,1.8674265431268622,1.4847016529671224,1.9775659235869907,1.5322700480002867,1.5663285205851734,1.5162834509878815,2.0618676420167197,1.974026377916686,1.5208854758926913,1.5508964776056247,0.9167638556798813,1.561828343712181,1.5714311976729283,1.9591899244556124,1.552756429306851,1.4590476283446296,1.522078230916301,1.4929723129180874,1.4965916808373678,2.0304230594031525,1.4973702750622777,0.3804918378477032,1.4768087254731366,2.0458374634175565,1.4822948224930337,1.9487078942083027,1.5264276032846735,0.885791660754697,0.9172899482137525,1.5159543519088665,1.5317790101880209,1.3061727114454444,1.5376088927076461,1.5553902881778066,1.530268784466328,1.6088420259055092,1.9872325902879204,1.536478731752076,1.555707061410268,1.6051258869667677,0.8854987845134052,1.525914173105567,1.5576725301078092,2.0347833254027714,2.8995643121293857,1.4919961727205964,1.485219117621965,0.8868572508775221,1.532467450310776,1.9952505822769158,1.5140243529821287,1.493804372264729,2.014751326013789,1.8236533886281294,1.81429066309702,1.5480008393364895,1.4720221241713651,2.05122193021455,1.4844194055663096,1.515363167223004,2.01922160360215,1.647445271807774,1.5229468667337964,1.9746460171139908,1.5332343406734263,1.5233857539690496,1.5313351144204892,1.5356047369853894,1.535317869831957,2.0578657850663324,2.0606345701384736,2.0146067692936755,2.051934491823983,1.54327278027698,1.4674022941459588,1.9731908476565923,1.9998365671540848,1.9995049362322377,2.2644087228488363,1.9712728864366615,1.535633033636975,1.6383438085300985,1.568087175656523,1.9708658379054813,2.0023683878711753,1.4832746815578686,1.5710355301980252,2.0300250328370835,0.49188206885963554,1.4844097406418661,1.5553689581532613,0.556095558707211,-1.9522665780365263,0.5092341391343981,-1.2648821757062143,-1.6153345296665882,-2.02499211777187,-1.0057259099492615,-0.9875591104884904,0.4644734441966533,-1.5390341211605363,-0.11510529443970495,-1.4525470296054446,-2.1466288470594113],\"type\":\"scatter3d\"}],                        {\"template\":{\"data\":{\"barpolar\":[{\"marker\":{\"line\":{\"color\":\"rgb(17,17,17)\",\"width\":0.5},\"pattern\":{\"fillmode\":\"overlay\",\"size\":10,\"solidity\":0.2}},\"type\":\"barpolar\"}],\"bar\":[{\"error_x\":{\"color\":\"#f2f5fa\"},\"error_y\":{\"color\":\"#f2f5fa\"},\"marker\":{\"line\":{\"color\":\"rgb(17,17,17)\",\"width\":0.5},\"pattern\":{\"fillmode\":\"overlay\",\"size\":10,\"solidity\":0.2}},\"type\":\"bar\"}],\"carpet\":[{\"aaxis\":{\"endlinecolor\":\"#A2B1C6\",\"gridcolor\":\"#506784\",\"linecolor\":\"#506784\",\"minorgridcolor\":\"#506784\",\"startlinecolor\":\"#A2B1C6\"},\"baxis\":{\"endlinecolor\":\"#A2B1C6\",\"gridcolor\":\"#506784\",\"linecolor\":\"#506784\",\"minorgridcolor\":\"#506784\",\"startlinecolor\":\"#A2B1C6\"},\"type\":\"carpet\"}],\"choropleth\":[{\"colorbar\":{\"outlinewidth\":0,\"ticks\":\"\"},\"type\":\"choropleth\"}],\"contourcarpet\":[{\"colorbar\":{\"outlinewidth\":0,\"ticks\":\"\"},\"type\":\"contourcarpet\"}],\"contour\":[{\"colorbar\":{\"outlinewidth\":0,\"ticks\":\"\"},\"colorscale\":[[0.0,\"#0d0887\"],[0.1111111111111111,\"#46039f\"],[0.2222222222222222,\"#7201a8\"],[0.3333333333333333,\"#9c179e\"],[0.4444444444444444,\"#bd3786\"],[0.5555555555555556,\"#d8576b\"],[0.6666666666666666,\"#ed7953\"],[0.7777777777777778,\"#fb9f3a\"],[0.8888888888888888,\"#fdca26\"],[1.0,\"#f0f921\"]],\"type\":\"contour\"}],\"heatmapgl\":[{\"colorbar\":{\"outlinewidth\":0,\"ticks\":\"\"},\"colorscale\":[[0.0,\"#0d0887\"],[0.1111111111111111,\"#46039f\"],[0.2222222222222222,\"#7201a8\"],[0.3333333333333333,\"#9c179e\"],[0.4444444444444444,\"#bd3786\"],[0.5555555555555556,\"#d8576b\"],[0.6666666666666666,\"#ed7953\"],[0.7777777777777778,\"#fb9f3a\"],[0.8888888888888888,\"#fdca26\"],[1.0,\"#f0f921\"]],\"type\":\"heatmapgl\"}],\"heatmap\":[{\"colorbar\":{\"outlinewidth\":0,\"ticks\":\"\"},\"colorscale\":[[0.0,\"#0d0887\"],[0.1111111111111111,\"#46039f\"],[0.2222222222222222,\"#7201a8\"],[0.3333333333333333,\"#9c179e\"],[0.4444444444444444,\"#bd3786\"],[0.5555555555555556,\"#d8576b\"],[0.6666666666666666,\"#ed7953\"],[0.7777777777777778,\"#fb9f3a\"],[0.8888888888888888,\"#fdca26\"],[1.0,\"#f0f921\"]],\"type\":\"heatmap\"}],\"histogram2dcontour\":[{\"colorbar\":{\"outlinewidth\":0,\"ticks\":\"\"},\"colorscale\":[[0.0,\"#0d0887\"],[0.1111111111111111,\"#46039f\"],[0.2222222222222222,\"#7201a8\"],[0.3333333333333333,\"#9c179e\"],[0.4444444444444444,\"#bd3786\"],[0.5555555555555556,\"#d8576b\"],[0.6666666666666666,\"#ed7953\"],[0.7777777777777778,\"#fb9f3a\"],[0.8888888888888888,\"#fdca26\"],[1.0,\"#f0f921\"]],\"type\":\"histogram2dcontour\"}],\"histogram2d\":[{\"colorbar\":{\"outlinewidth\":0,\"ticks\":\"\"},\"colorscale\":[[0.0,\"#0d0887\"],[0.1111111111111111,\"#46039f\"],[0.2222222222222222,\"#7201a8\"],[0.3333333333333333,\"#9c179e\"],[0.4444444444444444,\"#bd3786\"],[0.5555555555555556,\"#d8576b\"],[0.6666666666666666,\"#ed7953\"],[0.7777777777777778,\"#fb9f3a\"],[0.8888888888888888,\"#fdca26\"],[1.0,\"#f0f921\"]],\"type\":\"histogram2d\"}],\"histogram\":[{\"marker\":{\"pattern\":{\"fillmode\":\"overlay\",\"size\":10,\"solidity\":0.2}},\"type\":\"histogram\"}],\"mesh3d\":[{\"colorbar\":{\"outlinewidth\":0,\"ticks\":\"\"},\"type\":\"mesh3d\"}],\"parcoords\":[{\"line\":{\"colorbar\":{\"outlinewidth\":0,\"ticks\":\"\"}},\"type\":\"parcoords\"}],\"pie\":[{\"automargin\":true,\"type\":\"pie\"}],\"scatter3d\":[{\"line\":{\"colorbar\":{\"outlinewidth\":0,\"ticks\":\"\"}},\"marker\":{\"colorbar\":{\"outlinewidth\":0,\"ticks\":\"\"}},\"type\":\"scatter3d\"}],\"scattercarpet\":[{\"marker\":{\"colorbar\":{\"outlinewidth\":0,\"ticks\":\"\"}},\"type\":\"scattercarpet\"}],\"scattergeo\":[{\"marker\":{\"colorbar\":{\"outlinewidth\":0,\"ticks\":\"\"}},\"type\":\"scattergeo\"}],\"scattergl\":[{\"marker\":{\"line\":{\"color\":\"#283442\"}},\"type\":\"scattergl\"}],\"scattermapbox\":[{\"marker\":{\"colorbar\":{\"outlinewidth\":0,\"ticks\":\"\"}},\"type\":\"scattermapbox\"}],\"scatterpolargl\":[{\"marker\":{\"colorbar\":{\"outlinewidth\":0,\"ticks\":\"\"}},\"type\":\"scatterpolargl\"}],\"scatterpolar\":[{\"marker\":{\"colorbar\":{\"outlinewidth\":0,\"ticks\":\"\"}},\"type\":\"scatterpolar\"}],\"scatter\":[{\"marker\":{\"line\":{\"color\":\"#283442\"}},\"type\":\"scatter\"}],\"scatterternary\":[{\"marker\":{\"colorbar\":{\"outlinewidth\":0,\"ticks\":\"\"}},\"type\":\"scatterternary\"}],\"surface\":[{\"colorbar\":{\"outlinewidth\":0,\"ticks\":\"\"},\"colorscale\":[[0.0,\"#0d0887\"],[0.1111111111111111,\"#46039f\"],[0.2222222222222222,\"#7201a8\"],[0.3333333333333333,\"#9c179e\"],[0.4444444444444444,\"#bd3786\"],[0.5555555555555556,\"#d8576b\"],[0.6666666666666666,\"#ed7953\"],[0.7777777777777778,\"#fb9f3a\"],[0.8888888888888888,\"#fdca26\"],[1.0,\"#f0f921\"]],\"type\":\"surface\"}],\"table\":[{\"cells\":{\"fill\":{\"color\":\"#506784\"},\"line\":{\"color\":\"rgb(17,17,17)\"}},\"header\":{\"fill\":{\"color\":\"#2a3f5f\"},\"line\":{\"color\":\"rgb(17,17,17)\"}},\"type\":\"table\"}]},\"layout\":{\"annotationdefaults\":{\"arrowcolor\":\"#f2f5fa\",\"arrowhead\":0,\"arrowwidth\":1},\"autotypenumbers\":\"strict\",\"coloraxis\":{\"colorbar\":{\"outlinewidth\":0,\"ticks\":\"\"}},\"colorscale\":{\"diverging\":[[0,\"#8e0152\"],[0.1,\"#c51b7d\"],[0.2,\"#de77ae\"],[0.3,\"#f1b6da\"],[0.4,\"#fde0ef\"],[0.5,\"#f7f7f7\"],[0.6,\"#e6f5d0\"],[0.7,\"#b8e186\"],[0.8,\"#7fbc41\"],[0.9,\"#4d9221\"],[1,\"#276419\"]],\"sequential\":[[0.0,\"#0d0887\"],[0.1111111111111111,\"#46039f\"],[0.2222222222222222,\"#7201a8\"],[0.3333333333333333,\"#9c179e\"],[0.4444444444444444,\"#bd3786\"],[0.5555555555555556,\"#d8576b\"],[0.6666666666666666,\"#ed7953\"],[0.7777777777777778,\"#fb9f3a\"],[0.8888888888888888,\"#fdca26\"],[1.0,\"#f0f921\"]],\"sequentialminus\":[[0.0,\"#0d0887\"],[0.1111111111111111,\"#46039f\"],[0.2222222222222222,\"#7201a8\"],[0.3333333333333333,\"#9c179e\"],[0.4444444444444444,\"#bd3786\"],[0.5555555555555556,\"#d8576b\"],[0.6666666666666666,\"#ed7953\"],[0.7777777777777778,\"#fb9f3a\"],[0.8888888888888888,\"#fdca26\"],[1.0,\"#f0f921\"]]},\"colorway\":[\"#636efa\",\"#EF553B\",\"#00cc96\",\"#ab63fa\",\"#FFA15A\",\"#19d3f3\",\"#FF6692\",\"#B6E880\",\"#FF97FF\",\"#FECB52\"],\"font\":{\"color\":\"#f2f5fa\"},\"geo\":{\"bgcolor\":\"rgb(17,17,17)\",\"lakecolor\":\"rgb(17,17,17)\",\"landcolor\":\"rgb(17,17,17)\",\"showlakes\":true,\"showland\":true,\"subunitcolor\":\"#506784\"},\"hoverlabel\":{\"align\":\"left\"},\"hovermode\":\"closest\",\"mapbox\":{\"style\":\"dark\"},\"paper_bgcolor\":\"rgb(17,17,17)\",\"plot_bgcolor\":\"rgb(17,17,17)\",\"polar\":{\"angularaxis\":{\"gridcolor\":\"#506784\",\"linecolor\":\"#506784\",\"ticks\":\"\"},\"bgcolor\":\"rgb(17,17,17)\",\"radialaxis\":{\"gridcolor\":\"#506784\",\"linecolor\":\"#506784\",\"ticks\":\"\"}},\"scene\":{\"xaxis\":{\"backgroundcolor\":\"rgb(17,17,17)\",\"gridcolor\":\"#506784\",\"gridwidth\":2,\"linecolor\":\"#506784\",\"showbackground\":true,\"ticks\":\"\",\"zerolinecolor\":\"#C8D4E3\"},\"yaxis\":{\"backgroundcolor\":\"rgb(17,17,17)\",\"gridcolor\":\"#506784\",\"gridwidth\":2,\"linecolor\":\"#506784\",\"showbackground\":true,\"ticks\":\"\",\"zerolinecolor\":\"#C8D4E3\"},\"zaxis\":{\"backgroundcolor\":\"rgb(17,17,17)\",\"gridcolor\":\"#506784\",\"gridwidth\":2,\"linecolor\":\"#506784\",\"showbackground\":true,\"ticks\":\"\",\"zerolinecolor\":\"#C8D4E3\"}},\"shapedefaults\":{\"line\":{\"color\":\"#f2f5fa\"}},\"sliderdefaults\":{\"bgcolor\":\"#C8D4E3\",\"bordercolor\":\"rgb(17,17,17)\",\"borderwidth\":1,\"tickwidth\":0},\"ternary\":{\"aaxis\":{\"gridcolor\":\"#506784\",\"linecolor\":\"#506784\",\"ticks\":\"\"},\"baxis\":{\"gridcolor\":\"#506784\",\"linecolor\":\"#506784\",\"ticks\":\"\"},\"bgcolor\":\"rgb(17,17,17)\",\"caxis\":{\"gridcolor\":\"#506784\",\"linecolor\":\"#506784\",\"ticks\":\"\"}},\"title\":{\"x\":0.05},\"updatemenudefaults\":{\"bgcolor\":\"#506784\",\"borderwidth\":0},\"xaxis\":{\"automargin\":true,\"gridcolor\":\"#283442\",\"linecolor\":\"#506784\",\"ticks\":\"\",\"title\":{\"standoff\":15},\"zerolinecolor\":\"#283442\",\"zerolinewidth\":2},\"yaxis\":{\"automargin\":true,\"gridcolor\":\"#283442\",\"linecolor\":\"#506784\",\"ticks\":\"\",\"title\":{\"standoff\":15},\"zerolinecolor\":\"#283442\",\"zerolinewidth\":2}}},\"scene\":{\"domain\":{\"x\":[0.0,1.0],\"y\":[0.0,1.0]},\"xaxis\":{\"title\":{\"text\":\"famd1\"}},\"yaxis\":{\"title\":{\"text\":\"famd2\"}},\"zaxis\":{\"title\":{\"text\":\"famd3\"}}},\"coloraxis\":{\"colorbar\":{\"title\":{\"text\":\"cluster\"}},\"colorscale\":[[0.0,\"#0d0887\"],[0.1111111111111111,\"#46039f\"],[0.2222222222222222,\"#7201a8\"],[0.3333333333333333,\"#9c179e\"],[0.4444444444444444,\"#bd3786\"],[0.5555555555555556,\"#d8576b\"],[0.6666666666666666,\"#ed7953\"],[0.7777777777777778,\"#fb9f3a\"],[0.8888888888888888,\"#fdca26\"],[1.0,\"#f0f921\"]]},\"legend\":{\"tracegroupgap\":0},\"title\":{\"text\":\"FAMD - 3 components\"},\"height\":700,\"width\":950},                        {\"responsive\": true}                    ).then(function(){\n",
       "                            \n",
       "var gd = document.getElementById('b86e8a63-bef7-4949-a5bb-5c0d5e127606');\n",
       "var x = new MutationObserver(function (mutations, observer) {{\n",
       "        var display = window.getComputedStyle(gd).display;\n",
       "        if (!display || display === 'none') {{\n",
       "            console.log([gd, 'removed!']);\n",
       "            Plotly.purge(gd);\n",
       "            observer.disconnect();\n",
       "        }}\n",
       "}});\n",
       "\n",
       "// Listen for the removal of the full notebook cells\n",
       "var notebookContainer = gd.closest('#notebook-container');\n",
       "if (notebookContainer) {{\n",
       "    x.observe(notebookContainer, {childList: true});\n",
       "}}\n",
       "\n",
       "// Listen for the clearing of the current output cell\n",
       "var outputEl = gd.closest('.output');\n",
       "if (outputEl) {{\n",
       "    x.observe(outputEl, {childList: true});\n",
       "}}\n",
       "\n",
       "                        })                };                });            </script>        </div>"
      ]
     },
     "metadata": {},
     "output_type": "display_data"
    }
   ],
   "source": [
    "px.scatter_3d(reducedID_df, x='famd1', y='famd2', z='famd3', color='cluster', opacity=0.5, width=950,height=700,template='plotly_dark', title='FAMD - 3 components')"
   ]
  },
  {
   "cell_type": "markdown",
   "metadata": {},
   "source": [
    "### 2. London"
   ]
  },
  {
   "cell_type": "code",
   "execution_count": 149,
   "metadata": {},
   "outputs": [
    {
     "data": {
      "text/plain": [
       "array([-1,  0,  1,  2,  3,  4])"
      ]
     },
     "execution_count": 149,
     "metadata": {},
     "output_type": "execute_result"
    },
    {
     "data": {
      "image/png": "[encoded data removed]",
      "text/plain": [
       "<Figure size 1584x864 with 2 Axes>"
      ]
     },
     "metadata": {},
     "output_type": "display_data"
    }
   ],
   "source": [
    "plt.figure(figsize=(22, 12))\n",
    "plt.title(\"Condensed Tree for London, cluster no: 14, DBCV: 0.514\", fontdict={\"fontsize\":18})\n",
    "hdbscan_londo = hdbscan.HDBSCAN(min_cluster_size=6)\n",
    "labels = hdbscan_londo.fit_predict(reducedGB.values)\n",
    "hdbscan_londo.condensed_tree_.plot(select_clusters=True)\n",
    "np.unique(labels)"
   ]
  },
  {
   "cell_type": "markdown",
   "metadata": {},
   "source": [
    "### <br> Summary of general statistics for London clusters <br>"
   ]
  },
  {
   "cell_type": "code",
   "execution_count": 150,
   "metadata": {},
   "outputs": [],
   "source": [
    "n_clusters_ = len(set(labels[:])) - (1 if -1 in labels[:] else 0)\n",
    "n_noise_ = list(labels[:]).count(-1)"
   ]
  },
  {
   "cell_type": "code",
   "execution_count": 151,
   "metadata": {},
   "outputs": [],
   "source": [
    "hdbscan_score = DBCV(reducedGB.values, labels, dist_function=cityblock)"
   ]
  },
  {
   "cell_type": "code",
   "execution_count": 152,
   "metadata": {},
   "outputs": [
    {
     "name": "stdout",
     "output_type": "stream",
     "text": [
      "SUMARY FOR LONDON\n",
      "\n",
      "Estimation: number of clusters: 5\n",
      "Estimation: number of noise points: 131\n",
      "Estimation: DBCV: -0.423\n",
      "\n"
     ]
    }
   ],
   "source": [
    "print(\"SUMARY FOR LONDON\")\n",
    "print()\n",
    "print(\"Estimation: number of clusters: %d\" % n_clusters_)\n",
    "print(\"Estimation: number of noise points: %d\" % n_noise_)\n",
    "print(\"Estimation: DBCV: %0.3f\" % hdbscan_score)\n",
    "print()"
   ]
  },
  {
   "cell_type": "code",
   "execution_count": 153,
   "metadata": {},
   "outputs": [],
   "source": [
    "reducedGB_df[\"cluster\"] = labels\n",
    "gbReducedAnalysis[\"cluster\"] = labels"
   ]
  },
  {
   "cell_type": "code",
   "execution_count": 154,
   "metadata": {},
   "outputs": [
    {
     "data": {
      "text/html": [
       "<div>\n",
       "<style scoped>\n",
       "    .dataframe tbody tr th:only-of-type {\n",
       "        vertical-align: middle;\n",
       "    }\n",
       "\n",
       "    .dataframe tbody tr th {\n",
       "        vertical-align: top;\n",
       "    }\n",
       "\n",
       "    .dataframe thead th {\n",
       "        text-align: right;\n",
       "    }\n",
       "</style>\n",
       "<table border=\"1\" class=\"dataframe\">\n",
       "  <thead>\n",
       "    <tr style=\"text-align: right;\">\n",
       "      <th></th>\n",
       "      <th>hotel_currency_code</th>\n",
       "      <th>hotel_lat</th>\n",
       "      <th>hotel_lon</th>\n",
       "      <th>hotel_distance</th>\n",
       "      <th>rooms_count</th>\n",
       "      <th>hotel_type_ordinary</th>\n",
       "      <th>spa &amp; wellness centre</th>\n",
       "      <th>elevator / lift</th>\n",
       "      <th>disabled access</th>\n",
       "      <th>swimming pool</th>\n",
       "      <th>air conditioned</th>\n",
       "      <th>free wifi</th>\n",
       "      <th>business centre</th>\n",
       "      <th>parking</th>\n",
       "      <th>pet friendly</th>\n",
       "      <th>cluster</th>\n",
       "    </tr>\n",
       "  </thead>\n",
       "  <tbody>\n",
       "    <tr>\n",
       "      <th>0</th>\n",
       "      <td>GBP</td>\n",
       "      <td>51.521259</td>\n",
       "      <td>-0.155856</td>\n",
       "      <td>3.120000</td>\n",
       "      <td>34</td>\n",
       "      <td>4</td>\n",
       "      <td>0</td>\n",
       "      <td>1</td>\n",
       "      <td>0</td>\n",
       "      <td>0</td>\n",
       "      <td>1</td>\n",
       "      <td>1</td>\n",
       "      <td>0</td>\n",
       "      <td>0</td>\n",
       "      <td>0</td>\n",
       "      <td>3</td>\n",
       "    </tr>\n",
       "    <tr>\n",
       "      <th>1</th>\n",
       "      <td>GBP</td>\n",
       "      <td>51.512071</td>\n",
       "      <td>-0.185206</td>\n",
       "      <td>4.300000</td>\n",
       "      <td>45</td>\n",
       "      <td>3</td>\n",
       "      <td>0</td>\n",
       "      <td>1</td>\n",
       "      <td>0</td>\n",
       "      <td>0</td>\n",
       "      <td>0</td>\n",
       "      <td>1</td>\n",
       "      <td>0</td>\n",
       "      <td>0</td>\n",
       "      <td>0</td>\n",
       "      <td>4</td>\n",
       "    </tr>\n",
       "    <tr>\n",
       "      <th>2</th>\n",
       "      <td>GBP</td>\n",
       "      <td>51.507706</td>\n",
       "      <td>-0.147138</td>\n",
       "      <td>1.670000</td>\n",
       "      <td>106</td>\n",
       "      <td>4</td>\n",
       "      <td>0</td>\n",
       "      <td>1</td>\n",
       "      <td>0</td>\n",
       "      <td>0</td>\n",
       "      <td>0</td>\n",
       "      <td>1</td>\n",
       "      <td>1</td>\n",
       "      <td>1</td>\n",
       "      <td>1</td>\n",
       "      <td>-1</td>\n",
       "    </tr>\n",
       "    <tr>\n",
       "      <th>3</th>\n",
       "      <td>GBP</td>\n",
       "      <td>51.490098</td>\n",
       "      <td>-0.138130</td>\n",
       "      <td>1.390000</td>\n",
       "      <td>72</td>\n",
       "      <td>4</td>\n",
       "      <td>0</td>\n",
       "      <td>1</td>\n",
       "      <td>0</td>\n",
       "      <td>0</td>\n",
       "      <td>1</td>\n",
       "      <td>1</td>\n",
       "      <td>0</td>\n",
       "      <td>0</td>\n",
       "      <td>0</td>\n",
       "      <td>3</td>\n",
       "    </tr>\n",
       "    <tr>\n",
       "      <th>4</th>\n",
       "      <td>GBP</td>\n",
       "      <td>51.496872</td>\n",
       "      <td>-0.167604</td>\n",
       "      <td>2.890000</td>\n",
       "      <td>28</td>\n",
       "      <td>5</td>\n",
       "      <td>0</td>\n",
       "      <td>1</td>\n",
       "      <td>0</td>\n",
       "      <td>0</td>\n",
       "      <td>0</td>\n",
       "      <td>1</td>\n",
       "      <td>1</td>\n",
       "      <td>1</td>\n",
       "      <td>1</td>\n",
       "      <td>-1</td>\n",
       "    </tr>\n",
       "    <tr>\n",
       "      <th>...</th>\n",
       "      <td>...</td>\n",
       "      <td>...</td>\n",
       "      <td>...</td>\n",
       "      <td>...</td>\n",
       "      <td>...</td>\n",
       "      <td>...</td>\n",
       "      <td>...</td>\n",
       "      <td>...</td>\n",
       "      <td>...</td>\n",
       "      <td>...</td>\n",
       "      <td>...</td>\n",
       "      <td>...</td>\n",
       "      <td>...</td>\n",
       "      <td>...</td>\n",
       "      <td>...</td>\n",
       "      <td>...</td>\n",
       "    </tr>\n",
       "    <tr>\n",
       "      <th>387</th>\n",
       "      <td>EUR</td>\n",
       "      <td>51.508232</td>\n",
       "      <td>0.043758</td>\n",
       "      <td>6.915566</td>\n",
       "      <td>225</td>\n",
       "      <td>3</td>\n",
       "      <td>0</td>\n",
       "      <td>0</td>\n",
       "      <td>0</td>\n",
       "      <td>0</td>\n",
       "      <td>0</td>\n",
       "      <td>1</td>\n",
       "      <td>0</td>\n",
       "      <td>1</td>\n",
       "      <td>0</td>\n",
       "      <td>0</td>\n",
       "    </tr>\n",
       "    <tr>\n",
       "      <th>388</th>\n",
       "      <td>GBP</td>\n",
       "      <td>51.516015</td>\n",
       "      <td>-0.118570</td>\n",
       "      <td>1.840000</td>\n",
       "      <td>0</td>\n",
       "      <td>4</td>\n",
       "      <td>0</td>\n",
       "      <td>1</td>\n",
       "      <td>0</td>\n",
       "      <td>0</td>\n",
       "      <td>1</td>\n",
       "      <td>1</td>\n",
       "      <td>1</td>\n",
       "      <td>1</td>\n",
       "      <td>1</td>\n",
       "      <td>-1</td>\n",
       "    </tr>\n",
       "    <tr>\n",
       "      <th>389</th>\n",
       "      <td>GBP</td>\n",
       "      <td>51.543948</td>\n",
       "      <td>-0.152331</td>\n",
       "      <td>5.200000</td>\n",
       "      <td>1</td>\n",
       "      <td>3</td>\n",
       "      <td>0</td>\n",
       "      <td>0</td>\n",
       "      <td>0</td>\n",
       "      <td>0</td>\n",
       "      <td>0</td>\n",
       "      <td>1</td>\n",
       "      <td>0</td>\n",
       "      <td>0</td>\n",
       "      <td>1</td>\n",
       "      <td>-1</td>\n",
       "    </tr>\n",
       "    <tr>\n",
       "      <th>390</th>\n",
       "      <td>GBP</td>\n",
       "      <td>51.511208</td>\n",
       "      <td>-0.119345</td>\n",
       "      <td>1.320000</td>\n",
       "      <td>0</td>\n",
       "      <td>4</td>\n",
       "      <td>0</td>\n",
       "      <td>0</td>\n",
       "      <td>1</td>\n",
       "      <td>0</td>\n",
       "      <td>0</td>\n",
       "      <td>1</td>\n",
       "      <td>0</td>\n",
       "      <td>0</td>\n",
       "      <td>0</td>\n",
       "      <td>-1</td>\n",
       "    </tr>\n",
       "    <tr>\n",
       "      <th>391</th>\n",
       "      <td>GBP</td>\n",
       "      <td>51.506490</td>\n",
       "      <td>-0.071724</td>\n",
       "      <td>3.840000</td>\n",
       "      <td>0</td>\n",
       "      <td>4</td>\n",
       "      <td>0</td>\n",
       "      <td>0</td>\n",
       "      <td>0</td>\n",
       "      <td>0</td>\n",
       "      <td>0</td>\n",
       "      <td>1</td>\n",
       "      <td>0</td>\n",
       "      <td>1</td>\n",
       "      <td>0</td>\n",
       "      <td>-1</td>\n",
       "    </tr>\n",
       "  </tbody>\n",
       "</table>\n",
       "<p>392 rows × 16 columns</p>\n",
       "</div>"
      ],
      "text/plain": [
       "    hotel_currency_code  hotel_lat  hotel_lon  hotel_distance  rooms_count  \\\n",
       "0                   GBP  51.521259  -0.155856        3.120000           34   \n",
       "1                   GBP  51.512071  -0.185206        4.300000           45   \n",
       "2                   GBP  51.507706  -0.147138        1.670000          106   \n",
       "3                   GBP  51.490098  -0.138130        1.390000           72   \n",
       "4                   GBP  51.496872  -0.167604        2.890000           28   \n",
       "..                  ...        ...        ...             ...          ...   \n",
       "387                 EUR  51.508232   0.043758        6.915566          225   \n",
       "388                 GBP  51.516015  -0.118570        1.840000            0   \n",
       "389                 GBP  51.543948  -0.152331        5.200000            1   \n",
       "390                 GBP  51.511208  -0.119345        1.320000            0   \n",
       "391                 GBP  51.506490  -0.071724        3.840000            0   \n",
       "\n",
       "     hotel_type_ordinary  spa & wellness centre  elevator / lift  \\\n",
       "0                      4                      0                1   \n",
       "1                      3                      0                1   \n",
       "2                      4                      0                1   \n",
       "3                      4                      0                1   \n",
       "4                      5                      0                1   \n",
       "..                   ...                    ...              ...   \n",
       "387                    3                      0                0   \n",
       "388                    4                      0                1   \n",
       "389                    3                      0                0   \n",
       "390                    4                      0                0   \n",
       "391                    4                      0                0   \n",
       "\n",
       "     disabled access  swimming pool  air conditioned  free wifi  \\\n",
       "0                  0              0                1          1   \n",
       "1                  0              0                0          1   \n",
       "2                  0              0                0          1   \n",
       "3                  0              0                1          1   \n",
       "4                  0              0                0          1   \n",
       "..               ...            ...              ...        ...   \n",
       "387                0              0                0          1   \n",
       "388                0              0                1          1   \n",
       "389                0              0                0          1   \n",
       "390                1              0                0          1   \n",
       "391                0              0                0          1   \n",
       "\n",
       "     business centre  parking  pet friendly  cluster  \n",
       "0                  0        0             0        3  \n",
       "1                  0        0             0        4  \n",
       "2                  1        1             1       -1  \n",
       "3                  0        0             0        3  \n",
       "4                  1        1             1       -1  \n",
       "..               ...      ...           ...      ...  \n",
       "387                0        1             0        0  \n",
       "388                1        1             1       -1  \n",
       "389                0        0             1       -1  \n",
       "390                0        0             0       -1  \n",
       "391                0        1             0       -1  \n",
       "\n",
       "[392 rows x 16 columns]"
      ]
     },
     "execution_count": 154,
     "metadata": {},
     "output_type": "execute_result"
    }
   ],
   "source": [
    "gbReducedAnalysis"
   ]
  },
  {
   "cell_type": "code",
   "execution_count": 155,
   "metadata": {},
   "outputs": [
    {
     "data": {
      "application/vnd.plotly.v1+json": {
       "config": {
        "plotlyServerURL": "https://plot.ly"
       },
       "data": [
        {
         "hovertemplate": "famd1=%{x}<br>famd2=%{y}<br>famd3=%{z}<br>cluster=%{marker.color}<extra></extra>",
         "legendgroup": "",
         "marker": {
          "color": [
           3,
           4,
           -1,
           3,
           -1,
           -1,
           -1,
           4,
           -1,
           -1,
           3,
           4,
           -1,
           -1,
           4,
           -1,
           -1,
           4,
           -1,
           -1,
           1,
           1,
           -1,
           -1,
           -1,
           4,
           4,
           -1,
           -1,
           4,
           -1,
           -1,
           -1,
           3,
           3,
           -1,
           1,
           -1,
           -1,
           -1,
           0,
           2,
           -1,
           0,
           0,
           -1,
           -1,
           -1,
           2,
           1,
           1,
           -1,
           -1,
           -1,
           -1,
           3,
           3,
           3,
           3,
           3,
           4,
           3,
           3,
           3,
           3,
           3,
           4,
           3,
           3,
           4,
           3,
           -1,
           4,
           4,
           4,
           -1,
           -1,
           4,
           4,
           2,
           -1,
           4,
           4,
           4,
           4,
           3,
           4,
           4,
           4,
           -1,
           -1,
           -1,
           -1,
           -1,
           -1,
           3,
           -1,
           3,
           -1,
           -1,
           -1,
           3,
           3,
           4,
           4,
           4,
           3,
           4,
           3,
           4,
           -1,
           3,
           1,
           4,
           -1,
           4,
           -1,
           2,
           -1,
           4,
           -1,
           -1,
           -1,
           4,
           -1,
           -1,
           -1,
           -1,
           -1,
           -1,
           -1,
           3,
           -1,
           -1,
           -1,
           -1,
           4,
           -1,
           4,
           -1,
           -1,
           4,
           -1,
           -1,
           4,
           3,
           4,
           4,
           4,
           4,
           4,
           4,
           3,
           4,
           3,
           4,
           1,
           1,
           -1,
           4,
           3,
           1,
           4,
           -1,
           -1,
           -1,
           -1,
           4,
           3,
           3,
           -1,
           4,
           3,
           -1,
           3,
           4,
           3,
           4,
           -1,
           4,
           -1,
           -1,
           -1,
           4,
           -1,
           -1,
           -1,
           2,
           2,
           2,
           2,
           -1,
           2,
           2,
           2,
           2,
           2,
           -1,
           2,
           2,
           2,
           2,
           2,
           2,
           2,
           2,
           2,
           2,
           2,
           2,
           2,
           2,
           2,
           2,
           2,
           2,
           -1,
           2,
           2,
           -1,
           -1,
           -1,
           -1,
           -1,
           2,
           2,
           2,
           2,
           2,
           2,
           2,
           2,
           2,
           2,
           2,
           2,
           -1,
           2,
           2,
           2,
           2,
           -1,
           2,
           2,
           2,
           2,
           2,
           2,
           2,
           2,
           -1,
           2,
           2,
           2,
           2,
           2,
           2,
           2,
           2,
           2,
           -1,
           2,
           2,
           2,
           2,
           2,
           2,
           2,
           2,
           2,
           2,
           2,
           2,
           2,
           2,
           2,
           2,
           2,
           2,
           2,
           2,
           -1,
           -1,
           -1,
           -1,
           3,
           3,
           4,
           -1,
           -1,
           4,
           3,
           3,
           3,
           3,
           3,
           4,
           3,
           3,
           3,
           3,
           3,
           -1,
           -1,
           3,
           4,
           3,
           4,
           3,
           -1,
           -1,
           -1,
           -1,
           3,
           1,
           1,
           1,
           -1,
           3,
           3,
           3,
           3,
           4,
           3,
           4,
           -1,
           3,
           -1,
           4,
           4,
           4,
           4,
           4,
           4,
           3,
           2,
           2,
           -1,
           -1,
           -1,
           -1,
           3,
           -1,
           -1,
           -1,
           0,
           0,
           -1,
           0,
           0,
           0,
           0,
           -1,
           0,
           0,
           0,
           0,
           0,
           0,
           0,
           0,
           0,
           0,
           0,
           -1,
           -1,
           0,
           -1,
           -1,
           2,
           2,
           2,
           -1,
           0,
           -1,
           0,
           0,
           0,
           0,
           -1,
           0,
           0,
           0,
           0,
           -1,
           0,
           0,
           0,
           -1,
           -1,
           -1,
           -1
          ],
          "coloraxis": "coloraxis",
          "opacity": 0.5,
          "symbol": "circle"
         },
         "mode": "markers",
         "name": "",
         "scene": "scene",
         "showlegend": false,
         "type": "scatter3d",
         "x": [
          -0.9534384029103277,
          -0.5113751595316308,
          -0.14831176216504985,
          -0.9847720870613461,
          -0.4640053549314854,
          -0.16975536681786288,
          -0.12450930634905653,
          -0.7870473070465924,
          -0.9633124032799368,
          -0.9954404563959222,
          -0.6027924572881705,
          -0.7077732631324621,
          -0.42196030606611773,
          -1.0568693801156916,
          -0.7553911299341551,
          -0.5578106393443939,
          -0.6747573361817745,
          -0.5345803330268982,
          0.4676263821528353,
          -0.6859352463254045,
          -0.45051412219183884,
          -0.5325761436668612,
          -0.11995529566736517,
          -0.22518881226173088,
          -0.010339758797885507,
          -0.4955195896659966,
          -0.5173489186017364,
          -0.09898341578724539,
          -0.39905842309383,
          -0.4694869732717893,
          -0.2371077100142059,
          -0.9009923331153417,
          -0.10241199273924301,
          -0.6207561133047281,
          -0.8400031606861583,
          -0.8876699698444382,
          -0.7231259843591137,
          -0.37319220256632546,
          0.2645119561965794,
          -0.12211155530059964,
          2.4919442792239517,
          -0.022243812927504603,
          -0.32300240241594685,
          3.455478598636959,
          3.9126800118425096,
          -0.18008307845413557,
          -0.014263471022660386,
          -0.6441587894541354,
          -0.08303359400431708,
          -0.5299891270890188,
          -0.6183530559289123,
          -0.34463017525969053,
          -0.18244584083793813,
          -0.3299027217828608,
          -0.8833334884884108,
          -0.6183115134530434,
          -0.5874747799837705,
          -0.5983884639931495,
          -0.8148436684117045,
          -0.8212565172400123,
          -0.5403100480263168,
          -0.8568245275302562,
          -0.7967919486816829,
          -0.7744415343262151,
          -0.9749346851927483,
          -0.8471184576681542,
          -0.6899749353220568,
          -0.9355083791490052,
          -0.8401643186212576,
          -0.6624932998977394,
          -0.9211761767254404,
          -0.6340438924699198,
          -0.44727622193732947,
          -0.6508237004736523,
          -0.603490900358205,
          -0.27438275470805235,
          -0.4327586901978066,
          -0.6938118549361956,
          -0.5653206691270308,
          -0.10450435453105715,
          -0.649074696711592,
          -0.7387276254512386,
          -0.610675350910978,
          -0.579610531843918,
          -0.6566075931588531,
          -0.9545184092790286,
          -0.6763460450773168,
          -0.6684676870850952,
          -0.6391428697941832,
          -0.8410889501997568,
          -0.7556238266243772,
          -0.6975127975815706,
          -0.5971698618661132,
          -0.9701000693816939,
          -0.8269850788181596,
          -0.7417343663962037,
          -0.7807729910230577,
          -0.8578854607891212,
          -1.0327329497459163,
          -0.7676892089480047,
          -0.804215179969872,
          -0.6899337722398491,
          -0.49488033363049955,
          -0.5022172272773398,
          -0.6171192335738636,
          -0.6355483687061162,
          -0.8764032557357082,
          -0.613270447034034,
          -0.5801982280501564,
          -0.5756782444563653,
          -0.42836435079189245,
          -0.8443602935289098,
          -0.44470237285435593,
          -0.7572526913111136,
          -1.118514628811301,
          -0.7289862184177233,
          -1.2391036849307815,
          -0.19972714695551796,
          -0.7872214759931747,
          -0.5968591255477175,
          -0.8355563885885623,
          -0.9048214916285303,
          -0.2590650554951607,
          -0.8462500689144499,
          -0.04112730338240968,
          -0.1594159605814974,
          -1.132773512552711,
          -0.5194313407013665,
          0.1323889621016565,
          0.051009389601549535,
          0.4122085897376398,
          -0.7784328092382425,
          -1.0237127579009286,
          0.5488987766303448,
          0.015261707126754892,
          -0.6289814654130619,
          -0.5596121318411209,
          -0.6789526294192517,
          -0.5579550217728209,
          -0.817409762701628,
          -0.4198240792966161,
          -0.5420441170848761,
          0.16356270220044145,
          -0.680453304746464,
          -0.5534375531311201,
          -0.9414813436233471,
          -0.5008357836944511,
          -0.34335691406667146,
          -0.4949776024740971,
          -0.5950731837645992,
          -0.4612876959633371,
          -0.5173470404882553,
          -0.9457908627875717,
          -0.7541284859923508,
          -0.7422984267573806,
          -0.7461532102119636,
          -0.6106886063781707,
          -0.5097652411140403,
          -1.1244129815072292,
          -0.3807123151272001,
          -0.9202547691686664,
          -0.478478199016562,
          -0.645072018619907,
          -0.2574948804585738,
          0.4375402287356353,
          -0.8979584074469815,
          -0.412495555604549,
          -0.3418514811419645,
          -0.9212866331500351,
          -0.8681906255886687,
          -0.2644163457240821,
          -0.6454098146058806,
          -0.7785126558437001,
          -0.2704656416757069,
          -0.8955203771916881,
          -0.6569924379241268,
          -0.7081627057528087,
          -0.605624579029485,
          -0.3204436411878173,
          -0.4792734068662249,
          -0.2686825320443032,
          -0.9751560145497576,
          -0.6560145252591164,
          -0.6899222335704166,
          -0.10967135105526528,
          -0.14885050229597327,
          0.15320485963780034,
          -0.11394908761640889,
          -0.009212273851006592,
          0.04122927635586507,
          0.2578388315832989,
          0.36973283390054323,
          -0.055088898434139076,
          0.24613191290074984,
          0.12116529745718971,
          -0.12263350119892028,
          0.21191050725023325,
          0.023167908816686598,
          0.20367772729386827,
          0.15454194783276007,
          0.15126551868088128,
          0.012211061315188346,
          -0.16565776972397972,
          -0.1264099001913157,
          0.2535303449652716,
          -0.0010158289194667485,
          0.20776866649881906,
          0.1529310827365876,
          0.01792277049207397,
          0.22019185241240397,
          0.33774449605429385,
          0.18547353673828085,
          0.17519609870400216,
          0.12883450544044936,
          0.12320600546216649,
          0.15615716586298492,
          0.31407578493178406,
          0.16461442997612366,
          -0.05203853246834348,
          0.8991496113297246,
          0.43667180982378623,
          0.1453432658136057,
          0.2434115775849432,
          0.2996746766609698,
          0.0016842096816715114,
          0.08103102435187301,
          0.014689414766714794,
          -0.11513552457870378,
          -0.10399376019635172,
          0.1813587914952192,
          0.19603454334154213,
          0.10359814622930022,
          0.03020022086695333,
          0.13262430720816548,
          0.08674028000151456,
          -0.01916856184941359,
          0.06606659599942319,
          0.016055817924364144,
          -0.14235232501486883,
          0.14917437658369878,
          0.20283579764305848,
          0.37307894456166146,
          -0.046649433788139454,
          -0.1388216493254118,
          -0.1460323032933864,
          0.08915113550168245,
          -0.11017537326265796,
          0.23821596710476245,
          0.2866236649889478,
          0.07008280318402188,
          0.3072820788905266,
          0.19398413090544664,
          -0.0889434853522528,
          0.19540273641386594,
          0.09889420125402512,
          0.061261464140637066,
          -0.10224919558050125,
          -0.06612587489318797,
          0.05197549245866619,
          0.16673992509519361,
          0.5330678580277611,
          0.1958551835966929,
          -0.05198956992617721,
          0.15279370746030407,
          0.005313284065997902,
          0.29367900431893684,
          -0.07843867650241469,
          -0.07001852900222813,
          0.07671879260527273,
          -0.0014898327588024028,
          -0.09589950987131832,
          -0.08916871860586952,
          0.11735036995313819,
          0.17152119442438069,
          0.20429011218349621,
          -0.1437310706128121,
          -0.04867754980115495,
          0.3006463550018111,
          0.00433287979749162,
          0.17638227508778173,
          0.2157882656645733,
          -0.18582500002106553,
          -0.19959048267584317,
          -0.489705251118055,
          -0.7549348938338369,
          -0.6753017271570002,
          -1.0493706712424866,
          -0.6859679221052367,
          -0.7663322378973596,
          -0.4859514264430665,
          -0.5355548039864948,
          -0.853563934335431,
          -0.9881074436552507,
          -0.8541355365018449,
          -1.093600544020296,
          -1.0129107397066641,
          -0.6859012681312036,
          -0.8458047654681233,
          -0.9918622823439804,
          -0.9826528727863116,
          -1.0308886130723236,
          -0.8713108026757855,
          -0.3134811646760776,
          -0.4473564908453887,
          -0.9717702258375963,
          -0.45958622413857303,
          -0.9330652074936251,
          -0.6725983395070058,
          -0.9717702258375963,
          -0.43948627956320346,
          -0.6637146731688908,
          -0.7614703881266351,
          -0.6677568950607918,
          -0.7602196149074734,
          -0.6364078840368776,
          -0.7023916861461512,
          -0.7308022666073153,
          -0.6475479032237289,
          -0.678560730374404,
          -0.9940897495232207,
          -0.6785436947535485,
          -0.9129520568675219,
          -0.6663557370626985,
          -0.9505080878768325,
          -0.718447954697599,
          -0.1279942046925545,
          -0.8539835228344649,
          -0.6098474223780331,
          -0.2592977819526325,
          -0.365679989620661,
          -0.3457698888545953,
          -0.32294258131426345,
          -0.5254600054107307,
          -0.625169468220824,
          -0.9321028989261676,
          0.014467606505673958,
          0.2928982996289618,
          -0.3182953484236646,
          -0.4724798652439297,
          -0.36700232916494085,
          -0.3551056453834025,
          -0.9415455381558475,
          -0.7082687483968962,
          0.5718817299190104,
          -0.5418448222561391,
          4.648203529522785,
          5.194951350664183,
          0.6241998720284095,
          3.565627618934829,
          3.37787142626836,
          4.010097668909282,
          3.7940860311190594,
          0.37355792711671926,
          3.6303311010881347,
          4.159137728847069,
          4.314207991466172,
          3.6066714563992535,
          4.023765000428399,
          3.566881066490612,
          3.872485973778755,
          3.86249643442398,
          4.275038145687664,
          3.8403531047627677,
          4.7633349318856535,
          0.78303649878168,
          0.25764403322096224,
          3.9692623068390125,
          0.08202669560118214,
          0.8166102417488461,
          -0.009080524383900222,
          -0.07261933545736998,
          0.10144542670106654,
          0.45928454696010657,
          4.147895701405828,
          0.7243111097922065,
          3.5837584993001608,
          3.7265674431151266,
          4.065846189920508,
          4.1178045165267845,
          0.4012146958210709,
          3.8673685735585006,
          3.5447888183884637,
          3.590264092933909,
          3.768465137665576,
          0.9139847576393801,
          5.044230635103071,
          4.007698565680387,
          3.776382256040269,
          -0.4187492944782719,
          -0.1760185987772292,
          -0.8416338756218267,
          -0.353097456939441
         ],
         "y": [
          0.13234722221476256,
          -0.24297306973833627,
          0.9041001155804278,
          0.16515447241922368,
          1.132663958577996,
          -0.08496569114251719,
          0.16203237359264852,
          -0.0958649150761658,
          0.7701397510377084,
          0.7932405771679242,
          0.04138011903393384,
          -0.12187464977817614,
          0.984033348362357,
          2.0298134765660305,
          -0.13082199342176717,
          1.2456423402833168,
          0.7366123837360581,
          -0.23142573819480267,
          -0.8172891456277132,
          1.0185718470714122,
          0.425892591401322,
          0.3867493455473962,
          -0.4007084279552937,
          -0.22844344967856697,
          0.09299710026213304,
          -0.2940208423454374,
          -0.2687264981915399,
          0.14320108649094165,
          -0.4486119372821038,
          -0.19999413506759672,
          -0.284788083717001,
          0.4139040463084149,
          -0.11899996312225154,
          -0.03684443240571465,
          0.03665813020359851,
          0.5835665099013445,
          0.47734643847813846,
          0.9082725320547153,
          1.947404781316361,
          17.85068092297529,
          0.5867535384325526,
          -0.6582478390079791,
          0.3152253946390418,
          0.8871705052493132,
          1.1947696641715537,
          0.2307869965131137,
          -0.39940163702668446,
          1.2275936414837665,
          -0.6683508757171718,
          0.3067720081848078,
          0.4460521634623206,
          0.08769483714439491,
          -0.7132478978126313,
          1.225289172205452,
          0.5780318095424364,
          -0.03772875435330813,
          -0.05156319977749922,
          -0.04311273489943157,
          0.05324061448903926,
          0.05626147327523472,
          -0.2287966623513843,
          0.07147383244468626,
          0.04736713095082578,
          0.03855705471634986,
          0.10264190176895402,
          0.06702390561632042,
          -0.17617213773048349,
          0.10470484846997956,
          0.06432526791289142,
          -0.18047816259259192,
          0.09800589228906868,
          0.3087844789409218,
          -0.33643938345676727,
          -0.20099190651827056,
          -0.23012488544917264,
          -0.44286628551973656,
          -0.43827430084945157,
          -0.17475479232348753,
          -0.26177519262108906,
          -0.6491831503858101,
          0.03290463875632597,
          -0.15403396347302378,
          -0.22443740863212538,
          -0.255011581191054,
          -0.18643405676257319,
          0.10594049654209806,
          -0.18311752515670046,
          -0.18688852083806193,
          -0.21368276697172398,
          -0.09029192879682128,
          0.059714399089578804,
          -0.1262364278510044,
          0.04246412690830391,
          0.20024881922153948,
          0.11625140382992756,
          -0.11252201409993372,
          0.12517538355897279,
          0.06973990935165697,
          0.3541963416529104,
          0.08219939114705957,
          0.4686648221933865,
          0.04936498240652334,
          -0.055673318578281804,
          -0.2472906200930292,
          -0.1996355795729649,
          -0.10564669724637779,
          0.07870474810757253,
          -0.23001944646412711,
          -0.01745105152165482,
          -0.21466987464786677,
          -0.07658673118665153,
          0.053807834741473874,
          0.4426802788417684,
          -0.14408287693706612,
          0.1871768974423242,
          -0.15582286762313918,
          0.6389817288934239,
          -0.5923098315997194,
          1.242708772872846,
          -0.1821649757001284,
          0.8125528681995973,
          1.0519368009001244,
          -0.43536892988554904,
          -0.09861174477242449,
          0.4624083094351971,
          -0.2959073182067668,
          0.4043630434305121,
          0.6320957425744181,
          0.9962500051298682,
          0.23202130104928304,
          -0.257890691595796,
          0.028138076726388957,
          1.147448738746101,
          0.6589747456799402,
          0.43864417929439453,
          0.8459878101882179,
          -0.2597321048522425,
          0.3199620489690951,
          -0.26084432476554115,
          1.8422990452499362,
          -0.16519800481401953,
          -0.22882964070059358,
          1.7320630259444172,
          0.6162694603403617,
          -0.21720548013262042,
          0.09962497010686208,
          -0.3133587090446721,
          -0.2810583967785743,
          -0.309606042073381,
          -0.2554084985512904,
          -0.3346840480217108,
          -0.3031113791943252,
          0.10805782709287007,
          -0.1450844324391815,
          -0.006339485969891257,
          -0.14874908741054305,
          0.4596762672826953,
          0.5207639249582553,
          0.20022519331203603,
          -0.3050395265955851,
          0.06704643676679495,
          0.4923952901451141,
          -0.19001936290655508,
          -0.4123859144609494,
          -0.6528397209494385,
          1.8372353595548951,
          0.15799203238414639,
          -0.2809920662935349,
          0.1477870457373917,
          0.059772075043976226,
          -0.001409524906633093,
          -0.2230563408690656,
          -0.007441007154476094,
          -0.4253972543209516,
          0.04967588151650528,
          -0.2080917369993831,
          0.009717286431167114,
          -0.24831668536225332,
          0.008617268993808625,
          -0.3259858241910216,
          0.17807865965444838,
          0.27236992896322276,
          0.24730351480175697,
          -0.18499178338085615,
          -0.3412018680137676,
          -0.15774233295705037,
          -0.7217760445380472,
          -0.5092949351925828,
          -0.5138937572836053,
          -0.5339939576555334,
          -0.5513500793038053,
          -0.5758210430445493,
          -0.4943256886633288,
          -0.5612324301431033,
          -0.5910442383195817,
          -0.545359610714271,
          -0.5680604964725446,
          -0.4345593686822771,
          -0.5906581414636993,
          -0.5415555638676941,
          -0.5391391867044706,
          -0.527013653159978,
          -0.5103840335500797,
          -0.5511677909615462,
          -0.5707822359923121,
          -0.5392716083185385,
          -0.6757327886312698,
          -0.6558393314136118,
          -0.597669249500571,
          -0.4749314549761639,
          -0.5269307710774259,
          -0.5895553610943423,
          -0.5366432464701821,
          -0.47300863414474403,
          -0.4997547122961707,
          -0.5338116167583918,
          -0.45702380543008103,
          -0.5504741125726146,
          -0.52378869941283,
          -0.8209514153613908,
          -0.8075733544081813,
          -0.7775746884642031,
          -0.7998896120231945,
          -0.7525146847825422,
          -0.5359606642779179,
          -0.6266262488785947,
          -0.5322663522767116,
          -0.49607809786100077,
          -0.5622528227089725,
          -0.5363798857776725,
          -0.5783946654406855,
          -0.548478353135914,
          -0.5917667089571935,
          -0.6166184727406218,
          -0.5289998581096146,
          -0.5299701053300945,
          -0.46019594128251123,
          -0.5644882869661242,
          -0.5470855283299194,
          -0.5959003534359386,
          -0.5511734253904762,
          -0.5696849801629587,
          -0.6238299468856454,
          -0.5237195512970331,
          -0.5162045466529687,
          -0.48940896517138605,
          -0.5362666872849886,
          -0.5934951660181007,
          -0.5319090837278496,
          -0.5937817452261673,
          -0.5087164314854867,
          -0.5056957772580448,
          -0.5583344385749637,
          -0.5298184852738143,
          -0.4791709859242437,
          -0.5260532593568091,
          -0.521856915098976,
          -0.5276686628663347,
          -0.5276955989775655,
          -0.549774273979656,
          -0.3227697703273881,
          -0.5177747907212702,
          -0.619480883089483,
          -0.6431863765534904,
          -0.5426285170351155,
          -0.5529734609270901,
          -0.5198069265997293,
          -0.6072464882389211,
          -0.6749422255223627,
          -0.5970209048747656,
          -0.5402944287641123,
          -0.5711144292511876,
          -0.5534388097187224,
          -0.5576523112335126,
          -0.5788724297216945,
          -0.550659770384105,
          -0.5405214168155322,
          -0.5801482009963139,
          -0.600589732210616,
          -0.6045294969768257,
          -0.5126526125952999,
          -0.07342713972321134,
          -0.08115979865000161,
          -0.0384833976357609,
          0.3737807947362237,
          0.061035675496759076,
          0.15880758148928223,
          -0.18428665282684448,
          0.31223066269663496,
          1.084238765746496,
          -0.28910962610288427,
          0.02643433885544876,
          0.11244559316766785,
          0.026924604726556268,
          0.17785587706281764,
          0.13427274785351478,
          -0.17889749084648723,
          0.021355363090572763,
          0.1149052084726995,
          0.10924095596194817,
          0.13368813364514232,
          0.0382405636107894,
          -0.517362027724857,
          -0.4494611376410557,
          0.11117481570847192,
          -0.18750716597607534,
          0.0755221713352985,
          -0.20493366768794744,
          0.11117481570847192,
          0.7421833282812416,
          1.6256721688446913,
          0.7925080467076814,
          0.7251049131091066,
          0.09789840892109655,
          0.5573334635617029,
          0.5958976627953878,
          0.6112781441693984,
          0.6014010216100689,
          0.04634123734681083,
          0.11160661019706615,
          0.046254403392579704,
          0.09138103699526955,
          -0.20914707843185093,
          0.08430600618602933,
          -0.17809602663431845,
          -0.3030489653530906,
          0.09561150485924155,
          0.951049843533573,
          -0.3228226629359759,
          -0.24798932120253053,
          -0.2662429127893289,
          -0.2803393404467112,
          -0.28497515004117935,
          -0.19931619905942277,
          0.0753797675391112,
          -0.5971704220512083,
          -0.6326604803374493,
          -0.004987059017765035,
          -0.04990062426756168,
          0.7060344927676694,
          0.08215338309853558,
          0.08165907512439584,
          1.5306847980500635,
          -0.31137889573845945,
          2.2772778048084326,
          0.6229535478815009,
          0.06328109356395321,
          -0.25292362304158517,
          -0.14641745494465505,
          -0.1202429494973591,
          -0.16523551210846912,
          0.5678488835062927,
          -0.23484186290011294,
          -0.20102101205666567,
          0.22216427330428162,
          -0.28207785273385594,
          -0.1557638801083364,
          0.1896879916460739,
          0.21086242217843484,
          0.24217299785644958,
          0.2590441535080979,
          0.6989712535016404,
          0.29820212170323496,
          0.7187914006448883,
          -0.6603144319969031,
          -0.24028885636821454,
          0.24591669824859655,
          -0.14431670049647455,
          0.1946948876391044,
          -0.5944874969382801,
          -0.5729727073674407,
          -0.6085874328058143,
          -0.10511239867931622,
          0.17789542871502395,
          -0.2831792062891098,
          0.3920850891819548,
          -0.10545164798495713,
          0.25633533456435226,
          0.37350399646292004,
          -0.2291703213992655,
          0.6992227395620976,
          0.24864110278139084,
          -0.13755848810747648,
          0.30200181096546375,
          -0.3093830863818109,
          0.6391973731583256,
          0.1647669126796545,
          -0.1052208167987487,
          0.9976432947397768,
          -0.040980920376295256,
          0.11032702982516213,
          -0.2277677070408055
         ],
         "z": [
          -0.13606101724200736,
          0.30392428628105556,
          -1.009926522125277,
          -0.17033008323334448,
          -1.2039981333676208,
          -0.1428864614960604,
          -0.10612686240203982,
          0.19566060519618428,
          -0.752724908182474,
          -0.7898788788193696,
          -0.11007387895207126,
          0.19103008576654587,
          -1.0218014012862897,
          -4.061879121993488,
          0.1773245379200302,
          -1.6190521416509602,
          -1.153062731411087,
          0.2887389152385275,
          0.8406977345235883,
          -1.5383926107945254,
          -0.41033728842771966,
          -0.28878861469850214,
          0.4156705980813973,
          0.174209519622427,
          -0.07909755756029005,
          0.3984421375429099,
          0.4319004239330452,
          -0.0894794817319165,
          0.586348424453956,
          0.2584290140835587,
          0.21667337620776492,
          -0.8794680280944877,
          -0.1841486223553925,
          -0.024298183825572615,
          0.01841389779002725,
          -0.5645726597568791,
          -0.41860156211420135,
          -0.8976758140307567,
          -4.755176280726694,
          8.929005096913388,
          -0.7753834594242561,
          0.7391273190149787,
          -0.4840129367363405,
          -1.4557896085326956,
          -1.799997942496777,
          -0.24542060469148755,
          0.4061042985579052,
          -1.6414347879603985,
          0.9003605200771885,
          -0.28045550469767005,
          -0.3712637117894616,
          -0.5208943406177622,
          0.9162626349262238,
          -1.7646033414459326,
          -0.5581924496728742,
          -0.02422733596518746,
          -0.016101226004776578,
          -0.028535758098371777,
          -0.08271398958840603,
          -0.08464595877092088,
          0.3045037106308219,
          -0.0889569110641842,
          -0.08265201192045524,
          -0.079048619168444,
          -0.06070144957466074,
          -0.0891632364411256,
          0.30979532967388945,
          -0.10765377488275658,
          -0.08469039218974882,
          0.29188676315049944,
          -0.10126963340731367,
          -0.17859217199830496,
          0.5444712952945199,
          0.3435317257698978,
          0.38417428887722005,
          0.6566040022364854,
          0.5901802741274045,
          0.30855581303749363,
          0.4372292106334421,
          0.8759198513176777,
          -0.3395013530148261,
          0.2927277244532435,
          0.3745449142387674,
          0.437106491821323,
          0.3039787378126072,
          -0.09218684350034367,
          0.31566480720029594,
          0.31887468843449535,
          0.36958922639287256,
          0.20724078529237727,
          -0.36715905218546196,
          0.09811551069290395,
          -0.4958114553276522,
          -0.5682548949386926,
          -0.4601668582274856,
          0.1075920766844774,
          -0.5432962053173496,
          -0.07857346757572287,
          -0.7283244230834607,
          -0.36023385920802703,
          -1.0029037713623514,
          -0.11026394703167412,
          -0.03546534073450711,
          0.31579641076965453,
          0.2960171033112505,
          0.21491545841117665,
          -0.09068542742810087,
          0.391855913331584,
          0.018104060120904236,
          0.29976071417907735,
          0.03397863401730252,
          -0.04529567993651786,
          -0.4743001240581963,
          0.2817588020928907,
          -0.1642441788006634,
          0.2916846521585743,
          -1.1067231211468669,
          0.8139002261699949,
          -2.3831469798520524,
          0.2172047355154424,
          -0.9094566233226816,
          -1.5245591182912623,
          0.5050365497519509,
          0.23581529814298288,
          -0.6767227116984983,
          0.24932266124982277,
          -0.7705569898054272,
          -2.000983357168327,
          -1.230127430099475,
          -0.29064952781363934,
          0.3885707422724719,
          0.012169480771771737,
          -1.7101614318235512,
          -1.0114944469410658,
          -0.6666662066218567,
          -1.4228006190582319,
          0.36034353868419355,
          -0.8084905130581718,
          0.3619227907916046,
          -2.878234312847598,
          0.08358411644629138,
          0.2877372149822836,
          -4.364288442562993,
          -0.7773499517103873,
          0.2676348747335041,
          -0.06267059319963039,
          0.5205759111605127,
          0.36619307854796507,
          0.5066231164513039,
          0.44488049359406023,
          0.5451630312667664,
          0.5071068062330282,
          -0.07510214688078094,
          0.2814497773213499,
          0.03129979636986214,
          0.28420929718563126,
          -0.40741258667223995,
          -0.6101626214507936,
          -0.19552393333779627,
          0.3559825346182567,
          -0.008334567411633928,
          -0.5559083021164402,
          0.25736612012136295,
          0.4542457066731924,
          0.6668228771316712,
          -3.8861856212111867,
          -0.5801792603164548,
          0.36552161047176623,
          -0.19658878364601332,
          -0.01317716171935794,
          -0.14529849780625326,
          0.40168693337898803,
          0.08304088903003085,
          0.488182661634885,
          0.018057450033539403,
          0.37762912804373977,
          0.027291569728852553,
          0.4352106476640755,
          -0.14442013357013714,
          0.5367720988272099,
          -0.12639569719133675,
          -0.28770455366042685,
          -0.6709998397567013,
          0.3362395383883868,
          0.36827900039218187,
          0.05376970527895788,
          0.9954938972169753,
          0.5543428869940742,
          0.5300632530724714,
          0.5450638275432462,
          0.37869916319729824,
          0.397848842458777,
          0.4122440787721481,
          0.534386967102855,
          0.7008755124110713,
          0.6564641728603267,
          0.5007216385263412,
          0.23020116213680214,
          0.6482269109435675,
          0.5112783173011796,
          0.511814636235734,
          0.5356972780418501,
          0.5747918623460675,
          0.6844327365613684,
          0.5605077939389103,
          0.5909233899143418,
          0.7879406227825511,
          0.7457023865764679,
          0.727739061623058,
          0.21039229731864803,
          0.33145941498390263,
          0.6706430969741544,
          0.5253459971657198,
          0.30580735840570933,
          0.443141468475189,
          0.42025257473448907,
          0.17431092636535547,
          0.5487905196903303,
          0.5644286105927715,
          0.9581624493824062,
          1.055046168164687,
          1.0946521703627727,
          1.1223696382145236,
          1.0129106437439304,
          0.583229026680978,
          0.7769193524367811,
          0.5326607749017584,
          0.5100044728021648,
          0.731304103740081,
          0.48754275264667923,
          0.6305037661528327,
          0.5998237244961727,
          0.7738954653958168,
          0.8016086355841009,
          0.5343471137546224,
          0.5711926110452994,
          0.270735158720534,
          0.6699885193299486,
          0.6949619117221416,
          0.7001772944125686,
          0.5317650645823184,
          0.5062906231585188,
          0.8886755658533435,
          0.6110701677437977,
          0.5573179619975288,
          0.39381197203862595,
          0.5608269687659185,
          0.6275421178261346,
          0.26689476680082636,
          0.726813246420258,
          0.20821721133924193,
          0.264232433524603,
          0.745522150057406,
          0.38084235541561917,
          0.3594819666500253,
          0.489721007843301,
          0.5779844493389251,
          0.5804204726275042,
          0.5200137730832542,
          0.5453672819080552,
          -0.36004572856443745,
          0.41186411433273706,
          0.846481120721018,
          0.817381316677236,
          0.5358944509114233,
          0.455136984750372,
          0.5591358417150402,
          0.8444909003810853,
          0.9175118568066762,
          0.8278785846541559,
          0.6400723036956729,
          0.7338570395241467,
          0.573078924448939,
          0.5835645976680175,
          0.6545020782213938,
          0.7051320187019686,
          0.6169253578552419,
          0.5686258820715974,
          0.7732320907806793,
          0.6743724557325487,
          0.33733603908947596,
          -0.14872384888816306,
          -0.37151808799403485,
          -0.07018202388145896,
          -0.8765858432261767,
          -0.13531527269896798,
          -0.14715716256706496,
          0.33047698830211125,
          -0.7165783344666613,
          -2.1943743986909867,
          0.4863609560756016,
          0.04562801650267278,
          -0.07167221051059182,
          0.04480199239588069,
          -0.15907332260836624,
          -0.11241417659223225,
          0.31389784930865494,
          0.0526478815466489,
          -0.07516229679145014,
          -0.06768724179562877,
          -0.09238416082159893,
          0.029056069813859296,
          0.7058756853403089,
          0.6368088247308924,
          -0.08470828504130563,
          0.21023821924916108,
          -0.018741683234054875,
          0.37660166058033345,
          -0.08470828504130563,
          -1.3338679376428313,
          -3.2005022102712175,
          -1.1647793298396663,
          -1.0695072858867467,
          -0.16087517855481565,
          -0.6419115343055878,
          -0.6895701175657362,
          -0.707057315951033,
          -0.7701077094433552,
          -0.0905913348043466,
          -0.06401322933611914,
          -0.09037861304368916,
          -0.0729743116791879,
          0.38287128770352713,
          -0.027835066290982945,
          0.34222915775399726,
          0.26145433510183624,
          -0.11427800814329213,
          -1.572376245319841,
          0.40881091270507647,
          0.2958187773932948,
          0.3294764387438635,
          0.34810710921983334,
          0.4664796411794026,
          0.3108313653261645,
          -0.020504181745415268,
          0.6991417703276998,
          0.6644969552443613,
          -0.47224443985841036,
          -0.30953399264030995,
          -1.357141529327951,
          -0.2717555276584836,
          -0.02930452480801546,
          -2.828486202954345,
          0.4814559302455286,
          -4.991653982212498,
          -0.6950578323473743,
          -0.24162732119196437,
          0.27614791254457527,
          0.29231300986033076,
          0.2910144890324537,
          0.1067569886933475,
          -0.8007684895933638,
          0.3423801780397836,
          0.3886035525380365,
          -0.24054473392565578,
          0.46568987073448403,
          0.31016492521760447,
          -0.05851706221784699,
          0.15131327669103534,
          -0.13819512323513383,
          -0.17263549377325121,
          -0.7826531063909435,
          -0.21322154853883638,
          -1.8759696775017067,
          0.4945926826048841,
          0.4163403179161306,
          -0.23281635228179762,
          0.28763986922740986,
          -0.19502369463354438,
          0.700598949114889,
          0.6543313285459846,
          0.6952063030656193,
          -0.0674717234886726,
          -0.063142038803039,
          0.3158701380995343,
          -0.39164824639656937,
          0.030082060083058103,
          -0.3145718822340035,
          -0.4448333393274848,
          0.2879280996794799,
          -0.5361205684544981,
          0.002944443363624881,
          0.21646523718668095,
          -0.204785751755834,
          0.3180364054374192,
          -1.728621523776738,
          0.007232604429119025,
          -0.0023879747864000217,
          -1.1112394304875703,
          0.15870194437226734,
          -0.36731266188755507,
          0.21022996334436084
         ]
        }
       ],
       "layout": {
        "coloraxis": {
         "colorbar": {
          "title": {
           "text": "cluster"
          }
         },
         "colorscale": [
          [
           0,
           "#0d0887"
          ],
          [
           0.1111111111111111,
           "#46039f"
          ],
          [
           0.2222222222222222,
           "#7201a8"
          ],
          [
           0.3333333333333333,
           "#9c179e"
          ],
          [
           0.4444444444444444,
           "#bd3786"
          ],
          [
           0.5555555555555556,
           "#d8576b"
          ],
          [
           0.6666666666666666,
           "#ed7953"
          ],
          [
           0.7777777777777778,
           "#fb9f3a"
          ],
          [
           0.8888888888888888,
           "#fdca26"
          ],
          [
           1,
           "#f0f921"
          ]
         ]
        },
        "height": 800,
        "legend": {
         "tracegroupgap": 0
        },
        "scene": {
         "domain": {
          "x": [
           0,
           1
          ],
          "y": [
           0,
           1
          ]
         },
         "xaxis": {
          "title": {
           "text": "famd1"
          }
         },
         "yaxis": {
          "title": {
           "text": "famd2"
          }
         },
         "zaxis": {
          "title": {
           "text": "famd3"
          }
         }
        },
        "template": {
         "data": {
          "bar": [
           {
            "error_x": {
             "color": "#f2f5fa"
            },
            "error_y": {
             "color": "#f2f5fa"
            },
            "marker": {
             "line": {
              "color": "rgb(17,17,17)",
              "width": 0.5
             },
             "pattern": {
              "fillmode": "overlay",
              "size": 10,
              "solidity": 0.2
             }
            },
            "type": "bar"
           }
          ],
          "barpolar": [
           {
            "marker": {
             "line": {
              "color": "rgb(17,17,17)",
              "width": 0.5
             },
             "pattern": {
              "fillmode": "overlay",
              "size": 10,
              "solidity": 0.2
             }
            },
            "type": "barpolar"
           }
          ],
          "carpet": [
           {
            "aaxis": {
             "endlinecolor": "#A2B1C6",
             "gridcolor": "#506784",
             "linecolor": "#506784",
             "minorgridcolor": "#506784",
             "startlinecolor": "#A2B1C6"
            },
            "baxis": {
             "endlinecolor": "#A2B1C6",
             "gridcolor": "#506784",
             "linecolor": "#506784",
             "minorgridcolor": "#506784",
             "startlinecolor": "#A2B1C6"
            },
            "type": "carpet"
           }
          ],
          "choropleth": [
           {
            "colorbar": {
             "outlinewidth": 0,
             "ticks": ""
            },
            "type": "choropleth"
           }
          ],
          "contour": [
           {
            "colorbar": {
             "outlinewidth": 0,
             "ticks": ""
            },
            "colorscale": [
             [
              0,
              "#0d0887"
             ],
             [
              0.1111111111111111,
              "#46039f"
             ],
             [
              0.2222222222222222,
              "#7201a8"
             ],
             [
              0.3333333333333333,
              "#9c179e"
             ],
             [
              0.4444444444444444,
              "#bd3786"
             ],
             [
              0.5555555555555556,
              "#d8576b"
             ],
             [
              0.6666666666666666,
              "#ed7953"
             ],
             [
              0.7777777777777778,
              "#fb9f3a"
             ],
             [
              0.8888888888888888,
              "#fdca26"
             ],
             [
              1,
              "#f0f921"
             ]
            ],
            "type": "contour"
           }
          ],
          "contourcarpet": [
           {
            "colorbar": {
             "outlinewidth": 0,
             "ticks": ""
            },
            "type": "contourcarpet"
           }
          ],
          "heatmap": [
           {
            "colorbar": {
             "outlinewidth": 0,
             "ticks": ""
            },
            "colorscale": [
             [
              0,
              "#0d0887"
             ],
             [
              0.1111111111111111,
              "#46039f"
             ],
             [
              0.2222222222222222,
              "#7201a8"
             ],
             [
              0.3333333333333333,
              "#9c179e"
             ],
             [
              0.4444444444444444,
              "#bd3786"
             ],
             [
              0.5555555555555556,
              "#d8576b"
             ],
             [
              0.6666666666666666,
              "#ed7953"
             ],
             [
              0.7777777777777778,
              "#fb9f3a"
             ],
             [
              0.8888888888888888,
              "#fdca26"
             ],
             [
              1,
              "#f0f921"
             ]
            ],
            "type": "heatmap"
           }
          ],
          "heatmapgl": [
           {
            "colorbar": {
             "outlinewidth": 0,
             "ticks": ""
            },
            "colorscale": [
             [
              0,
              "#0d0887"
             ],
             [
              0.1111111111111111,
              "#46039f"
             ],
             [
              0.2222222222222222,
              "#7201a8"
             ],
             [
              0.3333333333333333,
              "#9c179e"
             ],
             [
              0.4444444444444444,
              "#bd3786"
             ],
             [
              0.5555555555555556,
              "#d8576b"
             ],
             [
              0.6666666666666666,
              "#ed7953"
             ],
             [
              0.7777777777777778,
              "#fb9f3a"
             ],
             [
              0.8888888888888888,
              "#fdca26"
             ],
             [
              1,
              "#f0f921"
             ]
            ],
            "type": "heatmapgl"
           }
          ],
          "histogram": [
           {
            "marker": {
             "pattern": {
              "fillmode": "overlay",
              "size": 10,
              "solidity": 0.2
             }
            },
            "type": "histogram"
           }
          ],
          "histogram2d": [
           {
            "colorbar": {
             "outlinewidth": 0,
             "ticks": ""
            },
            "colorscale": [
             [
              0,
              "#0d0887"
             ],
             [
              0.1111111111111111,
              "#46039f"
             ],
             [
              0.2222222222222222,
              "#7201a8"
             ],
             [
              0.3333333333333333,
              "#9c179e"
             ],
             [
              0.4444444444444444,
              "#bd3786"
             ],
             [
              0.5555555555555556,
              "#d8576b"
             ],
             [
              0.6666666666666666,
              "#ed7953"
             ],
             [
              0.7777777777777778,
              "#fb9f3a"
             ],
             [
              0.8888888888888888,
              "#fdca26"
             ],
             [
              1,
              "#f0f921"
             ]
            ],
            "type": "histogram2d"
           }
          ],
          "histogram2dcontour": [
           {
            "colorbar": {
             "outlinewidth": 0,
             "ticks": ""
            },
            "colorscale": [
             [
              0,
              "#0d0887"
             ],
             [
              0.1111111111111111,
              "#46039f"
             ],
             [
              0.2222222222222222,
              "#7201a8"
             ],
             [
              0.3333333333333333,
              "#9c179e"
             ],
             [
              0.4444444444444444,
              "#bd3786"
             ],
             [
              0.5555555555555556,
              "#d8576b"
             ],
             [
              0.6666666666666666,
              "#ed7953"
             ],
             [
              0.7777777777777778,
              "#fb9f3a"
             ],
             [
              0.8888888888888888,
              "#fdca26"
             ],
             [
              1,
              "#f0f921"
             ]
            ],
            "type": "histogram2dcontour"
           }
          ],
          "mesh3d": [
           {
            "colorbar": {
             "outlinewidth": 0,
             "ticks": ""
            },
            "type": "mesh3d"
           }
          ],
          "parcoords": [
           {
            "line": {
             "colorbar": {
              "outlinewidth": 0,
              "ticks": ""
             }
            },
            "type": "parcoords"
           }
          ],
          "pie": [
           {
            "automargin": true,
            "type": "pie"
           }
          ],
          "scatter": [
           {
            "marker": {
             "line": {
              "color": "#283442"
             }
            },
            "type": "scatter"
           }
          ],
          "scatter3d": [
           {
            "line": {
             "colorbar": {
              "outlinewidth": 0,
              "ticks": ""
             }
            },
            "marker": {
             "colorbar": {
              "outlinewidth": 0,
              "ticks": ""
             }
            },
            "type": "scatter3d"
           }
          ],
          "scattercarpet": [
           {
            "marker": {
             "colorbar": {
              "outlinewidth": 0,
              "ticks": ""
             }
            },
            "type": "scattercarpet"
           }
          ],
          "scattergeo": [
           {
            "marker": {
             "colorbar": {
              "outlinewidth": 0,
              "ticks": ""
             }
            },
            "type": "scattergeo"
           }
          ],
          "scattergl": [
           {
            "marker": {
             "line": {
              "color": "#283442"
             }
            },
            "type": "scattergl"
           }
          ],
          "scattermapbox": [
           {
            "marker": {
             "colorbar": {
              "outlinewidth": 0,
              "ticks": ""
             }
            },
            "type": "scattermapbox"
           }
          ],
          "scatterpolar": [
           {
            "marker": {
             "colorbar": {
              "outlinewidth": 0,
              "ticks": ""
             }
            },
            "type": "scatterpolar"
           }
          ],
          "scatterpolargl": [
           {
            "marker": {
             "colorbar": {
              "outlinewidth": 0,
              "ticks": ""
             }
            },
            "type": "scatterpolargl"
           }
          ],
          "scatterternary": [
           {
            "marker": {
             "colorbar": {
              "outlinewidth": 0,
              "ticks": ""
             }
            },
            "type": "scatterternary"
           }
          ],
          "surface": [
           {
            "colorbar": {
             "outlinewidth": 0,
             "ticks": ""
            },
            "colorscale": [
             [
              0,
              "#0d0887"
             ],
             [
              0.1111111111111111,
              "#46039f"
             ],
             [
              0.2222222222222222,
              "#7201a8"
             ],
             [
              0.3333333333333333,
              "#9c179e"
             ],
             [
              0.4444444444444444,
              "#bd3786"
             ],
             [
              0.5555555555555556,
              "#d8576b"
             ],
             [
              0.6666666666666666,
              "#ed7953"
             ],
             [
              0.7777777777777778,
              "#fb9f3a"
             ],
             [
              0.8888888888888888,
              "#fdca26"
             ],
             [
              1,
              "#f0f921"
             ]
            ],
            "type": "surface"
           }
          ],
          "table": [
           {
            "cells": {
             "fill": {
              "color": "#506784"
             },
             "line": {
              "color": "rgb(17,17,17)"
             }
            },
            "header": {
             "fill": {
              "color": "#2a3f5f"
             },
             "line": {
              "color": "rgb(17,17,17)"
             }
            },
            "type": "table"
           }
          ]
         },
         "layout": {
          "annotationdefaults": {
           "arrowcolor": "#f2f5fa",
           "arrowhead": 0,
           "arrowwidth": 1
          },
          "autotypenumbers": "strict",
          "coloraxis": {
           "colorbar": {
            "outlinewidth": 0,
            "ticks": ""
           }
          },
          "colorscale": {
           "diverging": [
            [
             0,
             "#8e0152"
            ],
            [
             0.1,
             "#c51b7d"
            ],
            [
             0.2,
             "#de77ae"
            ],
            [
             0.3,
             "#f1b6da"
            ],
            [
             0.4,
             "#fde0ef"
            ],
            [
             0.5,
             "#f7f7f7"
            ],
            [
             0.6,
             "#e6f5d0"
            ],
            [
             0.7,
             "#b8e186"
            ],
            [
             0.8,
             "#7fbc41"
            ],
            [
             0.9,
             "#4d9221"
            ],
            [
             1,
             "#276419"
            ]
           ],
           "sequential": [
            [
             0,
             "#0d0887"
            ],
            [
             0.1111111111111111,
             "#46039f"
            ],
            [
             0.2222222222222222,
             "#7201a8"
            ],
            [
             0.3333333333333333,
             "#9c179e"
            ],
            [
             0.4444444444444444,
             "#bd3786"
            ],
            [
             0.5555555555555556,
             "#d8576b"
            ],
            [
             0.6666666666666666,
             "#ed7953"
            ],
            [
             0.7777777777777778,
             "#fb9f3a"
            ],
            [
             0.8888888888888888,
             "#fdca26"
            ],
            [
             1,
             "#f0f921"
            ]
           ],
           "sequentialminus": [
            [
             0,
             "#0d0887"
            ],
            [
             0.1111111111111111,
             "#46039f"
            ],
            [
             0.2222222222222222,
             "#7201a8"
            ],
            [
             0.3333333333333333,
             "#9c179e"
            ],
            [
             0.4444444444444444,
             "#bd3786"
            ],
            [
             0.5555555555555556,
             "#d8576b"
            ],
            [
             0.6666666666666666,
             "#ed7953"
            ],
            [
             0.7777777777777778,
             "#fb9f3a"
            ],
            [
             0.8888888888888888,
             "#fdca26"
            ],
            [
             1,
             "#f0f921"
            ]
           ]
          },
          "colorway": [
           "#636efa",
           "#EF553B",
           "#00cc96",
           "#ab63fa",
           "#FFA15A",
           "#19d3f3",
           "#FF6692",
           "#B6E880",
           "#FF97FF",
           "#FECB52"
          ],
          "font": {
           "color": "#f2f5fa"
          },
          "geo": {
           "bgcolor": "rgb(17,17,17)",
           "lakecolor": "rgb(17,17,17)",
           "landcolor": "rgb(17,17,17)",
           "showlakes": true,
           "showland": true,
           "subunitcolor": "#506784"
          },
          "hoverlabel": {
           "align": "left"
          },
          "hovermode": "closest",
          "mapbox": {
           "style": "dark"
          },
          "paper_bgcolor": "rgb(17,17,17)",
          "plot_bgcolor": "rgb(17,17,17)",
          "polar": {
           "angularaxis": {
            "gridcolor": "#506784",
            "linecolor": "#506784",
            "ticks": ""
           },
           "bgcolor": "rgb(17,17,17)",
           "radialaxis": {
            "gridcolor": "#506784",
            "linecolor": "#506784",
            "ticks": ""
           }
          },
          "scene": {
           "xaxis": {
            "backgroundcolor": "rgb(17,17,17)",
            "gridcolor": "#506784",
            "gridwidth": 2,
            "linecolor": "#506784",
            "showbackground": true,
            "ticks": "",
            "zerolinecolor": "#C8D4E3"
           },
           "yaxis": {
            "backgroundcolor": "rgb(17,17,17)",
            "gridcolor": "#506784",
            "gridwidth": 2,
            "linecolor": "#506784",
            "showbackground": true,
            "ticks": "",
            "zerolinecolor": "#C8D4E3"
           },
           "zaxis": {
            "backgroundcolor": "rgb(17,17,17)",
            "gridcolor": "#506784",
            "gridwidth": 2,
            "linecolor": "#506784",
            "showbackground": true,
            "ticks": "",
            "zerolinecolor": "#C8D4E3"
           }
          },
          "shapedefaults": {
           "line": {
            "color": "#f2f5fa"
           }
          },
          "sliderdefaults": {
           "bgcolor": "#C8D4E3",
           "bordercolor": "rgb(17,17,17)",
           "borderwidth": 1,
           "tickwidth": 0
          },
          "ternary": {
           "aaxis": {
            "gridcolor": "#506784",
            "linecolor": "#506784",
            "ticks": ""
           },
           "baxis": {
            "gridcolor": "#506784",
            "linecolor": "#506784",
            "ticks": ""
           },
           "bgcolor": "rgb(17,17,17)",
           "caxis": {
            "gridcolor": "#506784",
            "linecolor": "#506784",
            "ticks": ""
           }
          },
          "title": {
           "x": 0.05
          },
          "updatemenudefaults": {
           "bgcolor": "#506784",
           "borderwidth": 0
          },
          "xaxis": {
           "automargin": true,
           "gridcolor": "#283442",
           "linecolor": "#506784",
           "ticks": "",
           "title": {
            "standoff": 15
           },
           "zerolinecolor": "#283442",
           "zerolinewidth": 2
          },
          "yaxis": {
           "automargin": true,
           "gridcolor": "#283442",
           "linecolor": "#506784",
           "ticks": "",
           "title": {
            "standoff": 15
           },
           "zerolinecolor": "#283442",
           "zerolinewidth": 2
          }
         }
        },
        "title": {
         "text": "FAMD - 3 components"
        },
        "width": 1150
       }
      },
      "text/html": [
       "<div>                            <div id=\"c2c9ba88-a3bd-4951-be94-18b237ef163d\" class=\"plotly-graph-div\" style=\"height:800px; width:1150px;\"></div>            <script type=\"text/javascript\">                require([\"plotly\"], function(Plotly) {                    window.PLOTLYENV=window.PLOTLYENV || {};                                    if (document.getElementById(\"c2c9ba88-a3bd-4951-be94-18b237ef163d\")) {                    Plotly.newPlot(                        \"c2c9ba88-a3bd-4951-be94-18b237ef163d\",                        [{\"hovertemplate\":\"famd1=%{x}<br>famd2=%{y}<br>famd3=%{z}<br>cluster=%{marker.color}<extra></extra>\",\"legendgroup\":\"\",\"marker\":{\"color\":[3,4,-1,3,-1,-1,-1,4,-1,-1,3,4,-1,-1,4,-1,-1,4,-1,-1,1,1,-1,-1,-1,4,4,-1,-1,4,-1,-1,-1,3,3,-1,1,-1,-1,-1,0,2,-1,0,0,-1,-1,-1,2,1,1,-1,-1,-1,-1,3,3,3,3,3,4,3,3,3,3,3,4,3,3,4,3,-1,4,4,4,-1,-1,4,4,2,-1,4,4,4,4,3,4,4,4,-1,-1,-1,-1,-1,-1,3,-1,3,-1,-1,-1,3,3,4,4,4,3,4,3,4,-1,3,1,4,-1,4,-1,2,-1,4,-1,-1,-1,4,-1,-1,-1,-1,-1,-1,-1,3,-1,-1,-1,-1,4,-1,4,-1,-1,4,-1,-1,4,3,4,4,4,4,4,4,3,4,3,4,1,1,-1,4,3,1,4,-1,-1,-1,-1,4,3,3,-1,4,3,-1,3,4,3,4,-1,4,-1,-1,-1,4,-1,-1,-1,2,2,2,2,-1,2,2,2,2,2,-1,2,2,2,2,2,2,2,2,2,2,2,2,2,2,2,2,2,2,-1,2,2,-1,-1,-1,-1,-1,2,2,2,2,2,2,2,2,2,2,2,2,-1,2,2,2,2,-1,2,2,2,2,2,2,2,2,-1,2,2,2,2,2,2,2,2,2,-1,2,2,2,2,2,2,2,2,2,2,2,2,2,2,2,2,2,2,2,2,-1,-1,-1,-1,3,3,4,-1,-1,4,3,3,3,3,3,4,3,3,3,3,3,-1,-1,3,4,3,4,3,-1,-1,-1,-1,3,1,1,1,-1,3,3,3,3,4,3,4,-1,3,-1,4,4,4,4,4,4,3,2,2,-1,-1,-1,-1,3,-1,-1,-1,0,0,-1,0,0,0,0,-1,0,0,0,0,0,0,0,0,0,0,0,-1,-1,0,-1,-1,2,2,2,-1,0,-1,0,0,0,0,-1,0,0,0,0,-1,0,0,0,-1,-1,-1,-1],\"coloraxis\":\"coloraxis\",\"opacity\":0.5,\"symbol\":\"circle\"},\"mode\":\"markers\",\"name\":\"\",\"scene\":\"scene\",\"showlegend\":false,\"x\":[-0.9534384029103277,-0.5113751595316308,-0.14831176216504985,-0.9847720870613461,-0.4640053549314854,-0.16975536681786288,-0.12450930634905653,-0.7870473070465924,-0.9633124032799368,-0.9954404563959222,-0.6027924572881705,-0.7077732631324621,-0.42196030606611773,-1.0568693801156916,-0.7553911299341551,-0.5578106393443939,-0.6747573361817745,-0.5345803330268982,0.4676263821528353,-0.6859352463254045,-0.45051412219183884,-0.5325761436668612,-0.11995529566736517,-0.22518881226173088,-0.010339758797885507,-0.4955195896659966,-0.5173489186017364,-0.09898341578724539,-0.39905842309383,-0.4694869732717893,-0.2371077100142059,-0.9009923331153417,-0.10241199273924301,-0.6207561133047281,-0.8400031606861583,-0.8876699698444382,-0.7231259843591137,-0.37319220256632546,0.2645119561965794,-0.12211155530059964,2.4919442792239517,-0.022243812927504603,-0.32300240241594685,3.455478598636959,3.9126800118425096,-0.18008307845413557,-0.014263471022660386,-0.6441587894541354,-0.08303359400431708,-0.5299891270890188,-0.6183530559289123,-0.34463017525969053,-0.18244584083793813,-0.3299027217828608,-0.8833334884884108,-0.6183115134530434,-0.5874747799837705,-0.5983884639931495,-0.8148436684117045,-0.8212565172400123,-0.5403100480263168,-0.8568245275302562,-0.7967919486816829,-0.7744415343262151,-0.9749346851927483,-0.8471184576681542,-0.6899749353220568,-0.9355083791490052,-0.8401643186212576,-0.6624932998977394,-0.9211761767254404,-0.6340438924699198,-0.44727622193732947,-0.6508237004736523,-0.603490900358205,-0.27438275470805235,-0.4327586901978066,-0.6938118549361956,-0.5653206691270308,-0.10450435453105715,-0.649074696711592,-0.7387276254512386,-0.610675350910978,-0.579610531843918,-0.6566075931588531,-0.9545184092790286,-0.6763460450773168,-0.6684676870850952,-0.6391428697941832,-0.8410889501997568,-0.7556238266243772,-0.6975127975815706,-0.5971698618661132,-0.9701000693816939,-0.8269850788181596,-0.7417343663962037,-0.7807729910230577,-0.8578854607891212,-1.0327329497459163,-0.7676892089480047,-0.804215179969872,-0.6899337722398491,-0.49488033363049955,-0.5022172272773398,-0.6171192335738636,-0.6355483687061162,-0.8764032557357082,-0.613270447034034,-0.5801982280501564,-0.5756782444563653,-0.42836435079189245,-0.8443602935289098,-0.44470237285435593,-0.7572526913111136,-1.118514628811301,-0.7289862184177233,-1.2391036849307815,-0.19972714695551796,-0.7872214759931747,-0.5968591255477175,-0.8355563885885623,-0.9048214916285303,-0.2590650554951607,-0.8462500689144499,-0.04112730338240968,-0.1594159605814974,-1.132773512552711,-0.5194313407013665,0.1323889621016565,0.051009389601549535,0.4122085897376398,-0.7784328092382425,-1.0237127579009286,0.5488987766303448,0.015261707126754892,-0.6289814654130619,-0.5596121318411209,-0.6789526294192517,-0.5579550217728209,-0.817409762701628,-0.4198240792966161,-0.5420441170848761,0.16356270220044145,-0.680453304746464,-0.5534375531311201,-0.9414813436233471,-0.5008357836944511,-0.34335691406667146,-0.4949776024740971,-0.5950731837645992,-0.4612876959633371,-0.5173470404882553,-0.9457908627875717,-0.7541284859923508,-0.7422984267573806,-0.7461532102119636,-0.6106886063781707,-0.5097652411140403,-1.1244129815072292,-0.3807123151272001,-0.9202547691686664,-0.478478199016562,-0.645072018619907,-0.2574948804585738,0.4375402287356353,-0.8979584074469815,-0.412495555604549,-0.3418514811419645,-0.9212866331500351,-0.8681906255886687,-0.2644163457240821,-0.6454098146058806,-0.7785126558437001,-0.2704656416757069,-0.8955203771916881,-0.6569924379241268,-0.7081627057528087,-0.605624579029485,-0.3204436411878173,-0.4792734068662249,-0.2686825320443032,-0.9751560145497576,-0.6560145252591164,-0.6899222335704166,-0.10967135105526528,-0.14885050229597327,0.15320485963780034,-0.11394908761640889,-0.009212273851006592,0.04122927635586507,0.2578388315832989,0.36973283390054323,-0.055088898434139076,0.24613191290074984,0.12116529745718971,-0.12263350119892028,0.21191050725023325,0.023167908816686598,0.20367772729386827,0.15454194783276007,0.15126551868088128,0.012211061315188346,-0.16565776972397972,-0.1264099001913157,0.2535303449652716,-0.0010158289194667485,0.20776866649881906,0.1529310827365876,0.01792277049207397,0.22019185241240397,0.33774449605429385,0.18547353673828085,0.17519609870400216,0.12883450544044936,0.12320600546216649,0.15615716586298492,0.31407578493178406,0.16461442997612366,-0.05203853246834348,0.8991496113297246,0.43667180982378623,0.1453432658136057,0.2434115775849432,0.2996746766609698,0.0016842096816715114,0.08103102435187301,0.014689414766714794,-0.11513552457870378,-0.10399376019635172,0.1813587914952192,0.19603454334154213,0.10359814622930022,0.03020022086695333,0.13262430720816548,0.08674028000151456,-0.01916856184941359,0.06606659599942319,0.016055817924364144,-0.14235232501486883,0.14917437658369878,0.20283579764305848,0.37307894456166146,-0.046649433788139454,-0.1388216493254118,-0.1460323032933864,0.08915113550168245,-0.11017537326265796,0.23821596710476245,0.2866236649889478,0.07008280318402188,0.3072820788905266,0.19398413090544664,-0.0889434853522528,0.19540273641386594,0.09889420125402512,0.061261464140637066,-0.10224919558050125,-0.06612587489318797,0.05197549245866619,0.16673992509519361,0.5330678580277611,0.1958551835966929,-0.05198956992617721,0.15279370746030407,0.005313284065997902,0.29367900431893684,-0.07843867650241469,-0.07001852900222813,0.07671879260527273,-0.0014898327588024028,-0.09589950987131832,-0.08916871860586952,0.11735036995313819,0.17152119442438069,0.20429011218349621,-0.1437310706128121,-0.04867754980115495,0.3006463550018111,0.00433287979749162,0.17638227508778173,0.2157882656645733,-0.18582500002106553,-0.19959048267584317,-0.489705251118055,-0.7549348938338369,-0.6753017271570002,-1.0493706712424866,-0.6859679221052367,-0.7663322378973596,-0.4859514264430665,-0.5355548039864948,-0.853563934335431,-0.9881074436552507,-0.8541355365018449,-1.093600544020296,-1.0129107397066641,-0.6859012681312036,-0.8458047654681233,-0.9918622823439804,-0.9826528727863116,-1.0308886130723236,-0.8713108026757855,-0.3134811646760776,-0.4473564908453887,-0.9717702258375963,-0.45958622413857303,-0.9330652074936251,-0.6725983395070058,-0.9717702258375963,-0.43948627956320346,-0.6637146731688908,-0.7614703881266351,-0.6677568950607918,-0.7602196149074734,-0.6364078840368776,-0.7023916861461512,-0.7308022666073153,-0.6475479032237289,-0.678560730374404,-0.9940897495232207,-0.6785436947535485,-0.9129520568675219,-0.6663557370626985,-0.9505080878768325,-0.718447954697599,-0.1279942046925545,-0.8539835228344649,-0.6098474223780331,-0.2592977819526325,-0.365679989620661,-0.3457698888545953,-0.32294258131426345,-0.5254600054107307,-0.625169468220824,-0.9321028989261676,0.014467606505673958,0.2928982996289618,-0.3182953484236646,-0.4724798652439297,-0.36700232916494085,-0.3551056453834025,-0.9415455381558475,-0.7082687483968962,0.5718817299190104,-0.5418448222561391,4.648203529522785,5.194951350664183,0.6241998720284095,3.565627618934829,3.37787142626836,4.010097668909282,3.7940860311190594,0.37355792711671926,3.6303311010881347,4.159137728847069,4.314207991466172,3.6066714563992535,4.023765000428399,3.566881066490612,3.872485973778755,3.86249643442398,4.275038145687664,3.8403531047627677,4.7633349318856535,0.78303649878168,0.25764403322096224,3.9692623068390125,0.08202669560118214,0.8166102417488461,-0.009080524383900222,-0.07261933545736998,0.10144542670106654,0.45928454696010657,4.147895701405828,0.7243111097922065,3.5837584993001608,3.7265674431151266,4.065846189920508,4.1178045165267845,0.4012146958210709,3.8673685735585006,3.5447888183884637,3.590264092933909,3.768465137665576,0.9139847576393801,5.044230635103071,4.007698565680387,3.776382256040269,-0.4187492944782719,-0.1760185987772292,-0.8416338756218267,-0.353097456939441],\"y\":[0.13234722221476256,-0.24297306973833627,0.9041001155804278,0.16515447241922368,1.132663958577996,-0.08496569114251719,0.16203237359264852,-0.0958649150761658,0.7701397510377084,0.7932405771679242,0.04138011903393384,-0.12187464977817614,0.984033348362357,2.0298134765660305,-0.13082199342176717,1.2456423402833168,0.7366123837360581,-0.23142573819480267,-0.8172891456277132,1.0185718470714122,0.425892591401322,0.3867493455473962,-0.4007084279552937,-0.22844344967856697,0.09299710026213304,-0.2940208423454374,-0.2687264981915399,0.14320108649094165,-0.4486119372821038,-0.19999413506759672,-0.284788083717001,0.4139040463084149,-0.11899996312225154,-0.03684443240571465,0.03665813020359851,0.5835665099013445,0.47734643847813846,0.9082725320547153,1.947404781316361,17.85068092297529,0.5867535384325526,-0.6582478390079791,0.3152253946390418,0.8871705052493132,1.1947696641715537,0.2307869965131137,-0.39940163702668446,1.2275936414837665,-0.6683508757171718,0.3067720081848078,0.4460521634623206,0.08769483714439491,-0.7132478978126313,1.225289172205452,0.5780318095424364,-0.03772875435330813,-0.05156319977749922,-0.04311273489943157,0.05324061448903926,0.05626147327523472,-0.2287966623513843,0.07147383244468626,0.04736713095082578,0.03855705471634986,0.10264190176895402,0.06702390561632042,-0.17617213773048349,0.10470484846997956,0.06432526791289142,-0.18047816259259192,0.09800589228906868,0.3087844789409218,-0.33643938345676727,-0.20099190651827056,-0.23012488544917264,-0.44286628551973656,-0.43827430084945157,-0.17475479232348753,-0.26177519262108906,-0.6491831503858101,0.03290463875632597,-0.15403396347302378,-0.22443740863212538,-0.255011581191054,-0.18643405676257319,0.10594049654209806,-0.18311752515670046,-0.18688852083806193,-0.21368276697172398,-0.09029192879682128,0.059714399089578804,-0.1262364278510044,0.04246412690830391,0.20024881922153948,0.11625140382992756,-0.11252201409993372,0.12517538355897279,0.06973990935165697,0.3541963416529104,0.08219939114705957,0.4686648221933865,0.04936498240652334,-0.055673318578281804,-0.2472906200930292,-0.1996355795729649,-0.10564669724637779,0.07870474810757253,-0.23001944646412711,-0.01745105152165482,-0.21466987464786677,-0.07658673118665153,0.053807834741473874,0.4426802788417684,-0.14408287693706612,0.1871768974423242,-0.15582286762313918,0.6389817288934239,-0.5923098315997194,1.242708772872846,-0.1821649757001284,0.8125528681995973,1.0519368009001244,-0.43536892988554904,-0.09861174477242449,0.4624083094351971,-0.2959073182067668,0.4043630434305121,0.6320957425744181,0.9962500051298682,0.23202130104928304,-0.257890691595796,0.028138076726388957,1.147448738746101,0.6589747456799402,0.43864417929439453,0.8459878101882179,-0.2597321048522425,0.3199620489690951,-0.26084432476554115,1.8422990452499362,-0.16519800481401953,-0.22882964070059358,1.7320630259444172,0.6162694603403617,-0.21720548013262042,0.09962497010686208,-0.3133587090446721,-0.2810583967785743,-0.309606042073381,-0.2554084985512904,-0.3346840480217108,-0.3031113791943252,0.10805782709287007,-0.1450844324391815,-0.006339485969891257,-0.14874908741054305,0.4596762672826953,0.5207639249582553,0.20022519331203603,-0.3050395265955851,0.06704643676679495,0.4923952901451141,-0.19001936290655508,-0.4123859144609494,-0.6528397209494385,1.8372353595548951,0.15799203238414639,-0.2809920662935349,0.1477870457373917,0.059772075043976226,-0.001409524906633093,-0.2230563408690656,-0.007441007154476094,-0.4253972543209516,0.04967588151650528,-0.2080917369993831,0.009717286431167114,-0.24831668536225332,0.008617268993808625,-0.3259858241910216,0.17807865965444838,0.27236992896322276,0.24730351480175697,-0.18499178338085615,-0.3412018680137676,-0.15774233295705037,-0.7217760445380472,-0.5092949351925828,-0.5138937572836053,-0.5339939576555334,-0.5513500793038053,-0.5758210430445493,-0.4943256886633288,-0.5612324301431033,-0.5910442383195817,-0.545359610714271,-0.5680604964725446,-0.4345593686822771,-0.5906581414636993,-0.5415555638676941,-0.5391391867044706,-0.527013653159978,-0.5103840335500797,-0.5511677909615462,-0.5707822359923121,-0.5392716083185385,-0.6757327886312698,-0.6558393314136118,-0.597669249500571,-0.4749314549761639,-0.5269307710774259,-0.5895553610943423,-0.5366432464701821,-0.47300863414474403,-0.4997547122961707,-0.5338116167583918,-0.45702380543008103,-0.5504741125726146,-0.52378869941283,-0.8209514153613908,-0.8075733544081813,-0.7775746884642031,-0.7998896120231945,-0.7525146847825422,-0.5359606642779179,-0.6266262488785947,-0.5322663522767116,-0.49607809786100077,-0.5622528227089725,-0.5363798857776725,-0.5783946654406855,-0.548478353135914,-0.5917667089571935,-0.6166184727406218,-0.5289998581096146,-0.5299701053300945,-0.46019594128251123,-0.5644882869661242,-0.5470855283299194,-0.5959003534359386,-0.5511734253904762,-0.5696849801629587,-0.6238299468856454,-0.5237195512970331,-0.5162045466529687,-0.48940896517138605,-0.5362666872849886,-0.5934951660181007,-0.5319090837278496,-0.5937817452261673,-0.5087164314854867,-0.5056957772580448,-0.5583344385749637,-0.5298184852738143,-0.4791709859242437,-0.5260532593568091,-0.521856915098976,-0.5276686628663347,-0.5276955989775655,-0.549774273979656,-0.3227697703273881,-0.5177747907212702,-0.619480883089483,-0.6431863765534904,-0.5426285170351155,-0.5529734609270901,-0.5198069265997293,-0.6072464882389211,-0.6749422255223627,-0.5970209048747656,-0.5402944287641123,-0.5711144292511876,-0.5534388097187224,-0.5576523112335126,-0.5788724297216945,-0.550659770384105,-0.5405214168155322,-0.5801482009963139,-0.600589732210616,-0.6045294969768257,-0.5126526125952999,-0.07342713972321134,-0.08115979865000161,-0.0384833976357609,0.3737807947362237,0.061035675496759076,0.15880758148928223,-0.18428665282684448,0.31223066269663496,1.084238765746496,-0.28910962610288427,0.02643433885544876,0.11244559316766785,0.026924604726556268,0.17785587706281764,0.13427274785351478,-0.17889749084648723,0.021355363090572763,0.1149052084726995,0.10924095596194817,0.13368813364514232,0.0382405636107894,-0.517362027724857,-0.4494611376410557,0.11117481570847192,-0.18750716597607534,0.0755221713352985,-0.20493366768794744,0.11117481570847192,0.7421833282812416,1.6256721688446913,0.7925080467076814,0.7251049131091066,0.09789840892109655,0.5573334635617029,0.5958976627953878,0.6112781441693984,0.6014010216100689,0.04634123734681083,0.11160661019706615,0.046254403392579704,0.09138103699526955,-0.20914707843185093,0.08430600618602933,-0.17809602663431845,-0.3030489653530906,0.09561150485924155,0.951049843533573,-0.3228226629359759,-0.24798932120253053,-0.2662429127893289,-0.2803393404467112,-0.28497515004117935,-0.19931619905942277,0.0753797675391112,-0.5971704220512083,-0.6326604803374493,-0.004987059017765035,-0.04990062426756168,0.7060344927676694,0.08215338309853558,0.08165907512439584,1.5306847980500635,-0.31137889573845945,2.2772778048084326,0.6229535478815009,0.06328109356395321,-0.25292362304158517,-0.14641745494465505,-0.1202429494973591,-0.16523551210846912,0.5678488835062927,-0.23484186290011294,-0.20102101205666567,0.22216427330428162,-0.28207785273385594,-0.1557638801083364,0.1896879916460739,0.21086242217843484,0.24217299785644958,0.2590441535080979,0.6989712535016404,0.29820212170323496,0.7187914006448883,-0.6603144319969031,-0.24028885636821454,0.24591669824859655,-0.14431670049647455,0.1946948876391044,-0.5944874969382801,-0.5729727073674407,-0.6085874328058143,-0.10511239867931622,0.17789542871502395,-0.2831792062891098,0.3920850891819548,-0.10545164798495713,0.25633533456435226,0.37350399646292004,-0.2291703213992655,0.6992227395620976,0.24864110278139084,-0.13755848810747648,0.30200181096546375,-0.3093830863818109,0.6391973731583256,0.1647669126796545,-0.1052208167987487,0.9976432947397768,-0.040980920376295256,0.11032702982516213,-0.2277677070408055],\"z\":[-0.13606101724200736,0.30392428628105556,-1.009926522125277,-0.17033008323334448,-1.2039981333676208,-0.1428864614960604,-0.10612686240203982,0.19566060519618428,-0.752724908182474,-0.7898788788193696,-0.11007387895207126,0.19103008576654587,-1.0218014012862897,-4.061879121993488,0.1773245379200302,-1.6190521416509602,-1.153062731411087,0.2887389152385275,0.8406977345235883,-1.5383926107945254,-0.41033728842771966,-0.28878861469850214,0.4156705980813973,0.174209519622427,-0.07909755756029005,0.3984421375429099,0.4319004239330452,-0.0894794817319165,0.586348424453956,0.2584290140835587,0.21667337620776492,-0.8794680280944877,-0.1841486223553925,-0.024298183825572615,0.01841389779002725,-0.5645726597568791,-0.41860156211420135,-0.8976758140307567,-4.755176280726694,8.929005096913388,-0.7753834594242561,0.7391273190149787,-0.4840129367363405,-1.4557896085326956,-1.799997942496777,-0.24542060469148755,0.4061042985579052,-1.6414347879603985,0.9003605200771885,-0.28045550469767005,-0.3712637117894616,-0.5208943406177622,0.9162626349262238,-1.7646033414459326,-0.5581924496728742,-0.02422733596518746,-0.016101226004776578,-0.028535758098371777,-0.08271398958840603,-0.08464595877092088,0.3045037106308219,-0.0889569110641842,-0.08265201192045524,-0.079048619168444,-0.06070144957466074,-0.0891632364411256,0.30979532967388945,-0.10765377488275658,-0.08469039218974882,0.29188676315049944,-0.10126963340731367,-0.17859217199830496,0.5444712952945199,0.3435317257698978,0.38417428887722005,0.6566040022364854,0.5901802741274045,0.30855581303749363,0.4372292106334421,0.8759198513176777,-0.3395013530148261,0.2927277244532435,0.3745449142387674,0.437106491821323,0.3039787378126072,-0.09218684350034367,0.31566480720029594,0.31887468843449535,0.36958922639287256,0.20724078529237727,-0.36715905218546196,0.09811551069290395,-0.4958114553276522,-0.5682548949386926,-0.4601668582274856,0.1075920766844774,-0.5432962053173496,-0.07857346757572287,-0.7283244230834607,-0.36023385920802703,-1.0029037713623514,-0.11026394703167412,-0.03546534073450711,0.31579641076965453,0.2960171033112505,0.21491545841117665,-0.09068542742810087,0.391855913331584,0.018104060120904236,0.29976071417907735,0.03397863401730252,-0.04529567993651786,-0.4743001240581963,0.2817588020928907,-0.1642441788006634,0.2916846521585743,-1.1067231211468669,0.8139002261699949,-2.3831469798520524,0.2172047355154424,-0.9094566233226816,-1.5245591182912623,0.5050365497519509,0.23581529814298288,-0.6767227116984983,0.24932266124982277,-0.7705569898054272,-2.000983357168327,-1.230127430099475,-0.29064952781363934,0.3885707422724719,0.012169480771771737,-1.7101614318235512,-1.0114944469410658,-0.6666662066218567,-1.4228006190582319,0.36034353868419355,-0.8084905130581718,0.3619227907916046,-2.878234312847598,0.08358411644629138,0.2877372149822836,-4.364288442562993,-0.7773499517103873,0.2676348747335041,-0.06267059319963039,0.5205759111605127,0.36619307854796507,0.5066231164513039,0.44488049359406023,0.5451630312667664,0.5071068062330282,-0.07510214688078094,0.2814497773213499,0.03129979636986214,0.28420929718563126,-0.40741258667223995,-0.6101626214507936,-0.19552393333779627,0.3559825346182567,-0.008334567411633928,-0.5559083021164402,0.25736612012136295,0.4542457066731924,0.6668228771316712,-3.8861856212111867,-0.5801792603164548,0.36552161047176623,-0.19658878364601332,-0.01317716171935794,-0.14529849780625326,0.40168693337898803,0.08304088903003085,0.488182661634885,0.018057450033539403,0.37762912804373977,0.027291569728852553,0.4352106476640755,-0.14442013357013714,0.5367720988272099,-0.12639569719133675,-0.28770455366042685,-0.6709998397567013,0.3362395383883868,0.36827900039218187,0.05376970527895788,0.9954938972169753,0.5543428869940742,0.5300632530724714,0.5450638275432462,0.37869916319729824,0.397848842458777,0.4122440787721481,0.534386967102855,0.7008755124110713,0.6564641728603267,0.5007216385263412,0.23020116213680214,0.6482269109435675,0.5112783173011796,0.511814636235734,0.5356972780418501,0.5747918623460675,0.6844327365613684,0.5605077939389103,0.5909233899143418,0.7879406227825511,0.7457023865764679,0.727739061623058,0.21039229731864803,0.33145941498390263,0.6706430969741544,0.5253459971657198,0.30580735840570933,0.443141468475189,0.42025257473448907,0.17431092636535547,0.5487905196903303,0.5644286105927715,0.9581624493824062,1.055046168164687,1.0946521703627727,1.1223696382145236,1.0129106437439304,0.583229026680978,0.7769193524367811,0.5326607749017584,0.5100044728021648,0.731304103740081,0.48754275264667923,0.6305037661528327,0.5998237244961727,0.7738954653958168,0.8016086355841009,0.5343471137546224,0.5711926110452994,0.270735158720534,0.6699885193299486,0.6949619117221416,0.7001772944125686,0.5317650645823184,0.5062906231585188,0.8886755658533435,0.6110701677437977,0.5573179619975288,0.39381197203862595,0.5608269687659185,0.6275421178261346,0.26689476680082636,0.726813246420258,0.20821721133924193,0.264232433524603,0.745522150057406,0.38084235541561917,0.3594819666500253,0.489721007843301,0.5779844493389251,0.5804204726275042,0.5200137730832542,0.5453672819080552,-0.36004572856443745,0.41186411433273706,0.846481120721018,0.817381316677236,0.5358944509114233,0.455136984750372,0.5591358417150402,0.8444909003810853,0.9175118568066762,0.8278785846541559,0.6400723036956729,0.7338570395241467,0.573078924448939,0.5835645976680175,0.6545020782213938,0.7051320187019686,0.6169253578552419,0.5686258820715974,0.7732320907806793,0.6743724557325487,0.33733603908947596,-0.14872384888816306,-0.37151808799403485,-0.07018202388145896,-0.8765858432261767,-0.13531527269896798,-0.14715716256706496,0.33047698830211125,-0.7165783344666613,-2.1943743986909867,0.4863609560756016,0.04562801650267278,-0.07167221051059182,0.04480199239588069,-0.15907332260836624,-0.11241417659223225,0.31389784930865494,0.0526478815466489,-0.07516229679145014,-0.06768724179562877,-0.09238416082159893,0.029056069813859296,0.7058756853403089,0.6368088247308924,-0.08470828504130563,0.21023821924916108,-0.018741683234054875,0.37660166058033345,-0.08470828504130563,-1.3338679376428313,-3.2005022102712175,-1.1647793298396663,-1.0695072858867467,-0.16087517855481565,-0.6419115343055878,-0.6895701175657362,-0.707057315951033,-0.7701077094433552,-0.0905913348043466,-0.06401322933611914,-0.09037861304368916,-0.0729743116791879,0.38287128770352713,-0.027835066290982945,0.34222915775399726,0.26145433510183624,-0.11427800814329213,-1.572376245319841,0.40881091270507647,0.2958187773932948,0.3294764387438635,0.34810710921983334,0.4664796411794026,0.3108313653261645,-0.020504181745415268,0.6991417703276998,0.6644969552443613,-0.47224443985841036,-0.30953399264030995,-1.357141529327951,-0.2717555276584836,-0.02930452480801546,-2.828486202954345,0.4814559302455286,-4.991653982212498,-0.6950578323473743,-0.24162732119196437,0.27614791254457527,0.29231300986033076,0.2910144890324537,0.1067569886933475,-0.8007684895933638,0.3423801780397836,0.3886035525380365,-0.24054473392565578,0.46568987073448403,0.31016492521760447,-0.05851706221784699,0.15131327669103534,-0.13819512323513383,-0.17263549377325121,-0.7826531063909435,-0.21322154853883638,-1.8759696775017067,0.4945926826048841,0.4163403179161306,-0.23281635228179762,0.28763986922740986,-0.19502369463354438,0.700598949114889,0.6543313285459846,0.6952063030656193,-0.0674717234886726,-0.063142038803039,0.3158701380995343,-0.39164824639656937,0.030082060083058103,-0.3145718822340035,-0.4448333393274848,0.2879280996794799,-0.5361205684544981,0.002944443363624881,0.21646523718668095,-0.204785751755834,0.3180364054374192,-1.728621523776738,0.007232604429119025,-0.0023879747864000217,-1.1112394304875703,0.15870194437226734,-0.36731266188755507,0.21022996334436084],\"type\":\"scatter3d\"}],                        {\"template\":{\"data\":{\"barpolar\":[{\"marker\":{\"line\":{\"color\":\"rgb(17,17,17)\",\"width\":0.5},\"pattern\":{\"fillmode\":\"overlay\",\"size\":10,\"solidity\":0.2}},\"type\":\"barpolar\"}],\"bar\":[{\"error_x\":{\"color\":\"#f2f5fa\"},\"error_y\":{\"color\":\"#f2f5fa\"},\"marker\":{\"line\":{\"color\":\"rgb(17,17,17)\",\"width\":0.5},\"pattern\":{\"fillmode\":\"overlay\",\"size\":10,\"solidity\":0.2}},\"type\":\"bar\"}],\"carpet\":[{\"aaxis\":{\"endlinecolor\":\"#A2B1C6\",\"gridcolor\":\"#506784\",\"linecolor\":\"#506784\",\"minorgridcolor\":\"#506784\",\"startlinecolor\":\"#A2B1C6\"},\"baxis\":{\"endlinecolor\":\"#A2B1C6\",\"gridcolor\":\"#506784\",\"linecolor\":\"#506784\",\"minorgridcolor\":\"#506784\",\"startlinecolor\":\"#A2B1C6\"},\"type\":\"carpet\"}],\"choropleth\":[{\"colorbar\":{\"outlinewidth\":0,\"ticks\":\"\"},\"type\":\"choropleth\"}],\"contourcarpet\":[{\"colorbar\":{\"outlinewidth\":0,\"ticks\":\"\"},\"type\":\"contourcarpet\"}],\"contour\":[{\"colorbar\":{\"outlinewidth\":0,\"ticks\":\"\"},\"colorscale\":[[0.0,\"#0d0887\"],[0.1111111111111111,\"#46039f\"],[0.2222222222222222,\"#7201a8\"],[0.3333333333333333,\"#9c179e\"],[0.4444444444444444,\"#bd3786\"],[0.5555555555555556,\"#d8576b\"],[0.6666666666666666,\"#ed7953\"],[0.7777777777777778,\"#fb9f3a\"],[0.8888888888888888,\"#fdca26\"],[1.0,\"#f0f921\"]],\"type\":\"contour\"}],\"heatmapgl\":[{\"colorbar\":{\"outlinewidth\":0,\"ticks\":\"\"},\"colorscale\":[[0.0,\"#0d0887\"],[0.1111111111111111,\"#46039f\"],[0.2222222222222222,\"#7201a8\"],[0.3333333333333333,\"#9c179e\"],[0.4444444444444444,\"#bd3786\"],[0.5555555555555556,\"#d8576b\"],[0.6666666666666666,\"#ed7953\"],[0.7777777777777778,\"#fb9f3a\"],[0.8888888888888888,\"#fdca26\"],[1.0,\"#f0f921\"]],\"type\":\"heatmapgl\"}],\"heatmap\":[{\"colorbar\":{\"outlinewidth\":0,\"ticks\":\"\"},\"colorscale\":[[0.0,\"#0d0887\"],[0.1111111111111111,\"#46039f\"],[0.2222222222222222,\"#7201a8\"],[0.3333333333333333,\"#9c179e\"],[0.4444444444444444,\"#bd3786\"],[0.5555555555555556,\"#d8576b\"],[0.6666666666666666,\"#ed7953\"],[0.7777777777777778,\"#fb9f3a\"],[0.8888888888888888,\"#fdca26\"],[1.0,\"#f0f921\"]],\"type\":\"heatmap\"}],\"histogram2dcontour\":[{\"colorbar\":{\"outlinewidth\":0,\"ticks\":\"\"},\"colorscale\":[[0.0,\"#0d0887\"],[0.1111111111111111,\"#46039f\"],[0.2222222222222222,\"#7201a8\"],[0.3333333333333333,\"#9c179e\"],[0.4444444444444444,\"#bd3786\"],[0.5555555555555556,\"#d8576b\"],[0.6666666666666666,\"#ed7953\"],[0.7777777777777778,\"#fb9f3a\"],[0.8888888888888888,\"#fdca26\"],[1.0,\"#f0f921\"]],\"type\":\"histogram2dcontour\"}],\"histogram2d\":[{\"colorbar\":{\"outlinewidth\":0,\"ticks\":\"\"},\"colorscale\":[[0.0,\"#0d0887\"],[0.1111111111111111,\"#46039f\"],[0.2222222222222222,\"#7201a8\"],[0.3333333333333333,\"#9c179e\"],[0.4444444444444444,\"#bd3786\"],[0.5555555555555556,\"#d8576b\"],[0.6666666666666666,\"#ed7953\"],[0.7777777777777778,\"#fb9f3a\"],[0.8888888888888888,\"#fdca26\"],[1.0,\"#f0f921\"]],\"type\":\"histogram2d\"}],\"histogram\":[{\"marker\":{\"pattern\":{\"fillmode\":\"overlay\",\"size\":10,\"solidity\":0.2}},\"type\":\"histogram\"}],\"mesh3d\":[{\"colorbar\":{\"outlinewidth\":0,\"ticks\":\"\"},\"type\":\"mesh3d\"}],\"parcoords\":[{\"line\":{\"colorbar\":{\"outlinewidth\":0,\"ticks\":\"\"}},\"type\":\"parcoords\"}],\"pie\":[{\"automargin\":true,\"type\":\"pie\"}],\"scatter3d\":[{\"line\":{\"colorbar\":{\"outlinewidth\":0,\"ticks\":\"\"}},\"marker\":{\"colorbar\":{\"outlinewidth\":0,\"ticks\":\"\"}},\"type\":\"scatter3d\"}],\"scattercarpet\":[{\"marker\":{\"colorbar\":{\"outlinewidth\":0,\"ticks\":\"\"}},\"type\":\"scattercarpet\"}],\"scattergeo\":[{\"marker\":{\"colorbar\":{\"outlinewidth\":0,\"ticks\":\"\"}},\"type\":\"scattergeo\"}],\"scattergl\":[{\"marker\":{\"line\":{\"color\":\"#283442\"}},\"type\":\"scattergl\"}],\"scattermapbox\":[{\"marker\":{\"colorbar\":{\"outlinewidth\":0,\"ticks\":\"\"}},\"type\":\"scattermapbox\"}],\"scatterpolargl\":[{\"marker\":{\"colorbar\":{\"outlinewidth\":0,\"ticks\":\"\"}},\"type\":\"scatterpolargl\"}],\"scatterpolar\":[{\"marker\":{\"colorbar\":{\"outlinewidth\":0,\"ticks\":\"\"}},\"type\":\"scatterpolar\"}],\"scatter\":[{\"marker\":{\"line\":{\"color\":\"#283442\"}},\"type\":\"scatter\"}],\"scatterternary\":[{\"marker\":{\"colorbar\":{\"outlinewidth\":0,\"ticks\":\"\"}},\"type\":\"scatterternary\"}],\"surface\":[{\"colorbar\":{\"outlinewidth\":0,\"ticks\":\"\"},\"colorscale\":[[0.0,\"#0d0887\"],[0.1111111111111111,\"#46039f\"],[0.2222222222222222,\"#7201a8\"],[0.3333333333333333,\"#9c179e\"],[0.4444444444444444,\"#bd3786\"],[0.5555555555555556,\"#d8576b\"],[0.6666666666666666,\"#ed7953\"],[0.7777777777777778,\"#fb9f3a\"],[0.8888888888888888,\"#fdca26\"],[1.0,\"#f0f921\"]],\"type\":\"surface\"}],\"table\":[{\"cells\":{\"fill\":{\"color\":\"#506784\"},\"line\":{\"color\":\"rgb(17,17,17)\"}},\"header\":{\"fill\":{\"color\":\"#2a3f5f\"},\"line\":{\"color\":\"rgb(17,17,17)\"}},\"type\":\"table\"}]},\"layout\":{\"annotationdefaults\":{\"arrowcolor\":\"#f2f5fa\",\"arrowhead\":0,\"arrowwidth\":1},\"autotypenumbers\":\"strict\",\"coloraxis\":{\"colorbar\":{\"outlinewidth\":0,\"ticks\":\"\"}},\"colorscale\":{\"diverging\":[[0,\"#8e0152\"],[0.1,\"#c51b7d\"],[0.2,\"#de77ae\"],[0.3,\"#f1b6da\"],[0.4,\"#fde0ef\"],[0.5,\"#f7f7f7\"],[0.6,\"#e6f5d0\"],[0.7,\"#b8e186\"],[0.8,\"#7fbc41\"],[0.9,\"#4d9221\"],[1,\"#276419\"]],\"sequential\":[[0.0,\"#0d0887\"],[0.1111111111111111,\"#46039f\"],[0.2222222222222222,\"#7201a8\"],[0.3333333333333333,\"#9c179e\"],[0.4444444444444444,\"#bd3786\"],[0.5555555555555556,\"#d8576b\"],[0.6666666666666666,\"#ed7953\"],[0.7777777777777778,\"#fb9f3a\"],[0.8888888888888888,\"#fdca26\"],[1.0,\"#f0f921\"]],\"sequentialminus\":[[0.0,\"#0d0887\"],[0.1111111111111111,\"#46039f\"],[0.2222222222222222,\"#7201a8\"],[0.3333333333333333,\"#9c179e\"],[0.4444444444444444,\"#bd3786\"],[0.5555555555555556,\"#d8576b\"],[0.6666666666666666,\"#ed7953\"],[0.7777777777777778,\"#fb9f3a\"],[0.8888888888888888,\"#fdca26\"],[1.0,\"#f0f921\"]]},\"colorway\":[\"#636efa\",\"#EF553B\",\"#00cc96\",\"#ab63fa\",\"#FFA15A\",\"#19d3f3\",\"#FF6692\",\"#B6E880\",\"#FF97FF\",\"#FECB52\"],\"font\":{\"color\":\"#f2f5fa\"},\"geo\":{\"bgcolor\":\"rgb(17,17,17)\",\"lakecolor\":\"rgb(17,17,17)\",\"landcolor\":\"rgb(17,17,17)\",\"showlakes\":true,\"showland\":true,\"subunitcolor\":\"#506784\"},\"hoverlabel\":{\"align\":\"left\"},\"hovermode\":\"closest\",\"mapbox\":{\"style\":\"dark\"},\"paper_bgcolor\":\"rgb(17,17,17)\",\"plot_bgcolor\":\"rgb(17,17,17)\",\"polar\":{\"angularaxis\":{\"gridcolor\":\"#506784\",\"linecolor\":\"#506784\",\"ticks\":\"\"},\"bgcolor\":\"rgb(17,17,17)\",\"radialaxis\":{\"gridcolor\":\"#506784\",\"linecolor\":\"#506784\",\"ticks\":\"\"}},\"scene\":{\"xaxis\":{\"backgroundcolor\":\"rgb(17,17,17)\",\"gridcolor\":\"#506784\",\"gridwidth\":2,\"linecolor\":\"#506784\",\"showbackground\":true,\"ticks\":\"\",\"zerolinecolor\":\"#C8D4E3\"},\"yaxis\":{\"backgroundcolor\":\"rgb(17,17,17)\",\"gridcolor\":\"#506784\",\"gridwidth\":2,\"linecolor\":\"#506784\",\"showbackground\":true,\"ticks\":\"\",\"zerolinecolor\":\"#C8D4E3\"},\"zaxis\":{\"backgroundcolor\":\"rgb(17,17,17)\",\"gridcolor\":\"#506784\",\"gridwidth\":2,\"linecolor\":\"#506784\",\"showbackground\":true,\"ticks\":\"\",\"zerolinecolor\":\"#C8D4E3\"}},\"shapedefaults\":{\"line\":{\"color\":\"#f2f5fa\"}},\"sliderdefaults\":{\"bgcolor\":\"#C8D4E3\",\"bordercolor\":\"rgb(17,17,17)\",\"borderwidth\":1,\"tickwidth\":0},\"ternary\":{\"aaxis\":{\"gridcolor\":\"#506784\",\"linecolor\":\"#506784\",\"ticks\":\"\"},\"baxis\":{\"gridcolor\":\"#506784\",\"linecolor\":\"#506784\",\"ticks\":\"\"},\"bgcolor\":\"rgb(17,17,17)\",\"caxis\":{\"gridcolor\":\"#506784\",\"linecolor\":\"#506784\",\"ticks\":\"\"}},\"title\":{\"x\":0.05},\"updatemenudefaults\":{\"bgcolor\":\"#506784\",\"borderwidth\":0},\"xaxis\":{\"automargin\":true,\"gridcolor\":\"#283442\",\"linecolor\":\"#506784\",\"ticks\":\"\",\"title\":{\"standoff\":15},\"zerolinecolor\":\"#283442\",\"zerolinewidth\":2},\"yaxis\":{\"automargin\":true,\"gridcolor\":\"#283442\",\"linecolor\":\"#506784\",\"ticks\":\"\",\"title\":{\"standoff\":15},\"zerolinecolor\":\"#283442\",\"zerolinewidth\":2}}},\"scene\":{\"domain\":{\"x\":[0.0,1.0],\"y\":[0.0,1.0]},\"xaxis\":{\"title\":{\"text\":\"famd1\"}},\"yaxis\":{\"title\":{\"text\":\"famd2\"}},\"zaxis\":{\"title\":{\"text\":\"famd3\"}}},\"coloraxis\":{\"colorbar\":{\"title\":{\"text\":\"cluster\"}},\"colorscale\":[[0.0,\"#0d0887\"],[0.1111111111111111,\"#46039f\"],[0.2222222222222222,\"#7201a8\"],[0.3333333333333333,\"#9c179e\"],[0.4444444444444444,\"#bd3786\"],[0.5555555555555556,\"#d8576b\"],[0.6666666666666666,\"#ed7953\"],[0.7777777777777778,\"#fb9f3a\"],[0.8888888888888888,\"#fdca26\"],[1.0,\"#f0f921\"]]},\"legend\":{\"tracegroupgap\":0},\"title\":{\"text\":\"FAMD - 3 components\"},\"height\":800,\"width\":1150},                        {\"responsive\": true}                    ).then(function(){\n",
       "                            \n",
       "var gd = document.getElementById('c2c9ba88-a3bd-4951-be94-18b237ef163d');\n",
       "var x = new MutationObserver(function (mutations, observer) {{\n",
       "        var display = window.getComputedStyle(gd).display;\n",
       "        if (!display || display === 'none') {{\n",
       "            console.log([gd, 'removed!']);\n",
       "            Plotly.purge(gd);\n",
       "            observer.disconnect();\n",
       "        }}\n",
       "}});\n",
       "\n",
       "// Listen for the removal of the full notebook cells\n",
       "var notebookContainer = gd.closest('#notebook-container');\n",
       "if (notebookContainer) {{\n",
       "    x.observe(notebookContainer, {childList: true});\n",
       "}}\n",
       "\n",
       "// Listen for the clearing of the current output cell\n",
       "var outputEl = gd.closest('.output');\n",
       "if (outputEl) {{\n",
       "    x.observe(outputEl, {childList: true});\n",
       "}}\n",
       "\n",
       "                        })                };                });            </script>        </div>"
      ]
     },
     "metadata": {},
     "output_type": "display_data"
    }
   ],
   "source": [
    "px.scatter_3d(reducedGB_df, x='famd1', y='famd2', z='famd3', color='cluster', opacity=0.5, width=1150,height=800,template='plotly_dark', title='FAMD - 3 components')"
   ]
  },
  {
   "cell_type": "markdown",
   "metadata": {},
   "source": [
    "## <br> Concusions:<br>\n",
    "#### 1. HDBSCAN analysis for these 2 types of datasets with FAMD algorythm as a dimention reduction algorythm created 31 clusters for Jakarta where different hotel types were 12, 5 for London where different hotel types were 18;\n",
    "#### 2. DBCV for both cities were around 0 in case of Jakarta it was the above the 0 and in case of London it was below. Small number of clusters for London and DBCV around zero what indicates that clusters are more random than generated on the basis of patterns in data. This analysis is not valid to be compare with the previous ones.\n",
    "#### 3. It would be worth to check combination of HDBSCAN and FAMD for different distance than euclidean and manhattan which was used in that analysis. I used in this analysis Manhattan over Eucliedian distance to estimate the lenght between two points because it generated slightly better DBCV values. <br>"
   ]
  },
  {
   "cell_type": "code",
   "execution_count": 156,
   "metadata": {},
   "outputs": [],
   "source": [
    "with pd.ExcelWriter(\"../Downloads/hdbscanFAMDsamples.xlsx\") as writer:\n",
    "    idReducedAnalysis.to_excel(writer, sheet_name=\"Jakarta\")\n",
    "    gbReducedAnalysis.to_excel(writer, sheet_name=\"London\")"
   ]
  }
 ],
 "metadata": {
  "kernelspec": {
   "display_name": "Python 3",
   "language": "python",
   "name": "python3"
  },
  "language_info": {
   "codemirror_mode": {
    "name": "ipython",
    "version": 3
   },
   "file_extension": ".py",
   "mimetype": "text/x-python",
   "name": "python",
   "nbconvert_exporter": "python",
   "pygments_lexer": "ipython3",
   "version": "3.8.5"
  }
 },
 "nbformat": 4,
 "nbformat_minor": 5
}
