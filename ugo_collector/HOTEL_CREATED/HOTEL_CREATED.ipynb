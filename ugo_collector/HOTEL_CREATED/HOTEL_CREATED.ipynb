{
 "cells": [
  {
   "cell_type": "code",
   "execution_count": 56,
   "id": "01b32851",
   "metadata": {},
   "outputs": [
    {
     "data": {
      "text/html": [
       "<style>.container { width:80% !important; }</style>"
      ],
      "text/plain": [
       "<IPython.core.display.HTML object>"
      ]
     },
     "metadata": {},
     "output_type": "display_data"
    }
   ],
   "source": [
    "from IPython.core.display import display, HTML\n",
    "display(HTML(\"<style>.container { width:80% !important; }</style>\"))"
   ]
  },
  {
   "cell_type": "code",
   "execution_count": 57,
   "id": "a7f42619",
   "metadata": {},
   "outputs": [],
   "source": [
    "import pandas as pd\n",
    "import io\n",
    "import os\n",
    "import pyarrow.parquet as pq\n",
    "import numpy as np"
   ]
  },
  {
   "cell_type": "code",
   "execution_count": 58,
   "id": "24dbcaef",
   "metadata": {},
   "outputs": [],
   "source": [
    "pd.set_option('display.max_columns', None)\n",
    "pd.set_option('display.expand_frame_repr', False)"
   ]
  },
  {
   "cell_type": "markdown",
   "id": "cca6708e",
   "metadata": {},
   "source": [
    "# Loading data"
   ]
  },
  {
   "cell_type": "code",
   "execution_count": 60,
   "id": "a3dc6022",
   "metadata": {},
   "outputs": [],
   "source": [
    "script_dir = os.path.dirname('__file__') #<-- absolute dir the script is in\n",
    "rel_path = \"s3_HOTEL_CREATED_files/\"\n",
    "abs_file_path = os.path.join(script_dir, rel_path)\n",
    "dataset = pq.ParquetDataset(abs_file_path)\n",
    "table = dataset.read()"
   ]
  },
  {
   "cell_type": "code",
   "execution_count": 61,
   "id": "4311801b",
   "metadata": {},
   "outputs": [
    {
     "data": {
      "text/html": [
       "<div>\n",
       "<style scoped>\n",
       "    .dataframe tbody tr th:only-of-type {\n",
       "        vertical-align: middle;\n",
       "    }\n",
       "\n",
       "    .dataframe tbody tr th {\n",
       "        vertical-align: top;\n",
       "    }\n",
       "\n",
       "    .dataframe thead th {\n",
       "        text-align: right;\n",
       "    }\n",
       "</style>\n",
       "<table border=\"1\" class=\"dataframe\">\n",
       "  <thead>\n",
       "    <tr style=\"text-align: right;\">\n",
       "      <th></th>\n",
       "      <th>HotelNotifications</th>\n",
       "    </tr>\n",
       "  </thead>\n",
       "  <tbody>\n",
       "    <tr>\n",
       "      <th>0</th>\n",
       "      <td>[{'NotificationMeta': {'X-Correlation-ID': '89...</td>\n",
       "    </tr>\n",
       "    <tr>\n",
       "      <th>1</th>\n",
       "      <td>[{'NotificationMeta': {'X-Correlation-ID': '5a...</td>\n",
       "    </tr>\n",
       "    <tr>\n",
       "      <th>2</th>\n",
       "      <td>[{'NotificationMeta': {'X-Correlation-ID': 'fd...</td>\n",
       "    </tr>\n",
       "    <tr>\n",
       "      <th>3</th>\n",
       "      <td>[{'NotificationMeta': {'X-Correlation-ID': 'f8...</td>\n",
       "    </tr>\n",
       "    <tr>\n",
       "      <th>4</th>\n",
       "      <td>[{'NotificationMeta': {'X-Correlation-ID': '8d...</td>\n",
       "    </tr>\n",
       "    <tr>\n",
       "      <th>5</th>\n",
       "      <td>[{'NotificationMeta': {'X-Correlation-ID': '12...</td>\n",
       "    </tr>\n",
       "  </tbody>\n",
       "</table>\n",
       "</div>"
      ],
      "text/plain": [
       "                                  HotelNotifications\n",
       "0  [{'NotificationMeta': {'X-Correlation-ID': '89...\n",
       "1  [{'NotificationMeta': {'X-Correlation-ID': '5a...\n",
       "2  [{'NotificationMeta': {'X-Correlation-ID': 'fd...\n",
       "3  [{'NotificationMeta': {'X-Correlation-ID': 'f8...\n",
       "4  [{'NotificationMeta': {'X-Correlation-ID': '8d...\n",
       "5  [{'NotificationMeta': {'X-Correlation-ID': '12..."
      ]
     },
     "execution_count": 61,
     "metadata": {},
     "output_type": "execute_result"
    }
   ],
   "source": [
    "hotel_created = table.to_pandas()\n",
    "hotel_created"
   ]
  },
  {
   "cell_type": "code",
   "execution_count": 62,
   "id": "13804d83",
   "metadata": {},
   "outputs": [
    {
     "data": {
      "text/plain": [
       "HotelNotifications    [{'NotificationMeta': {'X-Correlation-ID': '89...\n",
       "Name: 0, dtype: object"
      ]
     },
     "execution_count": 62,
     "metadata": {},
     "output_type": "execute_result"
    }
   ],
   "source": [
    "hotel_created.iloc[0]"
   ]
  },
  {
   "cell_type": "markdown",
   "id": "60be5c19",
   "metadata": {},
   "source": [
    "# Splliting data"
   ]
  },
  {
   "cell_type": "code",
   "execution_count": 64,
   "id": "df22df7a",
   "metadata": {},
   "outputs": [],
   "source": [
    "def explode_and_split(dataframe: pd.DataFrame, column: str):\n",
    "    unnested = dataframe.explode(column)\n",
    "    return pd.DataFrame(list(unnested[column]))\n",
    "\n",
    "def split_and_merge(dataframe: pd.DataFrame, column: str):\n",
    "    splited = pd.DataFrame(list(dataframe[column]))\n",
    "    merged = dataframe.merge(splited, left_index=True, right_index=True)\n",
    "    return merged.drop(columns=[column])\n",
    "\n",
    "def explode_split_and_merge(dataframe: pd.DataFrame, column: str):\n",
    "    unnested = dataframe.explode(column)\n",
    "    splited = pd.DataFrame(list(unnested[column]))\n",
    "    merged = splited.merge(unnested, left_index=True, right_index=True)\n",
    "    return merged.drop(columns=[column])\n",
    "\n"
   ]
  },
  {
   "cell_type": "code",
   "execution_count": 93,
   "id": "37e016dc",
   "metadata": {},
   "outputs": [
    {
     "data": {
      "text/html": [
       "<div>\n",
       "<style scoped>\n",
       "    .dataframe tbody tr th:only-of-type {\n",
       "        vertical-align: middle;\n",
       "    }\n",
       "\n",
       "    .dataframe tbody tr th {\n",
       "        vertical-align: top;\n",
       "    }\n",
       "\n",
       "    .dataframe thead th {\n",
       "        text-align: right;\n",
       "    }\n",
       "</style>\n",
       "<table border=\"1\" class=\"dataframe\">\n",
       "  <thead>\n",
       "    <tr style=\"text-align: right;\">\n",
       "      <th></th>\n",
       "      <th>NotificationMeta</th>\n",
       "      <th>CmmHotel</th>\n",
       "    </tr>\n",
       "  </thead>\n",
       "  <tbody>\n",
       "    <tr>\n",
       "      <th>0</th>\n",
       "      <td>{'X-Correlation-ID': '893bea5c-242b-4642-a856-...</td>\n",
       "      <td>{'CmHotelId': '77131', 'Origin': 'synxis', 'Na...</td>\n",
       "    </tr>\n",
       "    <tr>\n",
       "      <th>1</th>\n",
       "      <td>{'X-Correlation-ID': '5a18defa-f317-42ba-9450-...</td>\n",
       "      <td>{'CmHotelId': '30718', 'Origin': 'synxis', 'Na...</td>\n",
       "    </tr>\n",
       "    <tr>\n",
       "      <th>2</th>\n",
       "      <td>{'X-Correlation-ID': 'fd1bc51f-3ee8-4a3c-aade-...</td>\n",
       "      <td>{'CmHotelId': '59630', 'Origin': 'synxis', 'Na...</td>\n",
       "    </tr>\n",
       "    <tr>\n",
       "      <th>3</th>\n",
       "      <td>{'X-Correlation-ID': '4a4e5e36-a752-4474-8eee-...</td>\n",
       "      <td>{'CmHotelId': '59623', 'Origin': 'synxis', 'Na...</td>\n",
       "    </tr>\n",
       "    <tr>\n",
       "      <th>4</th>\n",
       "      <td>{'X-Correlation-ID': 'f83f1477-fc16-415e-b23f-...</td>\n",
       "      <td>{'CmHotelId': '79754', 'Origin': 'synxis', 'Na...</td>\n",
       "    </tr>\n",
       "    <tr>\n",
       "      <th>5</th>\n",
       "      <td>{'X-Correlation-ID': '21423923-69ab-413c-bf35-...</td>\n",
       "      <td>{'CmHotelId': '59628', 'Origin': 'synxis', 'Na...</td>\n",
       "    </tr>\n",
       "    <tr>\n",
       "      <th>6</th>\n",
       "      <td>{'X-Correlation-ID': 'e2705626-cdc0-4563-acbd-...</td>\n",
       "      <td>{'CmHotelId': '59622', 'Origin': 'synxis', 'Na...</td>\n",
       "    </tr>\n",
       "    <tr>\n",
       "      <th>7</th>\n",
       "      <td>{'X-Correlation-ID': '8d6141b8-9cca-452a-94ba-...</td>\n",
       "      <td>{'CmHotelId': 'COYX', 'Origin': 'siteminder', ...</td>\n",
       "    </tr>\n",
       "    <tr>\n",
       "      <th>8</th>\n",
       "      <td>{'X-Correlation-ID': '1290b4d7-a673-4a84-a163-...</td>\n",
       "      <td>{'CmHotelId': 'COZ8', 'Origin': 'siteminder', ...</td>\n",
       "    </tr>\n",
       "  </tbody>\n",
       "</table>\n",
       "</div>"
      ],
      "text/plain": [
       "                                    NotificationMeta                                           CmmHotel\n",
       "0  {'X-Correlation-ID': '893bea5c-242b-4642-a856-...  {'CmHotelId': '77131', 'Origin': 'synxis', 'Na...\n",
       "1  {'X-Correlation-ID': '5a18defa-f317-42ba-9450-...  {'CmHotelId': '30718', 'Origin': 'synxis', 'Na...\n",
       "2  {'X-Correlation-ID': 'fd1bc51f-3ee8-4a3c-aade-...  {'CmHotelId': '59630', 'Origin': 'synxis', 'Na...\n",
       "3  {'X-Correlation-ID': '4a4e5e36-a752-4474-8eee-...  {'CmHotelId': '59623', 'Origin': 'synxis', 'Na...\n",
       "4  {'X-Correlation-ID': 'f83f1477-fc16-415e-b23f-...  {'CmHotelId': '79754', 'Origin': 'synxis', 'Na...\n",
       "5  {'X-Correlation-ID': '21423923-69ab-413c-bf35-...  {'CmHotelId': '59628', 'Origin': 'synxis', 'Na...\n",
       "6  {'X-Correlation-ID': 'e2705626-cdc0-4563-acbd-...  {'CmHotelId': '59622', 'Origin': 'synxis', 'Na...\n",
       "7  {'X-Correlation-ID': '8d6141b8-9cca-452a-94ba-...  {'CmHotelId': 'COYX', 'Origin': 'siteminder', ...\n",
       "8  {'X-Correlation-ID': '1290b4d7-a673-4a84-a163-...  {'CmHotelId': 'COZ8', 'Origin': 'siteminder', ..."
      ]
     },
     "execution_count": 93,
     "metadata": {},
     "output_type": "execute_result"
    }
   ],
   "source": [
    "Hotel_Created_Messages_splited = explode_and_split(hotel_created, \"HotelNotifications\")\n",
    "Hotel_Created_Messages_splited"
   ]
  },
  {
   "cell_type": "code",
   "execution_count": 94,
   "id": "5101f5dc",
   "metadata": {},
   "outputs": [],
   "source": [
    "Hotel_Created_Notif = pd.DataFrame(list(Hotel_Created_Messages_splited[\"CmmHotel\"]))"
   ]
  },
  {
   "cell_type": "code",
   "execution_count": 106,
   "id": "523df2c0",
   "metadata": {},
   "outputs": [
    {
     "data": {
      "text/html": [
       "<div>\n",
       "<style scoped>\n",
       "    .dataframe tbody tr th:only-of-type {\n",
       "        vertical-align: middle;\n",
       "    }\n",
       "\n",
       "    .dataframe tbody tr th {\n",
       "        vertical-align: top;\n",
       "    }\n",
       "\n",
       "    .dataframe thead th {\n",
       "        text-align: right;\n",
       "    }\n",
       "</style>\n",
       "<table border=\"1\" class=\"dataframe\">\n",
       "  <thead>\n",
       "    <tr style=\"text-align: right;\">\n",
       "      <th></th>\n",
       "      <th>0</th>\n",
       "      <th>0_x</th>\n",
       "      <th>0_y</th>\n",
       "      <th>CmHotelId</th>\n",
       "      <th>Origin</th>\n",
       "      <th>Name</th>\n",
       "      <th>Country</th>\n",
       "      <th>Address</th>\n",
       "      <th>Latitude</th>\n",
       "      <th>Longitude</th>\n",
       "      <th>Website</th>\n",
       "      <th>Telephone</th>\n",
       "      <th>Description</th>\n",
       "      <th>RoomCount</th>\n",
       "      <th>ContactPerson</th>\n",
       "      <th>Type</th>\n",
       "      <th>Currency</th>\n",
       "      <th>Status</th>\n",
       "      <th>Policies</th>\n",
       "      <th>OriginalData</th>\n",
       "    </tr>\n",
       "  </thead>\n",
       "  <tbody>\n",
       "    <tr>\n",
       "      <th>0</th>\n",
       "      <td>NaN</td>\n",
       "      <td>None</td>\n",
       "      <td>NaN</td>\n",
       "      <td>77131</td>\n",
       "      <td>synxis</td>\n",
       "      <td>The TownHouse Mykonos</td>\n",
       "      <td>GR</td>\n",
       "      <td>Manto Square Cyclades, 84600, Greece Mykonos T...</td>\n",
       "      <td>37.447385</td>\n",
       "      <td>25.329860</td>\n",
       "      <td>https://www.mykonostownhousehotel.com/</td>\n",
       "      <td>+30 21 1198 9344</td>\n",
       "      <td>Located in the cosmopolitan town of Mykonos, T...</td>\n",
       "      <td>18.0</td>\n",
       "      <td>None</td>\n",
       "      <td>5-star Hotel</td>\n",
       "      <td>EUR</td>\n",
       "      <td>None</td>\n",
       "      <td>None</td>\n",
       "      <td>{\"bidroom_hotel_id\":\"587855\"}</td>\n",
       "    </tr>\n",
       "    <tr>\n",
       "      <th>1</th>\n",
       "      <td>NaN</td>\n",
       "      <td>None</td>\n",
       "      <td>NaN</td>\n",
       "      <td>30718</td>\n",
       "      <td>synxis</td>\n",
       "      <td>Alda Hotel Reykjavik</td>\n",
       "      <td>IS</td>\n",
       "      <td>Laugavegur 66</td>\n",
       "      <td>64.144044</td>\n",
       "      <td>-21.921354</td>\n",
       "      <td>https://www.icelandairhotels.com/en/hotels/rey...</td>\n",
       "      <td>+354 553 9366</td>\n",
       "      <td>Located on Laugavegur shopping street in centr...</td>\n",
       "      <td>88.0</td>\n",
       "      <td>None</td>\n",
       "      <td>4-star Hotel</td>\n",
       "      <td>ISK</td>\n",
       "      <td>None</td>\n",
       "      <td>None</td>\n",
       "      <td>{\"bidroom_hotel_id\":\"428289\"}</td>\n",
       "    </tr>\n",
       "    <tr>\n",
       "      <th>2</th>\n",
       "      <td>NaN</td>\n",
       "      <td>None</td>\n",
       "      <td>NaN</td>\n",
       "      <td>59630</td>\n",
       "      <td>synxis</td>\n",
       "      <td>Icelandair Hotel Reykjavik Natura</td>\n",
       "      <td>IS</td>\n",
       "      <td>Nautholsvegur 52</td>\n",
       "      <td>64.130673</td>\n",
       "      <td>-21.932616</td>\n",
       "      <td>https://www.icelandairhotels.com/en/hotels/rey...</td>\n",
       "      <td>+354 444 4500</td>\n",
       "      <td>This eco-friendly hotel is next to Oskjuhlid H...</td>\n",
       "      <td>220.0</td>\n",
       "      <td>None</td>\n",
       "      <td>4-star Hotel</td>\n",
       "      <td>ISK</td>\n",
       "      <td>None</td>\n",
       "      <td>None</td>\n",
       "      <td>{\"bidroom_hotel_id\":\"471234\"}</td>\n",
       "    </tr>\n",
       "    <tr>\n",
       "      <th>3</th>\n",
       "      <td>NaN</td>\n",
       "      <td>None</td>\n",
       "      <td>NaN</td>\n",
       "      <td>59623</td>\n",
       "      <td>synxis</td>\n",
       "      <td>Icelandair Hotel Herad</td>\n",
       "      <td>IS</td>\n",
       "      <td>Midvangur 5-7</td>\n",
       "      <td>65.261771</td>\n",
       "      <td>-14.405994</td>\n",
       "      <td>https://www.icelandairhotels.com/en/hotels/eas...</td>\n",
       "      <td>+354 444 4000</td>\n",
       "      <td>Hotel Herad is situated in Egilsstadir, 5 km f...</td>\n",
       "      <td>60.0</td>\n",
       "      <td>None</td>\n",
       "      <td>3-star Hotel</td>\n",
       "      <td>ISK</td>\n",
       "      <td>None</td>\n",
       "      <td>None</td>\n",
       "      <td>{\"bidroom_hotel_id\":\"423819\"}</td>\n",
       "    </tr>\n",
       "    <tr>\n",
       "      <th>4</th>\n",
       "      <td>NaN</td>\n",
       "      <td>None</td>\n",
       "      <td>NaN</td>\n",
       "      <td>79754</td>\n",
       "      <td>synxis</td>\n",
       "      <td>Icelandair Hotel Myvatn</td>\n",
       "      <td>IS</td>\n",
       "      <td>Reynihlio</td>\n",
       "      <td>65.645190</td>\n",
       "      <td>-16.914793</td>\n",
       "      <td>https://www.icelandairhotels.com/en/hotels/nor...</td>\n",
       "      <td>+354 444 4000</td>\n",
       "      <td>This hotel is situated on Lake Myvatn, 3.3 km ...</td>\n",
       "      <td>59.0</td>\n",
       "      <td>None</td>\n",
       "      <td>3-star Hotel</td>\n",
       "      <td>EUR</td>\n",
       "      <td>None</td>\n",
       "      <td>None</td>\n",
       "      <td>{\"bidroom_hotel_id\":\"471242\"}</td>\n",
       "    </tr>\n",
       "    <tr>\n",
       "      <th>5</th>\n",
       "      <td>NaN</td>\n",
       "      <td>None</td>\n",
       "      <td>NaN</td>\n",
       "      <td>59628</td>\n",
       "      <td>synxis</td>\n",
       "      <td>Icelandair Hotel Reykjavik Marina</td>\n",
       "      <td>IS</td>\n",
       "      <td>Myrargata 2 Vesturbaer</td>\n",
       "      <td>64.150889</td>\n",
       "      <td>-21.945705</td>\n",
       "      <td>https://www.icelandairhotels.com/en/hotels/rey...</td>\n",
       "      <td>+354 444 4000</td>\n",
       "      <td>Set in the popular 101 harbor district of Reyk...</td>\n",
       "      <td>154.0</td>\n",
       "      <td>None</td>\n",
       "      <td>4-star Hotel</td>\n",
       "      <td>ISK</td>\n",
       "      <td>None</td>\n",
       "      <td>None</td>\n",
       "      <td>{\"bidroom_hotel_id\":\"431066\"}</td>\n",
       "    </tr>\n",
       "    <tr>\n",
       "      <th>6</th>\n",
       "      <td>NaN</td>\n",
       "      <td>None</td>\n",
       "      <td>NaN</td>\n",
       "      <td>59622</td>\n",
       "      <td>synxis</td>\n",
       "      <td>Icelandair Hotel Akureyri</td>\n",
       "      <td>IS</td>\n",
       "      <td>Thingvallastraeti 23</td>\n",
       "      <td>65.679123</td>\n",
       "      <td>-18.100421</td>\n",
       "      <td>https://www.icelandairhotels.com/en/hotels/nor...</td>\n",
       "      <td>+354 444 4000</td>\n",
       "      <td>Located in Akureyri, this hotel offers fresh r...</td>\n",
       "      <td>99.0</td>\n",
       "      <td>None</td>\n",
       "      <td>3-star Hotel</td>\n",
       "      <td>ISK</td>\n",
       "      <td>None</td>\n",
       "      <td>None</td>\n",
       "      <td>{\"bidroom_hotel_id\":\"471259\"}</td>\n",
       "    </tr>\n",
       "    <tr>\n",
       "      <th>7</th>\n",
       "      <td>NaN</td>\n",
       "      <td>None</td>\n",
       "      <td>NaN</td>\n",
       "      <td>COYX</td>\n",
       "      <td>siteminder</td>\n",
       "      <td>Adonis Les Terrasses Des Bottières By Olydea</td>\n",
       "      <td>FR</td>\n",
       "      <td>Les Bottières</td>\n",
       "      <td>45.267003</td>\n",
       "      <td>6.298634</td>\n",
       "      <td>https://www.olydea.com/</td>\n",
       "      <td>04 48 20 03 19</td>\n",
       "      <td>Providing a terrace, Adonis Les Bottières By O...</td>\n",
       "      <td>NaN</td>\n",
       "      <td>None</td>\n",
       "      <td>Other</td>\n",
       "      <td>EUR</td>\n",
       "      <td>None</td>\n",
       "      <td>None</td>\n",
       "      <td>{\"bidroom_hotel_id\":\"592233\"}</td>\n",
       "    </tr>\n",
       "    <tr>\n",
       "      <th>8</th>\n",
       "      <td>NaN</td>\n",
       "      <td>None</td>\n",
       "      <td>NaN</td>\n",
       "      <td>COZ8</td>\n",
       "      <td>siteminder</td>\n",
       "      <td>Adonis Fontaine du Roi by Olydea</td>\n",
       "      <td>FR</td>\n",
       "      <td>La Chal</td>\n",
       "      <td>45.215469</td>\n",
       "      <td>6.260033</td>\n",
       "      <td>https://www.olydea.com/</td>\n",
       "      <td>04 48 20 03 19</td>\n",
       "      <td>Featuring a terrace, Adonis Saint Jean d'Arves...</td>\n",
       "      <td>NaN</td>\n",
       "      <td>None</td>\n",
       "      <td>Other</td>\n",
       "      <td>EUR</td>\n",
       "      <td>None</td>\n",
       "      <td>None</td>\n",
       "      <td>{\"bidroom_hotel_id\":\"592244\"}</td>\n",
       "    </tr>\n",
       "  </tbody>\n",
       "</table>\n",
       "</div>"
      ],
      "text/plain": [
       "    0   0_x  0_y CmHotelId      Origin                                          Name Country                                            Address   Latitude  Longitude                                            Website         Telephone                                        Description  RoomCount ContactPerson          Type Currency Status Policies                   OriginalData\n",
       "0 NaN  None  NaN     77131      synxis                         The TownHouse Mykonos      GR  Manto Square Cyclades, 84600, Greece Mykonos T...  37.447385  25.329860             https://www.mykonostownhousehotel.com/  +30 21 1198 9344  Located in the cosmopolitan town of Mykonos, T...       18.0          None  5-star Hotel      EUR   None     None  {\"bidroom_hotel_id\":\"587855\"}\n",
       "1 NaN  None  NaN     30718      synxis                          Alda Hotel Reykjavik      IS                                      Laugavegur 66  64.144044 -21.921354  https://www.icelandairhotels.com/en/hotels/rey...     +354 553 9366  Located on Laugavegur shopping street in centr...       88.0          None  4-star Hotel      ISK   None     None  {\"bidroom_hotel_id\":\"428289\"}\n",
       "2 NaN  None  NaN     59630      synxis             Icelandair Hotel Reykjavik Natura      IS                                   Nautholsvegur 52  64.130673 -21.932616  https://www.icelandairhotels.com/en/hotels/rey...     +354 444 4500  This eco-friendly hotel is next to Oskjuhlid H...      220.0          None  4-star Hotel      ISK   None     None  {\"bidroom_hotel_id\":\"471234\"}\n",
       "3 NaN  None  NaN     59623      synxis                        Icelandair Hotel Herad      IS                                      Midvangur 5-7  65.261771 -14.405994  https://www.icelandairhotels.com/en/hotels/eas...     +354 444 4000  Hotel Herad is situated in Egilsstadir, 5 km f...       60.0          None  3-star Hotel      ISK   None     None  {\"bidroom_hotel_id\":\"423819\"}\n",
       "4 NaN  None  NaN     79754      synxis                       Icelandair Hotel Myvatn      IS                                          Reynihlio  65.645190 -16.914793  https://www.icelandairhotels.com/en/hotels/nor...     +354 444 4000  This hotel is situated on Lake Myvatn, 3.3 km ...       59.0          None  3-star Hotel      EUR   None     None  {\"bidroom_hotel_id\":\"471242\"}\n",
       "5 NaN  None  NaN     59628      synxis             Icelandair Hotel Reykjavik Marina      IS                             Myrargata 2 Vesturbaer  64.150889 -21.945705  https://www.icelandairhotels.com/en/hotels/rey...     +354 444 4000  Set in the popular 101 harbor district of Reyk...      154.0          None  4-star Hotel      ISK   None     None  {\"bidroom_hotel_id\":\"431066\"}\n",
       "6 NaN  None  NaN     59622      synxis                     Icelandair Hotel Akureyri      IS                               Thingvallastraeti 23  65.679123 -18.100421  https://www.icelandairhotels.com/en/hotels/nor...     +354 444 4000  Located in Akureyri, this hotel offers fresh r...       99.0          None  3-star Hotel      ISK   None     None  {\"bidroom_hotel_id\":\"471259\"}\n",
       "7 NaN  None  NaN      COYX  siteminder  Adonis Les Terrasses Des Bottières By Olydea      FR                                      Les Bottières  45.267003   6.298634                            https://www.olydea.com/    04 48 20 03 19  Providing a terrace, Adonis Les Bottières By O...        NaN          None         Other      EUR   None     None  {\"bidroom_hotel_id\":\"592233\"}\n",
       "8 NaN  None  NaN      COZ8  siteminder              Adonis Fontaine du Roi by Olydea      FR                                            La Chal  45.215469   6.260033                            https://www.olydea.com/    04 48 20 03 19  Featuring a terrace, Adonis Saint Jean d'Arves...        NaN          None         Other      EUR   None     None  {\"bidroom_hotel_id\":\"592244\"}"
      ]
     },
     "execution_count": 106,
     "metadata": {},
     "output_type": "execute_result"
    }
   ],
   "source": [
    "Hotel_Created_Notif"
   ]
  },
  {
   "cell_type": "code",
   "execution_count": 98,
   "id": "681c2219",
   "metadata": {},
   "outputs": [],
   "source": [
    "Hotel_Created_Notif = pd.DataFrame(list(Hotel_Created_Messages_splited[\"CmmHotel\"]))\n",
    "Hotel_Created_Notif = explode_split_and_merge(Hotel_Created_Notif, \"Photos\")\n",
    "Hotel_Created_Notif = explode_split_and_merge(Hotel_Created_Notif, \"Fees\")\n",
    "Hotel_Created_Notif = explode_split_and_merge(Hotel_Created_Notif, \"Amenities\")\n"
   ]
  },
  {
   "cell_type": "code",
   "execution_count": 105,
   "id": "f1919a55",
   "metadata": {},
   "outputs": [
    {
     "name": "stdout",
     "output_type": "stream",
     "text": [
      "<class 'pandas.core.frame.DataFrame'>\n",
      "RangeIndex: 9 entries, 0 to 8\n",
      "Data columns (total 20 columns):\n",
      " #   Column         Non-Null Count  Dtype  \n",
      "---  ------         --------------  -----  \n",
      " 0   0              0 non-null      float64\n",
      " 1   0_x            0 non-null      object \n",
      " 2   0_y            0 non-null      float64\n",
      " 3   CmHotelId      9 non-null      object \n",
      " 4   Origin         9 non-null      object \n",
      " 5   Name           9 non-null      object \n",
      " 6   Country        9 non-null      object \n",
      " 7   Address        9 non-null      object \n",
      " 8   Latitude       9 non-null      float64\n",
      " 9   Longitude      9 non-null      float64\n",
      " 10  Website        9 non-null      object \n",
      " 11  Telephone      9 non-null      object \n",
      " 12  Description    9 non-null      object \n",
      " 13  RoomCount      7 non-null      float64\n",
      " 14  ContactPerson  0 non-null      object \n",
      " 15  Type           9 non-null      object \n",
      " 16  Currency       9 non-null      object \n",
      " 17  Status         0 non-null      object \n",
      " 18  Policies       0 non-null      object \n",
      " 19  OriginalData   9 non-null      object \n",
      "dtypes: float64(5), object(15)\n",
      "memory usage: 1.5+ KB\n"
     ]
    }
   ],
   "source": [
    "Hotel_Created_Notif.info()"
   ]
  },
  {
   "cell_type": "markdown",
   "id": "99584f9d",
   "metadata": {},
   "source": [
    "# Data Analysis"
   ]
  },
  {
   "cell_type": "code",
   "execution_count": 104,
   "id": "30cd10fb",
   "metadata": {},
   "outputs": [],
   "source": [
    "import seaborn as sns\n",
    "import matplotlib.pyplot as plt\n",
    "import matplotlib"
   ]
  },
  {
   "cell_type": "code",
   "execution_count": 107,
   "id": "207feb3d",
   "metadata": {},
   "outputs": [],
   "source": [
    "font = {'family' : 'sans serif',\n",
    "        'weight' : 'bold',\n",
    "        'size'   : 22}\n",
    "\n",
    "matplotlib.rc('font', **font)"
   ]
  },
  {
   "cell_type": "markdown",
   "id": "cabfcf92",
   "metadata": {},
   "source": [
    "## Origin of hotel creation"
   ]
  },
  {
   "cell_type": "code",
   "execution_count": 110,
   "id": "9b77cd22",
   "metadata": {},
   "outputs": [
    {
     "data": {
      "image/png": "[encoded data removed]",
      "text/plain": [
       "<Figure size 1440x504 with 1 Axes>"
      ]
     },
     "metadata": {
      "needs_background": "light"
     },
     "output_type": "display_data"
    }
   ],
   "source": [
    "countplt, ax = plt.subplots(figsize = (20,7))\n",
    "ax = sns.countplot(x=\"Origin\", data=Hotel_Created_Notif)"
   ]
  },
  {
   "cell_type": "markdown",
   "id": "2c76fdd7",
   "metadata": {},
   "source": [
    "## Hotel countries"
   ]
  },
  {
   "cell_type": "code",
   "execution_count": 111,
   "id": "40e3fcfc",
   "metadata": {},
   "outputs": [
    {
     "data": {
      "image/png": "[encoded data removed]",
      "text/plain": [
       "<Figure size 1440x504 with 1 Axes>"
      ]
     },
     "metadata": {
      "needs_background": "light"
     },
     "output_type": "display_data"
    }
   ],
   "source": [
    "countplt, ax = plt.subplots(figsize = (20,7))\n",
    "ax = sns.countplot(x=\"Country\", data=Hotel_Created_Notif)"
   ]
  },
  {
   "cell_type": "markdown",
   "id": "ab99003c",
   "metadata": {},
   "source": [
    "## Hotel types"
   ]
  },
  {
   "cell_type": "code",
   "execution_count": 113,
   "id": "6ead5d95",
   "metadata": {},
   "outputs": [
    {
     "data": {
      "image/png": "[encoded data removed]",
      "text/plain": [
       "<Figure size 1440x504 with 1 Axes>"
      ]
     },
     "metadata": {
      "needs_background": "light"
     },
     "output_type": "display_data"
    }
   ],
   "source": [
    "countplt, ax = plt.subplots(figsize = (20,7))\n",
    "ax = sns.countplot(x=\"Type\", data=Hotel_Created_Notif)"
   ]
  },
  {
   "cell_type": "code",
   "execution_count": null,
   "id": "aac9b750",
   "metadata": {},
   "outputs": [],
   "source": []
  }
 ],
 "metadata": {
  "kernelspec": {
   "display_name": "Python 3 (ipykernel)",
   "language": "python",
   "name": "python3"
  },
  "language_info": {
   "codemirror_mode": {
    "name": "ipython",
    "version": 3
   },
   "file_extension": ".py",
   "mimetype": "text/x-python",
   "name": "python",
   "nbconvert_exporter": "python",
   "pygments_lexer": "ipython3",
   "version": "3.9.8"
  }
 },
 "nbformat": 4,
 "nbformat_minor": 5
}
