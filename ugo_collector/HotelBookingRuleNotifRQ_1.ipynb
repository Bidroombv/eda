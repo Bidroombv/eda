{
 "cells": [
  {
   "cell_type": "markdown",
   "id": "f363b388",
   "metadata": {},
   "source": [
    "#                                                       HotelBookingRuleNotifRQ\n",
    "\n",
    "##                                 analysis is done on basis of 10 files that came at 1st of December 2021 "
   ]
  },
  {
   "cell_type": "markdown",
   "id": "62044416",
   "metadata": {},
   "source": [
    "## Import the relevant libraries"
   ]
  },
  {
   "cell_type": "code",
   "execution_count": 3,
   "id": "7e634601",
   "metadata": {},
   "outputs": [
    {
     "data": {
      "text/html": [
       "\n",
       "<style>\n",
       "    div#notebook-container    { width: 95%; }\n",
       "    div#menubar-container     { width: 65%; }\n",
       "    div#maintoolbar-container { width: 99%; }\n",
       "</style>\n"
      ],
      "text/plain": [
       "<IPython.core.display.HTML object>"
      ]
     },
     "metadata": {},
     "output_type": "display_data"
    }
   ],
   "source": [
    "from IPython.display import display, HTML\n",
    "\n",
    "display(HTML(data=\"\"\"\n",
    "<style>\n",
    "    div#notebook-container    { width: 95%; }\n",
    "    div#menubar-container     { width: 65%; }\n",
    "    div#maintoolbar-container { width: 99%; }\n",
    "</style>\n",
    "\"\"\"))\n",
    "\n",
    "import pandas as pd\n",
    "import numpy as np"
   ]
  },
  {
   "cell_type": "markdown",
   "id": "cba4b348",
   "metadata": {},
   "source": [
    "## Load all parquet files that were available with that message"
   ]
  },
  {
   "cell_type": "code",
   "execution_count": 4,
   "id": "4f8a2f04",
   "metadata": {},
   "outputs": [
    {
     "data": {
      "text/html": [
       "<div>\n",
       "<style scoped>\n",
       "    .dataframe tbody tr th:only-of-type {\n",
       "        vertical-align: middle;\n",
       "    }\n",
       "\n",
       "    .dataframe tbody tr th {\n",
       "        vertical-align: top;\n",
       "    }\n",
       "\n",
       "    .dataframe thead th {\n",
       "        text-align: right;\n",
       "    }\n",
       "</style>\n",
       "<table border=\"1\" class=\"dataframe\">\n",
       "  <thead>\n",
       "    <tr style=\"text-align: right;\">\n",
       "      <th></th>\n",
       "      <th>HotelBookingRuleNotifRQ_Messages</th>\n",
       "    </tr>\n",
       "  </thead>\n",
       "  <tbody>\n",
       "    <tr>\n",
       "      <th>0</th>\n",
       "      <td>[{'MessageMeta': {'X-Correlation-ID': 'ebf26fe...</td>\n",
       "    </tr>\n",
       "    <tr>\n",
       "      <th>1</th>\n",
       "      <td>[{'MessageMeta': {'X-Correlation-ID': '2e5300c...</td>\n",
       "    </tr>\n",
       "    <tr>\n",
       "      <th>2</th>\n",
       "      <td>[{'MessageMeta': {'X-Correlation-ID': '782af54...</td>\n",
       "    </tr>\n",
       "  </tbody>\n",
       "</table>\n",
       "</div>"
      ],
      "text/plain": [
       "                    HotelBookingRuleNotifRQ_Messages\n",
       "0  [{'MessageMeta': {'X-Correlation-ID': 'ebf26fe...\n",
       "1  [{'MessageMeta': {'X-Correlation-ID': '2e5300c...\n",
       "2  [{'MessageMeta': {'X-Correlation-ID': '782af54..."
      ]
     },
     "execution_count": 4,
     "metadata": {},
     "output_type": "execute_result"
    }
   ],
   "source": [
    "HotelBookingRuleNotifRQ_Messages = pd.read_parquet(\"Documents/ota_ugoBooking\", engine='auto')\n",
    "HotelBookingRuleNotifRQ_Messages"
   ]
  },
  {
   "cell_type": "markdown",
   "id": "a68dbc21",
   "metadata": {},
   "source": [
    "## Create DataFrame from loaded data"
   ]
  },
  {
   "cell_type": "markdown",
   "id": "83d5ac1d",
   "metadata": {},
   "source": [
    "### Resolving first level of nesting<hr>"
   ]
  },
  {
   "cell_type": "code",
   "execution_count": 6,
   "id": "e31058c7",
   "metadata": {},
   "outputs": [],
   "source": [
    "ota = []\n",
    "for index, level in HotelBookingRuleNotifRQ_Messages.iterrows():\n",
    "    ota.extend(HotelBookingRuleNotifRQ_Messages.iloc[index,0])"
   ]
  },
  {
   "cell_type": "markdown",
   "id": "10070ba7",
   "metadata": {},
   "source": [
    "### Resolving second level of nesting<hr>"
   ]
  },
  {
   "cell_type": "code",
   "execution_count": 8,
   "id": "bc1eceac",
   "metadata": {},
   "outputs": [],
   "source": [
    "secondLevel = []\n",
    "for item in ota:\n",
    "    corrID = item[\"MessageMeta\"][\"X-Correlation-ID\"]\n",
    "    typ = item[\"MessageMeta\"][\"Type\"]\n",
    "    appID = item[\"MessageMeta\"][\"AppId\"]\n",
    "    pimID = item[\"OTA_HotelBookingRuleNotifRQ\"][\"PrimaryLangID\"]\n",
    "    token = item[\"OTA_HotelBookingRuleNotifRQ\"][\"EchoToken\"]\n",
    "    timestamp = item[\"OTA_HotelBookingRuleNotifRQ\"][\"TimeStamp\"]\n",
    "    version = item[\"OTA_HotelBookingRuleNotifRQ\"][\"Version\"]\n",
    "    target = item[\"OTA_HotelBookingRuleNotifRQ\"][\"Target\"]\n",
    "    hotel = item[\"OTA_HotelBookingRuleNotifRQ\"][\"RuleMessages\"][\"HotelCode\"]\n",
    "    chain = item[\"OTA_HotelBookingRuleNotifRQ\"][\"RuleMessages\"][\"ChainCode\"]\n",
    "    hotelName = item[\"OTA_HotelBookingRuleNotifRQ\"][\"RuleMessages\"][\"HotelName\"]\n",
    "    data_row = item[\"OTA_HotelBookingRuleNotifRQ\"][\"RuleMessages\"][\"RuleMessage\"]\n",
    "    for row in data_row:\n",
    "        row[\"X-Correlation-ID\"] = corrID\n",
    "        row[\"Type\"] = typ\n",
    "        row[\"AppId\"] = appID\n",
    "        row[\"PrimaryLangID\"] = pimID\n",
    "        row[\"EchoToken\"] = token\n",
    "        row[\"TimeStamp\"] = timestamp\n",
    "        row[\"Version\"] = version\n",
    "        row[\"Target\"] = target\n",
    "        row[\"HotelCode\"] = hotel\n",
    "        row[\"ChainCode\"] = chain\n",
    "        row[\"HotelName\"] = hotelName\n",
    "        secondLevel.append(row)"
   ]
  },
  {
   "cell_type": "markdown",
   "id": "69b20d8d",
   "metadata": {},
   "source": [
    "### Resolving third level of nesting<hr>"
   ]
  },
  {
   "cell_type": "code",
   "execution_count": 11,
   "id": "15e634af",
   "metadata": {},
   "outputs": [],
   "source": [
    "thirdLevel = []\n",
    "for level in secondLevel:\n",
    "    stypCode = level[\"StatusApplicationControl\"][\"InvTypeCode\"]\n",
    "    rpCode = level[\"StatusApplicationControl\"][\"RatePlanCode\"]\n",
    "    start = level[\"StatusApplicationControl\"][\"Start\"]\n",
    "    end = level[\"StatusApplicationControl\"][\"End\"]\n",
    "    mon = level[\"StatusApplicationControl\"][\"Mon\"]\n",
    "    tue = level[\"StatusApplicationControl\"][\"Tue\"]\n",
    "    wed = level[\"StatusApplicationControl\"][\"Weds\"]\n",
    "    thur = level[\"StatusApplicationControl\"][\"Thur\"]\n",
    "    fri = level[\"StatusApplicationControl\"][\"Fri\"]\n",
    "    sat = level[\"StatusApplicationControl\"][\"Sat\"]\n",
    "    sun = level[\"StatusApplicationControl\"][\"Sun\"]\n",
    "    inveInfo = level[\"BookingRules\"][\"InventoryInfo\"]\n",
    "    corrID = level[\"X-Correlation-ID\"]\n",
    "    typ = level[\"Type\"]\n",
    "    appID = level[\"AppId\"]\n",
    "    pimID = level[\"PrimaryLangID\"]\n",
    "    token = level[\"EchoToken\"]\n",
    "    timestamp = level[\"TimeStamp\"]\n",
    "    version = level[\"Version\"]\n",
    "    target = level[\"Target\"]\n",
    "    hotel = level[\"HotelCode\"]\n",
    "    chain = level[\"ChainCode\"]\n",
    "    hotelName = level[\"HotelName\"] \n",
    "    data_row = level[\"BookingRules\"][\"BookingRule\"]\n",
    "    for row in data_row:\n",
    "        row[\"InvTypeCode\"] = stypCode\n",
    "        row[\"RatePlanCode\"] = rpCode  \n",
    "        row[\"Start\"] = start\n",
    "        row[\"End\"] = end\n",
    "        row[\"Mon\"] = mon \n",
    "        row[\"Tue\"] = tue\n",
    "        row[\"Wed\"] = wed\n",
    "        row[\"Thur\"] = thur\n",
    "        row[\"Fri\"] = fri\n",
    "        row[\"Sat\"] = sat\n",
    "        row[\"Sun\"] = sun\n",
    "        row[\"InventoryInfo\"] = inveInfo\n",
    "        row[\"X-Correlation-ID\"] = corrID\n",
    "        row[\"Type\"] = typ\n",
    "        row[\"AppId\"] = appID\n",
    "        row[\"PrimaryLangID\"] = pimID\n",
    "        row[\"EchoToken\"] = token\n",
    "        row[\"TimeStamp\"] = timestamp\n",
    "        row[\"Version\"] = version\n",
    "        row[\"Target\"] = target\n",
    "        row[\"HotelCode\"] = hotel\n",
    "        row[\"ChainCode\"] = chain\n",
    "        row[\"HotelName\"] = hotelName\n",
    "        thirdLevel.append(row)"
   ]
  },
  {
   "cell_type": "markdown",
   "id": "aca5fdd2",
   "metadata": {},
   "source": [
    "### Resolving fourth level of nesting<hr>"
   ]
  },
  {
   "cell_type": "code",
   "execution_count": 51,
   "id": "a3845c45",
   "metadata": {},
   "outputs": [],
   "source": [
    "fourthLevel = []\n",
    "for level in thirdLevel:\n",
    "    data_row = level[\"RestrictionStatus\"]\n",
    "    lengthStay = level[\"LengthsOfStay\"]\n",
    "    rest = level[\"DOWRestrictions\"]\n",
    "    rest2 = level[\"DOW_Restrictions\"]\n",
    "    minn = level[\"MinAdvancedBookingOffset\"]\n",
    "    maxx = level[\"MaxAdvancedBookingOffset\"]\n",
    "    origData = level[\"OriginalData\"]\n",
    "    rpCode = level[\"RatePlanCode\"]\n",
    "    stypCode = level[\"InvTypeCode\"]\n",
    "    start = level[\"Start\"]\n",
    "    end = level[\"End\"]\n",
    "    mon = level[\"Mon\"]\n",
    "    tue = level[\"Tue\"]\n",
    "    wed = level[\"Wed\"]\n",
    "    thur = level[\"Thur\"]\n",
    "    fri = level[\"Fri\"]\n",
    "    sat = level[\"Sat\"]\n",
    "    sun = level[\"Sun\"]\n",
    "    inveInfo = level[\"InventoryInfo\"]\n",
    "    corrID = level[\"X-Correlation-ID\"]\n",
    "    typ = level[\"Type\"]\n",
    "    appID = level[\"AppId\"]\n",
    "    pimID = level[\"PrimaryLangID\"]\n",
    "    token = level[\"EchoToken\"]\n",
    "    timestamp = level[\"TimeStamp\"]\n",
    "    version = level[\"Version\"]\n",
    "    target = level[\"Target\"]\n",
    "    hotel = level[\"HotelCode\"]\n",
    "    chain = level[\"ChainCode\"]\n",
    "    hotelName = level[\"HotelName\"]\n",
    "    try:\n",
    "        for row in data_row:\n",
    "            row[\"LengthsOfStay\"] = lengthStay\n",
    "            row[\"DOWRestrictions\"] = rest\n",
    "            row[\"DOW_Restrictions\"] = rest2\n",
    "            row[\"MinAdvancedBookingOffset\"] = minn\n",
    "            row[\"MaxAdvancedBookingOffset\"] = maxx\n",
    "            row[\"OriginalData\"] = origData\n",
    "            row[\"RatePlanCode\"] = rpCode  \n",
    "            row[\"InventoryInfo\"] = inveInfo\n",
    "            row[\"InvTypeCode\"] = stypCode\n",
    "            row[\"X-Correlation-ID\"] = corrID\n",
    "            row[\"Type\"] = typ\n",
    "            row[\"AppId\"] = appID\n",
    "            row[\"PrimaryLangID\"] = pimID\n",
    "            row[\"EchoToken\"] = token\n",
    "            row[\"TimeStamp\"] = timestamp\n",
    "            row[\"Version\"] = version\n",
    "            row[\"Target\"] = target\n",
    "            row[\"ChainCode\"] = chain\n",
    "            row[\"HotelName\"] = hotelName\n",
    "            row[\"HotelCode\"] = hotel\n",
    "            row[\"Mon\"] = mon\n",
    "            row[\"Tue\"] = tue\n",
    "            row[\"Wed\"] = wed\n",
    "            row[\"Thur\"] = thur\n",
    "            row[\"Fri\"] = fri\n",
    "            row[\"Sat\"] = sat\n",
    "            row[\"Sun\"] = sun\n",
    "            row[\"Start\"] = start\n",
    "            row[\"End\"] = end\n",
    "            fourthLevel.append(row)\n",
    "    except Exception as e:\n",
    "        level['Restriction'] = level['RestrictionStatus']       \n",
    "        fourthLevel.append(level)"
   ]
  },
  {
   "cell_type": "markdown",
   "id": "d4af2653",
   "metadata": {},
   "source": [
    "### Final - base to create DataFrame <hr>"
   ]
  },
  {
   "cell_type": "code",
   "execution_count": 52,
   "id": "ea793768",
   "metadata": {},
   "outputs": [],
   "source": [
    "final = []\n",
    "for level in fourthLevel[:120]:\n",
    "    data_rows = level[\"LengthsOfStay\"][\"LengthOfStay\"]\n",
    "    resStatus = level[\"Restriction\"]\n",
    "    if \"Status\" in level.keys():\n",
    "            tatus = level[\"Status\"]\n",
    "    else:\n",
    "        status = ''\n",
    "    rest = level[\"DOWRestrictions\"]\n",
    "    rest2 = level[\"DOW_Restrictions\"]\n",
    "    minn = level[\"MinAdvancedBookingOffset\"]\n",
    "    maxx = level[\"MaxAdvancedBookingOffset\"]\n",
    "    origData = level[\"OriginalData\"]\n",
    "    rpCode = level[\"RatePlanCode\"]\n",
    "    stypCode = level[\"InvTypeCode\"]\n",
    "    start = level[\"Start\"]\n",
    "    end = level[\"End\"]\n",
    "    mon = level[\"Mon\"]\n",
    "    tue = level[\"Tue\"]\n",
    "    wed = level[\"Wed\"]\n",
    "    thur = level[\"Thur\"]\n",
    "    fri = level[\"Fri\"]\n",
    "    sat = level[\"Sat\"]\n",
    "    sun = level[\"Sun\"]\n",
    "    inveInfo = level[\"InventoryInfo\"]\n",
    "    corrID = level[\"X-Correlation-ID\"]\n",
    "    typ = level[\"Type\"]\n",
    "    appID = level[\"AppId\"]\n",
    "    pimID = level[\"PrimaryLangID\"]\n",
    "    token = level[\"EchoToken\"]\n",
    "    timestamp = level[\"TimeStamp\"]\n",
    "    version = level[\"Version\"]\n",
    "    target = level[\"Target\"]\n",
    "    hotel = level[\"HotelCode\"]\n",
    "    chain = level[\"ChainCode\"]\n",
    "    hotelName = level[\"HotelName\"]\n",
    "    for row in data_rows:\n",
    "        row[\"Restriction\"] = resStatus\n",
    "        row[\"Status\"] = status\n",
    "        row[\"InvTypeCode\"] = stypCode\n",
    "        row[\"DOWRestrictions\"] = rest\n",
    "        row[\"DOW_Restrictions\"] = rest2\n",
    "        row[\"MinAdvancedBookingOffset\"] = minn\n",
    "        row[\"MaxAdvancedBookingOffset\"] = maxx\n",
    "        row[\"OriginalData\"] = origData\n",
    "        row[\"RatePlanCode\"] = rpCode  \n",
    "        row[\"InventoryInfo\"] = inveInfo\n",
    "        row[\"X-Correlation-ID\"] = corrID\n",
    "        row[\"Type\"] = typ\n",
    "        row[\"AppId\"] = appID\n",
    "        row[\"PrimaryLangID\"] = pimID\n",
    "        row[\"EchoToken\"] = token\n",
    "        row[\"TimeStamp\"] = timestamp\n",
    "        row[\"Version\"] = version\n",
    "        row[\"Target\"] = target\n",
    "        row[\"ChainCode\"] = chain\n",
    "        row[\"HotelName\"] = hotelName\n",
    "        row[\"HotelCode\"] = hotel\n",
    "        row[\"Mon\"] = mon\n",
    "        row[\"Tue\"] = tue\n",
    "        row[\"Wed\"] = wed\n",
    "        row[\"Thur\"] = thur\n",
    "        row[\"Fri\"] = fri\n",
    "        row[\"Sat\"] = sat\n",
    "        row[\"Sun\"] = sun\n",
    "        row[\"Start\"] = start\n",
    "        row[\"End\"] = end\n",
    "        final.append(row)"
   ]
  },
  {
   "cell_type": "markdown",
   "id": "bfabbe12",
   "metadata": {},
   "source": [
    "### Creating DataFrame<hr>"
   ]
  },
  {
   "cell_type": "code",
   "execution_count": 86,
   "id": "682d677e",
   "metadata": {},
   "outputs": [],
   "source": [
    "from datetime import datetime\n",
    "finalData_raw = pd.DataFrame(final)"
   ]
  },
  {
   "cell_type": "markdown",
   "id": "0bdf152a",
   "metadata": {},
   "source": [
    "### Adding column with difference between Start and End date"
   ]
  },
  {
   "cell_type": "code",
   "execution_count": 87,
   "id": "5531061b",
   "metadata": {},
   "outputs": [],
   "source": [
    "finalData_raw[\"start2\"] = [datetime.strptime(x, '%Y-%m-%d') for x in finalData_raw.Start]\n",
    "finalData_raw[\"end2\"] = [datetime.strptime(x, '%Y-%m-%d') for x in finalData_raw.End]\n",
    "finalData_raw[\"timeDiff\"] = (finalData_raw[\"end2\"] - finalData_raw[\"start2\"])"
   ]
  },
  {
   "cell_type": "markdown",
   "id": "7ef381f9",
   "metadata": {},
   "source": [
    "### Creating working file for data analysis"
   ]
  },
  {
   "cell_type": "code",
   "execution_count": 88,
   "id": "be630818",
   "metadata": {},
   "outputs": [],
   "source": [
    "HotelBookingRuleNotifRQ = finalData_raw.copy()"
   ]
  },
  {
   "cell_type": "markdown",
   "id": "968e9b3c",
   "metadata": {},
   "source": [
    "# Data Analysis"
   ]
  },
  {
   "cell_type": "markdown",
   "id": "8d640548",
   "metadata": {},
   "source": [
    "### Basic information about data<hr>"
   ]
  },
  {
   "cell_type": "code",
   "execution_count": 89,
   "id": "721b5910",
   "metadata": {},
   "outputs": [
    {
     "name": "stdout",
     "output_type": "stream",
     "text": [
      "<class 'pandas.core.frame.DataFrame'>\n",
      "RangeIndex: 239 entries, 0 to 238\n",
      "Data columns (total 38 columns):\n",
      " #   Column                    Non-Null Count  Dtype          \n",
      "---  ------                    --------------  -----          \n",
      " 0   MinMaxMessageType         239 non-null    object         \n",
      " 1   Time                      239 non-null    object         \n",
      " 2   TimeUnit                  0 non-null      object         \n",
      " 3   MinLOS                    0 non-null      object         \n",
      " 4   MaxLOS                    0 non-null      object         \n",
      " 5   Restriction               238 non-null    object         \n",
      " 6   Status                    239 non-null    object         \n",
      " 7   InvTypeCode               239 non-null    object         \n",
      " 8   DOWRestrictions           0 non-null      object         \n",
      " 9   DOW_Restrictions          0 non-null      object         \n",
      " 10  MinAdvancedBookingOffset  0 non-null      object         \n",
      " 11  MaxAdvancedBookingOffset  0 non-null      object         \n",
      " 12  OriginalData              239 non-null    object         \n",
      " 13  RatePlanCode              239 non-null    object         \n",
      " 14  InventoryInfo             0 non-null      object         \n",
      " 15  X-Correlation-ID          239 non-null    object         \n",
      " 16  Type                      239 non-null    object         \n",
      " 17  AppId                     239 non-null    object         \n",
      " 18  PrimaryLangID             239 non-null    object         \n",
      " 19  EchoToken                 239 non-null    object         \n",
      " 20  TimeStamp                 239 non-null    object         \n",
      " 21  Version                   239 non-null    object         \n",
      " 22  Target                    239 non-null    object         \n",
      " 23  ChainCode                 0 non-null      object         \n",
      " 24  HotelName                 0 non-null      object         \n",
      " 25  HotelCode                 239 non-null    object         \n",
      " 26  Mon                       0 non-null      object         \n",
      " 27  Tue                       0 non-null      object         \n",
      " 28  Wed                       0 non-null      object         \n",
      " 29  Thur                      0 non-null      object         \n",
      " 30  Fri                       0 non-null      object         \n",
      " 31  Sat                       1 non-null      object         \n",
      " 32  Sun                       0 non-null      object         \n",
      " 33  Start                     239 non-null    object         \n",
      " 34  End                       239 non-null    object         \n",
      " 35  start2                    239 non-null    datetime64[ns] \n",
      " 36  end2                      239 non-null    datetime64[ns] \n",
      " 37  timeDiff                  239 non-null    timedelta64[ns]\n",
      "dtypes: datetime64[ns](2), object(35), timedelta64[ns](1)\n",
      "memory usage: 71.1+ KB\n"
     ]
    }
   ],
   "source": [
    "HotelBookingRuleNotifRQ.info()"
   ]
  },
  {
   "cell_type": "code",
   "execution_count": 90,
   "id": "89b98489",
   "metadata": {},
   "outputs": [
    {
     "data": {
      "text/html": [
       "<div>\n",
       "<style scoped>\n",
       "    .dataframe tbody tr th:only-of-type {\n",
       "        vertical-align: middle;\n",
       "    }\n",
       "\n",
       "    .dataframe tbody tr th {\n",
       "        vertical-align: top;\n",
       "    }\n",
       "\n",
       "    .dataframe thead th {\n",
       "        text-align: right;\n",
       "    }\n",
       "</style>\n",
       "<table border=\"1\" class=\"dataframe\">\n",
       "  <thead>\n",
       "    <tr style=\"text-align: right;\">\n",
       "      <th></th>\n",
       "      <th>MinMaxMessageType</th>\n",
       "      <th>Time</th>\n",
       "      <th>TimeUnit</th>\n",
       "      <th>MinLOS</th>\n",
       "      <th>MaxLOS</th>\n",
       "      <th>Restriction</th>\n",
       "      <th>Status</th>\n",
       "      <th>InvTypeCode</th>\n",
       "      <th>DOWRestrictions</th>\n",
       "      <th>DOW_Restrictions</th>\n",
       "      <th>...</th>\n",
       "      <th>Wed</th>\n",
       "      <th>Thur</th>\n",
       "      <th>Fri</th>\n",
       "      <th>Sat</th>\n",
       "      <th>Sun</th>\n",
       "      <th>Start</th>\n",
       "      <th>End</th>\n",
       "      <th>start2</th>\n",
       "      <th>end2</th>\n",
       "      <th>timeDiff</th>\n",
       "    </tr>\n",
       "  </thead>\n",
       "  <tbody>\n",
       "    <tr>\n",
       "      <th>0</th>\n",
       "      <td>SetMinLOS</td>\n",
       "      <td>1</td>\n",
       "      <td>None</td>\n",
       "      <td>None</td>\n",
       "      <td>None</td>\n",
       "      <td>Departure</td>\n",
       "      <td>Open</td>\n",
       "      <td>56128</td>\n",
       "      <td>None</td>\n",
       "      <td>None</td>\n",
       "      <td>...</td>\n",
       "      <td>None</td>\n",
       "      <td>None</td>\n",
       "      <td>None</td>\n",
       "      <td>None</td>\n",
       "      <td>None</td>\n",
       "      <td>2021-11-03</td>\n",
       "      <td>2021-11-11</td>\n",
       "      <td>2021-11-03</td>\n",
       "      <td>2021-11-11</td>\n",
       "      <td>8 days</td>\n",
       "    </tr>\n",
       "    <tr>\n",
       "      <th>1</th>\n",
       "      <td>SetMaxLOS</td>\n",
       "      <td>-9999</td>\n",
       "      <td>None</td>\n",
       "      <td>None</td>\n",
       "      <td>None</td>\n",
       "      <td>Departure</td>\n",
       "      <td>Open</td>\n",
       "      <td>56128</td>\n",
       "      <td>None</td>\n",
       "      <td>None</td>\n",
       "      <td>...</td>\n",
       "      <td>None</td>\n",
       "      <td>None</td>\n",
       "      <td>None</td>\n",
       "      <td>None</td>\n",
       "      <td>None</td>\n",
       "      <td>2021-11-03</td>\n",
       "      <td>2021-11-11</td>\n",
       "      <td>2021-11-03</td>\n",
       "      <td>2021-11-11</td>\n",
       "      <td>8 days</td>\n",
       "    </tr>\n",
       "    <tr>\n",
       "      <th>2</th>\n",
       "      <td>SetMinLOS</td>\n",
       "      <td>1</td>\n",
       "      <td>None</td>\n",
       "      <td>None</td>\n",
       "      <td>None</td>\n",
       "      <td>Departure</td>\n",
       "      <td>Open</td>\n",
       "      <td>56128</td>\n",
       "      <td>None</td>\n",
       "      <td>None</td>\n",
       "      <td>...</td>\n",
       "      <td>None</td>\n",
       "      <td>None</td>\n",
       "      <td>None</td>\n",
       "      <td>None</td>\n",
       "      <td>None</td>\n",
       "      <td>2021-11-03</td>\n",
       "      <td>2021-11-11</td>\n",
       "      <td>2021-11-03</td>\n",
       "      <td>2021-11-11</td>\n",
       "      <td>8 days</td>\n",
       "    </tr>\n",
       "    <tr>\n",
       "      <th>3</th>\n",
       "      <td>SetMaxLOS</td>\n",
       "      <td>-9999</td>\n",
       "      <td>None</td>\n",
       "      <td>None</td>\n",
       "      <td>None</td>\n",
       "      <td>Departure</td>\n",
       "      <td>Open</td>\n",
       "      <td>56128</td>\n",
       "      <td>None</td>\n",
       "      <td>None</td>\n",
       "      <td>...</td>\n",
       "      <td>None</td>\n",
       "      <td>None</td>\n",
       "      <td>None</td>\n",
       "      <td>None</td>\n",
       "      <td>None</td>\n",
       "      <td>2021-11-03</td>\n",
       "      <td>2021-11-11</td>\n",
       "      <td>2021-11-03</td>\n",
       "      <td>2021-11-11</td>\n",
       "      <td>8 days</td>\n",
       "    </tr>\n",
       "    <tr>\n",
       "      <th>4</th>\n",
       "      <td>SetMinLOS</td>\n",
       "      <td>1</td>\n",
       "      <td>None</td>\n",
       "      <td>None</td>\n",
       "      <td>None</td>\n",
       "      <td>Departure</td>\n",
       "      <td>Open</td>\n",
       "      <td>56128</td>\n",
       "      <td>None</td>\n",
       "      <td>None</td>\n",
       "      <td>...</td>\n",
       "      <td>None</td>\n",
       "      <td>None</td>\n",
       "      <td>None</td>\n",
       "      <td>None</td>\n",
       "      <td>None</td>\n",
       "      <td>2021-11-03</td>\n",
       "      <td>2021-11-11</td>\n",
       "      <td>2021-11-03</td>\n",
       "      <td>2021-11-11</td>\n",
       "      <td>8 days</td>\n",
       "    </tr>\n",
       "    <tr>\n",
       "      <th>5</th>\n",
       "      <td>SetMaxLOS</td>\n",
       "      <td>-9999</td>\n",
       "      <td>None</td>\n",
       "      <td>None</td>\n",
       "      <td>None</td>\n",
       "      <td>Departure</td>\n",
       "      <td>Open</td>\n",
       "      <td>56128</td>\n",
       "      <td>None</td>\n",
       "      <td>None</td>\n",
       "      <td>...</td>\n",
       "      <td>None</td>\n",
       "      <td>None</td>\n",
       "      <td>None</td>\n",
       "      <td>None</td>\n",
       "      <td>None</td>\n",
       "      <td>2021-11-03</td>\n",
       "      <td>2021-11-11</td>\n",
       "      <td>2021-11-03</td>\n",
       "      <td>2021-11-11</td>\n",
       "      <td>8 days</td>\n",
       "    </tr>\n",
       "    <tr>\n",
       "      <th>6</th>\n",
       "      <td>SetMinLOS</td>\n",
       "      <td>2</td>\n",
       "      <td>None</td>\n",
       "      <td>None</td>\n",
       "      <td>None</td>\n",
       "      <td>Departure</td>\n",
       "      <td>Open</td>\n",
       "      <td>56128</td>\n",
       "      <td>None</td>\n",
       "      <td>None</td>\n",
       "      <td>...</td>\n",
       "      <td>None</td>\n",
       "      <td>None</td>\n",
       "      <td>None</td>\n",
       "      <td>None</td>\n",
       "      <td>None</td>\n",
       "      <td>2021-11-12</td>\n",
       "      <td>2021-11-13</td>\n",
       "      <td>2021-11-12</td>\n",
       "      <td>2021-11-13</td>\n",
       "      <td>1 days</td>\n",
       "    </tr>\n",
       "    <tr>\n",
       "      <th>7</th>\n",
       "      <td>SetMaxLOS</td>\n",
       "      <td>-9999</td>\n",
       "      <td>None</td>\n",
       "      <td>None</td>\n",
       "      <td>None</td>\n",
       "      <td>Departure</td>\n",
       "      <td>Open</td>\n",
       "      <td>56128</td>\n",
       "      <td>None</td>\n",
       "      <td>None</td>\n",
       "      <td>...</td>\n",
       "      <td>None</td>\n",
       "      <td>None</td>\n",
       "      <td>None</td>\n",
       "      <td>None</td>\n",
       "      <td>None</td>\n",
       "      <td>2021-11-12</td>\n",
       "      <td>2021-11-13</td>\n",
       "      <td>2021-11-12</td>\n",
       "      <td>2021-11-13</td>\n",
       "      <td>1 days</td>\n",
       "    </tr>\n",
       "    <tr>\n",
       "      <th>8</th>\n",
       "      <td>SetMinLOS</td>\n",
       "      <td>2</td>\n",
       "      <td>None</td>\n",
       "      <td>None</td>\n",
       "      <td>None</td>\n",
       "      <td>Departure</td>\n",
       "      <td>Open</td>\n",
       "      <td>56128</td>\n",
       "      <td>None</td>\n",
       "      <td>None</td>\n",
       "      <td>...</td>\n",
       "      <td>None</td>\n",
       "      <td>None</td>\n",
       "      <td>None</td>\n",
       "      <td>None</td>\n",
       "      <td>None</td>\n",
       "      <td>2021-11-12</td>\n",
       "      <td>2021-11-13</td>\n",
       "      <td>2021-11-12</td>\n",
       "      <td>2021-11-13</td>\n",
       "      <td>1 days</td>\n",
       "    </tr>\n",
       "    <tr>\n",
       "      <th>9</th>\n",
       "      <td>SetMaxLOS</td>\n",
       "      <td>-9999</td>\n",
       "      <td>None</td>\n",
       "      <td>None</td>\n",
       "      <td>None</td>\n",
       "      <td>Departure</td>\n",
       "      <td>Open</td>\n",
       "      <td>56128</td>\n",
       "      <td>None</td>\n",
       "      <td>None</td>\n",
       "      <td>...</td>\n",
       "      <td>None</td>\n",
       "      <td>None</td>\n",
       "      <td>None</td>\n",
       "      <td>None</td>\n",
       "      <td>None</td>\n",
       "      <td>2021-11-12</td>\n",
       "      <td>2021-11-13</td>\n",
       "      <td>2021-11-12</td>\n",
       "      <td>2021-11-13</td>\n",
       "      <td>1 days</td>\n",
       "    </tr>\n",
       "  </tbody>\n",
       "</table>\n",
       "<p>10 rows × 38 columns</p>\n",
       "</div>"
      ],
      "text/plain": [
       "  MinMaxMessageType   Time TimeUnit MinLOS MaxLOS Restriction Status  \\\n",
       "0         SetMinLOS      1     None   None   None   Departure   Open   \n",
       "1         SetMaxLOS  -9999     None   None   None   Departure   Open   \n",
       "2         SetMinLOS      1     None   None   None   Departure   Open   \n",
       "3         SetMaxLOS  -9999     None   None   None   Departure   Open   \n",
       "4         SetMinLOS      1     None   None   None   Departure   Open   \n",
       "5         SetMaxLOS  -9999     None   None   None   Departure   Open   \n",
       "6         SetMinLOS      2     None   None   None   Departure   Open   \n",
       "7         SetMaxLOS  -9999     None   None   None   Departure   Open   \n",
       "8         SetMinLOS      2     None   None   None   Departure   Open   \n",
       "9         SetMaxLOS  -9999     None   None   None   Departure   Open   \n",
       "\n",
       "  InvTypeCode DOWRestrictions DOW_Restrictions  ...   Wed  Thur   Fri   Sat  \\\n",
       "0       56128            None             None  ...  None  None  None  None   \n",
       "1       56128            None             None  ...  None  None  None  None   \n",
       "2       56128            None             None  ...  None  None  None  None   \n",
       "3       56128            None             None  ...  None  None  None  None   \n",
       "4       56128            None             None  ...  None  None  None  None   \n",
       "5       56128            None             None  ...  None  None  None  None   \n",
       "6       56128            None             None  ...  None  None  None  None   \n",
       "7       56128            None             None  ...  None  None  None  None   \n",
       "8       56128            None             None  ...  None  None  None  None   \n",
       "9       56128            None             None  ...  None  None  None  None   \n",
       "\n",
       "    Sun       Start         End     start2       end2 timeDiff  \n",
       "0  None  2021-11-03  2021-11-11 2021-11-03 2021-11-11   8 days  \n",
       "1  None  2021-11-03  2021-11-11 2021-11-03 2021-11-11   8 days  \n",
       "2  None  2021-11-03  2021-11-11 2021-11-03 2021-11-11   8 days  \n",
       "3  None  2021-11-03  2021-11-11 2021-11-03 2021-11-11   8 days  \n",
       "4  None  2021-11-03  2021-11-11 2021-11-03 2021-11-11   8 days  \n",
       "5  None  2021-11-03  2021-11-11 2021-11-03 2021-11-11   8 days  \n",
       "6  None  2021-11-12  2021-11-13 2021-11-12 2021-11-13   1 days  \n",
       "7  None  2021-11-12  2021-11-13 2021-11-12 2021-11-13   1 days  \n",
       "8  None  2021-11-12  2021-11-13 2021-11-12 2021-11-13   1 days  \n",
       "9  None  2021-11-12  2021-11-13 2021-11-12 2021-11-13   1 days  \n",
       "\n",
       "[10 rows x 38 columns]"
      ]
     },
     "execution_count": 90,
     "metadata": {},
     "output_type": "execute_result"
    }
   ],
   "source": [
    "HotelBookingRuleNotifRQ.head(10)"
   ]
  },
  {
   "cell_type": "markdown",
   "id": "095de819",
   "metadata": {},
   "source": [
    "### Basic statistic for data<hr>"
   ]
  },
  {
   "cell_type": "code",
   "execution_count": 91,
   "id": "3feedb01",
   "metadata": {},
   "outputs": [
    {
     "data": {
      "text/html": [
       "<div>\n",
       "<style scoped>\n",
       "    .dataframe tbody tr th:only-of-type {\n",
       "        vertical-align: middle;\n",
       "    }\n",
       "\n",
       "    .dataframe tbody tr th {\n",
       "        vertical-align: top;\n",
       "    }\n",
       "\n",
       "    .dataframe thead th {\n",
       "        text-align: right;\n",
       "    }\n",
       "</style>\n",
       "<table border=\"1\" class=\"dataframe\">\n",
       "  <thead>\n",
       "    <tr style=\"text-align: right;\">\n",
       "      <th></th>\n",
       "      <th>count</th>\n",
       "      <th>mean</th>\n",
       "      <th>std</th>\n",
       "      <th>min</th>\n",
       "      <th>25%</th>\n",
       "      <th>50%</th>\n",
       "      <th>75%</th>\n",
       "      <th>max</th>\n",
       "    </tr>\n",
       "  </thead>\n",
       "  <tbody>\n",
       "    <tr>\n",
       "      <th>timeDiff</th>\n",
       "      <td>239</td>\n",
       "      <td>2 days 17:04:16.066945606</td>\n",
       "      <td>2 days 03:00:30.811669910</td>\n",
       "      <td>0 days</td>\n",
       "      <td>1 days</td>\n",
       "      <td>2 days</td>\n",
       "      <td>4 days</td>\n",
       "      <td>9 days</td>\n",
       "    </tr>\n",
       "  </tbody>\n",
       "</table>\n",
       "</div>"
      ],
      "text/plain": [
       "         count                      mean                       std    min  \\\n",
       "timeDiff   239 2 days 17:04:16.066945606 2 days 03:00:30.811669910 0 days   \n",
       "\n",
       "            25%    50%    75%    max  \n",
       "timeDiff 1 days 2 days 4 days 9 days  "
      ]
     },
     "execution_count": 91,
     "metadata": {},
     "output_type": "execute_result"
    }
   ],
   "source": [
    "HotelBookingRuleNotifRQ.describe().transpose()"
   ]
  },
  {
   "cell_type": "markdown",
   "id": "9e02224b",
   "metadata": {},
   "source": [
    "#### Removing columns with 0 values/null values, that gives nothing to analysis"
   ]
  },
  {
   "cell_type": "code",
   "execution_count": 92,
   "id": "c7a24ede",
   "metadata": {},
   "outputs": [],
   "source": [
    "HotelBookingRuleNotifRQ = HotelBookingRuleNotifRQ.drop(columns=[\"TimeUnit\",\"Sun\",\"Sat\",\"Fri\",\"Thur\",\"Wed\",\"Tue\",\"Mon\",\"HotelName\",\"ChainCode\",\"InventoryInfo\",\"MaxAdvancedBookingOffset\",\"MinAdvancedBookingOffset\",\n",
    "                      \"DOW_Restrictions\",\"DOWRestrictions\",\"MaxLOS\", \"MinLOS\", \"start2\",\"end2\"])"
   ]
  },
  {
   "cell_type": "code",
   "execution_count": 93,
   "id": "19ba577e",
   "metadata": {},
   "outputs": [
    {
     "data": {
      "text/html": [
       "<div>\n",
       "<style scoped>\n",
       "    .dataframe tbody tr th:only-of-type {\n",
       "        vertical-align: middle;\n",
       "    }\n",
       "\n",
       "    .dataframe tbody tr th {\n",
       "        vertical-align: top;\n",
       "    }\n",
       "\n",
       "    .dataframe thead th {\n",
       "        text-align: right;\n",
       "    }\n",
       "</style>\n",
       "<table border=\"1\" class=\"dataframe\">\n",
       "  <thead>\n",
       "    <tr style=\"text-align: right;\">\n",
       "      <th></th>\n",
       "      <th>count</th>\n",
       "      <th>unique</th>\n",
       "      <th>top</th>\n",
       "      <th>freq</th>\n",
       "      <th>mean</th>\n",
       "      <th>std</th>\n",
       "      <th>min</th>\n",
       "      <th>25%</th>\n",
       "      <th>50%</th>\n",
       "      <th>75%</th>\n",
       "      <th>max</th>\n",
       "    </tr>\n",
       "  </thead>\n",
       "  <tbody>\n",
       "    <tr>\n",
       "      <th>MinMaxMessageType</th>\n",
       "      <td>239</td>\n",
       "      <td>2</td>\n",
       "      <td>SetMinLOS</td>\n",
       "      <td>120</td>\n",
       "      <td>NaT</td>\n",
       "      <td>NaT</td>\n",
       "      <td>NaT</td>\n",
       "      <td>NaT</td>\n",
       "      <td>NaT</td>\n",
       "      <td>NaT</td>\n",
       "      <td>NaT</td>\n",
       "    </tr>\n",
       "    <tr>\n",
       "      <th>Time</th>\n",
       "      <td>239</td>\n",
       "      <td>3</td>\n",
       "      <td>-9999</td>\n",
       "      <td>119</td>\n",
       "      <td>NaT</td>\n",
       "      <td>NaT</td>\n",
       "      <td>NaT</td>\n",
       "      <td>NaT</td>\n",
       "      <td>NaT</td>\n",
       "      <td>NaT</td>\n",
       "      <td>NaT</td>\n",
       "    </tr>\n",
       "    <tr>\n",
       "      <th>Restriction</th>\n",
       "      <td>238</td>\n",
       "      <td>2</td>\n",
       "      <td>Departure</td>\n",
       "      <td>234</td>\n",
       "      <td>NaT</td>\n",
       "      <td>NaT</td>\n",
       "      <td>NaT</td>\n",
       "      <td>NaT</td>\n",
       "      <td>NaT</td>\n",
       "      <td>NaT</td>\n",
       "      <td>NaT</td>\n",
       "    </tr>\n",
       "    <tr>\n",
       "      <th>Status</th>\n",
       "      <td>239</td>\n",
       "      <td>2</td>\n",
       "      <td>Open</td>\n",
       "      <td>210</td>\n",
       "      <td>NaT</td>\n",
       "      <td>NaT</td>\n",
       "      <td>NaT</td>\n",
       "      <td>NaT</td>\n",
       "      <td>NaT</td>\n",
       "      <td>NaT</td>\n",
       "      <td>NaT</td>\n",
       "    </tr>\n",
       "    <tr>\n",
       "      <th>InvTypeCode</th>\n",
       "      <td>239</td>\n",
       "      <td>1</td>\n",
       "      <td>56128</td>\n",
       "      <td>239</td>\n",
       "      <td>NaT</td>\n",
       "      <td>NaT</td>\n",
       "      <td>NaT</td>\n",
       "      <td>NaT</td>\n",
       "      <td>NaT</td>\n",
       "      <td>NaT</td>\n",
       "      <td>NaT</td>\n",
       "    </tr>\n",
       "    <tr>\n",
       "      <th>OriginalData</th>\n",
       "      <td>239</td>\n",
       "      <td>1</td>\n",
       "      <td></td>\n",
       "      <td>239</td>\n",
       "      <td>NaT</td>\n",
       "      <td>NaT</td>\n",
       "      <td>NaT</td>\n",
       "      <td>NaT</td>\n",
       "      <td>NaT</td>\n",
       "      <td>NaT</td>\n",
       "      <td>NaT</td>\n",
       "    </tr>\n",
       "    <tr>\n",
       "      <th>RatePlanCode</th>\n",
       "      <td>239</td>\n",
       "      <td>1</td>\n",
       "      <td>BAR</td>\n",
       "      <td>239</td>\n",
       "      <td>NaT</td>\n",
       "      <td>NaT</td>\n",
       "      <td>NaT</td>\n",
       "      <td>NaT</td>\n",
       "      <td>NaT</td>\n",
       "      <td>NaT</td>\n",
       "      <td>NaT</td>\n",
       "    </tr>\n",
       "    <tr>\n",
       "      <th>X-Correlation-ID</th>\n",
       "      <td>239</td>\n",
       "      <td>41</td>\n",
       "      <td>ebf26fe7-6823-4bdd-8fc2-0de7e9895686</td>\n",
       "      <td>6</td>\n",
       "      <td>NaT</td>\n",
       "      <td>NaT</td>\n",
       "      <td>NaT</td>\n",
       "      <td>NaT</td>\n",
       "      <td>NaT</td>\n",
       "      <td>NaT</td>\n",
       "      <td>NaT</td>\n",
       "    </tr>\n",
       "    <tr>\n",
       "      <th>Type</th>\n",
       "      <td>239</td>\n",
       "      <td>1</td>\n",
       "      <td>OTA_HotelBookingRuleNotifRQ</td>\n",
       "      <td>239</td>\n",
       "      <td>NaT</td>\n",
       "      <td>NaT</td>\n",
       "      <td>NaT</td>\n",
       "      <td>NaT</td>\n",
       "      <td>NaT</td>\n",
       "      <td>NaT</td>\n",
       "      <td>NaT</td>\n",
       "    </tr>\n",
       "    <tr>\n",
       "      <th>AppId</th>\n",
       "      <td>239</td>\n",
       "      <td>1</td>\n",
       "      <td>smarthotel</td>\n",
       "      <td>239</td>\n",
       "      <td>NaT</td>\n",
       "      <td>NaT</td>\n",
       "      <td>NaT</td>\n",
       "      <td>NaT</td>\n",
       "      <td>NaT</td>\n",
       "      <td>NaT</td>\n",
       "      <td>NaT</td>\n",
       "    </tr>\n",
       "    <tr>\n",
       "      <th>PrimaryLangID</th>\n",
       "      <td>239</td>\n",
       "      <td>1</td>\n",
       "      <td></td>\n",
       "      <td>239</td>\n",
       "      <td>NaT</td>\n",
       "      <td>NaT</td>\n",
       "      <td>NaT</td>\n",
       "      <td>NaT</td>\n",
       "      <td>NaT</td>\n",
       "      <td>NaT</td>\n",
       "      <td>NaT</td>\n",
       "    </tr>\n",
       "    <tr>\n",
       "      <th>EchoToken</th>\n",
       "      <td>239</td>\n",
       "      <td>1</td>\n",
       "      <td></td>\n",
       "      <td>239</td>\n",
       "      <td>NaT</td>\n",
       "      <td>NaT</td>\n",
       "      <td>NaT</td>\n",
       "      <td>NaT</td>\n",
       "      <td>NaT</td>\n",
       "      <td>NaT</td>\n",
       "      <td>NaT</td>\n",
       "    </tr>\n",
       "    <tr>\n",
       "      <th>TimeStamp</th>\n",
       "      <td>239</td>\n",
       "      <td>1</td>\n",
       "      <td></td>\n",
       "      <td>239</td>\n",
       "      <td>NaT</td>\n",
       "      <td>NaT</td>\n",
       "      <td>NaT</td>\n",
       "      <td>NaT</td>\n",
       "      <td>NaT</td>\n",
       "      <td>NaT</td>\n",
       "      <td>NaT</td>\n",
       "    </tr>\n",
       "    <tr>\n",
       "      <th>Version</th>\n",
       "      <td>239</td>\n",
       "      <td>1</td>\n",
       "      <td></td>\n",
       "      <td>239</td>\n",
       "      <td>NaT</td>\n",
       "      <td>NaT</td>\n",
       "      <td>NaT</td>\n",
       "      <td>NaT</td>\n",
       "      <td>NaT</td>\n",
       "      <td>NaT</td>\n",
       "      <td>NaT</td>\n",
       "    </tr>\n",
       "    <tr>\n",
       "      <th>Target</th>\n",
       "      <td>239</td>\n",
       "      <td>1</td>\n",
       "      <td></td>\n",
       "      <td>239</td>\n",
       "      <td>NaT</td>\n",
       "      <td>NaT</td>\n",
       "      <td>NaT</td>\n",
       "      <td>NaT</td>\n",
       "      <td>NaT</td>\n",
       "      <td>NaT</td>\n",
       "      <td>NaT</td>\n",
       "    </tr>\n",
       "    <tr>\n",
       "      <th>HotelCode</th>\n",
       "      <td>239</td>\n",
       "      <td>1</td>\n",
       "      <td>30020</td>\n",
       "      <td>239</td>\n",
       "      <td>NaT</td>\n",
       "      <td>NaT</td>\n",
       "      <td>NaT</td>\n",
       "      <td>NaT</td>\n",
       "      <td>NaT</td>\n",
       "      <td>NaT</td>\n",
       "      <td>NaT</td>\n",
       "    </tr>\n",
       "    <tr>\n",
       "      <th>Start</th>\n",
       "      <td>239</td>\n",
       "      <td>41</td>\n",
       "      <td>2021-11-03</td>\n",
       "      <td>6</td>\n",
       "      <td>NaT</td>\n",
       "      <td>NaT</td>\n",
       "      <td>NaT</td>\n",
       "      <td>NaT</td>\n",
       "      <td>NaT</td>\n",
       "      <td>NaT</td>\n",
       "      <td>NaT</td>\n",
       "    </tr>\n",
       "    <tr>\n",
       "      <th>End</th>\n",
       "      <td>239</td>\n",
       "      <td>41</td>\n",
       "      <td>2021-11-11</td>\n",
       "      <td>6</td>\n",
       "      <td>NaT</td>\n",
       "      <td>NaT</td>\n",
       "      <td>NaT</td>\n",
       "      <td>NaT</td>\n",
       "      <td>NaT</td>\n",
       "      <td>NaT</td>\n",
       "      <td>NaT</td>\n",
       "    </tr>\n",
       "    <tr>\n",
       "      <th>timeDiff</th>\n",
       "      <td>239</td>\n",
       "      <td>NaN</td>\n",
       "      <td>NaN</td>\n",
       "      <td>NaN</td>\n",
       "      <td>2 days 17:04:16.066945606</td>\n",
       "      <td>2 days 03:00:30.811669910</td>\n",
       "      <td>0 days</td>\n",
       "      <td>1 days</td>\n",
       "      <td>2 days</td>\n",
       "      <td>4 days</td>\n",
       "      <td>9 days</td>\n",
       "    </tr>\n",
       "  </tbody>\n",
       "</table>\n",
       "</div>"
      ],
      "text/plain": [
       "                  count unique                                   top freq  \\\n",
       "MinMaxMessageType   239      2                             SetMinLOS  120   \n",
       "Time                239      3                                 -9999  119   \n",
       "Restriction         238      2                             Departure  234   \n",
       "Status              239      2                                  Open  210   \n",
       "InvTypeCode         239      1                                 56128  239   \n",
       "OriginalData        239      1                                        239   \n",
       "RatePlanCode        239      1                                   BAR  239   \n",
       "X-Correlation-ID    239     41  ebf26fe7-6823-4bdd-8fc2-0de7e9895686    6   \n",
       "Type                239      1           OTA_HotelBookingRuleNotifRQ  239   \n",
       "AppId               239      1                            smarthotel  239   \n",
       "PrimaryLangID       239      1                                        239   \n",
       "EchoToken           239      1                                        239   \n",
       "TimeStamp           239      1                                        239   \n",
       "Version             239      1                                        239   \n",
       "Target              239      1                                        239   \n",
       "HotelCode           239      1                                 30020  239   \n",
       "Start               239     41                            2021-11-03    6   \n",
       "End                 239     41                            2021-11-11    6   \n",
       "timeDiff            239    NaN                                   NaN  NaN   \n",
       "\n",
       "                                       mean                       std    min  \\\n",
       "MinMaxMessageType                       NaT                       NaT    NaT   \n",
       "Time                                    NaT                       NaT    NaT   \n",
       "Restriction                             NaT                       NaT    NaT   \n",
       "Status                                  NaT                       NaT    NaT   \n",
       "InvTypeCode                             NaT                       NaT    NaT   \n",
       "OriginalData                            NaT                       NaT    NaT   \n",
       "RatePlanCode                            NaT                       NaT    NaT   \n",
       "X-Correlation-ID                        NaT                       NaT    NaT   \n",
       "Type                                    NaT                       NaT    NaT   \n",
       "AppId                                   NaT                       NaT    NaT   \n",
       "PrimaryLangID                           NaT                       NaT    NaT   \n",
       "EchoToken                               NaT                       NaT    NaT   \n",
       "TimeStamp                               NaT                       NaT    NaT   \n",
       "Version                                 NaT                       NaT    NaT   \n",
       "Target                                  NaT                       NaT    NaT   \n",
       "HotelCode                               NaT                       NaT    NaT   \n",
       "Start                                   NaT                       NaT    NaT   \n",
       "End                                     NaT                       NaT    NaT   \n",
       "timeDiff          2 days 17:04:16.066945606 2 days 03:00:30.811669910 0 days   \n",
       "\n",
       "                     25%    50%    75%    max  \n",
       "MinMaxMessageType    NaT    NaT    NaT    NaT  \n",
       "Time                 NaT    NaT    NaT    NaT  \n",
       "Restriction          NaT    NaT    NaT    NaT  \n",
       "Status               NaT    NaT    NaT    NaT  \n",
       "InvTypeCode          NaT    NaT    NaT    NaT  \n",
       "OriginalData         NaT    NaT    NaT    NaT  \n",
       "RatePlanCode         NaT    NaT    NaT    NaT  \n",
       "X-Correlation-ID     NaT    NaT    NaT    NaT  \n",
       "Type                 NaT    NaT    NaT    NaT  \n",
       "AppId                NaT    NaT    NaT    NaT  \n",
       "PrimaryLangID        NaT    NaT    NaT    NaT  \n",
       "EchoToken            NaT    NaT    NaT    NaT  \n",
       "TimeStamp            NaT    NaT    NaT    NaT  \n",
       "Version              NaT    NaT    NaT    NaT  \n",
       "Target               NaT    NaT    NaT    NaT  \n",
       "HotelCode            NaT    NaT    NaT    NaT  \n",
       "Start                NaT    NaT    NaT    NaT  \n",
       "End                  NaT    NaT    NaT    NaT  \n",
       "timeDiff          1 days 2 days 4 days 9 days  "
      ]
     },
     "execution_count": 93,
     "metadata": {},
     "output_type": "execute_result"
    }
   ],
   "source": [
    "HotelBookingRuleNotifRQ.describe(include=\"all\").transpose()"
   ]
  },
  {
   "cell_type": "markdown",
   "id": "ed53c3d9",
   "metadata": {},
   "source": [
    "#### Checking null values for hotelCode"
   ]
  },
  {
   "cell_type": "code",
   "execution_count": 94,
   "id": "e0b0f80c",
   "metadata": {},
   "outputs": [
    {
     "data": {
      "text/plain": [
       "0"
      ]
     },
     "execution_count": 94,
     "metadata": {},
     "output_type": "execute_result"
    }
   ],
   "source": [
    "HotelBookingRuleNotifRQ.MinMaxMessageType.isna().sum()"
   ]
  },
  {
   "cell_type": "code",
   "execution_count": 95,
   "id": "fbee91a9",
   "metadata": {},
   "outputs": [
    {
     "data": {
      "application/vnd.plotly.v1+json": {
       "config": {
        "plotlyServerURL": "https://plot.ly"
       },
       "data": [
        {
         "marker": {
          "color": "#741b47"
         },
         "name": "GRT130002",
         "type": "histogram",
         "x": [
          "SetMinLOS",
          "SetMaxLOS",
          "SetMinLOS",
          "SetMaxLOS",
          "SetMinLOS",
          "SetMaxLOS",
          "SetMinLOS",
          "SetMaxLOS",
          "SetMinLOS",
          "SetMaxLOS",
          "SetMinLOS",
          "SetMaxLOS",
          "SetMinLOS",
          "SetMaxLOS",
          "SetMinLOS",
          "SetMaxLOS",
          "SetMinLOS",
          "SetMaxLOS",
          "SetMinLOS",
          "SetMaxLOS",
          "SetMinLOS",
          "SetMaxLOS",
          "SetMinLOS",
          "SetMaxLOS",
          "SetMinLOS",
          "SetMaxLOS",
          "SetMinLOS",
          "SetMaxLOS",
          "SetMinLOS",
          "SetMaxLOS",
          "SetMinLOS",
          "SetMaxLOS",
          "SetMinLOS",
          "SetMaxLOS",
          "SetMinLOS",
          "SetMaxLOS",
          "SetMinLOS",
          "SetMaxLOS",
          "SetMinLOS",
          "SetMaxLOS",
          "SetMinLOS",
          "SetMaxLOS",
          "SetMinLOS",
          "SetMaxLOS",
          "SetMinLOS",
          "SetMaxLOS",
          "SetMinLOS",
          "SetMaxLOS",
          "SetMinLOS",
          "SetMaxLOS",
          "SetMinLOS",
          "SetMaxLOS",
          "SetMinLOS",
          "SetMaxLOS",
          "SetMinLOS",
          "SetMaxLOS",
          "SetMinLOS",
          "SetMaxLOS",
          "SetMinLOS",
          "SetMaxLOS",
          "SetMinLOS",
          "SetMaxLOS",
          "SetMinLOS",
          "SetMaxLOS",
          "SetMinLOS",
          "SetMaxLOS",
          "SetMinLOS",
          "SetMaxLOS",
          "SetMinLOS",
          "SetMaxLOS",
          "SetMinLOS",
          "SetMaxLOS",
          "SetMinLOS",
          "SetMaxLOS",
          "SetMinLOS",
          "SetMaxLOS",
          "SetMinLOS",
          "SetMaxLOS",
          "SetMinLOS",
          "SetMaxLOS",
          "SetMinLOS",
          "SetMaxLOS",
          "SetMinLOS",
          "SetMaxLOS",
          "SetMinLOS",
          "SetMaxLOS",
          "SetMinLOS",
          "SetMaxLOS",
          "SetMinLOS",
          "SetMaxLOS",
          "SetMinLOS",
          "SetMaxLOS",
          "SetMinLOS",
          "SetMaxLOS",
          "SetMinLOS",
          "SetMaxLOS",
          "SetMinLOS",
          "SetMaxLOS",
          "SetMinLOS",
          "SetMaxLOS",
          "SetMinLOS",
          "SetMaxLOS",
          "SetMinLOS",
          "SetMaxLOS",
          "SetMinLOS",
          "SetMaxLOS",
          "SetMinLOS",
          "SetMaxLOS",
          "SetMinLOS",
          "SetMaxLOS",
          "SetMinLOS",
          "SetMaxLOS",
          "SetMinLOS",
          "SetMaxLOS",
          "SetMinLOS",
          "SetMaxLOS",
          "SetMinLOS",
          "SetMaxLOS",
          "SetMinLOS",
          "SetMaxLOS",
          "SetMinLOS",
          "SetMaxLOS",
          "SetMinLOS",
          "SetMaxLOS",
          "SetMinLOS",
          "SetMaxLOS",
          "SetMinLOS",
          "SetMaxLOS",
          "SetMinLOS",
          "SetMaxLOS",
          "SetMinLOS",
          "SetMaxLOS",
          "SetMinLOS",
          "SetMaxLOS",
          "SetMinLOS",
          "SetMaxLOS",
          "SetMinLOS",
          "SetMaxLOS",
          "SetMinLOS",
          "SetMaxLOS",
          "SetMinLOS",
          "SetMaxLOS",
          "SetMinLOS",
          "SetMaxLOS",
          "SetMinLOS",
          "SetMaxLOS",
          "SetMinLOS",
          "SetMaxLOS",
          "SetMinLOS",
          "SetMaxLOS",
          "SetMinLOS",
          "SetMaxLOS",
          "SetMinLOS",
          "SetMaxLOS",
          "SetMinLOS",
          "SetMaxLOS",
          "SetMinLOS",
          "SetMaxLOS",
          "SetMinLOS",
          "SetMaxLOS",
          "SetMinLOS",
          "SetMaxLOS",
          "SetMinLOS",
          "SetMaxLOS",
          "SetMinLOS",
          "SetMaxLOS",
          "SetMinLOS",
          "SetMaxLOS",
          "SetMinLOS",
          "SetMaxLOS",
          "SetMinLOS",
          "SetMaxLOS",
          "SetMinLOS",
          "SetMaxLOS",
          "SetMinLOS",
          "SetMaxLOS",
          "SetMinLOS",
          "SetMaxLOS",
          "SetMinLOS",
          "SetMaxLOS",
          "SetMinLOS",
          "SetMaxLOS",
          "SetMinLOS",
          "SetMaxLOS",
          "SetMinLOS",
          "SetMaxLOS",
          "SetMinLOS",
          "SetMaxLOS",
          "SetMinLOS",
          "SetMaxLOS",
          "SetMinLOS",
          "SetMaxLOS",
          "SetMinLOS",
          "SetMaxLOS",
          "SetMinLOS",
          "SetMaxLOS",
          "SetMinLOS",
          "SetMaxLOS",
          "SetMinLOS",
          "SetMaxLOS",
          "SetMinLOS",
          "SetMaxLOS",
          "SetMinLOS",
          "SetMaxLOS",
          "SetMinLOS",
          "SetMaxLOS",
          "SetMinLOS",
          "SetMaxLOS",
          "SetMinLOS",
          "SetMaxLOS",
          "SetMinLOS",
          "SetMinLOS",
          "SetMaxLOS",
          "SetMinLOS",
          "SetMaxLOS",
          "SetMinLOS",
          "SetMaxLOS",
          "SetMinLOS",
          "SetMaxLOS",
          "SetMinLOS",
          "SetMaxLOS",
          "SetMinLOS",
          "SetMaxLOS",
          "SetMinLOS",
          "SetMaxLOS",
          "SetMinLOS",
          "SetMaxLOS",
          "SetMinLOS",
          "SetMaxLOS",
          "SetMinLOS",
          "SetMaxLOS",
          "SetMinLOS",
          "SetMaxLOS",
          "SetMinLOS",
          "SetMaxLOS",
          "SetMinLOS",
          "SetMaxLOS",
          "SetMinLOS",
          "SetMaxLOS"
         ]
        }
       ],
       "layout": {
        "bargap": 0.2,
        "bargroupgap": 0.1,
        "font": {
         "color": "Black",
         "family": "Courier New, monospace",
         "size": 16
        },
        "height": 600,
        "template": {
         "data": {
          "bar": [
           {
            "error_x": {
             "color": "#2a3f5f"
            },
            "error_y": {
             "color": "#2a3f5f"
            },
            "marker": {
             "line": {
              "color": "#E5ECF6",
              "width": 0.5
             },
             "pattern": {
              "fillmode": "overlay",
              "size": 10,
              "solidity": 0.2
             }
            },
            "type": "bar"
           }
          ],
          "barpolar": [
           {
            "marker": {
             "line": {
              "color": "#E5ECF6",
              "width": 0.5
             },
             "pattern": {
              "fillmode": "overlay",
              "size": 10,
              "solidity": 0.2
             }
            },
            "type": "barpolar"
           }
          ],
          "carpet": [
           {
            "aaxis": {
             "endlinecolor": "#2a3f5f",
             "gridcolor": "white",
             "linecolor": "white",
             "minorgridcolor": "white",
             "startlinecolor": "#2a3f5f"
            },
            "baxis": {
             "endlinecolor": "#2a3f5f",
             "gridcolor": "white",
             "linecolor": "white",
             "minorgridcolor": "white",
             "startlinecolor": "#2a3f5f"
            },
            "type": "carpet"
           }
          ],
          "choropleth": [
           {
            "colorbar": {
             "outlinewidth": 0,
             "ticks": ""
            },
            "type": "choropleth"
           }
          ],
          "contour": [
           {
            "colorbar": {
             "outlinewidth": 0,
             "ticks": ""
            },
            "colorscale": [
             [
              0,
              "#0d0887"
             ],
             [
              0.1111111111111111,
              "#46039f"
             ],
             [
              0.2222222222222222,
              "#7201a8"
             ],
             [
              0.3333333333333333,
              "#9c179e"
             ],
             [
              0.4444444444444444,
              "#bd3786"
             ],
             [
              0.5555555555555556,
              "#d8576b"
             ],
             [
              0.6666666666666666,
              "#ed7953"
             ],
             [
              0.7777777777777778,
              "#fb9f3a"
             ],
             [
              0.8888888888888888,
              "#fdca26"
             ],
             [
              1,
              "#f0f921"
             ]
            ],
            "type": "contour"
           }
          ],
          "contourcarpet": [
           {
            "colorbar": {
             "outlinewidth": 0,
             "ticks": ""
            },
            "type": "contourcarpet"
           }
          ],
          "heatmap": [
           {
            "colorbar": {
             "outlinewidth": 0,
             "ticks": ""
            },
            "colorscale": [
             [
              0,
              "#0d0887"
             ],
             [
              0.1111111111111111,
              "#46039f"
             ],
             [
              0.2222222222222222,
              "#7201a8"
             ],
             [
              0.3333333333333333,
              "#9c179e"
             ],
             [
              0.4444444444444444,
              "#bd3786"
             ],
             [
              0.5555555555555556,
              "#d8576b"
             ],
             [
              0.6666666666666666,
              "#ed7953"
             ],
             [
              0.7777777777777778,
              "#fb9f3a"
             ],
             [
              0.8888888888888888,
              "#fdca26"
             ],
             [
              1,
              "#f0f921"
             ]
            ],
            "type": "heatmap"
           }
          ],
          "heatmapgl": [
           {
            "colorbar": {
             "outlinewidth": 0,
             "ticks": ""
            },
            "colorscale": [
             [
              0,
              "#0d0887"
             ],
             [
              0.1111111111111111,
              "#46039f"
             ],
             [
              0.2222222222222222,
              "#7201a8"
             ],
             [
              0.3333333333333333,
              "#9c179e"
             ],
             [
              0.4444444444444444,
              "#bd3786"
             ],
             [
              0.5555555555555556,
              "#d8576b"
             ],
             [
              0.6666666666666666,
              "#ed7953"
             ],
             [
              0.7777777777777778,
              "#fb9f3a"
             ],
             [
              0.8888888888888888,
              "#fdca26"
             ],
             [
              1,
              "#f0f921"
             ]
            ],
            "type": "heatmapgl"
           }
          ],
          "histogram": [
           {
            "marker": {
             "pattern": {
              "fillmode": "overlay",
              "size": 10,
              "solidity": 0.2
             }
            },
            "type": "histogram"
           }
          ],
          "histogram2d": [
           {
            "colorbar": {
             "outlinewidth": 0,
             "ticks": ""
            },
            "colorscale": [
             [
              0,
              "#0d0887"
             ],
             [
              0.1111111111111111,
              "#46039f"
             ],
             [
              0.2222222222222222,
              "#7201a8"
             ],
             [
              0.3333333333333333,
              "#9c179e"
             ],
             [
              0.4444444444444444,
              "#bd3786"
             ],
             [
              0.5555555555555556,
              "#d8576b"
             ],
             [
              0.6666666666666666,
              "#ed7953"
             ],
             [
              0.7777777777777778,
              "#fb9f3a"
             ],
             [
              0.8888888888888888,
              "#fdca26"
             ],
             [
              1,
              "#f0f921"
             ]
            ],
            "type": "histogram2d"
           }
          ],
          "histogram2dcontour": [
           {
            "colorbar": {
             "outlinewidth": 0,
             "ticks": ""
            },
            "colorscale": [
             [
              0,
              "#0d0887"
             ],
             [
              0.1111111111111111,
              "#46039f"
             ],
             [
              0.2222222222222222,
              "#7201a8"
             ],
             [
              0.3333333333333333,
              "#9c179e"
             ],
             [
              0.4444444444444444,
              "#bd3786"
             ],
             [
              0.5555555555555556,
              "#d8576b"
             ],
             [
              0.6666666666666666,
              "#ed7953"
             ],
             [
              0.7777777777777778,
              "#fb9f3a"
             ],
             [
              0.8888888888888888,
              "#fdca26"
             ],
             [
              1,
              "#f0f921"
             ]
            ],
            "type": "histogram2dcontour"
           }
          ],
          "mesh3d": [
           {
            "colorbar": {
             "outlinewidth": 0,
             "ticks": ""
            },
            "type": "mesh3d"
           }
          ],
          "parcoords": [
           {
            "line": {
             "colorbar": {
              "outlinewidth": 0,
              "ticks": ""
             }
            },
            "type": "parcoords"
           }
          ],
          "pie": [
           {
            "automargin": true,
            "type": "pie"
           }
          ],
          "scatter": [
           {
            "marker": {
             "colorbar": {
              "outlinewidth": 0,
              "ticks": ""
             }
            },
            "type": "scatter"
           }
          ],
          "scatter3d": [
           {
            "line": {
             "colorbar": {
              "outlinewidth": 0,
              "ticks": ""
             }
            },
            "marker": {
             "colorbar": {
              "outlinewidth": 0,
              "ticks": ""
             }
            },
            "type": "scatter3d"
           }
          ],
          "scattercarpet": [
           {
            "marker": {
             "colorbar": {
              "outlinewidth": 0,
              "ticks": ""
             }
            },
            "type": "scattercarpet"
           }
          ],
          "scattergeo": [
           {
            "marker": {
             "colorbar": {
              "outlinewidth": 0,
              "ticks": ""
             }
            },
            "type": "scattergeo"
           }
          ],
          "scattergl": [
           {
            "marker": {
             "colorbar": {
              "outlinewidth": 0,
              "ticks": ""
             }
            },
            "type": "scattergl"
           }
          ],
          "scattermapbox": [
           {
            "marker": {
             "colorbar": {
              "outlinewidth": 0,
              "ticks": ""
             }
            },
            "type": "scattermapbox"
           }
          ],
          "scatterpolar": [
           {
            "marker": {
             "colorbar": {
              "outlinewidth": 0,
              "ticks": ""
             }
            },
            "type": "scatterpolar"
           }
          ],
          "scatterpolargl": [
           {
            "marker": {
             "colorbar": {
              "outlinewidth": 0,
              "ticks": ""
             }
            },
            "type": "scatterpolargl"
           }
          ],
          "scatterternary": [
           {
            "marker": {
             "colorbar": {
              "outlinewidth": 0,
              "ticks": ""
             }
            },
            "type": "scatterternary"
           }
          ],
          "surface": [
           {
            "colorbar": {
             "outlinewidth": 0,
             "ticks": ""
            },
            "colorscale": [
             [
              0,
              "#0d0887"
             ],
             [
              0.1111111111111111,
              "#46039f"
             ],
             [
              0.2222222222222222,
              "#7201a8"
             ],
             [
              0.3333333333333333,
              "#9c179e"
             ],
             [
              0.4444444444444444,
              "#bd3786"
             ],
             [
              0.5555555555555556,
              "#d8576b"
             ],
             [
              0.6666666666666666,
              "#ed7953"
             ],
             [
              0.7777777777777778,
              "#fb9f3a"
             ],
             [
              0.8888888888888888,
              "#fdca26"
             ],
             [
              1,
              "#f0f921"
             ]
            ],
            "type": "surface"
           }
          ],
          "table": [
           {
            "cells": {
             "fill": {
              "color": "#EBF0F8"
             },
             "line": {
              "color": "white"
             }
            },
            "header": {
             "fill": {
              "color": "#C8D4E3"
             },
             "line": {
              "color": "white"
             }
            },
            "type": "table"
           }
          ]
         },
         "layout": {
          "annotationdefaults": {
           "arrowcolor": "#2a3f5f",
           "arrowhead": 0,
           "arrowwidth": 1
          },
          "autotypenumbers": "strict",
          "coloraxis": {
           "colorbar": {
            "outlinewidth": 0,
            "ticks": ""
           }
          },
          "colorscale": {
           "diverging": [
            [
             0,
             "#8e0152"
            ],
            [
             0.1,
             "#c51b7d"
            ],
            [
             0.2,
             "#de77ae"
            ],
            [
             0.3,
             "#f1b6da"
            ],
            [
             0.4,
             "#fde0ef"
            ],
            [
             0.5,
             "#f7f7f7"
            ],
            [
             0.6,
             "#e6f5d0"
            ],
            [
             0.7,
             "#b8e186"
            ],
            [
             0.8,
             "#7fbc41"
            ],
            [
             0.9,
             "#4d9221"
            ],
            [
             1,
             "#276419"
            ]
           ],
           "sequential": [
            [
             0,
             "#0d0887"
            ],
            [
             0.1111111111111111,
             "#46039f"
            ],
            [
             0.2222222222222222,
             "#7201a8"
            ],
            [
             0.3333333333333333,
             "#9c179e"
            ],
            [
             0.4444444444444444,
             "#bd3786"
            ],
            [
             0.5555555555555556,
             "#d8576b"
            ],
            [
             0.6666666666666666,
             "#ed7953"
            ],
            [
             0.7777777777777778,
             "#fb9f3a"
            ],
            [
             0.8888888888888888,
             "#fdca26"
            ],
            [
             1,
             "#f0f921"
            ]
           ],
           "sequentialminus": [
            [
             0,
             "#0d0887"
            ],
            [
             0.1111111111111111,
             "#46039f"
            ],
            [
             0.2222222222222222,
             "#7201a8"
            ],
            [
             0.3333333333333333,
             "#9c179e"
            ],
            [
             0.4444444444444444,
             "#bd3786"
            ],
            [
             0.5555555555555556,
             "#d8576b"
            ],
            [
             0.6666666666666666,
             "#ed7953"
            ],
            [
             0.7777777777777778,
             "#fb9f3a"
            ],
            [
             0.8888888888888888,
             "#fdca26"
            ],
            [
             1,
             "#f0f921"
            ]
           ]
          },
          "colorway": [
           "#636efa",
           "#EF553B",
           "#00cc96",
           "#ab63fa",
           "#FFA15A",
           "#19d3f3",
           "#FF6692",
           "#B6E880",
           "#FF97FF",
           "#FECB52"
          ],
          "font": {
           "color": "#2a3f5f"
          },
          "geo": {
           "bgcolor": "white",
           "lakecolor": "white",
           "landcolor": "#E5ECF6",
           "showlakes": true,
           "showland": true,
           "subunitcolor": "white"
          },
          "hoverlabel": {
           "align": "left"
          },
          "hovermode": "closest",
          "mapbox": {
           "style": "light"
          },
          "paper_bgcolor": "white",
          "plot_bgcolor": "#E5ECF6",
          "polar": {
           "angularaxis": {
            "gridcolor": "white",
            "linecolor": "white",
            "ticks": ""
           },
           "bgcolor": "#E5ECF6",
           "radialaxis": {
            "gridcolor": "white",
            "linecolor": "white",
            "ticks": ""
           }
          },
          "scene": {
           "xaxis": {
            "backgroundcolor": "#E5ECF6",
            "gridcolor": "white",
            "gridwidth": 2,
            "linecolor": "white",
            "showbackground": true,
            "ticks": "",
            "zerolinecolor": "white"
           },
           "yaxis": {
            "backgroundcolor": "#E5ECF6",
            "gridcolor": "white",
            "gridwidth": 2,
            "linecolor": "white",
            "showbackground": true,
            "ticks": "",
            "zerolinecolor": "white"
           },
           "zaxis": {
            "backgroundcolor": "#E5ECF6",
            "gridcolor": "white",
            "gridwidth": 2,
            "linecolor": "white",
            "showbackground": true,
            "ticks": "",
            "zerolinecolor": "white"
           }
          },
          "shapedefaults": {
           "line": {
            "color": "#2a3f5f"
           }
          },
          "ternary": {
           "aaxis": {
            "gridcolor": "white",
            "linecolor": "white",
            "ticks": ""
           },
           "baxis": {
            "gridcolor": "white",
            "linecolor": "white",
            "ticks": ""
           },
           "bgcolor": "#E5ECF6",
           "caxis": {
            "gridcolor": "white",
            "linecolor": "white",
            "ticks": ""
           }
          },
          "title": {
           "x": 0.05
          },
          "xaxis": {
           "automargin": true,
           "gridcolor": "white",
           "linecolor": "white",
           "ticks": "",
           "title": {
            "standoff": 15
           },
           "zerolinecolor": "white",
           "zerolinewidth": 2
          },
          "yaxis": {
           "automargin": true,
           "gridcolor": "white",
           "linecolor": "white",
           "ticks": "",
           "title": {
            "standoff": 15
           },
           "zerolinecolor": "white",
           "zerolinewidth": 2
          }
         }
        },
        "title": {
         "text": "MinMaxMessageType",
         "x": 0.5,
         "y": 0.9,
         "yanchor": "top"
        },
        "width": 1200
       }
      },
      "text/html": [
       "<div>                            <div id=\"da8e482d-5251-432f-8846-21370408985c\" class=\"plotly-graph-div\" style=\"height:600px; width:1200px;\"></div>            <script type=\"text/javascript\">                require([\"plotly\"], function(Plotly) {                    window.PLOTLYENV=window.PLOTLYENV || {};                                    if (document.getElementById(\"da8e482d-5251-432f-8846-21370408985c\")) {                    Plotly.newPlot(                        \"da8e482d-5251-432f-8846-21370408985c\",                        [{\"marker\":{\"color\":\"#741b47\"},\"name\":\"GRT130002\",\"type\":\"histogram\",\"x\":[\"SetMinLOS\",\"SetMaxLOS\",\"SetMinLOS\",\"SetMaxLOS\",\"SetMinLOS\",\"SetMaxLOS\",\"SetMinLOS\",\"SetMaxLOS\",\"SetMinLOS\",\"SetMaxLOS\",\"SetMinLOS\",\"SetMaxLOS\",\"SetMinLOS\",\"SetMaxLOS\",\"SetMinLOS\",\"SetMaxLOS\",\"SetMinLOS\",\"SetMaxLOS\",\"SetMinLOS\",\"SetMaxLOS\",\"SetMinLOS\",\"SetMaxLOS\",\"SetMinLOS\",\"SetMaxLOS\",\"SetMinLOS\",\"SetMaxLOS\",\"SetMinLOS\",\"SetMaxLOS\",\"SetMinLOS\",\"SetMaxLOS\",\"SetMinLOS\",\"SetMaxLOS\",\"SetMinLOS\",\"SetMaxLOS\",\"SetMinLOS\",\"SetMaxLOS\",\"SetMinLOS\",\"SetMaxLOS\",\"SetMinLOS\",\"SetMaxLOS\",\"SetMinLOS\",\"SetMaxLOS\",\"SetMinLOS\",\"SetMaxLOS\",\"SetMinLOS\",\"SetMaxLOS\",\"SetMinLOS\",\"SetMaxLOS\",\"SetMinLOS\",\"SetMaxLOS\",\"SetMinLOS\",\"SetMaxLOS\",\"SetMinLOS\",\"SetMaxLOS\",\"SetMinLOS\",\"SetMaxLOS\",\"SetMinLOS\",\"SetMaxLOS\",\"SetMinLOS\",\"SetMaxLOS\",\"SetMinLOS\",\"SetMaxLOS\",\"SetMinLOS\",\"SetMaxLOS\",\"SetMinLOS\",\"SetMaxLOS\",\"SetMinLOS\",\"SetMaxLOS\",\"SetMinLOS\",\"SetMaxLOS\",\"SetMinLOS\",\"SetMaxLOS\",\"SetMinLOS\",\"SetMaxLOS\",\"SetMinLOS\",\"SetMaxLOS\",\"SetMinLOS\",\"SetMaxLOS\",\"SetMinLOS\",\"SetMaxLOS\",\"SetMinLOS\",\"SetMaxLOS\",\"SetMinLOS\",\"SetMaxLOS\",\"SetMinLOS\",\"SetMaxLOS\",\"SetMinLOS\",\"SetMaxLOS\",\"SetMinLOS\",\"SetMaxLOS\",\"SetMinLOS\",\"SetMaxLOS\",\"SetMinLOS\",\"SetMaxLOS\",\"SetMinLOS\",\"SetMaxLOS\",\"SetMinLOS\",\"SetMaxLOS\",\"SetMinLOS\",\"SetMaxLOS\",\"SetMinLOS\",\"SetMaxLOS\",\"SetMinLOS\",\"SetMaxLOS\",\"SetMinLOS\",\"SetMaxLOS\",\"SetMinLOS\",\"SetMaxLOS\",\"SetMinLOS\",\"SetMaxLOS\",\"SetMinLOS\",\"SetMaxLOS\",\"SetMinLOS\",\"SetMaxLOS\",\"SetMinLOS\",\"SetMaxLOS\",\"SetMinLOS\",\"SetMaxLOS\",\"SetMinLOS\",\"SetMaxLOS\",\"SetMinLOS\",\"SetMaxLOS\",\"SetMinLOS\",\"SetMaxLOS\",\"SetMinLOS\",\"SetMaxLOS\",\"SetMinLOS\",\"SetMaxLOS\",\"SetMinLOS\",\"SetMaxLOS\",\"SetMinLOS\",\"SetMaxLOS\",\"SetMinLOS\",\"SetMaxLOS\",\"SetMinLOS\",\"SetMaxLOS\",\"SetMinLOS\",\"SetMaxLOS\",\"SetMinLOS\",\"SetMaxLOS\",\"SetMinLOS\",\"SetMaxLOS\",\"SetMinLOS\",\"SetMaxLOS\",\"SetMinLOS\",\"SetMaxLOS\",\"SetMinLOS\",\"SetMaxLOS\",\"SetMinLOS\",\"SetMaxLOS\",\"SetMinLOS\",\"SetMaxLOS\",\"SetMinLOS\",\"SetMaxLOS\",\"SetMinLOS\",\"SetMaxLOS\",\"SetMinLOS\",\"SetMaxLOS\",\"SetMinLOS\",\"SetMaxLOS\",\"SetMinLOS\",\"SetMaxLOS\",\"SetMinLOS\",\"SetMaxLOS\",\"SetMinLOS\",\"SetMaxLOS\",\"SetMinLOS\",\"SetMaxLOS\",\"SetMinLOS\",\"SetMaxLOS\",\"SetMinLOS\",\"SetMaxLOS\",\"SetMinLOS\",\"SetMaxLOS\",\"SetMinLOS\",\"SetMaxLOS\",\"SetMinLOS\",\"SetMaxLOS\",\"SetMinLOS\",\"SetMaxLOS\",\"SetMinLOS\",\"SetMaxLOS\",\"SetMinLOS\",\"SetMaxLOS\",\"SetMinLOS\",\"SetMaxLOS\",\"SetMinLOS\",\"SetMaxLOS\",\"SetMinLOS\",\"SetMaxLOS\",\"SetMinLOS\",\"SetMaxLOS\",\"SetMinLOS\",\"SetMaxLOS\",\"SetMinLOS\",\"SetMaxLOS\",\"SetMinLOS\",\"SetMaxLOS\",\"SetMinLOS\",\"SetMaxLOS\",\"SetMinLOS\",\"SetMaxLOS\",\"SetMinLOS\",\"SetMaxLOS\",\"SetMinLOS\",\"SetMaxLOS\",\"SetMinLOS\",\"SetMaxLOS\",\"SetMinLOS\",\"SetMaxLOS\",\"SetMinLOS\",\"SetMinLOS\",\"SetMaxLOS\",\"SetMinLOS\",\"SetMaxLOS\",\"SetMinLOS\",\"SetMaxLOS\",\"SetMinLOS\",\"SetMaxLOS\",\"SetMinLOS\",\"SetMaxLOS\",\"SetMinLOS\",\"SetMaxLOS\",\"SetMinLOS\",\"SetMaxLOS\",\"SetMinLOS\",\"SetMaxLOS\",\"SetMinLOS\",\"SetMaxLOS\",\"SetMinLOS\",\"SetMaxLOS\",\"SetMinLOS\",\"SetMaxLOS\",\"SetMinLOS\",\"SetMaxLOS\",\"SetMinLOS\",\"SetMaxLOS\",\"SetMinLOS\",\"SetMaxLOS\"]}],                        {\"bargap\":0.2,\"bargroupgap\":0.1,\"font\":{\"color\":\"Black\",\"family\":\"Courier New, monospace\",\"size\":16},\"height\":600,\"template\":{\"data\":{\"bar\":[{\"error_x\":{\"color\":\"#2a3f5f\"},\"error_y\":{\"color\":\"#2a3f5f\"},\"marker\":{\"line\":{\"color\":\"#E5ECF6\",\"width\":0.5},\"pattern\":{\"fillmode\":\"overlay\",\"size\":10,\"solidity\":0.2}},\"type\":\"bar\"}],\"barpolar\":[{\"marker\":{\"line\":{\"color\":\"#E5ECF6\",\"width\":0.5},\"pattern\":{\"fillmode\":\"overlay\",\"size\":10,\"solidity\":0.2}},\"type\":\"barpolar\"}],\"carpet\":[{\"aaxis\":{\"endlinecolor\":\"#2a3f5f\",\"gridcolor\":\"white\",\"linecolor\":\"white\",\"minorgridcolor\":\"white\",\"startlinecolor\":\"#2a3f5f\"},\"baxis\":{\"endlinecolor\":\"#2a3f5f\",\"gridcolor\":\"white\",\"linecolor\":\"white\",\"minorgridcolor\":\"white\",\"startlinecolor\":\"#2a3f5f\"},\"type\":\"carpet\"}],\"choropleth\":[{\"colorbar\":{\"outlinewidth\":0,\"ticks\":\"\"},\"type\":\"choropleth\"}],\"contour\":[{\"colorbar\":{\"outlinewidth\":0,\"ticks\":\"\"},\"colorscale\":[[0.0,\"#0d0887\"],[0.1111111111111111,\"#46039f\"],[0.2222222222222222,\"#7201a8\"],[0.3333333333333333,\"#9c179e\"],[0.4444444444444444,\"#bd3786\"],[0.5555555555555556,\"#d8576b\"],[0.6666666666666666,\"#ed7953\"],[0.7777777777777778,\"#fb9f3a\"],[0.8888888888888888,\"#fdca26\"],[1.0,\"#f0f921\"]],\"type\":\"contour\"}],\"contourcarpet\":[{\"colorbar\":{\"outlinewidth\":0,\"ticks\":\"\"},\"type\":\"contourcarpet\"}],\"heatmap\":[{\"colorbar\":{\"outlinewidth\":0,\"ticks\":\"\"},\"colorscale\":[[0.0,\"#0d0887\"],[0.1111111111111111,\"#46039f\"],[0.2222222222222222,\"#7201a8\"],[0.3333333333333333,\"#9c179e\"],[0.4444444444444444,\"#bd3786\"],[0.5555555555555556,\"#d8576b\"],[0.6666666666666666,\"#ed7953\"],[0.7777777777777778,\"#fb9f3a\"],[0.8888888888888888,\"#fdca26\"],[1.0,\"#f0f921\"]],\"type\":\"heatmap\"}],\"heatmapgl\":[{\"colorbar\":{\"outlinewidth\":0,\"ticks\":\"\"},\"colorscale\":[[0.0,\"#0d0887\"],[0.1111111111111111,\"#46039f\"],[0.2222222222222222,\"#7201a8\"],[0.3333333333333333,\"#9c179e\"],[0.4444444444444444,\"#bd3786\"],[0.5555555555555556,\"#d8576b\"],[0.6666666666666666,\"#ed7953\"],[0.7777777777777778,\"#fb9f3a\"],[0.8888888888888888,\"#fdca26\"],[1.0,\"#f0f921\"]],\"type\":\"heatmapgl\"}],\"histogram\":[{\"marker\":{\"pattern\":{\"fillmode\":\"overlay\",\"size\":10,\"solidity\":0.2}},\"type\":\"histogram\"}],\"histogram2d\":[{\"colorbar\":{\"outlinewidth\":0,\"ticks\":\"\"},\"colorscale\":[[0.0,\"#0d0887\"],[0.1111111111111111,\"#46039f\"],[0.2222222222222222,\"#7201a8\"],[0.3333333333333333,\"#9c179e\"],[0.4444444444444444,\"#bd3786\"],[0.5555555555555556,\"#d8576b\"],[0.6666666666666666,\"#ed7953\"],[0.7777777777777778,\"#fb9f3a\"],[0.8888888888888888,\"#fdca26\"],[1.0,\"#f0f921\"]],\"type\":\"histogram2d\"}],\"histogram2dcontour\":[{\"colorbar\":{\"outlinewidth\":0,\"ticks\":\"\"},\"colorscale\":[[0.0,\"#0d0887\"],[0.1111111111111111,\"#46039f\"],[0.2222222222222222,\"#7201a8\"],[0.3333333333333333,\"#9c179e\"],[0.4444444444444444,\"#bd3786\"],[0.5555555555555556,\"#d8576b\"],[0.6666666666666666,\"#ed7953\"],[0.7777777777777778,\"#fb9f3a\"],[0.8888888888888888,\"#fdca26\"],[1.0,\"#f0f921\"]],\"type\":\"histogram2dcontour\"}],\"mesh3d\":[{\"colorbar\":{\"outlinewidth\":0,\"ticks\":\"\"},\"type\":\"mesh3d\"}],\"parcoords\":[{\"line\":{\"colorbar\":{\"outlinewidth\":0,\"ticks\":\"\"}},\"type\":\"parcoords\"}],\"pie\":[{\"automargin\":true,\"type\":\"pie\"}],\"scatter\":[{\"marker\":{\"colorbar\":{\"outlinewidth\":0,\"ticks\":\"\"}},\"type\":\"scatter\"}],\"scatter3d\":[{\"line\":{\"colorbar\":{\"outlinewidth\":0,\"ticks\":\"\"}},\"marker\":{\"colorbar\":{\"outlinewidth\":0,\"ticks\":\"\"}},\"type\":\"scatter3d\"}],\"scattercarpet\":[{\"marker\":{\"colorbar\":{\"outlinewidth\":0,\"ticks\":\"\"}},\"type\":\"scattercarpet\"}],\"scattergeo\":[{\"marker\":{\"colorbar\":{\"outlinewidth\":0,\"ticks\":\"\"}},\"type\":\"scattergeo\"}],\"scattergl\":[{\"marker\":{\"colorbar\":{\"outlinewidth\":0,\"ticks\":\"\"}},\"type\":\"scattergl\"}],\"scattermapbox\":[{\"marker\":{\"colorbar\":{\"outlinewidth\":0,\"ticks\":\"\"}},\"type\":\"scattermapbox\"}],\"scatterpolar\":[{\"marker\":{\"colorbar\":{\"outlinewidth\":0,\"ticks\":\"\"}},\"type\":\"scatterpolar\"}],\"scatterpolargl\":[{\"marker\":{\"colorbar\":{\"outlinewidth\":0,\"ticks\":\"\"}},\"type\":\"scatterpolargl\"}],\"scatterternary\":[{\"marker\":{\"colorbar\":{\"outlinewidth\":0,\"ticks\":\"\"}},\"type\":\"scatterternary\"}],\"surface\":[{\"colorbar\":{\"outlinewidth\":0,\"ticks\":\"\"},\"colorscale\":[[0.0,\"#0d0887\"],[0.1111111111111111,\"#46039f\"],[0.2222222222222222,\"#7201a8\"],[0.3333333333333333,\"#9c179e\"],[0.4444444444444444,\"#bd3786\"],[0.5555555555555556,\"#d8576b\"],[0.6666666666666666,\"#ed7953\"],[0.7777777777777778,\"#fb9f3a\"],[0.8888888888888888,\"#fdca26\"],[1.0,\"#f0f921\"]],\"type\":\"surface\"}],\"table\":[{\"cells\":{\"fill\":{\"color\":\"#EBF0F8\"},\"line\":{\"color\":\"white\"}},\"header\":{\"fill\":{\"color\":\"#C8D4E3\"},\"line\":{\"color\":\"white\"}},\"type\":\"table\"}]},\"layout\":{\"annotationdefaults\":{\"arrowcolor\":\"#2a3f5f\",\"arrowhead\":0,\"arrowwidth\":1},\"autotypenumbers\":\"strict\",\"coloraxis\":{\"colorbar\":{\"outlinewidth\":0,\"ticks\":\"\"}},\"colorscale\":{\"diverging\":[[0,\"#8e0152\"],[0.1,\"#c51b7d\"],[0.2,\"#de77ae\"],[0.3,\"#f1b6da\"],[0.4,\"#fde0ef\"],[0.5,\"#f7f7f7\"],[0.6,\"#e6f5d0\"],[0.7,\"#b8e186\"],[0.8,\"#7fbc41\"],[0.9,\"#4d9221\"],[1,\"#276419\"]],\"sequential\":[[0.0,\"#0d0887\"],[0.1111111111111111,\"#46039f\"],[0.2222222222222222,\"#7201a8\"],[0.3333333333333333,\"#9c179e\"],[0.4444444444444444,\"#bd3786\"],[0.5555555555555556,\"#d8576b\"],[0.6666666666666666,\"#ed7953\"],[0.7777777777777778,\"#fb9f3a\"],[0.8888888888888888,\"#fdca26\"],[1.0,\"#f0f921\"]],\"sequentialminus\":[[0.0,\"#0d0887\"],[0.1111111111111111,\"#46039f\"],[0.2222222222222222,\"#7201a8\"],[0.3333333333333333,\"#9c179e\"],[0.4444444444444444,\"#bd3786\"],[0.5555555555555556,\"#d8576b\"],[0.6666666666666666,\"#ed7953\"],[0.7777777777777778,\"#fb9f3a\"],[0.8888888888888888,\"#fdca26\"],[1.0,\"#f0f921\"]]},\"colorway\":[\"#636efa\",\"#EF553B\",\"#00cc96\",\"#ab63fa\",\"#FFA15A\",\"#19d3f3\",\"#FF6692\",\"#B6E880\",\"#FF97FF\",\"#FECB52\"],\"font\":{\"color\":\"#2a3f5f\"},\"geo\":{\"bgcolor\":\"white\",\"lakecolor\":\"white\",\"landcolor\":\"#E5ECF6\",\"showlakes\":true,\"showland\":true,\"subunitcolor\":\"white\"},\"hoverlabel\":{\"align\":\"left\"},\"hovermode\":\"closest\",\"mapbox\":{\"style\":\"light\"},\"paper_bgcolor\":\"white\",\"plot_bgcolor\":\"#E5ECF6\",\"polar\":{\"angularaxis\":{\"gridcolor\":\"white\",\"linecolor\":\"white\",\"ticks\":\"\"},\"bgcolor\":\"#E5ECF6\",\"radialaxis\":{\"gridcolor\":\"white\",\"linecolor\":\"white\",\"ticks\":\"\"}},\"scene\":{\"xaxis\":{\"backgroundcolor\":\"#E5ECF6\",\"gridcolor\":\"white\",\"gridwidth\":2,\"linecolor\":\"white\",\"showbackground\":true,\"ticks\":\"\",\"zerolinecolor\":\"white\"},\"yaxis\":{\"backgroundcolor\":\"#E5ECF6\",\"gridcolor\":\"white\",\"gridwidth\":2,\"linecolor\":\"white\",\"showbackground\":true,\"ticks\":\"\",\"zerolinecolor\":\"white\"},\"zaxis\":{\"backgroundcolor\":\"#E5ECF6\",\"gridcolor\":\"white\",\"gridwidth\":2,\"linecolor\":\"white\",\"showbackground\":true,\"ticks\":\"\",\"zerolinecolor\":\"white\"}},\"shapedefaults\":{\"line\":{\"color\":\"#2a3f5f\"}},\"ternary\":{\"aaxis\":{\"gridcolor\":\"white\",\"linecolor\":\"white\",\"ticks\":\"\"},\"baxis\":{\"gridcolor\":\"white\",\"linecolor\":\"white\",\"ticks\":\"\"},\"bgcolor\":\"#E5ECF6\",\"caxis\":{\"gridcolor\":\"white\",\"linecolor\":\"white\",\"ticks\":\"\"}},\"title\":{\"x\":0.05},\"xaxis\":{\"automargin\":true,\"gridcolor\":\"white\",\"linecolor\":\"white\",\"ticks\":\"\",\"title\":{\"standoff\":15},\"zerolinecolor\":\"white\",\"zerolinewidth\":2},\"yaxis\":{\"automargin\":true,\"gridcolor\":\"white\",\"linecolor\":\"white\",\"ticks\":\"\",\"title\":{\"standoff\":15},\"zerolinecolor\":\"white\",\"zerolinewidth\":2}}},\"title\":{\"text\":\"MinMaxMessageType\",\"x\":0.5,\"y\":0.9,\"yanchor\":\"top\"},\"width\":1200},                        {\"responsive\": true}                    ).then(function(){\n",
       "                            \n",
       "var gd = document.getElementById('da8e482d-5251-432f-8846-21370408985c');\n",
       "var x = new MutationObserver(function (mutations, observer) {{\n",
       "        var display = window.getComputedStyle(gd).display;\n",
       "        if (!display || display === 'none') {{\n",
       "            console.log([gd, 'removed!']);\n",
       "            Plotly.purge(gd);\n",
       "            observer.disconnect();\n",
       "        }}\n",
       "}});\n",
       "\n",
       "// Listen for the removal of the full notebook cells\n",
       "var notebookContainer = gd.closest('#notebook-container');\n",
       "if (notebookContainer) {{\n",
       "    x.observe(notebookContainer, {childList: true});\n",
       "}}\n",
       "\n",
       "// Listen for the clearing of the current output cell\n",
       "var outputEl = gd.closest('.output');\n",
       "if (outputEl) {{\n",
       "    x.observe(outputEl, {childList: true});\n",
       "}}\n",
       "\n",
       "                        })                };                });            </script>        </div>"
      ]
     },
     "metadata": {},
     "output_type": "display_data"
    }
   ],
   "source": [
    "import plotly.graph_objects as go\n",
    "fig = go.Figure()\n",
    "fig.add_trace(go.Histogram(\n",
    "    x=HotelBookingRuleNotifRQ.MinMaxMessageType,\n",
    "    name='GRT130002', \n",
    "    marker_color='#741b47'\n",
    "))\n",
    "\n",
    "fig.update_layout(\n",
    "    title={'text':'MinMaxMessageType', \n",
    "           \"y\":0.9,\n",
    "           \"x\":0.5,\n",
    "           \"yanchor\":\"top\"},\n",
    "    width=1200,height=600,\n",
    "    font=dict(\n",
    "    family= \"Courier New, monospace\",\n",
    "    size=16,\n",
    "    color=\"Black\"),\n",
    "    bargap=0.2, \n",
    "    bargroupgap=0.1 \n",
    ")\n",
    "\n",
    "fig.show()"
   ]
  },
  {
   "cell_type": "markdown",
   "id": "b687a298",
   "metadata": {},
   "source": [
    "#### Checking null values for hotelCode"
   ]
  },
  {
   "cell_type": "code",
   "execution_count": 96,
   "id": "24a6d8e5",
   "metadata": {},
   "outputs": [
    {
     "data": {
      "text/plain": [
       "0"
      ]
     },
     "execution_count": 96,
     "metadata": {},
     "output_type": "execute_result"
    }
   ],
   "source": [
    "HotelBookingRuleNotifRQ.Time.isna().sum()"
   ]
  },
  {
   "cell_type": "code",
   "execution_count": 97,
   "id": "68afc6e3",
   "metadata": {},
   "outputs": [
    {
     "data": {
      "application/vnd.plotly.v1+json": {
       "config": {
        "plotlyServerURL": "https://plot.ly"
       },
       "data": [
        {
         "marker": {
          "color": "#741b47"
         },
         "name": "GRT130002",
         "type": "histogram",
         "x": [
          "1",
          "-9999",
          "1",
          "-9999",
          "1",
          "-9999",
          "2",
          "-9999",
          "2",
          "-9999",
          "2",
          "-9999",
          "1",
          "-9999",
          "1",
          "-9999",
          "1",
          "-9999",
          "1",
          "-9999",
          "1",
          "-9999",
          "1",
          "-9999",
          "2",
          "-9999",
          "2",
          "-9999",
          "2",
          "-9999",
          "1",
          "-9999",
          "1",
          "-9999",
          "1",
          "-9999",
          "2",
          "-9999",
          "2",
          "-9999",
          "2",
          "-9999",
          "1",
          "-9999",
          "1",
          "-9999",
          "1",
          "-9999",
          "2",
          "-9999",
          "2",
          "-9999",
          "2",
          "-9999",
          "2",
          "-9999",
          "2",
          "-9999",
          "2",
          "-9999",
          "1",
          "-9999",
          "1",
          "-9999",
          "1",
          "-9999",
          "2",
          "-9999",
          "2",
          "-9999",
          "2",
          "-9999",
          "2",
          "-9999",
          "2",
          "-9999",
          "2",
          "-9999",
          "1",
          "-9999",
          "1",
          "-9999",
          "1",
          "-9999",
          "2",
          "-9999",
          "2",
          "-9999",
          "2",
          "-9999",
          "1",
          "-9999",
          "1",
          "-9999",
          "1",
          "-9999",
          "1",
          "-9999",
          "1",
          "-9999",
          "1",
          "-9999",
          "2",
          "-9999",
          "2",
          "-9999",
          "2",
          "-9999",
          "1",
          "-9999",
          "1",
          "-9999",
          "1",
          "-9999",
          "2",
          "-9999",
          "2",
          "-9999",
          "2",
          "-9999",
          "1",
          "-9999",
          "1",
          "-9999",
          "1",
          "-9999",
          "2",
          "-9999",
          "2",
          "-9999",
          "2",
          "-9999",
          "2",
          "-9999",
          "2",
          "-9999",
          "2",
          "-9999",
          "1",
          "-9999",
          "1",
          "-9999",
          "1",
          "-9999",
          "2",
          "-9999",
          "2",
          "-9999",
          "2",
          "-9999",
          "2",
          "-9999",
          "2",
          "-9999",
          "2",
          "-9999",
          "2",
          "-9999",
          "2",
          "-9999",
          "2",
          "-9999",
          "2",
          "-9999",
          "2",
          "-9999",
          "2",
          "-9999",
          "2",
          "-9999",
          "2",
          "-9999",
          "2",
          "-9999",
          "2",
          "-9999",
          "2",
          "-9999",
          "2",
          "-9999",
          "1",
          "-9999",
          "1",
          "-9999",
          "1",
          "-9999",
          "2",
          "-9999",
          "2",
          "-9999",
          "2",
          "-9999",
          "1",
          "-9999",
          "1",
          "-9999",
          "1",
          "-9999",
          "2",
          "-9999",
          "2",
          "-9999",
          "2",
          "-9999",
          "1",
          "-9999",
          "1",
          "-9999",
          "1",
          "-9999",
          "1",
          "2",
          "-9999",
          "2",
          "-9999",
          "2",
          "-9999",
          "1",
          "-9999",
          "1",
          "-9999",
          "1",
          "-9999",
          "2",
          "-9999",
          "2",
          "-9999",
          "2",
          "-9999",
          "1",
          "-9999",
          "1",
          "-9999",
          "1",
          "-9999",
          "1",
          "-9999",
          "1",
          "-9999"
         ]
        }
       ],
       "layout": {
        "bargap": 0.2,
        "bargroupgap": 0.1,
        "font": {
         "color": "Black",
         "family": "Courier New, monospace",
         "size": 16
        },
        "height": 600,
        "template": {
         "data": {
          "bar": [
           {
            "error_x": {
             "color": "#2a3f5f"
            },
            "error_y": {
             "color": "#2a3f5f"
            },
            "marker": {
             "line": {
              "color": "#E5ECF6",
              "width": 0.5
             },
             "pattern": {
              "fillmode": "overlay",
              "size": 10,
              "solidity": 0.2
             }
            },
            "type": "bar"
           }
          ],
          "barpolar": [
           {
            "marker": {
             "line": {
              "color": "#E5ECF6",
              "width": 0.5
             },
             "pattern": {
              "fillmode": "overlay",
              "size": 10,
              "solidity": 0.2
             }
            },
            "type": "barpolar"
           }
          ],
          "carpet": [
           {
            "aaxis": {
             "endlinecolor": "#2a3f5f",
             "gridcolor": "white",
             "linecolor": "white",
             "minorgridcolor": "white",
             "startlinecolor": "#2a3f5f"
            },
            "baxis": {
             "endlinecolor": "#2a3f5f",
             "gridcolor": "white",
             "linecolor": "white",
             "minorgridcolor": "white",
             "startlinecolor": "#2a3f5f"
            },
            "type": "carpet"
           }
          ],
          "choropleth": [
           {
            "colorbar": {
             "outlinewidth": 0,
             "ticks": ""
            },
            "type": "choropleth"
           }
          ],
          "contour": [
           {
            "colorbar": {
             "outlinewidth": 0,
             "ticks": ""
            },
            "colorscale": [
             [
              0,
              "#0d0887"
             ],
             [
              0.1111111111111111,
              "#46039f"
             ],
             [
              0.2222222222222222,
              "#7201a8"
             ],
             [
              0.3333333333333333,
              "#9c179e"
             ],
             [
              0.4444444444444444,
              "#bd3786"
             ],
             [
              0.5555555555555556,
              "#d8576b"
             ],
             [
              0.6666666666666666,
              "#ed7953"
             ],
             [
              0.7777777777777778,
              "#fb9f3a"
             ],
             [
              0.8888888888888888,
              "#fdca26"
             ],
             [
              1,
              "#f0f921"
             ]
            ],
            "type": "contour"
           }
          ],
          "contourcarpet": [
           {
            "colorbar": {
             "outlinewidth": 0,
             "ticks": ""
            },
            "type": "contourcarpet"
           }
          ],
          "heatmap": [
           {
            "colorbar": {
             "outlinewidth": 0,
             "ticks": ""
            },
            "colorscale": [
             [
              0,
              "#0d0887"
             ],
             [
              0.1111111111111111,
              "#46039f"
             ],
             [
              0.2222222222222222,
              "#7201a8"
             ],
             [
              0.3333333333333333,
              "#9c179e"
             ],
             [
              0.4444444444444444,
              "#bd3786"
             ],
             [
              0.5555555555555556,
              "#d8576b"
             ],
             [
              0.6666666666666666,
              "#ed7953"
             ],
             [
              0.7777777777777778,
              "#fb9f3a"
             ],
             [
              0.8888888888888888,
              "#fdca26"
             ],
             [
              1,
              "#f0f921"
             ]
            ],
            "type": "heatmap"
           }
          ],
          "heatmapgl": [
           {
            "colorbar": {
             "outlinewidth": 0,
             "ticks": ""
            },
            "colorscale": [
             [
              0,
              "#0d0887"
             ],
             [
              0.1111111111111111,
              "#46039f"
             ],
             [
              0.2222222222222222,
              "#7201a8"
             ],
             [
              0.3333333333333333,
              "#9c179e"
             ],
             [
              0.4444444444444444,
              "#bd3786"
             ],
             [
              0.5555555555555556,
              "#d8576b"
             ],
             [
              0.6666666666666666,
              "#ed7953"
             ],
             [
              0.7777777777777778,
              "#fb9f3a"
             ],
             [
              0.8888888888888888,
              "#fdca26"
             ],
             [
              1,
              "#f0f921"
             ]
            ],
            "type": "heatmapgl"
           }
          ],
          "histogram": [
           {
            "marker": {
             "pattern": {
              "fillmode": "overlay",
              "size": 10,
              "solidity": 0.2
             }
            },
            "type": "histogram"
           }
          ],
          "histogram2d": [
           {
            "colorbar": {
             "outlinewidth": 0,
             "ticks": ""
            },
            "colorscale": [
             [
              0,
              "#0d0887"
             ],
             [
              0.1111111111111111,
              "#46039f"
             ],
             [
              0.2222222222222222,
              "#7201a8"
             ],
             [
              0.3333333333333333,
              "#9c179e"
             ],
             [
              0.4444444444444444,
              "#bd3786"
             ],
             [
              0.5555555555555556,
              "#d8576b"
             ],
             [
              0.6666666666666666,
              "#ed7953"
             ],
             [
              0.7777777777777778,
              "#fb9f3a"
             ],
             [
              0.8888888888888888,
              "#fdca26"
             ],
             [
              1,
              "#f0f921"
             ]
            ],
            "type": "histogram2d"
           }
          ],
          "histogram2dcontour": [
           {
            "colorbar": {
             "outlinewidth": 0,
             "ticks": ""
            },
            "colorscale": [
             [
              0,
              "#0d0887"
             ],
             [
              0.1111111111111111,
              "#46039f"
             ],
             [
              0.2222222222222222,
              "#7201a8"
             ],
             [
              0.3333333333333333,
              "#9c179e"
             ],
             [
              0.4444444444444444,
              "#bd3786"
             ],
             [
              0.5555555555555556,
              "#d8576b"
             ],
             [
              0.6666666666666666,
              "#ed7953"
             ],
             [
              0.7777777777777778,
              "#fb9f3a"
             ],
             [
              0.8888888888888888,
              "#fdca26"
             ],
             [
              1,
              "#f0f921"
             ]
            ],
            "type": "histogram2dcontour"
           }
          ],
          "mesh3d": [
           {
            "colorbar": {
             "outlinewidth": 0,
             "ticks": ""
            },
            "type": "mesh3d"
           }
          ],
          "parcoords": [
           {
            "line": {
             "colorbar": {
              "outlinewidth": 0,
              "ticks": ""
             }
            },
            "type": "parcoords"
           }
          ],
          "pie": [
           {
            "automargin": true,
            "type": "pie"
           }
          ],
          "scatter": [
           {
            "marker": {
             "colorbar": {
              "outlinewidth": 0,
              "ticks": ""
             }
            },
            "type": "scatter"
           }
          ],
          "scatter3d": [
           {
            "line": {
             "colorbar": {
              "outlinewidth": 0,
              "ticks": ""
             }
            },
            "marker": {
             "colorbar": {
              "outlinewidth": 0,
              "ticks": ""
             }
            },
            "type": "scatter3d"
           }
          ],
          "scattercarpet": [
           {
            "marker": {
             "colorbar": {
              "outlinewidth": 0,
              "ticks": ""
             }
            },
            "type": "scattercarpet"
           }
          ],
          "scattergeo": [
           {
            "marker": {
             "colorbar": {
              "outlinewidth": 0,
              "ticks": ""
             }
            },
            "type": "scattergeo"
           }
          ],
          "scattergl": [
           {
            "marker": {
             "colorbar": {
              "outlinewidth": 0,
              "ticks": ""
             }
            },
            "type": "scattergl"
           }
          ],
          "scattermapbox": [
           {
            "marker": {
             "colorbar": {
              "outlinewidth": 0,
              "ticks": ""
             }
            },
            "type": "scattermapbox"
           }
          ],
          "scatterpolar": [
           {
            "marker": {
             "colorbar": {
              "outlinewidth": 0,
              "ticks": ""
             }
            },
            "type": "scatterpolar"
           }
          ],
          "scatterpolargl": [
           {
            "marker": {
             "colorbar": {
              "outlinewidth": 0,
              "ticks": ""
             }
            },
            "type": "scatterpolargl"
           }
          ],
          "scatterternary": [
           {
            "marker": {
             "colorbar": {
              "outlinewidth": 0,
              "ticks": ""
             }
            },
            "type": "scatterternary"
           }
          ],
          "surface": [
           {
            "colorbar": {
             "outlinewidth": 0,
             "ticks": ""
            },
            "colorscale": [
             [
              0,
              "#0d0887"
             ],
             [
              0.1111111111111111,
              "#46039f"
             ],
             [
              0.2222222222222222,
              "#7201a8"
             ],
             [
              0.3333333333333333,
              "#9c179e"
             ],
             [
              0.4444444444444444,
              "#bd3786"
             ],
             [
              0.5555555555555556,
              "#d8576b"
             ],
             [
              0.6666666666666666,
              "#ed7953"
             ],
             [
              0.7777777777777778,
              "#fb9f3a"
             ],
             [
              0.8888888888888888,
              "#fdca26"
             ],
             [
              1,
              "#f0f921"
             ]
            ],
            "type": "surface"
           }
          ],
          "table": [
           {
            "cells": {
             "fill": {
              "color": "#EBF0F8"
             },
             "line": {
              "color": "white"
             }
            },
            "header": {
             "fill": {
              "color": "#C8D4E3"
             },
             "line": {
              "color": "white"
             }
            },
            "type": "table"
           }
          ]
         },
         "layout": {
          "annotationdefaults": {
           "arrowcolor": "#2a3f5f",
           "arrowhead": 0,
           "arrowwidth": 1
          },
          "autotypenumbers": "strict",
          "coloraxis": {
           "colorbar": {
            "outlinewidth": 0,
            "ticks": ""
           }
          },
          "colorscale": {
           "diverging": [
            [
             0,
             "#8e0152"
            ],
            [
             0.1,
             "#c51b7d"
            ],
            [
             0.2,
             "#de77ae"
            ],
            [
             0.3,
             "#f1b6da"
            ],
            [
             0.4,
             "#fde0ef"
            ],
            [
             0.5,
             "#f7f7f7"
            ],
            [
             0.6,
             "#e6f5d0"
            ],
            [
             0.7,
             "#b8e186"
            ],
            [
             0.8,
             "#7fbc41"
            ],
            [
             0.9,
             "#4d9221"
            ],
            [
             1,
             "#276419"
            ]
           ],
           "sequential": [
            [
             0,
             "#0d0887"
            ],
            [
             0.1111111111111111,
             "#46039f"
            ],
            [
             0.2222222222222222,
             "#7201a8"
            ],
            [
             0.3333333333333333,
             "#9c179e"
            ],
            [
             0.4444444444444444,
             "#bd3786"
            ],
            [
             0.5555555555555556,
             "#d8576b"
            ],
            [
             0.6666666666666666,
             "#ed7953"
            ],
            [
             0.7777777777777778,
             "#fb9f3a"
            ],
            [
             0.8888888888888888,
             "#fdca26"
            ],
            [
             1,
             "#f0f921"
            ]
           ],
           "sequentialminus": [
            [
             0,
             "#0d0887"
            ],
            [
             0.1111111111111111,
             "#46039f"
            ],
            [
             0.2222222222222222,
             "#7201a8"
            ],
            [
             0.3333333333333333,
             "#9c179e"
            ],
            [
             0.4444444444444444,
             "#bd3786"
            ],
            [
             0.5555555555555556,
             "#d8576b"
            ],
            [
             0.6666666666666666,
             "#ed7953"
            ],
            [
             0.7777777777777778,
             "#fb9f3a"
            ],
            [
             0.8888888888888888,
             "#fdca26"
            ],
            [
             1,
             "#f0f921"
            ]
           ]
          },
          "colorway": [
           "#636efa",
           "#EF553B",
           "#00cc96",
           "#ab63fa",
           "#FFA15A",
           "#19d3f3",
           "#FF6692",
           "#B6E880",
           "#FF97FF",
           "#FECB52"
          ],
          "font": {
           "color": "#2a3f5f"
          },
          "geo": {
           "bgcolor": "white",
           "lakecolor": "white",
           "landcolor": "#E5ECF6",
           "showlakes": true,
           "showland": true,
           "subunitcolor": "white"
          },
          "hoverlabel": {
           "align": "left"
          },
          "hovermode": "closest",
          "mapbox": {
           "style": "light"
          },
          "paper_bgcolor": "white",
          "plot_bgcolor": "#E5ECF6",
          "polar": {
           "angularaxis": {
            "gridcolor": "white",
            "linecolor": "white",
            "ticks": ""
           },
           "bgcolor": "#E5ECF6",
           "radialaxis": {
            "gridcolor": "white",
            "linecolor": "white",
            "ticks": ""
           }
          },
          "scene": {
           "xaxis": {
            "backgroundcolor": "#E5ECF6",
            "gridcolor": "white",
            "gridwidth": 2,
            "linecolor": "white",
            "showbackground": true,
            "ticks": "",
            "zerolinecolor": "white"
           },
           "yaxis": {
            "backgroundcolor": "#E5ECF6",
            "gridcolor": "white",
            "gridwidth": 2,
            "linecolor": "white",
            "showbackground": true,
            "ticks": "",
            "zerolinecolor": "white"
           },
           "zaxis": {
            "backgroundcolor": "#E5ECF6",
            "gridcolor": "white",
            "gridwidth": 2,
            "linecolor": "white",
            "showbackground": true,
            "ticks": "",
            "zerolinecolor": "white"
           }
          },
          "shapedefaults": {
           "line": {
            "color": "#2a3f5f"
           }
          },
          "ternary": {
           "aaxis": {
            "gridcolor": "white",
            "linecolor": "white",
            "ticks": ""
           },
           "baxis": {
            "gridcolor": "white",
            "linecolor": "white",
            "ticks": ""
           },
           "bgcolor": "#E5ECF6",
           "caxis": {
            "gridcolor": "white",
            "linecolor": "white",
            "ticks": ""
           }
          },
          "title": {
           "x": 0.05
          },
          "xaxis": {
           "automargin": true,
           "gridcolor": "white",
           "linecolor": "white",
           "ticks": "",
           "title": {
            "standoff": 15
           },
           "zerolinecolor": "white",
           "zerolinewidth": 2
          },
          "yaxis": {
           "automargin": true,
           "gridcolor": "white",
           "linecolor": "white",
           "ticks": "",
           "title": {
            "standoff": 15
           },
           "zerolinecolor": "white",
           "zerolinewidth": 2
          }
         }
        },
        "title": {
         "text": "Time",
         "x": 0.5,
         "y": 0.9,
         "yanchor": "top"
        },
        "width": 1200
       }
      },
      "text/html": [
       "<div>                            <div id=\"ab893649-cf6f-4027-8dc7-e0affc69c399\" class=\"plotly-graph-div\" style=\"height:600px; width:1200px;\"></div>            <script type=\"text/javascript\">                require([\"plotly\"], function(Plotly) {                    window.PLOTLYENV=window.PLOTLYENV || {};                                    if (document.getElementById(\"ab893649-cf6f-4027-8dc7-e0affc69c399\")) {                    Plotly.newPlot(                        \"ab893649-cf6f-4027-8dc7-e0affc69c399\",                        [{\"marker\":{\"color\":\"#741b47\"},\"name\":\"GRT130002\",\"type\":\"histogram\",\"x\":[\"1\",\"-9999\",\"1\",\"-9999\",\"1\",\"-9999\",\"2\",\"-9999\",\"2\",\"-9999\",\"2\",\"-9999\",\"1\",\"-9999\",\"1\",\"-9999\",\"1\",\"-9999\",\"1\",\"-9999\",\"1\",\"-9999\",\"1\",\"-9999\",\"2\",\"-9999\",\"2\",\"-9999\",\"2\",\"-9999\",\"1\",\"-9999\",\"1\",\"-9999\",\"1\",\"-9999\",\"2\",\"-9999\",\"2\",\"-9999\",\"2\",\"-9999\",\"1\",\"-9999\",\"1\",\"-9999\",\"1\",\"-9999\",\"2\",\"-9999\",\"2\",\"-9999\",\"2\",\"-9999\",\"2\",\"-9999\",\"2\",\"-9999\",\"2\",\"-9999\",\"1\",\"-9999\",\"1\",\"-9999\",\"1\",\"-9999\",\"2\",\"-9999\",\"2\",\"-9999\",\"2\",\"-9999\",\"2\",\"-9999\",\"2\",\"-9999\",\"2\",\"-9999\",\"1\",\"-9999\",\"1\",\"-9999\",\"1\",\"-9999\",\"2\",\"-9999\",\"2\",\"-9999\",\"2\",\"-9999\",\"1\",\"-9999\",\"1\",\"-9999\",\"1\",\"-9999\",\"1\",\"-9999\",\"1\",\"-9999\",\"1\",\"-9999\",\"2\",\"-9999\",\"2\",\"-9999\",\"2\",\"-9999\",\"1\",\"-9999\",\"1\",\"-9999\",\"1\",\"-9999\",\"2\",\"-9999\",\"2\",\"-9999\",\"2\",\"-9999\",\"1\",\"-9999\",\"1\",\"-9999\",\"1\",\"-9999\",\"2\",\"-9999\",\"2\",\"-9999\",\"2\",\"-9999\",\"2\",\"-9999\",\"2\",\"-9999\",\"2\",\"-9999\",\"1\",\"-9999\",\"1\",\"-9999\",\"1\",\"-9999\",\"2\",\"-9999\",\"2\",\"-9999\",\"2\",\"-9999\",\"2\",\"-9999\",\"2\",\"-9999\",\"2\",\"-9999\",\"2\",\"-9999\",\"2\",\"-9999\",\"2\",\"-9999\",\"2\",\"-9999\",\"2\",\"-9999\",\"2\",\"-9999\",\"2\",\"-9999\",\"2\",\"-9999\",\"2\",\"-9999\",\"2\",\"-9999\",\"2\",\"-9999\",\"2\",\"-9999\",\"1\",\"-9999\",\"1\",\"-9999\",\"1\",\"-9999\",\"2\",\"-9999\",\"2\",\"-9999\",\"2\",\"-9999\",\"1\",\"-9999\",\"1\",\"-9999\",\"1\",\"-9999\",\"2\",\"-9999\",\"2\",\"-9999\",\"2\",\"-9999\",\"1\",\"-9999\",\"1\",\"-9999\",\"1\",\"-9999\",\"1\",\"2\",\"-9999\",\"2\",\"-9999\",\"2\",\"-9999\",\"1\",\"-9999\",\"1\",\"-9999\",\"1\",\"-9999\",\"2\",\"-9999\",\"2\",\"-9999\",\"2\",\"-9999\",\"1\",\"-9999\",\"1\",\"-9999\",\"1\",\"-9999\",\"1\",\"-9999\",\"1\",\"-9999\"]}],                        {\"bargap\":0.2,\"bargroupgap\":0.1,\"font\":{\"color\":\"Black\",\"family\":\"Courier New, monospace\",\"size\":16},\"height\":600,\"template\":{\"data\":{\"bar\":[{\"error_x\":{\"color\":\"#2a3f5f\"},\"error_y\":{\"color\":\"#2a3f5f\"},\"marker\":{\"line\":{\"color\":\"#E5ECF6\",\"width\":0.5},\"pattern\":{\"fillmode\":\"overlay\",\"size\":10,\"solidity\":0.2}},\"type\":\"bar\"}],\"barpolar\":[{\"marker\":{\"line\":{\"color\":\"#E5ECF6\",\"width\":0.5},\"pattern\":{\"fillmode\":\"overlay\",\"size\":10,\"solidity\":0.2}},\"type\":\"barpolar\"}],\"carpet\":[{\"aaxis\":{\"endlinecolor\":\"#2a3f5f\",\"gridcolor\":\"white\",\"linecolor\":\"white\",\"minorgridcolor\":\"white\",\"startlinecolor\":\"#2a3f5f\"},\"baxis\":{\"endlinecolor\":\"#2a3f5f\",\"gridcolor\":\"white\",\"linecolor\":\"white\",\"minorgridcolor\":\"white\",\"startlinecolor\":\"#2a3f5f\"},\"type\":\"carpet\"}],\"choropleth\":[{\"colorbar\":{\"outlinewidth\":0,\"ticks\":\"\"},\"type\":\"choropleth\"}],\"contour\":[{\"colorbar\":{\"outlinewidth\":0,\"ticks\":\"\"},\"colorscale\":[[0.0,\"#0d0887\"],[0.1111111111111111,\"#46039f\"],[0.2222222222222222,\"#7201a8\"],[0.3333333333333333,\"#9c179e\"],[0.4444444444444444,\"#bd3786\"],[0.5555555555555556,\"#d8576b\"],[0.6666666666666666,\"#ed7953\"],[0.7777777777777778,\"#fb9f3a\"],[0.8888888888888888,\"#fdca26\"],[1.0,\"#f0f921\"]],\"type\":\"contour\"}],\"contourcarpet\":[{\"colorbar\":{\"outlinewidth\":0,\"ticks\":\"\"},\"type\":\"contourcarpet\"}],\"heatmap\":[{\"colorbar\":{\"outlinewidth\":0,\"ticks\":\"\"},\"colorscale\":[[0.0,\"#0d0887\"],[0.1111111111111111,\"#46039f\"],[0.2222222222222222,\"#7201a8\"],[0.3333333333333333,\"#9c179e\"],[0.4444444444444444,\"#bd3786\"],[0.5555555555555556,\"#d8576b\"],[0.6666666666666666,\"#ed7953\"],[0.7777777777777778,\"#fb9f3a\"],[0.8888888888888888,\"#fdca26\"],[1.0,\"#f0f921\"]],\"type\":\"heatmap\"}],\"heatmapgl\":[{\"colorbar\":{\"outlinewidth\":0,\"ticks\":\"\"},\"colorscale\":[[0.0,\"#0d0887\"],[0.1111111111111111,\"#46039f\"],[0.2222222222222222,\"#7201a8\"],[0.3333333333333333,\"#9c179e\"],[0.4444444444444444,\"#bd3786\"],[0.5555555555555556,\"#d8576b\"],[0.6666666666666666,\"#ed7953\"],[0.7777777777777778,\"#fb9f3a\"],[0.8888888888888888,\"#fdca26\"],[1.0,\"#f0f921\"]],\"type\":\"heatmapgl\"}],\"histogram\":[{\"marker\":{\"pattern\":{\"fillmode\":\"overlay\",\"size\":10,\"solidity\":0.2}},\"type\":\"histogram\"}],\"histogram2d\":[{\"colorbar\":{\"outlinewidth\":0,\"ticks\":\"\"},\"colorscale\":[[0.0,\"#0d0887\"],[0.1111111111111111,\"#46039f\"],[0.2222222222222222,\"#7201a8\"],[0.3333333333333333,\"#9c179e\"],[0.4444444444444444,\"#bd3786\"],[0.5555555555555556,\"#d8576b\"],[0.6666666666666666,\"#ed7953\"],[0.7777777777777778,\"#fb9f3a\"],[0.8888888888888888,\"#fdca26\"],[1.0,\"#f0f921\"]],\"type\":\"histogram2d\"}],\"histogram2dcontour\":[{\"colorbar\":{\"outlinewidth\":0,\"ticks\":\"\"},\"colorscale\":[[0.0,\"#0d0887\"],[0.1111111111111111,\"#46039f\"],[0.2222222222222222,\"#7201a8\"],[0.3333333333333333,\"#9c179e\"],[0.4444444444444444,\"#bd3786\"],[0.5555555555555556,\"#d8576b\"],[0.6666666666666666,\"#ed7953\"],[0.7777777777777778,\"#fb9f3a\"],[0.8888888888888888,\"#fdca26\"],[1.0,\"#f0f921\"]],\"type\":\"histogram2dcontour\"}],\"mesh3d\":[{\"colorbar\":{\"outlinewidth\":0,\"ticks\":\"\"},\"type\":\"mesh3d\"}],\"parcoords\":[{\"line\":{\"colorbar\":{\"outlinewidth\":0,\"ticks\":\"\"}},\"type\":\"parcoords\"}],\"pie\":[{\"automargin\":true,\"type\":\"pie\"}],\"scatter\":[{\"marker\":{\"colorbar\":{\"outlinewidth\":0,\"ticks\":\"\"}},\"type\":\"scatter\"}],\"scatter3d\":[{\"line\":{\"colorbar\":{\"outlinewidth\":0,\"ticks\":\"\"}},\"marker\":{\"colorbar\":{\"outlinewidth\":0,\"ticks\":\"\"}},\"type\":\"scatter3d\"}],\"scattercarpet\":[{\"marker\":{\"colorbar\":{\"outlinewidth\":0,\"ticks\":\"\"}},\"type\":\"scattercarpet\"}],\"scattergeo\":[{\"marker\":{\"colorbar\":{\"outlinewidth\":0,\"ticks\":\"\"}},\"type\":\"scattergeo\"}],\"scattergl\":[{\"marker\":{\"colorbar\":{\"outlinewidth\":0,\"ticks\":\"\"}},\"type\":\"scattergl\"}],\"scattermapbox\":[{\"marker\":{\"colorbar\":{\"outlinewidth\":0,\"ticks\":\"\"}},\"type\":\"scattermapbox\"}],\"scatterpolar\":[{\"marker\":{\"colorbar\":{\"outlinewidth\":0,\"ticks\":\"\"}},\"type\":\"scatterpolar\"}],\"scatterpolargl\":[{\"marker\":{\"colorbar\":{\"outlinewidth\":0,\"ticks\":\"\"}},\"type\":\"scatterpolargl\"}],\"scatterternary\":[{\"marker\":{\"colorbar\":{\"outlinewidth\":0,\"ticks\":\"\"}},\"type\":\"scatterternary\"}],\"surface\":[{\"colorbar\":{\"outlinewidth\":0,\"ticks\":\"\"},\"colorscale\":[[0.0,\"#0d0887\"],[0.1111111111111111,\"#46039f\"],[0.2222222222222222,\"#7201a8\"],[0.3333333333333333,\"#9c179e\"],[0.4444444444444444,\"#bd3786\"],[0.5555555555555556,\"#d8576b\"],[0.6666666666666666,\"#ed7953\"],[0.7777777777777778,\"#fb9f3a\"],[0.8888888888888888,\"#fdca26\"],[1.0,\"#f0f921\"]],\"type\":\"surface\"}],\"table\":[{\"cells\":{\"fill\":{\"color\":\"#EBF0F8\"},\"line\":{\"color\":\"white\"}},\"header\":{\"fill\":{\"color\":\"#C8D4E3\"},\"line\":{\"color\":\"white\"}},\"type\":\"table\"}]},\"layout\":{\"annotationdefaults\":{\"arrowcolor\":\"#2a3f5f\",\"arrowhead\":0,\"arrowwidth\":1},\"autotypenumbers\":\"strict\",\"coloraxis\":{\"colorbar\":{\"outlinewidth\":0,\"ticks\":\"\"}},\"colorscale\":{\"diverging\":[[0,\"#8e0152\"],[0.1,\"#c51b7d\"],[0.2,\"#de77ae\"],[0.3,\"#f1b6da\"],[0.4,\"#fde0ef\"],[0.5,\"#f7f7f7\"],[0.6,\"#e6f5d0\"],[0.7,\"#b8e186\"],[0.8,\"#7fbc41\"],[0.9,\"#4d9221\"],[1,\"#276419\"]],\"sequential\":[[0.0,\"#0d0887\"],[0.1111111111111111,\"#46039f\"],[0.2222222222222222,\"#7201a8\"],[0.3333333333333333,\"#9c179e\"],[0.4444444444444444,\"#bd3786\"],[0.5555555555555556,\"#d8576b\"],[0.6666666666666666,\"#ed7953\"],[0.7777777777777778,\"#fb9f3a\"],[0.8888888888888888,\"#fdca26\"],[1.0,\"#f0f921\"]],\"sequentialminus\":[[0.0,\"#0d0887\"],[0.1111111111111111,\"#46039f\"],[0.2222222222222222,\"#7201a8\"],[0.3333333333333333,\"#9c179e\"],[0.4444444444444444,\"#bd3786\"],[0.5555555555555556,\"#d8576b\"],[0.6666666666666666,\"#ed7953\"],[0.7777777777777778,\"#fb9f3a\"],[0.8888888888888888,\"#fdca26\"],[1.0,\"#f0f921\"]]},\"colorway\":[\"#636efa\",\"#EF553B\",\"#00cc96\",\"#ab63fa\",\"#FFA15A\",\"#19d3f3\",\"#FF6692\",\"#B6E880\",\"#FF97FF\",\"#FECB52\"],\"font\":{\"color\":\"#2a3f5f\"},\"geo\":{\"bgcolor\":\"white\",\"lakecolor\":\"white\",\"landcolor\":\"#E5ECF6\",\"showlakes\":true,\"showland\":true,\"subunitcolor\":\"white\"},\"hoverlabel\":{\"align\":\"left\"},\"hovermode\":\"closest\",\"mapbox\":{\"style\":\"light\"},\"paper_bgcolor\":\"white\",\"plot_bgcolor\":\"#E5ECF6\",\"polar\":{\"angularaxis\":{\"gridcolor\":\"white\",\"linecolor\":\"white\",\"ticks\":\"\"},\"bgcolor\":\"#E5ECF6\",\"radialaxis\":{\"gridcolor\":\"white\",\"linecolor\":\"white\",\"ticks\":\"\"}},\"scene\":{\"xaxis\":{\"backgroundcolor\":\"#E5ECF6\",\"gridcolor\":\"white\",\"gridwidth\":2,\"linecolor\":\"white\",\"showbackground\":true,\"ticks\":\"\",\"zerolinecolor\":\"white\"},\"yaxis\":{\"backgroundcolor\":\"#E5ECF6\",\"gridcolor\":\"white\",\"gridwidth\":2,\"linecolor\":\"white\",\"showbackground\":true,\"ticks\":\"\",\"zerolinecolor\":\"white\"},\"zaxis\":{\"backgroundcolor\":\"#E5ECF6\",\"gridcolor\":\"white\",\"gridwidth\":2,\"linecolor\":\"white\",\"showbackground\":true,\"ticks\":\"\",\"zerolinecolor\":\"white\"}},\"shapedefaults\":{\"line\":{\"color\":\"#2a3f5f\"}},\"ternary\":{\"aaxis\":{\"gridcolor\":\"white\",\"linecolor\":\"white\",\"ticks\":\"\"},\"baxis\":{\"gridcolor\":\"white\",\"linecolor\":\"white\",\"ticks\":\"\"},\"bgcolor\":\"#E5ECF6\",\"caxis\":{\"gridcolor\":\"white\",\"linecolor\":\"white\",\"ticks\":\"\"}},\"title\":{\"x\":0.05},\"xaxis\":{\"automargin\":true,\"gridcolor\":\"white\",\"linecolor\":\"white\",\"ticks\":\"\",\"title\":{\"standoff\":15},\"zerolinecolor\":\"white\",\"zerolinewidth\":2},\"yaxis\":{\"automargin\":true,\"gridcolor\":\"white\",\"linecolor\":\"white\",\"ticks\":\"\",\"title\":{\"standoff\":15},\"zerolinecolor\":\"white\",\"zerolinewidth\":2}}},\"title\":{\"text\":\"Time\",\"x\":0.5,\"y\":0.9,\"yanchor\":\"top\"},\"width\":1200},                        {\"responsive\": true}                    ).then(function(){\n",
       "                            \n",
       "var gd = document.getElementById('ab893649-cf6f-4027-8dc7-e0affc69c399');\n",
       "var x = new MutationObserver(function (mutations, observer) {{\n",
       "        var display = window.getComputedStyle(gd).display;\n",
       "        if (!display || display === 'none') {{\n",
       "            console.log([gd, 'removed!']);\n",
       "            Plotly.purge(gd);\n",
       "            observer.disconnect();\n",
       "        }}\n",
       "}});\n",
       "\n",
       "// Listen for the removal of the full notebook cells\n",
       "var notebookContainer = gd.closest('#notebook-container');\n",
       "if (notebookContainer) {{\n",
       "    x.observe(notebookContainer, {childList: true});\n",
       "}}\n",
       "\n",
       "// Listen for the clearing of the current output cell\n",
       "var outputEl = gd.closest('.output');\n",
       "if (outputEl) {{\n",
       "    x.observe(outputEl, {childList: true});\n",
       "}}\n",
       "\n",
       "                        })                };                });            </script>        </div>"
      ]
     },
     "metadata": {},
     "output_type": "display_data"
    }
   ],
   "source": [
    "import plotly.graph_objects as go\n",
    "fig = go.Figure()\n",
    "fig.add_trace(go.Histogram(\n",
    "    x=HotelBookingRuleNotifRQ.Time,\n",
    "    name='GRT130002', \n",
    "    marker_color='#741b47'\n",
    "))\n",
    "fig.update_layout(\n",
    "    title={'text':'Time', \n",
    "           \"y\":0.9,\n",
    "           \"x\":0.5,\n",
    "           \"yanchor\":\"top\"},\n",
    "    width=1200,height=600,\n",
    "    font=dict(\n",
    "    family= \"Courier New, monospace\",\n",
    "    size=16,\n",
    "    color=\"Black\"),\n",
    "    bargap=0.2, \n",
    "    bargroupgap=0.1 \n",
    ")\n",
    "\n",
    "fig.show()"
   ]
  },
  {
   "cell_type": "markdown",
   "id": "09924469",
   "metadata": {},
   "source": [
    "#### Checking null values for hotelCode"
   ]
  },
  {
   "cell_type": "code",
   "execution_count": 99,
   "id": "8628b0eb",
   "metadata": {},
   "outputs": [
    {
     "data": {
      "text/plain": [
       "0"
      ]
     },
     "execution_count": 99,
     "metadata": {},
     "output_type": "execute_result"
    }
   ],
   "source": [
    "HotelBookingRuleNotifRQ.Start.isna().sum()"
   ]
  },
  {
   "cell_type": "code",
   "execution_count": 100,
   "id": "3eecca07",
   "metadata": {},
   "outputs": [
    {
     "data": {
      "application/vnd.plotly.v1+json": {
       "config": {
        "plotlyServerURL": "https://plot.ly"
       },
       "data": [
        {
         "marker": {
          "color": "#741b47"
         },
         "type": "histogram",
         "x": [
          "2021-11-03",
          "2021-11-03",
          "2021-11-03",
          "2021-11-03",
          "2021-11-03",
          "2021-11-03",
          "2021-11-12",
          "2021-11-12",
          "2021-11-12",
          "2021-11-12",
          "2021-11-12",
          "2021-11-12",
          "2021-11-14",
          "2021-11-14",
          "2021-11-14",
          "2021-11-14",
          "2021-11-14",
          "2021-11-14",
          "2021-11-21",
          "2021-11-21",
          "2021-11-21",
          "2021-11-21",
          "2021-11-21",
          "2021-11-21",
          "2021-11-26",
          "2021-11-26",
          "2021-11-26",
          "2021-11-26",
          "2021-11-26",
          "2021-11-26",
          "2021-11-28",
          "2021-11-28",
          "2021-11-28",
          "2021-11-28",
          "2021-11-28",
          "2021-11-28",
          "2021-12-03",
          "2021-12-03",
          "2021-12-03",
          "2021-12-03",
          "2021-12-03",
          "2021-12-03",
          "2021-12-05",
          "2021-12-05",
          "2021-12-05",
          "2021-12-05",
          "2021-12-05",
          "2021-12-05",
          "2021-12-10",
          "2021-12-10",
          "2021-12-10",
          "2021-12-10",
          "2021-12-10",
          "2021-12-10",
          "2021-12-17",
          "2021-12-17",
          "2021-12-17",
          "2021-12-17",
          "2021-12-17",
          "2021-12-17",
          "2021-12-20",
          "2021-12-20",
          "2021-12-20",
          "2021-12-20",
          "2021-12-20",
          "2021-12-20",
          "2021-12-21",
          "2021-12-21",
          "2021-12-21",
          "2021-12-21",
          "2021-12-21",
          "2021-12-21",
          "2021-12-31",
          "2021-12-31",
          "2021-12-31",
          "2021-12-31",
          "2021-12-31",
          "2021-12-31",
          "2022-01-02",
          "2022-01-02",
          "2022-01-02",
          "2022-01-02",
          "2022-01-02",
          "2022-01-02",
          "2022-01-07",
          "2022-01-07",
          "2022-01-07",
          "2022-01-07",
          "2022-01-07",
          "2022-01-07",
          "2022-01-09",
          "2022-01-09",
          "2022-01-09",
          "2022-01-09",
          "2022-01-09",
          "2022-01-09",
          "2022-01-16",
          "2022-01-16",
          "2022-01-16",
          "2022-01-16",
          "2022-01-16",
          "2022-01-16",
          "2022-01-21",
          "2022-01-21",
          "2022-01-21",
          "2022-01-21",
          "2022-01-21",
          "2022-01-21",
          "2022-01-23",
          "2022-01-23",
          "2022-01-23",
          "2022-01-23",
          "2022-01-23",
          "2022-01-23",
          "2022-01-28",
          "2022-01-28",
          "2022-01-28",
          "2022-01-28",
          "2022-01-28",
          "2022-01-28",
          "2022-01-30",
          "2022-01-30",
          "2022-01-30",
          "2022-01-30",
          "2022-01-30",
          "2022-01-30",
          "2022-02-04",
          "2022-02-04",
          "2022-02-04",
          "2022-02-04",
          "2022-02-04",
          "2022-02-04",
          "2022-02-11",
          "2022-02-11",
          "2022-02-11",
          "2022-02-11",
          "2022-02-11",
          "2022-02-11",
          "2022-02-13",
          "2022-02-13",
          "2022-02-13",
          "2022-02-13",
          "2022-02-13",
          "2022-02-13",
          "2022-02-18",
          "2022-02-18",
          "2022-02-18",
          "2022-02-18",
          "2022-02-18",
          "2022-02-18",
          "2022-02-24",
          "2022-02-24",
          "2022-02-24",
          "2022-02-24",
          "2022-02-24",
          "2022-02-24",
          "2022-03-03",
          "2022-03-03",
          "2022-03-03",
          "2022-03-03",
          "2022-03-03",
          "2022-03-03",
          "2022-03-05",
          "2022-03-05",
          "2022-03-05",
          "2022-03-05",
          "2022-03-05",
          "2022-03-05",
          "2022-03-06",
          "2022-03-06",
          "2022-03-06",
          "2022-03-06",
          "2022-03-06",
          "2022-03-06",
          "2022-03-11",
          "2022-03-11",
          "2022-03-11",
          "2022-03-11",
          "2022-03-11",
          "2022-03-11",
          "2022-03-13",
          "2022-03-13",
          "2022-03-13",
          "2022-03-13",
          "2022-03-13",
          "2022-03-13",
          "2022-03-18",
          "2022-03-18",
          "2022-03-18",
          "2022-03-18",
          "2022-03-18",
          "2022-03-18",
          "2022-03-20",
          "2022-03-20",
          "2022-03-20",
          "2022-03-20",
          "2022-03-20",
          "2022-03-20",
          "2022-03-25",
          "2022-03-25",
          "2022-03-25",
          "2022-03-25",
          "2022-03-25",
          "2022-03-25",
          "2022-03-27",
          "2022-03-27",
          "2022-03-27",
          "2022-03-27",
          "2022-03-27",
          "2022-03-27",
          "2021-11-06",
          "2021-11-19",
          "2021-11-19",
          "2021-11-19",
          "2021-11-19",
          "2021-11-19",
          "2021-11-19",
          "2021-12-12",
          "2021-12-12",
          "2021-12-12",
          "2021-12-12",
          "2021-12-12",
          "2021-12-12",
          "2022-01-14",
          "2022-01-14",
          "2022-01-14",
          "2022-01-14",
          "2022-01-14",
          "2022-01-14",
          "2022-02-06",
          "2022-02-06",
          "2022-02-06",
          "2022-02-06",
          "2022-02-06",
          "2022-02-06",
          "2022-03-07",
          "2022-03-07",
          "2022-03-07",
          "2022-03-07"
         ]
        }
       ],
       "layout": {
        "bargap": 0.2,
        "bargroupgap": 0.1,
        "font": {
         "color": "Black",
         "family": "Courier New, monospace",
         "size": 16
        },
        "height": 600,
        "template": {
         "data": {
          "bar": [
           {
            "error_x": {
             "color": "#2a3f5f"
            },
            "error_y": {
             "color": "#2a3f5f"
            },
            "marker": {
             "line": {
              "color": "#E5ECF6",
              "width": 0.5
             },
             "pattern": {
              "fillmode": "overlay",
              "size": 10,
              "solidity": 0.2
             }
            },
            "type": "bar"
           }
          ],
          "barpolar": [
           {
            "marker": {
             "line": {
              "color": "#E5ECF6",
              "width": 0.5
             },
             "pattern": {
              "fillmode": "overlay",
              "size": 10,
              "solidity": 0.2
             }
            },
            "type": "barpolar"
           }
          ],
          "carpet": [
           {
            "aaxis": {
             "endlinecolor": "#2a3f5f",
             "gridcolor": "white",
             "linecolor": "white",
             "minorgridcolor": "white",
             "startlinecolor": "#2a3f5f"
            },
            "baxis": {
             "endlinecolor": "#2a3f5f",
             "gridcolor": "white",
             "linecolor": "white",
             "minorgridcolor": "white",
             "startlinecolor": "#2a3f5f"
            },
            "type": "carpet"
           }
          ],
          "choropleth": [
           {
            "colorbar": {
             "outlinewidth": 0,
             "ticks": ""
            },
            "type": "choropleth"
           }
          ],
          "contour": [
           {
            "colorbar": {
             "outlinewidth": 0,
             "ticks": ""
            },
            "colorscale": [
             [
              0,
              "#0d0887"
             ],
             [
              0.1111111111111111,
              "#46039f"
             ],
             [
              0.2222222222222222,
              "#7201a8"
             ],
             [
              0.3333333333333333,
              "#9c179e"
             ],
             [
              0.4444444444444444,
              "#bd3786"
             ],
             [
              0.5555555555555556,
              "#d8576b"
             ],
             [
              0.6666666666666666,
              "#ed7953"
             ],
             [
              0.7777777777777778,
              "#fb9f3a"
             ],
             [
              0.8888888888888888,
              "#fdca26"
             ],
             [
              1,
              "#f0f921"
             ]
            ],
            "type": "contour"
           }
          ],
          "contourcarpet": [
           {
            "colorbar": {
             "outlinewidth": 0,
             "ticks": ""
            },
            "type": "contourcarpet"
           }
          ],
          "heatmap": [
           {
            "colorbar": {
             "outlinewidth": 0,
             "ticks": ""
            },
            "colorscale": [
             [
              0,
              "#0d0887"
             ],
             [
              0.1111111111111111,
              "#46039f"
             ],
             [
              0.2222222222222222,
              "#7201a8"
             ],
             [
              0.3333333333333333,
              "#9c179e"
             ],
             [
              0.4444444444444444,
              "#bd3786"
             ],
             [
              0.5555555555555556,
              "#d8576b"
             ],
             [
              0.6666666666666666,
              "#ed7953"
             ],
             [
              0.7777777777777778,
              "#fb9f3a"
             ],
             [
              0.8888888888888888,
              "#fdca26"
             ],
             [
              1,
              "#f0f921"
             ]
            ],
            "type": "heatmap"
           }
          ],
          "heatmapgl": [
           {
            "colorbar": {
             "outlinewidth": 0,
             "ticks": ""
            },
            "colorscale": [
             [
              0,
              "#0d0887"
             ],
             [
              0.1111111111111111,
              "#46039f"
             ],
             [
              0.2222222222222222,
              "#7201a8"
             ],
             [
              0.3333333333333333,
              "#9c179e"
             ],
             [
              0.4444444444444444,
              "#bd3786"
             ],
             [
              0.5555555555555556,
              "#d8576b"
             ],
             [
              0.6666666666666666,
              "#ed7953"
             ],
             [
              0.7777777777777778,
              "#fb9f3a"
             ],
             [
              0.8888888888888888,
              "#fdca26"
             ],
             [
              1,
              "#f0f921"
             ]
            ],
            "type": "heatmapgl"
           }
          ],
          "histogram": [
           {
            "marker": {
             "pattern": {
              "fillmode": "overlay",
              "size": 10,
              "solidity": 0.2
             }
            },
            "type": "histogram"
           }
          ],
          "histogram2d": [
           {
            "colorbar": {
             "outlinewidth": 0,
             "ticks": ""
            },
            "colorscale": [
             [
              0,
              "#0d0887"
             ],
             [
              0.1111111111111111,
              "#46039f"
             ],
             [
              0.2222222222222222,
              "#7201a8"
             ],
             [
              0.3333333333333333,
              "#9c179e"
             ],
             [
              0.4444444444444444,
              "#bd3786"
             ],
             [
              0.5555555555555556,
              "#d8576b"
             ],
             [
              0.6666666666666666,
              "#ed7953"
             ],
             [
              0.7777777777777778,
              "#fb9f3a"
             ],
             [
              0.8888888888888888,
              "#fdca26"
             ],
             [
              1,
              "#f0f921"
             ]
            ],
            "type": "histogram2d"
           }
          ],
          "histogram2dcontour": [
           {
            "colorbar": {
             "outlinewidth": 0,
             "ticks": ""
            },
            "colorscale": [
             [
              0,
              "#0d0887"
             ],
             [
              0.1111111111111111,
              "#46039f"
             ],
             [
              0.2222222222222222,
              "#7201a8"
             ],
             [
              0.3333333333333333,
              "#9c179e"
             ],
             [
              0.4444444444444444,
              "#bd3786"
             ],
             [
              0.5555555555555556,
              "#d8576b"
             ],
             [
              0.6666666666666666,
              "#ed7953"
             ],
             [
              0.7777777777777778,
              "#fb9f3a"
             ],
             [
              0.8888888888888888,
              "#fdca26"
             ],
             [
              1,
              "#f0f921"
             ]
            ],
            "type": "histogram2dcontour"
           }
          ],
          "mesh3d": [
           {
            "colorbar": {
             "outlinewidth": 0,
             "ticks": ""
            },
            "type": "mesh3d"
           }
          ],
          "parcoords": [
           {
            "line": {
             "colorbar": {
              "outlinewidth": 0,
              "ticks": ""
             }
            },
            "type": "parcoords"
           }
          ],
          "pie": [
           {
            "automargin": true,
            "type": "pie"
           }
          ],
          "scatter": [
           {
            "marker": {
             "colorbar": {
              "outlinewidth": 0,
              "ticks": ""
             }
            },
            "type": "scatter"
           }
          ],
          "scatter3d": [
           {
            "line": {
             "colorbar": {
              "outlinewidth": 0,
              "ticks": ""
             }
            },
            "marker": {
             "colorbar": {
              "outlinewidth": 0,
              "ticks": ""
             }
            },
            "type": "scatter3d"
           }
          ],
          "scattercarpet": [
           {
            "marker": {
             "colorbar": {
              "outlinewidth": 0,
              "ticks": ""
             }
            },
            "type": "scattercarpet"
           }
          ],
          "scattergeo": [
           {
            "marker": {
             "colorbar": {
              "outlinewidth": 0,
              "ticks": ""
             }
            },
            "type": "scattergeo"
           }
          ],
          "scattergl": [
           {
            "marker": {
             "colorbar": {
              "outlinewidth": 0,
              "ticks": ""
             }
            },
            "type": "scattergl"
           }
          ],
          "scattermapbox": [
           {
            "marker": {
             "colorbar": {
              "outlinewidth": 0,
              "ticks": ""
             }
            },
            "type": "scattermapbox"
           }
          ],
          "scatterpolar": [
           {
            "marker": {
             "colorbar": {
              "outlinewidth": 0,
              "ticks": ""
             }
            },
            "type": "scatterpolar"
           }
          ],
          "scatterpolargl": [
           {
            "marker": {
             "colorbar": {
              "outlinewidth": 0,
              "ticks": ""
             }
            },
            "type": "scatterpolargl"
           }
          ],
          "scatterternary": [
           {
            "marker": {
             "colorbar": {
              "outlinewidth": 0,
              "ticks": ""
             }
            },
            "type": "scatterternary"
           }
          ],
          "surface": [
           {
            "colorbar": {
             "outlinewidth": 0,
             "ticks": ""
            },
            "colorscale": [
             [
              0,
              "#0d0887"
             ],
             [
              0.1111111111111111,
              "#46039f"
             ],
             [
              0.2222222222222222,
              "#7201a8"
             ],
             [
              0.3333333333333333,
              "#9c179e"
             ],
             [
              0.4444444444444444,
              "#bd3786"
             ],
             [
              0.5555555555555556,
              "#d8576b"
             ],
             [
              0.6666666666666666,
              "#ed7953"
             ],
             [
              0.7777777777777778,
              "#fb9f3a"
             ],
             [
              0.8888888888888888,
              "#fdca26"
             ],
             [
              1,
              "#f0f921"
             ]
            ],
            "type": "surface"
           }
          ],
          "table": [
           {
            "cells": {
             "fill": {
              "color": "#EBF0F8"
             },
             "line": {
              "color": "white"
             }
            },
            "header": {
             "fill": {
              "color": "#C8D4E3"
             },
             "line": {
              "color": "white"
             }
            },
            "type": "table"
           }
          ]
         },
         "layout": {
          "annotationdefaults": {
           "arrowcolor": "#2a3f5f",
           "arrowhead": 0,
           "arrowwidth": 1
          },
          "autotypenumbers": "strict",
          "coloraxis": {
           "colorbar": {
            "outlinewidth": 0,
            "ticks": ""
           }
          },
          "colorscale": {
           "diverging": [
            [
             0,
             "#8e0152"
            ],
            [
             0.1,
             "#c51b7d"
            ],
            [
             0.2,
             "#de77ae"
            ],
            [
             0.3,
             "#f1b6da"
            ],
            [
             0.4,
             "#fde0ef"
            ],
            [
             0.5,
             "#f7f7f7"
            ],
            [
             0.6,
             "#e6f5d0"
            ],
            [
             0.7,
             "#b8e186"
            ],
            [
             0.8,
             "#7fbc41"
            ],
            [
             0.9,
             "#4d9221"
            ],
            [
             1,
             "#276419"
            ]
           ],
           "sequential": [
            [
             0,
             "#0d0887"
            ],
            [
             0.1111111111111111,
             "#46039f"
            ],
            [
             0.2222222222222222,
             "#7201a8"
            ],
            [
             0.3333333333333333,
             "#9c179e"
            ],
            [
             0.4444444444444444,
             "#bd3786"
            ],
            [
             0.5555555555555556,
             "#d8576b"
            ],
            [
             0.6666666666666666,
             "#ed7953"
            ],
            [
             0.7777777777777778,
             "#fb9f3a"
            ],
            [
             0.8888888888888888,
             "#fdca26"
            ],
            [
             1,
             "#f0f921"
            ]
           ],
           "sequentialminus": [
            [
             0,
             "#0d0887"
            ],
            [
             0.1111111111111111,
             "#46039f"
            ],
            [
             0.2222222222222222,
             "#7201a8"
            ],
            [
             0.3333333333333333,
             "#9c179e"
            ],
            [
             0.4444444444444444,
             "#bd3786"
            ],
            [
             0.5555555555555556,
             "#d8576b"
            ],
            [
             0.6666666666666666,
             "#ed7953"
            ],
            [
             0.7777777777777778,
             "#fb9f3a"
            ],
            [
             0.8888888888888888,
             "#fdca26"
            ],
            [
             1,
             "#f0f921"
            ]
           ]
          },
          "colorway": [
           "#636efa",
           "#EF553B",
           "#00cc96",
           "#ab63fa",
           "#FFA15A",
           "#19d3f3",
           "#FF6692",
           "#B6E880",
           "#FF97FF",
           "#FECB52"
          ],
          "font": {
           "color": "#2a3f5f"
          },
          "geo": {
           "bgcolor": "white",
           "lakecolor": "white",
           "landcolor": "#E5ECF6",
           "showlakes": true,
           "showland": true,
           "subunitcolor": "white"
          },
          "hoverlabel": {
           "align": "left"
          },
          "hovermode": "closest",
          "mapbox": {
           "style": "light"
          },
          "paper_bgcolor": "white",
          "plot_bgcolor": "#E5ECF6",
          "polar": {
           "angularaxis": {
            "gridcolor": "white",
            "linecolor": "white",
            "ticks": ""
           },
           "bgcolor": "#E5ECF6",
           "radialaxis": {
            "gridcolor": "white",
            "linecolor": "white",
            "ticks": ""
           }
          },
          "scene": {
           "xaxis": {
            "backgroundcolor": "#E5ECF6",
            "gridcolor": "white",
            "gridwidth": 2,
            "linecolor": "white",
            "showbackground": true,
            "ticks": "",
            "zerolinecolor": "white"
           },
           "yaxis": {
            "backgroundcolor": "#E5ECF6",
            "gridcolor": "white",
            "gridwidth": 2,
            "linecolor": "white",
            "showbackground": true,
            "ticks": "",
            "zerolinecolor": "white"
           },
           "zaxis": {
            "backgroundcolor": "#E5ECF6",
            "gridcolor": "white",
            "gridwidth": 2,
            "linecolor": "white",
            "showbackground": true,
            "ticks": "",
            "zerolinecolor": "white"
           }
          },
          "shapedefaults": {
           "line": {
            "color": "#2a3f5f"
           }
          },
          "ternary": {
           "aaxis": {
            "gridcolor": "white",
            "linecolor": "white",
            "ticks": ""
           },
           "baxis": {
            "gridcolor": "white",
            "linecolor": "white",
            "ticks": ""
           },
           "bgcolor": "#E5ECF6",
           "caxis": {
            "gridcolor": "white",
            "linecolor": "white",
            "ticks": ""
           }
          },
          "title": {
           "x": 0.05
          },
          "xaxis": {
           "automargin": true,
           "gridcolor": "white",
           "linecolor": "white",
           "ticks": "",
           "title": {
            "standoff": 15
           },
           "zerolinecolor": "white",
           "zerolinewidth": 2
          },
          "yaxis": {
           "automargin": true,
           "gridcolor": "white",
           "linecolor": "white",
           "ticks": "",
           "title": {
            "standoff": 15
           },
           "zerolinecolor": "white",
           "zerolinewidth": 2
          }
         }
        },
        "title": {
         "text": "Start",
         "x": 0.5,
         "xanchor": "center",
         "y": 0.9,
         "yanchor": "top"
        },
        "width": 1200
       }
      },
      "text/html": [
       "<div>                            <div id=\"ec5fd85f-348e-4e9b-867d-82ddd8964450\" class=\"plotly-graph-div\" style=\"height:600px; width:1200px;\"></div>            <script type=\"text/javascript\">                require([\"plotly\"], function(Plotly) {                    window.PLOTLYENV=window.PLOTLYENV || {};                                    if (document.getElementById(\"ec5fd85f-348e-4e9b-867d-82ddd8964450\")) {                    Plotly.newPlot(                        \"ec5fd85f-348e-4e9b-867d-82ddd8964450\",                        [{\"marker\":{\"color\":\"#741b47\"},\"type\":\"histogram\",\"x\":[\"2021-11-03\",\"2021-11-03\",\"2021-11-03\",\"2021-11-03\",\"2021-11-03\",\"2021-11-03\",\"2021-11-12\",\"2021-11-12\",\"2021-11-12\",\"2021-11-12\",\"2021-11-12\",\"2021-11-12\",\"2021-11-14\",\"2021-11-14\",\"2021-11-14\",\"2021-11-14\",\"2021-11-14\",\"2021-11-14\",\"2021-11-21\",\"2021-11-21\",\"2021-11-21\",\"2021-11-21\",\"2021-11-21\",\"2021-11-21\",\"2021-11-26\",\"2021-11-26\",\"2021-11-26\",\"2021-11-26\",\"2021-11-26\",\"2021-11-26\",\"2021-11-28\",\"2021-11-28\",\"2021-11-28\",\"2021-11-28\",\"2021-11-28\",\"2021-11-28\",\"2021-12-03\",\"2021-12-03\",\"2021-12-03\",\"2021-12-03\",\"2021-12-03\",\"2021-12-03\",\"2021-12-05\",\"2021-12-05\",\"2021-12-05\",\"2021-12-05\",\"2021-12-05\",\"2021-12-05\",\"2021-12-10\",\"2021-12-10\",\"2021-12-10\",\"2021-12-10\",\"2021-12-10\",\"2021-12-10\",\"2021-12-17\",\"2021-12-17\",\"2021-12-17\",\"2021-12-17\",\"2021-12-17\",\"2021-12-17\",\"2021-12-20\",\"2021-12-20\",\"2021-12-20\",\"2021-12-20\",\"2021-12-20\",\"2021-12-20\",\"2021-12-21\",\"2021-12-21\",\"2021-12-21\",\"2021-12-21\",\"2021-12-21\",\"2021-12-21\",\"2021-12-31\",\"2021-12-31\",\"2021-12-31\",\"2021-12-31\",\"2021-12-31\",\"2021-12-31\",\"2022-01-02\",\"2022-01-02\",\"2022-01-02\",\"2022-01-02\",\"2022-01-02\",\"2022-01-02\",\"2022-01-07\",\"2022-01-07\",\"2022-01-07\",\"2022-01-07\",\"2022-01-07\",\"2022-01-07\",\"2022-01-09\",\"2022-01-09\",\"2022-01-09\",\"2022-01-09\",\"2022-01-09\",\"2022-01-09\",\"2022-01-16\",\"2022-01-16\",\"2022-01-16\",\"2022-01-16\",\"2022-01-16\",\"2022-01-16\",\"2022-01-21\",\"2022-01-21\",\"2022-01-21\",\"2022-01-21\",\"2022-01-21\",\"2022-01-21\",\"2022-01-23\",\"2022-01-23\",\"2022-01-23\",\"2022-01-23\",\"2022-01-23\",\"2022-01-23\",\"2022-01-28\",\"2022-01-28\",\"2022-01-28\",\"2022-01-28\",\"2022-01-28\",\"2022-01-28\",\"2022-01-30\",\"2022-01-30\",\"2022-01-30\",\"2022-01-30\",\"2022-01-30\",\"2022-01-30\",\"2022-02-04\",\"2022-02-04\",\"2022-02-04\",\"2022-02-04\",\"2022-02-04\",\"2022-02-04\",\"2022-02-11\",\"2022-02-11\",\"2022-02-11\",\"2022-02-11\",\"2022-02-11\",\"2022-02-11\",\"2022-02-13\",\"2022-02-13\",\"2022-02-13\",\"2022-02-13\",\"2022-02-13\",\"2022-02-13\",\"2022-02-18\",\"2022-02-18\",\"2022-02-18\",\"2022-02-18\",\"2022-02-18\",\"2022-02-18\",\"2022-02-24\",\"2022-02-24\",\"2022-02-24\",\"2022-02-24\",\"2022-02-24\",\"2022-02-24\",\"2022-03-03\",\"2022-03-03\",\"2022-03-03\",\"2022-03-03\",\"2022-03-03\",\"2022-03-03\",\"2022-03-05\",\"2022-03-05\",\"2022-03-05\",\"2022-03-05\",\"2022-03-05\",\"2022-03-05\",\"2022-03-06\",\"2022-03-06\",\"2022-03-06\",\"2022-03-06\",\"2022-03-06\",\"2022-03-06\",\"2022-03-11\",\"2022-03-11\",\"2022-03-11\",\"2022-03-11\",\"2022-03-11\",\"2022-03-11\",\"2022-03-13\",\"2022-03-13\",\"2022-03-13\",\"2022-03-13\",\"2022-03-13\",\"2022-03-13\",\"2022-03-18\",\"2022-03-18\",\"2022-03-18\",\"2022-03-18\",\"2022-03-18\",\"2022-03-18\",\"2022-03-20\",\"2022-03-20\",\"2022-03-20\",\"2022-03-20\",\"2022-03-20\",\"2022-03-20\",\"2022-03-25\",\"2022-03-25\",\"2022-03-25\",\"2022-03-25\",\"2022-03-25\",\"2022-03-25\",\"2022-03-27\",\"2022-03-27\",\"2022-03-27\",\"2022-03-27\",\"2022-03-27\",\"2022-03-27\",\"2021-11-06\",\"2021-11-19\",\"2021-11-19\",\"2021-11-19\",\"2021-11-19\",\"2021-11-19\",\"2021-11-19\",\"2021-12-12\",\"2021-12-12\",\"2021-12-12\",\"2021-12-12\",\"2021-12-12\",\"2021-12-12\",\"2022-01-14\",\"2022-01-14\",\"2022-01-14\",\"2022-01-14\",\"2022-01-14\",\"2022-01-14\",\"2022-02-06\",\"2022-02-06\",\"2022-02-06\",\"2022-02-06\",\"2022-02-06\",\"2022-02-06\",\"2022-03-07\",\"2022-03-07\",\"2022-03-07\",\"2022-03-07\"]}],                        {\"bargap\":0.2,\"bargroupgap\":0.1,\"font\":{\"color\":\"Black\",\"family\":\"Courier New, monospace\",\"size\":16},\"height\":600,\"template\":{\"data\":{\"bar\":[{\"error_x\":{\"color\":\"#2a3f5f\"},\"error_y\":{\"color\":\"#2a3f5f\"},\"marker\":{\"line\":{\"color\":\"#E5ECF6\",\"width\":0.5},\"pattern\":{\"fillmode\":\"overlay\",\"size\":10,\"solidity\":0.2}},\"type\":\"bar\"}],\"barpolar\":[{\"marker\":{\"line\":{\"color\":\"#E5ECF6\",\"width\":0.5},\"pattern\":{\"fillmode\":\"overlay\",\"size\":10,\"solidity\":0.2}},\"type\":\"barpolar\"}],\"carpet\":[{\"aaxis\":{\"endlinecolor\":\"#2a3f5f\",\"gridcolor\":\"white\",\"linecolor\":\"white\",\"minorgridcolor\":\"white\",\"startlinecolor\":\"#2a3f5f\"},\"baxis\":{\"endlinecolor\":\"#2a3f5f\",\"gridcolor\":\"white\",\"linecolor\":\"white\",\"minorgridcolor\":\"white\",\"startlinecolor\":\"#2a3f5f\"},\"type\":\"carpet\"}],\"choropleth\":[{\"colorbar\":{\"outlinewidth\":0,\"ticks\":\"\"},\"type\":\"choropleth\"}],\"contour\":[{\"colorbar\":{\"outlinewidth\":0,\"ticks\":\"\"},\"colorscale\":[[0.0,\"#0d0887\"],[0.1111111111111111,\"#46039f\"],[0.2222222222222222,\"#7201a8\"],[0.3333333333333333,\"#9c179e\"],[0.4444444444444444,\"#bd3786\"],[0.5555555555555556,\"#d8576b\"],[0.6666666666666666,\"#ed7953\"],[0.7777777777777778,\"#fb9f3a\"],[0.8888888888888888,\"#fdca26\"],[1.0,\"#f0f921\"]],\"type\":\"contour\"}],\"contourcarpet\":[{\"colorbar\":{\"outlinewidth\":0,\"ticks\":\"\"},\"type\":\"contourcarpet\"}],\"heatmap\":[{\"colorbar\":{\"outlinewidth\":0,\"ticks\":\"\"},\"colorscale\":[[0.0,\"#0d0887\"],[0.1111111111111111,\"#46039f\"],[0.2222222222222222,\"#7201a8\"],[0.3333333333333333,\"#9c179e\"],[0.4444444444444444,\"#bd3786\"],[0.5555555555555556,\"#d8576b\"],[0.6666666666666666,\"#ed7953\"],[0.7777777777777778,\"#fb9f3a\"],[0.8888888888888888,\"#fdca26\"],[1.0,\"#f0f921\"]],\"type\":\"heatmap\"}],\"heatmapgl\":[{\"colorbar\":{\"outlinewidth\":0,\"ticks\":\"\"},\"colorscale\":[[0.0,\"#0d0887\"],[0.1111111111111111,\"#46039f\"],[0.2222222222222222,\"#7201a8\"],[0.3333333333333333,\"#9c179e\"],[0.4444444444444444,\"#bd3786\"],[0.5555555555555556,\"#d8576b\"],[0.6666666666666666,\"#ed7953\"],[0.7777777777777778,\"#fb9f3a\"],[0.8888888888888888,\"#fdca26\"],[1.0,\"#f0f921\"]],\"type\":\"heatmapgl\"}],\"histogram\":[{\"marker\":{\"pattern\":{\"fillmode\":\"overlay\",\"size\":10,\"solidity\":0.2}},\"type\":\"histogram\"}],\"histogram2d\":[{\"colorbar\":{\"outlinewidth\":0,\"ticks\":\"\"},\"colorscale\":[[0.0,\"#0d0887\"],[0.1111111111111111,\"#46039f\"],[0.2222222222222222,\"#7201a8\"],[0.3333333333333333,\"#9c179e\"],[0.4444444444444444,\"#bd3786\"],[0.5555555555555556,\"#d8576b\"],[0.6666666666666666,\"#ed7953\"],[0.7777777777777778,\"#fb9f3a\"],[0.8888888888888888,\"#fdca26\"],[1.0,\"#f0f921\"]],\"type\":\"histogram2d\"}],\"histogram2dcontour\":[{\"colorbar\":{\"outlinewidth\":0,\"ticks\":\"\"},\"colorscale\":[[0.0,\"#0d0887\"],[0.1111111111111111,\"#46039f\"],[0.2222222222222222,\"#7201a8\"],[0.3333333333333333,\"#9c179e\"],[0.4444444444444444,\"#bd3786\"],[0.5555555555555556,\"#d8576b\"],[0.6666666666666666,\"#ed7953\"],[0.7777777777777778,\"#fb9f3a\"],[0.8888888888888888,\"#fdca26\"],[1.0,\"#f0f921\"]],\"type\":\"histogram2dcontour\"}],\"mesh3d\":[{\"colorbar\":{\"outlinewidth\":0,\"ticks\":\"\"},\"type\":\"mesh3d\"}],\"parcoords\":[{\"line\":{\"colorbar\":{\"outlinewidth\":0,\"ticks\":\"\"}},\"type\":\"parcoords\"}],\"pie\":[{\"automargin\":true,\"type\":\"pie\"}],\"scatter\":[{\"marker\":{\"colorbar\":{\"outlinewidth\":0,\"ticks\":\"\"}},\"type\":\"scatter\"}],\"scatter3d\":[{\"line\":{\"colorbar\":{\"outlinewidth\":0,\"ticks\":\"\"}},\"marker\":{\"colorbar\":{\"outlinewidth\":0,\"ticks\":\"\"}},\"type\":\"scatter3d\"}],\"scattercarpet\":[{\"marker\":{\"colorbar\":{\"outlinewidth\":0,\"ticks\":\"\"}},\"type\":\"scattercarpet\"}],\"scattergeo\":[{\"marker\":{\"colorbar\":{\"outlinewidth\":0,\"ticks\":\"\"}},\"type\":\"scattergeo\"}],\"scattergl\":[{\"marker\":{\"colorbar\":{\"outlinewidth\":0,\"ticks\":\"\"}},\"type\":\"scattergl\"}],\"scattermapbox\":[{\"marker\":{\"colorbar\":{\"outlinewidth\":0,\"ticks\":\"\"}},\"type\":\"scattermapbox\"}],\"scatterpolar\":[{\"marker\":{\"colorbar\":{\"outlinewidth\":0,\"ticks\":\"\"}},\"type\":\"scatterpolar\"}],\"scatterpolargl\":[{\"marker\":{\"colorbar\":{\"outlinewidth\":0,\"ticks\":\"\"}},\"type\":\"scatterpolargl\"}],\"scatterternary\":[{\"marker\":{\"colorbar\":{\"outlinewidth\":0,\"ticks\":\"\"}},\"type\":\"scatterternary\"}],\"surface\":[{\"colorbar\":{\"outlinewidth\":0,\"ticks\":\"\"},\"colorscale\":[[0.0,\"#0d0887\"],[0.1111111111111111,\"#46039f\"],[0.2222222222222222,\"#7201a8\"],[0.3333333333333333,\"#9c179e\"],[0.4444444444444444,\"#bd3786\"],[0.5555555555555556,\"#d8576b\"],[0.6666666666666666,\"#ed7953\"],[0.7777777777777778,\"#fb9f3a\"],[0.8888888888888888,\"#fdca26\"],[1.0,\"#f0f921\"]],\"type\":\"surface\"}],\"table\":[{\"cells\":{\"fill\":{\"color\":\"#EBF0F8\"},\"line\":{\"color\":\"white\"}},\"header\":{\"fill\":{\"color\":\"#C8D4E3\"},\"line\":{\"color\":\"white\"}},\"type\":\"table\"}]},\"layout\":{\"annotationdefaults\":{\"arrowcolor\":\"#2a3f5f\",\"arrowhead\":0,\"arrowwidth\":1},\"autotypenumbers\":\"strict\",\"coloraxis\":{\"colorbar\":{\"outlinewidth\":0,\"ticks\":\"\"}},\"colorscale\":{\"diverging\":[[0,\"#8e0152\"],[0.1,\"#c51b7d\"],[0.2,\"#de77ae\"],[0.3,\"#f1b6da\"],[0.4,\"#fde0ef\"],[0.5,\"#f7f7f7\"],[0.6,\"#e6f5d0\"],[0.7,\"#b8e186\"],[0.8,\"#7fbc41\"],[0.9,\"#4d9221\"],[1,\"#276419\"]],\"sequential\":[[0.0,\"#0d0887\"],[0.1111111111111111,\"#46039f\"],[0.2222222222222222,\"#7201a8\"],[0.3333333333333333,\"#9c179e\"],[0.4444444444444444,\"#bd3786\"],[0.5555555555555556,\"#d8576b\"],[0.6666666666666666,\"#ed7953\"],[0.7777777777777778,\"#fb9f3a\"],[0.8888888888888888,\"#fdca26\"],[1.0,\"#f0f921\"]],\"sequentialminus\":[[0.0,\"#0d0887\"],[0.1111111111111111,\"#46039f\"],[0.2222222222222222,\"#7201a8\"],[0.3333333333333333,\"#9c179e\"],[0.4444444444444444,\"#bd3786\"],[0.5555555555555556,\"#d8576b\"],[0.6666666666666666,\"#ed7953\"],[0.7777777777777778,\"#fb9f3a\"],[0.8888888888888888,\"#fdca26\"],[1.0,\"#f0f921\"]]},\"colorway\":[\"#636efa\",\"#EF553B\",\"#00cc96\",\"#ab63fa\",\"#FFA15A\",\"#19d3f3\",\"#FF6692\",\"#B6E880\",\"#FF97FF\",\"#FECB52\"],\"font\":{\"color\":\"#2a3f5f\"},\"geo\":{\"bgcolor\":\"white\",\"lakecolor\":\"white\",\"landcolor\":\"#E5ECF6\",\"showlakes\":true,\"showland\":true,\"subunitcolor\":\"white\"},\"hoverlabel\":{\"align\":\"left\"},\"hovermode\":\"closest\",\"mapbox\":{\"style\":\"light\"},\"paper_bgcolor\":\"white\",\"plot_bgcolor\":\"#E5ECF6\",\"polar\":{\"angularaxis\":{\"gridcolor\":\"white\",\"linecolor\":\"white\",\"ticks\":\"\"},\"bgcolor\":\"#E5ECF6\",\"radialaxis\":{\"gridcolor\":\"white\",\"linecolor\":\"white\",\"ticks\":\"\"}},\"scene\":{\"xaxis\":{\"backgroundcolor\":\"#E5ECF6\",\"gridcolor\":\"white\",\"gridwidth\":2,\"linecolor\":\"white\",\"showbackground\":true,\"ticks\":\"\",\"zerolinecolor\":\"white\"},\"yaxis\":{\"backgroundcolor\":\"#E5ECF6\",\"gridcolor\":\"white\",\"gridwidth\":2,\"linecolor\":\"white\",\"showbackground\":true,\"ticks\":\"\",\"zerolinecolor\":\"white\"},\"zaxis\":{\"backgroundcolor\":\"#E5ECF6\",\"gridcolor\":\"white\",\"gridwidth\":2,\"linecolor\":\"white\",\"showbackground\":true,\"ticks\":\"\",\"zerolinecolor\":\"white\"}},\"shapedefaults\":{\"line\":{\"color\":\"#2a3f5f\"}},\"ternary\":{\"aaxis\":{\"gridcolor\":\"white\",\"linecolor\":\"white\",\"ticks\":\"\"},\"baxis\":{\"gridcolor\":\"white\",\"linecolor\":\"white\",\"ticks\":\"\"},\"bgcolor\":\"#E5ECF6\",\"caxis\":{\"gridcolor\":\"white\",\"linecolor\":\"white\",\"ticks\":\"\"}},\"title\":{\"x\":0.05},\"xaxis\":{\"automargin\":true,\"gridcolor\":\"white\",\"linecolor\":\"white\",\"ticks\":\"\",\"title\":{\"standoff\":15},\"zerolinecolor\":\"white\",\"zerolinewidth\":2},\"yaxis\":{\"automargin\":true,\"gridcolor\":\"white\",\"linecolor\":\"white\",\"ticks\":\"\",\"title\":{\"standoff\":15},\"zerolinecolor\":\"white\",\"zerolinewidth\":2}}},\"title\":{\"text\":\"Start\",\"x\":0.5,\"xanchor\":\"center\",\"y\":0.9,\"yanchor\":\"top\"},\"width\":1200},                        {\"responsive\": true}                    ).then(function(){\n",
       "                            \n",
       "var gd = document.getElementById('ec5fd85f-348e-4e9b-867d-82ddd8964450');\n",
       "var x = new MutationObserver(function (mutations, observer) {{\n",
       "        var display = window.getComputedStyle(gd).display;\n",
       "        if (!display || display === 'none') {{\n",
       "            console.log([gd, 'removed!']);\n",
       "            Plotly.purge(gd);\n",
       "            observer.disconnect();\n",
       "        }}\n",
       "}});\n",
       "\n",
       "// Listen for the removal of the full notebook cells\n",
       "var notebookContainer = gd.closest('#notebook-container');\n",
       "if (notebookContainer) {{\n",
       "    x.observe(notebookContainer, {childList: true});\n",
       "}}\n",
       "\n",
       "// Listen for the clearing of the current output cell\n",
       "var outputEl = gd.closest('.output');\n",
       "if (outputEl) {{\n",
       "    x.observe(outputEl, {childList: true});\n",
       "}}\n",
       "\n",
       "                        })                };                });            </script>        </div>"
      ]
     },
     "metadata": {},
     "output_type": "display_data"
    }
   ],
   "source": [
    "fig = go.Figure()\n",
    "fig.add_trace(go.Histogram(\n",
    "    x=HotelBookingRuleNotifRQ.Start,\n",
    "    marker_color='#741b47'\n",
    "))\n",
    "fig.update_layout(\n",
    "    title={'text':'Start',\n",
    "           \"y\":0.9,\n",
    "           \"x\":0.5,\n",
    "           \"xanchor\":\"center\",\n",
    "           \"yanchor\":\"top\"},\n",
    "    width=1200,height=600,\n",
    "    font=dict(\n",
    "    family= \"Courier New, monospace\",\n",
    "    size=16,\n",
    "    color=\"Black\"),\n",
    "    bargap=0.2, \n",
    "    bargroupgap=0.1 \n",
    ")\n",
    "\n",
    "fig.show()"
   ]
  },
  {
   "cell_type": "markdown",
   "id": "63ef973a",
   "metadata": {},
   "source": [
    "#### Checking null values for hotelCode"
   ]
  },
  {
   "cell_type": "code",
   "execution_count": 101,
   "id": "2f176eff",
   "metadata": {},
   "outputs": [
    {
     "data": {
      "text/plain": [
       "0"
      ]
     },
     "execution_count": 101,
     "metadata": {},
     "output_type": "execute_result"
    }
   ],
   "source": [
    "HotelBookingRuleNotifRQ.End.isna().sum()"
   ]
  },
  {
   "cell_type": "code",
   "execution_count": 102,
   "id": "91bc04c4",
   "metadata": {},
   "outputs": [
    {
     "data": {
      "application/vnd.plotly.v1+json": {
       "config": {
        "plotlyServerURL": "https://plot.ly"
       },
       "data": [
        {
         "marker": {
          "color": "#741b47"
         },
         "type": "histogram",
         "x": [
          "2021-11-11",
          "2021-11-11",
          "2021-11-11",
          "2021-11-11",
          "2021-11-11",
          "2021-11-11",
          "2021-11-13",
          "2021-11-13",
          "2021-11-13",
          "2021-11-13",
          "2021-11-13",
          "2021-11-13",
          "2021-11-18",
          "2021-11-18",
          "2021-11-18",
          "2021-11-18",
          "2021-11-18",
          "2021-11-18",
          "2021-11-25",
          "2021-11-25",
          "2021-11-25",
          "2021-11-25",
          "2021-11-25",
          "2021-11-25",
          "2021-11-27",
          "2021-11-27",
          "2021-11-27",
          "2021-11-27",
          "2021-11-27",
          "2021-11-27",
          "2021-12-02",
          "2021-12-02",
          "2021-12-02",
          "2021-12-02",
          "2021-12-02",
          "2021-12-02",
          "2021-12-04",
          "2021-12-04",
          "2021-12-04",
          "2021-12-04",
          "2021-12-04",
          "2021-12-04",
          "2021-12-09",
          "2021-12-09",
          "2021-12-09",
          "2021-12-09",
          "2021-12-09",
          "2021-12-09",
          "2021-12-11",
          "2021-12-11",
          "2021-12-11",
          "2021-12-11",
          "2021-12-11",
          "2021-12-11",
          "2021-12-19",
          "2021-12-19",
          "2021-12-19",
          "2021-12-19",
          "2021-12-19",
          "2021-12-19",
          "2021-12-20",
          "2021-12-20",
          "2021-12-20",
          "2021-12-20",
          "2021-12-20",
          "2021-12-20",
          "2021-12-30",
          "2021-12-30",
          "2021-12-30",
          "2021-12-30",
          "2021-12-30",
          "2021-12-30",
          "2022-01-01",
          "2022-01-01",
          "2022-01-01",
          "2022-01-01",
          "2022-01-01",
          "2022-01-01",
          "2022-01-06",
          "2022-01-06",
          "2022-01-06",
          "2022-01-06",
          "2022-01-06",
          "2022-01-06",
          "2022-01-08",
          "2022-01-08",
          "2022-01-08",
          "2022-01-08",
          "2022-01-08",
          "2022-01-08",
          "2022-01-13",
          "2022-01-13",
          "2022-01-13",
          "2022-01-13",
          "2022-01-13",
          "2022-01-13",
          "2022-01-20",
          "2022-01-20",
          "2022-01-20",
          "2022-01-20",
          "2022-01-20",
          "2022-01-20",
          "2022-01-22",
          "2022-01-22",
          "2022-01-22",
          "2022-01-22",
          "2022-01-22",
          "2022-01-22",
          "2022-01-27",
          "2022-01-27",
          "2022-01-27",
          "2022-01-27",
          "2022-01-27",
          "2022-01-27",
          "2022-01-29",
          "2022-01-29",
          "2022-01-29",
          "2022-01-29",
          "2022-01-29",
          "2022-01-29",
          "2022-02-03",
          "2022-02-03",
          "2022-02-03",
          "2022-02-03",
          "2022-02-03",
          "2022-02-03",
          "2022-02-05",
          "2022-02-05",
          "2022-02-05",
          "2022-02-05",
          "2022-02-05",
          "2022-02-05",
          "2022-02-12",
          "2022-02-12",
          "2022-02-12",
          "2022-02-12",
          "2022-02-12",
          "2022-02-12",
          "2022-02-17",
          "2022-02-17",
          "2022-02-17",
          "2022-02-17",
          "2022-02-17",
          "2022-02-17",
          "2022-02-23",
          "2022-02-23",
          "2022-02-23",
          "2022-02-23",
          "2022-02-23",
          "2022-02-23",
          "2022-03-02",
          "2022-03-02",
          "2022-03-02",
          "2022-03-02",
          "2022-03-02",
          "2022-03-02",
          "2022-03-04",
          "2022-03-04",
          "2022-03-04",
          "2022-03-04",
          "2022-03-04",
          "2022-03-04",
          "2022-03-05",
          "2022-03-05",
          "2022-03-05",
          "2022-03-05",
          "2022-03-05",
          "2022-03-05",
          "2022-03-06",
          "2022-03-06",
          "2022-03-06",
          "2022-03-06",
          "2022-03-06",
          "2022-03-06",
          "2022-03-12",
          "2022-03-12",
          "2022-03-12",
          "2022-03-12",
          "2022-03-12",
          "2022-03-12",
          "2022-03-17",
          "2022-03-17",
          "2022-03-17",
          "2022-03-17",
          "2022-03-17",
          "2022-03-17",
          "2022-03-19",
          "2022-03-19",
          "2022-03-19",
          "2022-03-19",
          "2022-03-19",
          "2022-03-19",
          "2022-03-24",
          "2022-03-24",
          "2022-03-24",
          "2022-03-24",
          "2022-03-24",
          "2022-03-24",
          "2022-03-26",
          "2022-03-26",
          "2022-03-26",
          "2022-03-26",
          "2022-03-26",
          "2022-03-26",
          "2022-03-31",
          "2022-03-31",
          "2022-03-31",
          "2022-03-31",
          "2022-03-31",
          "2022-03-31",
          "2021-11-06",
          "2021-11-20",
          "2021-11-20",
          "2021-11-20",
          "2021-11-20",
          "2021-11-20",
          "2021-11-20",
          "2021-12-16",
          "2021-12-16",
          "2021-12-16",
          "2021-12-16",
          "2021-12-16",
          "2021-12-16",
          "2022-01-15",
          "2022-01-15",
          "2022-01-15",
          "2022-01-15",
          "2022-01-15",
          "2022-01-15",
          "2022-02-10",
          "2022-02-10",
          "2022-02-10",
          "2022-02-10",
          "2022-02-10",
          "2022-02-10",
          "2022-03-10",
          "2022-03-10",
          "2022-03-10",
          "2022-03-10"
         ]
        }
       ],
       "layout": {
        "bargap": 0.2,
        "bargroupgap": 0.1,
        "font": {
         "color": "Black",
         "family": "Courier New, monospace",
         "size": 16
        },
        "height": 600,
        "template": {
         "data": {
          "bar": [
           {
            "error_x": {
             "color": "#2a3f5f"
            },
            "error_y": {
             "color": "#2a3f5f"
            },
            "marker": {
             "line": {
              "color": "#E5ECF6",
              "width": 0.5
             },
             "pattern": {
              "fillmode": "overlay",
              "size": 10,
              "solidity": 0.2
             }
            },
            "type": "bar"
           }
          ],
          "barpolar": [
           {
            "marker": {
             "line": {
              "color": "#E5ECF6",
              "width": 0.5
             },
             "pattern": {
              "fillmode": "overlay",
              "size": 10,
              "solidity": 0.2
             }
            },
            "type": "barpolar"
           }
          ],
          "carpet": [
           {
            "aaxis": {
             "endlinecolor": "#2a3f5f",
             "gridcolor": "white",
             "linecolor": "white",
             "minorgridcolor": "white",
             "startlinecolor": "#2a3f5f"
            },
            "baxis": {
             "endlinecolor": "#2a3f5f",
             "gridcolor": "white",
             "linecolor": "white",
             "minorgridcolor": "white",
             "startlinecolor": "#2a3f5f"
            },
            "type": "carpet"
           }
          ],
          "choropleth": [
           {
            "colorbar": {
             "outlinewidth": 0,
             "ticks": ""
            },
            "type": "choropleth"
           }
          ],
          "contour": [
           {
            "colorbar": {
             "outlinewidth": 0,
             "ticks": ""
            },
            "colorscale": [
             [
              0,
              "#0d0887"
             ],
             [
              0.1111111111111111,
              "#46039f"
             ],
             [
              0.2222222222222222,
              "#7201a8"
             ],
             [
              0.3333333333333333,
              "#9c179e"
             ],
             [
              0.4444444444444444,
              "#bd3786"
             ],
             [
              0.5555555555555556,
              "#d8576b"
             ],
             [
              0.6666666666666666,
              "#ed7953"
             ],
             [
              0.7777777777777778,
              "#fb9f3a"
             ],
             [
              0.8888888888888888,
              "#fdca26"
             ],
             [
              1,
              "#f0f921"
             ]
            ],
            "type": "contour"
           }
          ],
          "contourcarpet": [
           {
            "colorbar": {
             "outlinewidth": 0,
             "ticks": ""
            },
            "type": "contourcarpet"
           }
          ],
          "heatmap": [
           {
            "colorbar": {
             "outlinewidth": 0,
             "ticks": ""
            },
            "colorscale": [
             [
              0,
              "#0d0887"
             ],
             [
              0.1111111111111111,
              "#46039f"
             ],
             [
              0.2222222222222222,
              "#7201a8"
             ],
             [
              0.3333333333333333,
              "#9c179e"
             ],
             [
              0.4444444444444444,
              "#bd3786"
             ],
             [
              0.5555555555555556,
              "#d8576b"
             ],
             [
              0.6666666666666666,
              "#ed7953"
             ],
             [
              0.7777777777777778,
              "#fb9f3a"
             ],
             [
              0.8888888888888888,
              "#fdca26"
             ],
             [
              1,
              "#f0f921"
             ]
            ],
            "type": "heatmap"
           }
          ],
          "heatmapgl": [
           {
            "colorbar": {
             "outlinewidth": 0,
             "ticks": ""
            },
            "colorscale": [
             [
              0,
              "#0d0887"
             ],
             [
              0.1111111111111111,
              "#46039f"
             ],
             [
              0.2222222222222222,
              "#7201a8"
             ],
             [
              0.3333333333333333,
              "#9c179e"
             ],
             [
              0.4444444444444444,
              "#bd3786"
             ],
             [
              0.5555555555555556,
              "#d8576b"
             ],
             [
              0.6666666666666666,
              "#ed7953"
             ],
             [
              0.7777777777777778,
              "#fb9f3a"
             ],
             [
              0.8888888888888888,
              "#fdca26"
             ],
             [
              1,
              "#f0f921"
             ]
            ],
            "type": "heatmapgl"
           }
          ],
          "histogram": [
           {
            "marker": {
             "pattern": {
              "fillmode": "overlay",
              "size": 10,
              "solidity": 0.2
             }
            },
            "type": "histogram"
           }
          ],
          "histogram2d": [
           {
            "colorbar": {
             "outlinewidth": 0,
             "ticks": ""
            },
            "colorscale": [
             [
              0,
              "#0d0887"
             ],
             [
              0.1111111111111111,
              "#46039f"
             ],
             [
              0.2222222222222222,
              "#7201a8"
             ],
             [
              0.3333333333333333,
              "#9c179e"
             ],
             [
              0.4444444444444444,
              "#bd3786"
             ],
             [
              0.5555555555555556,
              "#d8576b"
             ],
             [
              0.6666666666666666,
              "#ed7953"
             ],
             [
              0.7777777777777778,
              "#fb9f3a"
             ],
             [
              0.8888888888888888,
              "#fdca26"
             ],
             [
              1,
              "#f0f921"
             ]
            ],
            "type": "histogram2d"
           }
          ],
          "histogram2dcontour": [
           {
            "colorbar": {
             "outlinewidth": 0,
             "ticks": ""
            },
            "colorscale": [
             [
              0,
              "#0d0887"
             ],
             [
              0.1111111111111111,
              "#46039f"
             ],
             [
              0.2222222222222222,
              "#7201a8"
             ],
             [
              0.3333333333333333,
              "#9c179e"
             ],
             [
              0.4444444444444444,
              "#bd3786"
             ],
             [
              0.5555555555555556,
              "#d8576b"
             ],
             [
              0.6666666666666666,
              "#ed7953"
             ],
             [
              0.7777777777777778,
              "#fb9f3a"
             ],
             [
              0.8888888888888888,
              "#fdca26"
             ],
             [
              1,
              "#f0f921"
             ]
            ],
            "type": "histogram2dcontour"
           }
          ],
          "mesh3d": [
           {
            "colorbar": {
             "outlinewidth": 0,
             "ticks": ""
            },
            "type": "mesh3d"
           }
          ],
          "parcoords": [
           {
            "line": {
             "colorbar": {
              "outlinewidth": 0,
              "ticks": ""
             }
            },
            "type": "parcoords"
           }
          ],
          "pie": [
           {
            "automargin": true,
            "type": "pie"
           }
          ],
          "scatter": [
           {
            "marker": {
             "colorbar": {
              "outlinewidth": 0,
              "ticks": ""
             }
            },
            "type": "scatter"
           }
          ],
          "scatter3d": [
           {
            "line": {
             "colorbar": {
              "outlinewidth": 0,
              "ticks": ""
             }
            },
            "marker": {
             "colorbar": {
              "outlinewidth": 0,
              "ticks": ""
             }
            },
            "type": "scatter3d"
           }
          ],
          "scattercarpet": [
           {
            "marker": {
             "colorbar": {
              "outlinewidth": 0,
              "ticks": ""
             }
            },
            "type": "scattercarpet"
           }
          ],
          "scattergeo": [
           {
            "marker": {
             "colorbar": {
              "outlinewidth": 0,
              "ticks": ""
             }
            },
            "type": "scattergeo"
           }
          ],
          "scattergl": [
           {
            "marker": {
             "colorbar": {
              "outlinewidth": 0,
              "ticks": ""
             }
            },
            "type": "scattergl"
           }
          ],
          "scattermapbox": [
           {
            "marker": {
             "colorbar": {
              "outlinewidth": 0,
              "ticks": ""
             }
            },
            "type": "scattermapbox"
           }
          ],
          "scatterpolar": [
           {
            "marker": {
             "colorbar": {
              "outlinewidth": 0,
              "ticks": ""
             }
            },
            "type": "scatterpolar"
           }
          ],
          "scatterpolargl": [
           {
            "marker": {
             "colorbar": {
              "outlinewidth": 0,
              "ticks": ""
             }
            },
            "type": "scatterpolargl"
           }
          ],
          "scatterternary": [
           {
            "marker": {
             "colorbar": {
              "outlinewidth": 0,
              "ticks": ""
             }
            },
            "type": "scatterternary"
           }
          ],
          "surface": [
           {
            "colorbar": {
             "outlinewidth": 0,
             "ticks": ""
            },
            "colorscale": [
             [
              0,
              "#0d0887"
             ],
             [
              0.1111111111111111,
              "#46039f"
             ],
             [
              0.2222222222222222,
              "#7201a8"
             ],
             [
              0.3333333333333333,
              "#9c179e"
             ],
             [
              0.4444444444444444,
              "#bd3786"
             ],
             [
              0.5555555555555556,
              "#d8576b"
             ],
             [
              0.6666666666666666,
              "#ed7953"
             ],
             [
              0.7777777777777778,
              "#fb9f3a"
             ],
             [
              0.8888888888888888,
              "#fdca26"
             ],
             [
              1,
              "#f0f921"
             ]
            ],
            "type": "surface"
           }
          ],
          "table": [
           {
            "cells": {
             "fill": {
              "color": "#EBF0F8"
             },
             "line": {
              "color": "white"
             }
            },
            "header": {
             "fill": {
              "color": "#C8D4E3"
             },
             "line": {
              "color": "white"
             }
            },
            "type": "table"
           }
          ]
         },
         "layout": {
          "annotationdefaults": {
           "arrowcolor": "#2a3f5f",
           "arrowhead": 0,
           "arrowwidth": 1
          },
          "autotypenumbers": "strict",
          "coloraxis": {
           "colorbar": {
            "outlinewidth": 0,
            "ticks": ""
           }
          },
          "colorscale": {
           "diverging": [
            [
             0,
             "#8e0152"
            ],
            [
             0.1,
             "#c51b7d"
            ],
            [
             0.2,
             "#de77ae"
            ],
            [
             0.3,
             "#f1b6da"
            ],
            [
             0.4,
             "#fde0ef"
            ],
            [
             0.5,
             "#f7f7f7"
            ],
            [
             0.6,
             "#e6f5d0"
            ],
            [
             0.7,
             "#b8e186"
            ],
            [
             0.8,
             "#7fbc41"
            ],
            [
             0.9,
             "#4d9221"
            ],
            [
             1,
             "#276419"
            ]
           ],
           "sequential": [
            [
             0,
             "#0d0887"
            ],
            [
             0.1111111111111111,
             "#46039f"
            ],
            [
             0.2222222222222222,
             "#7201a8"
            ],
            [
             0.3333333333333333,
             "#9c179e"
            ],
            [
             0.4444444444444444,
             "#bd3786"
            ],
            [
             0.5555555555555556,
             "#d8576b"
            ],
            [
             0.6666666666666666,
             "#ed7953"
            ],
            [
             0.7777777777777778,
             "#fb9f3a"
            ],
            [
             0.8888888888888888,
             "#fdca26"
            ],
            [
             1,
             "#f0f921"
            ]
           ],
           "sequentialminus": [
            [
             0,
             "#0d0887"
            ],
            [
             0.1111111111111111,
             "#46039f"
            ],
            [
             0.2222222222222222,
             "#7201a8"
            ],
            [
             0.3333333333333333,
             "#9c179e"
            ],
            [
             0.4444444444444444,
             "#bd3786"
            ],
            [
             0.5555555555555556,
             "#d8576b"
            ],
            [
             0.6666666666666666,
             "#ed7953"
            ],
            [
             0.7777777777777778,
             "#fb9f3a"
            ],
            [
             0.8888888888888888,
             "#fdca26"
            ],
            [
             1,
             "#f0f921"
            ]
           ]
          },
          "colorway": [
           "#636efa",
           "#EF553B",
           "#00cc96",
           "#ab63fa",
           "#FFA15A",
           "#19d3f3",
           "#FF6692",
           "#B6E880",
           "#FF97FF",
           "#FECB52"
          ],
          "font": {
           "color": "#2a3f5f"
          },
          "geo": {
           "bgcolor": "white",
           "lakecolor": "white",
           "landcolor": "#E5ECF6",
           "showlakes": true,
           "showland": true,
           "subunitcolor": "white"
          },
          "hoverlabel": {
           "align": "left"
          },
          "hovermode": "closest",
          "mapbox": {
           "style": "light"
          },
          "paper_bgcolor": "white",
          "plot_bgcolor": "#E5ECF6",
          "polar": {
           "angularaxis": {
            "gridcolor": "white",
            "linecolor": "white",
            "ticks": ""
           },
           "bgcolor": "#E5ECF6",
           "radialaxis": {
            "gridcolor": "white",
            "linecolor": "white",
            "ticks": ""
           }
          },
          "scene": {
           "xaxis": {
            "backgroundcolor": "#E5ECF6",
            "gridcolor": "white",
            "gridwidth": 2,
            "linecolor": "white",
            "showbackground": true,
            "ticks": "",
            "zerolinecolor": "white"
           },
           "yaxis": {
            "backgroundcolor": "#E5ECF6",
            "gridcolor": "white",
            "gridwidth": 2,
            "linecolor": "white",
            "showbackground": true,
            "ticks": "",
            "zerolinecolor": "white"
           },
           "zaxis": {
            "backgroundcolor": "#E5ECF6",
            "gridcolor": "white",
            "gridwidth": 2,
            "linecolor": "white",
            "showbackground": true,
            "ticks": "",
            "zerolinecolor": "white"
           }
          },
          "shapedefaults": {
           "line": {
            "color": "#2a3f5f"
           }
          },
          "ternary": {
           "aaxis": {
            "gridcolor": "white",
            "linecolor": "white",
            "ticks": ""
           },
           "baxis": {
            "gridcolor": "white",
            "linecolor": "white",
            "ticks": ""
           },
           "bgcolor": "#E5ECF6",
           "caxis": {
            "gridcolor": "white",
            "linecolor": "white",
            "ticks": ""
           }
          },
          "title": {
           "x": 0.05
          },
          "xaxis": {
           "automargin": true,
           "gridcolor": "white",
           "linecolor": "white",
           "ticks": "",
           "title": {
            "standoff": 15
           },
           "zerolinecolor": "white",
           "zerolinewidth": 2
          },
          "yaxis": {
           "automargin": true,
           "gridcolor": "white",
           "linecolor": "white",
           "ticks": "",
           "title": {
            "standoff": 15
           },
           "zerolinecolor": "white",
           "zerolinewidth": 2
          }
         }
        },
        "title": {
         "text": "End",
         "x": 0.5,
         "xanchor": "center",
         "y": 0.9,
         "yanchor": "top"
        },
        "width": 1200
       }
      },
      "text/html": [
       "<div>                            <div id=\"2b548eb2-b223-4c1f-9acc-bb704843f62b\" class=\"plotly-graph-div\" style=\"height:600px; width:1200px;\"></div>            <script type=\"text/javascript\">                require([\"plotly\"], function(Plotly) {                    window.PLOTLYENV=window.PLOTLYENV || {};                                    if (document.getElementById(\"2b548eb2-b223-4c1f-9acc-bb704843f62b\")) {                    Plotly.newPlot(                        \"2b548eb2-b223-4c1f-9acc-bb704843f62b\",                        [{\"marker\":{\"color\":\"#741b47\"},\"type\":\"histogram\",\"x\":[\"2021-11-11\",\"2021-11-11\",\"2021-11-11\",\"2021-11-11\",\"2021-11-11\",\"2021-11-11\",\"2021-11-13\",\"2021-11-13\",\"2021-11-13\",\"2021-11-13\",\"2021-11-13\",\"2021-11-13\",\"2021-11-18\",\"2021-11-18\",\"2021-11-18\",\"2021-11-18\",\"2021-11-18\",\"2021-11-18\",\"2021-11-25\",\"2021-11-25\",\"2021-11-25\",\"2021-11-25\",\"2021-11-25\",\"2021-11-25\",\"2021-11-27\",\"2021-11-27\",\"2021-11-27\",\"2021-11-27\",\"2021-11-27\",\"2021-11-27\",\"2021-12-02\",\"2021-12-02\",\"2021-12-02\",\"2021-12-02\",\"2021-12-02\",\"2021-12-02\",\"2021-12-04\",\"2021-12-04\",\"2021-12-04\",\"2021-12-04\",\"2021-12-04\",\"2021-12-04\",\"2021-12-09\",\"2021-12-09\",\"2021-12-09\",\"2021-12-09\",\"2021-12-09\",\"2021-12-09\",\"2021-12-11\",\"2021-12-11\",\"2021-12-11\",\"2021-12-11\",\"2021-12-11\",\"2021-12-11\",\"2021-12-19\",\"2021-12-19\",\"2021-12-19\",\"2021-12-19\",\"2021-12-19\",\"2021-12-19\",\"2021-12-20\",\"2021-12-20\",\"2021-12-20\",\"2021-12-20\",\"2021-12-20\",\"2021-12-20\",\"2021-12-30\",\"2021-12-30\",\"2021-12-30\",\"2021-12-30\",\"2021-12-30\",\"2021-12-30\",\"2022-01-01\",\"2022-01-01\",\"2022-01-01\",\"2022-01-01\",\"2022-01-01\",\"2022-01-01\",\"2022-01-06\",\"2022-01-06\",\"2022-01-06\",\"2022-01-06\",\"2022-01-06\",\"2022-01-06\",\"2022-01-08\",\"2022-01-08\",\"2022-01-08\",\"2022-01-08\",\"2022-01-08\",\"2022-01-08\",\"2022-01-13\",\"2022-01-13\",\"2022-01-13\",\"2022-01-13\",\"2022-01-13\",\"2022-01-13\",\"2022-01-20\",\"2022-01-20\",\"2022-01-20\",\"2022-01-20\",\"2022-01-20\",\"2022-01-20\",\"2022-01-22\",\"2022-01-22\",\"2022-01-22\",\"2022-01-22\",\"2022-01-22\",\"2022-01-22\",\"2022-01-27\",\"2022-01-27\",\"2022-01-27\",\"2022-01-27\",\"2022-01-27\",\"2022-01-27\",\"2022-01-29\",\"2022-01-29\",\"2022-01-29\",\"2022-01-29\",\"2022-01-29\",\"2022-01-29\",\"2022-02-03\",\"2022-02-03\",\"2022-02-03\",\"2022-02-03\",\"2022-02-03\",\"2022-02-03\",\"2022-02-05\",\"2022-02-05\",\"2022-02-05\",\"2022-02-05\",\"2022-02-05\",\"2022-02-05\",\"2022-02-12\",\"2022-02-12\",\"2022-02-12\",\"2022-02-12\",\"2022-02-12\",\"2022-02-12\",\"2022-02-17\",\"2022-02-17\",\"2022-02-17\",\"2022-02-17\",\"2022-02-17\",\"2022-02-17\",\"2022-02-23\",\"2022-02-23\",\"2022-02-23\",\"2022-02-23\",\"2022-02-23\",\"2022-02-23\",\"2022-03-02\",\"2022-03-02\",\"2022-03-02\",\"2022-03-02\",\"2022-03-02\",\"2022-03-02\",\"2022-03-04\",\"2022-03-04\",\"2022-03-04\",\"2022-03-04\",\"2022-03-04\",\"2022-03-04\",\"2022-03-05\",\"2022-03-05\",\"2022-03-05\",\"2022-03-05\",\"2022-03-05\",\"2022-03-05\",\"2022-03-06\",\"2022-03-06\",\"2022-03-06\",\"2022-03-06\",\"2022-03-06\",\"2022-03-06\",\"2022-03-12\",\"2022-03-12\",\"2022-03-12\",\"2022-03-12\",\"2022-03-12\",\"2022-03-12\",\"2022-03-17\",\"2022-03-17\",\"2022-03-17\",\"2022-03-17\",\"2022-03-17\",\"2022-03-17\",\"2022-03-19\",\"2022-03-19\",\"2022-03-19\",\"2022-03-19\",\"2022-03-19\",\"2022-03-19\",\"2022-03-24\",\"2022-03-24\",\"2022-03-24\",\"2022-03-24\",\"2022-03-24\",\"2022-03-24\",\"2022-03-26\",\"2022-03-26\",\"2022-03-26\",\"2022-03-26\",\"2022-03-26\",\"2022-03-26\",\"2022-03-31\",\"2022-03-31\",\"2022-03-31\",\"2022-03-31\",\"2022-03-31\",\"2022-03-31\",\"2021-11-06\",\"2021-11-20\",\"2021-11-20\",\"2021-11-20\",\"2021-11-20\",\"2021-11-20\",\"2021-11-20\",\"2021-12-16\",\"2021-12-16\",\"2021-12-16\",\"2021-12-16\",\"2021-12-16\",\"2021-12-16\",\"2022-01-15\",\"2022-01-15\",\"2022-01-15\",\"2022-01-15\",\"2022-01-15\",\"2022-01-15\",\"2022-02-10\",\"2022-02-10\",\"2022-02-10\",\"2022-02-10\",\"2022-02-10\",\"2022-02-10\",\"2022-03-10\",\"2022-03-10\",\"2022-03-10\",\"2022-03-10\"]}],                        {\"bargap\":0.2,\"bargroupgap\":0.1,\"font\":{\"color\":\"Black\",\"family\":\"Courier New, monospace\",\"size\":16},\"height\":600,\"template\":{\"data\":{\"bar\":[{\"error_x\":{\"color\":\"#2a3f5f\"},\"error_y\":{\"color\":\"#2a3f5f\"},\"marker\":{\"line\":{\"color\":\"#E5ECF6\",\"width\":0.5},\"pattern\":{\"fillmode\":\"overlay\",\"size\":10,\"solidity\":0.2}},\"type\":\"bar\"}],\"barpolar\":[{\"marker\":{\"line\":{\"color\":\"#E5ECF6\",\"width\":0.5},\"pattern\":{\"fillmode\":\"overlay\",\"size\":10,\"solidity\":0.2}},\"type\":\"barpolar\"}],\"carpet\":[{\"aaxis\":{\"endlinecolor\":\"#2a3f5f\",\"gridcolor\":\"white\",\"linecolor\":\"white\",\"minorgridcolor\":\"white\",\"startlinecolor\":\"#2a3f5f\"},\"baxis\":{\"endlinecolor\":\"#2a3f5f\",\"gridcolor\":\"white\",\"linecolor\":\"white\",\"minorgridcolor\":\"white\",\"startlinecolor\":\"#2a3f5f\"},\"type\":\"carpet\"}],\"choropleth\":[{\"colorbar\":{\"outlinewidth\":0,\"ticks\":\"\"},\"type\":\"choropleth\"}],\"contour\":[{\"colorbar\":{\"outlinewidth\":0,\"ticks\":\"\"},\"colorscale\":[[0.0,\"#0d0887\"],[0.1111111111111111,\"#46039f\"],[0.2222222222222222,\"#7201a8\"],[0.3333333333333333,\"#9c179e\"],[0.4444444444444444,\"#bd3786\"],[0.5555555555555556,\"#d8576b\"],[0.6666666666666666,\"#ed7953\"],[0.7777777777777778,\"#fb9f3a\"],[0.8888888888888888,\"#fdca26\"],[1.0,\"#f0f921\"]],\"type\":\"contour\"}],\"contourcarpet\":[{\"colorbar\":{\"outlinewidth\":0,\"ticks\":\"\"},\"type\":\"contourcarpet\"}],\"heatmap\":[{\"colorbar\":{\"outlinewidth\":0,\"ticks\":\"\"},\"colorscale\":[[0.0,\"#0d0887\"],[0.1111111111111111,\"#46039f\"],[0.2222222222222222,\"#7201a8\"],[0.3333333333333333,\"#9c179e\"],[0.4444444444444444,\"#bd3786\"],[0.5555555555555556,\"#d8576b\"],[0.6666666666666666,\"#ed7953\"],[0.7777777777777778,\"#fb9f3a\"],[0.8888888888888888,\"#fdca26\"],[1.0,\"#f0f921\"]],\"type\":\"heatmap\"}],\"heatmapgl\":[{\"colorbar\":{\"outlinewidth\":0,\"ticks\":\"\"},\"colorscale\":[[0.0,\"#0d0887\"],[0.1111111111111111,\"#46039f\"],[0.2222222222222222,\"#7201a8\"],[0.3333333333333333,\"#9c179e\"],[0.4444444444444444,\"#bd3786\"],[0.5555555555555556,\"#d8576b\"],[0.6666666666666666,\"#ed7953\"],[0.7777777777777778,\"#fb9f3a\"],[0.8888888888888888,\"#fdca26\"],[1.0,\"#f0f921\"]],\"type\":\"heatmapgl\"}],\"histogram\":[{\"marker\":{\"pattern\":{\"fillmode\":\"overlay\",\"size\":10,\"solidity\":0.2}},\"type\":\"histogram\"}],\"histogram2d\":[{\"colorbar\":{\"outlinewidth\":0,\"ticks\":\"\"},\"colorscale\":[[0.0,\"#0d0887\"],[0.1111111111111111,\"#46039f\"],[0.2222222222222222,\"#7201a8\"],[0.3333333333333333,\"#9c179e\"],[0.4444444444444444,\"#bd3786\"],[0.5555555555555556,\"#d8576b\"],[0.6666666666666666,\"#ed7953\"],[0.7777777777777778,\"#fb9f3a\"],[0.8888888888888888,\"#fdca26\"],[1.0,\"#f0f921\"]],\"type\":\"histogram2d\"}],\"histogram2dcontour\":[{\"colorbar\":{\"outlinewidth\":0,\"ticks\":\"\"},\"colorscale\":[[0.0,\"#0d0887\"],[0.1111111111111111,\"#46039f\"],[0.2222222222222222,\"#7201a8\"],[0.3333333333333333,\"#9c179e\"],[0.4444444444444444,\"#bd3786\"],[0.5555555555555556,\"#d8576b\"],[0.6666666666666666,\"#ed7953\"],[0.7777777777777778,\"#fb9f3a\"],[0.8888888888888888,\"#fdca26\"],[1.0,\"#f0f921\"]],\"type\":\"histogram2dcontour\"}],\"mesh3d\":[{\"colorbar\":{\"outlinewidth\":0,\"ticks\":\"\"},\"type\":\"mesh3d\"}],\"parcoords\":[{\"line\":{\"colorbar\":{\"outlinewidth\":0,\"ticks\":\"\"}},\"type\":\"parcoords\"}],\"pie\":[{\"automargin\":true,\"type\":\"pie\"}],\"scatter\":[{\"marker\":{\"colorbar\":{\"outlinewidth\":0,\"ticks\":\"\"}},\"type\":\"scatter\"}],\"scatter3d\":[{\"line\":{\"colorbar\":{\"outlinewidth\":0,\"ticks\":\"\"}},\"marker\":{\"colorbar\":{\"outlinewidth\":0,\"ticks\":\"\"}},\"type\":\"scatter3d\"}],\"scattercarpet\":[{\"marker\":{\"colorbar\":{\"outlinewidth\":0,\"ticks\":\"\"}},\"type\":\"scattercarpet\"}],\"scattergeo\":[{\"marker\":{\"colorbar\":{\"outlinewidth\":0,\"ticks\":\"\"}},\"type\":\"scattergeo\"}],\"scattergl\":[{\"marker\":{\"colorbar\":{\"outlinewidth\":0,\"ticks\":\"\"}},\"type\":\"scattergl\"}],\"scattermapbox\":[{\"marker\":{\"colorbar\":{\"outlinewidth\":0,\"ticks\":\"\"}},\"type\":\"scattermapbox\"}],\"scatterpolar\":[{\"marker\":{\"colorbar\":{\"outlinewidth\":0,\"ticks\":\"\"}},\"type\":\"scatterpolar\"}],\"scatterpolargl\":[{\"marker\":{\"colorbar\":{\"outlinewidth\":0,\"ticks\":\"\"}},\"type\":\"scatterpolargl\"}],\"scatterternary\":[{\"marker\":{\"colorbar\":{\"outlinewidth\":0,\"ticks\":\"\"}},\"type\":\"scatterternary\"}],\"surface\":[{\"colorbar\":{\"outlinewidth\":0,\"ticks\":\"\"},\"colorscale\":[[0.0,\"#0d0887\"],[0.1111111111111111,\"#46039f\"],[0.2222222222222222,\"#7201a8\"],[0.3333333333333333,\"#9c179e\"],[0.4444444444444444,\"#bd3786\"],[0.5555555555555556,\"#d8576b\"],[0.6666666666666666,\"#ed7953\"],[0.7777777777777778,\"#fb9f3a\"],[0.8888888888888888,\"#fdca26\"],[1.0,\"#f0f921\"]],\"type\":\"surface\"}],\"table\":[{\"cells\":{\"fill\":{\"color\":\"#EBF0F8\"},\"line\":{\"color\":\"white\"}},\"header\":{\"fill\":{\"color\":\"#C8D4E3\"},\"line\":{\"color\":\"white\"}},\"type\":\"table\"}]},\"layout\":{\"annotationdefaults\":{\"arrowcolor\":\"#2a3f5f\",\"arrowhead\":0,\"arrowwidth\":1},\"autotypenumbers\":\"strict\",\"coloraxis\":{\"colorbar\":{\"outlinewidth\":0,\"ticks\":\"\"}},\"colorscale\":{\"diverging\":[[0,\"#8e0152\"],[0.1,\"#c51b7d\"],[0.2,\"#de77ae\"],[0.3,\"#f1b6da\"],[0.4,\"#fde0ef\"],[0.5,\"#f7f7f7\"],[0.6,\"#e6f5d0\"],[0.7,\"#b8e186\"],[0.8,\"#7fbc41\"],[0.9,\"#4d9221\"],[1,\"#276419\"]],\"sequential\":[[0.0,\"#0d0887\"],[0.1111111111111111,\"#46039f\"],[0.2222222222222222,\"#7201a8\"],[0.3333333333333333,\"#9c179e\"],[0.4444444444444444,\"#bd3786\"],[0.5555555555555556,\"#d8576b\"],[0.6666666666666666,\"#ed7953\"],[0.7777777777777778,\"#fb9f3a\"],[0.8888888888888888,\"#fdca26\"],[1.0,\"#f0f921\"]],\"sequentialminus\":[[0.0,\"#0d0887\"],[0.1111111111111111,\"#46039f\"],[0.2222222222222222,\"#7201a8\"],[0.3333333333333333,\"#9c179e\"],[0.4444444444444444,\"#bd3786\"],[0.5555555555555556,\"#d8576b\"],[0.6666666666666666,\"#ed7953\"],[0.7777777777777778,\"#fb9f3a\"],[0.8888888888888888,\"#fdca26\"],[1.0,\"#f0f921\"]]},\"colorway\":[\"#636efa\",\"#EF553B\",\"#00cc96\",\"#ab63fa\",\"#FFA15A\",\"#19d3f3\",\"#FF6692\",\"#B6E880\",\"#FF97FF\",\"#FECB52\"],\"font\":{\"color\":\"#2a3f5f\"},\"geo\":{\"bgcolor\":\"white\",\"lakecolor\":\"white\",\"landcolor\":\"#E5ECF6\",\"showlakes\":true,\"showland\":true,\"subunitcolor\":\"white\"},\"hoverlabel\":{\"align\":\"left\"},\"hovermode\":\"closest\",\"mapbox\":{\"style\":\"light\"},\"paper_bgcolor\":\"white\",\"plot_bgcolor\":\"#E5ECF6\",\"polar\":{\"angularaxis\":{\"gridcolor\":\"white\",\"linecolor\":\"white\",\"ticks\":\"\"},\"bgcolor\":\"#E5ECF6\",\"radialaxis\":{\"gridcolor\":\"white\",\"linecolor\":\"white\",\"ticks\":\"\"}},\"scene\":{\"xaxis\":{\"backgroundcolor\":\"#E5ECF6\",\"gridcolor\":\"white\",\"gridwidth\":2,\"linecolor\":\"white\",\"showbackground\":true,\"ticks\":\"\",\"zerolinecolor\":\"white\"},\"yaxis\":{\"backgroundcolor\":\"#E5ECF6\",\"gridcolor\":\"white\",\"gridwidth\":2,\"linecolor\":\"white\",\"showbackground\":true,\"ticks\":\"\",\"zerolinecolor\":\"white\"},\"zaxis\":{\"backgroundcolor\":\"#E5ECF6\",\"gridcolor\":\"white\",\"gridwidth\":2,\"linecolor\":\"white\",\"showbackground\":true,\"ticks\":\"\",\"zerolinecolor\":\"white\"}},\"shapedefaults\":{\"line\":{\"color\":\"#2a3f5f\"}},\"ternary\":{\"aaxis\":{\"gridcolor\":\"white\",\"linecolor\":\"white\",\"ticks\":\"\"},\"baxis\":{\"gridcolor\":\"white\",\"linecolor\":\"white\",\"ticks\":\"\"},\"bgcolor\":\"#E5ECF6\",\"caxis\":{\"gridcolor\":\"white\",\"linecolor\":\"white\",\"ticks\":\"\"}},\"title\":{\"x\":0.05},\"xaxis\":{\"automargin\":true,\"gridcolor\":\"white\",\"linecolor\":\"white\",\"ticks\":\"\",\"title\":{\"standoff\":15},\"zerolinecolor\":\"white\",\"zerolinewidth\":2},\"yaxis\":{\"automargin\":true,\"gridcolor\":\"white\",\"linecolor\":\"white\",\"ticks\":\"\",\"title\":{\"standoff\":15},\"zerolinecolor\":\"white\",\"zerolinewidth\":2}}},\"title\":{\"text\":\"End\",\"x\":0.5,\"xanchor\":\"center\",\"y\":0.9,\"yanchor\":\"top\"},\"width\":1200},                        {\"responsive\": true}                    ).then(function(){\n",
       "                            \n",
       "var gd = document.getElementById('2b548eb2-b223-4c1f-9acc-bb704843f62b');\n",
       "var x = new MutationObserver(function (mutations, observer) {{\n",
       "        var display = window.getComputedStyle(gd).display;\n",
       "        if (!display || display === 'none') {{\n",
       "            console.log([gd, 'removed!']);\n",
       "            Plotly.purge(gd);\n",
       "            observer.disconnect();\n",
       "        }}\n",
       "}});\n",
       "\n",
       "// Listen for the removal of the full notebook cells\n",
       "var notebookContainer = gd.closest('#notebook-container');\n",
       "if (notebookContainer) {{\n",
       "    x.observe(notebookContainer, {childList: true});\n",
       "}}\n",
       "\n",
       "// Listen for the clearing of the current output cell\n",
       "var outputEl = gd.closest('.output');\n",
       "if (outputEl) {{\n",
       "    x.observe(outputEl, {childList: true});\n",
       "}}\n",
       "\n",
       "                        })                };                });            </script>        </div>"
      ]
     },
     "metadata": {},
     "output_type": "display_data"
    }
   ],
   "source": [
    "fig = go.Figure()\n",
    "fig.add_trace(go.Histogram(\n",
    "    x=HotelBookingRuleNotifRQ.End,\n",
    "    marker_color='#741b47'\n",
    "))\n",
    "fig.update_layout(\n",
    "    title={'text':'End', \n",
    "           \"y\":0.9,\n",
    "           \"x\":0.5,\n",
    "           \"xanchor\":\"center\",\n",
    "           \"yanchor\":\"top\"},\n",
    "    width=1200,height=600,\n",
    "    font=dict(\n",
    "    family= \"Courier New, monospace\",\n",
    "    size=16,\n",
    "    color=\"Black\"),\n",
    "    bargap=0.2, \n",
    "    bargroupgap=0.1 \n",
    ")\n",
    "\n",
    "fig.show()"
   ]
  },
  {
   "cell_type": "code",
   "execution_count": 103,
   "id": "295f9918",
   "metadata": {},
   "outputs": [],
   "source": [
    "HotelBookingRuleNotifRQ[\"timeDiff\"] = [x.days for x in HotelBookingRuleNotifRQ[\"timeDiff\"]]"
   ]
  },
  {
   "cell_type": "code",
   "execution_count": 104,
   "id": "6d0b6ca5",
   "metadata": {},
   "outputs": [
    {
     "data": {
      "application/vnd.plotly.v1+json": {
       "config": {
        "plotlyServerURL": "https://plot.ly"
       },
       "data": [
        {
         "marker": {
          "color": "#741b47"
         },
         "type": "histogram",
         "x": [
          8,
          8,
          8,
          8,
          8,
          8,
          1,
          1,
          1,
          1,
          1,
          1,
          4,
          4,
          4,
          4,
          4,
          4,
          4,
          4,
          4,
          4,
          4,
          4,
          1,
          1,
          1,
          1,
          1,
          1,
          4,
          4,
          4,
          4,
          4,
          4,
          1,
          1,
          1,
          1,
          1,
          1,
          4,
          4,
          4,
          4,
          4,
          4,
          1,
          1,
          1,
          1,
          1,
          1,
          2,
          2,
          2,
          2,
          2,
          2,
          0,
          0,
          0,
          0,
          0,
          0,
          9,
          9,
          9,
          9,
          9,
          9,
          1,
          1,
          1,
          1,
          1,
          1,
          4,
          4,
          4,
          4,
          4,
          4,
          1,
          1,
          1,
          1,
          1,
          1,
          4,
          4,
          4,
          4,
          4,
          4,
          4,
          4,
          4,
          4,
          4,
          4,
          1,
          1,
          1,
          1,
          1,
          1,
          4,
          4,
          4,
          4,
          4,
          4,
          1,
          1,
          1,
          1,
          1,
          1,
          4,
          4,
          4,
          4,
          4,
          4,
          1,
          1,
          1,
          1,
          1,
          1,
          1,
          1,
          1,
          1,
          1,
          1,
          4,
          4,
          4,
          4,
          4,
          4,
          5,
          5,
          5,
          5,
          5,
          5,
          6,
          6,
          6,
          6,
          6,
          6,
          1,
          1,
          1,
          1,
          1,
          1,
          0,
          0,
          0,
          0,
          0,
          0,
          0,
          0,
          0,
          0,
          0,
          0,
          1,
          1,
          1,
          1,
          1,
          1,
          4,
          4,
          4,
          4,
          4,
          4,
          1,
          1,
          1,
          1,
          1,
          1,
          4,
          4,
          4,
          4,
          4,
          4,
          1,
          1,
          1,
          1,
          1,
          1,
          4,
          4,
          4,
          4,
          4,
          4,
          0,
          1,
          1,
          1,
          1,
          1,
          1,
          4,
          4,
          4,
          4,
          4,
          4,
          1,
          1,
          1,
          1,
          1,
          1,
          4,
          4,
          4,
          4,
          4,
          4,
          3,
          3,
          3,
          3
         ]
        }
       ],
       "layout": {
        "bargap": 0.2,
        "bargroupgap": 0.1,
        "font": {
         "color": "Black",
         "family": "Courier New, monospace",
         "size": 16
        },
        "height": 600,
        "template": {
         "data": {
          "bar": [
           {
            "error_x": {
             "color": "#2a3f5f"
            },
            "error_y": {
             "color": "#2a3f5f"
            },
            "marker": {
             "line": {
              "color": "#E5ECF6",
              "width": 0.5
             },
             "pattern": {
              "fillmode": "overlay",
              "size": 10,
              "solidity": 0.2
             }
            },
            "type": "bar"
           }
          ],
          "barpolar": [
           {
            "marker": {
             "line": {
              "color": "#E5ECF6",
              "width": 0.5
             },
             "pattern": {
              "fillmode": "overlay",
              "size": 10,
              "solidity": 0.2
             }
            },
            "type": "barpolar"
           }
          ],
          "carpet": [
           {
            "aaxis": {
             "endlinecolor": "#2a3f5f",
             "gridcolor": "white",
             "linecolor": "white",
             "minorgridcolor": "white",
             "startlinecolor": "#2a3f5f"
            },
            "baxis": {
             "endlinecolor": "#2a3f5f",
             "gridcolor": "white",
             "linecolor": "white",
             "minorgridcolor": "white",
             "startlinecolor": "#2a3f5f"
            },
            "type": "carpet"
           }
          ],
          "choropleth": [
           {
            "colorbar": {
             "outlinewidth": 0,
             "ticks": ""
            },
            "type": "choropleth"
           }
          ],
          "contour": [
           {
            "colorbar": {
             "outlinewidth": 0,
             "ticks": ""
            },
            "colorscale": [
             [
              0,
              "#0d0887"
             ],
             [
              0.1111111111111111,
              "#46039f"
             ],
             [
              0.2222222222222222,
              "#7201a8"
             ],
             [
              0.3333333333333333,
              "#9c179e"
             ],
             [
              0.4444444444444444,
              "#bd3786"
             ],
             [
              0.5555555555555556,
              "#d8576b"
             ],
             [
              0.6666666666666666,
              "#ed7953"
             ],
             [
              0.7777777777777778,
              "#fb9f3a"
             ],
             [
              0.8888888888888888,
              "#fdca26"
             ],
             [
              1,
              "#f0f921"
             ]
            ],
            "type": "contour"
           }
          ],
          "contourcarpet": [
           {
            "colorbar": {
             "outlinewidth": 0,
             "ticks": ""
            },
            "type": "contourcarpet"
           }
          ],
          "heatmap": [
           {
            "colorbar": {
             "outlinewidth": 0,
             "ticks": ""
            },
            "colorscale": [
             [
              0,
              "#0d0887"
             ],
             [
              0.1111111111111111,
              "#46039f"
             ],
             [
              0.2222222222222222,
              "#7201a8"
             ],
             [
              0.3333333333333333,
              "#9c179e"
             ],
             [
              0.4444444444444444,
              "#bd3786"
             ],
             [
              0.5555555555555556,
              "#d8576b"
             ],
             [
              0.6666666666666666,
              "#ed7953"
             ],
             [
              0.7777777777777778,
              "#fb9f3a"
             ],
             [
              0.8888888888888888,
              "#fdca26"
             ],
             [
              1,
              "#f0f921"
             ]
            ],
            "type": "heatmap"
           }
          ],
          "heatmapgl": [
           {
            "colorbar": {
             "outlinewidth": 0,
             "ticks": ""
            },
            "colorscale": [
             [
              0,
              "#0d0887"
             ],
             [
              0.1111111111111111,
              "#46039f"
             ],
             [
              0.2222222222222222,
              "#7201a8"
             ],
             [
              0.3333333333333333,
              "#9c179e"
             ],
             [
              0.4444444444444444,
              "#bd3786"
             ],
             [
              0.5555555555555556,
              "#d8576b"
             ],
             [
              0.6666666666666666,
              "#ed7953"
             ],
             [
              0.7777777777777778,
              "#fb9f3a"
             ],
             [
              0.8888888888888888,
              "#fdca26"
             ],
             [
              1,
              "#f0f921"
             ]
            ],
            "type": "heatmapgl"
           }
          ],
          "histogram": [
           {
            "marker": {
             "pattern": {
              "fillmode": "overlay",
              "size": 10,
              "solidity": 0.2
             }
            },
            "type": "histogram"
           }
          ],
          "histogram2d": [
           {
            "colorbar": {
             "outlinewidth": 0,
             "ticks": ""
            },
            "colorscale": [
             [
              0,
              "#0d0887"
             ],
             [
              0.1111111111111111,
              "#46039f"
             ],
             [
              0.2222222222222222,
              "#7201a8"
             ],
             [
              0.3333333333333333,
              "#9c179e"
             ],
             [
              0.4444444444444444,
              "#bd3786"
             ],
             [
              0.5555555555555556,
              "#d8576b"
             ],
             [
              0.6666666666666666,
              "#ed7953"
             ],
             [
              0.7777777777777778,
              "#fb9f3a"
             ],
             [
              0.8888888888888888,
              "#fdca26"
             ],
             [
              1,
              "#f0f921"
             ]
            ],
            "type": "histogram2d"
           }
          ],
          "histogram2dcontour": [
           {
            "colorbar": {
             "outlinewidth": 0,
             "ticks": ""
            },
            "colorscale": [
             [
              0,
              "#0d0887"
             ],
             [
              0.1111111111111111,
              "#46039f"
             ],
             [
              0.2222222222222222,
              "#7201a8"
             ],
             [
              0.3333333333333333,
              "#9c179e"
             ],
             [
              0.4444444444444444,
              "#bd3786"
             ],
             [
              0.5555555555555556,
              "#d8576b"
             ],
             [
              0.6666666666666666,
              "#ed7953"
             ],
             [
              0.7777777777777778,
              "#fb9f3a"
             ],
             [
              0.8888888888888888,
              "#fdca26"
             ],
             [
              1,
              "#f0f921"
             ]
            ],
            "type": "histogram2dcontour"
           }
          ],
          "mesh3d": [
           {
            "colorbar": {
             "outlinewidth": 0,
             "ticks": ""
            },
            "type": "mesh3d"
           }
          ],
          "parcoords": [
           {
            "line": {
             "colorbar": {
              "outlinewidth": 0,
              "ticks": ""
             }
            },
            "type": "parcoords"
           }
          ],
          "pie": [
           {
            "automargin": true,
            "type": "pie"
           }
          ],
          "scatter": [
           {
            "marker": {
             "colorbar": {
              "outlinewidth": 0,
              "ticks": ""
             }
            },
            "type": "scatter"
           }
          ],
          "scatter3d": [
           {
            "line": {
             "colorbar": {
              "outlinewidth": 0,
              "ticks": ""
             }
            },
            "marker": {
             "colorbar": {
              "outlinewidth": 0,
              "ticks": ""
             }
            },
            "type": "scatter3d"
           }
          ],
          "scattercarpet": [
           {
            "marker": {
             "colorbar": {
              "outlinewidth": 0,
              "ticks": ""
             }
            },
            "type": "scattercarpet"
           }
          ],
          "scattergeo": [
           {
            "marker": {
             "colorbar": {
              "outlinewidth": 0,
              "ticks": ""
             }
            },
            "type": "scattergeo"
           }
          ],
          "scattergl": [
           {
            "marker": {
             "colorbar": {
              "outlinewidth": 0,
              "ticks": ""
             }
            },
            "type": "scattergl"
           }
          ],
          "scattermapbox": [
           {
            "marker": {
             "colorbar": {
              "outlinewidth": 0,
              "ticks": ""
             }
            },
            "type": "scattermapbox"
           }
          ],
          "scatterpolar": [
           {
            "marker": {
             "colorbar": {
              "outlinewidth": 0,
              "ticks": ""
             }
            },
            "type": "scatterpolar"
           }
          ],
          "scatterpolargl": [
           {
            "marker": {
             "colorbar": {
              "outlinewidth": 0,
              "ticks": ""
             }
            },
            "type": "scatterpolargl"
           }
          ],
          "scatterternary": [
           {
            "marker": {
             "colorbar": {
              "outlinewidth": 0,
              "ticks": ""
             }
            },
            "type": "scatterternary"
           }
          ],
          "surface": [
           {
            "colorbar": {
             "outlinewidth": 0,
             "ticks": ""
            },
            "colorscale": [
             [
              0,
              "#0d0887"
             ],
             [
              0.1111111111111111,
              "#46039f"
             ],
             [
              0.2222222222222222,
              "#7201a8"
             ],
             [
              0.3333333333333333,
              "#9c179e"
             ],
             [
              0.4444444444444444,
              "#bd3786"
             ],
             [
              0.5555555555555556,
              "#d8576b"
             ],
             [
              0.6666666666666666,
              "#ed7953"
             ],
             [
              0.7777777777777778,
              "#fb9f3a"
             ],
             [
              0.8888888888888888,
              "#fdca26"
             ],
             [
              1,
              "#f0f921"
             ]
            ],
            "type": "surface"
           }
          ],
          "table": [
           {
            "cells": {
             "fill": {
              "color": "#EBF0F8"
             },
             "line": {
              "color": "white"
             }
            },
            "header": {
             "fill": {
              "color": "#C8D4E3"
             },
             "line": {
              "color": "white"
             }
            },
            "type": "table"
           }
          ]
         },
         "layout": {
          "annotationdefaults": {
           "arrowcolor": "#2a3f5f",
           "arrowhead": 0,
           "arrowwidth": 1
          },
          "autotypenumbers": "strict",
          "coloraxis": {
           "colorbar": {
            "outlinewidth": 0,
            "ticks": ""
           }
          },
          "colorscale": {
           "diverging": [
            [
             0,
             "#8e0152"
            ],
            [
             0.1,
             "#c51b7d"
            ],
            [
             0.2,
             "#de77ae"
            ],
            [
             0.3,
             "#f1b6da"
            ],
            [
             0.4,
             "#fde0ef"
            ],
            [
             0.5,
             "#f7f7f7"
            ],
            [
             0.6,
             "#e6f5d0"
            ],
            [
             0.7,
             "#b8e186"
            ],
            [
             0.8,
             "#7fbc41"
            ],
            [
             0.9,
             "#4d9221"
            ],
            [
             1,
             "#276419"
            ]
           ],
           "sequential": [
            [
             0,
             "#0d0887"
            ],
            [
             0.1111111111111111,
             "#46039f"
            ],
            [
             0.2222222222222222,
             "#7201a8"
            ],
            [
             0.3333333333333333,
             "#9c179e"
            ],
            [
             0.4444444444444444,
             "#bd3786"
            ],
            [
             0.5555555555555556,
             "#d8576b"
            ],
            [
             0.6666666666666666,
             "#ed7953"
            ],
            [
             0.7777777777777778,
             "#fb9f3a"
            ],
            [
             0.8888888888888888,
             "#fdca26"
            ],
            [
             1,
             "#f0f921"
            ]
           ],
           "sequentialminus": [
            [
             0,
             "#0d0887"
            ],
            [
             0.1111111111111111,
             "#46039f"
            ],
            [
             0.2222222222222222,
             "#7201a8"
            ],
            [
             0.3333333333333333,
             "#9c179e"
            ],
            [
             0.4444444444444444,
             "#bd3786"
            ],
            [
             0.5555555555555556,
             "#d8576b"
            ],
            [
             0.6666666666666666,
             "#ed7953"
            ],
            [
             0.7777777777777778,
             "#fb9f3a"
            ],
            [
             0.8888888888888888,
             "#fdca26"
            ],
            [
             1,
             "#f0f921"
            ]
           ]
          },
          "colorway": [
           "#636efa",
           "#EF553B",
           "#00cc96",
           "#ab63fa",
           "#FFA15A",
           "#19d3f3",
           "#FF6692",
           "#B6E880",
           "#FF97FF",
           "#FECB52"
          ],
          "font": {
           "color": "#2a3f5f"
          },
          "geo": {
           "bgcolor": "white",
           "lakecolor": "white",
           "landcolor": "#E5ECF6",
           "showlakes": true,
           "showland": true,
           "subunitcolor": "white"
          },
          "hoverlabel": {
           "align": "left"
          },
          "hovermode": "closest",
          "mapbox": {
           "style": "light"
          },
          "paper_bgcolor": "white",
          "plot_bgcolor": "#E5ECF6",
          "polar": {
           "angularaxis": {
            "gridcolor": "white",
            "linecolor": "white",
            "ticks": ""
           },
           "bgcolor": "#E5ECF6",
           "radialaxis": {
            "gridcolor": "white",
            "linecolor": "white",
            "ticks": ""
           }
          },
          "scene": {
           "xaxis": {
            "backgroundcolor": "#E5ECF6",
            "gridcolor": "white",
            "gridwidth": 2,
            "linecolor": "white",
            "showbackground": true,
            "ticks": "",
            "zerolinecolor": "white"
           },
           "yaxis": {
            "backgroundcolor": "#E5ECF6",
            "gridcolor": "white",
            "gridwidth": 2,
            "linecolor": "white",
            "showbackground": true,
            "ticks": "",
            "zerolinecolor": "white"
           },
           "zaxis": {
            "backgroundcolor": "#E5ECF6",
            "gridcolor": "white",
            "gridwidth": 2,
            "linecolor": "white",
            "showbackground": true,
            "ticks": "",
            "zerolinecolor": "white"
           }
          },
          "shapedefaults": {
           "line": {
            "color": "#2a3f5f"
           }
          },
          "ternary": {
           "aaxis": {
            "gridcolor": "white",
            "linecolor": "white",
            "ticks": ""
           },
           "baxis": {
            "gridcolor": "white",
            "linecolor": "white",
            "ticks": ""
           },
           "bgcolor": "#E5ECF6",
           "caxis": {
            "gridcolor": "white",
            "linecolor": "white",
            "ticks": ""
           }
          },
          "title": {
           "x": 0.05
          },
          "xaxis": {
           "automargin": true,
           "gridcolor": "white",
           "linecolor": "white",
           "ticks": "",
           "title": {
            "standoff": 15
           },
           "zerolinecolor": "white",
           "zerolinewidth": 2
          },
          "yaxis": {
           "automargin": true,
           "gridcolor": "white",
           "linecolor": "white",
           "ticks": "",
           "title": {
            "standoff": 15
           },
           "zerolinecolor": "white",
           "zerolinewidth": 2
          }
         }
        },
        "title": {
         "text": "timeDiff",
         "x": 0.5,
         "xanchor": "center",
         "y": 0.9,
         "yanchor": "top"
        },
        "width": 1200
       }
      },
      "text/html": [
       "<div>                            <div id=\"e79f4150-4062-4366-a036-c2c375326345\" class=\"plotly-graph-div\" style=\"height:600px; width:1200px;\"></div>            <script type=\"text/javascript\">                require([\"plotly\"], function(Plotly) {                    window.PLOTLYENV=window.PLOTLYENV || {};                                    if (document.getElementById(\"e79f4150-4062-4366-a036-c2c375326345\")) {                    Plotly.newPlot(                        \"e79f4150-4062-4366-a036-c2c375326345\",                        [{\"marker\":{\"color\":\"#741b47\"},\"type\":\"histogram\",\"x\":[8,8,8,8,8,8,1,1,1,1,1,1,4,4,4,4,4,4,4,4,4,4,4,4,1,1,1,1,1,1,4,4,4,4,4,4,1,1,1,1,1,1,4,4,4,4,4,4,1,1,1,1,1,1,2,2,2,2,2,2,0,0,0,0,0,0,9,9,9,9,9,9,1,1,1,1,1,1,4,4,4,4,4,4,1,1,1,1,1,1,4,4,4,4,4,4,4,4,4,4,4,4,1,1,1,1,1,1,4,4,4,4,4,4,1,1,1,1,1,1,4,4,4,4,4,4,1,1,1,1,1,1,1,1,1,1,1,1,4,4,4,4,4,4,5,5,5,5,5,5,6,6,6,6,6,6,1,1,1,1,1,1,0,0,0,0,0,0,0,0,0,0,0,0,1,1,1,1,1,1,4,4,4,4,4,4,1,1,1,1,1,1,4,4,4,4,4,4,1,1,1,1,1,1,4,4,4,4,4,4,0,1,1,1,1,1,1,4,4,4,4,4,4,1,1,1,1,1,1,4,4,4,4,4,4,3,3,3,3]}],                        {\"bargap\":0.2,\"bargroupgap\":0.1,\"font\":{\"color\":\"Black\",\"family\":\"Courier New, monospace\",\"size\":16},\"height\":600,\"template\":{\"data\":{\"bar\":[{\"error_x\":{\"color\":\"#2a3f5f\"},\"error_y\":{\"color\":\"#2a3f5f\"},\"marker\":{\"line\":{\"color\":\"#E5ECF6\",\"width\":0.5},\"pattern\":{\"fillmode\":\"overlay\",\"size\":10,\"solidity\":0.2}},\"type\":\"bar\"}],\"barpolar\":[{\"marker\":{\"line\":{\"color\":\"#E5ECF6\",\"width\":0.5},\"pattern\":{\"fillmode\":\"overlay\",\"size\":10,\"solidity\":0.2}},\"type\":\"barpolar\"}],\"carpet\":[{\"aaxis\":{\"endlinecolor\":\"#2a3f5f\",\"gridcolor\":\"white\",\"linecolor\":\"white\",\"minorgridcolor\":\"white\",\"startlinecolor\":\"#2a3f5f\"},\"baxis\":{\"endlinecolor\":\"#2a3f5f\",\"gridcolor\":\"white\",\"linecolor\":\"white\",\"minorgridcolor\":\"white\",\"startlinecolor\":\"#2a3f5f\"},\"type\":\"carpet\"}],\"choropleth\":[{\"colorbar\":{\"outlinewidth\":0,\"ticks\":\"\"},\"type\":\"choropleth\"}],\"contour\":[{\"colorbar\":{\"outlinewidth\":0,\"ticks\":\"\"},\"colorscale\":[[0.0,\"#0d0887\"],[0.1111111111111111,\"#46039f\"],[0.2222222222222222,\"#7201a8\"],[0.3333333333333333,\"#9c179e\"],[0.4444444444444444,\"#bd3786\"],[0.5555555555555556,\"#d8576b\"],[0.6666666666666666,\"#ed7953\"],[0.7777777777777778,\"#fb9f3a\"],[0.8888888888888888,\"#fdca26\"],[1.0,\"#f0f921\"]],\"type\":\"contour\"}],\"contourcarpet\":[{\"colorbar\":{\"outlinewidth\":0,\"ticks\":\"\"},\"type\":\"contourcarpet\"}],\"heatmap\":[{\"colorbar\":{\"outlinewidth\":0,\"ticks\":\"\"},\"colorscale\":[[0.0,\"#0d0887\"],[0.1111111111111111,\"#46039f\"],[0.2222222222222222,\"#7201a8\"],[0.3333333333333333,\"#9c179e\"],[0.4444444444444444,\"#bd3786\"],[0.5555555555555556,\"#d8576b\"],[0.6666666666666666,\"#ed7953\"],[0.7777777777777778,\"#fb9f3a\"],[0.8888888888888888,\"#fdca26\"],[1.0,\"#f0f921\"]],\"type\":\"heatmap\"}],\"heatmapgl\":[{\"colorbar\":{\"outlinewidth\":0,\"ticks\":\"\"},\"colorscale\":[[0.0,\"#0d0887\"],[0.1111111111111111,\"#46039f\"],[0.2222222222222222,\"#7201a8\"],[0.3333333333333333,\"#9c179e\"],[0.4444444444444444,\"#bd3786\"],[0.5555555555555556,\"#d8576b\"],[0.6666666666666666,\"#ed7953\"],[0.7777777777777778,\"#fb9f3a\"],[0.8888888888888888,\"#fdca26\"],[1.0,\"#f0f921\"]],\"type\":\"heatmapgl\"}],\"histogram\":[{\"marker\":{\"pattern\":{\"fillmode\":\"overlay\",\"size\":10,\"solidity\":0.2}},\"type\":\"histogram\"}],\"histogram2d\":[{\"colorbar\":{\"outlinewidth\":0,\"ticks\":\"\"},\"colorscale\":[[0.0,\"#0d0887\"],[0.1111111111111111,\"#46039f\"],[0.2222222222222222,\"#7201a8\"],[0.3333333333333333,\"#9c179e\"],[0.4444444444444444,\"#bd3786\"],[0.5555555555555556,\"#d8576b\"],[0.6666666666666666,\"#ed7953\"],[0.7777777777777778,\"#fb9f3a\"],[0.8888888888888888,\"#fdca26\"],[1.0,\"#f0f921\"]],\"type\":\"histogram2d\"}],\"histogram2dcontour\":[{\"colorbar\":{\"outlinewidth\":0,\"ticks\":\"\"},\"colorscale\":[[0.0,\"#0d0887\"],[0.1111111111111111,\"#46039f\"],[0.2222222222222222,\"#7201a8\"],[0.3333333333333333,\"#9c179e\"],[0.4444444444444444,\"#bd3786\"],[0.5555555555555556,\"#d8576b\"],[0.6666666666666666,\"#ed7953\"],[0.7777777777777778,\"#fb9f3a\"],[0.8888888888888888,\"#fdca26\"],[1.0,\"#f0f921\"]],\"type\":\"histogram2dcontour\"}],\"mesh3d\":[{\"colorbar\":{\"outlinewidth\":0,\"ticks\":\"\"},\"type\":\"mesh3d\"}],\"parcoords\":[{\"line\":{\"colorbar\":{\"outlinewidth\":0,\"ticks\":\"\"}},\"type\":\"parcoords\"}],\"pie\":[{\"automargin\":true,\"type\":\"pie\"}],\"scatter\":[{\"marker\":{\"colorbar\":{\"outlinewidth\":0,\"ticks\":\"\"}},\"type\":\"scatter\"}],\"scatter3d\":[{\"line\":{\"colorbar\":{\"outlinewidth\":0,\"ticks\":\"\"}},\"marker\":{\"colorbar\":{\"outlinewidth\":0,\"ticks\":\"\"}},\"type\":\"scatter3d\"}],\"scattercarpet\":[{\"marker\":{\"colorbar\":{\"outlinewidth\":0,\"ticks\":\"\"}},\"type\":\"scattercarpet\"}],\"scattergeo\":[{\"marker\":{\"colorbar\":{\"outlinewidth\":0,\"ticks\":\"\"}},\"type\":\"scattergeo\"}],\"scattergl\":[{\"marker\":{\"colorbar\":{\"outlinewidth\":0,\"ticks\":\"\"}},\"type\":\"scattergl\"}],\"scattermapbox\":[{\"marker\":{\"colorbar\":{\"outlinewidth\":0,\"ticks\":\"\"}},\"type\":\"scattermapbox\"}],\"scatterpolar\":[{\"marker\":{\"colorbar\":{\"outlinewidth\":0,\"ticks\":\"\"}},\"type\":\"scatterpolar\"}],\"scatterpolargl\":[{\"marker\":{\"colorbar\":{\"outlinewidth\":0,\"ticks\":\"\"}},\"type\":\"scatterpolargl\"}],\"scatterternary\":[{\"marker\":{\"colorbar\":{\"outlinewidth\":0,\"ticks\":\"\"}},\"type\":\"scatterternary\"}],\"surface\":[{\"colorbar\":{\"outlinewidth\":0,\"ticks\":\"\"},\"colorscale\":[[0.0,\"#0d0887\"],[0.1111111111111111,\"#46039f\"],[0.2222222222222222,\"#7201a8\"],[0.3333333333333333,\"#9c179e\"],[0.4444444444444444,\"#bd3786\"],[0.5555555555555556,\"#d8576b\"],[0.6666666666666666,\"#ed7953\"],[0.7777777777777778,\"#fb9f3a\"],[0.8888888888888888,\"#fdca26\"],[1.0,\"#f0f921\"]],\"type\":\"surface\"}],\"table\":[{\"cells\":{\"fill\":{\"color\":\"#EBF0F8\"},\"line\":{\"color\":\"white\"}},\"header\":{\"fill\":{\"color\":\"#C8D4E3\"},\"line\":{\"color\":\"white\"}},\"type\":\"table\"}]},\"layout\":{\"annotationdefaults\":{\"arrowcolor\":\"#2a3f5f\",\"arrowhead\":0,\"arrowwidth\":1},\"autotypenumbers\":\"strict\",\"coloraxis\":{\"colorbar\":{\"outlinewidth\":0,\"ticks\":\"\"}},\"colorscale\":{\"diverging\":[[0,\"#8e0152\"],[0.1,\"#c51b7d\"],[0.2,\"#de77ae\"],[0.3,\"#f1b6da\"],[0.4,\"#fde0ef\"],[0.5,\"#f7f7f7\"],[0.6,\"#e6f5d0\"],[0.7,\"#b8e186\"],[0.8,\"#7fbc41\"],[0.9,\"#4d9221\"],[1,\"#276419\"]],\"sequential\":[[0.0,\"#0d0887\"],[0.1111111111111111,\"#46039f\"],[0.2222222222222222,\"#7201a8\"],[0.3333333333333333,\"#9c179e\"],[0.4444444444444444,\"#bd3786\"],[0.5555555555555556,\"#d8576b\"],[0.6666666666666666,\"#ed7953\"],[0.7777777777777778,\"#fb9f3a\"],[0.8888888888888888,\"#fdca26\"],[1.0,\"#f0f921\"]],\"sequentialminus\":[[0.0,\"#0d0887\"],[0.1111111111111111,\"#46039f\"],[0.2222222222222222,\"#7201a8\"],[0.3333333333333333,\"#9c179e\"],[0.4444444444444444,\"#bd3786\"],[0.5555555555555556,\"#d8576b\"],[0.6666666666666666,\"#ed7953\"],[0.7777777777777778,\"#fb9f3a\"],[0.8888888888888888,\"#fdca26\"],[1.0,\"#f0f921\"]]},\"colorway\":[\"#636efa\",\"#EF553B\",\"#00cc96\",\"#ab63fa\",\"#FFA15A\",\"#19d3f3\",\"#FF6692\",\"#B6E880\",\"#FF97FF\",\"#FECB52\"],\"font\":{\"color\":\"#2a3f5f\"},\"geo\":{\"bgcolor\":\"white\",\"lakecolor\":\"white\",\"landcolor\":\"#E5ECF6\",\"showlakes\":true,\"showland\":true,\"subunitcolor\":\"white\"},\"hoverlabel\":{\"align\":\"left\"},\"hovermode\":\"closest\",\"mapbox\":{\"style\":\"light\"},\"paper_bgcolor\":\"white\",\"plot_bgcolor\":\"#E5ECF6\",\"polar\":{\"angularaxis\":{\"gridcolor\":\"white\",\"linecolor\":\"white\",\"ticks\":\"\"},\"bgcolor\":\"#E5ECF6\",\"radialaxis\":{\"gridcolor\":\"white\",\"linecolor\":\"white\",\"ticks\":\"\"}},\"scene\":{\"xaxis\":{\"backgroundcolor\":\"#E5ECF6\",\"gridcolor\":\"white\",\"gridwidth\":2,\"linecolor\":\"white\",\"showbackground\":true,\"ticks\":\"\",\"zerolinecolor\":\"white\"},\"yaxis\":{\"backgroundcolor\":\"#E5ECF6\",\"gridcolor\":\"white\",\"gridwidth\":2,\"linecolor\":\"white\",\"showbackground\":true,\"ticks\":\"\",\"zerolinecolor\":\"white\"},\"zaxis\":{\"backgroundcolor\":\"#E5ECF6\",\"gridcolor\":\"white\",\"gridwidth\":2,\"linecolor\":\"white\",\"showbackground\":true,\"ticks\":\"\",\"zerolinecolor\":\"white\"}},\"shapedefaults\":{\"line\":{\"color\":\"#2a3f5f\"}},\"ternary\":{\"aaxis\":{\"gridcolor\":\"white\",\"linecolor\":\"white\",\"ticks\":\"\"},\"baxis\":{\"gridcolor\":\"white\",\"linecolor\":\"white\",\"ticks\":\"\"},\"bgcolor\":\"#E5ECF6\",\"caxis\":{\"gridcolor\":\"white\",\"linecolor\":\"white\",\"ticks\":\"\"}},\"title\":{\"x\":0.05},\"xaxis\":{\"automargin\":true,\"gridcolor\":\"white\",\"linecolor\":\"white\",\"ticks\":\"\",\"title\":{\"standoff\":15},\"zerolinecolor\":\"white\",\"zerolinewidth\":2},\"yaxis\":{\"automargin\":true,\"gridcolor\":\"white\",\"linecolor\":\"white\",\"ticks\":\"\",\"title\":{\"standoff\":15},\"zerolinecolor\":\"white\",\"zerolinewidth\":2}}},\"title\":{\"text\":\"timeDiff\",\"x\":0.5,\"xanchor\":\"center\",\"y\":0.9,\"yanchor\":\"top\"},\"width\":1200},                        {\"responsive\": true}                    ).then(function(){\n",
       "                            \n",
       "var gd = document.getElementById('e79f4150-4062-4366-a036-c2c375326345');\n",
       "var x = new MutationObserver(function (mutations, observer) {{\n",
       "        var display = window.getComputedStyle(gd).display;\n",
       "        if (!display || display === 'none') {{\n",
       "            console.log([gd, 'removed!']);\n",
       "            Plotly.purge(gd);\n",
       "            observer.disconnect();\n",
       "        }}\n",
       "}});\n",
       "\n",
       "// Listen for the removal of the full notebook cells\n",
       "var notebookContainer = gd.closest('#notebook-container');\n",
       "if (notebookContainer) {{\n",
       "    x.observe(notebookContainer, {childList: true});\n",
       "}}\n",
       "\n",
       "// Listen for the clearing of the current output cell\n",
       "var outputEl = gd.closest('.output');\n",
       "if (outputEl) {{\n",
       "    x.observe(outputEl, {childList: true});\n",
       "}}\n",
       "\n",
       "                        })                };                });            </script>        </div>"
      ]
     },
     "metadata": {},
     "output_type": "display_data"
    }
   ],
   "source": [
    "fig = go.Figure()\n",
    "fig.add_trace(go.Histogram(\n",
    "    x=HotelBookingRuleNotifRQ.timeDiff,\n",
    "    marker_color='#741b47'\n",
    "))\n",
    "\n",
    "fig.update_layout(\n",
    "    title={'text':'timeDiff', \n",
    "           \"y\":0.9,\n",
    "           \"x\":0.5,\n",
    "           \"xanchor\":\"center\",\n",
    "           \"yanchor\":\"top\"},\n",
    "    width=1200,height=600,\n",
    "    font=dict(\n",
    "    family= \"Courier New, monospace\",\n",
    "    size=16,\n",
    "    color=\"Black\"),\n",
    "    bargap=0.2, \n",
    "    bargroupgap=0.1 \n",
    ")\n",
    "\n",
    "fig.show()"
   ]
  },
  {
   "cell_type": "code",
   "execution_count": null,
   "id": "30c33832",
   "metadata": {},
   "outputs": [],
   "source": []
  },
  {
   "cell_type": "code",
   "execution_count": null,
   "id": "73d0e365",
   "metadata": {},
   "outputs": [],
   "source": []
  }
 ],
 "metadata": {
  "kernelspec": {
   "display_name": "Python 3",
   "language": "python",
   "name": "python3"
  },
  "language_info": {
   "codemirror_mode": {
    "name": "ipython",
    "version": 3
   },
   "file_extension": ".py",
   "mimetype": "text/x-python",
   "name": "python",
   "nbconvert_exporter": "python",
   "pygments_lexer": "ipython3",
   "version": "3.7.6"
  }
 },
 "nbformat": 4,
 "nbformat_minor": 5
}
