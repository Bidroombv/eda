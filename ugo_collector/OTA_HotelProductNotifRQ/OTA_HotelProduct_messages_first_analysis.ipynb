{
 "cells": [
  {
   "cell_type": "code",
   "execution_count": 1,
   "id": "fiscal-battlefield",
   "metadata": {
    "ExecuteTime": {
     "end_time": "2022-04-01T09:04:41.765514Z",
     "start_time": "2022-04-01T09:04:41.757919Z"
    }
   },
   "outputs": [
    {
     "data": {
      "text/html": [
       "<style>.container { width:80% !important; }</style>"
      ],
      "text/plain": [
       "<IPython.core.display.HTML object>"
      ]
     },
     "metadata": {},
     "output_type": "display_data"
    }
   ],
   "source": [
    "from IPython.core.display import display, HTML\n",
    "display(HTML(\"<style>.container { width:80% !important; }</style>\"))"
   ]
  },
  {
   "cell_type": "code",
   "execution_count": 2,
   "id": "postal-bridge",
   "metadata": {
    "ExecuteTime": {
     "end_time": "2022-04-01T09:04:42.166720Z",
     "start_time": "2022-04-01T09:04:41.766689Z"
    }
   },
   "outputs": [],
   "source": [
    "import pandas as pd\n",
    "import io\n",
    "import os\n",
    "import pyarrow.parquet as pq\n",
    "import numpy as np"
   ]
  },
  {
   "cell_type": "code",
   "execution_count": 3,
   "id": "middle-swaziland",
   "metadata": {
    "ExecuteTime": {
     "end_time": "2022-04-01T09:04:42.170641Z",
     "start_time": "2022-04-01T09:04:42.168399Z"
    }
   },
   "outputs": [],
   "source": [
    "pd.set_option('display.max_columns', None)\n",
    "pd.set_option('display.expand_frame_repr', False)"
   ]
  },
  {
   "cell_type": "markdown",
   "id": "palestinian-wisdom",
   "metadata": {},
   "source": [
    "# Loading data"
   ]
  },
  {
   "cell_type": "code",
   "execution_count": 4,
   "id": "metropolitan-kentucky",
   "metadata": {
    "ExecuteTime": {
     "end_time": "2022-04-01T09:04:42.376789Z",
     "start_time": "2022-04-01T09:04:42.171970Z"
    }
   },
   "outputs": [],
   "source": [
    "script_dir = os.path.dirname('__file__') #<-- absolute dir the script is in\n",
    "rel_path = \"OTA_HotelProductNotifRQ/\"\n",
    "abs_file_path = os.path.join(script_dir, rel_path)\n",
    "dataset = pq.ParquetDataset(abs_file_path)\n",
    "table = dataset.read()"
   ]
  },
  {
   "cell_type": "code",
   "execution_count": 5,
   "id": "prepared-canada",
   "metadata": {
    "ExecuteTime": {
     "end_time": "2022-04-01T09:04:43.075194Z",
     "start_time": "2022-04-01T09:04:42.378380Z"
    }
   },
   "outputs": [
    {
     "data": {
      "text/html": [
       "<div>\n",
       "<style scoped>\n",
       "    .dataframe tbody tr th:only-of-type {\n",
       "        vertical-align: middle;\n",
       "    }\n",
       "\n",
       "    .dataframe tbody tr th {\n",
       "        vertical-align: top;\n",
       "    }\n",
       "\n",
       "    .dataframe thead th {\n",
       "        text-align: right;\n",
       "    }\n",
       "</style>\n",
       "<table border=\"1\" class=\"dataframe\">\n",
       "  <thead>\n",
       "    <tr style=\"text-align: right;\">\n",
       "      <th></th>\n",
       "      <th>HotelProductNotifRQMessage</th>\n",
       "    </tr>\n",
       "  </thead>\n",
       "  <tbody>\n",
       "    <tr>\n",
       "      <th>0</th>\n",
       "      <td>[{'MessageMeta': {'X-Correlation-ID': '377d564...</td>\n",
       "    </tr>\n",
       "    <tr>\n",
       "      <th>1</th>\n",
       "      <td>[{'MessageMeta': {'X-Correlation-ID': 'b6e5a99...</td>\n",
       "    </tr>\n",
       "  </tbody>\n",
       "</table>\n",
       "</div>"
      ],
      "text/plain": [
       "                          HotelProductNotifRQMessage\n",
       "0  [{'MessageMeta': {'X-Correlation-ID': '377d564...\n",
       "1  [{'MessageMeta': {'X-Correlation-ID': 'b6e5a99..."
      ]
     },
     "execution_count": 5,
     "metadata": {},
     "output_type": "execute_result"
    }
   ],
   "source": [
    "product = table.to_pandas()\n",
    "product"
   ]
  },
  {
   "cell_type": "code",
   "execution_count": 6,
   "id": "conscious-donor",
   "metadata": {
    "ExecuteTime": {
     "end_time": "2022-04-01T09:04:43.135829Z",
     "start_time": "2022-04-01T09:04:43.076821Z"
    }
   },
   "outputs": [
    {
     "data": {
      "text/plain": [
       "HotelProductNotifRQMessage    [{'MessageMeta': {'X-Correlation-ID': '377d564...\n",
       "Name: 0, dtype: object"
      ]
     },
     "execution_count": 6,
     "metadata": {},
     "output_type": "execute_result"
    }
   ],
   "source": [
    "product.iloc[0]"
   ]
  },
  {
   "cell_type": "markdown",
   "id": "opposed-highland",
   "metadata": {},
   "source": [
    "# Splliting data"
   ]
  },
  {
   "cell_type": "code",
   "execution_count": 7,
   "id": "mathematical-hudson",
   "metadata": {
    "ExecuteTime": {
     "end_time": "2022-04-01T09:04:43.219467Z",
     "start_time": "2022-04-01T09:04:43.136847Z"
    }
   },
   "outputs": [],
   "source": [
    "def explode_and_split(dataframe: pd.DataFrame, column: str):\n",
    "    unnested = dataframe.explode(column)\n",
    "    return pd.DataFrame(list(unnested[column]))"
   ]
  },
  {
   "cell_type": "code",
   "execution_count": 8,
   "id": "located-bread",
   "metadata": {
    "ExecuteTime": {
     "end_time": "2022-04-01T09:04:43.345887Z",
     "start_time": "2022-04-01T09:04:43.221319Z"
    }
   },
   "outputs": [
    {
     "data": {
      "text/html": [
       "<div>\n",
       "<style scoped>\n",
       "    .dataframe tbody tr th:only-of-type {\n",
       "        vertical-align: middle;\n",
       "    }\n",
       "\n",
       "    .dataframe tbody tr th {\n",
       "        vertical-align: top;\n",
       "    }\n",
       "\n",
       "    .dataframe thead th {\n",
       "        text-align: right;\n",
       "    }\n",
       "</style>\n",
       "<table border=\"1\" class=\"dataframe\">\n",
       "  <thead>\n",
       "    <tr style=\"text-align: right;\">\n",
       "      <th></th>\n",
       "      <th>MessageMeta</th>\n",
       "      <th>OTA_HotelProductNotifRQ</th>\n",
       "    </tr>\n",
       "  </thead>\n",
       "  <tbody>\n",
       "    <tr>\n",
       "      <th>0</th>\n",
       "      <td>{'X-Correlation-ID': '377d5648-622b-4e04-a248-...</td>\n",
       "      <td>{'HotelProducts': {'HotelCode': 'GRT122050', '...</td>\n",
       "    </tr>\n",
       "    <tr>\n",
       "      <th>1</th>\n",
       "      <td>{'X-Correlation-ID': '25ddc6a7-9500-4562-920c-...</td>\n",
       "      <td>{'HotelProducts': {'HotelCode': 'GRT002988', '...</td>\n",
       "    </tr>\n",
       "    <tr>\n",
       "      <th>2</th>\n",
       "      <td>{'X-Correlation-ID': '59d1fefc-f493-49ba-87a3-...</td>\n",
       "      <td>{'HotelProducts': {'HotelCode': 'GRT003886', '...</td>\n",
       "    </tr>\n",
       "    <tr>\n",
       "      <th>3</th>\n",
       "      <td>{'X-Correlation-ID': '61474731-acf2-4a2f-ac0f-...</td>\n",
       "      <td>{'HotelProducts': {'HotelCode': 'GRT003144', '...</td>\n",
       "    </tr>\n",
       "    <tr>\n",
       "      <th>4</th>\n",
       "      <td>{'X-Correlation-ID': '83be1461-8dd6-43e7-916b-...</td>\n",
       "      <td>{'HotelProducts': {'HotelCode': 'GRT121661', '...</td>\n",
       "    </tr>\n",
       "    <tr>\n",
       "      <th>...</th>\n",
       "      <td>...</td>\n",
       "      <td>...</td>\n",
       "    </tr>\n",
       "    <tr>\n",
       "      <th>15005</th>\n",
       "      <td>{'X-Correlation-ID': 'a490f964-3b7a-4476-b448-...</td>\n",
       "      <td>{'HotelProducts': {'HotelCode': 'GRT002629', '...</td>\n",
       "    </tr>\n",
       "    <tr>\n",
       "      <th>15006</th>\n",
       "      <td>{'X-Correlation-ID': '76d0a906-7c9c-4be2-9da4-...</td>\n",
       "      <td>{'HotelProducts': {'HotelCode': 'GRT121939', '...</td>\n",
       "    </tr>\n",
       "    <tr>\n",
       "      <th>15007</th>\n",
       "      <td>{'X-Correlation-ID': 'e077e3b5-c078-490a-837c-...</td>\n",
       "      <td>{'HotelProducts': {'HotelCode': 'GRT003908', '...</td>\n",
       "    </tr>\n",
       "    <tr>\n",
       "      <th>15008</th>\n",
       "      <td>{'X-Correlation-ID': '23b5bff4-88e5-4ff8-bcc9-...</td>\n",
       "      <td>{'HotelProducts': {'HotelCode': 'GRT120515', '...</td>\n",
       "    </tr>\n",
       "    <tr>\n",
       "      <th>15009</th>\n",
       "      <td>{'X-Correlation-ID': '39095b74-3243-44a6-bf81-...</td>\n",
       "      <td>{'HotelProducts': {'HotelCode': 'GRT121537', '...</td>\n",
       "    </tr>\n",
       "  </tbody>\n",
       "</table>\n",
       "<p>15010 rows × 2 columns</p>\n",
       "</div>"
      ],
      "text/plain": [
       "                                             MessageMeta                            OTA_HotelProductNotifRQ\n",
       "0      {'X-Correlation-ID': '377d5648-622b-4e04-a248-...  {'HotelProducts': {'HotelCode': 'GRT122050', '...\n",
       "1      {'X-Correlation-ID': '25ddc6a7-9500-4562-920c-...  {'HotelProducts': {'HotelCode': 'GRT002988', '...\n",
       "2      {'X-Correlation-ID': '59d1fefc-f493-49ba-87a3-...  {'HotelProducts': {'HotelCode': 'GRT003886', '...\n",
       "3      {'X-Correlation-ID': '61474731-acf2-4a2f-ac0f-...  {'HotelProducts': {'HotelCode': 'GRT003144', '...\n",
       "4      {'X-Correlation-ID': '83be1461-8dd6-43e7-916b-...  {'HotelProducts': {'HotelCode': 'GRT121661', '...\n",
       "...                                                  ...                                                ...\n",
       "15005  {'X-Correlation-ID': 'a490f964-3b7a-4476-b448-...  {'HotelProducts': {'HotelCode': 'GRT002629', '...\n",
       "15006  {'X-Correlation-ID': '76d0a906-7c9c-4be2-9da4-...  {'HotelProducts': {'HotelCode': 'GRT121939', '...\n",
       "15007  {'X-Correlation-ID': 'e077e3b5-c078-490a-837c-...  {'HotelProducts': {'HotelCode': 'GRT003908', '...\n",
       "15008  {'X-Correlation-ID': '23b5bff4-88e5-4ff8-bcc9-...  {'HotelProducts': {'HotelCode': 'GRT120515', '...\n",
       "15009  {'X-Correlation-ID': '39095b74-3243-44a6-bf81-...  {'HotelProducts': {'HotelCode': 'GRT121537', '...\n",
       "\n",
       "[15010 rows x 2 columns]"
      ]
     },
     "execution_count": 8,
     "metadata": {},
     "output_type": "execute_result"
    }
   ],
   "source": [
    "HotelProductNotifRQ_Messages_splited = explode_and_split(product, \"HotelProductNotifRQMessage\")\n",
    "HotelProductNotifRQ_Messages_splited"
   ]
  },
  {
   "cell_type": "code",
   "execution_count": 9,
   "id": "registered-certificate",
   "metadata": {
    "ExecuteTime": {
     "end_time": "2022-04-01T09:04:43.451688Z",
     "start_time": "2022-04-01T09:04:43.347507Z"
    }
   },
   "outputs": [
    {
     "data": {
      "text/html": [
       "<div>\n",
       "<style scoped>\n",
       "    .dataframe tbody tr th:only-of-type {\n",
       "        vertical-align: middle;\n",
       "    }\n",
       "\n",
       "    .dataframe tbody tr th {\n",
       "        vertical-align: top;\n",
       "    }\n",
       "\n",
       "    .dataframe thead th {\n",
       "        text-align: right;\n",
       "    }\n",
       "</style>\n",
       "<table border=\"1\" class=\"dataframe\">\n",
       "  <thead>\n",
       "    <tr style=\"text-align: right;\">\n",
       "      <th></th>\n",
       "      <th>X-Correlation-ID</th>\n",
       "      <th>Type</th>\n",
       "      <th>AppId</th>\n",
       "      <th>HotelProducts</th>\n",
       "    </tr>\n",
       "  </thead>\n",
       "  <tbody>\n",
       "    <tr>\n",
       "      <th>0</th>\n",
       "      <td>377d5648-622b-4e04-a248-f665359213e1</td>\n",
       "      <td>OTA_HotelProductNotifRQ</td>\n",
       "      <td>shiji</td>\n",
       "      <td>{'HotelCode': 'GRT122050', 'HotelName': '', 'C...</td>\n",
       "    </tr>\n",
       "    <tr>\n",
       "      <th>1</th>\n",
       "      <td>25ddc6a7-9500-4562-920c-d52a4ea377b8</td>\n",
       "      <td>OTA_HotelProductNotifRQ</td>\n",
       "      <td>shiji</td>\n",
       "      <td>{'HotelCode': 'GRT002988', 'HotelName': '', 'C...</td>\n",
       "    </tr>\n",
       "    <tr>\n",
       "      <th>2</th>\n",
       "      <td>59d1fefc-f493-49ba-87a3-70ffb87d87ef</td>\n",
       "      <td>OTA_HotelProductNotifRQ</td>\n",
       "      <td>shiji</td>\n",
       "      <td>{'HotelCode': 'GRT003886', 'HotelName': '', 'C...</td>\n",
       "    </tr>\n",
       "    <tr>\n",
       "      <th>3</th>\n",
       "      <td>61474731-acf2-4a2f-ac0f-63ff682f342e</td>\n",
       "      <td>OTA_HotelProductNotifRQ</td>\n",
       "      <td>shiji</td>\n",
       "      <td>{'HotelCode': 'GRT003144', 'HotelName': '', 'C...</td>\n",
       "    </tr>\n",
       "    <tr>\n",
       "      <th>4</th>\n",
       "      <td>83be1461-8dd6-43e7-916b-0af37b434401</td>\n",
       "      <td>OTA_HotelProductNotifRQ</td>\n",
       "      <td>shiji</td>\n",
       "      <td>{'HotelCode': 'GRT121661', 'HotelName': '', 'C...</td>\n",
       "    </tr>\n",
       "    <tr>\n",
       "      <th>...</th>\n",
       "      <td>...</td>\n",
       "      <td>...</td>\n",
       "      <td>...</td>\n",
       "      <td>...</td>\n",
       "    </tr>\n",
       "    <tr>\n",
       "      <th>15005</th>\n",
       "      <td>a490f964-3b7a-4476-b448-e1c972ca951f</td>\n",
       "      <td>OTA_HotelProductNotifRQ</td>\n",
       "      <td>shiji</td>\n",
       "      <td>{'HotelCode': 'GRT002629', 'HotelName': '', 'C...</td>\n",
       "    </tr>\n",
       "    <tr>\n",
       "      <th>15006</th>\n",
       "      <td>76d0a906-7c9c-4be2-9da4-088bb48796fc</td>\n",
       "      <td>OTA_HotelProductNotifRQ</td>\n",
       "      <td>shiji</td>\n",
       "      <td>{'HotelCode': 'GRT121939', 'HotelName': '', 'C...</td>\n",
       "    </tr>\n",
       "    <tr>\n",
       "      <th>15007</th>\n",
       "      <td>e077e3b5-c078-490a-837c-261e56320f1c</td>\n",
       "      <td>OTA_HotelProductNotifRQ</td>\n",
       "      <td>shiji</td>\n",
       "      <td>{'HotelCode': 'GRT003908', 'HotelName': '', 'C...</td>\n",
       "    </tr>\n",
       "    <tr>\n",
       "      <th>15008</th>\n",
       "      <td>23b5bff4-88e5-4ff8-bcc9-a62d222883d8</td>\n",
       "      <td>OTA_HotelProductNotifRQ</td>\n",
       "      <td>shiji</td>\n",
       "      <td>{'HotelCode': 'GRT120515', 'HotelName': '', 'C...</td>\n",
       "    </tr>\n",
       "    <tr>\n",
       "      <th>15009</th>\n",
       "      <td>39095b74-3243-44a6-bf81-14b733a2a359</td>\n",
       "      <td>OTA_HotelProductNotifRQ</td>\n",
       "      <td>shiji</td>\n",
       "      <td>{'HotelCode': 'GRT121537', 'HotelName': '', 'C...</td>\n",
       "    </tr>\n",
       "  </tbody>\n",
       "</table>\n",
       "<p>15010 rows × 4 columns</p>\n",
       "</div>"
      ],
      "text/plain": [
       "                           X-Correlation-ID                     Type  AppId                                      HotelProducts\n",
       "0      377d5648-622b-4e04-a248-f665359213e1  OTA_HotelProductNotifRQ  shiji  {'HotelCode': 'GRT122050', 'HotelName': '', 'C...\n",
       "1      25ddc6a7-9500-4562-920c-d52a4ea377b8  OTA_HotelProductNotifRQ  shiji  {'HotelCode': 'GRT002988', 'HotelName': '', 'C...\n",
       "2      59d1fefc-f493-49ba-87a3-70ffb87d87ef  OTA_HotelProductNotifRQ  shiji  {'HotelCode': 'GRT003886', 'HotelName': '', 'C...\n",
       "3      61474731-acf2-4a2f-ac0f-63ff682f342e  OTA_HotelProductNotifRQ  shiji  {'HotelCode': 'GRT003144', 'HotelName': '', 'C...\n",
       "4      83be1461-8dd6-43e7-916b-0af37b434401  OTA_HotelProductNotifRQ  shiji  {'HotelCode': 'GRT121661', 'HotelName': '', 'C...\n",
       "...                                     ...                      ...    ...                                                ...\n",
       "15005  a490f964-3b7a-4476-b448-e1c972ca951f  OTA_HotelProductNotifRQ  shiji  {'HotelCode': 'GRT002629', 'HotelName': '', 'C...\n",
       "15006  76d0a906-7c9c-4be2-9da4-088bb48796fc  OTA_HotelProductNotifRQ  shiji  {'HotelCode': 'GRT121939', 'HotelName': '', 'C...\n",
       "15007  e077e3b5-c078-490a-837c-261e56320f1c  OTA_HotelProductNotifRQ  shiji  {'HotelCode': 'GRT003908', 'HotelName': '', 'C...\n",
       "15008  23b5bff4-88e5-4ff8-bcc9-a62d222883d8  OTA_HotelProductNotifRQ  shiji  {'HotelCode': 'GRT120515', 'HotelName': '', 'C...\n",
       "15009  39095b74-3243-44a6-bf81-14b733a2a359  OTA_HotelProductNotifRQ  shiji  {'HotelCode': 'GRT121537', 'HotelName': '', 'C...\n",
       "\n",
       "[15010 rows x 4 columns]"
      ]
     },
     "execution_count": 9,
     "metadata": {},
     "output_type": "execute_result"
    }
   ],
   "source": [
    "OTA_HotelProductNotifRQ = pd.DataFrame(list(HotelProductNotifRQ_Messages_splited[\"OTA_HotelProductNotifRQ\"]))\n",
    "HotelProductNotifRQ_Messages_splited = HotelProductNotifRQ_Messages_splited.drop(columns=[\"OTA_HotelProductNotifRQ\"])\n",
    "HotelProductNotifRQ_Messages_splited = pd.DataFrame(list(HotelProductNotifRQ_Messages_splited[\"MessageMeta\"]))\n",
    "HotelProductNotifRQ_Messages_splited = HotelProductNotifRQ_Messages_splited.merge(OTA_HotelProductNotifRQ, left_index=True, right_index=True)\n",
    "HotelProductNotifRQ_Messages_splited"
   ]
  },
  {
   "cell_type": "code",
   "execution_count": 10,
   "id": "chronic-ethnic",
   "metadata": {
    "ExecuteTime": {
     "end_time": "2022-04-01T09:04:43.573160Z",
     "start_time": "2022-04-01T09:04:43.452842Z"
    }
   },
   "outputs": [],
   "source": [
    "def split_and_merge(dataframe: pd.DataFrame, column: str):\n",
    "    splited = pd.DataFrame(list(dataframe[column]))\n",
    "    merged = dataframe.merge(splited, left_index=True, right_index=True)\n",
    "    return merged.drop(columns=[column])"
   ]
  },
  {
   "cell_type": "code",
   "execution_count": 11,
   "id": "amino-indicator",
   "metadata": {
    "ExecuteTime": {
     "end_time": "2022-04-01T09:04:43.688718Z",
     "start_time": "2022-04-01T09:04:43.574197Z"
    }
   },
   "outputs": [],
   "source": [
    "HotelProductNotifRQ_Messages_splited = split_and_merge(HotelProductNotifRQ_Messages_splited, \"HotelProducts\")"
   ]
  },
  {
   "cell_type": "code",
   "execution_count": 12,
   "id": "sweet-determination",
   "metadata": {
    "ExecuteTime": {
     "end_time": "2022-04-01T09:04:43.781411Z",
     "start_time": "2022-04-01T09:04:43.689825Z"
    }
   },
   "outputs": [],
   "source": [
    "def explode_split_and_merge(dataframe: pd.DataFrame, column: str):\n",
    "    unnested = dataframe.explode(column)\n",
    "    splited = pd.DataFrame(list(unnested[column]))\n",
    "    merged = splited.merge(unnested, left_index=True, right_index=True)\n",
    "    return merged.drop(columns=[column])"
   ]
  },
  {
   "cell_type": "code",
   "execution_count": 13,
   "id": "minor-discipline",
   "metadata": {
    "ExecuteTime": {
     "end_time": "2022-04-01T09:04:43.903839Z",
     "start_time": "2022-04-01T09:04:43.782717Z"
    }
   },
   "outputs": [
    {
     "data": {
      "text/html": [
       "<div>\n",
       "<style scoped>\n",
       "    .dataframe tbody tr th:only-of-type {\n",
       "        vertical-align: middle;\n",
       "    }\n",
       "\n",
       "    .dataframe tbody tr th {\n",
       "        vertical-align: top;\n",
       "    }\n",
       "\n",
       "    .dataframe thead th {\n",
       "        text-align: right;\n",
       "    }\n",
       "</style>\n",
       "<table border=\"1\" class=\"dataframe\">\n",
       "  <thead>\n",
       "    <tr style=\"text-align: right;\">\n",
       "      <th></th>\n",
       "      <th>X-Correlation-ID</th>\n",
       "      <th>Type</th>\n",
       "      <th>AppId</th>\n",
       "      <th>HotelCode</th>\n",
       "      <th>HotelName</th>\n",
       "      <th>ChainCode</th>\n",
       "      <th>HotelProduct</th>\n",
       "    </tr>\n",
       "  </thead>\n",
       "  <tbody>\n",
       "    <tr>\n",
       "      <th>0</th>\n",
       "      <td>377d5648-622b-4e04-a248-f665359213e1</td>\n",
       "      <td>OTA_HotelProductNotifRQ</td>\n",
       "      <td>shiji</td>\n",
       "      <td>GRT122050</td>\n",
       "      <td></td>\n",
       "      <td>GRT</td>\n",
       "      <td>[{'ProductNotifType': '', 'ProductStatusType':...</td>\n",
       "    </tr>\n",
       "    <tr>\n",
       "      <th>1</th>\n",
       "      <td>25ddc6a7-9500-4562-920c-d52a4ea377b8</td>\n",
       "      <td>OTA_HotelProductNotifRQ</td>\n",
       "      <td>shiji</td>\n",
       "      <td>GRT002988</td>\n",
       "      <td></td>\n",
       "      <td>GRT</td>\n",
       "      <td>[{'ProductNotifType': '', 'ProductStatusType':...</td>\n",
       "    </tr>\n",
       "    <tr>\n",
       "      <th>2</th>\n",
       "      <td>59d1fefc-f493-49ba-87a3-70ffb87d87ef</td>\n",
       "      <td>OTA_HotelProductNotifRQ</td>\n",
       "      <td>shiji</td>\n",
       "      <td>GRT003886</td>\n",
       "      <td></td>\n",
       "      <td>GRT</td>\n",
       "      <td>[{'ProductNotifType': '', 'ProductStatusType':...</td>\n",
       "    </tr>\n",
       "    <tr>\n",
       "      <th>3</th>\n",
       "      <td>61474731-acf2-4a2f-ac0f-63ff682f342e</td>\n",
       "      <td>OTA_HotelProductNotifRQ</td>\n",
       "      <td>shiji</td>\n",
       "      <td>GRT003144</td>\n",
       "      <td></td>\n",
       "      <td>GRT</td>\n",
       "      <td>[{'ProductNotifType': '', 'ProductStatusType':...</td>\n",
       "    </tr>\n",
       "    <tr>\n",
       "      <th>4</th>\n",
       "      <td>83be1461-8dd6-43e7-916b-0af37b434401</td>\n",
       "      <td>OTA_HotelProductNotifRQ</td>\n",
       "      <td>shiji</td>\n",
       "      <td>GRT121661</td>\n",
       "      <td></td>\n",
       "      <td>GRT</td>\n",
       "      <td>[{'ProductNotifType': '', 'ProductStatusType':...</td>\n",
       "    </tr>\n",
       "    <tr>\n",
       "      <th>...</th>\n",
       "      <td>...</td>\n",
       "      <td>...</td>\n",
       "      <td>...</td>\n",
       "      <td>...</td>\n",
       "      <td>...</td>\n",
       "      <td>...</td>\n",
       "      <td>...</td>\n",
       "    </tr>\n",
       "    <tr>\n",
       "      <th>15005</th>\n",
       "      <td>a490f964-3b7a-4476-b448-e1c972ca951f</td>\n",
       "      <td>OTA_HotelProductNotifRQ</td>\n",
       "      <td>shiji</td>\n",
       "      <td>GRT002629</td>\n",
       "      <td></td>\n",
       "      <td>GRT</td>\n",
       "      <td>[{'ProductNotifType': '', 'ProductStatusType':...</td>\n",
       "    </tr>\n",
       "    <tr>\n",
       "      <th>15006</th>\n",
       "      <td>76d0a906-7c9c-4be2-9da4-088bb48796fc</td>\n",
       "      <td>OTA_HotelProductNotifRQ</td>\n",
       "      <td>shiji</td>\n",
       "      <td>GRT121939</td>\n",
       "      <td></td>\n",
       "      <td>GRT</td>\n",
       "      <td>[{'ProductNotifType': '', 'ProductStatusType':...</td>\n",
       "    </tr>\n",
       "    <tr>\n",
       "      <th>15007</th>\n",
       "      <td>e077e3b5-c078-490a-837c-261e56320f1c</td>\n",
       "      <td>OTA_HotelProductNotifRQ</td>\n",
       "      <td>shiji</td>\n",
       "      <td>GRT003908</td>\n",
       "      <td></td>\n",
       "      <td>GRT</td>\n",
       "      <td>[{'ProductNotifType': '', 'ProductStatusType':...</td>\n",
       "    </tr>\n",
       "    <tr>\n",
       "      <th>15008</th>\n",
       "      <td>23b5bff4-88e5-4ff8-bcc9-a62d222883d8</td>\n",
       "      <td>OTA_HotelProductNotifRQ</td>\n",
       "      <td>shiji</td>\n",
       "      <td>GRT120515</td>\n",
       "      <td></td>\n",
       "      <td>GRT</td>\n",
       "      <td>[{'ProductNotifType': '', 'ProductStatusType':...</td>\n",
       "    </tr>\n",
       "    <tr>\n",
       "      <th>15009</th>\n",
       "      <td>39095b74-3243-44a6-bf81-14b733a2a359</td>\n",
       "      <td>OTA_HotelProductNotifRQ</td>\n",
       "      <td>shiji</td>\n",
       "      <td>GRT121537</td>\n",
       "      <td></td>\n",
       "      <td>GRT</td>\n",
       "      <td>[{'ProductNotifType': '', 'ProductStatusType':...</td>\n",
       "    </tr>\n",
       "  </tbody>\n",
       "</table>\n",
       "<p>15010 rows × 7 columns</p>\n",
       "</div>"
      ],
      "text/plain": [
       "                           X-Correlation-ID                     Type  AppId  HotelCode HotelName ChainCode                                       HotelProduct\n",
       "0      377d5648-622b-4e04-a248-f665359213e1  OTA_HotelProductNotifRQ  shiji  GRT122050                 GRT  [{'ProductNotifType': '', 'ProductStatusType':...\n",
       "1      25ddc6a7-9500-4562-920c-d52a4ea377b8  OTA_HotelProductNotifRQ  shiji  GRT002988                 GRT  [{'ProductNotifType': '', 'ProductStatusType':...\n",
       "2      59d1fefc-f493-49ba-87a3-70ffb87d87ef  OTA_HotelProductNotifRQ  shiji  GRT003886                 GRT  [{'ProductNotifType': '', 'ProductStatusType':...\n",
       "3      61474731-acf2-4a2f-ac0f-63ff682f342e  OTA_HotelProductNotifRQ  shiji  GRT003144                 GRT  [{'ProductNotifType': '', 'ProductStatusType':...\n",
       "4      83be1461-8dd6-43e7-916b-0af37b434401  OTA_HotelProductNotifRQ  shiji  GRT121661                 GRT  [{'ProductNotifType': '', 'ProductStatusType':...\n",
       "...                                     ...                      ...    ...        ...       ...       ...                                                ...\n",
       "15005  a490f964-3b7a-4476-b448-e1c972ca951f  OTA_HotelProductNotifRQ  shiji  GRT002629                 GRT  [{'ProductNotifType': '', 'ProductStatusType':...\n",
       "15006  76d0a906-7c9c-4be2-9da4-088bb48796fc  OTA_HotelProductNotifRQ  shiji  GRT121939                 GRT  [{'ProductNotifType': '', 'ProductStatusType':...\n",
       "15007  e077e3b5-c078-490a-837c-261e56320f1c  OTA_HotelProductNotifRQ  shiji  GRT003908                 GRT  [{'ProductNotifType': '', 'ProductStatusType':...\n",
       "15008  23b5bff4-88e5-4ff8-bcc9-a62d222883d8  OTA_HotelProductNotifRQ  shiji  GRT120515                 GRT  [{'ProductNotifType': '', 'ProductStatusType':...\n",
       "15009  39095b74-3243-44a6-bf81-14b733a2a359  OTA_HotelProductNotifRQ  shiji  GRT121537                 GRT  [{'ProductNotifType': '', 'ProductStatusType':...\n",
       "\n",
       "[15010 rows x 7 columns]"
      ]
     },
     "execution_count": 13,
     "metadata": {},
     "output_type": "execute_result"
    }
   ],
   "source": [
    "HotelProductNotifRQ_Messages_splited"
   ]
  },
  {
   "cell_type": "code",
   "execution_count": 14,
   "id": "grateful-armstrong",
   "metadata": {
    "ExecuteTime": {
     "end_time": "2022-04-01T09:04:44.045720Z",
     "start_time": "2022-04-01T09:04:43.905358Z"
    }
   },
   "outputs": [],
   "source": [
    "HotelProductNotifRQ_Messages_splited = explode_split_and_merge(HotelProductNotifRQ_Messages_splited, \"HotelProduct\")"
   ]
  },
  {
   "cell_type": "code",
   "execution_count": 15,
   "id": "aggressive-connectivity",
   "metadata": {
    "ExecuteTime": {
     "end_time": "2022-04-01T09:04:44.140425Z",
     "start_time": "2022-04-01T09:04:44.046774Z"
    }
   },
   "outputs": [],
   "source": [
    "HotelProductNotifRQ_Messages_splited = split_and_merge(HotelProductNotifRQ_Messages_splited, \"RoomTypes\")"
   ]
  },
  {
   "cell_type": "code",
   "execution_count": 16,
   "id": "placed-possibility",
   "metadata": {
    "ExecuteTime": {
     "end_time": "2022-04-01T09:04:44.328655Z",
     "start_time": "2022-04-01T09:04:44.141730Z"
    }
   },
   "outputs": [],
   "source": [
    "HotelProductNotifRQ_Messages_splited = explode_split_and_merge(HotelProductNotifRQ_Messages_splited, \"RoomType\")"
   ]
  },
  {
   "cell_type": "code",
   "execution_count": 17,
   "id": "detected-fairy",
   "metadata": {
    "ExecuteTime": {
     "end_time": "2022-04-01T09:04:44.413474Z",
     "start_time": "2022-04-01T09:04:44.329793Z"
    }
   },
   "outputs": [],
   "source": [
    "HotelProductNotifRQ_Messages_splited = split_and_merge(HotelProductNotifRQ_Messages_splited, \"RatePlans\")"
   ]
  },
  {
   "cell_type": "code",
   "execution_count": 18,
   "id": "paperback-charter",
   "metadata": {
    "ExecuteTime": {
     "end_time": "2022-04-01T09:04:44.557444Z",
     "start_time": "2022-04-01T09:04:44.414938Z"
    }
   },
   "outputs": [],
   "source": [
    "HotelProductNotifRQ_Messages_splited = explode_split_and_merge(HotelProductNotifRQ_Messages_splited, \"RatePlan\")"
   ]
  },
  {
   "cell_type": "code",
   "execution_count": 19,
   "id": "comparative-organization",
   "metadata": {
    "ExecuteTime": {
     "end_time": "2022-04-01T09:04:44.632519Z",
     "start_time": "2022-04-01T09:04:44.558744Z"
    }
   },
   "outputs": [],
   "source": [
    "HotelProductNotifRQ_Messages_splited = split_and_merge(HotelProductNotifRQ_Messages_splited, \"SellDateRange\")"
   ]
  },
  {
   "cell_type": "code",
   "execution_count": 20,
   "id": "confident-vietnam",
   "metadata": {
    "ExecuteTime": {
     "end_time": "2022-04-01T09:04:44.758050Z",
     "start_time": "2022-04-01T09:04:44.633671Z"
    }
   },
   "outputs": [],
   "source": [
    "HotelProductNotifRQ_Messages_splited = split_and_merge(HotelProductNotifRQ_Messages_splited, \"StayDateRange\")"
   ]
  },
  {
   "cell_type": "code",
   "execution_count": 21,
   "id": "fifty-right",
   "metadata": {
    "ExecuteTime": {
     "end_time": "2022-04-01T09:04:44.894540Z",
     "start_time": "2022-04-01T09:04:44.759120Z"
    }
   },
   "outputs": [],
   "source": [
    "HotelProductNotifRQ_Messages_splited = split_and_merge(HotelProductNotifRQ_Messages_splited, \"PolicyInfo\")"
   ]
  },
  {
   "cell_type": "code",
   "execution_count": 22,
   "id": "continuing-ceiling",
   "metadata": {
    "ExecuteTime": {
     "end_time": "2022-04-01T09:04:45.071348Z",
     "start_time": "2022-04-01T09:04:44.896648Z"
    }
   },
   "outputs": [],
   "source": [
    "HotelProductNotifRQ_Messages_splited = split_and_merge(HotelProductNotifRQ_Messages_splited, \"BookingRules\")"
   ]
  },
  {
   "cell_type": "code",
   "execution_count": 23,
   "id": "matched-argentina",
   "metadata": {
    "ExecuteTime": {
     "end_time": "2022-04-01T09:04:45.303066Z",
     "start_time": "2022-04-01T09:04:45.074186Z"
    }
   },
   "outputs": [],
   "source": [
    "HotelProductNotifRQ_Messages_splited = explode_split_and_merge(HotelProductNotifRQ_Messages_splited, \"BookingRule\")"
   ]
  },
  {
   "cell_type": "code",
   "execution_count": 24,
   "id": "significant-handle",
   "metadata": {
    "ExecuteTime": {
     "end_time": "2022-04-01T09:04:45.458890Z",
     "start_time": "2022-04-01T09:04:45.304834Z"
    }
   },
   "outputs": [],
   "source": [
    "HotelProductNotifRQ_Messages_splited = explode_split_and_merge(HotelProductNotifRQ_Messages_splited, \"RestrictionStatus\")"
   ]
  },
  {
   "cell_type": "code",
   "execution_count": 25,
   "id": "bearing-measure",
   "metadata": {
    "ExecuteTime": {
     "end_time": "2022-04-01T09:04:45.490082Z",
     "start_time": "2022-04-01T09:04:45.460045Z"
    }
   },
   "outputs": [],
   "source": [
    "RestrictionStatus_no_none = []\n",
    "for v in HotelProductNotifRQ_Messages_splited.iloc[:, 0]:\n",
    "    if v is not None:\n",
    "        RestrictionStatus_no_none.append(v)\n",
    "    else:\n",
    "        RestrictionStatus_no_none.append({'RestrictionStatus': np.array([{'Restriction': None, 'Status': None, 'MinAdvancedBookingOffset': None, 'MaxAdvancedBookingOffset': None}],\n",
    "        dtype=object)})"
   ]
  },
  {
   "cell_type": "code",
   "execution_count": 26,
   "id": "steady-better",
   "metadata": {
    "ExecuteTime": {
     "end_time": "2022-04-01T09:04:45.626357Z",
     "start_time": "2022-04-01T09:04:45.491396Z"
    }
   },
   "outputs": [],
   "source": [
    "RestrictionStatus_no_none = pd.DataFrame(RestrictionStatus_no_none)\n",
    "HotelProductNotifRQ_Messages_splited = HotelProductNotifRQ_Messages_splited.merge(RestrictionStatus_no_none, left_index=True, right_index=True)"
   ]
  },
  {
   "cell_type": "code",
   "execution_count": 27,
   "id": "narrative-passing",
   "metadata": {
    "ExecuteTime": {
     "end_time": "2022-04-01T09:04:45.746549Z",
     "start_time": "2022-04-01T09:04:45.627423Z"
    }
   },
   "outputs": [],
   "source": [
    "HotelProductNotifRQ_Messages_splited.drop(HotelProductNotifRQ_Messages_splited.columns[0],axis=1,inplace=True)\n",
    "HotelProductNotifRQ_Messages_splited = HotelProductNotifRQ_Messages_splited.drop(columns=[\"RestrictionStatus\"])"
   ]
  },
  {
   "cell_type": "code",
   "execution_count": 28,
   "id": "assigned-issue",
   "metadata": {
    "ExecuteTime": {
     "end_time": "2022-04-01T09:04:45.885545Z",
     "start_time": "2022-04-01T09:04:45.748085Z"
    }
   },
   "outputs": [],
   "source": [
    "LengthsOfStay_no_none = []\n",
    "for v in HotelProductNotifRQ_Messages_splited[\"LengthsOfStay\"]:\n",
    "    if v is not None:\n",
    "        LengthsOfStay_no_none.append(v)\n",
    "    else:\n",
    "        LengthsOfStay_no_none.append({'LengthOfStay': np.array([{'MinMaxMessageType': None, 'Time': None, 'TimeUnit': None, 'MinLOS': None, 'MaxLOS': None},\n",
    "         {'MinMaxMessageType': None, 'Time': None, 'TimeUnit': None, 'MinLOS': None, 'MaxLOS': None}],\n",
    "        dtype=object)})"
   ]
  },
  {
   "cell_type": "code",
   "execution_count": 29,
   "id": "german-trinity",
   "metadata": {
    "ExecuteTime": {
     "end_time": "2022-04-01T09:04:46.102453Z",
     "start_time": "2022-04-01T09:04:45.886783Z"
    }
   },
   "outputs": [],
   "source": [
    "LengthsOfStay_no_none = pd.DataFrame(LengthsOfStay_no_none)\n",
    "HotelProductNotifRQ_Messages_splited = HotelProductNotifRQ_Messages_splited.merge(LengthsOfStay_no_none, left_index=True, right_index=True)\n",
    "HotelProductNotifRQ_Messages_splited = HotelProductNotifRQ_Messages_splited.drop(columns=[\"LengthsOfStay\"])"
   ]
  },
  {
   "cell_type": "code",
   "execution_count": 30,
   "id": "minute-snake",
   "metadata": {
    "ExecuteTime": {
     "end_time": "2022-04-01T09:04:46.517384Z",
     "start_time": "2022-04-01T09:04:46.103704Z"
    }
   },
   "outputs": [],
   "source": [
    "HotelProductNotifRQ_Messages_splited = explode_split_and_merge(HotelProductNotifRQ_Messages_splited, \"LengthOfStay\")"
   ]
  },
  {
   "cell_type": "code",
   "execution_count": 31,
   "id": "round-disorder",
   "metadata": {
    "ExecuteTime": {
     "end_time": "2022-04-01T09:04:46.630405Z",
     "start_time": "2022-04-01T09:04:46.518821Z"
    }
   },
   "outputs": [],
   "source": [
    "HotelProductNotifRQ_Messages_splited = split_and_merge(HotelProductNotifRQ_Messages_splited, \"CancelPolicy\")"
   ]
  },
  {
   "cell_type": "code",
   "execution_count": 32,
   "id": "extreme-breath",
   "metadata": {
    "ExecuteTime": {
     "end_time": "2022-04-01T09:04:47.101187Z",
     "start_time": "2022-04-01T09:04:46.631449Z"
    }
   },
   "outputs": [],
   "source": [
    "HotelProductNotifRQ_Messages_splited = explode_split_and_merge(HotelProductNotifRQ_Messages_splited, \"CancelPenalty\")"
   ]
  },
  {
   "cell_type": "code",
   "execution_count": 33,
   "id": "certified-analysis",
   "metadata": {
    "ExecuteTime": {
     "end_time": "2022-04-01T09:04:47.314338Z",
     "start_time": "2022-04-01T09:04:47.102328Z"
    }
   },
   "outputs": [],
   "source": [
    "HotelProductNotifRQ_Messages_splited = split_and_merge(HotelProductNotifRQ_Messages_splited, \"Deadline\")"
   ]
  },
  {
   "cell_type": "code",
   "execution_count": 34,
   "id": "cloudy-forty",
   "metadata": {
    "ExecuteTime": {
     "end_time": "2022-04-01T09:04:47.724398Z",
     "start_time": "2022-04-01T09:04:47.315539Z"
    }
   },
   "outputs": [],
   "source": [
    "HotelProductNotifRQ_Messages_splited = split_and_merge(HotelProductNotifRQ_Messages_splited, \"AmountPercent\")"
   ]
  },
  {
   "cell_type": "code",
   "execution_count": 35,
   "id": "beginning-dispatch",
   "metadata": {
    "ExecuteTime": {
     "end_time": "2022-04-01T09:04:48.181018Z",
     "start_time": "2022-04-01T09:04:47.725537Z"
    }
   },
   "outputs": [],
   "source": [
    "HotelProductNotifRQ_Messages_splited = explode_split_and_merge(HotelProductNotifRQ_Messages_splited, \"PenaltyDescription\")"
   ]
  },
  {
   "cell_type": "code",
   "execution_count": 36,
   "id": "engaged-virtue",
   "metadata": {
    "ExecuteTime": {
     "end_time": "2022-04-01T09:04:48.362338Z",
     "start_time": "2022-04-01T09:04:48.182103Z"
    }
   },
   "outputs": [],
   "source": [
    "HotelProductNotifRQ_Messages_splited = split_and_merge(HotelProductNotifRQ_Messages_splited, \"GuaranteePaymentPolicy\")"
   ]
  },
  {
   "cell_type": "code",
   "execution_count": 37,
   "id": "supposed-sponsorship",
   "metadata": {
    "ExecuteTime": {
     "end_time": "2022-04-01T09:04:48.828225Z",
     "start_time": "2022-04-01T09:04:48.363352Z"
    }
   },
   "outputs": [
    {
     "data": {
      "text/html": [
       "<div>\n",
       "<style scoped>\n",
       "    .dataframe tbody tr th:only-of-type {\n",
       "        vertical-align: middle;\n",
       "    }\n",
       "\n",
       "    .dataframe tbody tr th {\n",
       "        vertical-align: top;\n",
       "    }\n",
       "\n",
       "    .dataframe thead th {\n",
       "        text-align: right;\n",
       "    }\n",
       "</style>\n",
       "<table border=\"1\" class=\"dataframe\">\n",
       "  <thead>\n",
       "    <tr style=\"text-align: right;\">\n",
       "      <th></th>\n",
       "      <th>GuaranteeType</th>\n",
       "      <th>PaymentCode</th>\n",
       "      <th>Text</th>\n",
       "      <th>Start_x</th>\n",
       "      <th>End_x</th>\n",
       "      <th>NonRefundable</th>\n",
       "      <th>Mon</th>\n",
       "      <th>Tue</th>\n",
       "      <th>Weds</th>\n",
       "      <th>Thur</th>\n",
       "      <th>Fri</th>\n",
       "      <th>Sat</th>\n",
       "      <th>Sun</th>\n",
       "      <th>MinMaxMessageType</th>\n",
       "      <th>Time</th>\n",
       "      <th>TimeUnit</th>\n",
       "      <th>MinLOS</th>\n",
       "      <th>MaxLOS</th>\n",
       "      <th>Start_y</th>\n",
       "      <th>End_y</th>\n",
       "      <th>DOWRestrictions</th>\n",
       "      <th>DOW_Restrictions</th>\n",
       "      <th>MinAdvancedBookingOffset_x</th>\n",
       "      <th>MaxAdvancedBookingOffset_x</th>\n",
       "      <th>OriginalData</th>\n",
       "      <th>RatePlanCode</th>\n",
       "      <th>RatePlanName</th>\n",
       "      <th>RatePlanType</th>\n",
       "      <th>CurrencyCode_x</th>\n",
       "      <th>BaseOccupancy</th>\n",
       "      <th>Descriptions_x</th>\n",
       "      <th>RoomTypeCode</th>\n",
       "      <th>RoomTypeName</th>\n",
       "      <th>MaxOccupancy</th>\n",
       "      <th>MaxAdultOccupancy</th>\n",
       "      <th>MaxChildOccupancy</th>\n",
       "      <th>Descriptions_y</th>\n",
       "      <th>ProductNotifType</th>\n",
       "      <th>ProductStatusType</th>\n",
       "      <th>Contacts</th>\n",
       "      <th>Taxes</th>\n",
       "      <th>TPA_Extensions</th>\n",
       "      <th>X-Correlation-ID</th>\n",
       "      <th>Type</th>\n",
       "      <th>AppId</th>\n",
       "      <th>HotelCode</th>\n",
       "      <th>HotelName</th>\n",
       "      <th>ChainCode</th>\n",
       "      <th>StartSell</th>\n",
       "      <th>EndSell</th>\n",
       "      <th>Duration</th>\n",
       "      <th>StartStay</th>\n",
       "      <th>EndStay</th>\n",
       "      <th>InventoryInfo</th>\n",
       "      <th>Restriction</th>\n",
       "      <th>Status</th>\n",
       "      <th>MinAdvancedBookingOffset_y</th>\n",
       "      <th>MaxAdvancedBookingOffset_y</th>\n",
       "      <th>CancelPolicyIndicator</th>\n",
       "      <th>OffsetDropTime</th>\n",
       "      <th>OffsetTimeUnit</th>\n",
       "      <th>OffsetUnitMultiplier</th>\n",
       "      <th>AbsoluteDeadline</th>\n",
       "      <th>TaxInclusive</th>\n",
       "      <th>FeesInclusive</th>\n",
       "      <th>Percent</th>\n",
       "      <th>BasisType</th>\n",
       "      <th>Amount</th>\n",
       "      <th>NmbrOfNights</th>\n",
       "      <th>DecimalPlaces</th>\n",
       "      <th>CurrencyCode_y</th>\n",
       "    </tr>\n",
       "  </thead>\n",
       "  <tbody>\n",
       "    <tr>\n",
       "      <th>0</th>\n",
       "      <td>GuaranteeRequired</td>\n",
       "      <td>PREPAY</td>\n",
       "      <td>Free cancel before 18:00 arrival day, else cha...</td>\n",
       "      <td>None</td>\n",
       "      <td>None</td>\n",
       "      <td>None</td>\n",
       "      <td>None</td>\n",
       "      <td>None</td>\n",
       "      <td>None</td>\n",
       "      <td>None</td>\n",
       "      <td>None</td>\n",
       "      <td>None</td>\n",
       "      <td>None</td>\n",
       "      <td>MinLOS</td>\n",
       "      <td>1</td>\n",
       "      <td>None</td>\n",
       "      <td>None</td>\n",
       "      <td>None</td>\n",
       "      <td>None</td>\n",
       "      <td>None</td>\n",
       "      <td>None</td>\n",
       "      <td>None</td>\n",
       "      <td>None</td>\n",
       "      <td>None</td>\n",
       "      <td></td>\n",
       "      <td>WHL10</td>\n",
       "      <td>BAR rate</td>\n",
       "      <td>None</td>\n",
       "      <td>None</td>\n",
       "      <td>None</td>\n",
       "      <td>None</td>\n",
       "      <td>2</td>\n",
       "      <td>Twin Room</td>\n",
       "      <td>2</td>\n",
       "      <td></td>\n",
       "      <td></td>\n",
       "      <td>None</td>\n",
       "      <td></td>\n",
       "      <td>Active</td>\n",
       "      <td>None</td>\n",
       "      <td>None</td>\n",
       "      <td></td>\n",
       "      <td>377d5648-622b-4e04-a248-f665359213e1</td>\n",
       "      <td>OTA_HotelProductNotifRQ</td>\n",
       "      <td>shiji</td>\n",
       "      <td>GRT122050</td>\n",
       "      <td></td>\n",
       "      <td>GRT</td>\n",
       "      <td>2021-11-17</td>\n",
       "      <td>2029-12-31</td>\n",
       "      <td>None</td>\n",
       "      <td>2021-11-17</td>\n",
       "      <td>2029-12-31</td>\n",
       "      <td>None</td>\n",
       "      <td>NaN</td>\n",
       "      <td>NaN</td>\n",
       "      <td>NaN</td>\n",
       "      <td>NaN</td>\n",
       "      <td></td>\n",
       "      <td>BeforeArrival</td>\n",
       "      <td>Hour</td>\n",
       "      <td>18</td>\n",
       "      <td>None</td>\n",
       "      <td>None</td>\n",
       "      <td>None</td>\n",
       "      <td>None</td>\n",
       "      <td>Nights</td>\n",
       "      <td>None</td>\n",
       "      <td>1</td>\n",
       "      <td>None</td>\n",
       "      <td>None</td>\n",
       "    </tr>\n",
       "    <tr>\n",
       "      <th>0</th>\n",
       "      <td>GuaranteeRequired</td>\n",
       "      <td>PREPAY</td>\n",
       "      <td>Free cancel before 18:00 arrival day, else cha...</td>\n",
       "      <td>None</td>\n",
       "      <td>None</td>\n",
       "      <td>None</td>\n",
       "      <td>None</td>\n",
       "      <td>None</td>\n",
       "      <td>None</td>\n",
       "      <td>None</td>\n",
       "      <td>None</td>\n",
       "      <td>None</td>\n",
       "      <td>None</td>\n",
       "      <td>MinLOS</td>\n",
       "      <td>1</td>\n",
       "      <td>None</td>\n",
       "      <td>None</td>\n",
       "      <td>None</td>\n",
       "      <td>None</td>\n",
       "      <td>None</td>\n",
       "      <td>None</td>\n",
       "      <td>None</td>\n",
       "      <td>None</td>\n",
       "      <td>None</td>\n",
       "      <td></td>\n",
       "      <td>WHL10</td>\n",
       "      <td>BAR rate</td>\n",
       "      <td>None</td>\n",
       "      <td>None</td>\n",
       "      <td>None</td>\n",
       "      <td>None</td>\n",
       "      <td>2</td>\n",
       "      <td>Twin Room</td>\n",
       "      <td>2</td>\n",
       "      <td></td>\n",
       "      <td></td>\n",
       "      <td>None</td>\n",
       "      <td></td>\n",
       "      <td>Active</td>\n",
       "      <td>None</td>\n",
       "      <td>None</td>\n",
       "      <td></td>\n",
       "      <td>377d5648-622b-4e04-a248-f665359213e1</td>\n",
       "      <td>OTA_HotelProductNotifRQ</td>\n",
       "      <td>shiji</td>\n",
       "      <td>GRT122050</td>\n",
       "      <td></td>\n",
       "      <td>GRT</td>\n",
       "      <td>2021-11-17</td>\n",
       "      <td>2029-12-31</td>\n",
       "      <td>None</td>\n",
       "      <td>2021-11-17</td>\n",
       "      <td>2029-12-31</td>\n",
       "      <td>None</td>\n",
       "      <td>NaN</td>\n",
       "      <td>NaN</td>\n",
       "      <td>NaN</td>\n",
       "      <td>NaN</td>\n",
       "      <td></td>\n",
       "      <td>BeforeArrival</td>\n",
       "      <td>Hour</td>\n",
       "      <td>18</td>\n",
       "      <td>None</td>\n",
       "      <td>None</td>\n",
       "      <td>None</td>\n",
       "      <td>None</td>\n",
       "      <td>Nights</td>\n",
       "      <td>None</td>\n",
       "      <td>1</td>\n",
       "      <td>None</td>\n",
       "      <td>None</td>\n",
       "    </tr>\n",
       "    <tr>\n",
       "      <th>0</th>\n",
       "      <td>GuaranteeRequired</td>\n",
       "      <td>PREPAY</td>\n",
       "      <td>Free cancel before 18:00 arrival day, else cha...</td>\n",
       "      <td>None</td>\n",
       "      <td>None</td>\n",
       "      <td>None</td>\n",
       "      <td>None</td>\n",
       "      <td>None</td>\n",
       "      <td>None</td>\n",
       "      <td>None</td>\n",
       "      <td>None</td>\n",
       "      <td>None</td>\n",
       "      <td>None</td>\n",
       "      <td>MinLOS</td>\n",
       "      <td>1</td>\n",
       "      <td>None</td>\n",
       "      <td>None</td>\n",
       "      <td>None</td>\n",
       "      <td>None</td>\n",
       "      <td>None</td>\n",
       "      <td>None</td>\n",
       "      <td>None</td>\n",
       "      <td>None</td>\n",
       "      <td>None</td>\n",
       "      <td></td>\n",
       "      <td>WHL10</td>\n",
       "      <td>BAR rate</td>\n",
       "      <td>None</td>\n",
       "      <td>None</td>\n",
       "      <td>None</td>\n",
       "      <td>None</td>\n",
       "      <td>2</td>\n",
       "      <td>Twin Room</td>\n",
       "      <td>2</td>\n",
       "      <td></td>\n",
       "      <td></td>\n",
       "      <td>None</td>\n",
       "      <td></td>\n",
       "      <td>Active</td>\n",
       "      <td>None</td>\n",
       "      <td>None</td>\n",
       "      <td></td>\n",
       "      <td>377d5648-622b-4e04-a248-f665359213e1</td>\n",
       "      <td>OTA_HotelProductNotifRQ</td>\n",
       "      <td>shiji</td>\n",
       "      <td>GRT122050</td>\n",
       "      <td></td>\n",
       "      <td>GRT</td>\n",
       "      <td>2021-11-17</td>\n",
       "      <td>2029-12-31</td>\n",
       "      <td>None</td>\n",
       "      <td>2021-11-17</td>\n",
       "      <td>2029-12-31</td>\n",
       "      <td>None</td>\n",
       "      <td>NaN</td>\n",
       "      <td>NaN</td>\n",
       "      <td>NaN</td>\n",
       "      <td>NaN</td>\n",
       "      <td></td>\n",
       "      <td>BeforeArrival</td>\n",
       "      <td>Hour</td>\n",
       "      <td>18</td>\n",
       "      <td>None</td>\n",
       "      <td>None</td>\n",
       "      <td>None</td>\n",
       "      <td>None</td>\n",
       "      <td>Nights</td>\n",
       "      <td>None</td>\n",
       "      <td>1</td>\n",
       "      <td>None</td>\n",
       "      <td>None</td>\n",
       "    </tr>\n",
       "    <tr>\n",
       "      <th>0</th>\n",
       "      <td>GuaranteeRequired</td>\n",
       "      <td>PREPAY</td>\n",
       "      <td>Free cancel before 18:00 arrival day, else cha...</td>\n",
       "      <td>None</td>\n",
       "      <td>None</td>\n",
       "      <td>None</td>\n",
       "      <td>None</td>\n",
       "      <td>None</td>\n",
       "      <td>None</td>\n",
       "      <td>None</td>\n",
       "      <td>None</td>\n",
       "      <td>None</td>\n",
       "      <td>None</td>\n",
       "      <td>MinLOS</td>\n",
       "      <td>1</td>\n",
       "      <td>None</td>\n",
       "      <td>None</td>\n",
       "      <td>None</td>\n",
       "      <td>None</td>\n",
       "      <td>None</td>\n",
       "      <td>None</td>\n",
       "      <td>None</td>\n",
       "      <td>None</td>\n",
       "      <td>None</td>\n",
       "      <td></td>\n",
       "      <td>WHL10</td>\n",
       "      <td>BAR rate</td>\n",
       "      <td>None</td>\n",
       "      <td>None</td>\n",
       "      <td>None</td>\n",
       "      <td>None</td>\n",
       "      <td>2</td>\n",
       "      <td>Twin Room</td>\n",
       "      <td>2</td>\n",
       "      <td></td>\n",
       "      <td></td>\n",
       "      <td>None</td>\n",
       "      <td></td>\n",
       "      <td>Active</td>\n",
       "      <td>None</td>\n",
       "      <td>None</td>\n",
       "      <td></td>\n",
       "      <td>377d5648-622b-4e04-a248-f665359213e1</td>\n",
       "      <td>OTA_HotelProductNotifRQ</td>\n",
       "      <td>shiji</td>\n",
       "      <td>GRT122050</td>\n",
       "      <td></td>\n",
       "      <td>GRT</td>\n",
       "      <td>2021-11-17</td>\n",
       "      <td>2029-12-31</td>\n",
       "      <td>None</td>\n",
       "      <td>2021-11-17</td>\n",
       "      <td>2029-12-31</td>\n",
       "      <td>None</td>\n",
       "      <td>NaN</td>\n",
       "      <td>NaN</td>\n",
       "      <td>NaN</td>\n",
       "      <td>NaN</td>\n",
       "      <td></td>\n",
       "      <td>BeforeArrival</td>\n",
       "      <td>Hour</td>\n",
       "      <td>18</td>\n",
       "      <td>None</td>\n",
       "      <td>None</td>\n",
       "      <td>None</td>\n",
       "      <td>None</td>\n",
       "      <td>Nights</td>\n",
       "      <td>None</td>\n",
       "      <td>1</td>\n",
       "      <td>None</td>\n",
       "      <td>None</td>\n",
       "    </tr>\n",
       "    <tr>\n",
       "      <th>1</th>\n",
       "      <td>GuaranteeRequired</td>\n",
       "      <td>PREPAY</td>\n",
       "      <td>Free cancel before 18:00 arrival day, else cha...</td>\n",
       "      <td>None</td>\n",
       "      <td>None</td>\n",
       "      <td>None</td>\n",
       "      <td>None</td>\n",
       "      <td>None</td>\n",
       "      <td>None</td>\n",
       "      <td>None</td>\n",
       "      <td>None</td>\n",
       "      <td>None</td>\n",
       "      <td>None</td>\n",
       "      <td>MaxLOS</td>\n",
       "      <td>90</td>\n",
       "      <td>None</td>\n",
       "      <td>None</td>\n",
       "      <td>None</td>\n",
       "      <td>None</td>\n",
       "      <td>None</td>\n",
       "      <td>None</td>\n",
       "      <td>None</td>\n",
       "      <td>None</td>\n",
       "      <td>None</td>\n",
       "      <td></td>\n",
       "      <td>WHL10</td>\n",
       "      <td>BAR rate</td>\n",
       "      <td>None</td>\n",
       "      <td>None</td>\n",
       "      <td>None</td>\n",
       "      <td>None</td>\n",
       "      <td>1</td>\n",
       "      <td>Single Room</td>\n",
       "      <td>2</td>\n",
       "      <td></td>\n",
       "      <td></td>\n",
       "      <td>None</td>\n",
       "      <td></td>\n",
       "      <td>Active</td>\n",
       "      <td>None</td>\n",
       "      <td>None</td>\n",
       "      <td></td>\n",
       "      <td>25ddc6a7-9500-4562-920c-d52a4ea377b8</td>\n",
       "      <td>OTA_HotelProductNotifRQ</td>\n",
       "      <td>shiji</td>\n",
       "      <td>GRT002988</td>\n",
       "      <td></td>\n",
       "      <td>GRT</td>\n",
       "      <td>2021-11-17</td>\n",
       "      <td>2029-12-31</td>\n",
       "      <td>None</td>\n",
       "      <td>2021-11-17</td>\n",
       "      <td>2029-12-31</td>\n",
       "      <td>None</td>\n",
       "      <td>NaN</td>\n",
       "      <td>NaN</td>\n",
       "      <td>NaN</td>\n",
       "      <td>NaN</td>\n",
       "      <td></td>\n",
       "      <td>BeforeArrival</td>\n",
       "      <td>Hour</td>\n",
       "      <td>18</td>\n",
       "      <td>None</td>\n",
       "      <td>None</td>\n",
       "      <td>None</td>\n",
       "      <td>None</td>\n",
       "      <td>Nights</td>\n",
       "      <td>None</td>\n",
       "      <td>1</td>\n",
       "      <td>None</td>\n",
       "      <td>None</td>\n",
       "    </tr>\n",
       "    <tr>\n",
       "      <th>...</th>\n",
       "      <td>...</td>\n",
       "      <td>...</td>\n",
       "      <td>...</td>\n",
       "      <td>...</td>\n",
       "      <td>...</td>\n",
       "      <td>...</td>\n",
       "      <td>...</td>\n",
       "      <td>...</td>\n",
       "      <td>...</td>\n",
       "      <td>...</td>\n",
       "      <td>...</td>\n",
       "      <td>...</td>\n",
       "      <td>...</td>\n",
       "      <td>...</td>\n",
       "      <td>...</td>\n",
       "      <td>...</td>\n",
       "      <td>...</td>\n",
       "      <td>...</td>\n",
       "      <td>...</td>\n",
       "      <td>...</td>\n",
       "      <td>...</td>\n",
       "      <td>...</td>\n",
       "      <td>...</td>\n",
       "      <td>...</td>\n",
       "      <td>...</td>\n",
       "      <td>...</td>\n",
       "      <td>...</td>\n",
       "      <td>...</td>\n",
       "      <td>...</td>\n",
       "      <td>...</td>\n",
       "      <td>...</td>\n",
       "      <td>...</td>\n",
       "      <td>...</td>\n",
       "      <td>...</td>\n",
       "      <td>...</td>\n",
       "      <td>...</td>\n",
       "      <td>...</td>\n",
       "      <td>...</td>\n",
       "      <td>...</td>\n",
       "      <td>...</td>\n",
       "      <td>...</td>\n",
       "      <td>...</td>\n",
       "      <td>...</td>\n",
       "      <td>...</td>\n",
       "      <td>...</td>\n",
       "      <td>...</td>\n",
       "      <td>...</td>\n",
       "      <td>...</td>\n",
       "      <td>...</td>\n",
       "      <td>...</td>\n",
       "      <td>...</td>\n",
       "      <td>...</td>\n",
       "      <td>...</td>\n",
       "      <td>...</td>\n",
       "      <td>...</td>\n",
       "      <td>...</td>\n",
       "      <td>...</td>\n",
       "      <td>...</td>\n",
       "      <td>...</td>\n",
       "      <td>...</td>\n",
       "      <td>...</td>\n",
       "      <td>...</td>\n",
       "      <td>...</td>\n",
       "      <td>...</td>\n",
       "      <td>...</td>\n",
       "      <td>...</td>\n",
       "      <td>...</td>\n",
       "      <td>...</td>\n",
       "      <td>...</td>\n",
       "      <td>...</td>\n",
       "      <td>...</td>\n",
       "    </tr>\n",
       "    <tr>\n",
       "      <th>15008</th>\n",
       "      <td>GuaranteeRequired</td>\n",
       "      <td>PREPAY</td>\n",
       "      <td>Free cancel before 18:00 arrival day, else cha...</td>\n",
       "      <td>None</td>\n",
       "      <td>None</td>\n",
       "      <td>None</td>\n",
       "      <td>None</td>\n",
       "      <td>None</td>\n",
       "      <td>None</td>\n",
       "      <td>None</td>\n",
       "      <td>None</td>\n",
       "      <td>None</td>\n",
       "      <td>None</td>\n",
       "      <td>MinLOS</td>\n",
       "      <td>1</td>\n",
       "      <td>None</td>\n",
       "      <td>None</td>\n",
       "      <td>None</td>\n",
       "      <td>None</td>\n",
       "      <td>None</td>\n",
       "      <td>None</td>\n",
       "      <td>None</td>\n",
       "      <td>None</td>\n",
       "      <td>None</td>\n",
       "      <td></td>\n",
       "      <td>WHL10</td>\n",
       "      <td>BAR rate</td>\n",
       "      <td>None</td>\n",
       "      <td>None</td>\n",
       "      <td>None</td>\n",
       "      <td>None</td>\n",
       "      <td>14</td>\n",
       "      <td>Housing heart prevention and control room</td>\n",
       "      <td>2</td>\n",
       "      <td></td>\n",
       "      <td></td>\n",
       "      <td>None</td>\n",
       "      <td></td>\n",
       "      <td>Active</td>\n",
       "      <td>None</td>\n",
       "      <td>None</td>\n",
       "      <td></td>\n",
       "      <td>23b5bff4-88e5-4ff8-bcc9-a62d222883d8</td>\n",
       "      <td>OTA_HotelProductNotifRQ</td>\n",
       "      <td>shiji</td>\n",
       "      <td>GRT120515</td>\n",
       "      <td></td>\n",
       "      <td>GRT</td>\n",
       "      <td>2021-11-17</td>\n",
       "      <td>2029-12-31</td>\n",
       "      <td>None</td>\n",
       "      <td>2021-11-17</td>\n",
       "      <td>2029-12-31</td>\n",
       "      <td>None</td>\n",
       "      <td>NaN</td>\n",
       "      <td>NaN</td>\n",
       "      <td>NaN</td>\n",
       "      <td>NaN</td>\n",
       "      <td></td>\n",
       "      <td>BeforeArrival</td>\n",
       "      <td>Hour</td>\n",
       "      <td>18</td>\n",
       "      <td>None</td>\n",
       "      <td>None</td>\n",
       "      <td>None</td>\n",
       "      <td>None</td>\n",
       "      <td>Nights</td>\n",
       "      <td>None</td>\n",
       "      <td>1</td>\n",
       "      <td>None</td>\n",
       "      <td>None</td>\n",
       "    </tr>\n",
       "    <tr>\n",
       "      <th>15009</th>\n",
       "      <td>GuaranteeRequired</td>\n",
       "      <td>PREPAY</td>\n",
       "      <td>Free cancel before 18:00 arrival day, else cha...</td>\n",
       "      <td>None</td>\n",
       "      <td>None</td>\n",
       "      <td>None</td>\n",
       "      <td>None</td>\n",
       "      <td>None</td>\n",
       "      <td>None</td>\n",
       "      <td>None</td>\n",
       "      <td>None</td>\n",
       "      <td>None</td>\n",
       "      <td>None</td>\n",
       "      <td>MaxLOS</td>\n",
       "      <td>90</td>\n",
       "      <td>None</td>\n",
       "      <td>None</td>\n",
       "      <td>None</td>\n",
       "      <td>None</td>\n",
       "      <td>None</td>\n",
       "      <td>None</td>\n",
       "      <td>None</td>\n",
       "      <td>None</td>\n",
       "      <td>None</td>\n",
       "      <td></td>\n",
       "      <td>WHL10</td>\n",
       "      <td>BAR rate</td>\n",
       "      <td>None</td>\n",
       "      <td>None</td>\n",
       "      <td>None</td>\n",
       "      <td>None</td>\n",
       "      <td>14</td>\n",
       "      <td>Housing heart prevention and control room</td>\n",
       "      <td>2</td>\n",
       "      <td></td>\n",
       "      <td></td>\n",
       "      <td>None</td>\n",
       "      <td></td>\n",
       "      <td>Active</td>\n",
       "      <td>None</td>\n",
       "      <td>None</td>\n",
       "      <td></td>\n",
       "      <td>39095b74-3243-44a6-bf81-14b733a2a359</td>\n",
       "      <td>OTA_HotelProductNotifRQ</td>\n",
       "      <td>shiji</td>\n",
       "      <td>GRT121537</td>\n",
       "      <td></td>\n",
       "      <td>GRT</td>\n",
       "      <td>2021-11-17</td>\n",
       "      <td>2029-12-31</td>\n",
       "      <td>None</td>\n",
       "      <td>2021-11-17</td>\n",
       "      <td>2029-12-31</td>\n",
       "      <td>None</td>\n",
       "      <td>NaN</td>\n",
       "      <td>NaN</td>\n",
       "      <td>NaN</td>\n",
       "      <td>NaN</td>\n",
       "      <td></td>\n",
       "      <td>BeforeArrival</td>\n",
       "      <td>Hour</td>\n",
       "      <td>18</td>\n",
       "      <td>None</td>\n",
       "      <td>None</td>\n",
       "      <td>None</td>\n",
       "      <td>None</td>\n",
       "      <td>Nights</td>\n",
       "      <td>None</td>\n",
       "      <td>1</td>\n",
       "      <td>None</td>\n",
       "      <td>None</td>\n",
       "    </tr>\n",
       "    <tr>\n",
       "      <th>15009</th>\n",
       "      <td>GuaranteeRequired</td>\n",
       "      <td>PREPAY</td>\n",
       "      <td>Free cancel before 18:00 arrival day, else cha...</td>\n",
       "      <td>None</td>\n",
       "      <td>None</td>\n",
       "      <td>None</td>\n",
       "      <td>None</td>\n",
       "      <td>None</td>\n",
       "      <td>None</td>\n",
       "      <td>None</td>\n",
       "      <td>None</td>\n",
       "      <td>None</td>\n",
       "      <td>None</td>\n",
       "      <td>MaxLOS</td>\n",
       "      <td>90</td>\n",
       "      <td>None</td>\n",
       "      <td>None</td>\n",
       "      <td>None</td>\n",
       "      <td>None</td>\n",
       "      <td>None</td>\n",
       "      <td>None</td>\n",
       "      <td>None</td>\n",
       "      <td>None</td>\n",
       "      <td>None</td>\n",
       "      <td></td>\n",
       "      <td>WHL10</td>\n",
       "      <td>BAR rate</td>\n",
       "      <td>None</td>\n",
       "      <td>None</td>\n",
       "      <td>None</td>\n",
       "      <td>None</td>\n",
       "      <td>14</td>\n",
       "      <td>Housing heart prevention and control room</td>\n",
       "      <td>2</td>\n",
       "      <td></td>\n",
       "      <td></td>\n",
       "      <td>None</td>\n",
       "      <td></td>\n",
       "      <td>Active</td>\n",
       "      <td>None</td>\n",
       "      <td>None</td>\n",
       "      <td></td>\n",
       "      <td>39095b74-3243-44a6-bf81-14b733a2a359</td>\n",
       "      <td>OTA_HotelProductNotifRQ</td>\n",
       "      <td>shiji</td>\n",
       "      <td>GRT121537</td>\n",
       "      <td></td>\n",
       "      <td>GRT</td>\n",
       "      <td>2021-11-17</td>\n",
       "      <td>2029-12-31</td>\n",
       "      <td>None</td>\n",
       "      <td>2021-11-17</td>\n",
       "      <td>2029-12-31</td>\n",
       "      <td>None</td>\n",
       "      <td>NaN</td>\n",
       "      <td>NaN</td>\n",
       "      <td>NaN</td>\n",
       "      <td>NaN</td>\n",
       "      <td></td>\n",
       "      <td>BeforeArrival</td>\n",
       "      <td>Hour</td>\n",
       "      <td>18</td>\n",
       "      <td>None</td>\n",
       "      <td>None</td>\n",
       "      <td>None</td>\n",
       "      <td>None</td>\n",
       "      <td>Nights</td>\n",
       "      <td>None</td>\n",
       "      <td>1</td>\n",
       "      <td>None</td>\n",
       "      <td>None</td>\n",
       "    </tr>\n",
       "    <tr>\n",
       "      <th>15009</th>\n",
       "      <td>GuaranteeRequired</td>\n",
       "      <td>PREPAY</td>\n",
       "      <td>Free cancel before 18:00 arrival day, else cha...</td>\n",
       "      <td>None</td>\n",
       "      <td>None</td>\n",
       "      <td>None</td>\n",
       "      <td>None</td>\n",
       "      <td>None</td>\n",
       "      <td>None</td>\n",
       "      <td>None</td>\n",
       "      <td>None</td>\n",
       "      <td>None</td>\n",
       "      <td>None</td>\n",
       "      <td>MaxLOS</td>\n",
       "      <td>90</td>\n",
       "      <td>None</td>\n",
       "      <td>None</td>\n",
       "      <td>None</td>\n",
       "      <td>None</td>\n",
       "      <td>None</td>\n",
       "      <td>None</td>\n",
       "      <td>None</td>\n",
       "      <td>None</td>\n",
       "      <td>None</td>\n",
       "      <td></td>\n",
       "      <td>WHL10</td>\n",
       "      <td>BAR rate</td>\n",
       "      <td>None</td>\n",
       "      <td>None</td>\n",
       "      <td>None</td>\n",
       "      <td>None</td>\n",
       "      <td>14</td>\n",
       "      <td>Housing heart prevention and control room</td>\n",
       "      <td>2</td>\n",
       "      <td></td>\n",
       "      <td></td>\n",
       "      <td>None</td>\n",
       "      <td></td>\n",
       "      <td>Active</td>\n",
       "      <td>None</td>\n",
       "      <td>None</td>\n",
       "      <td></td>\n",
       "      <td>39095b74-3243-44a6-bf81-14b733a2a359</td>\n",
       "      <td>OTA_HotelProductNotifRQ</td>\n",
       "      <td>shiji</td>\n",
       "      <td>GRT121537</td>\n",
       "      <td></td>\n",
       "      <td>GRT</td>\n",
       "      <td>2021-11-17</td>\n",
       "      <td>2029-12-31</td>\n",
       "      <td>None</td>\n",
       "      <td>2021-11-17</td>\n",
       "      <td>2029-12-31</td>\n",
       "      <td>None</td>\n",
       "      <td>NaN</td>\n",
       "      <td>NaN</td>\n",
       "      <td>NaN</td>\n",
       "      <td>NaN</td>\n",
       "      <td></td>\n",
       "      <td>BeforeArrival</td>\n",
       "      <td>Hour</td>\n",
       "      <td>18</td>\n",
       "      <td>None</td>\n",
       "      <td>None</td>\n",
       "      <td>None</td>\n",
       "      <td>None</td>\n",
       "      <td>Nights</td>\n",
       "      <td>None</td>\n",
       "      <td>1</td>\n",
       "      <td>None</td>\n",
       "      <td>None</td>\n",
       "    </tr>\n",
       "    <tr>\n",
       "      <th>15009</th>\n",
       "      <td>GuaranteeRequired</td>\n",
       "      <td>PREPAY</td>\n",
       "      <td>Free cancel before 18:00 arrival day, else cha...</td>\n",
       "      <td>None</td>\n",
       "      <td>None</td>\n",
       "      <td>None</td>\n",
       "      <td>None</td>\n",
       "      <td>None</td>\n",
       "      <td>None</td>\n",
       "      <td>None</td>\n",
       "      <td>None</td>\n",
       "      <td>None</td>\n",
       "      <td>None</td>\n",
       "      <td>MaxLOS</td>\n",
       "      <td>90</td>\n",
       "      <td>None</td>\n",
       "      <td>None</td>\n",
       "      <td>None</td>\n",
       "      <td>None</td>\n",
       "      <td>None</td>\n",
       "      <td>None</td>\n",
       "      <td>None</td>\n",
       "      <td>None</td>\n",
       "      <td>None</td>\n",
       "      <td></td>\n",
       "      <td>WHL10</td>\n",
       "      <td>BAR rate</td>\n",
       "      <td>None</td>\n",
       "      <td>None</td>\n",
       "      <td>None</td>\n",
       "      <td>None</td>\n",
       "      <td>14</td>\n",
       "      <td>Housing heart prevention and control room</td>\n",
       "      <td>2</td>\n",
       "      <td></td>\n",
       "      <td></td>\n",
       "      <td>None</td>\n",
       "      <td></td>\n",
       "      <td>Active</td>\n",
       "      <td>None</td>\n",
       "      <td>None</td>\n",
       "      <td></td>\n",
       "      <td>39095b74-3243-44a6-bf81-14b733a2a359</td>\n",
       "      <td>OTA_HotelProductNotifRQ</td>\n",
       "      <td>shiji</td>\n",
       "      <td>GRT121537</td>\n",
       "      <td></td>\n",
       "      <td>GRT</td>\n",
       "      <td>2021-11-17</td>\n",
       "      <td>2029-12-31</td>\n",
       "      <td>None</td>\n",
       "      <td>2021-11-17</td>\n",
       "      <td>2029-12-31</td>\n",
       "      <td>None</td>\n",
       "      <td>NaN</td>\n",
       "      <td>NaN</td>\n",
       "      <td>NaN</td>\n",
       "      <td>NaN</td>\n",
       "      <td></td>\n",
       "      <td>BeforeArrival</td>\n",
       "      <td>Hour</td>\n",
       "      <td>18</td>\n",
       "      <td>None</td>\n",
       "      <td>None</td>\n",
       "      <td>None</td>\n",
       "      <td>None</td>\n",
       "      <td>Nights</td>\n",
       "      <td>None</td>\n",
       "      <td>1</td>\n",
       "      <td>None</td>\n",
       "      <td>None</td>\n",
       "    </tr>\n",
       "  </tbody>\n",
       "</table>\n",
       "<p>60040 rows × 71 columns</p>\n",
       "</div>"
      ],
      "text/plain": [
       "           GuaranteeType PaymentCode                                               Text Start_x End_x NonRefundable   Mon   Tue  Weds  Thur   Fri   Sat   Sun MinMaxMessageType Time TimeUnit MinLOS MaxLOS Start_y End_y DOWRestrictions DOW_Restrictions MinAdvancedBookingOffset_x MaxAdvancedBookingOffset_x OriginalData RatePlanCode RatePlanName RatePlanType CurrencyCode_x BaseOccupancy Descriptions_x RoomTypeCode                               RoomTypeName MaxOccupancy MaxAdultOccupancy MaxChildOccupancy Descriptions_y ProductNotifType ProductStatusType Contacts Taxes TPA_Extensions                      X-Correlation-ID                     Type  AppId  HotelCode HotelName ChainCode   StartSell     EndSell Duration   StartStay     EndStay InventoryInfo Restriction Status  MinAdvancedBookingOffset_y  MaxAdvancedBookingOffset_y CancelPolicyIndicator OffsetDropTime OffsetTimeUnit OffsetUnitMultiplier AbsoluteDeadline TaxInclusive FeesInclusive Percent BasisType Amount NmbrOfNights DecimalPlaces CurrencyCode_y\n",
       "0      GuaranteeRequired      PREPAY  Free cancel before 18:00 arrival day, else cha...    None  None          None  None  None  None  None  None  None  None            MinLOS    1     None   None   None    None  None            None             None                       None                       None                     WHL10     BAR rate         None           None          None           None            2                                  Twin Room            2                                               None                             Active     None  None                 377d5648-622b-4e04-a248-f665359213e1  OTA_HotelProductNotifRQ  shiji  GRT122050                 GRT  2021-11-17  2029-12-31     None  2021-11-17  2029-12-31          None         NaN    NaN                         NaN                         NaN                        BeforeArrival           Hour                   18             None         None          None    None    Nights   None            1          None           None\n",
       "0      GuaranteeRequired      PREPAY  Free cancel before 18:00 arrival day, else cha...    None  None          None  None  None  None  None  None  None  None            MinLOS    1     None   None   None    None  None            None             None                       None                       None                     WHL10     BAR rate         None           None          None           None            2                                  Twin Room            2                                               None                             Active     None  None                 377d5648-622b-4e04-a248-f665359213e1  OTA_HotelProductNotifRQ  shiji  GRT122050                 GRT  2021-11-17  2029-12-31     None  2021-11-17  2029-12-31          None         NaN    NaN                         NaN                         NaN                        BeforeArrival           Hour                   18             None         None          None    None    Nights   None            1          None           None\n",
       "0      GuaranteeRequired      PREPAY  Free cancel before 18:00 arrival day, else cha...    None  None          None  None  None  None  None  None  None  None            MinLOS    1     None   None   None    None  None            None             None                       None                       None                     WHL10     BAR rate         None           None          None           None            2                                  Twin Room            2                                               None                             Active     None  None                 377d5648-622b-4e04-a248-f665359213e1  OTA_HotelProductNotifRQ  shiji  GRT122050                 GRT  2021-11-17  2029-12-31     None  2021-11-17  2029-12-31          None         NaN    NaN                         NaN                         NaN                        BeforeArrival           Hour                   18             None         None          None    None    Nights   None            1          None           None\n",
       "0      GuaranteeRequired      PREPAY  Free cancel before 18:00 arrival day, else cha...    None  None          None  None  None  None  None  None  None  None            MinLOS    1     None   None   None    None  None            None             None                       None                       None                     WHL10     BAR rate         None           None          None           None            2                                  Twin Room            2                                               None                             Active     None  None                 377d5648-622b-4e04-a248-f665359213e1  OTA_HotelProductNotifRQ  shiji  GRT122050                 GRT  2021-11-17  2029-12-31     None  2021-11-17  2029-12-31          None         NaN    NaN                         NaN                         NaN                        BeforeArrival           Hour                   18             None         None          None    None    Nights   None            1          None           None\n",
       "1      GuaranteeRequired      PREPAY  Free cancel before 18:00 arrival day, else cha...    None  None          None  None  None  None  None  None  None  None            MaxLOS   90     None   None   None    None  None            None             None                       None                       None                     WHL10     BAR rate         None           None          None           None            1                                Single Room            2                                               None                             Active     None  None                 25ddc6a7-9500-4562-920c-d52a4ea377b8  OTA_HotelProductNotifRQ  shiji  GRT002988                 GRT  2021-11-17  2029-12-31     None  2021-11-17  2029-12-31          None         NaN    NaN                         NaN                         NaN                        BeforeArrival           Hour                   18             None         None          None    None    Nights   None            1          None           None\n",
       "...                  ...         ...                                                ...     ...   ...           ...   ...   ...   ...   ...   ...   ...   ...               ...  ...      ...    ...    ...     ...   ...             ...              ...                        ...                        ...          ...          ...          ...          ...            ...           ...            ...          ...                                        ...          ...               ...               ...            ...              ...               ...      ...   ...            ...                                   ...                      ...    ...        ...       ...       ...         ...         ...      ...         ...         ...           ...         ...    ...                         ...                         ...                   ...            ...            ...                  ...              ...          ...           ...     ...       ...    ...          ...           ...            ...\n",
       "15008  GuaranteeRequired      PREPAY  Free cancel before 18:00 arrival day, else cha...    None  None          None  None  None  None  None  None  None  None            MinLOS    1     None   None   None    None  None            None             None                       None                       None                     WHL10     BAR rate         None           None          None           None           14  Housing heart prevention and control room            2                                               None                             Active     None  None                 23b5bff4-88e5-4ff8-bcc9-a62d222883d8  OTA_HotelProductNotifRQ  shiji  GRT120515                 GRT  2021-11-17  2029-12-31     None  2021-11-17  2029-12-31          None         NaN    NaN                         NaN                         NaN                        BeforeArrival           Hour                   18             None         None          None    None    Nights   None            1          None           None\n",
       "15009  GuaranteeRequired      PREPAY  Free cancel before 18:00 arrival day, else cha...    None  None          None  None  None  None  None  None  None  None            MaxLOS   90     None   None   None    None  None            None             None                       None                       None                     WHL10     BAR rate         None           None          None           None           14  Housing heart prevention and control room            2                                               None                             Active     None  None                 39095b74-3243-44a6-bf81-14b733a2a359  OTA_HotelProductNotifRQ  shiji  GRT121537                 GRT  2021-11-17  2029-12-31     None  2021-11-17  2029-12-31          None         NaN    NaN                         NaN                         NaN                        BeforeArrival           Hour                   18             None         None          None    None    Nights   None            1          None           None\n",
       "15009  GuaranteeRequired      PREPAY  Free cancel before 18:00 arrival day, else cha...    None  None          None  None  None  None  None  None  None  None            MaxLOS   90     None   None   None    None  None            None             None                       None                       None                     WHL10     BAR rate         None           None          None           None           14  Housing heart prevention and control room            2                                               None                             Active     None  None                 39095b74-3243-44a6-bf81-14b733a2a359  OTA_HotelProductNotifRQ  shiji  GRT121537                 GRT  2021-11-17  2029-12-31     None  2021-11-17  2029-12-31          None         NaN    NaN                         NaN                         NaN                        BeforeArrival           Hour                   18             None         None          None    None    Nights   None            1          None           None\n",
       "15009  GuaranteeRequired      PREPAY  Free cancel before 18:00 arrival day, else cha...    None  None          None  None  None  None  None  None  None  None            MaxLOS   90     None   None   None    None  None            None             None                       None                       None                     WHL10     BAR rate         None           None          None           None           14  Housing heart prevention and control room            2                                               None                             Active     None  None                 39095b74-3243-44a6-bf81-14b733a2a359  OTA_HotelProductNotifRQ  shiji  GRT121537                 GRT  2021-11-17  2029-12-31     None  2021-11-17  2029-12-31          None         NaN    NaN                         NaN                         NaN                        BeforeArrival           Hour                   18             None         None          None    None    Nights   None            1          None           None\n",
       "15009  GuaranteeRequired      PREPAY  Free cancel before 18:00 arrival day, else cha...    None  None          None  None  None  None  None  None  None  None            MaxLOS   90     None   None   None    None  None            None             None                       None                       None                     WHL10     BAR rate         None           None          None           None           14  Housing heart prevention and control room            2                                               None                             Active     None  None                 39095b74-3243-44a6-bf81-14b733a2a359  OTA_HotelProductNotifRQ  shiji  GRT121537                 GRT  2021-11-17  2029-12-31     None  2021-11-17  2029-12-31          None         NaN    NaN                         NaN                         NaN                        BeforeArrival           Hour                   18             None         None          None    None    Nights   None            1          None           None\n",
       "\n",
       "[60040 rows x 71 columns]"
      ]
     },
     "execution_count": 37,
     "metadata": {},
     "output_type": "execute_result"
    }
   ],
   "source": [
    "HotelProductNotifRQ_Messages_splited = explode_split_and_merge(HotelProductNotifRQ_Messages_splited, \"GuaranteePayment\")\n",
    "HotelProductNotifRQ_Messages_splited"
   ]
  },
  {
   "cell_type": "markdown",
   "id": "supposed-mineral",
   "metadata": {},
   "source": [
    "# Data analysis"
   ]
  },
  {
   "cell_type": "markdown",
   "id": "behavioral-stick",
   "metadata": {},
   "source": [
    "The `OTA_HotelProductNotifRQ` may be used to send a notification of one or more new hotel products. This message may also be used to modify or cancel one or more existing hotel products.\n",
    "A product may be a room type, a rate plan, a room type rate plan combination or hotel policy information. This may be used for sending products at multiple hotels or multiple products at a single hotel."
   ]
  },
  {
   "cell_type": "code",
   "execution_count": 38,
   "id": "passing-physics",
   "metadata": {
    "ExecuteTime": {
     "end_time": "2022-04-01T09:04:49.200462Z",
     "start_time": "2022-04-01T09:04:48.829314Z"
    }
   },
   "outputs": [],
   "source": [
    "import seaborn as sns\n",
    "import matplotlib.pyplot as plt\n",
    "import matplotlib"
   ]
  },
  {
   "cell_type": "code",
   "execution_count": 39,
   "id": "included-basin",
   "metadata": {
    "ExecuteTime": {
     "end_time": "2022-04-01T09:04:49.221178Z",
     "start_time": "2022-04-01T09:04:49.201971Z"
    }
   },
   "outputs": [
    {
     "data": {
      "text/plain": [
       "shiji    60040\n",
       "Name: AppId, dtype: int64"
      ]
     },
     "execution_count": 39,
     "metadata": {},
     "output_type": "execute_result"
    }
   ],
   "source": [
    "HotelProductNotifRQ_Messages_splited['AppId'].value_counts()"
   ]
  },
  {
   "cell_type": "code",
   "execution_count": 40,
   "id": "russian-privilege",
   "metadata": {
    "ExecuteTime": {
     "end_time": "2022-04-01T09:04:49.506954Z",
     "start_time": "2022-04-01T09:04:49.222623Z"
    }
   },
   "outputs": [
    {
     "name": "stdout",
     "output_type": "stream",
     "text": [
      "<class 'pandas.core.frame.DataFrame'>\n",
      "Int64Index: 60040 entries, 0 to 15009\n",
      "Data columns (total 71 columns):\n",
      " #   Column                      Non-Null Count  Dtype  \n",
      "---  ------                      --------------  -----  \n",
      " 0   GuaranteeType               60040 non-null  object \n",
      " 1   PaymentCode                 60040 non-null  object \n",
      " 2   Text                        60040 non-null  object \n",
      " 3   Start_x                     0 non-null      object \n",
      " 4   End_x                       0 non-null      object \n",
      " 5   NonRefundable               0 non-null      object \n",
      " 6   Mon                         0 non-null      object \n",
      " 7   Tue                         0 non-null      object \n",
      " 8   Weds                        0 non-null      object \n",
      " 9   Thur                        0 non-null      object \n",
      " 10  Fri                         0 non-null      object \n",
      " 11  Sat                         0 non-null      object \n",
      " 12  Sun                         0 non-null      object \n",
      " 13  MinMaxMessageType           30024 non-null  object \n",
      " 14  Time                        30024 non-null  object \n",
      " 15  TimeUnit                    0 non-null      object \n",
      " 16  MinLOS                      0 non-null      object \n",
      " 17  MaxLOS                      0 non-null      object \n",
      " 18  Start_y                     0 non-null      object \n",
      " 19  End_y                       0 non-null      object \n",
      " 20  DOWRestrictions             0 non-null      object \n",
      " 21  DOW_Restrictions            0 non-null      object \n",
      " 22  MinAdvancedBookingOffset_x  0 non-null      object \n",
      " 23  MaxAdvancedBookingOffset_x  0 non-null      object \n",
      " 24  OriginalData                60040 non-null  object \n",
      " 25  RatePlanCode                60040 non-null  object \n",
      " 26  RatePlanName                60040 non-null  object \n",
      " 27  RatePlanType                0 non-null      object \n",
      " 28  CurrencyCode_x              0 non-null      object \n",
      " 29  BaseOccupancy               0 non-null      object \n",
      " 30  Descriptions_x              0 non-null      object \n",
      " 31  RoomTypeCode                60040 non-null  object \n",
      " 32  RoomTypeName                60040 non-null  object \n",
      " 33  MaxOccupancy                58984 non-null  object \n",
      " 34  MaxAdultOccupancy           60040 non-null  object \n",
      " 35  MaxChildOccupancy           60040 non-null  object \n",
      " 36  Descriptions_y              0 non-null      object \n",
      " 37  ProductNotifType            60040 non-null  object \n",
      " 38  ProductStatusType           60040 non-null  object \n",
      " 39  Contacts                    0 non-null      object \n",
      " 40  Taxes                       0 non-null      object \n",
      " 41  TPA_Extensions              60040 non-null  object \n",
      " 42  X-Correlation-ID            60040 non-null  object \n",
      " 43  Type                        60040 non-null  object \n",
      " 44  AppId                       60040 non-null  object \n",
      " 45  HotelCode                   60040 non-null  object \n",
      " 46  HotelName                   60040 non-null  object \n",
      " 47  ChainCode                   60040 non-null  object \n",
      " 48  StartSell                   60040 non-null  object \n",
      " 49  EndSell                     60040 non-null  object \n",
      " 50  Duration                    0 non-null      object \n",
      " 51  StartStay                   60040 non-null  object \n",
      " 52  EndStay                     60040 non-null  object \n",
      " 53  InventoryInfo               0 non-null      object \n",
      " 54  Restriction                 30016 non-null  object \n",
      " 55  Status                      30016 non-null  object \n",
      " 56  MinAdvancedBookingOffset_y  0 non-null      float64\n",
      " 57  MaxAdvancedBookingOffset_y  0 non-null      float64\n",
      " 58  CancelPolicyIndicator       60040 non-null  object \n",
      " 59  OffsetDropTime              60040 non-null  object \n",
      " 60  OffsetTimeUnit              60040 non-null  object \n",
      " 61  OffsetUnitMultiplier        60040 non-null  object \n",
      " 62  AbsoluteDeadline            0 non-null      object \n",
      " 63  TaxInclusive                0 non-null      object \n",
      " 64  FeesInclusive               0 non-null      object \n",
      " 65  Percent                     0 non-null      object \n",
      " 66  BasisType                   60040 non-null  object \n",
      " 67  Amount                      0 non-null      object \n",
      " 68  NmbrOfNights                60040 non-null  object \n",
      " 69  DecimalPlaces               0 non-null      object \n",
      " 70  CurrencyCode_y              0 non-null      object \n",
      "dtypes: float64(2), object(69)\n",
      "memory usage: 33.0+ MB\n"
     ]
    }
   ],
   "source": [
    "HotelProductNotifRQ_Messages_splited.info()"
   ]
  },
  {
   "cell_type": "code",
   "execution_count": 41,
   "id": "becoming-scientist",
   "metadata": {
    "ExecuteTime": {
     "end_time": "2022-04-01T09:04:49.595647Z",
     "start_time": "2022-04-01T09:04:49.508206Z"
    }
   },
   "outputs": [],
   "source": [
    "font = {'family' : 'sans serif',\n",
    "        'weight' : 'bold',\n",
    "        'size'   : 22}\n",
    "\n",
    "matplotlib.rc('font', **font)"
   ]
  },
  {
   "cell_type": "markdown",
   "id": "concerned-burlington",
   "metadata": {},
   "source": [
    "## HotelCode"
   ]
  },
  {
   "cell_type": "code",
   "execution_count": 42,
   "id": "owned-qualification",
   "metadata": {
    "ExecuteTime": {
     "end_time": "2022-04-01T09:04:49.700219Z",
     "start_time": "2022-04-01T09:04:49.596710Z"
    }
   },
   "outputs": [
    {
     "data": {
      "text/plain": [
       "GRT003014    148\n",
       "GRT003311    136\n",
       "GRT122078    128\n",
       "GRT002589    128\n",
       "GRT120228    128\n",
       "GRT122283    120\n",
       "GRT003928    120\n",
       "GRT120896    120\n",
       "GRT130002    116\n",
       "GRT121465    112\n",
       "GRT002697    112\n",
       "GRT300254    112\n",
       "GRT003598    112\n",
       "GRT121794    112\n",
       "GRT002650    104\n",
       "GRT171801    104\n",
       "GRT121985    104\n",
       "GRT121665     96\n",
       "GRT002807     96\n",
       "GRT121532     96\n",
       "GRT120701     96\n",
       "GRT003134     96\n",
       "GRT122175     96\n",
       "GRT121499     96\n",
       "GRT121736     96\n",
       "GRT121537     96\n",
       "GRT120547     96\n",
       "GRT122536     96\n",
       "GRT121440     96\n",
       "GRT120339     96\n",
       "Name: HotelCode, dtype: int64"
      ]
     },
     "execution_count": 42,
     "metadata": {},
     "output_type": "execute_result"
    }
   ],
   "source": [
    "HotelProductNotifRQ_Messages_splited['HotelCode'].value_counts().head(30)"
   ]
  },
  {
   "cell_type": "markdown",
   "id": "laden-baseline",
   "metadata": {},
   "source": [
    "## ChainCode"
   ]
  },
  {
   "cell_type": "code",
   "execution_count": 43,
   "id": "desperate-timothy",
   "metadata": {
    "ExecuteTime": {
     "end_time": "2022-04-01T09:04:49.808984Z",
     "start_time": "2022-04-01T09:04:49.701326Z"
    },
    "scrolled": false
   },
   "outputs": [
    {
     "data": {
      "text/plain": [
       "GRT    60040\n",
       "Name: ChainCode, dtype: int64"
      ]
     },
     "execution_count": 43,
     "metadata": {},
     "output_type": "execute_result"
    }
   ],
   "source": [
    "HotelProductNotifRQ_Messages_splited['ChainCode'].value_counts()"
   ]
  },
  {
   "cell_type": "markdown",
   "id": "later-interstate",
   "metadata": {},
   "source": [
    "## Number of hotels in msgs"
   ]
  },
  {
   "cell_type": "code",
   "execution_count": 44,
   "id": "pharmaceutical-canadian",
   "metadata": {
    "ExecuteTime": {
     "end_time": "2022-04-01T09:04:49.918503Z",
     "start_time": "2022-04-01T09:04:49.809986Z"
    }
   },
   "outputs": [
    {
     "data": {
      "text/plain": [
       "986"
      ]
     },
     "execution_count": 44,
     "metadata": {},
     "output_type": "execute_result"
    }
   ],
   "source": [
    "HotelProductNotifRQ_Messages_splited['HotelCode'].nunique()"
   ]
  },
  {
   "cell_type": "markdown",
   "id": "terminal-illinois",
   "metadata": {},
   "source": [
    "## RoomTypeCode"
   ]
  },
  {
   "cell_type": "code",
   "execution_count": 45,
   "id": "excessive-acoustic",
   "metadata": {
    "ExecuteTime": {
     "end_time": "2022-04-01T09:04:50.028160Z",
     "start_time": "2022-04-01T09:04:49.919646Z"
    }
   },
   "outputs": [
    {
     "data": {
      "text/plain": [
       "51"
      ]
     },
     "execution_count": 45,
     "metadata": {},
     "output_type": "execute_result"
    }
   ],
   "source": [
    "HotelProductNotifRQ_Messages_splited['RoomTypeCode'].nunique()"
   ]
  },
  {
   "cell_type": "code",
   "execution_count": 46,
   "id": "swiss-highland",
   "metadata": {
    "ExecuteTime": {
     "end_time": "2022-04-01T09:04:50.133146Z",
     "start_time": "2022-04-01T09:04:50.029261Z"
    },
    "scrolled": true
   },
   "outputs": [
    {
     "data": {
      "text/plain": [
       "RoomTypeCode  RoomTypeName      \n",
       "1             King Room             1776\n",
       "2             King Room             1176\n",
       "              Twin Room              820\n",
       "1             大床房                    788\n",
       "3             Twin Room              696\n",
       "2             双床房                    660\n",
       "3             双床房                    552\n",
       "              King Room              552\n",
       "              Premier Room           484\n",
       "2             大床房                    472\n",
       "1             Twin Room              412\n",
       "4             Premier Room           404\n",
       "              Twin Room              396\n",
       "7             Family Room            392\n",
       "3             高级大床房                  392\n",
       "6             Family Room            384\n",
       "3             Business King Room     384\n",
       "4             Premier Twin Room      380\n",
       "              Business King Room     380\n",
       "              Business Twin Room     372\n",
       "5             Premier Room           364\n",
       "              Family Room            360\n",
       "4             高级双床房                  336\n",
       "2             Premier Room           332\n",
       "4             双床房                    328\n",
       "6             家庭房                    324\n",
       "4             商务双床房                  320\n",
       "1             大床房,1.5m床              316\n",
       "5             Business King Room     312\n",
       "4             商务大床房                  312\n",
       "dtype: int64"
      ]
     },
     "execution_count": 46,
     "metadata": {},
     "output_type": "execute_result"
    }
   ],
   "source": [
    "HotelProductNotifRQ_Messages_splited[['RoomTypeCode', 'RoomTypeName']].value_counts().head(30)"
   ]
  },
  {
   "cell_type": "code",
   "execution_count": 47,
   "id": "fiscal-reply",
   "metadata": {
    "ExecuteTime": {
     "end_time": "2022-04-01T09:04:50.997532Z",
     "start_time": "2022-04-01T09:04:50.134269Z"
    }
   },
   "outputs": [
    {
     "data": {
      "image/png": "[encoded data removed]",
      "text/plain": [
       "<Figure size 1440x504 with 1 Axes>"
      ]
     },
     "metadata": {
      "needs_background": "light"
     },
     "output_type": "display_data"
    }
   ],
   "source": [
    "countplt, ax = plt.subplots(figsize = (20,7))\n",
    "ax = sns.countplot(x=\"RoomTypeCode\", data=HotelProductNotifRQ_Messages_splited)\n",
    "ax = plt.xticks(rotation=90)"
   ]
  },
  {
   "cell_type": "markdown",
   "id": "canadian-cherry",
   "metadata": {},
   "source": [
    "## NmbrOfNights"
   ]
  },
  {
   "cell_type": "code",
   "execution_count": 48,
   "id": "dynamic-passage",
   "metadata": {
    "ExecuteTime": {
     "end_time": "2022-04-01T09:04:51.006152Z",
     "start_time": "2022-04-01T09:04:50.998591Z"
    }
   },
   "outputs": [
    {
     "data": {
      "text/plain": [
       "1    60040\n",
       "Name: NmbrOfNights, dtype: int64"
      ]
     },
     "execution_count": 48,
     "metadata": {},
     "output_type": "execute_result"
    }
   ],
   "source": [
    "HotelProductNotifRQ_Messages_splited['NmbrOfNights'].value_counts()"
   ]
  },
  {
   "cell_type": "markdown",
   "id": "detailed-centre",
   "metadata": {},
   "source": [
    "## StartStay"
   ]
  },
  {
   "cell_type": "code",
   "execution_count": 49,
   "id": "union-spectacular",
   "metadata": {
    "ExecuteTime": {
     "end_time": "2022-04-01T09:04:51.264342Z",
     "start_time": "2022-04-01T09:04:51.007491Z"
    }
   },
   "outputs": [
    {
     "data": {
      "image/png": "[encoded data removed]",
      "text/plain": [
       "<Figure size 1440x504 with 1 Axes>"
      ]
     },
     "metadata": {
      "needs_background": "light"
     },
     "output_type": "display_data"
    }
   ],
   "source": [
    "countplt, ax = plt.subplots(figsize = (20,7))\n",
    "ax = sns.countplot(x=\"StartStay\", data=HotelProductNotifRQ_Messages_splited)"
   ]
  },
  {
   "cell_type": "markdown",
   "id": "sacred-summary",
   "metadata": {},
   "source": [
    "## Rate plans"
   ]
  },
  {
   "cell_type": "code",
   "execution_count": 50,
   "id": "coupled-lighting",
   "metadata": {
    "ExecuteTime": {
     "end_time": "2022-04-01T09:04:51.273395Z",
     "start_time": "2022-04-01T09:04:51.265442Z"
    }
   },
   "outputs": [
    {
     "data": {
      "text/plain": [
       "WHL10    60040\n",
       "Name: RatePlanCode, dtype: int64"
      ]
     },
     "execution_count": 50,
     "metadata": {},
     "output_type": "execute_result"
    }
   ],
   "source": [
    "HotelProductNotifRQ_Messages_splited['RatePlanCode'].value_counts()"
   ]
  },
  {
   "cell_type": "markdown",
   "id": "korean-mortgage",
   "metadata": {},
   "source": [
    "## MaxOccupancy"
   ]
  },
  {
   "cell_type": "code",
   "execution_count": 51,
   "id": "oriented-peace",
   "metadata": {
    "ExecuteTime": {
     "end_time": "2022-04-01T09:04:51.572329Z",
     "start_time": "2022-04-01T09:04:51.274472Z"
    }
   },
   "outputs": [
    {
     "data": {
      "image/png": "[encoded data removed]",
      "text/plain": [
       "<Figure size 1440x504 with 1 Axes>"
      ]
     },
     "metadata": {
      "needs_background": "light"
     },
     "output_type": "display_data"
    }
   ],
   "source": [
    "countplt, ax = plt.subplots(figsize = (20,7))\n",
    "ax = sns.countplot(x=\"MaxOccupancy\", data=HotelProductNotifRQ_Messages_splited)"
   ]
  },
  {
   "cell_type": "markdown",
   "id": "prescription-romance",
   "metadata": {},
   "source": [
    "## PaymentCode"
   ]
  },
  {
   "cell_type": "code",
   "execution_count": 52,
   "id": "pleased-robertson",
   "metadata": {
    "ExecuteTime": {
     "end_time": "2022-04-01T09:04:51.586864Z",
     "start_time": "2022-04-01T09:04:51.574121Z"
    },
    "scrolled": true
   },
   "outputs": [
    {
     "data": {
      "text/plain": [
       "PREPAY    60040\n",
       "Name: PaymentCode, dtype: int64"
      ]
     },
     "execution_count": 52,
     "metadata": {},
     "output_type": "execute_result"
    }
   ],
   "source": [
    "HotelProductNotifRQ_Messages_splited['PaymentCode'].value_counts()"
   ]
  },
  {
   "cell_type": "markdown",
   "id": "twenty-thesis",
   "metadata": {},
   "source": [
    "## Time"
   ]
  },
  {
   "cell_type": "code",
   "execution_count": 53,
   "id": "romance-ocean",
   "metadata": {
    "ExecuteTime": {
     "end_time": "2022-04-01T09:04:51.838439Z",
     "start_time": "2022-04-01T09:04:51.588116Z"
    },
    "scrolled": true
   },
   "outputs": [
    {
     "data": {
      "image/png": "[encoded data removed]",
      "text/plain": [
       "<Figure size 1440x504 with 1 Axes>"
      ]
     },
     "metadata": {
      "needs_background": "light"
     },
     "output_type": "display_data"
    }
   ],
   "source": [
    "countplt, ax = plt.subplots(figsize = (20,7))\n",
    "ax = sns.countplot(x=\"Time\", data=HotelProductNotifRQ_Messages_splited)"
   ]
  },
  {
   "cell_type": "markdown",
   "id": "allied-diagnosis",
   "metadata": {},
   "source": [
    "## OffsetDropTime"
   ]
  },
  {
   "cell_type": "code",
   "execution_count": 54,
   "id": "utility-community",
   "metadata": {
    "ExecuteTime": {
     "end_time": "2022-04-01T09:04:51.846554Z",
     "start_time": "2022-04-01T09:04:51.839692Z"
    },
    "scrolled": true
   },
   "outputs": [
    {
     "data": {
      "text/plain": [
       "BeforeArrival    60040\n",
       "Name: OffsetDropTime, dtype: int64"
      ]
     },
     "execution_count": 54,
     "metadata": {},
     "output_type": "execute_result"
    }
   ],
   "source": [
    "HotelProductNotifRQ_Messages_splited['OffsetDropTime'].value_counts()"
   ]
  },
  {
   "cell_type": "markdown",
   "id": "desperate-sullivan",
   "metadata": {},
   "source": [
    "## Text"
   ]
  },
  {
   "cell_type": "code",
   "execution_count": 55,
   "id": "expired-demand",
   "metadata": {
    "ExecuteTime": {
     "end_time": "2022-04-01T09:04:51.958281Z",
     "start_time": "2022-04-01T09:04:51.847475Z"
    },
    "scrolled": true
   },
   "outputs": [
    {
     "data": {
      "text/plain": [
       "Free cancel before 18:00 arrival day, else charge 1 night    60040\n",
       "Name: Text, dtype: int64"
      ]
     },
     "execution_count": 55,
     "metadata": {},
     "output_type": "execute_result"
    }
   ],
   "source": [
    "HotelProductNotifRQ_Messages_splited['Text'].value_counts()"
   ]
  }
 ],
 "metadata": {
  "hide_input": false,
  "kernelspec": {
   "display_name": "Python [conda env:root] *",
   "language": "python",
   "name": "conda-root-py"
  },
  "language_info": {
   "codemirror_mode": {
    "name": "ipython",
    "version": 3
   },
   "file_extension": ".py",
   "mimetype": "text/x-python",
   "name": "python",
   "nbconvert_exporter": "python",
   "pygments_lexer": "ipython3",
   "version": "3.8.5"
  },
  "latex_envs": {
   "LaTeX_envs_menu_present": true,
   "autoclose": false,
   "autocomplete": true,
   "bibliofile": "biblio.bib",
   "cite_by": "apalike",
   "current_citInitial": 1,
   "eqLabelWithNumbers": true,
   "eqNumInitial": 1,
   "hotkeys": {
    "equation": "Ctrl-E",
    "itemize": "Ctrl-I"
   },
   "labels_anchors": false,
   "latex_user_defs": false,
   "report_style_numbering": false,
   "user_envs_cfg": false
  },
  "toc": {
   "base_numbering": 1,
   "nav_menu": {},
   "number_sections": true,
   "sideBar": true,
   "skip_h1_title": false,
   "title_cell": "Table of Contents",
   "title_sidebar": "Contents",
   "toc_cell": false,
   "toc_position": {},
   "toc_section_display": true,
   "toc_window_display": false
  },
  "varInspector": {
   "cols": {
    "lenName": 16,
    "lenType": 16,
    "lenVar": 40
   },
   "kernels_config": {
    "python": {
     "delete_cmd_postfix": "",
     "delete_cmd_prefix": "del ",
     "library": "var_list.py",
     "varRefreshCmd": "print(var_dic_list())"
    },
    "r": {
     "delete_cmd_postfix": ") ",
     "delete_cmd_prefix": "rm(",
     "library": "var_list.r",
     "varRefreshCmd": "cat(var_dic_list()) "
    }
   },
   "types_to_exclude": [
    "module",
    "function",
    "builtin_function_or_method",
    "instance",
    "_Feature"
   ],
   "window_display": false
  }
 },
 "nbformat": 4,
 "nbformat_minor": 5
}
